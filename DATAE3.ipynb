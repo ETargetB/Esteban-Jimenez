{
 "cells": [
  {
   "cell_type": "code",
   "execution_count": 41,
   "id": "cdf46c0f",
   "metadata": {},
   "outputs": [],
   "source": [
    "import pandas as pd\n",
    "import datetime as dt\n",
    "import time as tm\n",
    "import numpy as np\n",
    "import matplotlib.pyplot as plt\n",
    "\n",
    "import sklearn\n",
    "\n",
    "from sklearn.cluster import KMeans\n",
    "from mpl_toolkits.mplot3d import Axes3D\n",
    "from sklearn.preprocessing import scale\n",
    "\n",
    "import sklearn.metrics as sm\n",
    "from sklearn import datasets\n",
    "from sklearn.metrics import confusion_matrix, classification_report\n",
    "from sklearn.preprocessing import StandardScaler\n",
    "\n",
    "import seaborn as sns\n",
    "\n",
    "import os\n",
    "import ipywidgets as widgets\n",
    "#import cartopy\n",
    "#import cartopy.crs as ccrs\n",
    "import plotly.graph_objects as go\n",
    "import dash\n",
    "import dash_core_components as dcc\n",
    "import dash_html_components as html\n",
    "from pandas.core.reshape.concat import concat\n",
    "import ipywidgets as widgets"
   ]
  },
  {
   "cell_type": "code",
   "execution_count": 2,
   "id": "21f9b9ef",
   "metadata": {},
   "outputs": [],
   "source": [
    "data = pd.read_csv(r'/Users/jose.jimenez/Downloads/CC_DATA_TEST_2.txt',sep =\",\", decimal=\",\")"
   ]
  },
  {
   "cell_type": "code",
   "execution_count": 3,
   "id": "31963f08",
   "metadata": {},
   "outputs": [
    {
     "data": {
      "text/html": [
       "<div>\n",
       "<style scoped>\n",
       "    .dataframe tbody tr th:only-of-type {\n",
       "        vertical-align: middle;\n",
       "    }\n",
       "\n",
       "    .dataframe tbody tr th {\n",
       "        vertical-align: top;\n",
       "    }\n",
       "\n",
       "    .dataframe thead th {\n",
       "        text-align: right;\n",
       "    }\n",
       "</style>\n",
       "<table border=\"1\" class=\"dataframe\">\n",
       "  <thead>\n",
       "    <tr style=\"text-align: right;\">\n",
       "      <th></th>\n",
       "      <th>WELLNESS_PLAN_NAME</th>\n",
       "      <th>SERVICE_NAME</th>\n",
       "      <th>Clients</th>\n",
       "      <th>Number_Pets</th>\n",
       "    </tr>\n",
       "  </thead>\n",
       "  <tbody>\n",
       "    <tr>\n",
       "      <th>0</th>\n",
       "      <td>Adult Access Canine Canada</td>\n",
       "      <td>CareClub Checkup Exam</td>\n",
       "      <td>29</td>\n",
       "      <td>29</td>\n",
       "    </tr>\n",
       "    <tr>\n",
       "      <th>1</th>\n",
       "      <td>Adult Access Canine Canada</td>\n",
       "      <td>Canine Adult Bordetella Vaccine</td>\n",
       "      <td>29</td>\n",
       "      <td>29</td>\n",
       "    </tr>\n",
       "    <tr>\n",
       "      <th>2</th>\n",
       "      <td>Adult Access Canine Canada</td>\n",
       "      <td>Wellness Exam</td>\n",
       "      <td>29</td>\n",
       "      <td>29</td>\n",
       "    </tr>\n",
       "    <tr>\n",
       "      <th>3</th>\n",
       "      <td>Adult Access Canine Canada</td>\n",
       "      <td>Service Rounding Adjustment</td>\n",
       "      <td>29</td>\n",
       "      <td>29</td>\n",
       "    </tr>\n",
       "    <tr>\n",
       "      <th>4</th>\n",
       "      <td>Adult Access Canine Canada</td>\n",
       "      <td>Nail Trim</td>\n",
       "      <td>29</td>\n",
       "      <td>29</td>\n",
       "    </tr>\n",
       "    <tr>\n",
       "      <th>5</th>\n",
       "      <td>Adult Access Canine Canada</td>\n",
       "      <td>Canine Adult Rabies Vaccine</td>\n",
       "      <td>29</td>\n",
       "      <td>29</td>\n",
       "    </tr>\n",
       "    <tr>\n",
       "      <th>6</th>\n",
       "      <td>Adult Access Canine Canada</td>\n",
       "      <td>Fecal/Parasite Test</td>\n",
       "      <td>29</td>\n",
       "      <td>29</td>\n",
       "    </tr>\n",
       "    <tr>\n",
       "      <th>7</th>\n",
       "      <td>Adult Access Canine Canada</td>\n",
       "      <td>Canine Adult Distemper/Parvo Combo Vaccine</td>\n",
       "      <td>29</td>\n",
       "      <td>29</td>\n",
       "    </tr>\n",
       "    <tr>\n",
       "      <th>8</th>\n",
       "      <td>Adult Access Canine Canada</td>\n",
       "      <td>Basic Labwork Canada</td>\n",
       "      <td>9</td>\n",
       "      <td>9</td>\n",
       "    </tr>\n",
       "    <tr>\n",
       "      <th>9</th>\n",
       "      <td>Adult Access Canine Canada</td>\n",
       "      <td>Pain Managment K9 Dental</td>\n",
       "      <td>5</td>\n",
       "      <td>5</td>\n",
       "    </tr>\n",
       "  </tbody>\n",
       "</table>\n",
       "</div>"
      ],
      "text/plain": [
       "           WELLNESS_PLAN_NAME                                SERVICE_NAME  \\\n",
       "0  Adult Access Canine Canada                       CareClub Checkup Exam   \n",
       "1  Adult Access Canine Canada             Canine Adult Bordetella Vaccine   \n",
       "2  Adult Access Canine Canada                               Wellness Exam   \n",
       "3  Adult Access Canine Canada                 Service Rounding Adjustment   \n",
       "4  Adult Access Canine Canada                                   Nail Trim   \n",
       "5  Adult Access Canine Canada                 Canine Adult Rabies Vaccine   \n",
       "6  Adult Access Canine Canada                         Fecal/Parasite Test   \n",
       "7  Adult Access Canine Canada  Canine Adult Distemper/Parvo Combo Vaccine   \n",
       "8  Adult Access Canine Canada                        Basic Labwork Canada   \n",
       "9  Adult Access Canine Canada                    Pain Managment K9 Dental   \n",
       "\n",
       "   Clients  Number_Pets  \n",
       "0       29           29  \n",
       "1       29           29  \n",
       "2       29           29  \n",
       "3       29           29  \n",
       "4       29           29  \n",
       "5       29           29  \n",
       "6       29           29  \n",
       "7       29           29  \n",
       "8        9            9  \n",
       "9        5            5  "
      ]
     },
     "execution_count": 3,
     "metadata": {},
     "output_type": "execute_result"
    }
   ],
   "source": [
    "data.head(10)"
   ]
  },
  {
   "cell_type": "code",
   "execution_count": 36,
   "id": "a31574ca",
   "metadata": {},
   "outputs": [
    {
     "data": {
      "text/html": [
       "<div>\n",
       "<style scoped>\n",
       "    .dataframe tbody tr th:only-of-type {\n",
       "        vertical-align: middle;\n",
       "    }\n",
       "\n",
       "    .dataframe tbody tr th {\n",
       "        vertical-align: top;\n",
       "    }\n",
       "\n",
       "    .dataframe thead th {\n",
       "        text-align: right;\n",
       "    }\n",
       "</style>\n",
       "<table border=\"1\" class=\"dataframe\">\n",
       "  <thead>\n",
       "    <tr style=\"text-align: right;\">\n",
       "      <th></th>\n",
       "      <th>Clients</th>\n",
       "      <th>Number_Pets</th>\n",
       "    </tr>\n",
       "  </thead>\n",
       "  <tbody>\n",
       "    <tr>\n",
       "      <th>count</th>\n",
       "      <td>826.000000</td>\n",
       "      <td>826.000000</td>\n",
       "    </tr>\n",
       "    <tr>\n",
       "      <th>mean</th>\n",
       "      <td>1521.665860</td>\n",
       "      <td>1512.164649</td>\n",
       "    </tr>\n",
       "    <tr>\n",
       "      <th>std</th>\n",
       "      <td>5279.399132</td>\n",
       "      <td>5253.170662</td>\n",
       "    </tr>\n",
       "    <tr>\n",
       "      <th>min</th>\n",
       "      <td>1.000000</td>\n",
       "      <td>1.000000</td>\n",
       "    </tr>\n",
       "    <tr>\n",
       "      <th>25%</th>\n",
       "      <td>9.000000</td>\n",
       "      <td>9.000000</td>\n",
       "    </tr>\n",
       "    <tr>\n",
       "      <th>50%</th>\n",
       "      <td>49.000000</td>\n",
       "      <td>49.000000</td>\n",
       "    </tr>\n",
       "    <tr>\n",
       "      <th>75%</th>\n",
       "      <td>269.000000</td>\n",
       "      <td>258.000000</td>\n",
       "    </tr>\n",
       "    <tr>\n",
       "      <th>max</th>\n",
       "      <td>41319.000000</td>\n",
       "      <td>41191.000000</td>\n",
       "    </tr>\n",
       "  </tbody>\n",
       "</table>\n",
       "</div>"
      ],
      "text/plain": [
       "            Clients   Number_Pets\n",
       "count    826.000000    826.000000\n",
       "mean    1521.665860   1512.164649\n",
       "std     5279.399132   5253.170662\n",
       "min        1.000000      1.000000\n",
       "25%        9.000000      9.000000\n",
       "50%       49.000000     49.000000\n",
       "75%      269.000000    258.000000\n",
       "max    41319.000000  41191.000000"
      ]
     },
     "execution_count": 36,
     "metadata": {},
     "output_type": "execute_result"
    }
   ],
   "source": [
    "data.describe()"
   ]
  },
  {
   "cell_type": "code",
   "execution_count": 39,
   "id": "f5665e90",
   "metadata": {},
   "outputs": [
    {
     "data": {
      "text/html": [
       "<div>\n",
       "<style scoped>\n",
       "    .dataframe tbody tr th:only-of-type {\n",
       "        vertical-align: middle;\n",
       "    }\n",
       "\n",
       "    .dataframe tbody tr th {\n",
       "        vertical-align: top;\n",
       "    }\n",
       "\n",
       "    .dataframe thead th {\n",
       "        text-align: right;\n",
       "    }\n",
       "</style>\n",
       "<table border=\"1\" class=\"dataframe\">\n",
       "  <thead>\n",
       "    <tr style=\"text-align: right;\">\n",
       "      <th>SERVICE_NAME</th>\n",
       "      <th>Abdominal Cryptorchid add to neuter K9</th>\n",
       "      <th>Accuplex K9</th>\n",
       "      <th>Additonal Fecal exam</th>\n",
       "      <th>Adult Wellness Fel</th>\n",
       "      <th>Adult Wellness K9</th>\n",
       "      <th>Advanced Labwork Canada</th>\n",
       "      <th>Anal Sac Expression Canada</th>\n",
       "      <th>Basic Labwork Canada</th>\n",
       "      <th>Blood Pressure Fel</th>\n",
       "      <th>Blood Pressure Fel.</th>\n",
       "      <th>...</th>\n",
       "      <th>Sedation Radiology.</th>\n",
       "      <th>Senior Lab Panel Fel</th>\n",
       "      <th>Senior Lab Panel K9</th>\n",
       "      <th>Service Rounding Adjustment</th>\n",
       "      <th>Single region Studies Fel.</th>\n",
       "      <th>Single region Studies.</th>\n",
       "      <th>Surgical Pain Management</th>\n",
       "      <th>UPC K9</th>\n",
       "      <th>Umbilical hernia ADD add to spay</th>\n",
       "      <th>Wellness Exam</th>\n",
       "    </tr>\n",
       "    <tr>\n",
       "      <th>WELLNESS_PLAN_NAME</th>\n",
       "      <th></th>\n",
       "      <th></th>\n",
       "      <th></th>\n",
       "      <th></th>\n",
       "      <th></th>\n",
       "      <th></th>\n",
       "      <th></th>\n",
       "      <th></th>\n",
       "      <th></th>\n",
       "      <th></th>\n",
       "      <th></th>\n",
       "      <th></th>\n",
       "      <th></th>\n",
       "      <th></th>\n",
       "      <th></th>\n",
       "      <th></th>\n",
       "      <th></th>\n",
       "      <th></th>\n",
       "      <th></th>\n",
       "      <th></th>\n",
       "      <th></th>\n",
       "    </tr>\n",
       "  </thead>\n",
       "  <tbody>\n",
       "    <tr>\n",
       "      <th>Adult Access Canine Canada</th>\n",
       "      <td>0</td>\n",
       "      <td>0</td>\n",
       "      <td>0</td>\n",
       "      <td>0</td>\n",
       "      <td>0</td>\n",
       "      <td>0</td>\n",
       "      <td>1</td>\n",
       "      <td>9</td>\n",
       "      <td>0</td>\n",
       "      <td>0</td>\n",
       "      <td>...</td>\n",
       "      <td>0</td>\n",
       "      <td>0</td>\n",
       "      <td>0</td>\n",
       "      <td>29</td>\n",
       "      <td>0</td>\n",
       "      <td>0</td>\n",
       "      <td>0</td>\n",
       "      <td>0</td>\n",
       "      <td>0</td>\n",
       "      <td>29</td>\n",
       "    </tr>\n",
       "    <tr>\n",
       "      <th>Adult Access Feline Canada</th>\n",
       "      <td>0</td>\n",
       "      <td>0</td>\n",
       "      <td>0</td>\n",
       "      <td>0</td>\n",
       "      <td>0</td>\n",
       "      <td>3</td>\n",
       "      <td>0</td>\n",
       "      <td>2</td>\n",
       "      <td>0</td>\n",
       "      <td>0</td>\n",
       "      <td>...</td>\n",
       "      <td>0</td>\n",
       "      <td>0</td>\n",
       "      <td>0</td>\n",
       "      <td>11</td>\n",
       "      <td>0</td>\n",
       "      <td>0</td>\n",
       "      <td>0</td>\n",
       "      <td>0</td>\n",
       "      <td>0</td>\n",
       "      <td>11</td>\n",
       "    </tr>\n",
       "    <tr>\n",
       "      <th>Adult Access for Cats</th>\n",
       "      <td>0</td>\n",
       "      <td>0</td>\n",
       "      <td>0</td>\n",
       "      <td>33</td>\n",
       "      <td>0</td>\n",
       "      <td>0</td>\n",
       "      <td>0</td>\n",
       "      <td>0</td>\n",
       "      <td>17</td>\n",
       "      <td>0</td>\n",
       "      <td>...</td>\n",
       "      <td>0</td>\n",
       "      <td>0</td>\n",
       "      <td>0</td>\n",
       "      <td>71</td>\n",
       "      <td>2</td>\n",
       "      <td>0</td>\n",
       "      <td>0</td>\n",
       "      <td>0</td>\n",
       "      <td>0</td>\n",
       "      <td>86</td>\n",
       "    </tr>\n",
       "    <tr>\n",
       "      <th>Adult Access for Dogs</th>\n",
       "      <td>1</td>\n",
       "      <td>24</td>\n",
       "      <td>1</td>\n",
       "      <td>0</td>\n",
       "      <td>128</td>\n",
       "      <td>0</td>\n",
       "      <td>0</td>\n",
       "      <td>0</td>\n",
       "      <td>0</td>\n",
       "      <td>0</td>\n",
       "      <td>...</td>\n",
       "      <td>3</td>\n",
       "      <td>0</td>\n",
       "      <td>0</td>\n",
       "      <td>244</td>\n",
       "      <td>0</td>\n",
       "      <td>3</td>\n",
       "      <td>0</td>\n",
       "      <td>0</td>\n",
       "      <td>0</td>\n",
       "      <td>269</td>\n",
       "    </tr>\n",
       "    <tr>\n",
       "      <th>Adult Essentials for Cats</th>\n",
       "      <td>0</td>\n",
       "      <td>0</td>\n",
       "      <td>0</td>\n",
       "      <td>0</td>\n",
       "      <td>0</td>\n",
       "      <td>0</td>\n",
       "      <td>0</td>\n",
       "      <td>0</td>\n",
       "      <td>0</td>\n",
       "      <td>0</td>\n",
       "      <td>...</td>\n",
       "      <td>0</td>\n",
       "      <td>0</td>\n",
       "      <td>0</td>\n",
       "      <td>10</td>\n",
       "      <td>0</td>\n",
       "      <td>0</td>\n",
       "      <td>0</td>\n",
       "      <td>0</td>\n",
       "      <td>0</td>\n",
       "      <td>26</td>\n",
       "    </tr>\n",
       "    <tr>\n",
       "      <th>Adult Paws Plus Cat Canada</th>\n",
       "      <td>0</td>\n",
       "      <td>0</td>\n",
       "      <td>0</td>\n",
       "      <td>0</td>\n",
       "      <td>0</td>\n",
       "      <td>0</td>\n",
       "      <td>0</td>\n",
       "      <td>0</td>\n",
       "      <td>0</td>\n",
       "      <td>0</td>\n",
       "      <td>...</td>\n",
       "      <td>0</td>\n",
       "      <td>0</td>\n",
       "      <td>0</td>\n",
       "      <td>68</td>\n",
       "      <td>0</td>\n",
       "      <td>0</td>\n",
       "      <td>89</td>\n",
       "      <td>0</td>\n",
       "      <td>0</td>\n",
       "      <td>89</td>\n",
       "    </tr>\n",
       "    <tr>\n",
       "      <th>Adult Paws Plus Dog Canada</th>\n",
       "      <td>0</td>\n",
       "      <td>0</td>\n",
       "      <td>0</td>\n",
       "      <td>0</td>\n",
       "      <td>0</td>\n",
       "      <td>0</td>\n",
       "      <td>0</td>\n",
       "      <td>0</td>\n",
       "      <td>0</td>\n",
       "      <td>0</td>\n",
       "      <td>...</td>\n",
       "      <td>0</td>\n",
       "      <td>0</td>\n",
       "      <td>0</td>\n",
       "      <td>90</td>\n",
       "      <td>0</td>\n",
       "      <td>0</td>\n",
       "      <td>145</td>\n",
       "      <td>0</td>\n",
       "      <td>0</td>\n",
       "      <td>145</td>\n",
       "    </tr>\n",
       "    <tr>\n",
       "      <th>Adult Paws Plus for Cats</th>\n",
       "      <td>0</td>\n",
       "      <td>0</td>\n",
       "      <td>0</td>\n",
       "      <td>0</td>\n",
       "      <td>0</td>\n",
       "      <td>0</td>\n",
       "      <td>0</td>\n",
       "      <td>0</td>\n",
       "      <td>0</td>\n",
       "      <td>0</td>\n",
       "      <td>...</td>\n",
       "      <td>0</td>\n",
       "      <td>0</td>\n",
       "      <td>0</td>\n",
       "      <td>735</td>\n",
       "      <td>0</td>\n",
       "      <td>0</td>\n",
       "      <td>6</td>\n",
       "      <td>0</td>\n",
       "      <td>0</td>\n",
       "      <td>1062</td>\n",
       "    </tr>\n",
       "    <tr>\n",
       "      <th>Adult Paws Plus for Dogs</th>\n",
       "      <td>0</td>\n",
       "      <td>0</td>\n",
       "      <td>0</td>\n",
       "      <td>0</td>\n",
       "      <td>0</td>\n",
       "      <td>0</td>\n",
       "      <td>0</td>\n",
       "      <td>0</td>\n",
       "      <td>0</td>\n",
       "      <td>0</td>\n",
       "      <td>...</td>\n",
       "      <td>0</td>\n",
       "      <td>0</td>\n",
       "      <td>0</td>\n",
       "      <td>2599</td>\n",
       "      <td>0</td>\n",
       "      <td>0</td>\n",
       "      <td>16</td>\n",
       "      <td>0</td>\n",
       "      <td>0</td>\n",
       "      <td>3572</td>\n",
       "    </tr>\n",
       "    <tr>\n",
       "      <th>Adult Paws for Cat Canada</th>\n",
       "      <td>0</td>\n",
       "      <td>0</td>\n",
       "      <td>0</td>\n",
       "      <td>0</td>\n",
       "      <td>0</td>\n",
       "      <td>0</td>\n",
       "      <td>0</td>\n",
       "      <td>0</td>\n",
       "      <td>0</td>\n",
       "      <td>0</td>\n",
       "      <td>...</td>\n",
       "      <td>0</td>\n",
       "      <td>0</td>\n",
       "      <td>0</td>\n",
       "      <td>172</td>\n",
       "      <td>0</td>\n",
       "      <td>0</td>\n",
       "      <td>0</td>\n",
       "      <td>0</td>\n",
       "      <td>0</td>\n",
       "      <td>229</td>\n",
       "    </tr>\n",
       "    <tr>\n",
       "      <th>Adult Paws for Cats</th>\n",
       "      <td>0</td>\n",
       "      <td>0</td>\n",
       "      <td>0</td>\n",
       "      <td>0</td>\n",
       "      <td>0</td>\n",
       "      <td>0</td>\n",
       "      <td>0</td>\n",
       "      <td>0</td>\n",
       "      <td>0</td>\n",
       "      <td>0</td>\n",
       "      <td>...</td>\n",
       "      <td>0</td>\n",
       "      <td>0</td>\n",
       "      <td>0</td>\n",
       "      <td>6022</td>\n",
       "      <td>0</td>\n",
       "      <td>0</td>\n",
       "      <td>0</td>\n",
       "      <td>0</td>\n",
       "      <td>0</td>\n",
       "      <td>8773</td>\n",
       "    </tr>\n",
       "    <tr>\n",
       "      <th>Adult Paws for Dog Canada</th>\n",
       "      <td>0</td>\n",
       "      <td>0</td>\n",
       "      <td>0</td>\n",
       "      <td>0</td>\n",
       "      <td>0</td>\n",
       "      <td>0</td>\n",
       "      <td>0</td>\n",
       "      <td>0</td>\n",
       "      <td>0</td>\n",
       "      <td>0</td>\n",
       "      <td>...</td>\n",
       "      <td>0</td>\n",
       "      <td>0</td>\n",
       "      <td>0</td>\n",
       "      <td>678</td>\n",
       "      <td>0</td>\n",
       "      <td>0</td>\n",
       "      <td>0</td>\n",
       "      <td>0</td>\n",
       "      <td>0</td>\n",
       "      <td>961</td>\n",
       "    </tr>\n",
       "    <tr>\n",
       "      <th>Adult Paws for Dogs</th>\n",
       "      <td>0</td>\n",
       "      <td>0</td>\n",
       "      <td>0</td>\n",
       "      <td>0</td>\n",
       "      <td>0</td>\n",
       "      <td>0</td>\n",
       "      <td>0</td>\n",
       "      <td>0</td>\n",
       "      <td>0</td>\n",
       "      <td>0</td>\n",
       "      <td>...</td>\n",
       "      <td>0</td>\n",
       "      <td>0</td>\n",
       "      <td>0</td>\n",
       "      <td>29599</td>\n",
       "      <td>0</td>\n",
       "      <td>0</td>\n",
       "      <td>0</td>\n",
       "      <td>0</td>\n",
       "      <td>0</td>\n",
       "      <td>41319</td>\n",
       "    </tr>\n",
       "    <tr>\n",
       "      <th>Adult Premier for Cats</th>\n",
       "      <td>0</td>\n",
       "      <td>0</td>\n",
       "      <td>0</td>\n",
       "      <td>0</td>\n",
       "      <td>0</td>\n",
       "      <td>0</td>\n",
       "      <td>0</td>\n",
       "      <td>0</td>\n",
       "      <td>0</td>\n",
       "      <td>0</td>\n",
       "      <td>...</td>\n",
       "      <td>0</td>\n",
       "      <td>0</td>\n",
       "      <td>0</td>\n",
       "      <td>3</td>\n",
       "      <td>0</td>\n",
       "      <td>0</td>\n",
       "      <td>0</td>\n",
       "      <td>0</td>\n",
       "      <td>0</td>\n",
       "      <td>4</td>\n",
       "    </tr>\n",
       "    <tr>\n",
       "      <th>Junior Access Canine Canada</th>\n",
       "      <td>0</td>\n",
       "      <td>0</td>\n",
       "      <td>0</td>\n",
       "      <td>0</td>\n",
       "      <td>0</td>\n",
       "      <td>0</td>\n",
       "      <td>0</td>\n",
       "      <td>19</td>\n",
       "      <td>0</td>\n",
       "      <td>0</td>\n",
       "      <td>...</td>\n",
       "      <td>0</td>\n",
       "      <td>0</td>\n",
       "      <td>0</td>\n",
       "      <td>33</td>\n",
       "      <td>0</td>\n",
       "      <td>0</td>\n",
       "      <td>0</td>\n",
       "      <td>0</td>\n",
       "      <td>0</td>\n",
       "      <td>0</td>\n",
       "    </tr>\n",
       "    <tr>\n",
       "      <th>Junior Access Feline Canada</th>\n",
       "      <td>0</td>\n",
       "      <td>0</td>\n",
       "      <td>0</td>\n",
       "      <td>0</td>\n",
       "      <td>0</td>\n",
       "      <td>0</td>\n",
       "      <td>0</td>\n",
       "      <td>6</td>\n",
       "      <td>0</td>\n",
       "      <td>0</td>\n",
       "      <td>...</td>\n",
       "      <td>0</td>\n",
       "      <td>0</td>\n",
       "      <td>0</td>\n",
       "      <td>10</td>\n",
       "      <td>0</td>\n",
       "      <td>0</td>\n",
       "      <td>0</td>\n",
       "      <td>0</td>\n",
       "      <td>0</td>\n",
       "      <td>0</td>\n",
       "    </tr>\n",
       "    <tr>\n",
       "      <th>Junior Access for Cats</th>\n",
       "      <td>0</td>\n",
       "      <td>0</td>\n",
       "      <td>11</td>\n",
       "      <td>0</td>\n",
       "      <td>0</td>\n",
       "      <td>0</td>\n",
       "      <td>0</td>\n",
       "      <td>0</td>\n",
       "      <td>0</td>\n",
       "      <td>0</td>\n",
       "      <td>...</td>\n",
       "      <td>0</td>\n",
       "      <td>0</td>\n",
       "      <td>0</td>\n",
       "      <td>104</td>\n",
       "      <td>0</td>\n",
       "      <td>0</td>\n",
       "      <td>0</td>\n",
       "      <td>0</td>\n",
       "      <td>0</td>\n",
       "      <td>0</td>\n",
       "    </tr>\n",
       "    <tr>\n",
       "      <th>Junior Access for Dogs</th>\n",
       "      <td>1</td>\n",
       "      <td>51</td>\n",
       "      <td>21</td>\n",
       "      <td>0</td>\n",
       "      <td>0</td>\n",
       "      <td>0</td>\n",
       "      <td>0</td>\n",
       "      <td>0</td>\n",
       "      <td>0</td>\n",
       "      <td>0</td>\n",
       "      <td>...</td>\n",
       "      <td>0</td>\n",
       "      <td>0</td>\n",
       "      <td>0</td>\n",
       "      <td>223</td>\n",
       "      <td>0</td>\n",
       "      <td>0</td>\n",
       "      <td>0</td>\n",
       "      <td>0</td>\n",
       "      <td>1</td>\n",
       "      <td>0</td>\n",
       "    </tr>\n",
       "    <tr>\n",
       "      <th>Junior Cat Plus Spay Canada</th>\n",
       "      <td>0</td>\n",
       "      <td>0</td>\n",
       "      <td>0</td>\n",
       "      <td>0</td>\n",
       "      <td>0</td>\n",
       "      <td>0</td>\n",
       "      <td>0</td>\n",
       "      <td>0</td>\n",
       "      <td>0</td>\n",
       "      <td>0</td>\n",
       "      <td>...</td>\n",
       "      <td>0</td>\n",
       "      <td>0</td>\n",
       "      <td>0</td>\n",
       "      <td>101</td>\n",
       "      <td>0</td>\n",
       "      <td>0</td>\n",
       "      <td>0</td>\n",
       "      <td>0</td>\n",
       "      <td>0</td>\n",
       "      <td>0</td>\n",
       "    </tr>\n",
       "    <tr>\n",
       "      <th>Junior Cats Plus Neuter Canada</th>\n",
       "      <td>0</td>\n",
       "      <td>0</td>\n",
       "      <td>0</td>\n",
       "      <td>0</td>\n",
       "      <td>0</td>\n",
       "      <td>0</td>\n",
       "      <td>0</td>\n",
       "      <td>0</td>\n",
       "      <td>0</td>\n",
       "      <td>0</td>\n",
       "      <td>...</td>\n",
       "      <td>0</td>\n",
       "      <td>0</td>\n",
       "      <td>0</td>\n",
       "      <td>96</td>\n",
       "      <td>0</td>\n",
       "      <td>0</td>\n",
       "      <td>0</td>\n",
       "      <td>0</td>\n",
       "      <td>0</td>\n",
       "      <td>0</td>\n",
       "    </tr>\n",
       "    <tr>\n",
       "      <th>Junior Dog Plus Neuter Canada</th>\n",
       "      <td>0</td>\n",
       "      <td>0</td>\n",
       "      <td>0</td>\n",
       "      <td>0</td>\n",
       "      <td>0</td>\n",
       "      <td>0</td>\n",
       "      <td>0</td>\n",
       "      <td>0</td>\n",
       "      <td>0</td>\n",
       "      <td>0</td>\n",
       "      <td>...</td>\n",
       "      <td>0</td>\n",
       "      <td>0</td>\n",
       "      <td>0</td>\n",
       "      <td>344</td>\n",
       "      <td>0</td>\n",
       "      <td>0</td>\n",
       "      <td>0</td>\n",
       "      <td>0</td>\n",
       "      <td>0</td>\n",
       "      <td>0</td>\n",
       "    </tr>\n",
       "    <tr>\n",
       "      <th>Junior Dogs Plus Spay Canada</th>\n",
       "      <td>0</td>\n",
       "      <td>0</td>\n",
       "      <td>0</td>\n",
       "      <td>0</td>\n",
       "      <td>0</td>\n",
       "      <td>0</td>\n",
       "      <td>0</td>\n",
       "      <td>0</td>\n",
       "      <td>0</td>\n",
       "      <td>0</td>\n",
       "      <td>...</td>\n",
       "      <td>0</td>\n",
       "      <td>0</td>\n",
       "      <td>0</td>\n",
       "      <td>251</td>\n",
       "      <td>0</td>\n",
       "      <td>0</td>\n",
       "      <td>0</td>\n",
       "      <td>0</td>\n",
       "      <td>0</td>\n",
       "      <td>0</td>\n",
       "    </tr>\n",
       "    <tr>\n",
       "      <th>Junior Paws Plus Kitten Neuter</th>\n",
       "      <td>0</td>\n",
       "      <td>0</td>\n",
       "      <td>0</td>\n",
       "      <td>0</td>\n",
       "      <td>0</td>\n",
       "      <td>0</td>\n",
       "      <td>0</td>\n",
       "      <td>0</td>\n",
       "      <td>0</td>\n",
       "      <td>0</td>\n",
       "      <td>...</td>\n",
       "      <td>0</td>\n",
       "      <td>0</td>\n",
       "      <td>0</td>\n",
       "      <td>4</td>\n",
       "      <td>0</td>\n",
       "      <td>0</td>\n",
       "      <td>0</td>\n",
       "      <td>0</td>\n",
       "      <td>0</td>\n",
       "      <td>0</td>\n",
       "    </tr>\n",
       "    <tr>\n",
       "      <th>Junior Paws Plus Kitten Spay</th>\n",
       "      <td>0</td>\n",
       "      <td>0</td>\n",
       "      <td>0</td>\n",
       "      <td>0</td>\n",
       "      <td>0</td>\n",
       "      <td>0</td>\n",
       "      <td>0</td>\n",
       "      <td>0</td>\n",
       "      <td>0</td>\n",
       "      <td>0</td>\n",
       "      <td>...</td>\n",
       "      <td>0</td>\n",
       "      <td>0</td>\n",
       "      <td>0</td>\n",
       "      <td>8</td>\n",
       "      <td>0</td>\n",
       "      <td>0</td>\n",
       "      <td>0</td>\n",
       "      <td>0</td>\n",
       "      <td>0</td>\n",
       "      <td>0</td>\n",
       "    </tr>\n",
       "    <tr>\n",
       "      <th>Junior Paws Plus Puppy Neuter</th>\n",
       "      <td>0</td>\n",
       "      <td>0</td>\n",
       "      <td>0</td>\n",
       "      <td>0</td>\n",
       "      <td>0</td>\n",
       "      <td>0</td>\n",
       "      <td>0</td>\n",
       "      <td>0</td>\n",
       "      <td>0</td>\n",
       "      <td>0</td>\n",
       "      <td>...</td>\n",
       "      <td>0</td>\n",
       "      <td>0</td>\n",
       "      <td>0</td>\n",
       "      <td>24</td>\n",
       "      <td>0</td>\n",
       "      <td>0</td>\n",
       "      <td>0</td>\n",
       "      <td>0</td>\n",
       "      <td>0</td>\n",
       "      <td>0</td>\n",
       "    </tr>\n",
       "    <tr>\n",
       "      <th>Junior Paws Plus Puppy Spay</th>\n",
       "      <td>0</td>\n",
       "      <td>0</td>\n",
       "      <td>0</td>\n",
       "      <td>0</td>\n",
       "      <td>0</td>\n",
       "      <td>0</td>\n",
       "      <td>0</td>\n",
       "      <td>0</td>\n",
       "      <td>0</td>\n",
       "      <td>0</td>\n",
       "      <td>...</td>\n",
       "      <td>0</td>\n",
       "      <td>0</td>\n",
       "      <td>0</td>\n",
       "      <td>16</td>\n",
       "      <td>0</td>\n",
       "      <td>0</td>\n",
       "      <td>0</td>\n",
       "      <td>0</td>\n",
       "      <td>0</td>\n",
       "      <td>0</td>\n",
       "    </tr>\n",
       "    <tr>\n",
       "      <th>Junior Paws for Cats</th>\n",
       "      <td>0</td>\n",
       "      <td>0</td>\n",
       "      <td>0</td>\n",
       "      <td>0</td>\n",
       "      <td>0</td>\n",
       "      <td>0</td>\n",
       "      <td>0</td>\n",
       "      <td>0</td>\n",
       "      <td>0</td>\n",
       "      <td>0</td>\n",
       "      <td>...</td>\n",
       "      <td>0</td>\n",
       "      <td>0</td>\n",
       "      <td>0</td>\n",
       "      <td>4127</td>\n",
       "      <td>0</td>\n",
       "      <td>0</td>\n",
       "      <td>0</td>\n",
       "      <td>0</td>\n",
       "      <td>0</td>\n",
       "      <td>0</td>\n",
       "    </tr>\n",
       "    <tr>\n",
       "      <th>Junior Paws for Cats Canada</th>\n",
       "      <td>0</td>\n",
       "      <td>0</td>\n",
       "      <td>0</td>\n",
       "      <td>0</td>\n",
       "      <td>0</td>\n",
       "      <td>0</td>\n",
       "      <td>0</td>\n",
       "      <td>0</td>\n",
       "      <td>0</td>\n",
       "      <td>0</td>\n",
       "      <td>...</td>\n",
       "      <td>0</td>\n",
       "      <td>0</td>\n",
       "      <td>0</td>\n",
       "      <td>31</td>\n",
       "      <td>0</td>\n",
       "      <td>0</td>\n",
       "      <td>0</td>\n",
       "      <td>0</td>\n",
       "      <td>0</td>\n",
       "      <td>0</td>\n",
       "    </tr>\n",
       "    <tr>\n",
       "      <th>Junior Paws for Dogs</th>\n",
       "      <td>0</td>\n",
       "      <td>0</td>\n",
       "      <td>0</td>\n",
       "      <td>0</td>\n",
       "      <td>0</td>\n",
       "      <td>0</td>\n",
       "      <td>0</td>\n",
       "      <td>0</td>\n",
       "      <td>0</td>\n",
       "      <td>0</td>\n",
       "      <td>...</td>\n",
       "      <td>0</td>\n",
       "      <td>0</td>\n",
       "      <td>0</td>\n",
       "      <td>12826</td>\n",
       "      <td>0</td>\n",
       "      <td>0</td>\n",
       "      <td>0</td>\n",
       "      <td>0</td>\n",
       "      <td>0</td>\n",
       "      <td>0</td>\n",
       "    </tr>\n",
       "    <tr>\n",
       "      <th>Junior Paws for Dogs Canada</th>\n",
       "      <td>0</td>\n",
       "      <td>0</td>\n",
       "      <td>0</td>\n",
       "      <td>0</td>\n",
       "      <td>0</td>\n",
       "      <td>0</td>\n",
       "      <td>0</td>\n",
       "      <td>0</td>\n",
       "      <td>0</td>\n",
       "      <td>0</td>\n",
       "      <td>...</td>\n",
       "      <td>0</td>\n",
       "      <td>0</td>\n",
       "      <td>0</td>\n",
       "      <td>95</td>\n",
       "      <td>0</td>\n",
       "      <td>0</td>\n",
       "      <td>0</td>\n",
       "      <td>0</td>\n",
       "      <td>0</td>\n",
       "      <td>0</td>\n",
       "    </tr>\n",
       "    <tr>\n",
       "      <th>Senior Access Canine Canada</th>\n",
       "      <td>0</td>\n",
       "      <td>0</td>\n",
       "      <td>0</td>\n",
       "      <td>0</td>\n",
       "      <td>0</td>\n",
       "      <td>6</td>\n",
       "      <td>3</td>\n",
       "      <td>5</td>\n",
       "      <td>0</td>\n",
       "      <td>0</td>\n",
       "      <td>...</td>\n",
       "      <td>0</td>\n",
       "      <td>0</td>\n",
       "      <td>0</td>\n",
       "      <td>26</td>\n",
       "      <td>0</td>\n",
       "      <td>0</td>\n",
       "      <td>0</td>\n",
       "      <td>0</td>\n",
       "      <td>0</td>\n",
       "      <td>26</td>\n",
       "    </tr>\n",
       "    <tr>\n",
       "      <th>Senior Access Feline Canada</th>\n",
       "      <td>0</td>\n",
       "      <td>0</td>\n",
       "      <td>0</td>\n",
       "      <td>0</td>\n",
       "      <td>0</td>\n",
       "      <td>2</td>\n",
       "      <td>0</td>\n",
       "      <td>0</td>\n",
       "      <td>0</td>\n",
       "      <td>0</td>\n",
       "      <td>...</td>\n",
       "      <td>0</td>\n",
       "      <td>0</td>\n",
       "      <td>0</td>\n",
       "      <td>3</td>\n",
       "      <td>0</td>\n",
       "      <td>0</td>\n",
       "      <td>0</td>\n",
       "      <td>0</td>\n",
       "      <td>0</td>\n",
       "      <td>3</td>\n",
       "    </tr>\n",
       "    <tr>\n",
       "      <th>Senior Access for Cats</th>\n",
       "      <td>0</td>\n",
       "      <td>0</td>\n",
       "      <td>0</td>\n",
       "      <td>0</td>\n",
       "      <td>0</td>\n",
       "      <td>0</td>\n",
       "      <td>0</td>\n",
       "      <td>0</td>\n",
       "      <td>8</td>\n",
       "      <td>19</td>\n",
       "      <td>...</td>\n",
       "      <td>0</td>\n",
       "      <td>19</td>\n",
       "      <td>0</td>\n",
       "      <td>23</td>\n",
       "      <td>2</td>\n",
       "      <td>0</td>\n",
       "      <td>0</td>\n",
       "      <td>0</td>\n",
       "      <td>0</td>\n",
       "      <td>34</td>\n",
       "    </tr>\n",
       "    <tr>\n",
       "      <th>Senior Access for Dogs</th>\n",
       "      <td>0</td>\n",
       "      <td>12</td>\n",
       "      <td>0</td>\n",
       "      <td>0</td>\n",
       "      <td>0</td>\n",
       "      <td>0</td>\n",
       "      <td>0</td>\n",
       "      <td>0</td>\n",
       "      <td>0</td>\n",
       "      <td>0</td>\n",
       "      <td>...</td>\n",
       "      <td>20</td>\n",
       "      <td>0</td>\n",
       "      <td>104</td>\n",
       "      <td>134</td>\n",
       "      <td>0</td>\n",
       "      <td>20</td>\n",
       "      <td>0</td>\n",
       "      <td>1</td>\n",
       "      <td>0</td>\n",
       "      <td>177</td>\n",
       "    </tr>\n",
       "    <tr>\n",
       "      <th>Senior Cat Plus for Canada</th>\n",
       "      <td>0</td>\n",
       "      <td>0</td>\n",
       "      <td>0</td>\n",
       "      <td>0</td>\n",
       "      <td>0</td>\n",
       "      <td>0</td>\n",
       "      <td>0</td>\n",
       "      <td>0</td>\n",
       "      <td>0</td>\n",
       "      <td>0</td>\n",
       "      <td>...</td>\n",
       "      <td>0</td>\n",
       "      <td>0</td>\n",
       "      <td>0</td>\n",
       "      <td>52</td>\n",
       "      <td>0</td>\n",
       "      <td>0</td>\n",
       "      <td>81</td>\n",
       "      <td>0</td>\n",
       "      <td>0</td>\n",
       "      <td>81</td>\n",
       "    </tr>\n",
       "    <tr>\n",
       "      <th>Senior Dog Plus for Canada</th>\n",
       "      <td>0</td>\n",
       "      <td>0</td>\n",
       "      <td>0</td>\n",
       "      <td>0</td>\n",
       "      <td>0</td>\n",
       "      <td>0</td>\n",
       "      <td>0</td>\n",
       "      <td>0</td>\n",
       "      <td>0</td>\n",
       "      <td>0</td>\n",
       "      <td>...</td>\n",
       "      <td>0</td>\n",
       "      <td>0</td>\n",
       "      <td>0</td>\n",
       "      <td>127</td>\n",
       "      <td>0</td>\n",
       "      <td>0</td>\n",
       "      <td>182</td>\n",
       "      <td>0</td>\n",
       "      <td>0</td>\n",
       "      <td>182</td>\n",
       "    </tr>\n",
       "    <tr>\n",
       "      <th>Senior Paws Dog for Canada</th>\n",
       "      <td>0</td>\n",
       "      <td>0</td>\n",
       "      <td>0</td>\n",
       "      <td>0</td>\n",
       "      <td>0</td>\n",
       "      <td>0</td>\n",
       "      <td>0</td>\n",
       "      <td>0</td>\n",
       "      <td>0</td>\n",
       "      <td>0</td>\n",
       "      <td>...</td>\n",
       "      <td>0</td>\n",
       "      <td>0</td>\n",
       "      <td>0</td>\n",
       "      <td>93</td>\n",
       "      <td>0</td>\n",
       "      <td>0</td>\n",
       "      <td>0</td>\n",
       "      <td>0</td>\n",
       "      <td>0</td>\n",
       "      <td>163</td>\n",
       "    </tr>\n",
       "    <tr>\n",
       "      <th>Senior Paws Plus for Cats</th>\n",
       "      <td>0</td>\n",
       "      <td>0</td>\n",
       "      <td>0</td>\n",
       "      <td>0</td>\n",
       "      <td>0</td>\n",
       "      <td>0</td>\n",
       "      <td>0</td>\n",
       "      <td>0</td>\n",
       "      <td>0</td>\n",
       "      <td>0</td>\n",
       "      <td>...</td>\n",
       "      <td>0</td>\n",
       "      <td>0</td>\n",
       "      <td>0</td>\n",
       "      <td>540</td>\n",
       "      <td>0</td>\n",
       "      <td>0</td>\n",
       "      <td>3</td>\n",
       "      <td>0</td>\n",
       "      <td>0</td>\n",
       "      <td>789</td>\n",
       "    </tr>\n",
       "    <tr>\n",
       "      <th>Senior Paws Plus for Dogs</th>\n",
       "      <td>0</td>\n",
       "      <td>0</td>\n",
       "      <td>0</td>\n",
       "      <td>0</td>\n",
       "      <td>0</td>\n",
       "      <td>0</td>\n",
       "      <td>0</td>\n",
       "      <td>0</td>\n",
       "      <td>0</td>\n",
       "      <td>0</td>\n",
       "      <td>...</td>\n",
       "      <td>0</td>\n",
       "      <td>0</td>\n",
       "      <td>0</td>\n",
       "      <td>4311</td>\n",
       "      <td>0</td>\n",
       "      <td>0</td>\n",
       "      <td>13</td>\n",
       "      <td>0</td>\n",
       "      <td>0</td>\n",
       "      <td>5637</td>\n",
       "    </tr>\n",
       "    <tr>\n",
       "      <th>Senior Paws for Cats</th>\n",
       "      <td>0</td>\n",
       "      <td>0</td>\n",
       "      <td>0</td>\n",
       "      <td>0</td>\n",
       "      <td>0</td>\n",
       "      <td>0</td>\n",
       "      <td>0</td>\n",
       "      <td>0</td>\n",
       "      <td>0</td>\n",
       "      <td>0</td>\n",
       "      <td>...</td>\n",
       "      <td>0</td>\n",
       "      <td>0</td>\n",
       "      <td>0</td>\n",
       "      <td>1719</td>\n",
       "      <td>0</td>\n",
       "      <td>0</td>\n",
       "      <td>0</td>\n",
       "      <td>0</td>\n",
       "      <td>0</td>\n",
       "      <td>2187</td>\n",
       "    </tr>\n",
       "    <tr>\n",
       "      <th>Senior Paws for Cats Canada</th>\n",
       "      <td>0</td>\n",
       "      <td>0</td>\n",
       "      <td>0</td>\n",
       "      <td>0</td>\n",
       "      <td>0</td>\n",
       "      <td>0</td>\n",
       "      <td>0</td>\n",
       "      <td>0</td>\n",
       "      <td>0</td>\n",
       "      <td>0</td>\n",
       "      <td>...</td>\n",
       "      <td>0</td>\n",
       "      <td>0</td>\n",
       "      <td>0</td>\n",
       "      <td>30</td>\n",
       "      <td>0</td>\n",
       "      <td>0</td>\n",
       "      <td>0</td>\n",
       "      <td>0</td>\n",
       "      <td>0</td>\n",
       "      <td>49</td>\n",
       "    </tr>\n",
       "    <tr>\n",
       "      <th>Senior Paws for Dogs</th>\n",
       "      <td>0</td>\n",
       "      <td>0</td>\n",
       "      <td>0</td>\n",
       "      <td>0</td>\n",
       "      <td>0</td>\n",
       "      <td>0</td>\n",
       "      <td>0</td>\n",
       "      <td>0</td>\n",
       "      <td>0</td>\n",
       "      <td>0</td>\n",
       "      <td>...</td>\n",
       "      <td>0</td>\n",
       "      <td>0</td>\n",
       "      <td>0</td>\n",
       "      <td>9141</td>\n",
       "      <td>0</td>\n",
       "      <td>0</td>\n",
       "      <td>0</td>\n",
       "      <td>0</td>\n",
       "      <td>0</td>\n",
       "      <td>12704</td>\n",
       "    </tr>\n",
       "  </tbody>\n",
       "</table>\n",
       "<p>42 rows × 167 columns</p>\n",
       "</div>"
      ],
      "text/plain": [
       "SERVICE_NAME                    Abdominal Cryptorchid add to neuter K9  \\\n",
       "WELLNESS_PLAN_NAME                                                       \n",
       "Adult Access Canine Canada                                           0   \n",
       "Adult Access Feline Canada                                           0   \n",
       "Adult Access for Cats                                                0   \n",
       "Adult Access for Dogs                                                1   \n",
       "Adult Essentials for Cats                                            0   \n",
       "Adult Paws Plus Cat Canada                                           0   \n",
       "Adult Paws Plus Dog Canada                                           0   \n",
       "Adult Paws Plus for Cats                                             0   \n",
       "Adult Paws Plus for Dogs                                             0   \n",
       "Adult Paws for Cat Canada                                            0   \n",
       "Adult Paws for Cats                                                  0   \n",
       "Adult Paws for Dog Canada                                            0   \n",
       "Adult Paws for Dogs                                                  0   \n",
       "Adult Premier for Cats                                               0   \n",
       "Junior Access Canine Canada                                          0   \n",
       "Junior Access Feline Canada                                          0   \n",
       "Junior Access for Cats                                               0   \n",
       "Junior Access for Dogs                                               1   \n",
       "Junior Cat Plus Spay Canada                                          0   \n",
       "Junior Cats Plus Neuter Canada                                       0   \n",
       "Junior Dog Plus Neuter Canada                                        0   \n",
       "Junior Dogs Plus Spay Canada                                         0   \n",
       "Junior Paws Plus Kitten Neuter                                       0   \n",
       "Junior Paws Plus Kitten Spay                                         0   \n",
       "Junior Paws Plus Puppy Neuter                                        0   \n",
       "Junior Paws Plus Puppy Spay                                          0   \n",
       "Junior Paws for Cats                                                 0   \n",
       "Junior Paws for Cats Canada                                          0   \n",
       "Junior Paws for Dogs                                                 0   \n",
       "Junior Paws for Dogs Canada                                          0   \n",
       "Senior Access Canine Canada                                          0   \n",
       "Senior Access Feline Canada                                          0   \n",
       "Senior Access for Cats                                               0   \n",
       "Senior Access for Dogs                                               0   \n",
       "Senior Cat Plus for Canada                                           0   \n",
       "Senior Dog Plus for Canada                                           0   \n",
       "Senior Paws Dog for Canada                                           0   \n",
       "Senior Paws Plus for Cats                                            0   \n",
       "Senior Paws Plus for Dogs                                            0   \n",
       "Senior Paws for Cats                                                 0   \n",
       "Senior Paws for Cats Canada                                          0   \n",
       "Senior Paws for Dogs                                                 0   \n",
       "\n",
       "SERVICE_NAME                    Accuplex K9  Additonal Fecal exam  \\\n",
       "WELLNESS_PLAN_NAME                                                  \n",
       "Adult Access Canine Canada                0                     0   \n",
       "Adult Access Feline Canada                0                     0   \n",
       "Adult Access for Cats                     0                     0   \n",
       "Adult Access for Dogs                    24                     1   \n",
       "Adult Essentials for Cats                 0                     0   \n",
       "Adult Paws Plus Cat Canada                0                     0   \n",
       "Adult Paws Plus Dog Canada                0                     0   \n",
       "Adult Paws Plus for Cats                  0                     0   \n",
       "Adult Paws Plus for Dogs                  0                     0   \n",
       "Adult Paws for Cat Canada                 0                     0   \n",
       "Adult Paws for Cats                       0                     0   \n",
       "Adult Paws for Dog Canada                 0                     0   \n",
       "Adult Paws for Dogs                       0                     0   \n",
       "Adult Premier for Cats                    0                     0   \n",
       "Junior Access Canine Canada               0                     0   \n",
       "Junior Access Feline Canada               0                     0   \n",
       "Junior Access for Cats                    0                    11   \n",
       "Junior Access for Dogs                   51                    21   \n",
       "Junior Cat Plus Spay Canada               0                     0   \n",
       "Junior Cats Plus Neuter Canada            0                     0   \n",
       "Junior Dog Plus Neuter Canada             0                     0   \n",
       "Junior Dogs Plus Spay Canada              0                     0   \n",
       "Junior Paws Plus Kitten Neuter            0                     0   \n",
       "Junior Paws Plus Kitten Spay              0                     0   \n",
       "Junior Paws Plus Puppy Neuter             0                     0   \n",
       "Junior Paws Plus Puppy Spay               0                     0   \n",
       "Junior Paws for Cats                      0                     0   \n",
       "Junior Paws for Cats Canada               0                     0   \n",
       "Junior Paws for Dogs                      0                     0   \n",
       "Junior Paws for Dogs Canada               0                     0   \n",
       "Senior Access Canine Canada               0                     0   \n",
       "Senior Access Feline Canada               0                     0   \n",
       "Senior Access for Cats                    0                     0   \n",
       "Senior Access for Dogs                   12                     0   \n",
       "Senior Cat Plus for Canada                0                     0   \n",
       "Senior Dog Plus for Canada                0                     0   \n",
       "Senior Paws Dog for Canada                0                     0   \n",
       "Senior Paws Plus for Cats                 0                     0   \n",
       "Senior Paws Plus for Dogs                 0                     0   \n",
       "Senior Paws for Cats                      0                     0   \n",
       "Senior Paws for Cats Canada               0                     0   \n",
       "Senior Paws for Dogs                      0                     0   \n",
       "\n",
       "SERVICE_NAME                    Adult Wellness Fel  Adult Wellness K9  \\\n",
       "WELLNESS_PLAN_NAME                                                      \n",
       "Adult Access Canine Canada                       0                  0   \n",
       "Adult Access Feline Canada                       0                  0   \n",
       "Adult Access for Cats                           33                  0   \n",
       "Adult Access for Dogs                            0                128   \n",
       "Adult Essentials for Cats                        0                  0   \n",
       "Adult Paws Plus Cat Canada                       0                  0   \n",
       "Adult Paws Plus Dog Canada                       0                  0   \n",
       "Adult Paws Plus for Cats                         0                  0   \n",
       "Adult Paws Plus for Dogs                         0                  0   \n",
       "Adult Paws for Cat Canada                        0                  0   \n",
       "Adult Paws for Cats                              0                  0   \n",
       "Adult Paws for Dog Canada                        0                  0   \n",
       "Adult Paws for Dogs                              0                  0   \n",
       "Adult Premier for Cats                           0                  0   \n",
       "Junior Access Canine Canada                      0                  0   \n",
       "Junior Access Feline Canada                      0                  0   \n",
       "Junior Access for Cats                           0                  0   \n",
       "Junior Access for Dogs                           0                  0   \n",
       "Junior Cat Plus Spay Canada                      0                  0   \n",
       "Junior Cats Plus Neuter Canada                   0                  0   \n",
       "Junior Dog Plus Neuter Canada                    0                  0   \n",
       "Junior Dogs Plus Spay Canada                     0                  0   \n",
       "Junior Paws Plus Kitten Neuter                   0                  0   \n",
       "Junior Paws Plus Kitten Spay                     0                  0   \n",
       "Junior Paws Plus Puppy Neuter                    0                  0   \n",
       "Junior Paws Plus Puppy Spay                      0                  0   \n",
       "Junior Paws for Cats                             0                  0   \n",
       "Junior Paws for Cats Canada                      0                  0   \n",
       "Junior Paws for Dogs                             0                  0   \n",
       "Junior Paws for Dogs Canada                      0                  0   \n",
       "Senior Access Canine Canada                      0                  0   \n",
       "Senior Access Feline Canada                      0                  0   \n",
       "Senior Access for Cats                           0                  0   \n",
       "Senior Access for Dogs                           0                  0   \n",
       "Senior Cat Plus for Canada                       0                  0   \n",
       "Senior Dog Plus for Canada                       0                  0   \n",
       "Senior Paws Dog for Canada                       0                  0   \n",
       "Senior Paws Plus for Cats                        0                  0   \n",
       "Senior Paws Plus for Dogs                        0                  0   \n",
       "Senior Paws for Cats                             0                  0   \n",
       "Senior Paws for Cats Canada                      0                  0   \n",
       "Senior Paws for Dogs                             0                  0   \n",
       "\n",
       "SERVICE_NAME                    Advanced Labwork Canada  \\\n",
       "WELLNESS_PLAN_NAME                                        \n",
       "Adult Access Canine Canada                            0   \n",
       "Adult Access Feline Canada                            3   \n",
       "Adult Access for Cats                                 0   \n",
       "Adult Access for Dogs                                 0   \n",
       "Adult Essentials for Cats                             0   \n",
       "Adult Paws Plus Cat Canada                            0   \n",
       "Adult Paws Plus Dog Canada                            0   \n",
       "Adult Paws Plus for Cats                              0   \n",
       "Adult Paws Plus for Dogs                              0   \n",
       "Adult Paws for Cat Canada                             0   \n",
       "Adult Paws for Cats                                   0   \n",
       "Adult Paws for Dog Canada                             0   \n",
       "Adult Paws for Dogs                                   0   \n",
       "Adult Premier for Cats                                0   \n",
       "Junior Access Canine Canada                           0   \n",
       "Junior Access Feline Canada                           0   \n",
       "Junior Access for Cats                                0   \n",
       "Junior Access for Dogs                                0   \n",
       "Junior Cat Plus Spay Canada                           0   \n",
       "Junior Cats Plus Neuter Canada                        0   \n",
       "Junior Dog Plus Neuter Canada                         0   \n",
       "Junior Dogs Plus Spay Canada                          0   \n",
       "Junior Paws Plus Kitten Neuter                        0   \n",
       "Junior Paws Plus Kitten Spay                          0   \n",
       "Junior Paws Plus Puppy Neuter                         0   \n",
       "Junior Paws Plus Puppy Spay                           0   \n",
       "Junior Paws for Cats                                  0   \n",
       "Junior Paws for Cats Canada                           0   \n",
       "Junior Paws for Dogs                                  0   \n",
       "Junior Paws for Dogs Canada                           0   \n",
       "Senior Access Canine Canada                           6   \n",
       "Senior Access Feline Canada                           2   \n",
       "Senior Access for Cats                                0   \n",
       "Senior Access for Dogs                                0   \n",
       "Senior Cat Plus for Canada                            0   \n",
       "Senior Dog Plus for Canada                            0   \n",
       "Senior Paws Dog for Canada                            0   \n",
       "Senior Paws Plus for Cats                             0   \n",
       "Senior Paws Plus for Dogs                             0   \n",
       "Senior Paws for Cats                                  0   \n",
       "Senior Paws for Cats Canada                           0   \n",
       "Senior Paws for Dogs                                  0   \n",
       "\n",
       "SERVICE_NAME                    Anal Sac Expression Canada  \\\n",
       "WELLNESS_PLAN_NAME                                           \n",
       "Adult Access Canine Canada                               1   \n",
       "Adult Access Feline Canada                               0   \n",
       "Adult Access for Cats                                    0   \n",
       "Adult Access for Dogs                                    0   \n",
       "Adult Essentials for Cats                                0   \n",
       "Adult Paws Plus Cat Canada                               0   \n",
       "Adult Paws Plus Dog Canada                               0   \n",
       "Adult Paws Plus for Cats                                 0   \n",
       "Adult Paws Plus for Dogs                                 0   \n",
       "Adult Paws for Cat Canada                                0   \n",
       "Adult Paws for Cats                                      0   \n",
       "Adult Paws for Dog Canada                                0   \n",
       "Adult Paws for Dogs                                      0   \n",
       "Adult Premier for Cats                                   0   \n",
       "Junior Access Canine Canada                              0   \n",
       "Junior Access Feline Canada                              0   \n",
       "Junior Access for Cats                                   0   \n",
       "Junior Access for Dogs                                   0   \n",
       "Junior Cat Plus Spay Canada                              0   \n",
       "Junior Cats Plus Neuter Canada                           0   \n",
       "Junior Dog Plus Neuter Canada                            0   \n",
       "Junior Dogs Plus Spay Canada                             0   \n",
       "Junior Paws Plus Kitten Neuter                           0   \n",
       "Junior Paws Plus Kitten Spay                             0   \n",
       "Junior Paws Plus Puppy Neuter                            0   \n",
       "Junior Paws Plus Puppy Spay                              0   \n",
       "Junior Paws for Cats                                     0   \n",
       "Junior Paws for Cats Canada                              0   \n",
       "Junior Paws for Dogs                                     0   \n",
       "Junior Paws for Dogs Canada                              0   \n",
       "Senior Access Canine Canada                              3   \n",
       "Senior Access Feline Canada                              0   \n",
       "Senior Access for Cats                                   0   \n",
       "Senior Access for Dogs                                   0   \n",
       "Senior Cat Plus for Canada                               0   \n",
       "Senior Dog Plus for Canada                               0   \n",
       "Senior Paws Dog for Canada                               0   \n",
       "Senior Paws Plus for Cats                                0   \n",
       "Senior Paws Plus for Dogs                                0   \n",
       "Senior Paws for Cats                                     0   \n",
       "Senior Paws for Cats Canada                              0   \n",
       "Senior Paws for Dogs                                     0   \n",
       "\n",
       "SERVICE_NAME                    Basic Labwork Canada  Blood Pressure Fel  \\\n",
       "WELLNESS_PLAN_NAME                                                         \n",
       "Adult Access Canine Canada                         9                   0   \n",
       "Adult Access Feline Canada                         2                   0   \n",
       "Adult Access for Cats                              0                  17   \n",
       "Adult Access for Dogs                              0                   0   \n",
       "Adult Essentials for Cats                          0                   0   \n",
       "Adult Paws Plus Cat Canada                         0                   0   \n",
       "Adult Paws Plus Dog Canada                         0                   0   \n",
       "Adult Paws Plus for Cats                           0                   0   \n",
       "Adult Paws Plus for Dogs                           0                   0   \n",
       "Adult Paws for Cat Canada                          0                   0   \n",
       "Adult Paws for Cats                                0                   0   \n",
       "Adult Paws for Dog Canada                          0                   0   \n",
       "Adult Paws for Dogs                                0                   0   \n",
       "Adult Premier for Cats                             0                   0   \n",
       "Junior Access Canine Canada                       19                   0   \n",
       "Junior Access Feline Canada                        6                   0   \n",
       "Junior Access for Cats                             0                   0   \n",
       "Junior Access for Dogs                             0                   0   \n",
       "Junior Cat Plus Spay Canada                        0                   0   \n",
       "Junior Cats Plus Neuter Canada                     0                   0   \n",
       "Junior Dog Plus Neuter Canada                      0                   0   \n",
       "Junior Dogs Plus Spay Canada                       0                   0   \n",
       "Junior Paws Plus Kitten Neuter                     0                   0   \n",
       "Junior Paws Plus Kitten Spay                       0                   0   \n",
       "Junior Paws Plus Puppy Neuter                      0                   0   \n",
       "Junior Paws Plus Puppy Spay                        0                   0   \n",
       "Junior Paws for Cats                               0                   0   \n",
       "Junior Paws for Cats Canada                        0                   0   \n",
       "Junior Paws for Dogs                               0                   0   \n",
       "Junior Paws for Dogs Canada                        0                   0   \n",
       "Senior Access Canine Canada                        5                   0   \n",
       "Senior Access Feline Canada                        0                   0   \n",
       "Senior Access for Cats                             0                   8   \n",
       "Senior Access for Dogs                             0                   0   \n",
       "Senior Cat Plus for Canada                         0                   0   \n",
       "Senior Dog Plus for Canada                         0                   0   \n",
       "Senior Paws Dog for Canada                         0                   0   \n",
       "Senior Paws Plus for Cats                          0                   0   \n",
       "Senior Paws Plus for Dogs                          0                   0   \n",
       "Senior Paws for Cats                               0                   0   \n",
       "Senior Paws for Cats Canada                        0                   0   \n",
       "Senior Paws for Dogs                               0                   0   \n",
       "\n",
       "SERVICE_NAME                    Blood Pressure Fel.  ...  Sedation Radiology.  \\\n",
       "WELLNESS_PLAN_NAME                                   ...                        \n",
       "Adult Access Canine Canada                        0  ...                    0   \n",
       "Adult Access Feline Canada                        0  ...                    0   \n",
       "Adult Access for Cats                             0  ...                    0   \n",
       "Adult Access for Dogs                             0  ...                    3   \n",
       "Adult Essentials for Cats                         0  ...                    0   \n",
       "Adult Paws Plus Cat Canada                        0  ...                    0   \n",
       "Adult Paws Plus Dog Canada                        0  ...                    0   \n",
       "Adult Paws Plus for Cats                          0  ...                    0   \n",
       "Adult Paws Plus for Dogs                          0  ...                    0   \n",
       "Adult Paws for Cat Canada                         0  ...                    0   \n",
       "Adult Paws for Cats                               0  ...                    0   \n",
       "Adult Paws for Dog Canada                         0  ...                    0   \n",
       "Adult Paws for Dogs                               0  ...                    0   \n",
       "Adult Premier for Cats                            0  ...                    0   \n",
       "Junior Access Canine Canada                       0  ...                    0   \n",
       "Junior Access Feline Canada                       0  ...                    0   \n",
       "Junior Access for Cats                            0  ...                    0   \n",
       "Junior Access for Dogs                            0  ...                    0   \n",
       "Junior Cat Plus Spay Canada                       0  ...                    0   \n",
       "Junior Cats Plus Neuter Canada                    0  ...                    0   \n",
       "Junior Dog Plus Neuter Canada                     0  ...                    0   \n",
       "Junior Dogs Plus Spay Canada                      0  ...                    0   \n",
       "Junior Paws Plus Kitten Neuter                    0  ...                    0   \n",
       "Junior Paws Plus Kitten Spay                      0  ...                    0   \n",
       "Junior Paws Plus Puppy Neuter                     0  ...                    0   \n",
       "Junior Paws Plus Puppy Spay                       0  ...                    0   \n",
       "Junior Paws for Cats                              0  ...                    0   \n",
       "Junior Paws for Cats Canada                       0  ...                    0   \n",
       "Junior Paws for Dogs                              0  ...                    0   \n",
       "Junior Paws for Dogs Canada                       0  ...                    0   \n",
       "Senior Access Canine Canada                       0  ...                    0   \n",
       "Senior Access Feline Canada                       0  ...                    0   \n",
       "Senior Access for Cats                           19  ...                    0   \n",
       "Senior Access for Dogs                            0  ...                   20   \n",
       "Senior Cat Plus for Canada                        0  ...                    0   \n",
       "Senior Dog Plus for Canada                        0  ...                    0   \n",
       "Senior Paws Dog for Canada                        0  ...                    0   \n",
       "Senior Paws Plus for Cats                         0  ...                    0   \n",
       "Senior Paws Plus for Dogs                         0  ...                    0   \n",
       "Senior Paws for Cats                              0  ...                    0   \n",
       "Senior Paws for Cats Canada                       0  ...                    0   \n",
       "Senior Paws for Dogs                              0  ...                    0   \n",
       "\n",
       "SERVICE_NAME                    Senior Lab Panel Fel  Senior Lab Panel K9  \\\n",
       "WELLNESS_PLAN_NAME                                                          \n",
       "Adult Access Canine Canada                         0                    0   \n",
       "Adult Access Feline Canada                         0                    0   \n",
       "Adult Access for Cats                              0                    0   \n",
       "Adult Access for Dogs                              0                    0   \n",
       "Adult Essentials for Cats                          0                    0   \n",
       "Adult Paws Plus Cat Canada                         0                    0   \n",
       "Adult Paws Plus Dog Canada                         0                    0   \n",
       "Adult Paws Plus for Cats                           0                    0   \n",
       "Adult Paws Plus for Dogs                           0                    0   \n",
       "Adult Paws for Cat Canada                          0                    0   \n",
       "Adult Paws for Cats                                0                    0   \n",
       "Adult Paws for Dog Canada                          0                    0   \n",
       "Adult Paws for Dogs                                0                    0   \n",
       "Adult Premier for Cats                             0                    0   \n",
       "Junior Access Canine Canada                        0                    0   \n",
       "Junior Access Feline Canada                        0                    0   \n",
       "Junior Access for Cats                             0                    0   \n",
       "Junior Access for Dogs                             0                    0   \n",
       "Junior Cat Plus Spay Canada                        0                    0   \n",
       "Junior Cats Plus Neuter Canada                     0                    0   \n",
       "Junior Dog Plus Neuter Canada                      0                    0   \n",
       "Junior Dogs Plus Spay Canada                       0                    0   \n",
       "Junior Paws Plus Kitten Neuter                     0                    0   \n",
       "Junior Paws Plus Kitten Spay                       0                    0   \n",
       "Junior Paws Plus Puppy Neuter                      0                    0   \n",
       "Junior Paws Plus Puppy Spay                        0                    0   \n",
       "Junior Paws for Cats                               0                    0   \n",
       "Junior Paws for Cats Canada                        0                    0   \n",
       "Junior Paws for Dogs                               0                    0   \n",
       "Junior Paws for Dogs Canada                        0                    0   \n",
       "Senior Access Canine Canada                        0                    0   \n",
       "Senior Access Feline Canada                        0                    0   \n",
       "Senior Access for Cats                            19                    0   \n",
       "Senior Access for Dogs                             0                  104   \n",
       "Senior Cat Plus for Canada                         0                    0   \n",
       "Senior Dog Plus for Canada                         0                    0   \n",
       "Senior Paws Dog for Canada                         0                    0   \n",
       "Senior Paws Plus for Cats                          0                    0   \n",
       "Senior Paws Plus for Dogs                          0                    0   \n",
       "Senior Paws for Cats                               0                    0   \n",
       "Senior Paws for Cats Canada                        0                    0   \n",
       "Senior Paws for Dogs                               0                    0   \n",
       "\n",
       "SERVICE_NAME                    Service Rounding Adjustment  \\\n",
       "WELLNESS_PLAN_NAME                                            \n",
       "Adult Access Canine Canada                               29   \n",
       "Adult Access Feline Canada                               11   \n",
       "Adult Access for Cats                                    71   \n",
       "Adult Access for Dogs                                   244   \n",
       "Adult Essentials for Cats                                10   \n",
       "Adult Paws Plus Cat Canada                               68   \n",
       "Adult Paws Plus Dog Canada                               90   \n",
       "Adult Paws Plus for Cats                                735   \n",
       "Adult Paws Plus for Dogs                               2599   \n",
       "Adult Paws for Cat Canada                               172   \n",
       "Adult Paws for Cats                                    6022   \n",
       "Adult Paws for Dog Canada                               678   \n",
       "Adult Paws for Dogs                                   29599   \n",
       "Adult Premier for Cats                                    3   \n",
       "Junior Access Canine Canada                              33   \n",
       "Junior Access Feline Canada                              10   \n",
       "Junior Access for Cats                                  104   \n",
       "Junior Access for Dogs                                  223   \n",
       "Junior Cat Plus Spay Canada                             101   \n",
       "Junior Cats Plus Neuter Canada                           96   \n",
       "Junior Dog Plus Neuter Canada                           344   \n",
       "Junior Dogs Plus Spay Canada                            251   \n",
       "Junior Paws Plus Kitten Neuter                            4   \n",
       "Junior Paws Plus Kitten Spay                              8   \n",
       "Junior Paws Plus Puppy Neuter                            24   \n",
       "Junior Paws Plus Puppy Spay                              16   \n",
       "Junior Paws for Cats                                   4127   \n",
       "Junior Paws for Cats Canada                              31   \n",
       "Junior Paws for Dogs                                  12826   \n",
       "Junior Paws for Dogs Canada                              95   \n",
       "Senior Access Canine Canada                              26   \n",
       "Senior Access Feline Canada                               3   \n",
       "Senior Access for Cats                                   23   \n",
       "Senior Access for Dogs                                  134   \n",
       "Senior Cat Plus for Canada                               52   \n",
       "Senior Dog Plus for Canada                              127   \n",
       "Senior Paws Dog for Canada                               93   \n",
       "Senior Paws Plus for Cats                               540   \n",
       "Senior Paws Plus for Dogs                              4311   \n",
       "Senior Paws for Cats                                   1719   \n",
       "Senior Paws for Cats Canada                              30   \n",
       "Senior Paws for Dogs                                   9141   \n",
       "\n",
       "SERVICE_NAME                    Single region Studies Fel.  \\\n",
       "WELLNESS_PLAN_NAME                                           \n",
       "Adult Access Canine Canada                               0   \n",
       "Adult Access Feline Canada                               0   \n",
       "Adult Access for Cats                                    2   \n",
       "Adult Access for Dogs                                    0   \n",
       "Adult Essentials for Cats                                0   \n",
       "Adult Paws Plus Cat Canada                               0   \n",
       "Adult Paws Plus Dog Canada                               0   \n",
       "Adult Paws Plus for Cats                                 0   \n",
       "Adult Paws Plus for Dogs                                 0   \n",
       "Adult Paws for Cat Canada                                0   \n",
       "Adult Paws for Cats                                      0   \n",
       "Adult Paws for Dog Canada                                0   \n",
       "Adult Paws for Dogs                                      0   \n",
       "Adult Premier for Cats                                   0   \n",
       "Junior Access Canine Canada                              0   \n",
       "Junior Access Feline Canada                              0   \n",
       "Junior Access for Cats                                   0   \n",
       "Junior Access for Dogs                                   0   \n",
       "Junior Cat Plus Spay Canada                              0   \n",
       "Junior Cats Plus Neuter Canada                           0   \n",
       "Junior Dog Plus Neuter Canada                            0   \n",
       "Junior Dogs Plus Spay Canada                             0   \n",
       "Junior Paws Plus Kitten Neuter                           0   \n",
       "Junior Paws Plus Kitten Spay                             0   \n",
       "Junior Paws Plus Puppy Neuter                            0   \n",
       "Junior Paws Plus Puppy Spay                              0   \n",
       "Junior Paws for Cats                                     0   \n",
       "Junior Paws for Cats Canada                              0   \n",
       "Junior Paws for Dogs                                     0   \n",
       "Junior Paws for Dogs Canada                              0   \n",
       "Senior Access Canine Canada                              0   \n",
       "Senior Access Feline Canada                              0   \n",
       "Senior Access for Cats                                   2   \n",
       "Senior Access for Dogs                                   0   \n",
       "Senior Cat Plus for Canada                               0   \n",
       "Senior Dog Plus for Canada                               0   \n",
       "Senior Paws Dog for Canada                               0   \n",
       "Senior Paws Plus for Cats                                0   \n",
       "Senior Paws Plus for Dogs                                0   \n",
       "Senior Paws for Cats                                     0   \n",
       "Senior Paws for Cats Canada                              0   \n",
       "Senior Paws for Dogs                                     0   \n",
       "\n",
       "SERVICE_NAME                    Single region Studies.  \\\n",
       "WELLNESS_PLAN_NAME                                       \n",
       "Adult Access Canine Canada                           0   \n",
       "Adult Access Feline Canada                           0   \n",
       "Adult Access for Cats                                0   \n",
       "Adult Access for Dogs                                3   \n",
       "Adult Essentials for Cats                            0   \n",
       "Adult Paws Plus Cat Canada                           0   \n",
       "Adult Paws Plus Dog Canada                           0   \n",
       "Adult Paws Plus for Cats                             0   \n",
       "Adult Paws Plus for Dogs                             0   \n",
       "Adult Paws for Cat Canada                            0   \n",
       "Adult Paws for Cats                                  0   \n",
       "Adult Paws for Dog Canada                            0   \n",
       "Adult Paws for Dogs                                  0   \n",
       "Adult Premier for Cats                               0   \n",
       "Junior Access Canine Canada                          0   \n",
       "Junior Access Feline Canada                          0   \n",
       "Junior Access for Cats                               0   \n",
       "Junior Access for Dogs                               0   \n",
       "Junior Cat Plus Spay Canada                          0   \n",
       "Junior Cats Plus Neuter Canada                       0   \n",
       "Junior Dog Plus Neuter Canada                        0   \n",
       "Junior Dogs Plus Spay Canada                         0   \n",
       "Junior Paws Plus Kitten Neuter                       0   \n",
       "Junior Paws Plus Kitten Spay                         0   \n",
       "Junior Paws Plus Puppy Neuter                        0   \n",
       "Junior Paws Plus Puppy Spay                          0   \n",
       "Junior Paws for Cats                                 0   \n",
       "Junior Paws for Cats Canada                          0   \n",
       "Junior Paws for Dogs                                 0   \n",
       "Junior Paws for Dogs Canada                          0   \n",
       "Senior Access Canine Canada                          0   \n",
       "Senior Access Feline Canada                          0   \n",
       "Senior Access for Cats                               0   \n",
       "Senior Access for Dogs                              20   \n",
       "Senior Cat Plus for Canada                           0   \n",
       "Senior Dog Plus for Canada                           0   \n",
       "Senior Paws Dog for Canada                           0   \n",
       "Senior Paws Plus for Cats                            0   \n",
       "Senior Paws Plus for Dogs                            0   \n",
       "Senior Paws for Cats                                 0   \n",
       "Senior Paws for Cats Canada                          0   \n",
       "Senior Paws for Dogs                                 0   \n",
       "\n",
       "SERVICE_NAME                    Surgical Pain Management  UPC K9  \\\n",
       "WELLNESS_PLAN_NAME                                                 \n",
       "Adult Access Canine Canada                             0       0   \n",
       "Adult Access Feline Canada                             0       0   \n",
       "Adult Access for Cats                                  0       0   \n",
       "Adult Access for Dogs                                  0       0   \n",
       "Adult Essentials for Cats                              0       0   \n",
       "Adult Paws Plus Cat Canada                            89       0   \n",
       "Adult Paws Plus Dog Canada                           145       0   \n",
       "Adult Paws Plus for Cats                               6       0   \n",
       "Adult Paws Plus for Dogs                              16       0   \n",
       "Adult Paws for Cat Canada                              0       0   \n",
       "Adult Paws for Cats                                    0       0   \n",
       "Adult Paws for Dog Canada                              0       0   \n",
       "Adult Paws for Dogs                                    0       0   \n",
       "Adult Premier for Cats                                 0       0   \n",
       "Junior Access Canine Canada                            0       0   \n",
       "Junior Access Feline Canada                            0       0   \n",
       "Junior Access for Cats                                 0       0   \n",
       "Junior Access for Dogs                                 0       0   \n",
       "Junior Cat Plus Spay Canada                            0       0   \n",
       "Junior Cats Plus Neuter Canada                         0       0   \n",
       "Junior Dog Plus Neuter Canada                          0       0   \n",
       "Junior Dogs Plus Spay Canada                           0       0   \n",
       "Junior Paws Plus Kitten Neuter                         0       0   \n",
       "Junior Paws Plus Kitten Spay                           0       0   \n",
       "Junior Paws Plus Puppy Neuter                          0       0   \n",
       "Junior Paws Plus Puppy Spay                            0       0   \n",
       "Junior Paws for Cats                                   0       0   \n",
       "Junior Paws for Cats Canada                            0       0   \n",
       "Junior Paws for Dogs                                   0       0   \n",
       "Junior Paws for Dogs Canada                            0       0   \n",
       "Senior Access Canine Canada                            0       0   \n",
       "Senior Access Feline Canada                            0       0   \n",
       "Senior Access for Cats                                 0       0   \n",
       "Senior Access for Dogs                                 0       1   \n",
       "Senior Cat Plus for Canada                            81       0   \n",
       "Senior Dog Plus for Canada                           182       0   \n",
       "Senior Paws Dog for Canada                             0       0   \n",
       "Senior Paws Plus for Cats                              3       0   \n",
       "Senior Paws Plus for Dogs                             13       0   \n",
       "Senior Paws for Cats                                   0       0   \n",
       "Senior Paws for Cats Canada                            0       0   \n",
       "Senior Paws for Dogs                                   0       0   \n",
       "\n",
       "SERVICE_NAME                    Umbilical hernia ADD add to spay  \\\n",
       "WELLNESS_PLAN_NAME                                                 \n",
       "Adult Access Canine Canada                                     0   \n",
       "Adult Access Feline Canada                                     0   \n",
       "Adult Access for Cats                                          0   \n",
       "Adult Access for Dogs                                          0   \n",
       "Adult Essentials for Cats                                      0   \n",
       "Adult Paws Plus Cat Canada                                     0   \n",
       "Adult Paws Plus Dog Canada                                     0   \n",
       "Adult Paws Plus for Cats                                       0   \n",
       "Adult Paws Plus for Dogs                                       0   \n",
       "Adult Paws for Cat Canada                                      0   \n",
       "Adult Paws for Cats                                            0   \n",
       "Adult Paws for Dog Canada                                      0   \n",
       "Adult Paws for Dogs                                            0   \n",
       "Adult Premier for Cats                                         0   \n",
       "Junior Access Canine Canada                                    0   \n",
       "Junior Access Feline Canada                                    0   \n",
       "Junior Access for Cats                                         0   \n",
       "Junior Access for Dogs                                         1   \n",
       "Junior Cat Plus Spay Canada                                    0   \n",
       "Junior Cats Plus Neuter Canada                                 0   \n",
       "Junior Dog Plus Neuter Canada                                  0   \n",
       "Junior Dogs Plus Spay Canada                                   0   \n",
       "Junior Paws Plus Kitten Neuter                                 0   \n",
       "Junior Paws Plus Kitten Spay                                   0   \n",
       "Junior Paws Plus Puppy Neuter                                  0   \n",
       "Junior Paws Plus Puppy Spay                                    0   \n",
       "Junior Paws for Cats                                           0   \n",
       "Junior Paws for Cats Canada                                    0   \n",
       "Junior Paws for Dogs                                           0   \n",
       "Junior Paws for Dogs Canada                                    0   \n",
       "Senior Access Canine Canada                                    0   \n",
       "Senior Access Feline Canada                                    0   \n",
       "Senior Access for Cats                                         0   \n",
       "Senior Access for Dogs                                         0   \n",
       "Senior Cat Plus for Canada                                     0   \n",
       "Senior Dog Plus for Canada                                     0   \n",
       "Senior Paws Dog for Canada                                     0   \n",
       "Senior Paws Plus for Cats                                      0   \n",
       "Senior Paws Plus for Dogs                                      0   \n",
       "Senior Paws for Cats                                           0   \n",
       "Senior Paws for Cats Canada                                    0   \n",
       "Senior Paws for Dogs                                           0   \n",
       "\n",
       "SERVICE_NAME                    Wellness Exam  \n",
       "WELLNESS_PLAN_NAME                             \n",
       "Adult Access Canine Canada                 29  \n",
       "Adult Access Feline Canada                 11  \n",
       "Adult Access for Cats                      86  \n",
       "Adult Access for Dogs                     269  \n",
       "Adult Essentials for Cats                  26  \n",
       "Adult Paws Plus Cat Canada                 89  \n",
       "Adult Paws Plus Dog Canada                145  \n",
       "Adult Paws Plus for Cats                 1062  \n",
       "Adult Paws Plus for Dogs                 3572  \n",
       "Adult Paws for Cat Canada                 229  \n",
       "Adult Paws for Cats                      8773  \n",
       "Adult Paws for Dog Canada                 961  \n",
       "Adult Paws for Dogs                     41319  \n",
       "Adult Premier for Cats                      4  \n",
       "Junior Access Canine Canada                 0  \n",
       "Junior Access Feline Canada                 0  \n",
       "Junior Access for Cats                      0  \n",
       "Junior Access for Dogs                      0  \n",
       "Junior Cat Plus Spay Canada                 0  \n",
       "Junior Cats Plus Neuter Canada              0  \n",
       "Junior Dog Plus Neuter Canada               0  \n",
       "Junior Dogs Plus Spay Canada                0  \n",
       "Junior Paws Plus Kitten Neuter              0  \n",
       "Junior Paws Plus Kitten Spay                0  \n",
       "Junior Paws Plus Puppy Neuter               0  \n",
       "Junior Paws Plus Puppy Spay                 0  \n",
       "Junior Paws for Cats                        0  \n",
       "Junior Paws for Cats Canada                 0  \n",
       "Junior Paws for Dogs                        0  \n",
       "Junior Paws for Dogs Canada                 0  \n",
       "Senior Access Canine Canada                26  \n",
       "Senior Access Feline Canada                 3  \n",
       "Senior Access for Cats                     34  \n",
       "Senior Access for Dogs                    177  \n",
       "Senior Cat Plus for Canada                 81  \n",
       "Senior Dog Plus for Canada                182  \n",
       "Senior Paws Dog for Canada                163  \n",
       "Senior Paws Plus for Cats                 789  \n",
       "Senior Paws Plus for Dogs                5637  \n",
       "Senior Paws for Cats                     2187  \n",
       "Senior Paws for Cats Canada                49  \n",
       "Senior Paws for Dogs                    12704  \n",
       "\n",
       "[42 rows x 167 columns]"
      ]
     },
     "execution_count": 39,
     "metadata": {},
     "output_type": "execute_result"
    }
   ],
   "source": [
    "data.pivot(index='WELLNESS_PLAN_NAME',columns='SERVICE_NAME', values='Clients').fillna(0).astype(int)"
   ]
  },
  {
   "cell_type": "code",
   "execution_count": 6,
   "id": "f4474af9",
   "metadata": {},
   "outputs": [
    {
     "data": {
      "text/html": [
       "<div>\n",
       "<style scoped>\n",
       "    .dataframe tbody tr th:only-of-type {\n",
       "        vertical-align: middle;\n",
       "    }\n",
       "\n",
       "    .dataframe tbody tr th {\n",
       "        vertical-align: top;\n",
       "    }\n",
       "\n",
       "    .dataframe thead th {\n",
       "        text-align: right;\n",
       "    }\n",
       "</style>\n",
       "<table border=\"1\" class=\"dataframe\">\n",
       "  <thead>\n",
       "    <tr style=\"text-align: right;\">\n",
       "      <th></th>\n",
       "      <th>WELLNESS_PLAN_NAME</th>\n",
       "      <th>Clients</th>\n",
       "    </tr>\n",
       "  </thead>\n",
       "  <tbody>\n",
       "    <tr>\n",
       "      <th>0</th>\n",
       "      <td>Adult Access Canine Canada</td>\n",
       "      <td>272</td>\n",
       "    </tr>\n",
       "    <tr>\n",
       "      <th>1</th>\n",
       "      <td>Adult Access Feline Canada</td>\n",
       "      <td>96</td>\n",
       "    </tr>\n",
       "    <tr>\n",
       "      <th>2</th>\n",
       "      <td>Adult Access for Cats</td>\n",
       "      <td>716</td>\n",
       "    </tr>\n",
       "    <tr>\n",
       "      <th>3</th>\n",
       "      <td>Adult Access for Dogs</td>\n",
       "      <td>2579</td>\n",
       "    </tr>\n",
       "    <tr>\n",
       "      <th>4</th>\n",
       "      <td>Adult Essentials for Cats</td>\n",
       "      <td>166</td>\n",
       "    </tr>\n",
       "    <tr>\n",
       "      <th>5</th>\n",
       "      <td>Adult Paws Plus Cat Canada</td>\n",
       "      <td>958</td>\n",
       "    </tr>\n",
       "    <tr>\n",
       "      <th>6</th>\n",
       "      <td>Adult Paws Plus Dog Canada</td>\n",
       "      <td>1851</td>\n",
       "    </tr>\n",
       "    <tr>\n",
       "      <th>7</th>\n",
       "      <td>Adult Paws Plus for Cats</td>\n",
       "      <td>11350</td>\n",
       "    </tr>\n",
       "    <tr>\n",
       "      <th>8</th>\n",
       "      <td>Adult Paws Plus for Dogs</td>\n",
       "      <td>46332</td>\n",
       "    </tr>\n",
       "    <tr>\n",
       "      <th>9</th>\n",
       "      <td>Adult Paws for Cat Canada</td>\n",
       "      <td>1775</td>\n",
       "    </tr>\n",
       "    <tr>\n",
       "      <th>10</th>\n",
       "      <td>Adult Paws for Cats</td>\n",
       "      <td>79224</td>\n",
       "    </tr>\n",
       "    <tr>\n",
       "      <th>11</th>\n",
       "      <td>Adult Paws for Dog Canada</td>\n",
       "      <td>9953</td>\n",
       "    </tr>\n",
       "    <tr>\n",
       "      <th>12</th>\n",
       "      <td>Adult Paws for Dogs</td>\n",
       "      <td>472562</td>\n",
       "    </tr>\n",
       "    <tr>\n",
       "      <th>13</th>\n",
       "      <td>Adult Premier for Cats</td>\n",
       "      <td>43</td>\n",
       "    </tr>\n",
       "    <tr>\n",
       "      <th>14</th>\n",
       "      <td>Junior Access Canine Canada</td>\n",
       "      <td>408</td>\n",
       "    </tr>\n",
       "    <tr>\n",
       "      <th>15</th>\n",
       "      <td>Junior Access Feline Canada</td>\n",
       "      <td>138</td>\n",
       "    </tr>\n",
       "    <tr>\n",
       "      <th>16</th>\n",
       "      <td>Junior Access for Cats</td>\n",
       "      <td>1620</td>\n",
       "    </tr>\n",
       "    <tr>\n",
       "      <th>17</th>\n",
       "      <td>Junior Access for Dogs</td>\n",
       "      <td>3851</td>\n",
       "    </tr>\n",
       "    <tr>\n",
       "      <th>18</th>\n",
       "      <td>Junior Cat Plus Spay Canada</td>\n",
       "      <td>2006</td>\n",
       "    </tr>\n",
       "    <tr>\n",
       "      <th>19</th>\n",
       "      <td>Junior Cats Plus Neuter Canada</td>\n",
       "      <td>2046</td>\n",
       "    </tr>\n",
       "    <tr>\n",
       "      <th>20</th>\n",
       "      <td>Junior Dog Plus Neuter Canada</td>\n",
       "      <td>6169</td>\n",
       "    </tr>\n",
       "    <tr>\n",
       "      <th>21</th>\n",
       "      <td>Junior Dogs Plus Spay Canada</td>\n",
       "      <td>4790</td>\n",
       "    </tr>\n",
       "    <tr>\n",
       "      <th>22</th>\n",
       "      <td>Junior Paws Plus Kitten Neuter</td>\n",
       "      <td>108</td>\n",
       "    </tr>\n",
       "    <tr>\n",
       "      <th>23</th>\n",
       "      <td>Junior Paws Plus Kitten Spay</td>\n",
       "      <td>156</td>\n",
       "    </tr>\n",
       "    <tr>\n",
       "      <th>24</th>\n",
       "      <td>Junior Paws Plus Puppy Neuter</td>\n",
       "      <td>408</td>\n",
       "    </tr>\n",
       "    <tr>\n",
       "      <th>25</th>\n",
       "      <td>Junior Paws Plus Puppy Spay</td>\n",
       "      <td>337</td>\n",
       "    </tr>\n",
       "    <tr>\n",
       "      <th>26</th>\n",
       "      <td>Junior Paws for Cats</td>\n",
       "      <td>73897</td>\n",
       "    </tr>\n",
       "    <tr>\n",
       "      <th>27</th>\n",
       "      <td>Junior Paws for Cats Canada</td>\n",
       "      <td>482</td>\n",
       "    </tr>\n",
       "    <tr>\n",
       "      <th>28</th>\n",
       "      <td>Junior Paws for Dogs</td>\n",
       "      <td>229941</td>\n",
       "    </tr>\n",
       "    <tr>\n",
       "      <th>29</th>\n",
       "      <td>Junior Paws for Dogs Canada</td>\n",
       "      <td>1434</td>\n",
       "    </tr>\n",
       "    <tr>\n",
       "      <th>30</th>\n",
       "      <td>Senior Access Canine Canada</td>\n",
       "      <td>263</td>\n",
       "    </tr>\n",
       "    <tr>\n",
       "      <th>31</th>\n",
       "      <td>Senior Access Feline Canada</td>\n",
       "      <td>28</td>\n",
       "    </tr>\n",
       "    <tr>\n",
       "      <th>32</th>\n",
       "      <td>Senior Access for Cats</td>\n",
       "      <td>272</td>\n",
       "    </tr>\n",
       "    <tr>\n",
       "      <th>33</th>\n",
       "      <td>Senior Access for Dogs</td>\n",
       "      <td>1858</td>\n",
       "    </tr>\n",
       "    <tr>\n",
       "      <th>34</th>\n",
       "      <td>Senior Cat Plus for Canada</td>\n",
       "      <td>1024</td>\n",
       "    </tr>\n",
       "    <tr>\n",
       "      <th>35</th>\n",
       "      <td>Senior Dog Plus for Canada</td>\n",
       "      <td>2752</td>\n",
       "    </tr>\n",
       "    <tr>\n",
       "      <th>36</th>\n",
       "      <td>Senior Paws Dog for Canada</td>\n",
       "      <td>1972</td>\n",
       "    </tr>\n",
       "    <tr>\n",
       "      <th>37</th>\n",
       "      <td>Senior Paws Plus for Cats</td>\n",
       "      <td>10006</td>\n",
       "    </tr>\n",
       "    <tr>\n",
       "      <th>38</th>\n",
       "      <td>Senior Paws Plus for Dogs</td>\n",
       "      <td>84713</td>\n",
       "    </tr>\n",
       "    <tr>\n",
       "      <th>39</th>\n",
       "      <td>Senior Paws for Cats</td>\n",
       "      <td>25163</td>\n",
       "    </tr>\n",
       "    <tr>\n",
       "      <th>40</th>\n",
       "      <td>Senior Paws for Cats Canada</td>\n",
       "      <td>471</td>\n",
       "    </tr>\n",
       "    <tr>\n",
       "      <th>41</th>\n",
       "      <td>Senior Paws for Dogs</td>\n",
       "      <td>172706</td>\n",
       "    </tr>\n",
       "  </tbody>\n",
       "</table>\n",
       "</div>"
      ],
      "text/plain": [
       "                WELLNESS_PLAN_NAME  Clients\n",
       "0       Adult Access Canine Canada      272\n",
       "1       Adult Access Feline Canada       96\n",
       "2            Adult Access for Cats      716\n",
       "3            Adult Access for Dogs     2579\n",
       "4        Adult Essentials for Cats      166\n",
       "5       Adult Paws Plus Cat Canada      958\n",
       "6       Adult Paws Plus Dog Canada     1851\n",
       "7         Adult Paws Plus for Cats    11350\n",
       "8         Adult Paws Plus for Dogs    46332\n",
       "9        Adult Paws for Cat Canada     1775\n",
       "10             Adult Paws for Cats    79224\n",
       "11       Adult Paws for Dog Canada     9953\n",
       "12             Adult Paws for Dogs   472562\n",
       "13          Adult Premier for Cats       43\n",
       "14     Junior Access Canine Canada      408\n",
       "15     Junior Access Feline Canada      138\n",
       "16          Junior Access for Cats     1620\n",
       "17          Junior Access for Dogs     3851\n",
       "18     Junior Cat Plus Spay Canada     2006\n",
       "19  Junior Cats Plus Neuter Canada     2046\n",
       "20   Junior Dog Plus Neuter Canada     6169\n",
       "21    Junior Dogs Plus Spay Canada     4790\n",
       "22  Junior Paws Plus Kitten Neuter      108\n",
       "23    Junior Paws Plus Kitten Spay      156\n",
       "24   Junior Paws Plus Puppy Neuter      408\n",
       "25     Junior Paws Plus Puppy Spay      337\n",
       "26            Junior Paws for Cats    73897\n",
       "27     Junior Paws for Cats Canada      482\n",
       "28            Junior Paws for Dogs   229941\n",
       "29     Junior Paws for Dogs Canada     1434\n",
       "30     Senior Access Canine Canada      263\n",
       "31     Senior Access Feline Canada       28\n",
       "32          Senior Access for Cats      272\n",
       "33          Senior Access for Dogs     1858\n",
       "34      Senior Cat Plus for Canada     1024\n",
       "35      Senior Dog Plus for Canada     2752\n",
       "36      Senior Paws Dog for Canada     1972\n",
       "37       Senior Paws Plus for Cats    10006\n",
       "38       Senior Paws Plus for Dogs    84713\n",
       "39            Senior Paws for Cats    25163\n",
       "40     Senior Paws for Cats Canada      471\n",
       "41            Senior Paws for Dogs   172706"
      ]
     },
     "execution_count": 6,
     "metadata": {},
     "output_type": "execute_result"
    }
   ],
   "source": [
    "Data2 = data.groupby(['WELLNESS_PLAN_NAME'])['Clients'].sum().reset_index()\n",
    "Data2"
   ]
  },
  {
   "cell_type": "code",
   "execution_count": 7,
   "id": "7e94633d",
   "metadata": {},
   "outputs": [
    {
     "data": {
      "text/html": [
       "<div>\n",
       "<style scoped>\n",
       "    .dataframe tbody tr th:only-of-type {\n",
       "        vertical-align: middle;\n",
       "    }\n",
       "\n",
       "    .dataframe tbody tr th {\n",
       "        vertical-align: top;\n",
       "    }\n",
       "\n",
       "    .dataframe thead th {\n",
       "        text-align: right;\n",
       "    }\n",
       "</style>\n",
       "<table border=\"1\" class=\"dataframe\">\n",
       "  <thead>\n",
       "    <tr style=\"text-align: right;\">\n",
       "      <th></th>\n",
       "      <th>WELLNESS_PLAN_NAME</th>\n",
       "      <th>Clients</th>\n",
       "    </tr>\n",
       "  </thead>\n",
       "  <tbody>\n",
       "    <tr>\n",
       "      <th>12</th>\n",
       "      <td>Adult Paws for Dogs</td>\n",
       "      <td>472562</td>\n",
       "    </tr>\n",
       "    <tr>\n",
       "      <th>28</th>\n",
       "      <td>Junior Paws for Dogs</td>\n",
       "      <td>229941</td>\n",
       "    </tr>\n",
       "    <tr>\n",
       "      <th>41</th>\n",
       "      <td>Senior Paws for Dogs</td>\n",
       "      <td>172706</td>\n",
       "    </tr>\n",
       "    <tr>\n",
       "      <th>38</th>\n",
       "      <td>Senior Paws Plus for Dogs</td>\n",
       "      <td>84713</td>\n",
       "    </tr>\n",
       "    <tr>\n",
       "      <th>10</th>\n",
       "      <td>Adult Paws for Cats</td>\n",
       "      <td>79224</td>\n",
       "    </tr>\n",
       "    <tr>\n",
       "      <th>26</th>\n",
       "      <td>Junior Paws for Cats</td>\n",
       "      <td>73897</td>\n",
       "    </tr>\n",
       "    <tr>\n",
       "      <th>8</th>\n",
       "      <td>Adult Paws Plus for Dogs</td>\n",
       "      <td>46332</td>\n",
       "    </tr>\n",
       "    <tr>\n",
       "      <th>39</th>\n",
       "      <td>Senior Paws for Cats</td>\n",
       "      <td>25163</td>\n",
       "    </tr>\n",
       "    <tr>\n",
       "      <th>7</th>\n",
       "      <td>Adult Paws Plus for Cats</td>\n",
       "      <td>11350</td>\n",
       "    </tr>\n",
       "    <tr>\n",
       "      <th>37</th>\n",
       "      <td>Senior Paws Plus for Cats</td>\n",
       "      <td>10006</td>\n",
       "    </tr>\n",
       "  </tbody>\n",
       "</table>\n",
       "</div>"
      ],
      "text/plain": [
       "           WELLNESS_PLAN_NAME  Clients\n",
       "12        Adult Paws for Dogs   472562\n",
       "28       Junior Paws for Dogs   229941\n",
       "41       Senior Paws for Dogs   172706\n",
       "38  Senior Paws Plus for Dogs    84713\n",
       "10        Adult Paws for Cats    79224\n",
       "26       Junior Paws for Cats    73897\n",
       "8    Adult Paws Plus for Dogs    46332\n",
       "39       Senior Paws for Cats    25163\n",
       "7    Adult Paws Plus for Cats    11350\n",
       "37  Senior Paws Plus for Cats    10006"
      ]
     },
     "execution_count": 7,
     "metadata": {},
     "output_type": "execute_result"
    }
   ],
   "source": [
    "e =Data2.nlargest(10, ['Clients'])\n",
    "e"
   ]
  },
  {
   "cell_type": "code",
   "execution_count": 40,
   "id": "b915a19c",
   "metadata": {},
   "outputs": [
    {
     "data": {
      "application/vnd.plotly.v1+json": {
       "config": {
        "plotlyServerURL": "https://plot.ly"
       },
       "data": [
        {
         "domain": {
          "x": [
           0,
           1
          ],
          "y": [
           0,
           1
          ]
         },
         "hovertemplate": "WELLNESS_PLAN_NAME=%{label}<br>Clients=%{value}<extra></extra>",
         "labels": [
          "Adult Paws for Dogs",
          "Junior Paws for Dogs",
          "Senior Paws for Dogs",
          "Senior Paws Plus for Dogs",
          "Adult Paws for Cats",
          "Junior Paws for Cats",
          "Adult Paws Plus for Dogs",
          "Senior Paws for Cats",
          "Adult Paws Plus for Cats",
          "Senior Paws Plus for Cats"
         ],
         "legendgroup": "",
         "name": "",
         "showlegend": true,
         "type": "pie",
         "values": [
          472562,
          229941,
          172706,
          84713,
          79224,
          73897,
          46332,
          25163,
          11350,
          10006
         ]
        }
       ],
       "layout": {
        "legend": {
         "tracegroupgap": 0
        },
        "margin": {
         "t": 60
        },
        "template": {
         "data": {
          "bar": [
           {
            "error_x": {
             "color": "#2a3f5f"
            },
            "error_y": {
             "color": "#2a3f5f"
            },
            "marker": {
             "line": {
              "color": "#E5ECF6",
              "width": 0.5
             },
             "pattern": {
              "fillmode": "overlay",
              "size": 10,
              "solidity": 0.2
             }
            },
            "type": "bar"
           }
          ],
          "barpolar": [
           {
            "marker": {
             "line": {
              "color": "#E5ECF6",
              "width": 0.5
             },
             "pattern": {
              "fillmode": "overlay",
              "size": 10,
              "solidity": 0.2
             }
            },
            "type": "barpolar"
           }
          ],
          "carpet": [
           {
            "aaxis": {
             "endlinecolor": "#2a3f5f",
             "gridcolor": "white",
             "linecolor": "white",
             "minorgridcolor": "white",
             "startlinecolor": "#2a3f5f"
            },
            "baxis": {
             "endlinecolor": "#2a3f5f",
             "gridcolor": "white",
             "linecolor": "white",
             "minorgridcolor": "white",
             "startlinecolor": "#2a3f5f"
            },
            "type": "carpet"
           }
          ],
          "choropleth": [
           {
            "colorbar": {
             "outlinewidth": 0,
             "ticks": ""
            },
            "type": "choropleth"
           }
          ],
          "contour": [
           {
            "colorbar": {
             "outlinewidth": 0,
             "ticks": ""
            },
            "colorscale": [
             [
              0,
              "#0d0887"
             ],
             [
              0.1111111111111111,
              "#46039f"
             ],
             [
              0.2222222222222222,
              "#7201a8"
             ],
             [
              0.3333333333333333,
              "#9c179e"
             ],
             [
              0.4444444444444444,
              "#bd3786"
             ],
             [
              0.5555555555555556,
              "#d8576b"
             ],
             [
              0.6666666666666666,
              "#ed7953"
             ],
             [
              0.7777777777777778,
              "#fb9f3a"
             ],
             [
              0.8888888888888888,
              "#fdca26"
             ],
             [
              1,
              "#f0f921"
             ]
            ],
            "type": "contour"
           }
          ],
          "contourcarpet": [
           {
            "colorbar": {
             "outlinewidth": 0,
             "ticks": ""
            },
            "type": "contourcarpet"
           }
          ],
          "heatmap": [
           {
            "colorbar": {
             "outlinewidth": 0,
             "ticks": ""
            },
            "colorscale": [
             [
              0,
              "#0d0887"
             ],
             [
              0.1111111111111111,
              "#46039f"
             ],
             [
              0.2222222222222222,
              "#7201a8"
             ],
             [
              0.3333333333333333,
              "#9c179e"
             ],
             [
              0.4444444444444444,
              "#bd3786"
             ],
             [
              0.5555555555555556,
              "#d8576b"
             ],
             [
              0.6666666666666666,
              "#ed7953"
             ],
             [
              0.7777777777777778,
              "#fb9f3a"
             ],
             [
              0.8888888888888888,
              "#fdca26"
             ],
             [
              1,
              "#f0f921"
             ]
            ],
            "type": "heatmap"
           }
          ],
          "heatmapgl": [
           {
            "colorbar": {
             "outlinewidth": 0,
             "ticks": ""
            },
            "colorscale": [
             [
              0,
              "#0d0887"
             ],
             [
              0.1111111111111111,
              "#46039f"
             ],
             [
              0.2222222222222222,
              "#7201a8"
             ],
             [
              0.3333333333333333,
              "#9c179e"
             ],
             [
              0.4444444444444444,
              "#bd3786"
             ],
             [
              0.5555555555555556,
              "#d8576b"
             ],
             [
              0.6666666666666666,
              "#ed7953"
             ],
             [
              0.7777777777777778,
              "#fb9f3a"
             ],
             [
              0.8888888888888888,
              "#fdca26"
             ],
             [
              1,
              "#f0f921"
             ]
            ],
            "type": "heatmapgl"
           }
          ],
          "histogram": [
           {
            "marker": {
             "pattern": {
              "fillmode": "overlay",
              "size": 10,
              "solidity": 0.2
             }
            },
            "type": "histogram"
           }
          ],
          "histogram2d": [
           {
            "colorbar": {
             "outlinewidth": 0,
             "ticks": ""
            },
            "colorscale": [
             [
              0,
              "#0d0887"
             ],
             [
              0.1111111111111111,
              "#46039f"
             ],
             [
              0.2222222222222222,
              "#7201a8"
             ],
             [
              0.3333333333333333,
              "#9c179e"
             ],
             [
              0.4444444444444444,
              "#bd3786"
             ],
             [
              0.5555555555555556,
              "#d8576b"
             ],
             [
              0.6666666666666666,
              "#ed7953"
             ],
             [
              0.7777777777777778,
              "#fb9f3a"
             ],
             [
              0.8888888888888888,
              "#fdca26"
             ],
             [
              1,
              "#f0f921"
             ]
            ],
            "type": "histogram2d"
           }
          ],
          "histogram2dcontour": [
           {
            "colorbar": {
             "outlinewidth": 0,
             "ticks": ""
            },
            "colorscale": [
             [
              0,
              "#0d0887"
             ],
             [
              0.1111111111111111,
              "#46039f"
             ],
             [
              0.2222222222222222,
              "#7201a8"
             ],
             [
              0.3333333333333333,
              "#9c179e"
             ],
             [
              0.4444444444444444,
              "#bd3786"
             ],
             [
              0.5555555555555556,
              "#d8576b"
             ],
             [
              0.6666666666666666,
              "#ed7953"
             ],
             [
              0.7777777777777778,
              "#fb9f3a"
             ],
             [
              0.8888888888888888,
              "#fdca26"
             ],
             [
              1,
              "#f0f921"
             ]
            ],
            "type": "histogram2dcontour"
           }
          ],
          "mesh3d": [
           {
            "colorbar": {
             "outlinewidth": 0,
             "ticks": ""
            },
            "type": "mesh3d"
           }
          ],
          "parcoords": [
           {
            "line": {
             "colorbar": {
              "outlinewidth": 0,
              "ticks": ""
             }
            },
            "type": "parcoords"
           }
          ],
          "pie": [
           {
            "automargin": true,
            "type": "pie"
           }
          ],
          "scatter": [
           {
            "marker": {
             "colorbar": {
              "outlinewidth": 0,
              "ticks": ""
             }
            },
            "type": "scatter"
           }
          ],
          "scatter3d": [
           {
            "line": {
             "colorbar": {
              "outlinewidth": 0,
              "ticks": ""
             }
            },
            "marker": {
             "colorbar": {
              "outlinewidth": 0,
              "ticks": ""
             }
            },
            "type": "scatter3d"
           }
          ],
          "scattercarpet": [
           {
            "marker": {
             "colorbar": {
              "outlinewidth": 0,
              "ticks": ""
             }
            },
            "type": "scattercarpet"
           }
          ],
          "scattergeo": [
           {
            "marker": {
             "colorbar": {
              "outlinewidth": 0,
              "ticks": ""
             }
            },
            "type": "scattergeo"
           }
          ],
          "scattergl": [
           {
            "marker": {
             "colorbar": {
              "outlinewidth": 0,
              "ticks": ""
             }
            },
            "type": "scattergl"
           }
          ],
          "scattermapbox": [
           {
            "marker": {
             "colorbar": {
              "outlinewidth": 0,
              "ticks": ""
             }
            },
            "type": "scattermapbox"
           }
          ],
          "scatterpolar": [
           {
            "marker": {
             "colorbar": {
              "outlinewidth": 0,
              "ticks": ""
             }
            },
            "type": "scatterpolar"
           }
          ],
          "scatterpolargl": [
           {
            "marker": {
             "colorbar": {
              "outlinewidth": 0,
              "ticks": ""
             }
            },
            "type": "scatterpolargl"
           }
          ],
          "scatterternary": [
           {
            "marker": {
             "colorbar": {
              "outlinewidth": 0,
              "ticks": ""
             }
            },
            "type": "scatterternary"
           }
          ],
          "surface": [
           {
            "colorbar": {
             "outlinewidth": 0,
             "ticks": ""
            },
            "colorscale": [
             [
              0,
              "#0d0887"
             ],
             [
              0.1111111111111111,
              "#46039f"
             ],
             [
              0.2222222222222222,
              "#7201a8"
             ],
             [
              0.3333333333333333,
              "#9c179e"
             ],
             [
              0.4444444444444444,
              "#bd3786"
             ],
             [
              0.5555555555555556,
              "#d8576b"
             ],
             [
              0.6666666666666666,
              "#ed7953"
             ],
             [
              0.7777777777777778,
              "#fb9f3a"
             ],
             [
              0.8888888888888888,
              "#fdca26"
             ],
             [
              1,
              "#f0f921"
             ]
            ],
            "type": "surface"
           }
          ],
          "table": [
           {
            "cells": {
             "fill": {
              "color": "#EBF0F8"
             },
             "line": {
              "color": "white"
             }
            },
            "header": {
             "fill": {
              "color": "#C8D4E3"
             },
             "line": {
              "color": "white"
             }
            },
            "type": "table"
           }
          ]
         },
         "layout": {
          "annotationdefaults": {
           "arrowcolor": "#2a3f5f",
           "arrowhead": 0,
           "arrowwidth": 1
          },
          "autotypenumbers": "strict",
          "coloraxis": {
           "colorbar": {
            "outlinewidth": 0,
            "ticks": ""
           }
          },
          "colorscale": {
           "diverging": [
            [
             0,
             "#8e0152"
            ],
            [
             0.1,
             "#c51b7d"
            ],
            [
             0.2,
             "#de77ae"
            ],
            [
             0.3,
             "#f1b6da"
            ],
            [
             0.4,
             "#fde0ef"
            ],
            [
             0.5,
             "#f7f7f7"
            ],
            [
             0.6,
             "#e6f5d0"
            ],
            [
             0.7,
             "#b8e186"
            ],
            [
             0.8,
             "#7fbc41"
            ],
            [
             0.9,
             "#4d9221"
            ],
            [
             1,
             "#276419"
            ]
           ],
           "sequential": [
            [
             0,
             "#0d0887"
            ],
            [
             0.1111111111111111,
             "#46039f"
            ],
            [
             0.2222222222222222,
             "#7201a8"
            ],
            [
             0.3333333333333333,
             "#9c179e"
            ],
            [
             0.4444444444444444,
             "#bd3786"
            ],
            [
             0.5555555555555556,
             "#d8576b"
            ],
            [
             0.6666666666666666,
             "#ed7953"
            ],
            [
             0.7777777777777778,
             "#fb9f3a"
            ],
            [
             0.8888888888888888,
             "#fdca26"
            ],
            [
             1,
             "#f0f921"
            ]
           ],
           "sequentialminus": [
            [
             0,
             "#0d0887"
            ],
            [
             0.1111111111111111,
             "#46039f"
            ],
            [
             0.2222222222222222,
             "#7201a8"
            ],
            [
             0.3333333333333333,
             "#9c179e"
            ],
            [
             0.4444444444444444,
             "#bd3786"
            ],
            [
             0.5555555555555556,
             "#d8576b"
            ],
            [
             0.6666666666666666,
             "#ed7953"
            ],
            [
             0.7777777777777778,
             "#fb9f3a"
            ],
            [
             0.8888888888888888,
             "#fdca26"
            ],
            [
             1,
             "#f0f921"
            ]
           ]
          },
          "colorway": [
           "#636efa",
           "#EF553B",
           "#00cc96",
           "#ab63fa",
           "#FFA15A",
           "#19d3f3",
           "#FF6692",
           "#B6E880",
           "#FF97FF",
           "#FECB52"
          ],
          "font": {
           "color": "#2a3f5f"
          },
          "geo": {
           "bgcolor": "white",
           "lakecolor": "white",
           "landcolor": "#E5ECF6",
           "showlakes": true,
           "showland": true,
           "subunitcolor": "white"
          },
          "hoverlabel": {
           "align": "left"
          },
          "hovermode": "closest",
          "mapbox": {
           "style": "light"
          },
          "paper_bgcolor": "white",
          "plot_bgcolor": "#E5ECF6",
          "polar": {
           "angularaxis": {
            "gridcolor": "white",
            "linecolor": "white",
            "ticks": ""
           },
           "bgcolor": "#E5ECF6",
           "radialaxis": {
            "gridcolor": "white",
            "linecolor": "white",
            "ticks": ""
           }
          },
          "scene": {
           "xaxis": {
            "backgroundcolor": "#E5ECF6",
            "gridcolor": "white",
            "gridwidth": 2,
            "linecolor": "white",
            "showbackground": true,
            "ticks": "",
            "zerolinecolor": "white"
           },
           "yaxis": {
            "backgroundcolor": "#E5ECF6",
            "gridcolor": "white",
            "gridwidth": 2,
            "linecolor": "white",
            "showbackground": true,
            "ticks": "",
            "zerolinecolor": "white"
           },
           "zaxis": {
            "backgroundcolor": "#E5ECF6",
            "gridcolor": "white",
            "gridwidth": 2,
            "linecolor": "white",
            "showbackground": true,
            "ticks": "",
            "zerolinecolor": "white"
           }
          },
          "shapedefaults": {
           "line": {
            "color": "#2a3f5f"
           }
          },
          "ternary": {
           "aaxis": {
            "gridcolor": "white",
            "linecolor": "white",
            "ticks": ""
           },
           "baxis": {
            "gridcolor": "white",
            "linecolor": "white",
            "ticks": ""
           },
           "bgcolor": "#E5ECF6",
           "caxis": {
            "gridcolor": "white",
            "linecolor": "white",
            "ticks": ""
           }
          },
          "title": {
           "x": 0.05
          },
          "xaxis": {
           "automargin": true,
           "gridcolor": "white",
           "linecolor": "white",
           "ticks": "",
           "title": {
            "standoff": 15
           },
           "zerolinecolor": "white",
           "zerolinewidth": 2
          },
          "yaxis": {
           "automargin": true,
           "gridcolor": "white",
           "linecolor": "white",
           "ticks": "",
           "title": {
            "standoff": 15
           },
           "zerolinecolor": "white",
           "zerolinewidth": 2
          }
         }
        },
        "title": {
         "text": "Top ten Wellness Program by total of clients"
        }
       }
      },
      "text/html": [
       "<div>                            <div id=\"2ef00ca0-5a89-499e-b2f3-0d9575c79b8f\" class=\"plotly-graph-div\" style=\"height:525px; width:100%;\"></div>            <script type=\"text/javascript\">                require([\"plotly\"], function(Plotly) {                    window.PLOTLYENV=window.PLOTLYENV || {};                                    if (document.getElementById(\"2ef00ca0-5a89-499e-b2f3-0d9575c79b8f\")) {                    Plotly.newPlot(                        \"2ef00ca0-5a89-499e-b2f3-0d9575c79b8f\",                        [{\"domain\":{\"x\":[0.0,1.0],\"y\":[0.0,1.0]},\"hovertemplate\":\"WELLNESS_PLAN_NAME=%{label}<br>Clients=%{value}<extra></extra>\",\"labels\":[\"Adult Paws for Dogs\",\"Junior Paws for Dogs\",\"Senior Paws for Dogs\",\"Senior Paws Plus for Dogs\",\"Adult Paws for Cats\",\"Junior Paws for Cats\",\"Adult Paws Plus for Dogs\",\"Senior Paws for Cats\",\"Adult Paws Plus for Cats\",\"Senior Paws Plus for Cats\"],\"legendgroup\":\"\",\"name\":\"\",\"showlegend\":true,\"type\":\"pie\",\"values\":[472562,229941,172706,84713,79224,73897,46332,25163,11350,10006]}],                        {\"legend\":{\"tracegroupgap\":0},\"margin\":{\"t\":60},\"template\":{\"data\":{\"bar\":[{\"error_x\":{\"color\":\"#2a3f5f\"},\"error_y\":{\"color\":\"#2a3f5f\"},\"marker\":{\"line\":{\"color\":\"#E5ECF6\",\"width\":0.5},\"pattern\":{\"fillmode\":\"overlay\",\"size\":10,\"solidity\":0.2}},\"type\":\"bar\"}],\"barpolar\":[{\"marker\":{\"line\":{\"color\":\"#E5ECF6\",\"width\":0.5},\"pattern\":{\"fillmode\":\"overlay\",\"size\":10,\"solidity\":0.2}},\"type\":\"barpolar\"}],\"carpet\":[{\"aaxis\":{\"endlinecolor\":\"#2a3f5f\",\"gridcolor\":\"white\",\"linecolor\":\"white\",\"minorgridcolor\":\"white\",\"startlinecolor\":\"#2a3f5f\"},\"baxis\":{\"endlinecolor\":\"#2a3f5f\",\"gridcolor\":\"white\",\"linecolor\":\"white\",\"minorgridcolor\":\"white\",\"startlinecolor\":\"#2a3f5f\"},\"type\":\"carpet\"}],\"choropleth\":[{\"colorbar\":{\"outlinewidth\":0,\"ticks\":\"\"},\"type\":\"choropleth\"}],\"contour\":[{\"colorbar\":{\"outlinewidth\":0,\"ticks\":\"\"},\"colorscale\":[[0.0,\"#0d0887\"],[0.1111111111111111,\"#46039f\"],[0.2222222222222222,\"#7201a8\"],[0.3333333333333333,\"#9c179e\"],[0.4444444444444444,\"#bd3786\"],[0.5555555555555556,\"#d8576b\"],[0.6666666666666666,\"#ed7953\"],[0.7777777777777778,\"#fb9f3a\"],[0.8888888888888888,\"#fdca26\"],[1.0,\"#f0f921\"]],\"type\":\"contour\"}],\"contourcarpet\":[{\"colorbar\":{\"outlinewidth\":0,\"ticks\":\"\"},\"type\":\"contourcarpet\"}],\"heatmap\":[{\"colorbar\":{\"outlinewidth\":0,\"ticks\":\"\"},\"colorscale\":[[0.0,\"#0d0887\"],[0.1111111111111111,\"#46039f\"],[0.2222222222222222,\"#7201a8\"],[0.3333333333333333,\"#9c179e\"],[0.4444444444444444,\"#bd3786\"],[0.5555555555555556,\"#d8576b\"],[0.6666666666666666,\"#ed7953\"],[0.7777777777777778,\"#fb9f3a\"],[0.8888888888888888,\"#fdca26\"],[1.0,\"#f0f921\"]],\"type\":\"heatmap\"}],\"heatmapgl\":[{\"colorbar\":{\"outlinewidth\":0,\"ticks\":\"\"},\"colorscale\":[[0.0,\"#0d0887\"],[0.1111111111111111,\"#46039f\"],[0.2222222222222222,\"#7201a8\"],[0.3333333333333333,\"#9c179e\"],[0.4444444444444444,\"#bd3786\"],[0.5555555555555556,\"#d8576b\"],[0.6666666666666666,\"#ed7953\"],[0.7777777777777778,\"#fb9f3a\"],[0.8888888888888888,\"#fdca26\"],[1.0,\"#f0f921\"]],\"type\":\"heatmapgl\"}],\"histogram\":[{\"marker\":{\"pattern\":{\"fillmode\":\"overlay\",\"size\":10,\"solidity\":0.2}},\"type\":\"histogram\"}],\"histogram2d\":[{\"colorbar\":{\"outlinewidth\":0,\"ticks\":\"\"},\"colorscale\":[[0.0,\"#0d0887\"],[0.1111111111111111,\"#46039f\"],[0.2222222222222222,\"#7201a8\"],[0.3333333333333333,\"#9c179e\"],[0.4444444444444444,\"#bd3786\"],[0.5555555555555556,\"#d8576b\"],[0.6666666666666666,\"#ed7953\"],[0.7777777777777778,\"#fb9f3a\"],[0.8888888888888888,\"#fdca26\"],[1.0,\"#f0f921\"]],\"type\":\"histogram2d\"}],\"histogram2dcontour\":[{\"colorbar\":{\"outlinewidth\":0,\"ticks\":\"\"},\"colorscale\":[[0.0,\"#0d0887\"],[0.1111111111111111,\"#46039f\"],[0.2222222222222222,\"#7201a8\"],[0.3333333333333333,\"#9c179e\"],[0.4444444444444444,\"#bd3786\"],[0.5555555555555556,\"#d8576b\"],[0.6666666666666666,\"#ed7953\"],[0.7777777777777778,\"#fb9f3a\"],[0.8888888888888888,\"#fdca26\"],[1.0,\"#f0f921\"]],\"type\":\"histogram2dcontour\"}],\"mesh3d\":[{\"colorbar\":{\"outlinewidth\":0,\"ticks\":\"\"},\"type\":\"mesh3d\"}],\"parcoords\":[{\"line\":{\"colorbar\":{\"outlinewidth\":0,\"ticks\":\"\"}},\"type\":\"parcoords\"}],\"pie\":[{\"automargin\":true,\"type\":\"pie\"}],\"scatter\":[{\"marker\":{\"colorbar\":{\"outlinewidth\":0,\"ticks\":\"\"}},\"type\":\"scatter\"}],\"scatter3d\":[{\"line\":{\"colorbar\":{\"outlinewidth\":0,\"ticks\":\"\"}},\"marker\":{\"colorbar\":{\"outlinewidth\":0,\"ticks\":\"\"}},\"type\":\"scatter3d\"}],\"scattercarpet\":[{\"marker\":{\"colorbar\":{\"outlinewidth\":0,\"ticks\":\"\"}},\"type\":\"scattercarpet\"}],\"scattergeo\":[{\"marker\":{\"colorbar\":{\"outlinewidth\":0,\"ticks\":\"\"}},\"type\":\"scattergeo\"}],\"scattergl\":[{\"marker\":{\"colorbar\":{\"outlinewidth\":0,\"ticks\":\"\"}},\"type\":\"scattergl\"}],\"scattermapbox\":[{\"marker\":{\"colorbar\":{\"outlinewidth\":0,\"ticks\":\"\"}},\"type\":\"scattermapbox\"}],\"scatterpolar\":[{\"marker\":{\"colorbar\":{\"outlinewidth\":0,\"ticks\":\"\"}},\"type\":\"scatterpolar\"}],\"scatterpolargl\":[{\"marker\":{\"colorbar\":{\"outlinewidth\":0,\"ticks\":\"\"}},\"type\":\"scatterpolargl\"}],\"scatterternary\":[{\"marker\":{\"colorbar\":{\"outlinewidth\":0,\"ticks\":\"\"}},\"type\":\"scatterternary\"}],\"surface\":[{\"colorbar\":{\"outlinewidth\":0,\"ticks\":\"\"},\"colorscale\":[[0.0,\"#0d0887\"],[0.1111111111111111,\"#46039f\"],[0.2222222222222222,\"#7201a8\"],[0.3333333333333333,\"#9c179e\"],[0.4444444444444444,\"#bd3786\"],[0.5555555555555556,\"#d8576b\"],[0.6666666666666666,\"#ed7953\"],[0.7777777777777778,\"#fb9f3a\"],[0.8888888888888888,\"#fdca26\"],[1.0,\"#f0f921\"]],\"type\":\"surface\"}],\"table\":[{\"cells\":{\"fill\":{\"color\":\"#EBF0F8\"},\"line\":{\"color\":\"white\"}},\"header\":{\"fill\":{\"color\":\"#C8D4E3\"},\"line\":{\"color\":\"white\"}},\"type\":\"table\"}]},\"layout\":{\"annotationdefaults\":{\"arrowcolor\":\"#2a3f5f\",\"arrowhead\":0,\"arrowwidth\":1},\"autotypenumbers\":\"strict\",\"coloraxis\":{\"colorbar\":{\"outlinewidth\":0,\"ticks\":\"\"}},\"colorscale\":{\"diverging\":[[0,\"#8e0152\"],[0.1,\"#c51b7d\"],[0.2,\"#de77ae\"],[0.3,\"#f1b6da\"],[0.4,\"#fde0ef\"],[0.5,\"#f7f7f7\"],[0.6,\"#e6f5d0\"],[0.7,\"#b8e186\"],[0.8,\"#7fbc41\"],[0.9,\"#4d9221\"],[1,\"#276419\"]],\"sequential\":[[0.0,\"#0d0887\"],[0.1111111111111111,\"#46039f\"],[0.2222222222222222,\"#7201a8\"],[0.3333333333333333,\"#9c179e\"],[0.4444444444444444,\"#bd3786\"],[0.5555555555555556,\"#d8576b\"],[0.6666666666666666,\"#ed7953\"],[0.7777777777777778,\"#fb9f3a\"],[0.8888888888888888,\"#fdca26\"],[1.0,\"#f0f921\"]],\"sequentialminus\":[[0.0,\"#0d0887\"],[0.1111111111111111,\"#46039f\"],[0.2222222222222222,\"#7201a8\"],[0.3333333333333333,\"#9c179e\"],[0.4444444444444444,\"#bd3786\"],[0.5555555555555556,\"#d8576b\"],[0.6666666666666666,\"#ed7953\"],[0.7777777777777778,\"#fb9f3a\"],[0.8888888888888888,\"#fdca26\"],[1.0,\"#f0f921\"]]},\"colorway\":[\"#636efa\",\"#EF553B\",\"#00cc96\",\"#ab63fa\",\"#FFA15A\",\"#19d3f3\",\"#FF6692\",\"#B6E880\",\"#FF97FF\",\"#FECB52\"],\"font\":{\"color\":\"#2a3f5f\"},\"geo\":{\"bgcolor\":\"white\",\"lakecolor\":\"white\",\"landcolor\":\"#E5ECF6\",\"showlakes\":true,\"showland\":true,\"subunitcolor\":\"white\"},\"hoverlabel\":{\"align\":\"left\"},\"hovermode\":\"closest\",\"mapbox\":{\"style\":\"light\"},\"paper_bgcolor\":\"white\",\"plot_bgcolor\":\"#E5ECF6\",\"polar\":{\"angularaxis\":{\"gridcolor\":\"white\",\"linecolor\":\"white\",\"ticks\":\"\"},\"bgcolor\":\"#E5ECF6\",\"radialaxis\":{\"gridcolor\":\"white\",\"linecolor\":\"white\",\"ticks\":\"\"}},\"scene\":{\"xaxis\":{\"backgroundcolor\":\"#E5ECF6\",\"gridcolor\":\"white\",\"gridwidth\":2,\"linecolor\":\"white\",\"showbackground\":true,\"ticks\":\"\",\"zerolinecolor\":\"white\"},\"yaxis\":{\"backgroundcolor\":\"#E5ECF6\",\"gridcolor\":\"white\",\"gridwidth\":2,\"linecolor\":\"white\",\"showbackground\":true,\"ticks\":\"\",\"zerolinecolor\":\"white\"},\"zaxis\":{\"backgroundcolor\":\"#E5ECF6\",\"gridcolor\":\"white\",\"gridwidth\":2,\"linecolor\":\"white\",\"showbackground\":true,\"ticks\":\"\",\"zerolinecolor\":\"white\"}},\"shapedefaults\":{\"line\":{\"color\":\"#2a3f5f\"}},\"ternary\":{\"aaxis\":{\"gridcolor\":\"white\",\"linecolor\":\"white\",\"ticks\":\"\"},\"baxis\":{\"gridcolor\":\"white\",\"linecolor\":\"white\",\"ticks\":\"\"},\"bgcolor\":\"#E5ECF6\",\"caxis\":{\"gridcolor\":\"white\",\"linecolor\":\"white\",\"ticks\":\"\"}},\"title\":{\"x\":0.05},\"xaxis\":{\"automargin\":true,\"gridcolor\":\"white\",\"linecolor\":\"white\",\"ticks\":\"\",\"title\":{\"standoff\":15},\"zerolinecolor\":\"white\",\"zerolinewidth\":2},\"yaxis\":{\"automargin\":true,\"gridcolor\":\"white\",\"linecolor\":\"white\",\"ticks\":\"\",\"title\":{\"standoff\":15},\"zerolinecolor\":\"white\",\"zerolinewidth\":2}}},\"title\":{\"text\":\"Top ten Wellness Program by total of clients\"}},                        {\"responsive\": true}                    ).then(function(){\n",
       "                            \n",
       "var gd = document.getElementById('2ef00ca0-5a89-499e-b2f3-0d9575c79b8f');\n",
       "var x = new MutationObserver(function (mutations, observer) {{\n",
       "        var display = window.getComputedStyle(gd).display;\n",
       "        if (!display || display === 'none') {{\n",
       "            console.log([gd, 'removed!']);\n",
       "            Plotly.purge(gd);\n",
       "            observer.disconnect();\n",
       "        }}\n",
       "}});\n",
       "\n",
       "// Listen for the removal of the full notebook cells\n",
       "var notebookContainer = gd.closest('#notebook-container');\n",
       "if (notebookContainer) {{\n",
       "    x.observe(notebookContainer, {childList: true});\n",
       "}}\n",
       "\n",
       "// Listen for the clearing of the current output cell\n",
       "var outputEl = gd.closest('.output');\n",
       "if (outputEl) {{\n",
       "    x.observe(outputEl, {childList: true});\n",
       "}}\n",
       "\n",
       "                        })                };                });            </script>        </div>"
      ]
     },
     "metadata": {},
     "output_type": "display_data"
    }
   ],
   "source": [
    "import plotly.express as px\n",
    "fig = px.pie(e, values='Clients', names='WELLNESS_PLAN_NAME')\n",
    "fig.update_layout(title_text='Top ten Wellness Program by total of clients')\n",
    "fig.show()"
   ]
  },
  {
   "cell_type": "markdown",
   "id": "1868e3db",
   "metadata": {},
   "source": [
    "We have total number of clients by Wellness Program of :"
   ]
  },
  {
   "cell_type": "code",
   "execution_count": 9,
   "id": "de067546",
   "metadata": {},
   "outputs": [
    {
     "name": "stdout",
     "output_type": "stream",
     "text": [
      "Total of Clients : 1256896\n"
     ]
    }
   ],
   "source": [
    "x = data['Clients'].sum()\n",
    "print(\"Total of Clients :\",x)"
   ]
  },
  {
   "cell_type": "markdown",
   "id": "b3d6fb98",
   "metadata": {},
   "source": [
    "And the Top Ten Welleness Program by Client are :"
   ]
  },
  {
   "cell_type": "code",
   "execution_count": 10,
   "id": "623a174a",
   "metadata": {},
   "outputs": [
    {
     "name": "stdout",
     "output_type": "stream",
     "text": [
      "Total of Clients : 1205894\n"
     ]
    }
   ],
   "source": [
    "y = e['Clients'].sum()\n",
    "print(\"Total of Clients :\",y)"
   ]
  },
  {
   "cell_type": "code",
   "execution_count": 11,
   "id": "a2d24393",
   "metadata": {},
   "outputs": [
    {
     "data": {
      "application/vnd.plotly.v1+json": {
       "config": {
        "plotlyServerURL": "https://plot.ly"
       },
       "data": [
        {
         "delta": {
          "reference": 51092
         },
         "domain": {
          "x": [
           0.1,
           1
          ],
          "y": [
           0.2,
           0.9
          ]
         },
         "gauge": {
          "shape": "bullet"
         },
         "mode": "gauge+number+delta",
         "title": {
          "text": "Total Clients"
         },
         "type": "indicator",
         "value": 1256896
        }
       ],
       "layout": {
        "template": {
         "data": {
          "bar": [
           {
            "error_x": {
             "color": "#2a3f5f"
            },
            "error_y": {
             "color": "#2a3f5f"
            },
            "marker": {
             "line": {
              "color": "#E5ECF6",
              "width": 0.5
             },
             "pattern": {
              "fillmode": "overlay",
              "size": 10,
              "solidity": 0.2
             }
            },
            "type": "bar"
           }
          ],
          "barpolar": [
           {
            "marker": {
             "line": {
              "color": "#E5ECF6",
              "width": 0.5
             },
             "pattern": {
              "fillmode": "overlay",
              "size": 10,
              "solidity": 0.2
             }
            },
            "type": "barpolar"
           }
          ],
          "carpet": [
           {
            "aaxis": {
             "endlinecolor": "#2a3f5f",
             "gridcolor": "white",
             "linecolor": "white",
             "minorgridcolor": "white",
             "startlinecolor": "#2a3f5f"
            },
            "baxis": {
             "endlinecolor": "#2a3f5f",
             "gridcolor": "white",
             "linecolor": "white",
             "minorgridcolor": "white",
             "startlinecolor": "#2a3f5f"
            },
            "type": "carpet"
           }
          ],
          "choropleth": [
           {
            "colorbar": {
             "outlinewidth": 0,
             "ticks": ""
            },
            "type": "choropleth"
           }
          ],
          "contour": [
           {
            "colorbar": {
             "outlinewidth": 0,
             "ticks": ""
            },
            "colorscale": [
             [
              0,
              "#0d0887"
             ],
             [
              0.1111111111111111,
              "#46039f"
             ],
             [
              0.2222222222222222,
              "#7201a8"
             ],
             [
              0.3333333333333333,
              "#9c179e"
             ],
             [
              0.4444444444444444,
              "#bd3786"
             ],
             [
              0.5555555555555556,
              "#d8576b"
             ],
             [
              0.6666666666666666,
              "#ed7953"
             ],
             [
              0.7777777777777778,
              "#fb9f3a"
             ],
             [
              0.8888888888888888,
              "#fdca26"
             ],
             [
              1,
              "#f0f921"
             ]
            ],
            "type": "contour"
           }
          ],
          "contourcarpet": [
           {
            "colorbar": {
             "outlinewidth": 0,
             "ticks": ""
            },
            "type": "contourcarpet"
           }
          ],
          "heatmap": [
           {
            "colorbar": {
             "outlinewidth": 0,
             "ticks": ""
            },
            "colorscale": [
             [
              0,
              "#0d0887"
             ],
             [
              0.1111111111111111,
              "#46039f"
             ],
             [
              0.2222222222222222,
              "#7201a8"
             ],
             [
              0.3333333333333333,
              "#9c179e"
             ],
             [
              0.4444444444444444,
              "#bd3786"
             ],
             [
              0.5555555555555556,
              "#d8576b"
             ],
             [
              0.6666666666666666,
              "#ed7953"
             ],
             [
              0.7777777777777778,
              "#fb9f3a"
             ],
             [
              0.8888888888888888,
              "#fdca26"
             ],
             [
              1,
              "#f0f921"
             ]
            ],
            "type": "heatmap"
           }
          ],
          "heatmapgl": [
           {
            "colorbar": {
             "outlinewidth": 0,
             "ticks": ""
            },
            "colorscale": [
             [
              0,
              "#0d0887"
             ],
             [
              0.1111111111111111,
              "#46039f"
             ],
             [
              0.2222222222222222,
              "#7201a8"
             ],
             [
              0.3333333333333333,
              "#9c179e"
             ],
             [
              0.4444444444444444,
              "#bd3786"
             ],
             [
              0.5555555555555556,
              "#d8576b"
             ],
             [
              0.6666666666666666,
              "#ed7953"
             ],
             [
              0.7777777777777778,
              "#fb9f3a"
             ],
             [
              0.8888888888888888,
              "#fdca26"
             ],
             [
              1,
              "#f0f921"
             ]
            ],
            "type": "heatmapgl"
           }
          ],
          "histogram": [
           {
            "marker": {
             "pattern": {
              "fillmode": "overlay",
              "size": 10,
              "solidity": 0.2
             }
            },
            "type": "histogram"
           }
          ],
          "histogram2d": [
           {
            "colorbar": {
             "outlinewidth": 0,
             "ticks": ""
            },
            "colorscale": [
             [
              0,
              "#0d0887"
             ],
             [
              0.1111111111111111,
              "#46039f"
             ],
             [
              0.2222222222222222,
              "#7201a8"
             ],
             [
              0.3333333333333333,
              "#9c179e"
             ],
             [
              0.4444444444444444,
              "#bd3786"
             ],
             [
              0.5555555555555556,
              "#d8576b"
             ],
             [
              0.6666666666666666,
              "#ed7953"
             ],
             [
              0.7777777777777778,
              "#fb9f3a"
             ],
             [
              0.8888888888888888,
              "#fdca26"
             ],
             [
              1,
              "#f0f921"
             ]
            ],
            "type": "histogram2d"
           }
          ],
          "histogram2dcontour": [
           {
            "colorbar": {
             "outlinewidth": 0,
             "ticks": ""
            },
            "colorscale": [
             [
              0,
              "#0d0887"
             ],
             [
              0.1111111111111111,
              "#46039f"
             ],
             [
              0.2222222222222222,
              "#7201a8"
             ],
             [
              0.3333333333333333,
              "#9c179e"
             ],
             [
              0.4444444444444444,
              "#bd3786"
             ],
             [
              0.5555555555555556,
              "#d8576b"
             ],
             [
              0.6666666666666666,
              "#ed7953"
             ],
             [
              0.7777777777777778,
              "#fb9f3a"
             ],
             [
              0.8888888888888888,
              "#fdca26"
             ],
             [
              1,
              "#f0f921"
             ]
            ],
            "type": "histogram2dcontour"
           }
          ],
          "mesh3d": [
           {
            "colorbar": {
             "outlinewidth": 0,
             "ticks": ""
            },
            "type": "mesh3d"
           }
          ],
          "parcoords": [
           {
            "line": {
             "colorbar": {
              "outlinewidth": 0,
              "ticks": ""
             }
            },
            "type": "parcoords"
           }
          ],
          "pie": [
           {
            "automargin": true,
            "type": "pie"
           }
          ],
          "scatter": [
           {
            "marker": {
             "colorbar": {
              "outlinewidth": 0,
              "ticks": ""
             }
            },
            "type": "scatter"
           }
          ],
          "scatter3d": [
           {
            "line": {
             "colorbar": {
              "outlinewidth": 0,
              "ticks": ""
             }
            },
            "marker": {
             "colorbar": {
              "outlinewidth": 0,
              "ticks": ""
             }
            },
            "type": "scatter3d"
           }
          ],
          "scattercarpet": [
           {
            "marker": {
             "colorbar": {
              "outlinewidth": 0,
              "ticks": ""
             }
            },
            "type": "scattercarpet"
           }
          ],
          "scattergeo": [
           {
            "marker": {
             "colorbar": {
              "outlinewidth": 0,
              "ticks": ""
             }
            },
            "type": "scattergeo"
           }
          ],
          "scattergl": [
           {
            "marker": {
             "colorbar": {
              "outlinewidth": 0,
              "ticks": ""
             }
            },
            "type": "scattergl"
           }
          ],
          "scattermapbox": [
           {
            "marker": {
             "colorbar": {
              "outlinewidth": 0,
              "ticks": ""
             }
            },
            "type": "scattermapbox"
           }
          ],
          "scatterpolar": [
           {
            "marker": {
             "colorbar": {
              "outlinewidth": 0,
              "ticks": ""
             }
            },
            "type": "scatterpolar"
           }
          ],
          "scatterpolargl": [
           {
            "marker": {
             "colorbar": {
              "outlinewidth": 0,
              "ticks": ""
             }
            },
            "type": "scatterpolargl"
           }
          ],
          "scatterternary": [
           {
            "marker": {
             "colorbar": {
              "outlinewidth": 0,
              "ticks": ""
             }
            },
            "type": "scatterternary"
           }
          ],
          "surface": [
           {
            "colorbar": {
             "outlinewidth": 0,
             "ticks": ""
            },
            "colorscale": [
             [
              0,
              "#0d0887"
             ],
             [
              0.1111111111111111,
              "#46039f"
             ],
             [
              0.2222222222222222,
              "#7201a8"
             ],
             [
              0.3333333333333333,
              "#9c179e"
             ],
             [
              0.4444444444444444,
              "#bd3786"
             ],
             [
              0.5555555555555556,
              "#d8576b"
             ],
             [
              0.6666666666666666,
              "#ed7953"
             ],
             [
              0.7777777777777778,
              "#fb9f3a"
             ],
             [
              0.8888888888888888,
              "#fdca26"
             ],
             [
              1,
              "#f0f921"
             ]
            ],
            "type": "surface"
           }
          ],
          "table": [
           {
            "cells": {
             "fill": {
              "color": "#EBF0F8"
             },
             "line": {
              "color": "white"
             }
            },
            "header": {
             "fill": {
              "color": "#C8D4E3"
             },
             "line": {
              "color": "white"
             }
            },
            "type": "table"
           }
          ]
         },
         "layout": {
          "annotationdefaults": {
           "arrowcolor": "#2a3f5f",
           "arrowhead": 0,
           "arrowwidth": 1
          },
          "autotypenumbers": "strict",
          "coloraxis": {
           "colorbar": {
            "outlinewidth": 0,
            "ticks": ""
           }
          },
          "colorscale": {
           "diverging": [
            [
             0,
             "#8e0152"
            ],
            [
             0.1,
             "#c51b7d"
            ],
            [
             0.2,
             "#de77ae"
            ],
            [
             0.3,
             "#f1b6da"
            ],
            [
             0.4,
             "#fde0ef"
            ],
            [
             0.5,
             "#f7f7f7"
            ],
            [
             0.6,
             "#e6f5d0"
            ],
            [
             0.7,
             "#b8e186"
            ],
            [
             0.8,
             "#7fbc41"
            ],
            [
             0.9,
             "#4d9221"
            ],
            [
             1,
             "#276419"
            ]
           ],
           "sequential": [
            [
             0,
             "#0d0887"
            ],
            [
             0.1111111111111111,
             "#46039f"
            ],
            [
             0.2222222222222222,
             "#7201a8"
            ],
            [
             0.3333333333333333,
             "#9c179e"
            ],
            [
             0.4444444444444444,
             "#bd3786"
            ],
            [
             0.5555555555555556,
             "#d8576b"
            ],
            [
             0.6666666666666666,
             "#ed7953"
            ],
            [
             0.7777777777777778,
             "#fb9f3a"
            ],
            [
             0.8888888888888888,
             "#fdca26"
            ],
            [
             1,
             "#f0f921"
            ]
           ],
           "sequentialminus": [
            [
             0,
             "#0d0887"
            ],
            [
             0.1111111111111111,
             "#46039f"
            ],
            [
             0.2222222222222222,
             "#7201a8"
            ],
            [
             0.3333333333333333,
             "#9c179e"
            ],
            [
             0.4444444444444444,
             "#bd3786"
            ],
            [
             0.5555555555555556,
             "#d8576b"
            ],
            [
             0.6666666666666666,
             "#ed7953"
            ],
            [
             0.7777777777777778,
             "#fb9f3a"
            ],
            [
             0.8888888888888888,
             "#fdca26"
            ],
            [
             1,
             "#f0f921"
            ]
           ]
          },
          "colorway": [
           "#636efa",
           "#EF553B",
           "#00cc96",
           "#ab63fa",
           "#FFA15A",
           "#19d3f3",
           "#FF6692",
           "#B6E880",
           "#FF97FF",
           "#FECB52"
          ],
          "font": {
           "color": "#2a3f5f"
          },
          "geo": {
           "bgcolor": "white",
           "lakecolor": "white",
           "landcolor": "#E5ECF6",
           "showlakes": true,
           "showland": true,
           "subunitcolor": "white"
          },
          "hoverlabel": {
           "align": "left"
          },
          "hovermode": "closest",
          "mapbox": {
           "style": "light"
          },
          "paper_bgcolor": "white",
          "plot_bgcolor": "#E5ECF6",
          "polar": {
           "angularaxis": {
            "gridcolor": "white",
            "linecolor": "white",
            "ticks": ""
           },
           "bgcolor": "#E5ECF6",
           "radialaxis": {
            "gridcolor": "white",
            "linecolor": "white",
            "ticks": ""
           }
          },
          "scene": {
           "xaxis": {
            "backgroundcolor": "#E5ECF6",
            "gridcolor": "white",
            "gridwidth": 2,
            "linecolor": "white",
            "showbackground": true,
            "ticks": "",
            "zerolinecolor": "white"
           },
           "yaxis": {
            "backgroundcolor": "#E5ECF6",
            "gridcolor": "white",
            "gridwidth": 2,
            "linecolor": "white",
            "showbackground": true,
            "ticks": "",
            "zerolinecolor": "white"
           },
           "zaxis": {
            "backgroundcolor": "#E5ECF6",
            "gridcolor": "white",
            "gridwidth": 2,
            "linecolor": "white",
            "showbackground": true,
            "ticks": "",
            "zerolinecolor": "white"
           }
          },
          "shapedefaults": {
           "line": {
            "color": "#2a3f5f"
           }
          },
          "ternary": {
           "aaxis": {
            "gridcolor": "white",
            "linecolor": "white",
            "ticks": ""
           },
           "baxis": {
            "gridcolor": "white",
            "linecolor": "white",
            "ticks": ""
           },
           "bgcolor": "#E5ECF6",
           "caxis": {
            "gridcolor": "white",
            "linecolor": "white",
            "ticks": ""
           }
          },
          "title": {
           "x": 0.05
          },
          "xaxis": {
           "automargin": true,
           "gridcolor": "white",
           "linecolor": "white",
           "ticks": "",
           "title": {
            "standoff": 15
           },
           "zerolinecolor": "white",
           "zerolinewidth": 2
          },
          "yaxis": {
           "automargin": true,
           "gridcolor": "white",
           "linecolor": "white",
           "ticks": "",
           "title": {
            "standoff": 15
           },
           "zerolinecolor": "white",
           "zerolinewidth": 2
          }
         }
        }
       }
      },
      "text/html": [
       "<div>                            <div id=\"b00d9d49-fd0d-4568-b44d-d60a39f8097c\" class=\"plotly-graph-div\" style=\"height:525px; width:100%;\"></div>            <script type=\"text/javascript\">                require([\"plotly\"], function(Plotly) {                    window.PLOTLYENV=window.PLOTLYENV || {};                                    if (document.getElementById(\"b00d9d49-fd0d-4568-b44d-d60a39f8097c\")) {                    Plotly.newPlot(                        \"b00d9d49-fd0d-4568-b44d-d60a39f8097c\",                        [{\"delta\":{\"reference\":51092},\"domain\":{\"x\":[0.1,1],\"y\":[0.2,0.9]},\"gauge\":{\"shape\":\"bullet\"},\"mode\":\"gauge+number+delta\",\"title\":{\"text\":\"Total Clients\"},\"type\":\"indicator\",\"value\":1256896}],                        {\"template\":{\"data\":{\"bar\":[{\"error_x\":{\"color\":\"#2a3f5f\"},\"error_y\":{\"color\":\"#2a3f5f\"},\"marker\":{\"line\":{\"color\":\"#E5ECF6\",\"width\":0.5},\"pattern\":{\"fillmode\":\"overlay\",\"size\":10,\"solidity\":0.2}},\"type\":\"bar\"}],\"barpolar\":[{\"marker\":{\"line\":{\"color\":\"#E5ECF6\",\"width\":0.5},\"pattern\":{\"fillmode\":\"overlay\",\"size\":10,\"solidity\":0.2}},\"type\":\"barpolar\"}],\"carpet\":[{\"aaxis\":{\"endlinecolor\":\"#2a3f5f\",\"gridcolor\":\"white\",\"linecolor\":\"white\",\"minorgridcolor\":\"white\",\"startlinecolor\":\"#2a3f5f\"},\"baxis\":{\"endlinecolor\":\"#2a3f5f\",\"gridcolor\":\"white\",\"linecolor\":\"white\",\"minorgridcolor\":\"white\",\"startlinecolor\":\"#2a3f5f\"},\"type\":\"carpet\"}],\"choropleth\":[{\"colorbar\":{\"outlinewidth\":0,\"ticks\":\"\"},\"type\":\"choropleth\"}],\"contour\":[{\"colorbar\":{\"outlinewidth\":0,\"ticks\":\"\"},\"colorscale\":[[0.0,\"#0d0887\"],[0.1111111111111111,\"#46039f\"],[0.2222222222222222,\"#7201a8\"],[0.3333333333333333,\"#9c179e\"],[0.4444444444444444,\"#bd3786\"],[0.5555555555555556,\"#d8576b\"],[0.6666666666666666,\"#ed7953\"],[0.7777777777777778,\"#fb9f3a\"],[0.8888888888888888,\"#fdca26\"],[1.0,\"#f0f921\"]],\"type\":\"contour\"}],\"contourcarpet\":[{\"colorbar\":{\"outlinewidth\":0,\"ticks\":\"\"},\"type\":\"contourcarpet\"}],\"heatmap\":[{\"colorbar\":{\"outlinewidth\":0,\"ticks\":\"\"},\"colorscale\":[[0.0,\"#0d0887\"],[0.1111111111111111,\"#46039f\"],[0.2222222222222222,\"#7201a8\"],[0.3333333333333333,\"#9c179e\"],[0.4444444444444444,\"#bd3786\"],[0.5555555555555556,\"#d8576b\"],[0.6666666666666666,\"#ed7953\"],[0.7777777777777778,\"#fb9f3a\"],[0.8888888888888888,\"#fdca26\"],[1.0,\"#f0f921\"]],\"type\":\"heatmap\"}],\"heatmapgl\":[{\"colorbar\":{\"outlinewidth\":0,\"ticks\":\"\"},\"colorscale\":[[0.0,\"#0d0887\"],[0.1111111111111111,\"#46039f\"],[0.2222222222222222,\"#7201a8\"],[0.3333333333333333,\"#9c179e\"],[0.4444444444444444,\"#bd3786\"],[0.5555555555555556,\"#d8576b\"],[0.6666666666666666,\"#ed7953\"],[0.7777777777777778,\"#fb9f3a\"],[0.8888888888888888,\"#fdca26\"],[1.0,\"#f0f921\"]],\"type\":\"heatmapgl\"}],\"histogram\":[{\"marker\":{\"pattern\":{\"fillmode\":\"overlay\",\"size\":10,\"solidity\":0.2}},\"type\":\"histogram\"}],\"histogram2d\":[{\"colorbar\":{\"outlinewidth\":0,\"ticks\":\"\"},\"colorscale\":[[0.0,\"#0d0887\"],[0.1111111111111111,\"#46039f\"],[0.2222222222222222,\"#7201a8\"],[0.3333333333333333,\"#9c179e\"],[0.4444444444444444,\"#bd3786\"],[0.5555555555555556,\"#d8576b\"],[0.6666666666666666,\"#ed7953\"],[0.7777777777777778,\"#fb9f3a\"],[0.8888888888888888,\"#fdca26\"],[1.0,\"#f0f921\"]],\"type\":\"histogram2d\"}],\"histogram2dcontour\":[{\"colorbar\":{\"outlinewidth\":0,\"ticks\":\"\"},\"colorscale\":[[0.0,\"#0d0887\"],[0.1111111111111111,\"#46039f\"],[0.2222222222222222,\"#7201a8\"],[0.3333333333333333,\"#9c179e\"],[0.4444444444444444,\"#bd3786\"],[0.5555555555555556,\"#d8576b\"],[0.6666666666666666,\"#ed7953\"],[0.7777777777777778,\"#fb9f3a\"],[0.8888888888888888,\"#fdca26\"],[1.0,\"#f0f921\"]],\"type\":\"histogram2dcontour\"}],\"mesh3d\":[{\"colorbar\":{\"outlinewidth\":0,\"ticks\":\"\"},\"type\":\"mesh3d\"}],\"parcoords\":[{\"line\":{\"colorbar\":{\"outlinewidth\":0,\"ticks\":\"\"}},\"type\":\"parcoords\"}],\"pie\":[{\"automargin\":true,\"type\":\"pie\"}],\"scatter\":[{\"marker\":{\"colorbar\":{\"outlinewidth\":0,\"ticks\":\"\"}},\"type\":\"scatter\"}],\"scatter3d\":[{\"line\":{\"colorbar\":{\"outlinewidth\":0,\"ticks\":\"\"}},\"marker\":{\"colorbar\":{\"outlinewidth\":0,\"ticks\":\"\"}},\"type\":\"scatter3d\"}],\"scattercarpet\":[{\"marker\":{\"colorbar\":{\"outlinewidth\":0,\"ticks\":\"\"}},\"type\":\"scattercarpet\"}],\"scattergeo\":[{\"marker\":{\"colorbar\":{\"outlinewidth\":0,\"ticks\":\"\"}},\"type\":\"scattergeo\"}],\"scattergl\":[{\"marker\":{\"colorbar\":{\"outlinewidth\":0,\"ticks\":\"\"}},\"type\":\"scattergl\"}],\"scattermapbox\":[{\"marker\":{\"colorbar\":{\"outlinewidth\":0,\"ticks\":\"\"}},\"type\":\"scattermapbox\"}],\"scatterpolar\":[{\"marker\":{\"colorbar\":{\"outlinewidth\":0,\"ticks\":\"\"}},\"type\":\"scatterpolar\"}],\"scatterpolargl\":[{\"marker\":{\"colorbar\":{\"outlinewidth\":0,\"ticks\":\"\"}},\"type\":\"scatterpolargl\"}],\"scatterternary\":[{\"marker\":{\"colorbar\":{\"outlinewidth\":0,\"ticks\":\"\"}},\"type\":\"scatterternary\"}],\"surface\":[{\"colorbar\":{\"outlinewidth\":0,\"ticks\":\"\"},\"colorscale\":[[0.0,\"#0d0887\"],[0.1111111111111111,\"#46039f\"],[0.2222222222222222,\"#7201a8\"],[0.3333333333333333,\"#9c179e\"],[0.4444444444444444,\"#bd3786\"],[0.5555555555555556,\"#d8576b\"],[0.6666666666666666,\"#ed7953\"],[0.7777777777777778,\"#fb9f3a\"],[0.8888888888888888,\"#fdca26\"],[1.0,\"#f0f921\"]],\"type\":\"surface\"}],\"table\":[{\"cells\":{\"fill\":{\"color\":\"#EBF0F8\"},\"line\":{\"color\":\"white\"}},\"header\":{\"fill\":{\"color\":\"#C8D4E3\"},\"line\":{\"color\":\"white\"}},\"type\":\"table\"}]},\"layout\":{\"annotationdefaults\":{\"arrowcolor\":\"#2a3f5f\",\"arrowhead\":0,\"arrowwidth\":1},\"autotypenumbers\":\"strict\",\"coloraxis\":{\"colorbar\":{\"outlinewidth\":0,\"ticks\":\"\"}},\"colorscale\":{\"diverging\":[[0,\"#8e0152\"],[0.1,\"#c51b7d\"],[0.2,\"#de77ae\"],[0.3,\"#f1b6da\"],[0.4,\"#fde0ef\"],[0.5,\"#f7f7f7\"],[0.6,\"#e6f5d0\"],[0.7,\"#b8e186\"],[0.8,\"#7fbc41\"],[0.9,\"#4d9221\"],[1,\"#276419\"]],\"sequential\":[[0.0,\"#0d0887\"],[0.1111111111111111,\"#46039f\"],[0.2222222222222222,\"#7201a8\"],[0.3333333333333333,\"#9c179e\"],[0.4444444444444444,\"#bd3786\"],[0.5555555555555556,\"#d8576b\"],[0.6666666666666666,\"#ed7953\"],[0.7777777777777778,\"#fb9f3a\"],[0.8888888888888888,\"#fdca26\"],[1.0,\"#f0f921\"]],\"sequentialminus\":[[0.0,\"#0d0887\"],[0.1111111111111111,\"#46039f\"],[0.2222222222222222,\"#7201a8\"],[0.3333333333333333,\"#9c179e\"],[0.4444444444444444,\"#bd3786\"],[0.5555555555555556,\"#d8576b\"],[0.6666666666666666,\"#ed7953\"],[0.7777777777777778,\"#fb9f3a\"],[0.8888888888888888,\"#fdca26\"],[1.0,\"#f0f921\"]]},\"colorway\":[\"#636efa\",\"#EF553B\",\"#00cc96\",\"#ab63fa\",\"#FFA15A\",\"#19d3f3\",\"#FF6692\",\"#B6E880\",\"#FF97FF\",\"#FECB52\"],\"font\":{\"color\":\"#2a3f5f\"},\"geo\":{\"bgcolor\":\"white\",\"lakecolor\":\"white\",\"landcolor\":\"#E5ECF6\",\"showlakes\":true,\"showland\":true,\"subunitcolor\":\"white\"},\"hoverlabel\":{\"align\":\"left\"},\"hovermode\":\"closest\",\"mapbox\":{\"style\":\"light\"},\"paper_bgcolor\":\"white\",\"plot_bgcolor\":\"#E5ECF6\",\"polar\":{\"angularaxis\":{\"gridcolor\":\"white\",\"linecolor\":\"white\",\"ticks\":\"\"},\"bgcolor\":\"#E5ECF6\",\"radialaxis\":{\"gridcolor\":\"white\",\"linecolor\":\"white\",\"ticks\":\"\"}},\"scene\":{\"xaxis\":{\"backgroundcolor\":\"#E5ECF6\",\"gridcolor\":\"white\",\"gridwidth\":2,\"linecolor\":\"white\",\"showbackground\":true,\"ticks\":\"\",\"zerolinecolor\":\"white\"},\"yaxis\":{\"backgroundcolor\":\"#E5ECF6\",\"gridcolor\":\"white\",\"gridwidth\":2,\"linecolor\":\"white\",\"showbackground\":true,\"ticks\":\"\",\"zerolinecolor\":\"white\"},\"zaxis\":{\"backgroundcolor\":\"#E5ECF6\",\"gridcolor\":\"white\",\"gridwidth\":2,\"linecolor\":\"white\",\"showbackground\":true,\"ticks\":\"\",\"zerolinecolor\":\"white\"}},\"shapedefaults\":{\"line\":{\"color\":\"#2a3f5f\"}},\"ternary\":{\"aaxis\":{\"gridcolor\":\"white\",\"linecolor\":\"white\",\"ticks\":\"\"},\"baxis\":{\"gridcolor\":\"white\",\"linecolor\":\"white\",\"ticks\":\"\"},\"bgcolor\":\"#E5ECF6\",\"caxis\":{\"gridcolor\":\"white\",\"linecolor\":\"white\",\"ticks\":\"\"}},\"title\":{\"x\":0.05},\"xaxis\":{\"automargin\":true,\"gridcolor\":\"white\",\"linecolor\":\"white\",\"ticks\":\"\",\"title\":{\"standoff\":15},\"zerolinecolor\":\"white\",\"zerolinewidth\":2},\"yaxis\":{\"automargin\":true,\"gridcolor\":\"white\",\"linecolor\":\"white\",\"ticks\":\"\",\"title\":{\"standoff\":15},\"zerolinecolor\":\"white\",\"zerolinewidth\":2}}}},                        {\"responsive\": true}                    ).then(function(){\n",
       "                            \n",
       "var gd = document.getElementById('b00d9d49-fd0d-4568-b44d-d60a39f8097c');\n",
       "var x = new MutationObserver(function (mutations, observer) {{\n",
       "        var display = window.getComputedStyle(gd).display;\n",
       "        if (!display || display === 'none') {{\n",
       "            console.log([gd, 'removed!']);\n",
       "            Plotly.purge(gd);\n",
       "            observer.disconnect();\n",
       "        }}\n",
       "}});\n",
       "\n",
       "// Listen for the removal of the full notebook cells\n",
       "var notebookContainer = gd.closest('#notebook-container');\n",
       "if (notebookContainer) {{\n",
       "    x.observe(notebookContainer, {childList: true});\n",
       "}}\n",
       "\n",
       "// Listen for the clearing of the current output cell\n",
       "var outputEl = gd.closest('.output');\n",
       "if (outputEl) {{\n",
       "    x.observe(outputEl, {childList: true});\n",
       "}}\n",
       "\n",
       "                        })                };                });            </script>        </div>"
      ]
     },
     "metadata": {},
     "output_type": "display_data"
    }
   ],
   "source": [
    "import plotly.graph_objects as go\n",
    "\n",
    "fig = go.Figure(go.Indicator(\n",
    "    mode = \"gauge+number+delta\",\n",
    "    gauge = {'shape': \"bullet\"},\n",
    "    delta = {'reference': 51092},\n",
    "    value = x,\n",
    "    domain = {'x': [0.1, 1], 'y': [0.2, 0.9]},\n",
    "    title = {'text': \"Total Clients\"}))\n",
    "\n",
    "fig.show()"
   ]
  },
  {
   "cell_type": "code",
   "execution_count": 13,
   "id": "fb9b9ecb",
   "metadata": {},
   "outputs": [
    {
     "data": {
      "text/html": [
       "<div>\n",
       "<style scoped>\n",
       "    .dataframe tbody tr th:only-of-type {\n",
       "        vertical-align: middle;\n",
       "    }\n",
       "\n",
       "    .dataframe tbody tr th {\n",
       "        vertical-align: top;\n",
       "    }\n",
       "\n",
       "    .dataframe thead th {\n",
       "        text-align: right;\n",
       "    }\n",
       "</style>\n",
       "<table border=\"1\" class=\"dataframe\">\n",
       "  <thead>\n",
       "    <tr style=\"text-align: right;\">\n",
       "      <th></th>\n",
       "      <th>SERVICE_NAME</th>\n",
       "      <th>Clients</th>\n",
       "    </tr>\n",
       "  </thead>\n",
       "  <tbody>\n",
       "    <tr>\n",
       "      <th>0</th>\n",
       "      <td>Abdominal Cryptorchid add to neuter K9</td>\n",
       "      <td>2</td>\n",
       "    </tr>\n",
       "    <tr>\n",
       "      <th>1</th>\n",
       "      <td>Accuplex K9</td>\n",
       "      <td>87</td>\n",
       "    </tr>\n",
       "    <tr>\n",
       "      <th>2</th>\n",
       "      <td>Additonal Fecal exam</td>\n",
       "      <td>33</td>\n",
       "    </tr>\n",
       "    <tr>\n",
       "      <th>3</th>\n",
       "      <td>Adult Wellness Fel</td>\n",
       "      <td>33</td>\n",
       "    </tr>\n",
       "    <tr>\n",
       "      <th>4</th>\n",
       "      <td>Adult Wellness K9</td>\n",
       "      <td>128</td>\n",
       "    </tr>\n",
       "    <tr>\n",
       "      <th>...</th>\n",
       "      <td>...</td>\n",
       "      <td>...</td>\n",
       "    </tr>\n",
       "    <tr>\n",
       "      <th>162</th>\n",
       "      <td>Single region Studies.</td>\n",
       "      <td>23</td>\n",
       "    </tr>\n",
       "    <tr>\n",
       "      <th>163</th>\n",
       "      <td>Surgical Pain Management</td>\n",
       "      <td>535</td>\n",
       "    </tr>\n",
       "    <tr>\n",
       "      <th>164</th>\n",
       "      <td>UPC K9</td>\n",
       "      <td>1</td>\n",
       "    </tr>\n",
       "    <tr>\n",
       "      <th>165</th>\n",
       "      <td>Umbilical hernia ADD add to spay</td>\n",
       "      <td>1</td>\n",
       "    </tr>\n",
       "    <tr>\n",
       "      <th>166</th>\n",
       "      <td>Wellness Exam</td>\n",
       "      <td>78607</td>\n",
       "    </tr>\n",
       "  </tbody>\n",
       "</table>\n",
       "<p>167 rows × 2 columns</p>\n",
       "</div>"
      ],
      "text/plain": [
       "                               SERVICE_NAME  Clients\n",
       "0    Abdominal Cryptorchid add to neuter K9        2\n",
       "1                               Accuplex K9       87\n",
       "2                      Additonal Fecal exam       33\n",
       "3                        Adult Wellness Fel       33\n",
       "4                         Adult Wellness K9      128\n",
       "..                                      ...      ...\n",
       "162                  Single region Studies.       23\n",
       "163                Surgical Pain Management      535\n",
       "164                                  UPC K9        1\n",
       "165        Umbilical hernia ADD add to spay        1\n",
       "166                           Wellness Exam    78607\n",
       "\n",
       "[167 rows x 2 columns]"
      ]
     },
     "execution_count": 13,
     "metadata": {},
     "output_type": "execute_result"
    }
   ],
   "source": [
    "Data3 = data.groupby(['SERVICE_NAME'])['Clients'].sum().reset_index()\n",
    "Data3"
   ]
  },
  {
   "cell_type": "code",
   "execution_count": 14,
   "id": "5cdc98cb",
   "metadata": {},
   "outputs": [
    {
     "data": {
      "text/html": [
       "<div>\n",
       "<style scoped>\n",
       "    .dataframe tbody tr th:only-of-type {\n",
       "        vertical-align: middle;\n",
       "    }\n",
       "\n",
       "    .dataframe tbody tr th {\n",
       "        vertical-align: top;\n",
       "    }\n",
       "\n",
       "    .dataframe thead th {\n",
       "        text-align: right;\n",
       "    }\n",
       "</style>\n",
       "<table border=\"1\" class=\"dataframe\">\n",
       "  <thead>\n",
       "    <tr style=\"text-align: right;\">\n",
       "      <th></th>\n",
       "      <th>SERVICE_NAME</th>\n",
       "      <th>Clients</th>\n",
       "    </tr>\n",
       "  </thead>\n",
       "  <tbody>\n",
       "    <tr>\n",
       "      <th>37</th>\n",
       "      <td>CareClub Checkup Exam</td>\n",
       "      <td>101375</td>\n",
       "    </tr>\n",
       "    <tr>\n",
       "      <th>99</th>\n",
       "      <td>HomeAgain Service</td>\n",
       "      <td>98135</td>\n",
       "    </tr>\n",
       "    <tr>\n",
       "      <th>70</th>\n",
       "      <td>Fecal Test</td>\n",
       "      <td>97197</td>\n",
       "    </tr>\n",
       "    <tr>\n",
       "      <th>26</th>\n",
       "      <td>Canine Leptospirosis Vaccine</td>\n",
       "      <td>78995</td>\n",
       "    </tr>\n",
       "    <tr>\n",
       "      <th>166</th>\n",
       "      <td>Wellness Exam</td>\n",
       "      <td>78607</td>\n",
       "    </tr>\n",
       "    <tr>\n",
       "      <th>160</th>\n",
       "      <td>Service Rounding Adjustment</td>\n",
       "      <td>74823</td>\n",
       "    </tr>\n",
       "    <tr>\n",
       "      <th>24</th>\n",
       "      <td>Canine Influenza or Lyme Vaccine</td>\n",
       "      <td>72955</td>\n",
       "    </tr>\n",
       "    <tr>\n",
       "      <th>17</th>\n",
       "      <td>Canine Adult Rabies Vaccine</td>\n",
       "      <td>64755</td>\n",
       "    </tr>\n",
       "    <tr>\n",
       "      <th>14</th>\n",
       "      <td>Canine Adult Bordetella Vaccine</td>\n",
       "      <td>64710</td>\n",
       "    </tr>\n",
       "    <tr>\n",
       "      <th>15</th>\n",
       "      <td>Canine Adult Combo Vaccine</td>\n",
       "      <td>63188</td>\n",
       "    </tr>\n",
       "  </tbody>\n",
       "</table>\n",
       "</div>"
      ],
      "text/plain": [
       "                         SERVICE_NAME  Clients\n",
       "37              CareClub Checkup Exam   101375\n",
       "99                  HomeAgain Service    98135\n",
       "70                         Fecal Test    97197\n",
       "26       Canine Leptospirosis Vaccine    78995\n",
       "166                     Wellness Exam    78607\n",
       "160       Service Rounding Adjustment    74823\n",
       "24   Canine Influenza or Lyme Vaccine    72955\n",
       "17        Canine Adult Rabies Vaccine    64755\n",
       "14    Canine Adult Bordetella Vaccine    64710\n",
       "15         Canine Adult Combo Vaccine    63188"
      ]
     },
     "execution_count": 14,
     "metadata": {},
     "output_type": "execute_result"
    }
   ],
   "source": [
    "e2 =Data3.nlargest(10, ['Clients'])\n",
    "e2"
   ]
  },
  {
   "cell_type": "code",
   "execution_count": 15,
   "id": "6f2d3fa9",
   "metadata": {},
   "outputs": [
    {
     "data": {
      "application/vnd.plotly.v1+json": {
       "config": {
        "plotlyServerURL": "https://plot.ly"
       },
       "data": [
        {
         "domain": {
          "x": [
           0,
           1
          ],
          "y": [
           0,
           1
          ]
         },
         "hovertemplate": "SERVICE_NAME=%{label}<br>Clients=%{value}<extra></extra>",
         "labels": [
          "CareClub Checkup Exam",
          "HomeAgain Service",
          "Fecal Test",
          "Canine Leptospirosis Vaccine",
          "Wellness Exam",
          "Service Rounding Adjustment",
          "Canine Influenza or Lyme Vaccine",
          "Canine Adult Rabies Vaccine",
          "Canine Adult Bordetella Vaccine",
          "Canine Adult Combo Vaccine"
         ],
         "legendgroup": "",
         "name": "",
         "showlegend": true,
         "type": "pie",
         "values": [
          101375,
          98135,
          97197,
          78995,
          78607,
          74823,
          72955,
          64755,
          64710,
          63188
         ]
        }
       ],
       "layout": {
        "legend": {
         "tracegroupgap": 0
        },
        "margin": {
         "t": 60
        },
        "template": {
         "data": {
          "bar": [
           {
            "error_x": {
             "color": "#2a3f5f"
            },
            "error_y": {
             "color": "#2a3f5f"
            },
            "marker": {
             "line": {
              "color": "#E5ECF6",
              "width": 0.5
             },
             "pattern": {
              "fillmode": "overlay",
              "size": 10,
              "solidity": 0.2
             }
            },
            "type": "bar"
           }
          ],
          "barpolar": [
           {
            "marker": {
             "line": {
              "color": "#E5ECF6",
              "width": 0.5
             },
             "pattern": {
              "fillmode": "overlay",
              "size": 10,
              "solidity": 0.2
             }
            },
            "type": "barpolar"
           }
          ],
          "carpet": [
           {
            "aaxis": {
             "endlinecolor": "#2a3f5f",
             "gridcolor": "white",
             "linecolor": "white",
             "minorgridcolor": "white",
             "startlinecolor": "#2a3f5f"
            },
            "baxis": {
             "endlinecolor": "#2a3f5f",
             "gridcolor": "white",
             "linecolor": "white",
             "minorgridcolor": "white",
             "startlinecolor": "#2a3f5f"
            },
            "type": "carpet"
           }
          ],
          "choropleth": [
           {
            "colorbar": {
             "outlinewidth": 0,
             "ticks": ""
            },
            "type": "choropleth"
           }
          ],
          "contour": [
           {
            "colorbar": {
             "outlinewidth": 0,
             "ticks": ""
            },
            "colorscale": [
             [
              0,
              "#0d0887"
             ],
             [
              0.1111111111111111,
              "#46039f"
             ],
             [
              0.2222222222222222,
              "#7201a8"
             ],
             [
              0.3333333333333333,
              "#9c179e"
             ],
             [
              0.4444444444444444,
              "#bd3786"
             ],
             [
              0.5555555555555556,
              "#d8576b"
             ],
             [
              0.6666666666666666,
              "#ed7953"
             ],
             [
              0.7777777777777778,
              "#fb9f3a"
             ],
             [
              0.8888888888888888,
              "#fdca26"
             ],
             [
              1,
              "#f0f921"
             ]
            ],
            "type": "contour"
           }
          ],
          "contourcarpet": [
           {
            "colorbar": {
             "outlinewidth": 0,
             "ticks": ""
            },
            "type": "contourcarpet"
           }
          ],
          "heatmap": [
           {
            "colorbar": {
             "outlinewidth": 0,
             "ticks": ""
            },
            "colorscale": [
             [
              0,
              "#0d0887"
             ],
             [
              0.1111111111111111,
              "#46039f"
             ],
             [
              0.2222222222222222,
              "#7201a8"
             ],
             [
              0.3333333333333333,
              "#9c179e"
             ],
             [
              0.4444444444444444,
              "#bd3786"
             ],
             [
              0.5555555555555556,
              "#d8576b"
             ],
             [
              0.6666666666666666,
              "#ed7953"
             ],
             [
              0.7777777777777778,
              "#fb9f3a"
             ],
             [
              0.8888888888888888,
              "#fdca26"
             ],
             [
              1,
              "#f0f921"
             ]
            ],
            "type": "heatmap"
           }
          ],
          "heatmapgl": [
           {
            "colorbar": {
             "outlinewidth": 0,
             "ticks": ""
            },
            "colorscale": [
             [
              0,
              "#0d0887"
             ],
             [
              0.1111111111111111,
              "#46039f"
             ],
             [
              0.2222222222222222,
              "#7201a8"
             ],
             [
              0.3333333333333333,
              "#9c179e"
             ],
             [
              0.4444444444444444,
              "#bd3786"
             ],
             [
              0.5555555555555556,
              "#d8576b"
             ],
             [
              0.6666666666666666,
              "#ed7953"
             ],
             [
              0.7777777777777778,
              "#fb9f3a"
             ],
             [
              0.8888888888888888,
              "#fdca26"
             ],
             [
              1,
              "#f0f921"
             ]
            ],
            "type": "heatmapgl"
           }
          ],
          "histogram": [
           {
            "marker": {
             "pattern": {
              "fillmode": "overlay",
              "size": 10,
              "solidity": 0.2
             }
            },
            "type": "histogram"
           }
          ],
          "histogram2d": [
           {
            "colorbar": {
             "outlinewidth": 0,
             "ticks": ""
            },
            "colorscale": [
             [
              0,
              "#0d0887"
             ],
             [
              0.1111111111111111,
              "#46039f"
             ],
             [
              0.2222222222222222,
              "#7201a8"
             ],
             [
              0.3333333333333333,
              "#9c179e"
             ],
             [
              0.4444444444444444,
              "#bd3786"
             ],
             [
              0.5555555555555556,
              "#d8576b"
             ],
             [
              0.6666666666666666,
              "#ed7953"
             ],
             [
              0.7777777777777778,
              "#fb9f3a"
             ],
             [
              0.8888888888888888,
              "#fdca26"
             ],
             [
              1,
              "#f0f921"
             ]
            ],
            "type": "histogram2d"
           }
          ],
          "histogram2dcontour": [
           {
            "colorbar": {
             "outlinewidth": 0,
             "ticks": ""
            },
            "colorscale": [
             [
              0,
              "#0d0887"
             ],
             [
              0.1111111111111111,
              "#46039f"
             ],
             [
              0.2222222222222222,
              "#7201a8"
             ],
             [
              0.3333333333333333,
              "#9c179e"
             ],
             [
              0.4444444444444444,
              "#bd3786"
             ],
             [
              0.5555555555555556,
              "#d8576b"
             ],
             [
              0.6666666666666666,
              "#ed7953"
             ],
             [
              0.7777777777777778,
              "#fb9f3a"
             ],
             [
              0.8888888888888888,
              "#fdca26"
             ],
             [
              1,
              "#f0f921"
             ]
            ],
            "type": "histogram2dcontour"
           }
          ],
          "mesh3d": [
           {
            "colorbar": {
             "outlinewidth": 0,
             "ticks": ""
            },
            "type": "mesh3d"
           }
          ],
          "parcoords": [
           {
            "line": {
             "colorbar": {
              "outlinewidth": 0,
              "ticks": ""
             }
            },
            "type": "parcoords"
           }
          ],
          "pie": [
           {
            "automargin": true,
            "type": "pie"
           }
          ],
          "scatter": [
           {
            "marker": {
             "colorbar": {
              "outlinewidth": 0,
              "ticks": ""
             }
            },
            "type": "scatter"
           }
          ],
          "scatter3d": [
           {
            "line": {
             "colorbar": {
              "outlinewidth": 0,
              "ticks": ""
             }
            },
            "marker": {
             "colorbar": {
              "outlinewidth": 0,
              "ticks": ""
             }
            },
            "type": "scatter3d"
           }
          ],
          "scattercarpet": [
           {
            "marker": {
             "colorbar": {
              "outlinewidth": 0,
              "ticks": ""
             }
            },
            "type": "scattercarpet"
           }
          ],
          "scattergeo": [
           {
            "marker": {
             "colorbar": {
              "outlinewidth": 0,
              "ticks": ""
             }
            },
            "type": "scattergeo"
           }
          ],
          "scattergl": [
           {
            "marker": {
             "colorbar": {
              "outlinewidth": 0,
              "ticks": ""
             }
            },
            "type": "scattergl"
           }
          ],
          "scattermapbox": [
           {
            "marker": {
             "colorbar": {
              "outlinewidth": 0,
              "ticks": ""
             }
            },
            "type": "scattermapbox"
           }
          ],
          "scatterpolar": [
           {
            "marker": {
             "colorbar": {
              "outlinewidth": 0,
              "ticks": ""
             }
            },
            "type": "scatterpolar"
           }
          ],
          "scatterpolargl": [
           {
            "marker": {
             "colorbar": {
              "outlinewidth": 0,
              "ticks": ""
             }
            },
            "type": "scatterpolargl"
           }
          ],
          "scatterternary": [
           {
            "marker": {
             "colorbar": {
              "outlinewidth": 0,
              "ticks": ""
             }
            },
            "type": "scatterternary"
           }
          ],
          "surface": [
           {
            "colorbar": {
             "outlinewidth": 0,
             "ticks": ""
            },
            "colorscale": [
             [
              0,
              "#0d0887"
             ],
             [
              0.1111111111111111,
              "#46039f"
             ],
             [
              0.2222222222222222,
              "#7201a8"
             ],
             [
              0.3333333333333333,
              "#9c179e"
             ],
             [
              0.4444444444444444,
              "#bd3786"
             ],
             [
              0.5555555555555556,
              "#d8576b"
             ],
             [
              0.6666666666666666,
              "#ed7953"
             ],
             [
              0.7777777777777778,
              "#fb9f3a"
             ],
             [
              0.8888888888888888,
              "#fdca26"
             ],
             [
              1,
              "#f0f921"
             ]
            ],
            "type": "surface"
           }
          ],
          "table": [
           {
            "cells": {
             "fill": {
              "color": "#EBF0F8"
             },
             "line": {
              "color": "white"
             }
            },
            "header": {
             "fill": {
              "color": "#C8D4E3"
             },
             "line": {
              "color": "white"
             }
            },
            "type": "table"
           }
          ]
         },
         "layout": {
          "annotationdefaults": {
           "arrowcolor": "#2a3f5f",
           "arrowhead": 0,
           "arrowwidth": 1
          },
          "autotypenumbers": "strict",
          "coloraxis": {
           "colorbar": {
            "outlinewidth": 0,
            "ticks": ""
           }
          },
          "colorscale": {
           "diverging": [
            [
             0,
             "#8e0152"
            ],
            [
             0.1,
             "#c51b7d"
            ],
            [
             0.2,
             "#de77ae"
            ],
            [
             0.3,
             "#f1b6da"
            ],
            [
             0.4,
             "#fde0ef"
            ],
            [
             0.5,
             "#f7f7f7"
            ],
            [
             0.6,
             "#e6f5d0"
            ],
            [
             0.7,
             "#b8e186"
            ],
            [
             0.8,
             "#7fbc41"
            ],
            [
             0.9,
             "#4d9221"
            ],
            [
             1,
             "#276419"
            ]
           ],
           "sequential": [
            [
             0,
             "#0d0887"
            ],
            [
             0.1111111111111111,
             "#46039f"
            ],
            [
             0.2222222222222222,
             "#7201a8"
            ],
            [
             0.3333333333333333,
             "#9c179e"
            ],
            [
             0.4444444444444444,
             "#bd3786"
            ],
            [
             0.5555555555555556,
             "#d8576b"
            ],
            [
             0.6666666666666666,
             "#ed7953"
            ],
            [
             0.7777777777777778,
             "#fb9f3a"
            ],
            [
             0.8888888888888888,
             "#fdca26"
            ],
            [
             1,
             "#f0f921"
            ]
           ],
           "sequentialminus": [
            [
             0,
             "#0d0887"
            ],
            [
             0.1111111111111111,
             "#46039f"
            ],
            [
             0.2222222222222222,
             "#7201a8"
            ],
            [
             0.3333333333333333,
             "#9c179e"
            ],
            [
             0.4444444444444444,
             "#bd3786"
            ],
            [
             0.5555555555555556,
             "#d8576b"
            ],
            [
             0.6666666666666666,
             "#ed7953"
            ],
            [
             0.7777777777777778,
             "#fb9f3a"
            ],
            [
             0.8888888888888888,
             "#fdca26"
            ],
            [
             1,
             "#f0f921"
            ]
           ]
          },
          "colorway": [
           "#636efa",
           "#EF553B",
           "#00cc96",
           "#ab63fa",
           "#FFA15A",
           "#19d3f3",
           "#FF6692",
           "#B6E880",
           "#FF97FF",
           "#FECB52"
          ],
          "font": {
           "color": "#2a3f5f"
          },
          "geo": {
           "bgcolor": "white",
           "lakecolor": "white",
           "landcolor": "#E5ECF6",
           "showlakes": true,
           "showland": true,
           "subunitcolor": "white"
          },
          "hoverlabel": {
           "align": "left"
          },
          "hovermode": "closest",
          "mapbox": {
           "style": "light"
          },
          "paper_bgcolor": "white",
          "plot_bgcolor": "#E5ECF6",
          "polar": {
           "angularaxis": {
            "gridcolor": "white",
            "linecolor": "white",
            "ticks": ""
           },
           "bgcolor": "#E5ECF6",
           "radialaxis": {
            "gridcolor": "white",
            "linecolor": "white",
            "ticks": ""
           }
          },
          "scene": {
           "xaxis": {
            "backgroundcolor": "#E5ECF6",
            "gridcolor": "white",
            "gridwidth": 2,
            "linecolor": "white",
            "showbackground": true,
            "ticks": "",
            "zerolinecolor": "white"
           },
           "yaxis": {
            "backgroundcolor": "#E5ECF6",
            "gridcolor": "white",
            "gridwidth": 2,
            "linecolor": "white",
            "showbackground": true,
            "ticks": "",
            "zerolinecolor": "white"
           },
           "zaxis": {
            "backgroundcolor": "#E5ECF6",
            "gridcolor": "white",
            "gridwidth": 2,
            "linecolor": "white",
            "showbackground": true,
            "ticks": "",
            "zerolinecolor": "white"
           }
          },
          "shapedefaults": {
           "line": {
            "color": "#2a3f5f"
           }
          },
          "ternary": {
           "aaxis": {
            "gridcolor": "white",
            "linecolor": "white",
            "ticks": ""
           },
           "baxis": {
            "gridcolor": "white",
            "linecolor": "white",
            "ticks": ""
           },
           "bgcolor": "#E5ECF6",
           "caxis": {
            "gridcolor": "white",
            "linecolor": "white",
            "ticks": ""
           }
          },
          "title": {
           "x": 0.05
          },
          "xaxis": {
           "automargin": true,
           "gridcolor": "white",
           "linecolor": "white",
           "ticks": "",
           "title": {
            "standoff": 15
           },
           "zerolinecolor": "white",
           "zerolinewidth": 2
          },
          "yaxis": {
           "automargin": true,
           "gridcolor": "white",
           "linecolor": "white",
           "ticks": "",
           "title": {
            "standoff": 15
           },
           "zerolinecolor": "white",
           "zerolinewidth": 2
          }
         }
        },
        "title": {
         "text": "Top ten Service Name by total of clients"
        }
       }
      },
      "text/html": [
       "<div>                            <div id=\"c71d3524-fda9-4615-9313-ded7c5673ff8\" class=\"plotly-graph-div\" style=\"height:525px; width:100%;\"></div>            <script type=\"text/javascript\">                require([\"plotly\"], function(Plotly) {                    window.PLOTLYENV=window.PLOTLYENV || {};                                    if (document.getElementById(\"c71d3524-fda9-4615-9313-ded7c5673ff8\")) {                    Plotly.newPlot(                        \"c71d3524-fda9-4615-9313-ded7c5673ff8\",                        [{\"domain\":{\"x\":[0.0,1.0],\"y\":[0.0,1.0]},\"hovertemplate\":\"SERVICE_NAME=%{label}<br>Clients=%{value}<extra></extra>\",\"labels\":[\"CareClub Checkup Exam\",\"HomeAgain Service\",\"Fecal Test\",\"Canine Leptospirosis Vaccine\",\"Wellness Exam\",\"Service Rounding Adjustment\",\"Canine Influenza or Lyme Vaccine\",\"Canine Adult Rabies Vaccine\",\"Canine Adult Bordetella Vaccine\",\"Canine Adult Combo Vaccine\"],\"legendgroup\":\"\",\"name\":\"\",\"showlegend\":true,\"type\":\"pie\",\"values\":[101375,98135,97197,78995,78607,74823,72955,64755,64710,63188]}],                        {\"legend\":{\"tracegroupgap\":0},\"margin\":{\"t\":60},\"template\":{\"data\":{\"bar\":[{\"error_x\":{\"color\":\"#2a3f5f\"},\"error_y\":{\"color\":\"#2a3f5f\"},\"marker\":{\"line\":{\"color\":\"#E5ECF6\",\"width\":0.5},\"pattern\":{\"fillmode\":\"overlay\",\"size\":10,\"solidity\":0.2}},\"type\":\"bar\"}],\"barpolar\":[{\"marker\":{\"line\":{\"color\":\"#E5ECF6\",\"width\":0.5},\"pattern\":{\"fillmode\":\"overlay\",\"size\":10,\"solidity\":0.2}},\"type\":\"barpolar\"}],\"carpet\":[{\"aaxis\":{\"endlinecolor\":\"#2a3f5f\",\"gridcolor\":\"white\",\"linecolor\":\"white\",\"minorgridcolor\":\"white\",\"startlinecolor\":\"#2a3f5f\"},\"baxis\":{\"endlinecolor\":\"#2a3f5f\",\"gridcolor\":\"white\",\"linecolor\":\"white\",\"minorgridcolor\":\"white\",\"startlinecolor\":\"#2a3f5f\"},\"type\":\"carpet\"}],\"choropleth\":[{\"colorbar\":{\"outlinewidth\":0,\"ticks\":\"\"},\"type\":\"choropleth\"}],\"contour\":[{\"colorbar\":{\"outlinewidth\":0,\"ticks\":\"\"},\"colorscale\":[[0.0,\"#0d0887\"],[0.1111111111111111,\"#46039f\"],[0.2222222222222222,\"#7201a8\"],[0.3333333333333333,\"#9c179e\"],[0.4444444444444444,\"#bd3786\"],[0.5555555555555556,\"#d8576b\"],[0.6666666666666666,\"#ed7953\"],[0.7777777777777778,\"#fb9f3a\"],[0.8888888888888888,\"#fdca26\"],[1.0,\"#f0f921\"]],\"type\":\"contour\"}],\"contourcarpet\":[{\"colorbar\":{\"outlinewidth\":0,\"ticks\":\"\"},\"type\":\"contourcarpet\"}],\"heatmap\":[{\"colorbar\":{\"outlinewidth\":0,\"ticks\":\"\"},\"colorscale\":[[0.0,\"#0d0887\"],[0.1111111111111111,\"#46039f\"],[0.2222222222222222,\"#7201a8\"],[0.3333333333333333,\"#9c179e\"],[0.4444444444444444,\"#bd3786\"],[0.5555555555555556,\"#d8576b\"],[0.6666666666666666,\"#ed7953\"],[0.7777777777777778,\"#fb9f3a\"],[0.8888888888888888,\"#fdca26\"],[1.0,\"#f0f921\"]],\"type\":\"heatmap\"}],\"heatmapgl\":[{\"colorbar\":{\"outlinewidth\":0,\"ticks\":\"\"},\"colorscale\":[[0.0,\"#0d0887\"],[0.1111111111111111,\"#46039f\"],[0.2222222222222222,\"#7201a8\"],[0.3333333333333333,\"#9c179e\"],[0.4444444444444444,\"#bd3786\"],[0.5555555555555556,\"#d8576b\"],[0.6666666666666666,\"#ed7953\"],[0.7777777777777778,\"#fb9f3a\"],[0.8888888888888888,\"#fdca26\"],[1.0,\"#f0f921\"]],\"type\":\"heatmapgl\"}],\"histogram\":[{\"marker\":{\"pattern\":{\"fillmode\":\"overlay\",\"size\":10,\"solidity\":0.2}},\"type\":\"histogram\"}],\"histogram2d\":[{\"colorbar\":{\"outlinewidth\":0,\"ticks\":\"\"},\"colorscale\":[[0.0,\"#0d0887\"],[0.1111111111111111,\"#46039f\"],[0.2222222222222222,\"#7201a8\"],[0.3333333333333333,\"#9c179e\"],[0.4444444444444444,\"#bd3786\"],[0.5555555555555556,\"#d8576b\"],[0.6666666666666666,\"#ed7953\"],[0.7777777777777778,\"#fb9f3a\"],[0.8888888888888888,\"#fdca26\"],[1.0,\"#f0f921\"]],\"type\":\"histogram2d\"}],\"histogram2dcontour\":[{\"colorbar\":{\"outlinewidth\":0,\"ticks\":\"\"},\"colorscale\":[[0.0,\"#0d0887\"],[0.1111111111111111,\"#46039f\"],[0.2222222222222222,\"#7201a8\"],[0.3333333333333333,\"#9c179e\"],[0.4444444444444444,\"#bd3786\"],[0.5555555555555556,\"#d8576b\"],[0.6666666666666666,\"#ed7953\"],[0.7777777777777778,\"#fb9f3a\"],[0.8888888888888888,\"#fdca26\"],[1.0,\"#f0f921\"]],\"type\":\"histogram2dcontour\"}],\"mesh3d\":[{\"colorbar\":{\"outlinewidth\":0,\"ticks\":\"\"},\"type\":\"mesh3d\"}],\"parcoords\":[{\"line\":{\"colorbar\":{\"outlinewidth\":0,\"ticks\":\"\"}},\"type\":\"parcoords\"}],\"pie\":[{\"automargin\":true,\"type\":\"pie\"}],\"scatter\":[{\"marker\":{\"colorbar\":{\"outlinewidth\":0,\"ticks\":\"\"}},\"type\":\"scatter\"}],\"scatter3d\":[{\"line\":{\"colorbar\":{\"outlinewidth\":0,\"ticks\":\"\"}},\"marker\":{\"colorbar\":{\"outlinewidth\":0,\"ticks\":\"\"}},\"type\":\"scatter3d\"}],\"scattercarpet\":[{\"marker\":{\"colorbar\":{\"outlinewidth\":0,\"ticks\":\"\"}},\"type\":\"scattercarpet\"}],\"scattergeo\":[{\"marker\":{\"colorbar\":{\"outlinewidth\":0,\"ticks\":\"\"}},\"type\":\"scattergeo\"}],\"scattergl\":[{\"marker\":{\"colorbar\":{\"outlinewidth\":0,\"ticks\":\"\"}},\"type\":\"scattergl\"}],\"scattermapbox\":[{\"marker\":{\"colorbar\":{\"outlinewidth\":0,\"ticks\":\"\"}},\"type\":\"scattermapbox\"}],\"scatterpolar\":[{\"marker\":{\"colorbar\":{\"outlinewidth\":0,\"ticks\":\"\"}},\"type\":\"scatterpolar\"}],\"scatterpolargl\":[{\"marker\":{\"colorbar\":{\"outlinewidth\":0,\"ticks\":\"\"}},\"type\":\"scatterpolargl\"}],\"scatterternary\":[{\"marker\":{\"colorbar\":{\"outlinewidth\":0,\"ticks\":\"\"}},\"type\":\"scatterternary\"}],\"surface\":[{\"colorbar\":{\"outlinewidth\":0,\"ticks\":\"\"},\"colorscale\":[[0.0,\"#0d0887\"],[0.1111111111111111,\"#46039f\"],[0.2222222222222222,\"#7201a8\"],[0.3333333333333333,\"#9c179e\"],[0.4444444444444444,\"#bd3786\"],[0.5555555555555556,\"#d8576b\"],[0.6666666666666666,\"#ed7953\"],[0.7777777777777778,\"#fb9f3a\"],[0.8888888888888888,\"#fdca26\"],[1.0,\"#f0f921\"]],\"type\":\"surface\"}],\"table\":[{\"cells\":{\"fill\":{\"color\":\"#EBF0F8\"},\"line\":{\"color\":\"white\"}},\"header\":{\"fill\":{\"color\":\"#C8D4E3\"},\"line\":{\"color\":\"white\"}},\"type\":\"table\"}]},\"layout\":{\"annotationdefaults\":{\"arrowcolor\":\"#2a3f5f\",\"arrowhead\":0,\"arrowwidth\":1},\"autotypenumbers\":\"strict\",\"coloraxis\":{\"colorbar\":{\"outlinewidth\":0,\"ticks\":\"\"}},\"colorscale\":{\"diverging\":[[0,\"#8e0152\"],[0.1,\"#c51b7d\"],[0.2,\"#de77ae\"],[0.3,\"#f1b6da\"],[0.4,\"#fde0ef\"],[0.5,\"#f7f7f7\"],[0.6,\"#e6f5d0\"],[0.7,\"#b8e186\"],[0.8,\"#7fbc41\"],[0.9,\"#4d9221\"],[1,\"#276419\"]],\"sequential\":[[0.0,\"#0d0887\"],[0.1111111111111111,\"#46039f\"],[0.2222222222222222,\"#7201a8\"],[0.3333333333333333,\"#9c179e\"],[0.4444444444444444,\"#bd3786\"],[0.5555555555555556,\"#d8576b\"],[0.6666666666666666,\"#ed7953\"],[0.7777777777777778,\"#fb9f3a\"],[0.8888888888888888,\"#fdca26\"],[1.0,\"#f0f921\"]],\"sequentialminus\":[[0.0,\"#0d0887\"],[0.1111111111111111,\"#46039f\"],[0.2222222222222222,\"#7201a8\"],[0.3333333333333333,\"#9c179e\"],[0.4444444444444444,\"#bd3786\"],[0.5555555555555556,\"#d8576b\"],[0.6666666666666666,\"#ed7953\"],[0.7777777777777778,\"#fb9f3a\"],[0.8888888888888888,\"#fdca26\"],[1.0,\"#f0f921\"]]},\"colorway\":[\"#636efa\",\"#EF553B\",\"#00cc96\",\"#ab63fa\",\"#FFA15A\",\"#19d3f3\",\"#FF6692\",\"#B6E880\",\"#FF97FF\",\"#FECB52\"],\"font\":{\"color\":\"#2a3f5f\"},\"geo\":{\"bgcolor\":\"white\",\"lakecolor\":\"white\",\"landcolor\":\"#E5ECF6\",\"showlakes\":true,\"showland\":true,\"subunitcolor\":\"white\"},\"hoverlabel\":{\"align\":\"left\"},\"hovermode\":\"closest\",\"mapbox\":{\"style\":\"light\"},\"paper_bgcolor\":\"white\",\"plot_bgcolor\":\"#E5ECF6\",\"polar\":{\"angularaxis\":{\"gridcolor\":\"white\",\"linecolor\":\"white\",\"ticks\":\"\"},\"bgcolor\":\"#E5ECF6\",\"radialaxis\":{\"gridcolor\":\"white\",\"linecolor\":\"white\",\"ticks\":\"\"}},\"scene\":{\"xaxis\":{\"backgroundcolor\":\"#E5ECF6\",\"gridcolor\":\"white\",\"gridwidth\":2,\"linecolor\":\"white\",\"showbackground\":true,\"ticks\":\"\",\"zerolinecolor\":\"white\"},\"yaxis\":{\"backgroundcolor\":\"#E5ECF6\",\"gridcolor\":\"white\",\"gridwidth\":2,\"linecolor\":\"white\",\"showbackground\":true,\"ticks\":\"\",\"zerolinecolor\":\"white\"},\"zaxis\":{\"backgroundcolor\":\"#E5ECF6\",\"gridcolor\":\"white\",\"gridwidth\":2,\"linecolor\":\"white\",\"showbackground\":true,\"ticks\":\"\",\"zerolinecolor\":\"white\"}},\"shapedefaults\":{\"line\":{\"color\":\"#2a3f5f\"}},\"ternary\":{\"aaxis\":{\"gridcolor\":\"white\",\"linecolor\":\"white\",\"ticks\":\"\"},\"baxis\":{\"gridcolor\":\"white\",\"linecolor\":\"white\",\"ticks\":\"\"},\"bgcolor\":\"#E5ECF6\",\"caxis\":{\"gridcolor\":\"white\",\"linecolor\":\"white\",\"ticks\":\"\"}},\"title\":{\"x\":0.05},\"xaxis\":{\"automargin\":true,\"gridcolor\":\"white\",\"linecolor\":\"white\",\"ticks\":\"\",\"title\":{\"standoff\":15},\"zerolinecolor\":\"white\",\"zerolinewidth\":2},\"yaxis\":{\"automargin\":true,\"gridcolor\":\"white\",\"linecolor\":\"white\",\"ticks\":\"\",\"title\":{\"standoff\":15},\"zerolinecolor\":\"white\",\"zerolinewidth\":2}}},\"title\":{\"text\":\"Top ten Service Name by total of clients\"}},                        {\"responsive\": true}                    ).then(function(){\n",
       "                            \n",
       "var gd = document.getElementById('c71d3524-fda9-4615-9313-ded7c5673ff8');\n",
       "var x = new MutationObserver(function (mutations, observer) {{\n",
       "        var display = window.getComputedStyle(gd).display;\n",
       "        if (!display || display === 'none') {{\n",
       "            console.log([gd, 'removed!']);\n",
       "            Plotly.purge(gd);\n",
       "            observer.disconnect();\n",
       "        }}\n",
       "}});\n",
       "\n",
       "// Listen for the removal of the full notebook cells\n",
       "var notebookContainer = gd.closest('#notebook-container');\n",
       "if (notebookContainer) {{\n",
       "    x.observe(notebookContainer, {childList: true});\n",
       "}}\n",
       "\n",
       "// Listen for the clearing of the current output cell\n",
       "var outputEl = gd.closest('.output');\n",
       "if (outputEl) {{\n",
       "    x.observe(outputEl, {childList: true});\n",
       "}}\n",
       "\n",
       "                        })                };                });            </script>        </div>"
      ]
     },
     "metadata": {},
     "output_type": "display_data"
    }
   ],
   "source": [
    "fig = px.pie(e2, values='Clients', names='SERVICE_NAME')\n",
    "fig.update_layout(title_text='Top ten Service Name by total of clients')\n",
    "fig.show()"
   ]
  },
  {
   "cell_type": "markdown",
   "id": "26504cd8",
   "metadata": {},
   "source": [
    "We have total number of clients by Service Name of :"
   ]
  },
  {
   "cell_type": "code",
   "execution_count": 16,
   "id": "c2a8d620",
   "metadata": {},
   "outputs": [
    {
     "name": "stdout",
     "output_type": "stream",
     "text": [
      "Total of Clients : 1256896\n"
     ]
    }
   ],
   "source": [
    "x = data['Clients'].sum()\n",
    "print(\"Total of Clients :\",x)"
   ]
  },
  {
   "cell_type": "markdown",
   "id": "33aa068f",
   "metadata": {},
   "source": [
    "And the Top Ten Welleness Program by Client are :"
   ]
  },
  {
   "cell_type": "code",
   "execution_count": 17,
   "id": "71c789dd",
   "metadata": {},
   "outputs": [
    {
     "name": "stdout",
     "output_type": "stream",
     "text": [
      "Total of Clients : 794740\n"
     ]
    }
   ],
   "source": [
    "x2 = e2['Clients'].sum()\n",
    "print(\"Total of Clients :\",x2)"
   ]
  },
  {
   "cell_type": "code",
   "execution_count": 18,
   "id": "03802161",
   "metadata": {},
   "outputs": [
    {
     "data": {
      "application/vnd.plotly.v1+json": {
       "config": {
        "plotlyServerURL": "https://plot.ly"
       },
       "data": [
        {
         "delta": {
          "reference": 462156
         },
         "domain": {
          "x": [
           0.1,
           1
          ],
          "y": [
           0.2,
           0.9
          ]
         },
         "gauge": {
          "shape": "bullet"
         },
         "mode": "gauge+number+delta",
         "title": {
          "text": "Total Clients"
         },
         "type": "indicator",
         "value": 1256896
        }
       ],
       "layout": {
        "template": {
         "data": {
          "bar": [
           {
            "error_x": {
             "color": "#2a3f5f"
            },
            "error_y": {
             "color": "#2a3f5f"
            },
            "marker": {
             "line": {
              "color": "#E5ECF6",
              "width": 0.5
             },
             "pattern": {
              "fillmode": "overlay",
              "size": 10,
              "solidity": 0.2
             }
            },
            "type": "bar"
           }
          ],
          "barpolar": [
           {
            "marker": {
             "line": {
              "color": "#E5ECF6",
              "width": 0.5
             },
             "pattern": {
              "fillmode": "overlay",
              "size": 10,
              "solidity": 0.2
             }
            },
            "type": "barpolar"
           }
          ],
          "carpet": [
           {
            "aaxis": {
             "endlinecolor": "#2a3f5f",
             "gridcolor": "white",
             "linecolor": "white",
             "minorgridcolor": "white",
             "startlinecolor": "#2a3f5f"
            },
            "baxis": {
             "endlinecolor": "#2a3f5f",
             "gridcolor": "white",
             "linecolor": "white",
             "minorgridcolor": "white",
             "startlinecolor": "#2a3f5f"
            },
            "type": "carpet"
           }
          ],
          "choropleth": [
           {
            "colorbar": {
             "outlinewidth": 0,
             "ticks": ""
            },
            "type": "choropleth"
           }
          ],
          "contour": [
           {
            "colorbar": {
             "outlinewidth": 0,
             "ticks": ""
            },
            "colorscale": [
             [
              0,
              "#0d0887"
             ],
             [
              0.1111111111111111,
              "#46039f"
             ],
             [
              0.2222222222222222,
              "#7201a8"
             ],
             [
              0.3333333333333333,
              "#9c179e"
             ],
             [
              0.4444444444444444,
              "#bd3786"
             ],
             [
              0.5555555555555556,
              "#d8576b"
             ],
             [
              0.6666666666666666,
              "#ed7953"
             ],
             [
              0.7777777777777778,
              "#fb9f3a"
             ],
             [
              0.8888888888888888,
              "#fdca26"
             ],
             [
              1,
              "#f0f921"
             ]
            ],
            "type": "contour"
           }
          ],
          "contourcarpet": [
           {
            "colorbar": {
             "outlinewidth": 0,
             "ticks": ""
            },
            "type": "contourcarpet"
           }
          ],
          "heatmap": [
           {
            "colorbar": {
             "outlinewidth": 0,
             "ticks": ""
            },
            "colorscale": [
             [
              0,
              "#0d0887"
             ],
             [
              0.1111111111111111,
              "#46039f"
             ],
             [
              0.2222222222222222,
              "#7201a8"
             ],
             [
              0.3333333333333333,
              "#9c179e"
             ],
             [
              0.4444444444444444,
              "#bd3786"
             ],
             [
              0.5555555555555556,
              "#d8576b"
             ],
             [
              0.6666666666666666,
              "#ed7953"
             ],
             [
              0.7777777777777778,
              "#fb9f3a"
             ],
             [
              0.8888888888888888,
              "#fdca26"
             ],
             [
              1,
              "#f0f921"
             ]
            ],
            "type": "heatmap"
           }
          ],
          "heatmapgl": [
           {
            "colorbar": {
             "outlinewidth": 0,
             "ticks": ""
            },
            "colorscale": [
             [
              0,
              "#0d0887"
             ],
             [
              0.1111111111111111,
              "#46039f"
             ],
             [
              0.2222222222222222,
              "#7201a8"
             ],
             [
              0.3333333333333333,
              "#9c179e"
             ],
             [
              0.4444444444444444,
              "#bd3786"
             ],
             [
              0.5555555555555556,
              "#d8576b"
             ],
             [
              0.6666666666666666,
              "#ed7953"
             ],
             [
              0.7777777777777778,
              "#fb9f3a"
             ],
             [
              0.8888888888888888,
              "#fdca26"
             ],
             [
              1,
              "#f0f921"
             ]
            ],
            "type": "heatmapgl"
           }
          ],
          "histogram": [
           {
            "marker": {
             "pattern": {
              "fillmode": "overlay",
              "size": 10,
              "solidity": 0.2
             }
            },
            "type": "histogram"
           }
          ],
          "histogram2d": [
           {
            "colorbar": {
             "outlinewidth": 0,
             "ticks": ""
            },
            "colorscale": [
             [
              0,
              "#0d0887"
             ],
             [
              0.1111111111111111,
              "#46039f"
             ],
             [
              0.2222222222222222,
              "#7201a8"
             ],
             [
              0.3333333333333333,
              "#9c179e"
             ],
             [
              0.4444444444444444,
              "#bd3786"
             ],
             [
              0.5555555555555556,
              "#d8576b"
             ],
             [
              0.6666666666666666,
              "#ed7953"
             ],
             [
              0.7777777777777778,
              "#fb9f3a"
             ],
             [
              0.8888888888888888,
              "#fdca26"
             ],
             [
              1,
              "#f0f921"
             ]
            ],
            "type": "histogram2d"
           }
          ],
          "histogram2dcontour": [
           {
            "colorbar": {
             "outlinewidth": 0,
             "ticks": ""
            },
            "colorscale": [
             [
              0,
              "#0d0887"
             ],
             [
              0.1111111111111111,
              "#46039f"
             ],
             [
              0.2222222222222222,
              "#7201a8"
             ],
             [
              0.3333333333333333,
              "#9c179e"
             ],
             [
              0.4444444444444444,
              "#bd3786"
             ],
             [
              0.5555555555555556,
              "#d8576b"
             ],
             [
              0.6666666666666666,
              "#ed7953"
             ],
             [
              0.7777777777777778,
              "#fb9f3a"
             ],
             [
              0.8888888888888888,
              "#fdca26"
             ],
             [
              1,
              "#f0f921"
             ]
            ],
            "type": "histogram2dcontour"
           }
          ],
          "mesh3d": [
           {
            "colorbar": {
             "outlinewidth": 0,
             "ticks": ""
            },
            "type": "mesh3d"
           }
          ],
          "parcoords": [
           {
            "line": {
             "colorbar": {
              "outlinewidth": 0,
              "ticks": ""
             }
            },
            "type": "parcoords"
           }
          ],
          "pie": [
           {
            "automargin": true,
            "type": "pie"
           }
          ],
          "scatter": [
           {
            "marker": {
             "colorbar": {
              "outlinewidth": 0,
              "ticks": ""
             }
            },
            "type": "scatter"
           }
          ],
          "scatter3d": [
           {
            "line": {
             "colorbar": {
              "outlinewidth": 0,
              "ticks": ""
             }
            },
            "marker": {
             "colorbar": {
              "outlinewidth": 0,
              "ticks": ""
             }
            },
            "type": "scatter3d"
           }
          ],
          "scattercarpet": [
           {
            "marker": {
             "colorbar": {
              "outlinewidth": 0,
              "ticks": ""
             }
            },
            "type": "scattercarpet"
           }
          ],
          "scattergeo": [
           {
            "marker": {
             "colorbar": {
              "outlinewidth": 0,
              "ticks": ""
             }
            },
            "type": "scattergeo"
           }
          ],
          "scattergl": [
           {
            "marker": {
             "colorbar": {
              "outlinewidth": 0,
              "ticks": ""
             }
            },
            "type": "scattergl"
           }
          ],
          "scattermapbox": [
           {
            "marker": {
             "colorbar": {
              "outlinewidth": 0,
              "ticks": ""
             }
            },
            "type": "scattermapbox"
           }
          ],
          "scatterpolar": [
           {
            "marker": {
             "colorbar": {
              "outlinewidth": 0,
              "ticks": ""
             }
            },
            "type": "scatterpolar"
           }
          ],
          "scatterpolargl": [
           {
            "marker": {
             "colorbar": {
              "outlinewidth": 0,
              "ticks": ""
             }
            },
            "type": "scatterpolargl"
           }
          ],
          "scatterternary": [
           {
            "marker": {
             "colorbar": {
              "outlinewidth": 0,
              "ticks": ""
             }
            },
            "type": "scatterternary"
           }
          ],
          "surface": [
           {
            "colorbar": {
             "outlinewidth": 0,
             "ticks": ""
            },
            "colorscale": [
             [
              0,
              "#0d0887"
             ],
             [
              0.1111111111111111,
              "#46039f"
             ],
             [
              0.2222222222222222,
              "#7201a8"
             ],
             [
              0.3333333333333333,
              "#9c179e"
             ],
             [
              0.4444444444444444,
              "#bd3786"
             ],
             [
              0.5555555555555556,
              "#d8576b"
             ],
             [
              0.6666666666666666,
              "#ed7953"
             ],
             [
              0.7777777777777778,
              "#fb9f3a"
             ],
             [
              0.8888888888888888,
              "#fdca26"
             ],
             [
              1,
              "#f0f921"
             ]
            ],
            "type": "surface"
           }
          ],
          "table": [
           {
            "cells": {
             "fill": {
              "color": "#EBF0F8"
             },
             "line": {
              "color": "white"
             }
            },
            "header": {
             "fill": {
              "color": "#C8D4E3"
             },
             "line": {
              "color": "white"
             }
            },
            "type": "table"
           }
          ]
         },
         "layout": {
          "annotationdefaults": {
           "arrowcolor": "#2a3f5f",
           "arrowhead": 0,
           "arrowwidth": 1
          },
          "autotypenumbers": "strict",
          "coloraxis": {
           "colorbar": {
            "outlinewidth": 0,
            "ticks": ""
           }
          },
          "colorscale": {
           "diverging": [
            [
             0,
             "#8e0152"
            ],
            [
             0.1,
             "#c51b7d"
            ],
            [
             0.2,
             "#de77ae"
            ],
            [
             0.3,
             "#f1b6da"
            ],
            [
             0.4,
             "#fde0ef"
            ],
            [
             0.5,
             "#f7f7f7"
            ],
            [
             0.6,
             "#e6f5d0"
            ],
            [
             0.7,
             "#b8e186"
            ],
            [
             0.8,
             "#7fbc41"
            ],
            [
             0.9,
             "#4d9221"
            ],
            [
             1,
             "#276419"
            ]
           ],
           "sequential": [
            [
             0,
             "#0d0887"
            ],
            [
             0.1111111111111111,
             "#46039f"
            ],
            [
             0.2222222222222222,
             "#7201a8"
            ],
            [
             0.3333333333333333,
             "#9c179e"
            ],
            [
             0.4444444444444444,
             "#bd3786"
            ],
            [
             0.5555555555555556,
             "#d8576b"
            ],
            [
             0.6666666666666666,
             "#ed7953"
            ],
            [
             0.7777777777777778,
             "#fb9f3a"
            ],
            [
             0.8888888888888888,
             "#fdca26"
            ],
            [
             1,
             "#f0f921"
            ]
           ],
           "sequentialminus": [
            [
             0,
             "#0d0887"
            ],
            [
             0.1111111111111111,
             "#46039f"
            ],
            [
             0.2222222222222222,
             "#7201a8"
            ],
            [
             0.3333333333333333,
             "#9c179e"
            ],
            [
             0.4444444444444444,
             "#bd3786"
            ],
            [
             0.5555555555555556,
             "#d8576b"
            ],
            [
             0.6666666666666666,
             "#ed7953"
            ],
            [
             0.7777777777777778,
             "#fb9f3a"
            ],
            [
             0.8888888888888888,
             "#fdca26"
            ],
            [
             1,
             "#f0f921"
            ]
           ]
          },
          "colorway": [
           "#636efa",
           "#EF553B",
           "#00cc96",
           "#ab63fa",
           "#FFA15A",
           "#19d3f3",
           "#FF6692",
           "#B6E880",
           "#FF97FF",
           "#FECB52"
          ],
          "font": {
           "color": "#2a3f5f"
          },
          "geo": {
           "bgcolor": "white",
           "lakecolor": "white",
           "landcolor": "#E5ECF6",
           "showlakes": true,
           "showland": true,
           "subunitcolor": "white"
          },
          "hoverlabel": {
           "align": "left"
          },
          "hovermode": "closest",
          "mapbox": {
           "style": "light"
          },
          "paper_bgcolor": "white",
          "plot_bgcolor": "#E5ECF6",
          "polar": {
           "angularaxis": {
            "gridcolor": "white",
            "linecolor": "white",
            "ticks": ""
           },
           "bgcolor": "#E5ECF6",
           "radialaxis": {
            "gridcolor": "white",
            "linecolor": "white",
            "ticks": ""
           }
          },
          "scene": {
           "xaxis": {
            "backgroundcolor": "#E5ECF6",
            "gridcolor": "white",
            "gridwidth": 2,
            "linecolor": "white",
            "showbackground": true,
            "ticks": "",
            "zerolinecolor": "white"
           },
           "yaxis": {
            "backgroundcolor": "#E5ECF6",
            "gridcolor": "white",
            "gridwidth": 2,
            "linecolor": "white",
            "showbackground": true,
            "ticks": "",
            "zerolinecolor": "white"
           },
           "zaxis": {
            "backgroundcolor": "#E5ECF6",
            "gridcolor": "white",
            "gridwidth": 2,
            "linecolor": "white",
            "showbackground": true,
            "ticks": "",
            "zerolinecolor": "white"
           }
          },
          "shapedefaults": {
           "line": {
            "color": "#2a3f5f"
           }
          },
          "ternary": {
           "aaxis": {
            "gridcolor": "white",
            "linecolor": "white",
            "ticks": ""
           },
           "baxis": {
            "gridcolor": "white",
            "linecolor": "white",
            "ticks": ""
           },
           "bgcolor": "#E5ECF6",
           "caxis": {
            "gridcolor": "white",
            "linecolor": "white",
            "ticks": ""
           }
          },
          "title": {
           "x": 0.05
          },
          "xaxis": {
           "automargin": true,
           "gridcolor": "white",
           "linecolor": "white",
           "ticks": "",
           "title": {
            "standoff": 15
           },
           "zerolinecolor": "white",
           "zerolinewidth": 2
          },
          "yaxis": {
           "automargin": true,
           "gridcolor": "white",
           "linecolor": "white",
           "ticks": "",
           "title": {
            "standoff": 15
           },
           "zerolinecolor": "white",
           "zerolinewidth": 2
          }
         }
        }
       }
      },
      "text/html": [
       "<div>                            <div id=\"9c93f06a-7a4c-497b-a218-469e9ccf4750\" class=\"plotly-graph-div\" style=\"height:525px; width:100%;\"></div>            <script type=\"text/javascript\">                require([\"plotly\"], function(Plotly) {                    window.PLOTLYENV=window.PLOTLYENV || {};                                    if (document.getElementById(\"9c93f06a-7a4c-497b-a218-469e9ccf4750\")) {                    Plotly.newPlot(                        \"9c93f06a-7a4c-497b-a218-469e9ccf4750\",                        [{\"delta\":{\"reference\":462156},\"domain\":{\"x\":[0.1,1],\"y\":[0.2,0.9]},\"gauge\":{\"shape\":\"bullet\"},\"mode\":\"gauge+number+delta\",\"title\":{\"text\":\"Total Clients\"},\"type\":\"indicator\",\"value\":1256896}],                        {\"template\":{\"data\":{\"bar\":[{\"error_x\":{\"color\":\"#2a3f5f\"},\"error_y\":{\"color\":\"#2a3f5f\"},\"marker\":{\"line\":{\"color\":\"#E5ECF6\",\"width\":0.5},\"pattern\":{\"fillmode\":\"overlay\",\"size\":10,\"solidity\":0.2}},\"type\":\"bar\"}],\"barpolar\":[{\"marker\":{\"line\":{\"color\":\"#E5ECF6\",\"width\":0.5},\"pattern\":{\"fillmode\":\"overlay\",\"size\":10,\"solidity\":0.2}},\"type\":\"barpolar\"}],\"carpet\":[{\"aaxis\":{\"endlinecolor\":\"#2a3f5f\",\"gridcolor\":\"white\",\"linecolor\":\"white\",\"minorgridcolor\":\"white\",\"startlinecolor\":\"#2a3f5f\"},\"baxis\":{\"endlinecolor\":\"#2a3f5f\",\"gridcolor\":\"white\",\"linecolor\":\"white\",\"minorgridcolor\":\"white\",\"startlinecolor\":\"#2a3f5f\"},\"type\":\"carpet\"}],\"choropleth\":[{\"colorbar\":{\"outlinewidth\":0,\"ticks\":\"\"},\"type\":\"choropleth\"}],\"contour\":[{\"colorbar\":{\"outlinewidth\":0,\"ticks\":\"\"},\"colorscale\":[[0.0,\"#0d0887\"],[0.1111111111111111,\"#46039f\"],[0.2222222222222222,\"#7201a8\"],[0.3333333333333333,\"#9c179e\"],[0.4444444444444444,\"#bd3786\"],[0.5555555555555556,\"#d8576b\"],[0.6666666666666666,\"#ed7953\"],[0.7777777777777778,\"#fb9f3a\"],[0.8888888888888888,\"#fdca26\"],[1.0,\"#f0f921\"]],\"type\":\"contour\"}],\"contourcarpet\":[{\"colorbar\":{\"outlinewidth\":0,\"ticks\":\"\"},\"type\":\"contourcarpet\"}],\"heatmap\":[{\"colorbar\":{\"outlinewidth\":0,\"ticks\":\"\"},\"colorscale\":[[0.0,\"#0d0887\"],[0.1111111111111111,\"#46039f\"],[0.2222222222222222,\"#7201a8\"],[0.3333333333333333,\"#9c179e\"],[0.4444444444444444,\"#bd3786\"],[0.5555555555555556,\"#d8576b\"],[0.6666666666666666,\"#ed7953\"],[0.7777777777777778,\"#fb9f3a\"],[0.8888888888888888,\"#fdca26\"],[1.0,\"#f0f921\"]],\"type\":\"heatmap\"}],\"heatmapgl\":[{\"colorbar\":{\"outlinewidth\":0,\"ticks\":\"\"},\"colorscale\":[[0.0,\"#0d0887\"],[0.1111111111111111,\"#46039f\"],[0.2222222222222222,\"#7201a8\"],[0.3333333333333333,\"#9c179e\"],[0.4444444444444444,\"#bd3786\"],[0.5555555555555556,\"#d8576b\"],[0.6666666666666666,\"#ed7953\"],[0.7777777777777778,\"#fb9f3a\"],[0.8888888888888888,\"#fdca26\"],[1.0,\"#f0f921\"]],\"type\":\"heatmapgl\"}],\"histogram\":[{\"marker\":{\"pattern\":{\"fillmode\":\"overlay\",\"size\":10,\"solidity\":0.2}},\"type\":\"histogram\"}],\"histogram2d\":[{\"colorbar\":{\"outlinewidth\":0,\"ticks\":\"\"},\"colorscale\":[[0.0,\"#0d0887\"],[0.1111111111111111,\"#46039f\"],[0.2222222222222222,\"#7201a8\"],[0.3333333333333333,\"#9c179e\"],[0.4444444444444444,\"#bd3786\"],[0.5555555555555556,\"#d8576b\"],[0.6666666666666666,\"#ed7953\"],[0.7777777777777778,\"#fb9f3a\"],[0.8888888888888888,\"#fdca26\"],[1.0,\"#f0f921\"]],\"type\":\"histogram2d\"}],\"histogram2dcontour\":[{\"colorbar\":{\"outlinewidth\":0,\"ticks\":\"\"},\"colorscale\":[[0.0,\"#0d0887\"],[0.1111111111111111,\"#46039f\"],[0.2222222222222222,\"#7201a8\"],[0.3333333333333333,\"#9c179e\"],[0.4444444444444444,\"#bd3786\"],[0.5555555555555556,\"#d8576b\"],[0.6666666666666666,\"#ed7953\"],[0.7777777777777778,\"#fb9f3a\"],[0.8888888888888888,\"#fdca26\"],[1.0,\"#f0f921\"]],\"type\":\"histogram2dcontour\"}],\"mesh3d\":[{\"colorbar\":{\"outlinewidth\":0,\"ticks\":\"\"},\"type\":\"mesh3d\"}],\"parcoords\":[{\"line\":{\"colorbar\":{\"outlinewidth\":0,\"ticks\":\"\"}},\"type\":\"parcoords\"}],\"pie\":[{\"automargin\":true,\"type\":\"pie\"}],\"scatter\":[{\"marker\":{\"colorbar\":{\"outlinewidth\":0,\"ticks\":\"\"}},\"type\":\"scatter\"}],\"scatter3d\":[{\"line\":{\"colorbar\":{\"outlinewidth\":0,\"ticks\":\"\"}},\"marker\":{\"colorbar\":{\"outlinewidth\":0,\"ticks\":\"\"}},\"type\":\"scatter3d\"}],\"scattercarpet\":[{\"marker\":{\"colorbar\":{\"outlinewidth\":0,\"ticks\":\"\"}},\"type\":\"scattercarpet\"}],\"scattergeo\":[{\"marker\":{\"colorbar\":{\"outlinewidth\":0,\"ticks\":\"\"}},\"type\":\"scattergeo\"}],\"scattergl\":[{\"marker\":{\"colorbar\":{\"outlinewidth\":0,\"ticks\":\"\"}},\"type\":\"scattergl\"}],\"scattermapbox\":[{\"marker\":{\"colorbar\":{\"outlinewidth\":0,\"ticks\":\"\"}},\"type\":\"scattermapbox\"}],\"scatterpolar\":[{\"marker\":{\"colorbar\":{\"outlinewidth\":0,\"ticks\":\"\"}},\"type\":\"scatterpolar\"}],\"scatterpolargl\":[{\"marker\":{\"colorbar\":{\"outlinewidth\":0,\"ticks\":\"\"}},\"type\":\"scatterpolargl\"}],\"scatterternary\":[{\"marker\":{\"colorbar\":{\"outlinewidth\":0,\"ticks\":\"\"}},\"type\":\"scatterternary\"}],\"surface\":[{\"colorbar\":{\"outlinewidth\":0,\"ticks\":\"\"},\"colorscale\":[[0.0,\"#0d0887\"],[0.1111111111111111,\"#46039f\"],[0.2222222222222222,\"#7201a8\"],[0.3333333333333333,\"#9c179e\"],[0.4444444444444444,\"#bd3786\"],[0.5555555555555556,\"#d8576b\"],[0.6666666666666666,\"#ed7953\"],[0.7777777777777778,\"#fb9f3a\"],[0.8888888888888888,\"#fdca26\"],[1.0,\"#f0f921\"]],\"type\":\"surface\"}],\"table\":[{\"cells\":{\"fill\":{\"color\":\"#EBF0F8\"},\"line\":{\"color\":\"white\"}},\"header\":{\"fill\":{\"color\":\"#C8D4E3\"},\"line\":{\"color\":\"white\"}},\"type\":\"table\"}]},\"layout\":{\"annotationdefaults\":{\"arrowcolor\":\"#2a3f5f\",\"arrowhead\":0,\"arrowwidth\":1},\"autotypenumbers\":\"strict\",\"coloraxis\":{\"colorbar\":{\"outlinewidth\":0,\"ticks\":\"\"}},\"colorscale\":{\"diverging\":[[0,\"#8e0152\"],[0.1,\"#c51b7d\"],[0.2,\"#de77ae\"],[0.3,\"#f1b6da\"],[0.4,\"#fde0ef\"],[0.5,\"#f7f7f7\"],[0.6,\"#e6f5d0\"],[0.7,\"#b8e186\"],[0.8,\"#7fbc41\"],[0.9,\"#4d9221\"],[1,\"#276419\"]],\"sequential\":[[0.0,\"#0d0887\"],[0.1111111111111111,\"#46039f\"],[0.2222222222222222,\"#7201a8\"],[0.3333333333333333,\"#9c179e\"],[0.4444444444444444,\"#bd3786\"],[0.5555555555555556,\"#d8576b\"],[0.6666666666666666,\"#ed7953\"],[0.7777777777777778,\"#fb9f3a\"],[0.8888888888888888,\"#fdca26\"],[1.0,\"#f0f921\"]],\"sequentialminus\":[[0.0,\"#0d0887\"],[0.1111111111111111,\"#46039f\"],[0.2222222222222222,\"#7201a8\"],[0.3333333333333333,\"#9c179e\"],[0.4444444444444444,\"#bd3786\"],[0.5555555555555556,\"#d8576b\"],[0.6666666666666666,\"#ed7953\"],[0.7777777777777778,\"#fb9f3a\"],[0.8888888888888888,\"#fdca26\"],[1.0,\"#f0f921\"]]},\"colorway\":[\"#636efa\",\"#EF553B\",\"#00cc96\",\"#ab63fa\",\"#FFA15A\",\"#19d3f3\",\"#FF6692\",\"#B6E880\",\"#FF97FF\",\"#FECB52\"],\"font\":{\"color\":\"#2a3f5f\"},\"geo\":{\"bgcolor\":\"white\",\"lakecolor\":\"white\",\"landcolor\":\"#E5ECF6\",\"showlakes\":true,\"showland\":true,\"subunitcolor\":\"white\"},\"hoverlabel\":{\"align\":\"left\"},\"hovermode\":\"closest\",\"mapbox\":{\"style\":\"light\"},\"paper_bgcolor\":\"white\",\"plot_bgcolor\":\"#E5ECF6\",\"polar\":{\"angularaxis\":{\"gridcolor\":\"white\",\"linecolor\":\"white\",\"ticks\":\"\"},\"bgcolor\":\"#E5ECF6\",\"radialaxis\":{\"gridcolor\":\"white\",\"linecolor\":\"white\",\"ticks\":\"\"}},\"scene\":{\"xaxis\":{\"backgroundcolor\":\"#E5ECF6\",\"gridcolor\":\"white\",\"gridwidth\":2,\"linecolor\":\"white\",\"showbackground\":true,\"ticks\":\"\",\"zerolinecolor\":\"white\"},\"yaxis\":{\"backgroundcolor\":\"#E5ECF6\",\"gridcolor\":\"white\",\"gridwidth\":2,\"linecolor\":\"white\",\"showbackground\":true,\"ticks\":\"\",\"zerolinecolor\":\"white\"},\"zaxis\":{\"backgroundcolor\":\"#E5ECF6\",\"gridcolor\":\"white\",\"gridwidth\":2,\"linecolor\":\"white\",\"showbackground\":true,\"ticks\":\"\",\"zerolinecolor\":\"white\"}},\"shapedefaults\":{\"line\":{\"color\":\"#2a3f5f\"}},\"ternary\":{\"aaxis\":{\"gridcolor\":\"white\",\"linecolor\":\"white\",\"ticks\":\"\"},\"baxis\":{\"gridcolor\":\"white\",\"linecolor\":\"white\",\"ticks\":\"\"},\"bgcolor\":\"#E5ECF6\",\"caxis\":{\"gridcolor\":\"white\",\"linecolor\":\"white\",\"ticks\":\"\"}},\"title\":{\"x\":0.05},\"xaxis\":{\"automargin\":true,\"gridcolor\":\"white\",\"linecolor\":\"white\",\"ticks\":\"\",\"title\":{\"standoff\":15},\"zerolinecolor\":\"white\",\"zerolinewidth\":2},\"yaxis\":{\"automargin\":true,\"gridcolor\":\"white\",\"linecolor\":\"white\",\"ticks\":\"\",\"title\":{\"standoff\":15},\"zerolinecolor\":\"white\",\"zerolinewidth\":2}}}},                        {\"responsive\": true}                    ).then(function(){\n",
       "                            \n",
       "var gd = document.getElementById('9c93f06a-7a4c-497b-a218-469e9ccf4750');\n",
       "var x = new MutationObserver(function (mutations, observer) {{\n",
       "        var display = window.getComputedStyle(gd).display;\n",
       "        if (!display || display === 'none') {{\n",
       "            console.log([gd, 'removed!']);\n",
       "            Plotly.purge(gd);\n",
       "            observer.disconnect();\n",
       "        }}\n",
       "}});\n",
       "\n",
       "// Listen for the removal of the full notebook cells\n",
       "var notebookContainer = gd.closest('#notebook-container');\n",
       "if (notebookContainer) {{\n",
       "    x.observe(notebookContainer, {childList: true});\n",
       "}}\n",
       "\n",
       "// Listen for the clearing of the current output cell\n",
       "var outputEl = gd.closest('.output');\n",
       "if (outputEl) {{\n",
       "    x.observe(outputEl, {childList: true});\n",
       "}}\n",
       "\n",
       "                        })                };                });            </script>        </div>"
      ]
     },
     "metadata": {},
     "output_type": "display_data"
    }
   ],
   "source": [
    "fig = go.Figure(go.Indicator(\n",
    "    mode = \"gauge+number+delta\",\n",
    "    gauge = {'shape': \"bullet\"},\n",
    "    delta = {'reference': 462156},\n",
    "    value = x,\n",
    "    domain = {'x': [0.1, 1], 'y': [0.2, 0.9]},\n",
    "    title = {'text': \"Total Clients\"}))\n",
    "\n",
    "fig.show()"
   ]
  },
  {
   "cell_type": "code",
   "execution_count": 19,
   "id": "9871a7b4",
   "metadata": {},
   "outputs": [
    {
     "data": {
      "application/vnd.plotly.v1+json": {
       "config": {
        "plotlyServerURL": "https://plot.ly"
       },
       "data": [
        {
         "branchvalues": "total",
         "domain": {
          "x": [
           0,
           1
          ],
          "y": [
           0,
           1
          ]
         },
         "hovertemplate": "labels=%{label}<br>Clients=%{value}<br>parent=%{parent}<br>id=%{id}<extra></extra>",
         "ids": [
          "Adult Access for Dogs/Abdominal Cryptorchid add to neuter K9",
          "Junior Access for Dogs/Abdominal Cryptorchid add to neuter K9",
          "Adult Access for Dogs/Accuplex K9",
          "Junior Access for Dogs/Accuplex K9",
          "Senior Access for Dogs/Accuplex K9",
          "Adult Access for Dogs/Additonal Fecal exam",
          "Junior Access for Cats/Additonal Fecal exam",
          "Junior Access for Dogs/Additonal Fecal exam",
          "Adult Access for Cats/Adult Wellness Fel",
          "Adult Access for Dogs/Adult Wellness K9",
          "Adult Access Feline Canada/Advanced Labwork Canada",
          "Senior Access Canine Canada/Advanced Labwork Canada",
          "Senior Access Feline Canada/Advanced Labwork Canada",
          "Adult Access Canine Canada/Anal Sac Expression Canada",
          "Senior Access Canine Canada/Anal Sac Expression Canada",
          "Adult Access Canine Canada/Basic Labwork Canada",
          "Adult Access Feline Canada/Basic Labwork Canada",
          "Junior Access Canine Canada/Basic Labwork Canada",
          "Junior Access Feline Canada/Basic Labwork Canada",
          "Senior Access Canine Canada/Basic Labwork Canada",
          "Adult Access for Cats/Blood Pressure Fel",
          "Senior Access for Cats/Blood Pressure Fel",
          "Senior Access for Cats/Blood Pressure Fel.",
          "Senior Access for Dogs/Blood Pressure K9",
          "Adult Access for Dogs/Blood Pressure K9.",
          "Senior Access for Dogs/Blood Pressure K9.",
          "Adult Access for Dogs/Bordetella (Adult/Senior)",
          "Senior Access for Dogs/Bordetella (Adult/Senior)",
          "Junior Access for Dogs/Bordetella (puppy)",
          "Adult Access Canine Canada/Canine Adult Bordetella Vaccine",
          "Adult Paws Plus Dog Canada/Canine Adult Bordetella Vaccine",
          "Adult Paws Plus for Dogs/Canine Adult Bordetella Vaccine",
          "Adult Paws for Dog Canada/Canine Adult Bordetella Vaccine",
          "Adult Paws for Dogs/Canine Adult Bordetella Vaccine",
          "Senior Access Canine Canada/Canine Adult Bordetella Vaccine",
          "Senior Dog Plus for Canada/Canine Adult Bordetella Vaccine",
          "Senior Paws Dog for Canada/Canine Adult Bordetella Vaccine",
          "Senior Paws Plus for Dogs/Canine Adult Bordetella Vaccine",
          "Senior Paws for Dogs/Canine Adult Bordetella Vaccine",
          "Adult Paws Plus for Dogs/Canine Adult Combo Vaccine",
          "Adult Paws for Dogs/Canine Adult Combo Vaccine",
          "Senior Paws Plus for Dogs/Canine Adult Combo Vaccine",
          "Senior Paws for Dogs/Canine Adult Combo Vaccine",
          "Adult Access Canine Canada/Canine Adult Distemper/Parvo Combo Vaccine",
          "Adult Paws Plus Dog Canada/Canine Adult Distemper/Parvo Combo Vaccine",
          "Adult Paws Plus for Dogs/Canine Adult Distemper/Parvo Combo Vaccine",
          "Adult Paws for Dog Canada/Canine Adult Distemper/Parvo Combo Vaccine",
          "Adult Paws for Dogs/Canine Adult Distemper/Parvo Combo Vaccine",
          "Senior Access Canine Canada/Canine Adult Distemper/Parvo Combo Vaccine",
          "Senior Dog Plus for Canada/Canine Adult Distemper/Parvo Combo Vaccine",
          "Senior Paws Dog for Canada/Canine Adult Distemper/Parvo Combo Vaccine",
          "Senior Paws Plus for Dogs/Canine Adult Distemper/Parvo Combo Vaccine",
          "Senior Paws for Dogs/Canine Adult Distemper/Parvo Combo Vaccine",
          "Adult Access Canine Canada/Canine Adult Rabies Vaccine",
          "Adult Paws Plus Dog Canada/Canine Adult Rabies Vaccine",
          "Adult Paws Plus for Dogs/Canine Adult Rabies Vaccine",
          "Adult Paws for Dog Canada/Canine Adult Rabies Vaccine",
          "Adult Paws for Dogs/Canine Adult Rabies Vaccine",
          "Senior Access Canine Canada/Canine Adult Rabies Vaccine",
          "Senior Dog Plus for Canada/Canine Adult Rabies Vaccine",
          "Senior Paws Dog for Canada/Canine Adult Rabies Vaccine",
          "Senior Paws Plus for Dogs/Canine Adult Rabies Vaccine",
          "Senior Paws for Dogs/Canine Adult Rabies Vaccine",
          "Adult Paws Plus for Dogs/Canine Adult Wellness Labwork",
          "Adult Paws for Dogs/Canine Adult Wellness Labwork",
          "Adult Paws Plus Dog Canada/Canine Adult/Senior Wellness Labwork",
          "Adult Paws Plus for Dogs/Canine Adult/Senior Wellness Labwork",
          "Adult Paws for Dog Canada/Canine Adult/Senior Wellness Labwork",
          "Adult Paws for Dogs/Canine Adult/Senior Wellness Labwork",
          "Senior Dog Plus for Canada/Canine Adult/Senior Wellness Labwork",
          "Senior Paws Dog for Canada/Canine Adult/Senior Wellness Labwork",
          "Senior Paws Plus for Dogs/Canine Adult/Senior Wellness Labwork",
          "Senior Paws for Dogs/Canine Adult/Senior Wellness Labwork",
          "Junior Dog Plus Neuter Canada/Canine Complexity",
          "Junior Dogs Plus Spay Canada/Canine Complexity",
          "Junior Paws Plus Puppy Neuter/Canine Complexity",
          "Junior Paws Plus Puppy Spay/Canine Complexity",
          "Adult Paws Plus Dog Canada/Canine Dental",
          "Adult Paws Plus for Dogs/Canine Dental",
          "Senior Dog Plus for Canada/Canine Dental",
          "Senior Paws Plus for Dogs/Canine Dental",
          "Adult Paws Plus Dog Canada/Canine Dental Xray",
          "Adult Paws Plus for Dogs/Canine Dental Xray",
          "Senior Dog Plus for Canada/Canine Dental Xray",
          "Senior Paws Plus for Dogs/Canine Dental Xray",
          "Adult Paws Plus for Dogs/Canine Influenza Vaccine",
          "Adult Paws for Dogs/Canine Influenza Vaccine",
          "Junior Paws Plus Puppy Neuter/Canine Influenza Vaccine",
          "Junior Paws Plus Puppy Spay/Canine Influenza Vaccine",
          "Junior Paws for Dogs/Canine Influenza Vaccine",
          "Senior Paws Plus for Dogs/Canine Influenza Vaccine",
          "Senior Paws for Dogs/Canine Influenza Vaccine",
          "Adult Paws Plus for Dogs/Canine Influenza or Lyme Vaccine",
          "Adult Paws for Dogs/Canine Influenza or Lyme Vaccine",
          "Junior Paws Plus Puppy Neuter/Canine Influenza or Lyme Vaccine",
          "Junior Paws Plus Puppy Spay/Canine Influenza or Lyme Vaccine",
          "Junior Paws for Dogs/Canine Influenza or Lyme Vaccine",
          "Senior Paws Plus for Dogs/Canine Influenza or Lyme Vaccine",
          "Senior Paws for Dogs/Canine Influenza or Lyme Vaccine",
          "Adult Paws Plus Dog Canada/Canine Lepto Vaccine",
          "Adult Paws Plus for Dogs/Canine Lepto Vaccine",
          "Adult Paws for Dog Canada/Canine Lepto Vaccine",
          "Adult Paws for Dogs/Canine Lepto Vaccine",
          "Junior Dog Plus Neuter Canada/Canine Lepto Vaccine",
          "Junior Dogs Plus Spay Canada/Canine Lepto Vaccine",
          "Junior Paws Plus Puppy Neuter/Canine Lepto Vaccine",
          "Junior Paws Plus Puppy Spay/Canine Lepto Vaccine",
          "Junior Paws for Dogs/Canine Lepto Vaccine",
          "Junior Paws for Dogs Canada/Canine Lepto Vaccine",
          "Senior Dog Plus for Canada/Canine Lepto Vaccine",
          "Senior Paws Dog for Canada/Canine Lepto Vaccine",
          "Senior Paws Plus for Dogs/Canine Lepto Vaccine",
          "Senior Paws for Dogs/Canine Lepto Vaccine",
          "Adult Paws Plus for Dogs/Canine Leptospirosis Vaccine",
          "Adult Paws for Dogs/Canine Leptospirosis Vaccine",
          "Junior Paws Plus Puppy Neuter/Canine Leptospirosis Vaccine",
          "Junior Paws Plus Puppy Spay/Canine Leptospirosis Vaccine",
          "Junior Paws for Dogs/Canine Leptospirosis Vaccine",
          "Senior Paws Plus for Dogs/Canine Leptospirosis Vaccine",
          "Senior Paws for Dogs/Canine Leptospirosis Vaccine",
          "Junior Dog Plus Neuter Canada/Canine Neuter",
          "Junior Paws Plus Puppy Neuter/Canine Neuter",
          "Junior Paws Plus Puppy Neuter/Canine Pain Medication Dispensed",
          "Junior Paws Plus Puppy Spay/Canine Pain Medication Dispensed",
          "Junior Access Canine Canada/Canine Puppy Bordetella Vaccine",
          "Junior Dog Plus Neuter Canada/Canine Puppy Bordetella Vaccine",
          "Junior Dogs Plus Spay Canada/Canine Puppy Bordetella Vaccine",
          "Junior Paws Plus Puppy Neuter/Canine Puppy Bordetella Vaccine",
          "Junior Paws Plus Puppy Spay/Canine Puppy Bordetella Vaccine",
          "Junior Paws for Dogs/Canine Puppy Bordetella Vaccine",
          "Junior Paws for Dogs Canada/Canine Puppy Bordetella Vaccine",
          "Senior Paws Plus for Dogs/Canine Puppy Bordetella Vaccine",
          "Junior Paws Plus Puppy Neuter/Canine Puppy Combo Vaccine",
          "Junior Paws Plus Puppy Spay/Canine Puppy Combo Vaccine",
          "Junior Paws for Dogs/Canine Puppy Combo Vaccine",
          "Junior Access Canine Canada/Canine Puppy Distemper/Parvo Combo Vaccine",
          "Junior Dog Plus Neuter Canada/Canine Puppy Distemper/Parvo Combo Vaccine",
          "Junior Dogs Plus Spay Canada/Canine Puppy Distemper/Parvo Combo Vaccine",
          "Junior Paws Plus Puppy Neuter/Canine Puppy Distemper/Parvo Combo Vaccine",
          "Junior Paws Plus Puppy Spay/Canine Puppy Distemper/Parvo Combo Vaccine",
          "Junior Paws for Dogs/Canine Puppy Distemper/Parvo Combo Vaccine",
          "Junior Paws for Dogs Canada/Canine Puppy Distemper/Parvo Combo Vaccine",
          "Junior Access Canine Canada/Canine Puppy Rabies Vaccine",
          "Junior Dog Plus Neuter Canada/Canine Puppy Rabies Vaccine",
          "Junior Dogs Plus Spay Canada/Canine Puppy Rabies Vaccine",
          "Junior Paws Plus Puppy Neuter/Canine Puppy Rabies Vaccine",
          "Junior Paws Plus Puppy Spay/Canine Puppy Rabies Vaccine",
          "Junior Paws for Dogs/Canine Puppy Rabies Vaccine",
          "Junior Paws for Dogs Canada/Canine Puppy Rabies Vaccine",
          "Senior Paws Plus for Dogs/Canine Senior Wellness Labwork",
          "Senior Paws for Dogs/Canine Senior Wellness Labwork",
          "Junior Dogs Plus Spay Canada/Canine Spay",
          "Junior Paws Plus Puppy Spay/Canine Spay",
          "Senior Cat Plus for Canada/Canine/Feline Senior Blood Pressure",
          "Senior Dog Plus for Canada/Canine/Feline Senior Blood Pressure",
          "Senior Paws Dog for Canada/Canine/Feline Senior Blood Pressure",
          "Senior Paws Plus for Cats/Canine/Feline Senior Blood Pressure",
          "Senior Paws Plus for Dogs/Canine/Feline Senior Blood Pressure",
          "Senior Paws for Cats/Canine/Feline Senior Blood Pressure",
          "Senior Paws for Cats Canada/Canine/Feline Senior Blood Pressure",
          "Senior Paws for Dogs/Canine/Feline Senior Blood Pressure",
          "Senior Cat Plus for Canada/Canine/Feline Senior Radiographs",
          "Senior Dog Plus for Canada/Canine/Feline Senior Radiographs",
          "Senior Paws Dog for Canada/Canine/Feline Senior Radiographs",
          "Senior Paws Plus for Cats/Canine/Feline Senior Radiographs",
          "Senior Paws Plus for Dogs/Canine/Feline Senior Radiographs",
          "Senior Paws for Cats/Canine/Feline Senior Radiographs",
          "Senior Paws for Cats Canada/Canine/Feline Senior Radiographs",
          "Senior Paws for Dogs/Canine/Feline Senior Radiographs",
          "Adult Access Canine Canada/CareClub Checkup Exam",
          "Adult Access Feline Canada/CareClub Checkup Exam",
          "Adult Access for Cats/CareClub Checkup Exam",
          "Adult Access for Dogs/CareClub Checkup Exam",
          "Adult Essentials for Cats/CareClub Checkup Exam",
          "Adult Paws Plus Cat Canada/CareClub Checkup Exam",
          "Adult Paws Plus Dog Canada/CareClub Checkup Exam",
          "Adult Paws Plus for Cats/CareClub Checkup Exam",
          "Adult Paws Plus for Dogs/CareClub Checkup Exam",
          "Adult Paws for Cat Canada/CareClub Checkup Exam",
          "Adult Paws for Cats/CareClub Checkup Exam",
          "Adult Paws for Dog Canada/CareClub Checkup Exam",
          "Adult Paws for Dogs/CareClub Checkup Exam",
          "Adult Premier for Cats/CareClub Checkup Exam",
          "Junior Access Canine Canada/CareClub Checkup Exam",
          "Junior Access Feline Canada/CareClub Checkup Exam",
          "Junior Access for Cats/CareClub Checkup Exam",
          "Junior Access for Dogs/CareClub Checkup Exam",
          "Junior Cat Plus Spay Canada/CareClub Checkup Exam",
          "Junior Cats Plus Neuter Canada/CareClub Checkup Exam",
          "Junior Dog Plus Neuter Canada/CareClub Checkup Exam",
          "Junior Dogs Plus Spay Canada/CareClub Checkup Exam",
          "Junior Paws Plus Kitten Neuter/CareClub Checkup Exam",
          "Junior Paws Plus Kitten Spay/CareClub Checkup Exam",
          "Junior Paws Plus Puppy Neuter/CareClub Checkup Exam",
          "Junior Paws Plus Puppy Spay/CareClub Checkup Exam",
          "Junior Paws for Cats/CareClub Checkup Exam",
          "Junior Paws for Cats Canada/CareClub Checkup Exam",
          "Junior Paws for Dogs/CareClub Checkup Exam",
          "Junior Paws for Dogs Canada/CareClub Checkup Exam",
          "Senior Access Canine Canada/CareClub Checkup Exam",
          "Senior Access Feline Canada/CareClub Checkup Exam",
          "Senior Access for Cats/CareClub Checkup Exam",
          "Senior Access for Dogs/CareClub Checkup Exam",
          "Senior Cat Plus for Canada/CareClub Checkup Exam",
          "Senior Dog Plus for Canada/CareClub Checkup Exam",
          "Senior Paws Dog for Canada/CareClub Checkup Exam",
          "Senior Paws Plus for Cats/CareClub Checkup Exam",
          "Senior Paws Plus for Dogs/CareClub Checkup Exam",
          "Senior Paws for Cats/CareClub Checkup Exam",
          "Senior Paws for Cats Canada/CareClub Checkup Exam",
          "Senior Paws for Dogs/CareClub Checkup Exam",
          "Adult Access for Cats/Comprehensive Labwork Fel",
          "Senior Access for Cats/Comprehensive Labwork Fel",
          "Adult Access for Dogs/Comprehensive Labwork K9",
          "Senior Access for Dogs/Comprehensive Labwork K9",
          "Adult Access for Dogs/DHPP (DHLPP) (Adult/Senior)",
          "Senior Access for Dogs/DHPP (DHLPP) (Adult/Senior)",
          "Junior Access for Dogs/DHPP (DHLPP) Puppy",
          "Junior Access for Dogs/Deciduous teeth ADD add to neuter K9",
          "Junior Access for Dogs/Deciduous teeth ADD add to spay K9",
          "Adult Access Feline Canada/Dental Package Fe G",
          "Adult Access for Cats/Dental Package Fe G",
          "Adult Paws for Cats/Dental Package Fe G",
          "Senior Access Feline Canada/Dental Package Fe G",
          "Senior Access for Cats/Dental Package Fe G",
          "Senior Paws for Cats/Dental Package Fe G",
          "Adult Access Canine Canada/Dental Package K9 G",
          "Adult Access for Dogs/Dental Package K9 G",
          "Adult Paws for Dogs/Dental Package K9 G",
          "Senior Access Canine Canada/Dental Package K9 G",
          "Senior Access for Dogs/Dental Package K9 G",
          "Senior Paws for Dogs/Dental Package K9 G",
          "Adult Access Feline Canada/Dental Pain Management Fel",
          "Senior Access Feline Canada/Dental Pain Management Fel",
          "Junior Access for Cats/Deworm Fel",
          "Junior Access for Dogs/Deworm K9",
          "Junior Access Canine Canada/Deworming",
          "Junior Access Feline Canada/Deworming",
          "Junior Cat Plus Spay Canada/Deworming",
          "Junior Cats Plus Neuter Canada/Deworming",
          "Junior Dog Plus Neuter Canada/Deworming",
          "Junior Dogs Plus Spay Canada/Deworming",
          "Junior Paws Plus Kitten Neuter/Deworming",
          "Junior Paws Plus Kitten Spay/Deworming",
          "Junior Paws Plus Puppy Neuter/Deworming",
          "Junior Paws Plus Puppy Spay/Deworming",
          "Junior Paws for Cats/Deworming",
          "Junior Paws for Cats Canada/Deworming",
          "Junior Paws for Dogs/Deworming",
          "Junior Paws for Dogs Canada/Deworming",
          "Junior Cat Plus Spay Canada/Elective Block",
          "Junior Cats Plus Neuter Canada/Elective Block",
          "Junior Dog Plus Neuter Canada/Elective Block",
          "Junior Dogs Plus Spay Canada/Elective Block",
          "Junior Paws Plus Kitten Neuter/Elective Block",
          "Junior Paws Plus Kitten Spay/Elective Block",
          "Junior Paws Plus Puppy Neuter/Elective Block",
          "Junior Paws Plus Puppy Spay/Elective Block",
          "Junior Access Feline Canada/Elective Block Fel Neuter",
          "Adult Access Feline Canada/Elective Block Fel Spay",
          "Junior Access Feline Canada/Elective Block Fel Spay",
          "Adult Access Canine Canada/Elective Block K9 Neuter",
          "Junior Access Canine Canada/Elective Block K9 Neuter",
          "Adult Access Canine Canada/Elective Block'",
          "Junior Access Canine Canada/Elective Block'",
          "Adult Access Canine Canada/Elective Block.",
          "Junior Access Canine Canada/Elective Block.",
          "Adult Access for Cats/FVRCP (Adult/Senior)",
          "Senior Access for Cats/FVRCP (Adult/Senior)",
          "Junior Access for Cats/FVRCP (Kitten)",
          "Adult Access Feline Canada/FeLV (Adult/Senior)",
          "Adult Access for Cats/FeLV (Adult/Senior)",
          "Senior Access Feline Canada/FeLV (Adult/Senior)",
          "Senior Access for Cats/FeLV (Adult/Senior)",
          "Junior Access for Cats/FeLV (Kitten)",
          "Adult Access for Cats/FeLV / FIV test Fel",
          "Junior Access for Cats/FeLV / FIV test Fel",
          "Senior Access for Cats/FeLV / FIV test Fel",
          "Junior Paws Plus Kitten Neuter/FeLV/FIV Test",
          "Junior Paws Plus Kitten Spay/FeLV/FIV Test",
          "Junior Paws for Cats/FeLV/FIV Test",
          "Senior Access Feline Canada/FeLV/FIV Test Fel",
          "Adult Essentials for Cats/FeLV/FIV/Hwab",
          "Adult Premier for Cats/FeLV/FIV/Hwab",
          "Adult Access for Dogs/Fear Free codes,",
          "Senior Access for Dogs/Fear Free codes,",
          "Adult Access for Dogs/Fear free codes",
          "Senior Access for Dogs/Fear free codes",
          "Adult Access for Cats/Fear free codes Fel",
          "Senior Access for Cats/Fear free codes Fel",
          "Adult Access for Cats/Fear free codes Fel.",
          "Senior Access for Cats/Fear free codes Fel.",
          "Adult Access for Dogs/Fear free codes.",
          "Senior Access for Dogs/Fear free codes.",
          "Junior Access for Cats/Fecal Fel",
          "Adult Essentials for Cats/Fecal Test",
          "Adult Paws Plus for Cats/Fecal Test",
          "Adult Paws Plus for Dogs/Fecal Test",
          "Adult Paws for Cats/Fecal Test",
          "Adult Paws for Dogs/Fecal Test",
          "Adult Premier for Cats/Fecal Test",
          "Junior Paws Plus Kitten Neuter/Fecal Test",
          "Junior Paws Plus Kitten Spay/Fecal Test",
          "Junior Paws Plus Puppy Neuter/Fecal Test",
          "Junior Paws Plus Puppy Spay/Fecal Test",
          "Junior Paws for Cats/Fecal Test",
          "Junior Paws for Dogs/Fecal Test",
          "Senior Paws Plus for Cats/Fecal Test",
          "Senior Paws Plus for Dogs/Fecal Test",
          "Senior Paws for Cats/Fecal Test",
          "Senior Paws for Dogs/Fecal Test",
          "Adult Access for Cats/Fecal exam (O&P Giardia) Fel",
          "Senior Access for Cats/Fecal exam (O&P Giardia) Fel",
          "Adult Access for Dogs/Fecal exam (O&P Giardia) K9",
          "Senior Access for Dogs/Fecal exam (O&P Giardia) K9",
          "Junior Access for Dogs/Fecal k9",
          "Adult Access Canine Canada/Fecal/Parasite Test",
          "Adult Access Feline Canada/Fecal/Parasite Test",
          "Adult Paws Plus Cat Canada/Fecal/Parasite Test",
          "Adult Paws Plus Dog Canada/Fecal/Parasite Test",
          "Adult Paws Plus for Cats/Fecal/Parasite Test",
          "Adult Paws Plus for Dogs/Fecal/Parasite Test",
          "Adult Paws for Cat Canada/Fecal/Parasite Test",
          "Adult Paws for Cats/Fecal/Parasite Test",
          "Adult Paws for Dog Canada/Fecal/Parasite Test",
          "Adult Paws for Dogs/Fecal/Parasite Test",
          "Junior Access Canine Canada/Fecal/Parasite Test",
          "Junior Access Feline Canada/Fecal/Parasite Test",
          "Junior Cat Plus Spay Canada/Fecal/Parasite Test",
          "Junior Cats Plus Neuter Canada/Fecal/Parasite Test",
          "Junior Dog Plus Neuter Canada/Fecal/Parasite Test",
          "Junior Dogs Plus Spay Canada/Fecal/Parasite Test",
          "Junior Paws Plus Kitten Neuter/Fecal/Parasite Test",
          "Junior Paws Plus Kitten Spay/Fecal/Parasite Test",
          "Junior Paws Plus Puppy Neuter/Fecal/Parasite Test",
          "Junior Paws Plus Puppy Spay/Fecal/Parasite Test",
          "Junior Paws for Cats/Fecal/Parasite Test",
          "Junior Paws for Cats Canada/Fecal/Parasite Test",
          "Junior Paws for Dogs/Fecal/Parasite Test",
          "Junior Paws for Dogs Canada/Fecal/Parasite Test",
          "Senior Access Canine Canada/Fecal/Parasite Test",
          "Senior Access Feline Canada/Fecal/Parasite Test",
          "Senior Cat Plus for Canada/Fecal/Parasite Test",
          "Senior Dog Plus for Canada/Fecal/Parasite Test",
          "Senior Paws Dog for Canada/Fecal/Parasite Test",
          "Senior Paws Plus for Cats/Fecal/Parasite Test",
          "Senior Paws Plus for Dogs/Fecal/Parasite Test",
          "Senior Paws for Cats/Fecal/Parasite Test",
          "Senior Paws for Cats Canada/Fecal/Parasite Test",
          "Senior Paws for Dogs/Fecal/Parasite Test",
          "Adult Access Feline Canada/Feline Adult FVRCP Vaccine",
          "Adult Paws Plus Cat Canada/Feline Adult FVRCP Vaccine",
          "Adult Paws Plus for Cats/Feline Adult FVRCP Vaccine",
          "Adult Paws for Cat Canada/Feline Adult FVRCP Vaccine",
          "Adult Paws for Cats/Feline Adult FVRCP Vaccine",
          "Adult Premier for Cats/Feline Adult FVRCP Vaccine",
          "Senior Access Feline Canada/Feline Adult FVRCP Vaccine",
          "Senior Cat Plus for Canada/Feline Adult FVRCP Vaccine",
          "Senior Paws Plus for Cats/Feline Adult FVRCP Vaccine",
          "Senior Paws for Cats/Feline Adult FVRCP Vaccine",
          "Senior Paws for Cats Canada/Feline Adult FVRCP Vaccine",
          "Adult Paws Plus for Cats/Feline Adult FeLV Vaccine",
          "Adult Paws for Cats/Feline Adult FeLV Vaccine",
          "Adult Premier for Cats/Feline Adult FeLV Vaccine",
          "Senior Paws Plus for Cats/Feline Adult FeLV Vaccine",
          "Senior Paws for Cats/Feline Adult FeLV Vaccine",
          "Adult Access Feline Canada/Feline Adult Rabies Vaccine",
          "Adult Paws Plus Cat Canada/Feline Adult Rabies Vaccine",
          "Adult Paws Plus for Cats/Feline Adult Rabies Vaccine",
          "Adult Paws for Cat Canada/Feline Adult Rabies Vaccine",
          "Adult Paws for Cats/Feline Adult Rabies Vaccine",
          "Adult Premier for Cats/Feline Adult Rabies Vaccine",
          "Senior Access Feline Canada/Feline Adult Rabies Vaccine",
          "Senior Cat Plus for Canada/Feline Adult Rabies Vaccine",
          "Senior Paws Plus for Cats/Feline Adult Rabies Vaccine",
          "Senior Paws for Cats/Feline Adult Rabies Vaccine",
          "Senior Paws for Cats Canada/Feline Adult Rabies Vaccine",
          "Adult Essentials for Cats/Feline Adult Wellness Labwork",
          "Adult Paws Plus for Cats/Feline Adult Wellness Labwork",
          "Adult Paws for Cats/Feline Adult Wellness Labwork",
          "Adult Paws Plus for Cats/Feline Adult Wellness Panel",
          "Adult Premier for Cats/Feline Adult Wellness Panel",
          "Adult Paws Plus Cat Canada/Feline Adult/Senior Wellness Labwork",
          "Adult Paws Plus for Cats/Feline Adult/Senior Wellness Labwork",
          "Adult Paws for Cat Canada/Feline Adult/Senior Wellness Labwork",
          "Adult Paws for Cats/Feline Adult/Senior Wellness Labwork",
          "Senior Cat Plus for Canada/Feline Adult/Senior Wellness Labwork",
          "Senior Paws Plus for Cats/Feline Adult/Senior Wellness Labwork",
          "Senior Paws for Cats/Feline Adult/Senior Wellness Labwork",
          "Senior Paws for Cats Canada/Feline Adult/Senior Wellness Labwork",
          "Junior Cat Plus Spay Canada/Feline Complexity",
          "Junior Cats Plus Neuter Canada/Feline Complexity",
          "Junior Paws Plus Kitten Neuter/Feline Complexity",
          "Junior Paws Plus Kitten Spay/Feline Complexity",
          "Adult Paws Plus Cat Canada/Feline Dental",
          "Adult Paws Plus for Cats/Feline Dental",
          "Senior Cat Plus for Canada/Feline Dental",
          "Senior Paws Plus for Cats/Feline Dental",
          "Adult Paws Plus Cat Canada/Feline Dental Xray",
          "Adult Paws Plus for Cats/Feline Dental Xray",
          "Senior Cat Plus for Canada/Feline Dental Xray",
          "Senior Paws Plus for Cats/Feline Dental Xray",
          "Junior Access Feline Canada/Feline Kitten FVRCP Vaccine",
          "Junior Cat Plus Spay Canada/Feline Kitten FVRCP Vaccine",
          "Junior Cats Plus Neuter Canada/Feline Kitten FVRCP Vaccine",
          "Junior Paws Plus Kitten Neuter/Feline Kitten FVRCP Vaccine",
          "Junior Paws Plus Kitten Spay/Feline Kitten FVRCP Vaccine",
          "Junior Paws for Cats/Feline Kitten FVRCP Vaccine",
          "Junior Paws for Cats Canada/Feline Kitten FVRCP Vaccine",
          "Junior Access Feline Canada/Feline Kitten FeLV Vaccine",
          "Junior Cat Plus Spay Canada/Feline Kitten FeLV Vaccine",
          "Junior Cats Plus Neuter Canada/Feline Kitten FeLV Vaccine",
          "Junior Paws Plus Kitten Neuter/Feline Kitten FeLV Vaccine",
          "Junior Paws Plus Kitten Spay/Feline Kitten FeLV Vaccine",
          "Junior Paws for Cats/Feline Kitten FeLV Vaccine",
          "Junior Paws for Cats Canada/Feline Kitten FeLV Vaccine",
          "Junior Access Feline Canada/Feline Kitten Labwork",
          "Junior Cat Plus Spay Canada/Feline Kitten Labwork",
          "Junior Cats Plus Neuter Canada/Feline Kitten Labwork",
          "Junior Paws Plus Kitten Neuter/Feline Kitten Labwork",
          "Junior Paws Plus Kitten Spay/Feline Kitten Labwork",
          "Junior Paws for Cats/Feline Kitten Labwork",
          "Junior Paws for Cats Canada/Feline Kitten Labwork",
          "Junior Access Feline Canada/Feline Kitten Rabies Vaccine",
          "Junior Cat Plus Spay Canada/Feline Kitten Rabies Vaccine",
          "Junior Cats Plus Neuter Canada/Feline Kitten Rabies Vaccine",
          "Junior Paws Plus Kitten Neuter/Feline Kitten Rabies Vaccine",
          "Junior Paws Plus Kitten Spay/Feline Kitten Rabies Vaccine",
          "Junior Paws for Cats/Feline Kitten Rabies Vaccine",
          "Junior Paws for Cats Canada/Feline Kitten Rabies Vaccine",
          "Adult Access for Cats/Feline Neuter",
          "Adult Paws for Cats/Feline Neuter",
          "Junior Access Feline Canada/Feline Neuter",
          "Junior Access for Cats/Feline Neuter",
          "Junior Cats Plus Neuter Canada/Feline Neuter",
          "Junior Paws Plus Kitten Neuter/Feline Neuter",
          "Junior Paws for Cats/Feline Neuter",
          "Junior Paws Plus Kitten Neuter/Feline Pain Medication Dispensed",
          "Junior Paws Plus Kitten Spay/Feline Pain Medication Dispensed",
          "Adult Premier for Cats/Feline Parasiticide",
          "Senior Paws Plus for Cats/Feline Senior Wellness Labwork",
          "Senior Paws for Cats/Feline Senior Wellness Labwork",
          "Junior Cat Plus Spay Canada/Feline Spay",
          "Junior Paws Plus Kitten Spay/Feline Spay",
          "Adult Access Feline Canada/Feline Spay.",
          "Adult Access for Cats/Feline Spay.",
          "Adult Paws for Cats/Feline Spay.",
          "Junior Access Feline Canada/Feline Spay.",
          "Junior Access for Cats/Feline Spay.",
          "Junior Paws for Cats/Feline Spay.",
          "Junior Access Canine Canada/Female Spay Complexity K9 Canada",
          "Junior Access for Dogs/Gastropexy + Anesth Neuter (Elective) ADD K9",
          "Adult Access for Dogs/Gastropexy + Anesth Spay (Elective) ADD K9",
          "Junior Access for Dogs/Gastropexy + Anesth Spay (Elective) ADD K9",
          "Adult Access for Dogs/Heartworm K9",
          "Junior Access for Dogs/Heartworm K9",
          "Senior Access for Dogs/Heartworm K9",
          "Adult Paws Plus Dog Canada/Heartworm/Tick Disease Test",
          "Adult Paws Plus for Dogs/Heartworm/Tick Disease Test",
          "Adult Paws for Dog Canada/Heartworm/Tick Disease Test",
          "Adult Paws for Dogs/Heartworm/Tick Disease Test",
          "Junior Dog Plus Neuter Canada/Heartworm/Tick Disease Test",
          "Junior Dogs Plus Spay Canada/Heartworm/Tick Disease Test",
          "Junior Paws Plus Puppy Neuter/Heartworm/Tick Disease Test",
          "Junior Paws Plus Puppy Spay/Heartworm/Tick Disease Test",
          "Junior Paws for Dogs/Heartworm/Tick Disease Test",
          "Junior Paws for Dogs Canada/Heartworm/Tick Disease Test",
          "Senior Dog Plus for Canada/Heartworm/Tick Disease Test",
          "Senior Paws Dog for Canada/Heartworm/Tick Disease Test",
          "Senior Paws Plus for Dogs/Heartworm/Tick Disease Test",
          "Senior Paws for Dogs/Heartworm/Tick Disease Test",
          "Adult Access for Cats/HomeAgain Service",
          "Adult Access for Dogs/HomeAgain Service",
          "Adult Essentials for Cats/HomeAgain Service",
          "Adult Paws Plus for Cats/HomeAgain Service",
          "Adult Paws Plus for Dogs/HomeAgain Service",
          "Adult Paws for Cats/HomeAgain Service",
          "Adult Paws for Dogs/HomeAgain Service",
          "Adult Premier for Cats/HomeAgain Service",
          "Junior Access for Cats/HomeAgain Service",
          "Junior Access for Dogs/HomeAgain Service",
          "Junior Paws Plus Kitten Neuter/HomeAgain Service",
          "Junior Paws Plus Kitten Spay/HomeAgain Service",
          "Junior Paws Plus Puppy Neuter/HomeAgain Service",
          "Junior Paws Plus Puppy Spay/HomeAgain Service",
          "Junior Paws for Cats/HomeAgain Service",
          "Junior Paws for Dogs/HomeAgain Service",
          "Senior Access for Cats/HomeAgain Service",
          "Senior Access for Dogs/HomeAgain Service",
          "Senior Paws Plus for Cats/HomeAgain Service",
          "Senior Paws Plus for Dogs/HomeAgain Service",
          "Senior Paws for Cats/HomeAgain Service",
          "Senior Paws for Dogs/HomeAgain Service",
          "Adult Access for Dogs/IV Catheter Sedation",
          "Senior Access for Dogs/IV Catheter Sedation",
          "Adult Access for Cats/IV Catheter Sedation Fel",
          "Senior Access for Cats/IV Catheter Sedation Fel",
          "Adult Access for Cats/IV Catheter Sedation Fel.",
          "Senior Access for Cats/IV Catheter Sedation Fel.",
          "Adult Access for Dogs/IV Catheter Sedation,",
          "Senior Access for Dogs/IV Catheter Sedation,",
          "Adult Access for Dogs/IV Catheter Sedation.",
          "Senior Access for Dogs/IV Catheter Sedation.",
          "Adult Access for Dogs/Influenza",
          "Junior Access for Dogs/Influenza",
          "Senior Access for Dogs/Influenza",
          "Adult Access Canine Canada/K9 Neuter",
          "Adult Access for Dogs/K9 Neuter",
          "Adult Paws for Dogs/K9 Neuter",
          "Junior Access Canine Canada/K9 Neuter",
          "Junior Access for Dogs/K9 Neuter",
          "Junior Paws for Dogs/K9 Neuter",
          "Adult Access Canine Canada/K9 Spay",
          "Adult Access for Dogs/K9 Spay",
          "Adult Paws for Dogs/K9 Spay",
          "Junior Access Canine Canada/K9 Spay",
          "Junior Access for Dogs/K9 Spay",
          "Junior Paws for Dogs/K9 Spay",
          "Adult Access Canine Canada/K9 Spay.",
          "Adult Access for Dogs/K9 Spay.",
          "Adult Paws for Dogs/K9 Spay.",
          "Junior Access Canine Canada/K9 Spay.",
          "Junior Access for Dogs/K9 Spay.",
          "Junior Paws for Dogs/K9 Spay.",
          "Adult Access for Dogs/Lepto (Adult/Senior)",
          "Senior Access for Dogs/Lepto (Adult/Senior)",
          "Junior Access for Dogs/Lepto (Puppy)",
          "Adult Access for Dogs/Lyme",
          "Senior Access for Dogs/Lyme",
          "Junior Access Canine Canada/Lyme (Puppy)",
          "Junior Access for Dogs/Lyme (Puppy)",
          "Junior Access Feline Canada/Male Neuter Complexity Fel Canada",
          "Junior Access Canine Canada/Male Neuter Complexity K9 Canada",
          "Junior Cat Plus Spay Canada/Microchip Service",
          "Junior Cats Plus Neuter Canada/Microchip Service",
          "Junior Dog Plus Neuter Canada/Microchip Service",
          "Junior Dogs Plus Spay Canada/Microchip Service",
          "Junior Paws Plus Kitten Neuter/Microchip Service",
          "Junior Paws Plus Kitten Spay/Microchip Service",
          "Junior Paws Plus Puppy Neuter/Microchip Service",
          "Junior Paws Plus Puppy Spay/Microchip Service",
          "Junior Paws for Cats/Microchip Service",
          "Junior Paws for Cats Canada/Microchip Service",
          "Junior Paws for Dogs/Microchip Service",
          "Junior Paws for Dogs Canada/Microchip Service",
          "Adult Access Canine Canada/Microchip Service Canada",
          "Junior Access Canine Canada/Microchip Service Canada",
          "Junior Access Feline Canada/Microchip Service Canada",
          "Adult Access for Dogs/NSAIDS dispensing code K9 Neuter",
          "Adult Paws for Dogs/NSAIDS dispensing code K9 Neuter",
          "Junior Access for Dogs/NSAIDS dispensing code K9 Neuter",
          "Junior Paws for Dogs/NSAIDS dispensing code K9 Neuter",
          "Adult Access for Dogs/NSAIDS dispensing code K9 Spay",
          "Adult Paws for Dogs/NSAIDS dispensing code K9 Spay",
          "Junior Access for Dogs/NSAIDS dispensing code K9 Spay",
          "Junior Paws for Dogs/NSAIDS dispensing code K9 Spay",
          "Adult Access for Dogs/NSAIDS dispensing code K9 Spay.",
          "Adult Paws for Dogs/NSAIDS dispensing code K9 Spay.",
          "Junior Access for Dogs/NSAIDS dispensing code K9 Spay.",
          "Junior Paws for Dogs/NSAIDS dispensing code K9 Spay.",
          "Adult Access Canine Canada/Nail Trim",
          "Adult Access Feline Canada/Nail Trim",
          "Adult Paws Plus Cat Canada/Nail Trim",
          "Adult Paws Plus Dog Canada/Nail Trim",
          "Adult Paws Plus for Cats/Nail Trim",
          "Adult Paws Plus for Dogs/Nail Trim",
          "Adult Paws for Cat Canada/Nail Trim",
          "Adult Paws for Cats/Nail Trim",
          "Adult Paws for Dog Canada/Nail Trim",
          "Adult Paws for Dogs/Nail Trim",
          "Junior Access Canine Canada/Nail Trim",
          "Junior Access Feline Canada/Nail Trim",
          "Junior Cat Plus Spay Canada/Nail Trim",
          "Junior Cats Plus Neuter Canada/Nail Trim",
          "Junior Dog Plus Neuter Canada/Nail Trim",
          "Junior Dogs Plus Spay Canada/Nail Trim",
          "Junior Paws Plus Kitten Neuter/Nail Trim",
          "Junior Paws Plus Kitten Spay/Nail Trim",
          "Junior Paws Plus Puppy Neuter/Nail Trim",
          "Junior Paws Plus Puppy Spay/Nail Trim",
          "Junior Paws for Cats/Nail Trim",
          "Junior Paws for Cats Canada/Nail Trim",
          "Junior Paws for Dogs/Nail Trim",
          "Junior Paws for Dogs Canada/Nail Trim",
          "Senior Access Canine Canada/Nail Trim",
          "Senior Access Feline Canada/Nail Trim",
          "Senior Cat Plus for Canada/Nail Trim",
          "Senior Dog Plus for Canada/Nail Trim",
          "Senior Paws Dog for Canada/Nail Trim",
          "Senior Paws Plus for Cats/Nail Trim",
          "Senior Paws Plus for Dogs/Nail Trim",
          "Senior Paws for Cats/Nail Trim",
          "Senior Paws for Cats Canada/Nail Trim",
          "Senior Paws for Dogs/Nail Trim",
          "Adult Access for Cats/Nail trim Fel",
          "Junior Access for Cats/Nail trim Fel",
          "Adult Access for Dogs/Nail trim K9",
          "Junior Access for Dogs/Nail trim K9",
          "Senior Access for Dogs/Nail trim K9",
          "Adult Access for Cats/Pain Management Disp Fel Neuter",
          "Adult Paws for Cats/Pain Management Disp Fel Neuter",
          "Junior Access for Cats/Pain Management Disp Fel Neuter",
          "Junior Paws for Cats/Pain Management Disp Fel Neuter",
          "Adult Access for Cats/Pain Management Disp Fel Spay",
          "Adult Paws for Cats/Pain Management Disp Fel Spay",
          "Junior Access for Cats/Pain Management Disp Fel Spay",
          "Junior Paws for Cats/Pain Management Disp Fel Spay",
          "Adult Access Canine Canada/Pain Managment K9 Dental",
          "Senior Access Canine Canada/Pain Managment K9 Dental",
          "Adult Access for Cats/Pre-Operative Panels Fel Neuter",
          "Adult Paws for Cats/Pre-Operative Panels Fel Neuter",
          "Junior Access for Cats/Pre-Operative Panels Fel Neuter",
          "Junior Paws for Cats/Pre-Operative Panels Fel Neuter",
          "Adult Access for Cats/Pre-Operative Panels Fel Spay",
          "Adult Paws for Cats/Pre-Operative Panels Fel Spay",
          "Junior Access for Cats/Pre-Operative Panels Fel Spay",
          "Junior Paws for Cats/Pre-Operative Panels Fel Spay",
          "Adult Access for Dogs/Pre-Operative Panels K9 Neuter",
          "Adult Paws for Dogs/Pre-Operative Panels K9 Neuter",
          "Junior Access for Dogs/Pre-Operative Panels K9 Neuter",
          "Junior Paws for Dogs/Pre-Operative Panels K9 Neuter",
          "Adult Access for Dogs/Pre-Operative Panels K9 Spay",
          "Adult Paws for Dogs/Pre-Operative Panels K9 Spay",
          "Junior Access for Dogs/Pre-Operative Panels K9 Spay",
          "Junior Paws for Dogs/Pre-Operative Panels K9 Spay",
          "Adult Access for Dogs/Pre-Operative Panels K9 Spay.",
          "Adult Paws for Dogs/Pre-Operative Panels K9 Spay.",
          "Junior Access for Dogs/Pre-Operative Panels K9 Spay.",
          "Junior Paws for Dogs/Pre-Operative Panels K9 Spay.",
          "Junior Paws Plus Kitten Neuter/PreOp Bloodwork (Spay/Neuter)",
          "Junior Paws Plus Kitten Spay/PreOp Bloodwork (Spay/Neuter)",
          "Junior Paws Plus Puppy Neuter/PreOp Bloodwork (Spay/Neuter)",
          "Junior Paws Plus Puppy Spay/PreOp Bloodwork (Spay/Neuter)",
          "Junior Cat Plus Spay Canada/PreOp Labwork (Spay/Neuter)",
          "Junior Cats Plus Neuter Canada/PreOp Labwork (Spay/Neuter)",
          "Junior Dog Plus Neuter Canada/PreOp Labwork (Spay/Neuter)",
          "Junior Dogs Plus Spay Canada/PreOp Labwork (Spay/Neuter)",
          "Junior Paws Plus Kitten Neuter/PreOp Labwork (Spay/Neuter)",
          "Junior Paws Plus Kitten Spay/PreOp Labwork (Spay/Neuter)",
          "Junior Paws Plus Puppy Neuter/PreOp Labwork (Spay/Neuter)",
          "Junior Paws Plus Puppy Spay/PreOp Labwork (Spay/Neuter)",
          "Adult Access Canine Canada/PreOp Labwork Canada",
          "Adult Access Feline Canada/PreOp Labwork Canada",
          "Junior Access Canine Canada/PreOp Labwork Canada",
          "Junior Access Feline Canada/PreOp Labwork Canada",
          "Senior Access Canine Canada/PreOp Labwork Canada",
          "Junior Paws Plus Kitten Neuter/Protective Collar",
          "Junior Paws Plus Kitten Spay/Protective Collar",
          "Junior Paws Plus Puppy Neuter/Protective Collar",
          "Junior Paws Plus Puppy Spay/Protective Collar",
          "Adult Access for Cats/Protective Collars Fel Neuter",
          "Adult Paws for Cats/Protective Collars Fel Neuter",
          "Junior Access for Cats/Protective Collars Fel Neuter",
          "Junior Paws for Cats/Protective Collars Fel Neuter",
          "Adult Access for Cats/Protective Collars Fel Spay",
          "Adult Paws for Cats/Protective Collars Fel Spay",
          "Junior Access for Cats/Protective Collars Fel Spay",
          "Junior Paws for Cats/Protective Collars Fel Spay",
          "Adult Access for Dogs/Protective Collars K9 Neuter",
          "Adult Paws for Dogs/Protective Collars K9 Neuter",
          "Junior Access for Dogs/Protective Collars K9 Neuter",
          "Junior Paws for Dogs/Protective Collars K9 Neuter",
          "Adult Access for Dogs/Protective Collars K9 Spay",
          "Adult Paws for Dogs/Protective Collars K9 Spay",
          "Junior Access for Dogs/Protective Collars K9 Spay",
          "Junior Paws for Dogs/Protective Collars K9 Spay",
          "Adult Access for Dogs/Protective Collars list K9 Spay.",
          "Adult Paws for Dogs/Protective Collars list K9 Spay.",
          "Junior Access for Dogs/Protective Collars list K9 Spay.",
          "Junior Paws for Dogs/Protective Collars list K9 Spay.",
          "Junior Access Canine Canada/Puppy/Kitten 1st Exam",
          "Junior Access Feline Canada/Puppy/Kitten 1st Exam",
          "Junior Access for Cats/Puppy/Kitten 1st Exam",
          "Junior Access for Dogs/Puppy/Kitten 1st Exam",
          "Junior Cat Plus Spay Canada/Puppy/Kitten 1st Exam",
          "Junior Cats Plus Neuter Canada/Puppy/Kitten 1st Exam",
          "Junior Dog Plus Neuter Canada/Puppy/Kitten 1st Exam",
          "Junior Dogs Plus Spay Canada/Puppy/Kitten 1st Exam",
          "Junior Paws Plus Kitten Neuter/Puppy/Kitten 1st Exam",
          "Junior Paws Plus Kitten Spay/Puppy/Kitten 1st Exam",
          "Junior Paws Plus Puppy Neuter/Puppy/Kitten 1st Exam",
          "Junior Paws Plus Puppy Spay/Puppy/Kitten 1st Exam",
          "Junior Paws for Cats/Puppy/Kitten 1st Exam",
          "Junior Paws for Cats Canada/Puppy/Kitten 1st Exam",
          "Junior Paws for Dogs/Puppy/Kitten 1st Exam",
          "Junior Paws for Dogs Canada/Puppy/Kitten 1st Exam",
          "Junior Access Canine Canada/Puppy/Kitten Recheck Exam",
          "Junior Access Feline Canada/Puppy/Kitten Recheck Exam",
          "Junior Access for Cats/Puppy/Kitten Recheck Exam",
          "Junior Access for Dogs/Puppy/Kitten Recheck Exam",
          "Junior Cat Plus Spay Canada/Puppy/Kitten Recheck Exam",
          "Junior Cats Plus Neuter Canada/Puppy/Kitten Recheck Exam",
          "Junior Dog Plus Neuter Canada/Puppy/Kitten Recheck Exam",
          "Junior Dogs Plus Spay Canada/Puppy/Kitten Recheck Exam",
          "Junior Paws Plus Kitten Neuter/Puppy/Kitten Recheck Exam",
          "Junior Paws Plus Kitten Spay/Puppy/Kitten Recheck Exam",
          "Junior Paws Plus Puppy Neuter/Puppy/Kitten Recheck Exam",
          "Junior Paws Plus Puppy Spay/Puppy/Kitten Recheck Exam",
          "Junior Paws for Cats/Puppy/Kitten Recheck Exam",
          "Junior Paws for Cats Canada/Puppy/Kitten Recheck Exam",
          "Junior Paws for Dogs/Puppy/Kitten Recheck Exam",
          "Junior Paws for Dogs Canada/Puppy/Kitten Recheck Exam",
          "Adult Access for Dogs/RAD CareClub Abdomen/Thorax Study",
          "Senior Access for Dogs/RAD CareClub Abdomen/Thorax Study",
          "Adult Access for Cats/RAD CareClub Abdomen/Thorax Study Fel",
          "Senior Access for Cats/RAD CareClub Abdomen/Thorax Study Fel",
          "Adult Access for Dogs/RAD CareClub Abdomen/Thorax Study,",
          "Senior Access for Dogs/RAD CareClub Abdomen/Thorax Study,",
          "Adult Access Feline Canada/RAD Full Mouth Dental Xray Feline",
          "Adult Access for Cats/RAD Full Mouth Dental Xray Feline",
          "Adult Paws for Cats/RAD Full Mouth Dental Xray Feline",
          "Senior Access Feline Canada/RAD Full Mouth Dental Xray Feline",
          "Senior Access for Cats/RAD Full Mouth Dental Xray Feline",
          "Senior Paws for Cats/RAD Full Mouth Dental Xray Feline",
          "Adult Access Canine Canada/RAD Full Mouth Dental Xray K9.",
          "Adult Access for Dogs/RAD Full Mouth Dental Xray K9.",
          "Adult Paws for Dogs/RAD Full Mouth Dental Xray K9.",
          "Senior Access Canine Canada/RAD Full Mouth Dental Xray K9.",
          "Senior Access for Dogs/RAD Full Mouth Dental Xray K9.",
          "Senior Paws for Dogs/RAD Full Mouth Dental Xray K9.",
          "Adult Access for Cats/Rabies (1 year)",
          "Junior Access for Cats/Rabies (1 year)",
          "Senior Access for Cats/Rabies (1 year)",
          "Adult Access for Cats/Rabies (3 year)",
          "Senior Access for Cats/Rabies (3 year)",
          "Adult Access for Dogs/Rabies (Adult/Senior)",
          "Senior Access for Dogs/Rabies (Adult/Senior)",
          "Junior Access for Dogs/Rabies (Puppy)",
          "Adult Access for Dogs/Rattlesnake booster",
          "Junior Access for Dogs/Rattlesnake booster",
          "Adult Access for Dogs/Rattlesnake starter",
          "Junior Access for Dogs/Rattlesnake starter",
          "Adult Access for Dogs/Sedation Radiology",
          "Senior Access for Dogs/Sedation Radiology",
          "Adult Access for Cats/Sedation Radiology Fel",
          "Senior Access for Cats/Sedation Radiology Fel",
          "Adult Access for Cats/Sedation Radiology Fel.",
          "Senior Access for Cats/Sedation Radiology Fel.",
          "Adult Access for Dogs/Sedation Radiology,",
          "Senior Access for Dogs/Sedation Radiology,",
          "Adult Access for Dogs/Sedation Radiology.",
          "Senior Access for Dogs/Sedation Radiology.",
          "Senior Access for Cats/Senior Lab Panel Fel",
          "Senior Access for Dogs/Senior Lab Panel K9",
          "Adult Access Canine Canada/Service Rounding Adjustment",
          "Adult Access Feline Canada/Service Rounding Adjustment",
          "Adult Access for Cats/Service Rounding Adjustment",
          "Adult Access for Dogs/Service Rounding Adjustment",
          "Adult Essentials for Cats/Service Rounding Adjustment",
          "Adult Paws Plus Cat Canada/Service Rounding Adjustment",
          "Adult Paws Plus Dog Canada/Service Rounding Adjustment",
          "Adult Paws Plus for Cats/Service Rounding Adjustment",
          "Adult Paws Plus for Dogs/Service Rounding Adjustment",
          "Adult Paws for Cat Canada/Service Rounding Adjustment",
          "Adult Paws for Cats/Service Rounding Adjustment",
          "Adult Paws for Dog Canada/Service Rounding Adjustment",
          "Adult Paws for Dogs/Service Rounding Adjustment",
          "Adult Premier for Cats/Service Rounding Adjustment",
          "Junior Access Canine Canada/Service Rounding Adjustment",
          "Junior Access Feline Canada/Service Rounding Adjustment",
          "Junior Access for Cats/Service Rounding Adjustment",
          "Junior Access for Dogs/Service Rounding Adjustment",
          "Junior Cat Plus Spay Canada/Service Rounding Adjustment",
          "Junior Cats Plus Neuter Canada/Service Rounding Adjustment",
          "Junior Dog Plus Neuter Canada/Service Rounding Adjustment",
          "Junior Dogs Plus Spay Canada/Service Rounding Adjustment",
          "Junior Paws Plus Kitten Neuter/Service Rounding Adjustment",
          "Junior Paws Plus Kitten Spay/Service Rounding Adjustment",
          "Junior Paws Plus Puppy Neuter/Service Rounding Adjustment",
          "Junior Paws Plus Puppy Spay/Service Rounding Adjustment",
          "Junior Paws for Cats/Service Rounding Adjustment",
          "Junior Paws for Cats Canada/Service Rounding Adjustment",
          "Junior Paws for Dogs/Service Rounding Adjustment",
          "Junior Paws for Dogs Canada/Service Rounding Adjustment",
          "Senior Access Canine Canada/Service Rounding Adjustment",
          "Senior Access Feline Canada/Service Rounding Adjustment",
          "Senior Access for Cats/Service Rounding Adjustment",
          "Senior Access for Dogs/Service Rounding Adjustment",
          "Senior Cat Plus for Canada/Service Rounding Adjustment",
          "Senior Dog Plus for Canada/Service Rounding Adjustment",
          "Senior Paws Dog for Canada/Service Rounding Adjustment",
          "Senior Paws Plus for Cats/Service Rounding Adjustment",
          "Senior Paws Plus for Dogs/Service Rounding Adjustment",
          "Senior Paws for Cats/Service Rounding Adjustment",
          "Senior Paws for Cats Canada/Service Rounding Adjustment",
          "Senior Paws for Dogs/Service Rounding Adjustment",
          "Adult Access for Cats/Single region Studies Fel.",
          "Senior Access for Cats/Single region Studies Fel.",
          "Adult Access for Dogs/Single region Studies.",
          "Senior Access for Dogs/Single region Studies.",
          "Adult Paws Plus Cat Canada/Surgical Pain Management",
          "Adult Paws Plus Dog Canada/Surgical Pain Management",
          "Adult Paws Plus for Cats/Surgical Pain Management",
          "Adult Paws Plus for Dogs/Surgical Pain Management",
          "Senior Cat Plus for Canada/Surgical Pain Management",
          "Senior Dog Plus for Canada/Surgical Pain Management",
          "Senior Paws Plus for Cats/Surgical Pain Management",
          "Senior Paws Plus for Dogs/Surgical Pain Management",
          "Senior Access for Dogs/UPC K9",
          "Junior Access for Dogs/Umbilical hernia ADD add to spay",
          "Adult Access Canine Canada/Wellness Exam",
          "Adult Access Feline Canada/Wellness Exam",
          "Adult Access for Cats/Wellness Exam",
          "Adult Access for Dogs/Wellness Exam",
          "Adult Essentials for Cats/Wellness Exam",
          "Adult Paws Plus Cat Canada/Wellness Exam",
          "Adult Paws Plus Dog Canada/Wellness Exam",
          "Adult Paws Plus for Cats/Wellness Exam",
          "Adult Paws Plus for Dogs/Wellness Exam",
          "Adult Paws for Cat Canada/Wellness Exam",
          "Adult Paws for Cats/Wellness Exam",
          "Adult Paws for Dog Canada/Wellness Exam",
          "Adult Paws for Dogs/Wellness Exam",
          "Adult Premier for Cats/Wellness Exam",
          "Senior Access Canine Canada/Wellness Exam",
          "Senior Access Feline Canada/Wellness Exam",
          "Senior Access for Cats/Wellness Exam",
          "Senior Access for Dogs/Wellness Exam",
          "Senior Cat Plus for Canada/Wellness Exam",
          "Senior Dog Plus for Canada/Wellness Exam",
          "Senior Paws Dog for Canada/Wellness Exam",
          "Senior Paws Plus for Cats/Wellness Exam",
          "Senior Paws Plus for Dogs/Wellness Exam",
          "Senior Paws for Cats/Wellness Exam",
          "Senior Paws for Cats Canada/Wellness Exam",
          "Senior Paws for Dogs/Wellness Exam",
          "Adult Access Canine Canada",
          "Adult Access Feline Canada",
          "Adult Access for Cats",
          "Adult Access for Dogs",
          "Adult Essentials for Cats",
          "Adult Paws Plus Cat Canada",
          "Adult Paws Plus Dog Canada",
          "Adult Paws Plus for Cats",
          "Adult Paws Plus for Dogs",
          "Adult Paws for Cat Canada",
          "Adult Paws for Cats",
          "Adult Paws for Dog Canada",
          "Adult Paws for Dogs",
          "Adult Premier for Cats",
          "Junior Access Canine Canada",
          "Junior Access Feline Canada",
          "Junior Access for Cats",
          "Junior Access for Dogs",
          "Junior Cat Plus Spay Canada",
          "Junior Cats Plus Neuter Canada",
          "Junior Dog Plus Neuter Canada",
          "Junior Dogs Plus Spay Canada",
          "Junior Paws Plus Kitten Neuter",
          "Junior Paws Plus Kitten Spay",
          "Junior Paws Plus Puppy Neuter",
          "Junior Paws Plus Puppy Spay",
          "Junior Paws for Cats",
          "Junior Paws for Cats Canada",
          "Junior Paws for Dogs",
          "Junior Paws for Dogs Canada",
          "Senior Access Canine Canada",
          "Senior Access Feline Canada",
          "Senior Access for Cats",
          "Senior Access for Dogs",
          "Senior Cat Plus for Canada",
          "Senior Dog Plus for Canada",
          "Senior Paws Dog for Canada",
          "Senior Paws Plus for Cats",
          "Senior Paws Plus for Dogs",
          "Senior Paws for Cats",
          "Senior Paws for Cats Canada",
          "Senior Paws for Dogs"
         ],
         "labels": [
          "Abdominal Cryptorchid add to neuter K9",
          "Abdominal Cryptorchid add to neuter K9",
          "Accuplex K9",
          "Accuplex K9",
          "Accuplex K9",
          "Additonal Fecal exam",
          "Additonal Fecal exam",
          "Additonal Fecal exam",
          "Adult Wellness Fel",
          "Adult Wellness K9",
          "Advanced Labwork Canada",
          "Advanced Labwork Canada",
          "Advanced Labwork Canada",
          "Anal Sac Expression Canada",
          "Anal Sac Expression Canada",
          "Basic Labwork Canada",
          "Basic Labwork Canada",
          "Basic Labwork Canada",
          "Basic Labwork Canada",
          "Basic Labwork Canada",
          "Blood Pressure Fel",
          "Blood Pressure Fel",
          "Blood Pressure Fel.",
          "Blood Pressure K9",
          "Blood Pressure K9.",
          "Blood Pressure K9.",
          "Bordetella (Adult/Senior)",
          "Bordetella (Adult/Senior)",
          "Bordetella (puppy)",
          "Canine Adult Bordetella Vaccine",
          "Canine Adult Bordetella Vaccine",
          "Canine Adult Bordetella Vaccine",
          "Canine Adult Bordetella Vaccine",
          "Canine Adult Bordetella Vaccine",
          "Canine Adult Bordetella Vaccine",
          "Canine Adult Bordetella Vaccine",
          "Canine Adult Bordetella Vaccine",
          "Canine Adult Bordetella Vaccine",
          "Canine Adult Bordetella Vaccine",
          "Canine Adult Combo Vaccine",
          "Canine Adult Combo Vaccine",
          "Canine Adult Combo Vaccine",
          "Canine Adult Combo Vaccine",
          "Canine Adult Distemper/Parvo Combo Vaccine",
          "Canine Adult Distemper/Parvo Combo Vaccine",
          "Canine Adult Distemper/Parvo Combo Vaccine",
          "Canine Adult Distemper/Parvo Combo Vaccine",
          "Canine Adult Distemper/Parvo Combo Vaccine",
          "Canine Adult Distemper/Parvo Combo Vaccine",
          "Canine Adult Distemper/Parvo Combo Vaccine",
          "Canine Adult Distemper/Parvo Combo Vaccine",
          "Canine Adult Distemper/Parvo Combo Vaccine",
          "Canine Adult Distemper/Parvo Combo Vaccine",
          "Canine Adult Rabies Vaccine",
          "Canine Adult Rabies Vaccine",
          "Canine Adult Rabies Vaccine",
          "Canine Adult Rabies Vaccine",
          "Canine Adult Rabies Vaccine",
          "Canine Adult Rabies Vaccine",
          "Canine Adult Rabies Vaccine",
          "Canine Adult Rabies Vaccine",
          "Canine Adult Rabies Vaccine",
          "Canine Adult Rabies Vaccine",
          "Canine Adult Wellness Labwork",
          "Canine Adult Wellness Labwork",
          "Canine Adult/Senior Wellness Labwork",
          "Canine Adult/Senior Wellness Labwork",
          "Canine Adult/Senior Wellness Labwork",
          "Canine Adult/Senior Wellness Labwork",
          "Canine Adult/Senior Wellness Labwork",
          "Canine Adult/Senior Wellness Labwork",
          "Canine Adult/Senior Wellness Labwork",
          "Canine Adult/Senior Wellness Labwork",
          "Canine Complexity",
          "Canine Complexity",
          "Canine Complexity",
          "Canine Complexity",
          "Canine Dental",
          "Canine Dental",
          "Canine Dental",
          "Canine Dental",
          "Canine Dental Xray",
          "Canine Dental Xray",
          "Canine Dental Xray",
          "Canine Dental Xray",
          "Canine Influenza Vaccine",
          "Canine Influenza Vaccine",
          "Canine Influenza Vaccine",
          "Canine Influenza Vaccine",
          "Canine Influenza Vaccine",
          "Canine Influenza Vaccine",
          "Canine Influenza Vaccine",
          "Canine Influenza or Lyme Vaccine",
          "Canine Influenza or Lyme Vaccine",
          "Canine Influenza or Lyme Vaccine",
          "Canine Influenza or Lyme Vaccine",
          "Canine Influenza or Lyme Vaccine",
          "Canine Influenza or Lyme Vaccine",
          "Canine Influenza or Lyme Vaccine",
          "Canine Lepto Vaccine",
          "Canine Lepto Vaccine",
          "Canine Lepto Vaccine",
          "Canine Lepto Vaccine",
          "Canine Lepto Vaccine",
          "Canine Lepto Vaccine",
          "Canine Lepto Vaccine",
          "Canine Lepto Vaccine",
          "Canine Lepto Vaccine",
          "Canine Lepto Vaccine",
          "Canine Lepto Vaccine",
          "Canine Lepto Vaccine",
          "Canine Lepto Vaccine",
          "Canine Lepto Vaccine",
          "Canine Leptospirosis Vaccine",
          "Canine Leptospirosis Vaccine",
          "Canine Leptospirosis Vaccine",
          "Canine Leptospirosis Vaccine",
          "Canine Leptospirosis Vaccine",
          "Canine Leptospirosis Vaccine",
          "Canine Leptospirosis Vaccine",
          "Canine Neuter",
          "Canine Neuter",
          "Canine Pain Medication Dispensed",
          "Canine Pain Medication Dispensed",
          "Canine Puppy Bordetella Vaccine",
          "Canine Puppy Bordetella Vaccine",
          "Canine Puppy Bordetella Vaccine",
          "Canine Puppy Bordetella Vaccine",
          "Canine Puppy Bordetella Vaccine",
          "Canine Puppy Bordetella Vaccine",
          "Canine Puppy Bordetella Vaccine",
          "Canine Puppy Bordetella Vaccine",
          "Canine Puppy Combo Vaccine",
          "Canine Puppy Combo Vaccine",
          "Canine Puppy Combo Vaccine",
          "Canine Puppy Distemper/Parvo Combo Vaccine",
          "Canine Puppy Distemper/Parvo Combo Vaccine",
          "Canine Puppy Distemper/Parvo Combo Vaccine",
          "Canine Puppy Distemper/Parvo Combo Vaccine",
          "Canine Puppy Distemper/Parvo Combo Vaccine",
          "Canine Puppy Distemper/Parvo Combo Vaccine",
          "Canine Puppy Distemper/Parvo Combo Vaccine",
          "Canine Puppy Rabies Vaccine",
          "Canine Puppy Rabies Vaccine",
          "Canine Puppy Rabies Vaccine",
          "Canine Puppy Rabies Vaccine",
          "Canine Puppy Rabies Vaccine",
          "Canine Puppy Rabies Vaccine",
          "Canine Puppy Rabies Vaccine",
          "Canine Senior Wellness Labwork",
          "Canine Senior Wellness Labwork",
          "Canine Spay",
          "Canine Spay",
          "Canine/Feline Senior Blood Pressure",
          "Canine/Feline Senior Blood Pressure",
          "Canine/Feline Senior Blood Pressure",
          "Canine/Feline Senior Blood Pressure",
          "Canine/Feline Senior Blood Pressure",
          "Canine/Feline Senior Blood Pressure",
          "Canine/Feline Senior Blood Pressure",
          "Canine/Feline Senior Blood Pressure",
          "Canine/Feline Senior Radiographs",
          "Canine/Feline Senior Radiographs",
          "Canine/Feline Senior Radiographs",
          "Canine/Feline Senior Radiographs",
          "Canine/Feline Senior Radiographs",
          "Canine/Feline Senior Radiographs",
          "Canine/Feline Senior Radiographs",
          "Canine/Feline Senior Radiographs",
          "CareClub Checkup Exam",
          "CareClub Checkup Exam",
          "CareClub Checkup Exam",
          "CareClub Checkup Exam",
          "CareClub Checkup Exam",
          "CareClub Checkup Exam",
          "CareClub Checkup Exam",
          "CareClub Checkup Exam",
          "CareClub Checkup Exam",
          "CareClub Checkup Exam",
          "CareClub Checkup Exam",
          "CareClub Checkup Exam",
          "CareClub Checkup Exam",
          "CareClub Checkup Exam",
          "CareClub Checkup Exam",
          "CareClub Checkup Exam",
          "CareClub Checkup Exam",
          "CareClub Checkup Exam",
          "CareClub Checkup Exam",
          "CareClub Checkup Exam",
          "CareClub Checkup Exam",
          "CareClub Checkup Exam",
          "CareClub Checkup Exam",
          "CareClub Checkup Exam",
          "CareClub Checkup Exam",
          "CareClub Checkup Exam",
          "CareClub Checkup Exam",
          "CareClub Checkup Exam",
          "CareClub Checkup Exam",
          "CareClub Checkup Exam",
          "CareClub Checkup Exam",
          "CareClub Checkup Exam",
          "CareClub Checkup Exam",
          "CareClub Checkup Exam",
          "CareClub Checkup Exam",
          "CareClub Checkup Exam",
          "CareClub Checkup Exam",
          "CareClub Checkup Exam",
          "CareClub Checkup Exam",
          "CareClub Checkup Exam",
          "CareClub Checkup Exam",
          "CareClub Checkup Exam",
          "Comprehensive Labwork Fel",
          "Comprehensive Labwork Fel",
          "Comprehensive Labwork K9",
          "Comprehensive Labwork K9",
          "DHPP (DHLPP) (Adult/Senior)",
          "DHPP (DHLPP) (Adult/Senior)",
          "DHPP (DHLPP) Puppy",
          "Deciduous teeth ADD add to neuter K9",
          "Deciduous teeth ADD add to spay K9",
          "Dental Package Fe G",
          "Dental Package Fe G",
          "Dental Package Fe G",
          "Dental Package Fe G",
          "Dental Package Fe G",
          "Dental Package Fe G",
          "Dental Package K9 G",
          "Dental Package K9 G",
          "Dental Package K9 G",
          "Dental Package K9 G",
          "Dental Package K9 G",
          "Dental Package K9 G",
          "Dental Pain Management Fel",
          "Dental Pain Management Fel",
          "Deworm Fel",
          "Deworm K9",
          "Deworming",
          "Deworming",
          "Deworming",
          "Deworming",
          "Deworming",
          "Deworming",
          "Deworming",
          "Deworming",
          "Deworming",
          "Deworming",
          "Deworming",
          "Deworming",
          "Deworming",
          "Deworming",
          "Elective Block",
          "Elective Block",
          "Elective Block",
          "Elective Block",
          "Elective Block",
          "Elective Block",
          "Elective Block",
          "Elective Block",
          "Elective Block Fel Neuter",
          "Elective Block Fel Spay",
          "Elective Block Fel Spay",
          "Elective Block K9 Neuter",
          "Elective Block K9 Neuter",
          "Elective Block'",
          "Elective Block'",
          "Elective Block.",
          "Elective Block.",
          "FVRCP (Adult/Senior)",
          "FVRCP (Adult/Senior)",
          "FVRCP (Kitten)",
          "FeLV (Adult/Senior)",
          "FeLV (Adult/Senior)",
          "FeLV (Adult/Senior)",
          "FeLV (Adult/Senior)",
          "FeLV (Kitten)",
          "FeLV / FIV test Fel",
          "FeLV / FIV test Fel",
          "FeLV / FIV test Fel",
          "FeLV/FIV Test",
          "FeLV/FIV Test",
          "FeLV/FIV Test",
          "FeLV/FIV Test Fel",
          "FeLV/FIV/Hwab",
          "FeLV/FIV/Hwab",
          "Fear Free codes,",
          "Fear Free codes,",
          "Fear free codes",
          "Fear free codes",
          "Fear free codes Fel",
          "Fear free codes Fel",
          "Fear free codes Fel.",
          "Fear free codes Fel.",
          "Fear free codes.",
          "Fear free codes.",
          "Fecal Fel",
          "Fecal Test",
          "Fecal Test",
          "Fecal Test",
          "Fecal Test",
          "Fecal Test",
          "Fecal Test",
          "Fecal Test",
          "Fecal Test",
          "Fecal Test",
          "Fecal Test",
          "Fecal Test",
          "Fecal Test",
          "Fecal Test",
          "Fecal Test",
          "Fecal Test",
          "Fecal Test",
          "Fecal exam (O&P Giardia) Fel",
          "Fecal exam (O&P Giardia) Fel",
          "Fecal exam (O&P Giardia) K9",
          "Fecal exam (O&P Giardia) K9",
          "Fecal k9",
          "Fecal/Parasite Test",
          "Fecal/Parasite Test",
          "Fecal/Parasite Test",
          "Fecal/Parasite Test",
          "Fecal/Parasite Test",
          "Fecal/Parasite Test",
          "Fecal/Parasite Test",
          "Fecal/Parasite Test",
          "Fecal/Parasite Test",
          "Fecal/Parasite Test",
          "Fecal/Parasite Test",
          "Fecal/Parasite Test",
          "Fecal/Parasite Test",
          "Fecal/Parasite Test",
          "Fecal/Parasite Test",
          "Fecal/Parasite Test",
          "Fecal/Parasite Test",
          "Fecal/Parasite Test",
          "Fecal/Parasite Test",
          "Fecal/Parasite Test",
          "Fecal/Parasite Test",
          "Fecal/Parasite Test",
          "Fecal/Parasite Test",
          "Fecal/Parasite Test",
          "Fecal/Parasite Test",
          "Fecal/Parasite Test",
          "Fecal/Parasite Test",
          "Fecal/Parasite Test",
          "Fecal/Parasite Test",
          "Fecal/Parasite Test",
          "Fecal/Parasite Test",
          "Fecal/Parasite Test",
          "Fecal/Parasite Test",
          "Fecal/Parasite Test",
          "Feline Adult FVRCP Vaccine",
          "Feline Adult FVRCP Vaccine",
          "Feline Adult FVRCP Vaccine",
          "Feline Adult FVRCP Vaccine",
          "Feline Adult FVRCP Vaccine",
          "Feline Adult FVRCP Vaccine",
          "Feline Adult FVRCP Vaccine",
          "Feline Adult FVRCP Vaccine",
          "Feline Adult FVRCP Vaccine",
          "Feline Adult FVRCP Vaccine",
          "Feline Adult FVRCP Vaccine",
          "Feline Adult FeLV Vaccine",
          "Feline Adult FeLV Vaccine",
          "Feline Adult FeLV Vaccine",
          "Feline Adult FeLV Vaccine",
          "Feline Adult FeLV Vaccine",
          "Feline Adult Rabies Vaccine",
          "Feline Adult Rabies Vaccine",
          "Feline Adult Rabies Vaccine",
          "Feline Adult Rabies Vaccine",
          "Feline Adult Rabies Vaccine",
          "Feline Adult Rabies Vaccine",
          "Feline Adult Rabies Vaccine",
          "Feline Adult Rabies Vaccine",
          "Feline Adult Rabies Vaccine",
          "Feline Adult Rabies Vaccine",
          "Feline Adult Rabies Vaccine",
          "Feline Adult Wellness Labwork",
          "Feline Adult Wellness Labwork",
          "Feline Adult Wellness Labwork",
          "Feline Adult Wellness Panel",
          "Feline Adult Wellness Panel",
          "Feline Adult/Senior Wellness Labwork",
          "Feline Adult/Senior Wellness Labwork",
          "Feline Adult/Senior Wellness Labwork",
          "Feline Adult/Senior Wellness Labwork",
          "Feline Adult/Senior Wellness Labwork",
          "Feline Adult/Senior Wellness Labwork",
          "Feline Adult/Senior Wellness Labwork",
          "Feline Adult/Senior Wellness Labwork",
          "Feline Complexity",
          "Feline Complexity",
          "Feline Complexity",
          "Feline Complexity",
          "Feline Dental",
          "Feline Dental",
          "Feline Dental",
          "Feline Dental",
          "Feline Dental Xray",
          "Feline Dental Xray",
          "Feline Dental Xray",
          "Feline Dental Xray",
          "Feline Kitten FVRCP Vaccine",
          "Feline Kitten FVRCP Vaccine",
          "Feline Kitten FVRCP Vaccine",
          "Feline Kitten FVRCP Vaccine",
          "Feline Kitten FVRCP Vaccine",
          "Feline Kitten FVRCP Vaccine",
          "Feline Kitten FVRCP Vaccine",
          "Feline Kitten FeLV Vaccine",
          "Feline Kitten FeLV Vaccine",
          "Feline Kitten FeLV Vaccine",
          "Feline Kitten FeLV Vaccine",
          "Feline Kitten FeLV Vaccine",
          "Feline Kitten FeLV Vaccine",
          "Feline Kitten FeLV Vaccine",
          "Feline Kitten Labwork",
          "Feline Kitten Labwork",
          "Feline Kitten Labwork",
          "Feline Kitten Labwork",
          "Feline Kitten Labwork",
          "Feline Kitten Labwork",
          "Feline Kitten Labwork",
          "Feline Kitten Rabies Vaccine",
          "Feline Kitten Rabies Vaccine",
          "Feline Kitten Rabies Vaccine",
          "Feline Kitten Rabies Vaccine",
          "Feline Kitten Rabies Vaccine",
          "Feline Kitten Rabies Vaccine",
          "Feline Kitten Rabies Vaccine",
          "Feline Neuter",
          "Feline Neuter",
          "Feline Neuter",
          "Feline Neuter",
          "Feline Neuter",
          "Feline Neuter",
          "Feline Neuter",
          "Feline Pain Medication Dispensed",
          "Feline Pain Medication Dispensed",
          "Feline Parasiticide",
          "Feline Senior Wellness Labwork",
          "Feline Senior Wellness Labwork",
          "Feline Spay",
          "Feline Spay",
          "Feline Spay.",
          "Feline Spay.",
          "Feline Spay.",
          "Feline Spay.",
          "Feline Spay.",
          "Feline Spay.",
          "Female Spay Complexity K9 Canada",
          "Gastropexy + Anesth Neuter (Elective) ADD K9",
          "Gastropexy + Anesth Spay (Elective) ADD K9",
          "Gastropexy + Anesth Spay (Elective) ADD K9",
          "Heartworm K9",
          "Heartworm K9",
          "Heartworm K9",
          "Heartworm/Tick Disease Test",
          "Heartworm/Tick Disease Test",
          "Heartworm/Tick Disease Test",
          "Heartworm/Tick Disease Test",
          "Heartworm/Tick Disease Test",
          "Heartworm/Tick Disease Test",
          "Heartworm/Tick Disease Test",
          "Heartworm/Tick Disease Test",
          "Heartworm/Tick Disease Test",
          "Heartworm/Tick Disease Test",
          "Heartworm/Tick Disease Test",
          "Heartworm/Tick Disease Test",
          "Heartworm/Tick Disease Test",
          "Heartworm/Tick Disease Test",
          "HomeAgain Service",
          "HomeAgain Service",
          "HomeAgain Service",
          "HomeAgain Service",
          "HomeAgain Service",
          "HomeAgain Service",
          "HomeAgain Service",
          "HomeAgain Service",
          "HomeAgain Service",
          "HomeAgain Service",
          "HomeAgain Service",
          "HomeAgain Service",
          "HomeAgain Service",
          "HomeAgain Service",
          "HomeAgain Service",
          "HomeAgain Service",
          "HomeAgain Service",
          "HomeAgain Service",
          "HomeAgain Service",
          "HomeAgain Service",
          "HomeAgain Service",
          "HomeAgain Service",
          "IV Catheter Sedation",
          "IV Catheter Sedation",
          "IV Catheter Sedation Fel",
          "IV Catheter Sedation Fel",
          "IV Catheter Sedation Fel.",
          "IV Catheter Sedation Fel.",
          "IV Catheter Sedation,",
          "IV Catheter Sedation,",
          "IV Catheter Sedation.",
          "IV Catheter Sedation.",
          "Influenza",
          "Influenza",
          "Influenza",
          "K9 Neuter",
          "K9 Neuter",
          "K9 Neuter",
          "K9 Neuter",
          "K9 Neuter",
          "K9 Neuter",
          "K9 Spay",
          "K9 Spay",
          "K9 Spay",
          "K9 Spay",
          "K9 Spay",
          "K9 Spay",
          "K9 Spay.",
          "K9 Spay.",
          "K9 Spay.",
          "K9 Spay.",
          "K9 Spay.",
          "K9 Spay.",
          "Lepto (Adult/Senior)",
          "Lepto (Adult/Senior)",
          "Lepto (Puppy)",
          "Lyme",
          "Lyme",
          "Lyme (Puppy)",
          "Lyme (Puppy)",
          "Male Neuter Complexity Fel Canada",
          "Male Neuter Complexity K9 Canada",
          "Microchip Service",
          "Microchip Service",
          "Microchip Service",
          "Microchip Service",
          "Microchip Service",
          "Microchip Service",
          "Microchip Service",
          "Microchip Service",
          "Microchip Service",
          "Microchip Service",
          "Microchip Service",
          "Microchip Service",
          "Microchip Service Canada",
          "Microchip Service Canada",
          "Microchip Service Canada",
          "NSAIDS dispensing code K9 Neuter",
          "NSAIDS dispensing code K9 Neuter",
          "NSAIDS dispensing code K9 Neuter",
          "NSAIDS dispensing code K9 Neuter",
          "NSAIDS dispensing code K9 Spay",
          "NSAIDS dispensing code K9 Spay",
          "NSAIDS dispensing code K9 Spay",
          "NSAIDS dispensing code K9 Spay",
          "NSAIDS dispensing code K9 Spay.",
          "NSAIDS dispensing code K9 Spay.",
          "NSAIDS dispensing code K9 Spay.",
          "NSAIDS dispensing code K9 Spay.",
          "Nail Trim",
          "Nail Trim",
          "Nail Trim",
          "Nail Trim",
          "Nail Trim",
          "Nail Trim",
          "Nail Trim",
          "Nail Trim",
          "Nail Trim",
          "Nail Trim",
          "Nail Trim",
          "Nail Trim",
          "Nail Trim",
          "Nail Trim",
          "Nail Trim",
          "Nail Trim",
          "Nail Trim",
          "Nail Trim",
          "Nail Trim",
          "Nail Trim",
          "Nail Trim",
          "Nail Trim",
          "Nail Trim",
          "Nail Trim",
          "Nail Trim",
          "Nail Trim",
          "Nail Trim",
          "Nail Trim",
          "Nail Trim",
          "Nail Trim",
          "Nail Trim",
          "Nail Trim",
          "Nail Trim",
          "Nail Trim",
          "Nail trim Fel",
          "Nail trim Fel",
          "Nail trim K9",
          "Nail trim K9",
          "Nail trim K9",
          "Pain Management Disp Fel Neuter",
          "Pain Management Disp Fel Neuter",
          "Pain Management Disp Fel Neuter",
          "Pain Management Disp Fel Neuter",
          "Pain Management Disp Fel Spay",
          "Pain Management Disp Fel Spay",
          "Pain Management Disp Fel Spay",
          "Pain Management Disp Fel Spay",
          "Pain Managment K9 Dental",
          "Pain Managment K9 Dental",
          "Pre-Operative Panels Fel Neuter",
          "Pre-Operative Panels Fel Neuter",
          "Pre-Operative Panels Fel Neuter",
          "Pre-Operative Panels Fel Neuter",
          "Pre-Operative Panels Fel Spay",
          "Pre-Operative Panels Fel Spay",
          "Pre-Operative Panels Fel Spay",
          "Pre-Operative Panels Fel Spay",
          "Pre-Operative Panels K9 Neuter",
          "Pre-Operative Panels K9 Neuter",
          "Pre-Operative Panels K9 Neuter",
          "Pre-Operative Panels K9 Neuter",
          "Pre-Operative Panels K9 Spay",
          "Pre-Operative Panels K9 Spay",
          "Pre-Operative Panels K9 Spay",
          "Pre-Operative Panels K9 Spay",
          "Pre-Operative Panels K9 Spay.",
          "Pre-Operative Panels K9 Spay.",
          "Pre-Operative Panels K9 Spay.",
          "Pre-Operative Panels K9 Spay.",
          "PreOp Bloodwork (Spay/Neuter)",
          "PreOp Bloodwork (Spay/Neuter)",
          "PreOp Bloodwork (Spay/Neuter)",
          "PreOp Bloodwork (Spay/Neuter)",
          "PreOp Labwork (Spay/Neuter)",
          "PreOp Labwork (Spay/Neuter)",
          "PreOp Labwork (Spay/Neuter)",
          "PreOp Labwork (Spay/Neuter)",
          "PreOp Labwork (Spay/Neuter)",
          "PreOp Labwork (Spay/Neuter)",
          "PreOp Labwork (Spay/Neuter)",
          "PreOp Labwork (Spay/Neuter)",
          "PreOp Labwork Canada",
          "PreOp Labwork Canada",
          "PreOp Labwork Canada",
          "PreOp Labwork Canada",
          "PreOp Labwork Canada",
          "Protective Collar",
          "Protective Collar",
          "Protective Collar",
          "Protective Collar",
          "Protective Collars Fel Neuter",
          "Protective Collars Fel Neuter",
          "Protective Collars Fel Neuter",
          "Protective Collars Fel Neuter",
          "Protective Collars Fel Spay",
          "Protective Collars Fel Spay",
          "Protective Collars Fel Spay",
          "Protective Collars Fel Spay",
          "Protective Collars K9 Neuter",
          "Protective Collars K9 Neuter",
          "Protective Collars K9 Neuter",
          "Protective Collars K9 Neuter",
          "Protective Collars K9 Spay",
          "Protective Collars K9 Spay",
          "Protective Collars K9 Spay",
          "Protective Collars K9 Spay",
          "Protective Collars list K9 Spay.",
          "Protective Collars list K9 Spay.",
          "Protective Collars list K9 Spay.",
          "Protective Collars list K9 Spay.",
          "Puppy/Kitten 1st Exam",
          "Puppy/Kitten 1st Exam",
          "Puppy/Kitten 1st Exam",
          "Puppy/Kitten 1st Exam",
          "Puppy/Kitten 1st Exam",
          "Puppy/Kitten 1st Exam",
          "Puppy/Kitten 1st Exam",
          "Puppy/Kitten 1st Exam",
          "Puppy/Kitten 1st Exam",
          "Puppy/Kitten 1st Exam",
          "Puppy/Kitten 1st Exam",
          "Puppy/Kitten 1st Exam",
          "Puppy/Kitten 1st Exam",
          "Puppy/Kitten 1st Exam",
          "Puppy/Kitten 1st Exam",
          "Puppy/Kitten 1st Exam",
          "Puppy/Kitten Recheck Exam",
          "Puppy/Kitten Recheck Exam",
          "Puppy/Kitten Recheck Exam",
          "Puppy/Kitten Recheck Exam",
          "Puppy/Kitten Recheck Exam",
          "Puppy/Kitten Recheck Exam",
          "Puppy/Kitten Recheck Exam",
          "Puppy/Kitten Recheck Exam",
          "Puppy/Kitten Recheck Exam",
          "Puppy/Kitten Recheck Exam",
          "Puppy/Kitten Recheck Exam",
          "Puppy/Kitten Recheck Exam",
          "Puppy/Kitten Recheck Exam",
          "Puppy/Kitten Recheck Exam",
          "Puppy/Kitten Recheck Exam",
          "Puppy/Kitten Recheck Exam",
          "RAD CareClub Abdomen/Thorax Study",
          "RAD CareClub Abdomen/Thorax Study",
          "RAD CareClub Abdomen/Thorax Study Fel",
          "RAD CareClub Abdomen/Thorax Study Fel",
          "RAD CareClub Abdomen/Thorax Study,",
          "RAD CareClub Abdomen/Thorax Study,",
          "RAD Full Mouth Dental Xray Feline",
          "RAD Full Mouth Dental Xray Feline",
          "RAD Full Mouth Dental Xray Feline",
          "RAD Full Mouth Dental Xray Feline",
          "RAD Full Mouth Dental Xray Feline",
          "RAD Full Mouth Dental Xray Feline",
          "RAD Full Mouth Dental Xray K9.",
          "RAD Full Mouth Dental Xray K9.",
          "RAD Full Mouth Dental Xray K9.",
          "RAD Full Mouth Dental Xray K9.",
          "RAD Full Mouth Dental Xray K9.",
          "RAD Full Mouth Dental Xray K9.",
          "Rabies (1 year)",
          "Rabies (1 year)",
          "Rabies (1 year)",
          "Rabies (3 year)",
          "Rabies (3 year)",
          "Rabies (Adult/Senior)",
          "Rabies (Adult/Senior)",
          "Rabies (Puppy)",
          "Rattlesnake booster",
          "Rattlesnake booster",
          "Rattlesnake starter",
          "Rattlesnake starter",
          "Sedation Radiology",
          "Sedation Radiology",
          "Sedation Radiology Fel",
          "Sedation Radiology Fel",
          "Sedation Radiology Fel.",
          "Sedation Radiology Fel.",
          "Sedation Radiology,",
          "Sedation Radiology,",
          "Sedation Radiology.",
          "Sedation Radiology.",
          "Senior Lab Panel Fel",
          "Senior Lab Panel K9",
          "Service Rounding Adjustment",
          "Service Rounding Adjustment",
          "Service Rounding Adjustment",
          "Service Rounding Adjustment",
          "Service Rounding Adjustment",
          "Service Rounding Adjustment",
          "Service Rounding Adjustment",
          "Service Rounding Adjustment",
          "Service Rounding Adjustment",
          "Service Rounding Adjustment",
          "Service Rounding Adjustment",
          "Service Rounding Adjustment",
          "Service Rounding Adjustment",
          "Service Rounding Adjustment",
          "Service Rounding Adjustment",
          "Service Rounding Adjustment",
          "Service Rounding Adjustment",
          "Service Rounding Adjustment",
          "Service Rounding Adjustment",
          "Service Rounding Adjustment",
          "Service Rounding Adjustment",
          "Service Rounding Adjustment",
          "Service Rounding Adjustment",
          "Service Rounding Adjustment",
          "Service Rounding Adjustment",
          "Service Rounding Adjustment",
          "Service Rounding Adjustment",
          "Service Rounding Adjustment",
          "Service Rounding Adjustment",
          "Service Rounding Adjustment",
          "Service Rounding Adjustment",
          "Service Rounding Adjustment",
          "Service Rounding Adjustment",
          "Service Rounding Adjustment",
          "Service Rounding Adjustment",
          "Service Rounding Adjustment",
          "Service Rounding Adjustment",
          "Service Rounding Adjustment",
          "Service Rounding Adjustment",
          "Service Rounding Adjustment",
          "Service Rounding Adjustment",
          "Service Rounding Adjustment",
          "Single region Studies Fel.",
          "Single region Studies Fel.",
          "Single region Studies.",
          "Single region Studies.",
          "Surgical Pain Management",
          "Surgical Pain Management",
          "Surgical Pain Management",
          "Surgical Pain Management",
          "Surgical Pain Management",
          "Surgical Pain Management",
          "Surgical Pain Management",
          "Surgical Pain Management",
          "UPC K9",
          "Umbilical hernia ADD add to spay",
          "Wellness Exam",
          "Wellness Exam",
          "Wellness Exam",
          "Wellness Exam",
          "Wellness Exam",
          "Wellness Exam",
          "Wellness Exam",
          "Wellness Exam",
          "Wellness Exam",
          "Wellness Exam",
          "Wellness Exam",
          "Wellness Exam",
          "Wellness Exam",
          "Wellness Exam",
          "Wellness Exam",
          "Wellness Exam",
          "Wellness Exam",
          "Wellness Exam",
          "Wellness Exam",
          "Wellness Exam",
          "Wellness Exam",
          "Wellness Exam",
          "Wellness Exam",
          "Wellness Exam",
          "Wellness Exam",
          "Wellness Exam",
          "Adult Access Canine Canada",
          "Adult Access Feline Canada",
          "Adult Access for Cats",
          "Adult Access for Dogs",
          "Adult Essentials for Cats",
          "Adult Paws Plus Cat Canada",
          "Adult Paws Plus Dog Canada",
          "Adult Paws Plus for Cats",
          "Adult Paws Plus for Dogs",
          "Adult Paws for Cat Canada",
          "Adult Paws for Cats",
          "Adult Paws for Dog Canada",
          "Adult Paws for Dogs",
          "Adult Premier for Cats",
          "Junior Access Canine Canada",
          "Junior Access Feline Canada",
          "Junior Access for Cats",
          "Junior Access for Dogs",
          "Junior Cat Plus Spay Canada",
          "Junior Cats Plus Neuter Canada",
          "Junior Dog Plus Neuter Canada",
          "Junior Dogs Plus Spay Canada",
          "Junior Paws Plus Kitten Neuter",
          "Junior Paws Plus Kitten Spay",
          "Junior Paws Plus Puppy Neuter",
          "Junior Paws Plus Puppy Spay",
          "Junior Paws for Cats",
          "Junior Paws for Cats Canada",
          "Junior Paws for Dogs",
          "Junior Paws for Dogs Canada",
          "Senior Access Canine Canada",
          "Senior Access Feline Canada",
          "Senior Access for Cats",
          "Senior Access for Dogs",
          "Senior Cat Plus for Canada",
          "Senior Dog Plus for Canada",
          "Senior Paws Dog for Canada",
          "Senior Paws Plus for Cats",
          "Senior Paws Plus for Dogs",
          "Senior Paws for Cats",
          "Senior Paws for Cats Canada",
          "Senior Paws for Dogs"
         ],
         "name": "",
         "parents": [
          "Adult Access for Dogs",
          "Junior Access for Dogs",
          "Adult Access for Dogs",
          "Junior Access for Dogs",
          "Senior Access for Dogs",
          "Adult Access for Dogs",
          "Junior Access for Cats",
          "Junior Access for Dogs",
          "Adult Access for Cats",
          "Adult Access for Dogs",
          "Adult Access Feline Canada",
          "Senior Access Canine Canada",
          "Senior Access Feline Canada",
          "Adult Access Canine Canada",
          "Senior Access Canine Canada",
          "Adult Access Canine Canada",
          "Adult Access Feline Canada",
          "Junior Access Canine Canada",
          "Junior Access Feline Canada",
          "Senior Access Canine Canada",
          "Adult Access for Cats",
          "Senior Access for Cats",
          "Senior Access for Cats",
          "Senior Access for Dogs",
          "Adult Access for Dogs",
          "Senior Access for Dogs",
          "Adult Access for Dogs",
          "Senior Access for Dogs",
          "Junior Access for Dogs",
          "Adult Access Canine Canada",
          "Adult Paws Plus Dog Canada",
          "Adult Paws Plus for Dogs",
          "Adult Paws for Dog Canada",
          "Adult Paws for Dogs",
          "Senior Access Canine Canada",
          "Senior Dog Plus for Canada",
          "Senior Paws Dog for Canada",
          "Senior Paws Plus for Dogs",
          "Senior Paws for Dogs",
          "Adult Paws Plus for Dogs",
          "Adult Paws for Dogs",
          "Senior Paws Plus for Dogs",
          "Senior Paws for Dogs",
          "Adult Access Canine Canada",
          "Adult Paws Plus Dog Canada",
          "Adult Paws Plus for Dogs",
          "Adult Paws for Dog Canada",
          "Adult Paws for Dogs",
          "Senior Access Canine Canada",
          "Senior Dog Plus for Canada",
          "Senior Paws Dog for Canada",
          "Senior Paws Plus for Dogs",
          "Senior Paws for Dogs",
          "Adult Access Canine Canada",
          "Adult Paws Plus Dog Canada",
          "Adult Paws Plus for Dogs",
          "Adult Paws for Dog Canada",
          "Adult Paws for Dogs",
          "Senior Access Canine Canada",
          "Senior Dog Plus for Canada",
          "Senior Paws Dog for Canada",
          "Senior Paws Plus for Dogs",
          "Senior Paws for Dogs",
          "Adult Paws Plus for Dogs",
          "Adult Paws for Dogs",
          "Adult Paws Plus Dog Canada",
          "Adult Paws Plus for Dogs",
          "Adult Paws for Dog Canada",
          "Adult Paws for Dogs",
          "Senior Dog Plus for Canada",
          "Senior Paws Dog for Canada",
          "Senior Paws Plus for Dogs",
          "Senior Paws for Dogs",
          "Junior Dog Plus Neuter Canada",
          "Junior Dogs Plus Spay Canada",
          "Junior Paws Plus Puppy Neuter",
          "Junior Paws Plus Puppy Spay",
          "Adult Paws Plus Dog Canada",
          "Adult Paws Plus for Dogs",
          "Senior Dog Plus for Canada",
          "Senior Paws Plus for Dogs",
          "Adult Paws Plus Dog Canada",
          "Adult Paws Plus for Dogs",
          "Senior Dog Plus for Canada",
          "Senior Paws Plus for Dogs",
          "Adult Paws Plus for Dogs",
          "Adult Paws for Dogs",
          "Junior Paws Plus Puppy Neuter",
          "Junior Paws Plus Puppy Spay",
          "Junior Paws for Dogs",
          "Senior Paws Plus for Dogs",
          "Senior Paws for Dogs",
          "Adult Paws Plus for Dogs",
          "Adult Paws for Dogs",
          "Junior Paws Plus Puppy Neuter",
          "Junior Paws Plus Puppy Spay",
          "Junior Paws for Dogs",
          "Senior Paws Plus for Dogs",
          "Senior Paws for Dogs",
          "Adult Paws Plus Dog Canada",
          "Adult Paws Plus for Dogs",
          "Adult Paws for Dog Canada",
          "Adult Paws for Dogs",
          "Junior Dog Plus Neuter Canada",
          "Junior Dogs Plus Spay Canada",
          "Junior Paws Plus Puppy Neuter",
          "Junior Paws Plus Puppy Spay",
          "Junior Paws for Dogs",
          "Junior Paws for Dogs Canada",
          "Senior Dog Plus for Canada",
          "Senior Paws Dog for Canada",
          "Senior Paws Plus for Dogs",
          "Senior Paws for Dogs",
          "Adult Paws Plus for Dogs",
          "Adult Paws for Dogs",
          "Junior Paws Plus Puppy Neuter",
          "Junior Paws Plus Puppy Spay",
          "Junior Paws for Dogs",
          "Senior Paws Plus for Dogs",
          "Senior Paws for Dogs",
          "Junior Dog Plus Neuter Canada",
          "Junior Paws Plus Puppy Neuter",
          "Junior Paws Plus Puppy Neuter",
          "Junior Paws Plus Puppy Spay",
          "Junior Access Canine Canada",
          "Junior Dog Plus Neuter Canada",
          "Junior Dogs Plus Spay Canada",
          "Junior Paws Plus Puppy Neuter",
          "Junior Paws Plus Puppy Spay",
          "Junior Paws for Dogs",
          "Junior Paws for Dogs Canada",
          "Senior Paws Plus for Dogs",
          "Junior Paws Plus Puppy Neuter",
          "Junior Paws Plus Puppy Spay",
          "Junior Paws for Dogs",
          "Junior Access Canine Canada",
          "Junior Dog Plus Neuter Canada",
          "Junior Dogs Plus Spay Canada",
          "Junior Paws Plus Puppy Neuter",
          "Junior Paws Plus Puppy Spay",
          "Junior Paws for Dogs",
          "Junior Paws for Dogs Canada",
          "Junior Access Canine Canada",
          "Junior Dog Plus Neuter Canada",
          "Junior Dogs Plus Spay Canada",
          "Junior Paws Plus Puppy Neuter",
          "Junior Paws Plus Puppy Spay",
          "Junior Paws for Dogs",
          "Junior Paws for Dogs Canada",
          "Senior Paws Plus for Dogs",
          "Senior Paws for Dogs",
          "Junior Dogs Plus Spay Canada",
          "Junior Paws Plus Puppy Spay",
          "Senior Cat Plus for Canada",
          "Senior Dog Plus for Canada",
          "Senior Paws Dog for Canada",
          "Senior Paws Plus for Cats",
          "Senior Paws Plus for Dogs",
          "Senior Paws for Cats",
          "Senior Paws for Cats Canada",
          "Senior Paws for Dogs",
          "Senior Cat Plus for Canada",
          "Senior Dog Plus for Canada",
          "Senior Paws Dog for Canada",
          "Senior Paws Plus for Cats",
          "Senior Paws Plus for Dogs",
          "Senior Paws for Cats",
          "Senior Paws for Cats Canada",
          "Senior Paws for Dogs",
          "Adult Access Canine Canada",
          "Adult Access Feline Canada",
          "Adult Access for Cats",
          "Adult Access for Dogs",
          "Adult Essentials for Cats",
          "Adult Paws Plus Cat Canada",
          "Adult Paws Plus Dog Canada",
          "Adult Paws Plus for Cats",
          "Adult Paws Plus for Dogs",
          "Adult Paws for Cat Canada",
          "Adult Paws for Cats",
          "Adult Paws for Dog Canada",
          "Adult Paws for Dogs",
          "Adult Premier for Cats",
          "Junior Access Canine Canada",
          "Junior Access Feline Canada",
          "Junior Access for Cats",
          "Junior Access for Dogs",
          "Junior Cat Plus Spay Canada",
          "Junior Cats Plus Neuter Canada",
          "Junior Dog Plus Neuter Canada",
          "Junior Dogs Plus Spay Canada",
          "Junior Paws Plus Kitten Neuter",
          "Junior Paws Plus Kitten Spay",
          "Junior Paws Plus Puppy Neuter",
          "Junior Paws Plus Puppy Spay",
          "Junior Paws for Cats",
          "Junior Paws for Cats Canada",
          "Junior Paws for Dogs",
          "Junior Paws for Dogs Canada",
          "Senior Access Canine Canada",
          "Senior Access Feline Canada",
          "Senior Access for Cats",
          "Senior Access for Dogs",
          "Senior Cat Plus for Canada",
          "Senior Dog Plus for Canada",
          "Senior Paws Dog for Canada",
          "Senior Paws Plus for Cats",
          "Senior Paws Plus for Dogs",
          "Senior Paws for Cats",
          "Senior Paws for Cats Canada",
          "Senior Paws for Dogs",
          "Adult Access for Cats",
          "Senior Access for Cats",
          "Adult Access for Dogs",
          "Senior Access for Dogs",
          "Adult Access for Dogs",
          "Senior Access for Dogs",
          "Junior Access for Dogs",
          "Junior Access for Dogs",
          "Junior Access for Dogs",
          "Adult Access Feline Canada",
          "Adult Access for Cats",
          "Adult Paws for Cats",
          "Senior Access Feline Canada",
          "Senior Access for Cats",
          "Senior Paws for Cats",
          "Adult Access Canine Canada",
          "Adult Access for Dogs",
          "Adult Paws for Dogs",
          "Senior Access Canine Canada",
          "Senior Access for Dogs",
          "Senior Paws for Dogs",
          "Adult Access Feline Canada",
          "Senior Access Feline Canada",
          "Junior Access for Cats",
          "Junior Access for Dogs",
          "Junior Access Canine Canada",
          "Junior Access Feline Canada",
          "Junior Cat Plus Spay Canada",
          "Junior Cats Plus Neuter Canada",
          "Junior Dog Plus Neuter Canada",
          "Junior Dogs Plus Spay Canada",
          "Junior Paws Plus Kitten Neuter",
          "Junior Paws Plus Kitten Spay",
          "Junior Paws Plus Puppy Neuter",
          "Junior Paws Plus Puppy Spay",
          "Junior Paws for Cats",
          "Junior Paws for Cats Canada",
          "Junior Paws for Dogs",
          "Junior Paws for Dogs Canada",
          "Junior Cat Plus Spay Canada",
          "Junior Cats Plus Neuter Canada",
          "Junior Dog Plus Neuter Canada",
          "Junior Dogs Plus Spay Canada",
          "Junior Paws Plus Kitten Neuter",
          "Junior Paws Plus Kitten Spay",
          "Junior Paws Plus Puppy Neuter",
          "Junior Paws Plus Puppy Spay",
          "Junior Access Feline Canada",
          "Adult Access Feline Canada",
          "Junior Access Feline Canada",
          "Adult Access Canine Canada",
          "Junior Access Canine Canada",
          "Adult Access Canine Canada",
          "Junior Access Canine Canada",
          "Adult Access Canine Canada",
          "Junior Access Canine Canada",
          "Adult Access for Cats",
          "Senior Access for Cats",
          "Junior Access for Cats",
          "Adult Access Feline Canada",
          "Adult Access for Cats",
          "Senior Access Feline Canada",
          "Senior Access for Cats",
          "Junior Access for Cats",
          "Adult Access for Cats",
          "Junior Access for Cats",
          "Senior Access for Cats",
          "Junior Paws Plus Kitten Neuter",
          "Junior Paws Plus Kitten Spay",
          "Junior Paws for Cats",
          "Senior Access Feline Canada",
          "Adult Essentials for Cats",
          "Adult Premier for Cats",
          "Adult Access for Dogs",
          "Senior Access for Dogs",
          "Adult Access for Dogs",
          "Senior Access for Dogs",
          "Adult Access for Cats",
          "Senior Access for Cats",
          "Adult Access for Cats",
          "Senior Access for Cats",
          "Adult Access for Dogs",
          "Senior Access for Dogs",
          "Junior Access for Cats",
          "Adult Essentials for Cats",
          "Adult Paws Plus for Cats",
          "Adult Paws Plus for Dogs",
          "Adult Paws for Cats",
          "Adult Paws for Dogs",
          "Adult Premier for Cats",
          "Junior Paws Plus Kitten Neuter",
          "Junior Paws Plus Kitten Spay",
          "Junior Paws Plus Puppy Neuter",
          "Junior Paws Plus Puppy Spay",
          "Junior Paws for Cats",
          "Junior Paws for Dogs",
          "Senior Paws Plus for Cats",
          "Senior Paws Plus for Dogs",
          "Senior Paws for Cats",
          "Senior Paws for Dogs",
          "Adult Access for Cats",
          "Senior Access for Cats",
          "Adult Access for Dogs",
          "Senior Access for Dogs",
          "Junior Access for Dogs",
          "Adult Access Canine Canada",
          "Adult Access Feline Canada",
          "Adult Paws Plus Cat Canada",
          "Adult Paws Plus Dog Canada",
          "Adult Paws Plus for Cats",
          "Adult Paws Plus for Dogs",
          "Adult Paws for Cat Canada",
          "Adult Paws for Cats",
          "Adult Paws for Dog Canada",
          "Adult Paws for Dogs",
          "Junior Access Canine Canada",
          "Junior Access Feline Canada",
          "Junior Cat Plus Spay Canada",
          "Junior Cats Plus Neuter Canada",
          "Junior Dog Plus Neuter Canada",
          "Junior Dogs Plus Spay Canada",
          "Junior Paws Plus Kitten Neuter",
          "Junior Paws Plus Kitten Spay",
          "Junior Paws Plus Puppy Neuter",
          "Junior Paws Plus Puppy Spay",
          "Junior Paws for Cats",
          "Junior Paws for Cats Canada",
          "Junior Paws for Dogs",
          "Junior Paws for Dogs Canada",
          "Senior Access Canine Canada",
          "Senior Access Feline Canada",
          "Senior Cat Plus for Canada",
          "Senior Dog Plus for Canada",
          "Senior Paws Dog for Canada",
          "Senior Paws Plus for Cats",
          "Senior Paws Plus for Dogs",
          "Senior Paws for Cats",
          "Senior Paws for Cats Canada",
          "Senior Paws for Dogs",
          "Adult Access Feline Canada",
          "Adult Paws Plus Cat Canada",
          "Adult Paws Plus for Cats",
          "Adult Paws for Cat Canada",
          "Adult Paws for Cats",
          "Adult Premier for Cats",
          "Senior Access Feline Canada",
          "Senior Cat Plus for Canada",
          "Senior Paws Plus for Cats",
          "Senior Paws for Cats",
          "Senior Paws for Cats Canada",
          "Adult Paws Plus for Cats",
          "Adult Paws for Cats",
          "Adult Premier for Cats",
          "Senior Paws Plus for Cats",
          "Senior Paws for Cats",
          "Adult Access Feline Canada",
          "Adult Paws Plus Cat Canada",
          "Adult Paws Plus for Cats",
          "Adult Paws for Cat Canada",
          "Adult Paws for Cats",
          "Adult Premier for Cats",
          "Senior Access Feline Canada",
          "Senior Cat Plus for Canada",
          "Senior Paws Plus for Cats",
          "Senior Paws for Cats",
          "Senior Paws for Cats Canada",
          "Adult Essentials for Cats",
          "Adult Paws Plus for Cats",
          "Adult Paws for Cats",
          "Adult Paws Plus for Cats",
          "Adult Premier for Cats",
          "Adult Paws Plus Cat Canada",
          "Adult Paws Plus for Cats",
          "Adult Paws for Cat Canada",
          "Adult Paws for Cats",
          "Senior Cat Plus for Canada",
          "Senior Paws Plus for Cats",
          "Senior Paws for Cats",
          "Senior Paws for Cats Canada",
          "Junior Cat Plus Spay Canada",
          "Junior Cats Plus Neuter Canada",
          "Junior Paws Plus Kitten Neuter",
          "Junior Paws Plus Kitten Spay",
          "Adult Paws Plus Cat Canada",
          "Adult Paws Plus for Cats",
          "Senior Cat Plus for Canada",
          "Senior Paws Plus for Cats",
          "Adult Paws Plus Cat Canada",
          "Adult Paws Plus for Cats",
          "Senior Cat Plus for Canada",
          "Senior Paws Plus for Cats",
          "Junior Access Feline Canada",
          "Junior Cat Plus Spay Canada",
          "Junior Cats Plus Neuter Canada",
          "Junior Paws Plus Kitten Neuter",
          "Junior Paws Plus Kitten Spay",
          "Junior Paws for Cats",
          "Junior Paws for Cats Canada",
          "Junior Access Feline Canada",
          "Junior Cat Plus Spay Canada",
          "Junior Cats Plus Neuter Canada",
          "Junior Paws Plus Kitten Neuter",
          "Junior Paws Plus Kitten Spay",
          "Junior Paws for Cats",
          "Junior Paws for Cats Canada",
          "Junior Access Feline Canada",
          "Junior Cat Plus Spay Canada",
          "Junior Cats Plus Neuter Canada",
          "Junior Paws Plus Kitten Neuter",
          "Junior Paws Plus Kitten Spay",
          "Junior Paws for Cats",
          "Junior Paws for Cats Canada",
          "Junior Access Feline Canada",
          "Junior Cat Plus Spay Canada",
          "Junior Cats Plus Neuter Canada",
          "Junior Paws Plus Kitten Neuter",
          "Junior Paws Plus Kitten Spay",
          "Junior Paws for Cats",
          "Junior Paws for Cats Canada",
          "Adult Access for Cats",
          "Adult Paws for Cats",
          "Junior Access Feline Canada",
          "Junior Access for Cats",
          "Junior Cats Plus Neuter Canada",
          "Junior Paws Plus Kitten Neuter",
          "Junior Paws for Cats",
          "Junior Paws Plus Kitten Neuter",
          "Junior Paws Plus Kitten Spay",
          "Adult Premier for Cats",
          "Senior Paws Plus for Cats",
          "Senior Paws for Cats",
          "Junior Cat Plus Spay Canada",
          "Junior Paws Plus Kitten Spay",
          "Adult Access Feline Canada",
          "Adult Access for Cats",
          "Adult Paws for Cats",
          "Junior Access Feline Canada",
          "Junior Access for Cats",
          "Junior Paws for Cats",
          "Junior Access Canine Canada",
          "Junior Access for Dogs",
          "Adult Access for Dogs",
          "Junior Access for Dogs",
          "Adult Access for Dogs",
          "Junior Access for Dogs",
          "Senior Access for Dogs",
          "Adult Paws Plus Dog Canada",
          "Adult Paws Plus for Dogs",
          "Adult Paws for Dog Canada",
          "Adult Paws for Dogs",
          "Junior Dog Plus Neuter Canada",
          "Junior Dogs Plus Spay Canada",
          "Junior Paws Plus Puppy Neuter",
          "Junior Paws Plus Puppy Spay",
          "Junior Paws for Dogs",
          "Junior Paws for Dogs Canada",
          "Senior Dog Plus for Canada",
          "Senior Paws Dog for Canada",
          "Senior Paws Plus for Dogs",
          "Senior Paws for Dogs",
          "Adult Access for Cats",
          "Adult Access for Dogs",
          "Adult Essentials for Cats",
          "Adult Paws Plus for Cats",
          "Adult Paws Plus for Dogs",
          "Adult Paws for Cats",
          "Adult Paws for Dogs",
          "Adult Premier for Cats",
          "Junior Access for Cats",
          "Junior Access for Dogs",
          "Junior Paws Plus Kitten Neuter",
          "Junior Paws Plus Kitten Spay",
          "Junior Paws Plus Puppy Neuter",
          "Junior Paws Plus Puppy Spay",
          "Junior Paws for Cats",
          "Junior Paws for Dogs",
          "Senior Access for Cats",
          "Senior Access for Dogs",
          "Senior Paws Plus for Cats",
          "Senior Paws Plus for Dogs",
          "Senior Paws for Cats",
          "Senior Paws for Dogs",
          "Adult Access for Dogs",
          "Senior Access for Dogs",
          "Adult Access for Cats",
          "Senior Access for Cats",
          "Adult Access for Cats",
          "Senior Access for Cats",
          "Adult Access for Dogs",
          "Senior Access for Dogs",
          "Adult Access for Dogs",
          "Senior Access for Dogs",
          "Adult Access for Dogs",
          "Junior Access for Dogs",
          "Senior Access for Dogs",
          "Adult Access Canine Canada",
          "Adult Access for Dogs",
          "Adult Paws for Dogs",
          "Junior Access Canine Canada",
          "Junior Access for Dogs",
          "Junior Paws for Dogs",
          "Adult Access Canine Canada",
          "Adult Access for Dogs",
          "Adult Paws for Dogs",
          "Junior Access Canine Canada",
          "Junior Access for Dogs",
          "Junior Paws for Dogs",
          "Adult Access Canine Canada",
          "Adult Access for Dogs",
          "Adult Paws for Dogs",
          "Junior Access Canine Canada",
          "Junior Access for Dogs",
          "Junior Paws for Dogs",
          "Adult Access for Dogs",
          "Senior Access for Dogs",
          "Junior Access for Dogs",
          "Adult Access for Dogs",
          "Senior Access for Dogs",
          "Junior Access Canine Canada",
          "Junior Access for Dogs",
          "Junior Access Feline Canada",
          "Junior Access Canine Canada",
          "Junior Cat Plus Spay Canada",
          "Junior Cats Plus Neuter Canada",
          "Junior Dog Plus Neuter Canada",
          "Junior Dogs Plus Spay Canada",
          "Junior Paws Plus Kitten Neuter",
          "Junior Paws Plus Kitten Spay",
          "Junior Paws Plus Puppy Neuter",
          "Junior Paws Plus Puppy Spay",
          "Junior Paws for Cats",
          "Junior Paws for Cats Canada",
          "Junior Paws for Dogs",
          "Junior Paws for Dogs Canada",
          "Adult Access Canine Canada",
          "Junior Access Canine Canada",
          "Junior Access Feline Canada",
          "Adult Access for Dogs",
          "Adult Paws for Dogs",
          "Junior Access for Dogs",
          "Junior Paws for Dogs",
          "Adult Access for Dogs",
          "Adult Paws for Dogs",
          "Junior Access for Dogs",
          "Junior Paws for Dogs",
          "Adult Access for Dogs",
          "Adult Paws for Dogs",
          "Junior Access for Dogs",
          "Junior Paws for Dogs",
          "Adult Access Canine Canada",
          "Adult Access Feline Canada",
          "Adult Paws Plus Cat Canada",
          "Adult Paws Plus Dog Canada",
          "Adult Paws Plus for Cats",
          "Adult Paws Plus for Dogs",
          "Adult Paws for Cat Canada",
          "Adult Paws for Cats",
          "Adult Paws for Dog Canada",
          "Adult Paws for Dogs",
          "Junior Access Canine Canada",
          "Junior Access Feline Canada",
          "Junior Cat Plus Spay Canada",
          "Junior Cats Plus Neuter Canada",
          "Junior Dog Plus Neuter Canada",
          "Junior Dogs Plus Spay Canada",
          "Junior Paws Plus Kitten Neuter",
          "Junior Paws Plus Kitten Spay",
          "Junior Paws Plus Puppy Neuter",
          "Junior Paws Plus Puppy Spay",
          "Junior Paws for Cats",
          "Junior Paws for Cats Canada",
          "Junior Paws for Dogs",
          "Junior Paws for Dogs Canada",
          "Senior Access Canine Canada",
          "Senior Access Feline Canada",
          "Senior Cat Plus for Canada",
          "Senior Dog Plus for Canada",
          "Senior Paws Dog for Canada",
          "Senior Paws Plus for Cats",
          "Senior Paws Plus for Dogs",
          "Senior Paws for Cats",
          "Senior Paws for Cats Canada",
          "Senior Paws for Dogs",
          "Adult Access for Cats",
          "Junior Access for Cats",
          "Adult Access for Dogs",
          "Junior Access for Dogs",
          "Senior Access for Dogs",
          "Adult Access for Cats",
          "Adult Paws for Cats",
          "Junior Access for Cats",
          "Junior Paws for Cats",
          "Adult Access for Cats",
          "Adult Paws for Cats",
          "Junior Access for Cats",
          "Junior Paws for Cats",
          "Adult Access Canine Canada",
          "Senior Access Canine Canada",
          "Adult Access for Cats",
          "Adult Paws for Cats",
          "Junior Access for Cats",
          "Junior Paws for Cats",
          "Adult Access for Cats",
          "Adult Paws for Cats",
          "Junior Access for Cats",
          "Junior Paws for Cats",
          "Adult Access for Dogs",
          "Adult Paws for Dogs",
          "Junior Access for Dogs",
          "Junior Paws for Dogs",
          "Adult Access for Dogs",
          "Adult Paws for Dogs",
          "Junior Access for Dogs",
          "Junior Paws for Dogs",
          "Adult Access for Dogs",
          "Adult Paws for Dogs",
          "Junior Access for Dogs",
          "Junior Paws for Dogs",
          "Junior Paws Plus Kitten Neuter",
          "Junior Paws Plus Kitten Spay",
          "Junior Paws Plus Puppy Neuter",
          "Junior Paws Plus Puppy Spay",
          "Junior Cat Plus Spay Canada",
          "Junior Cats Plus Neuter Canada",
          "Junior Dog Plus Neuter Canada",
          "Junior Dogs Plus Spay Canada",
          "Junior Paws Plus Kitten Neuter",
          "Junior Paws Plus Kitten Spay",
          "Junior Paws Plus Puppy Neuter",
          "Junior Paws Plus Puppy Spay",
          "Adult Access Canine Canada",
          "Adult Access Feline Canada",
          "Junior Access Canine Canada",
          "Junior Access Feline Canada",
          "Senior Access Canine Canada",
          "Junior Paws Plus Kitten Neuter",
          "Junior Paws Plus Kitten Spay",
          "Junior Paws Plus Puppy Neuter",
          "Junior Paws Plus Puppy Spay",
          "Adult Access for Cats",
          "Adult Paws for Cats",
          "Junior Access for Cats",
          "Junior Paws for Cats",
          "Adult Access for Cats",
          "Adult Paws for Cats",
          "Junior Access for Cats",
          "Junior Paws for Cats",
          "Adult Access for Dogs",
          "Adult Paws for Dogs",
          "Junior Access for Dogs",
          "Junior Paws for Dogs",
          "Adult Access for Dogs",
          "Adult Paws for Dogs",
          "Junior Access for Dogs",
          "Junior Paws for Dogs",
          "Adult Access for Dogs",
          "Adult Paws for Dogs",
          "Junior Access for Dogs",
          "Junior Paws for Dogs",
          "Junior Access Canine Canada",
          "Junior Access Feline Canada",
          "Junior Access for Cats",
          "Junior Access for Dogs",
          "Junior Cat Plus Spay Canada",
          "Junior Cats Plus Neuter Canada",
          "Junior Dog Plus Neuter Canada",
          "Junior Dogs Plus Spay Canada",
          "Junior Paws Plus Kitten Neuter",
          "Junior Paws Plus Kitten Spay",
          "Junior Paws Plus Puppy Neuter",
          "Junior Paws Plus Puppy Spay",
          "Junior Paws for Cats",
          "Junior Paws for Cats Canada",
          "Junior Paws for Dogs",
          "Junior Paws for Dogs Canada",
          "Junior Access Canine Canada",
          "Junior Access Feline Canada",
          "Junior Access for Cats",
          "Junior Access for Dogs",
          "Junior Cat Plus Spay Canada",
          "Junior Cats Plus Neuter Canada",
          "Junior Dog Plus Neuter Canada",
          "Junior Dogs Plus Spay Canada",
          "Junior Paws Plus Kitten Neuter",
          "Junior Paws Plus Kitten Spay",
          "Junior Paws Plus Puppy Neuter",
          "Junior Paws Plus Puppy Spay",
          "Junior Paws for Cats",
          "Junior Paws for Cats Canada",
          "Junior Paws for Dogs",
          "Junior Paws for Dogs Canada",
          "Adult Access for Dogs",
          "Senior Access for Dogs",
          "Adult Access for Cats",
          "Senior Access for Cats",
          "Adult Access for Dogs",
          "Senior Access for Dogs",
          "Adult Access Feline Canada",
          "Adult Access for Cats",
          "Adult Paws for Cats",
          "Senior Access Feline Canada",
          "Senior Access for Cats",
          "Senior Paws for Cats",
          "Adult Access Canine Canada",
          "Adult Access for Dogs",
          "Adult Paws for Dogs",
          "Senior Access Canine Canada",
          "Senior Access for Dogs",
          "Senior Paws for Dogs",
          "Adult Access for Cats",
          "Junior Access for Cats",
          "Senior Access for Cats",
          "Adult Access for Cats",
          "Senior Access for Cats",
          "Adult Access for Dogs",
          "Senior Access for Dogs",
          "Junior Access for Dogs",
          "Adult Access for Dogs",
          "Junior Access for Dogs",
          "Adult Access for Dogs",
          "Junior Access for Dogs",
          "Adult Access for Dogs",
          "Senior Access for Dogs",
          "Adult Access for Cats",
          "Senior Access for Cats",
          "Adult Access for Cats",
          "Senior Access for Cats",
          "Adult Access for Dogs",
          "Senior Access for Dogs",
          "Adult Access for Dogs",
          "Senior Access for Dogs",
          "Senior Access for Cats",
          "Senior Access for Dogs",
          "Adult Access Canine Canada",
          "Adult Access Feline Canada",
          "Adult Access for Cats",
          "Adult Access for Dogs",
          "Adult Essentials for Cats",
          "Adult Paws Plus Cat Canada",
          "Adult Paws Plus Dog Canada",
          "Adult Paws Plus for Cats",
          "Adult Paws Plus for Dogs",
          "Adult Paws for Cat Canada",
          "Adult Paws for Cats",
          "Adult Paws for Dog Canada",
          "Adult Paws for Dogs",
          "Adult Premier for Cats",
          "Junior Access Canine Canada",
          "Junior Access Feline Canada",
          "Junior Access for Cats",
          "Junior Access for Dogs",
          "Junior Cat Plus Spay Canada",
          "Junior Cats Plus Neuter Canada",
          "Junior Dog Plus Neuter Canada",
          "Junior Dogs Plus Spay Canada",
          "Junior Paws Plus Kitten Neuter",
          "Junior Paws Plus Kitten Spay",
          "Junior Paws Plus Puppy Neuter",
          "Junior Paws Plus Puppy Spay",
          "Junior Paws for Cats",
          "Junior Paws for Cats Canada",
          "Junior Paws for Dogs",
          "Junior Paws for Dogs Canada",
          "Senior Access Canine Canada",
          "Senior Access Feline Canada",
          "Senior Access for Cats",
          "Senior Access for Dogs",
          "Senior Cat Plus for Canada",
          "Senior Dog Plus for Canada",
          "Senior Paws Dog for Canada",
          "Senior Paws Plus for Cats",
          "Senior Paws Plus for Dogs",
          "Senior Paws for Cats",
          "Senior Paws for Cats Canada",
          "Senior Paws for Dogs",
          "Adult Access for Cats",
          "Senior Access for Cats",
          "Adult Access for Dogs",
          "Senior Access for Dogs",
          "Adult Paws Plus Cat Canada",
          "Adult Paws Plus Dog Canada",
          "Adult Paws Plus for Cats",
          "Adult Paws Plus for Dogs",
          "Senior Cat Plus for Canada",
          "Senior Dog Plus for Canada",
          "Senior Paws Plus for Cats",
          "Senior Paws Plus for Dogs",
          "Senior Access for Dogs",
          "Junior Access for Dogs",
          "Adult Access Canine Canada",
          "Adult Access Feline Canada",
          "Adult Access for Cats",
          "Adult Access for Dogs",
          "Adult Essentials for Cats",
          "Adult Paws Plus Cat Canada",
          "Adult Paws Plus Dog Canada",
          "Adult Paws Plus for Cats",
          "Adult Paws Plus for Dogs",
          "Adult Paws for Cat Canada",
          "Adult Paws for Cats",
          "Adult Paws for Dog Canada",
          "Adult Paws for Dogs",
          "Adult Premier for Cats",
          "Senior Access Canine Canada",
          "Senior Access Feline Canada",
          "Senior Access for Cats",
          "Senior Access for Dogs",
          "Senior Cat Plus for Canada",
          "Senior Dog Plus for Canada",
          "Senior Paws Dog for Canada",
          "Senior Paws Plus for Cats",
          "Senior Paws Plus for Dogs",
          "Senior Paws for Cats",
          "Senior Paws for Cats Canada",
          "Senior Paws for Dogs",
          "",
          "",
          "",
          "",
          "",
          "",
          "",
          "",
          "",
          "",
          "",
          "",
          "",
          "",
          "",
          "",
          "",
          "",
          "",
          "",
          "",
          "",
          "",
          "",
          "",
          "",
          "",
          "",
          "",
          "",
          "",
          "",
          "",
          "",
          "",
          "",
          "",
          "",
          "",
          "",
          "",
          ""
         ],
         "type": "sunburst",
         "values": [
          1,
          1,
          24,
          51,
          12,
          1,
          11,
          21,
          33,
          128,
          3,
          6,
          2,
          1,
          3,
          9,
          2,
          19,
          6,
          5,
          17,
          8,
          19,
          104,
          15,
          33,
          193,
          101,
          246,
          29,
          145,
          3572,
          961,
          41319,
          26,
          182,
          163,
          5609,
          12704,
          3556,
          41299,
          5641,
          12692,
          29,
          145,
          16,
          961,
          20,
          26,
          182,
          163,
          13,
          12,
          29,
          145,
          3572,
          961,
          41319,
          26,
          182,
          163,
          5654,
          12704,
          3556,
          41299,
          145,
          16,
          961,
          20,
          182,
          163,
          13,
          12,
          373,
          291,
          14,
          12,
          145,
          3572,
          182,
          5654,
          145,
          3530,
          182,
          5578,
          1231,
          18758,
          2,
          4,
          6438,
          1880,
          4945,
          3231,
          38593,
          10,
          8,
          14495,
          5097,
          11521,
          89,
          12,
          816,
          17,
          315,
          241,
          11,
          9,
          3,
          96,
          135,
          127,
          11,
          9,
          3556,
          41299,
          11,
          9,
          15787,
          5641,
          12692,
          373,
          25,
          11,
          9,
          33,
          373,
          291,
          25,
          21,
          15791,
          116,
          56,
          11,
          9,
          15787,
          33,
          373,
          291,
          14,
          12,
          4,
          116,
          33,
          373,
          291,
          25,
          21,
          15791,
          116,
          5641,
          12692,
          291,
          21,
          81,
          182,
          163,
          789,
          5654,
          2187,
          49,
          12704,
          81,
          182,
          163,
          789,
          5654,
          2187,
          49,
          12704,
          29,
          11,
          86,
          269,
          26,
          89,
          145,
          1062,
          3572,
          229,
          8773,
          961,
          41319,
          4,
          33,
          10,
          121,
          271,
          127,
          130,
          373,
          291,
          7,
          10,
          25,
          21,
          5384,
          41,
          15791,
          116,
          26,
          3,
          34,
          177,
          81,
          182,
          163,
          789,
          5654,
          2187,
          49,
          12704,
          17,
          8,
          15,
          33,
          193,
          101,
          246,
          1,
          2,
          3,
          25,
          981,
          1,
          17,
          791,
          5,
          50,
          3693,
          13,
          96,
          3699,
          3,
          1,
          87,
          203,
          33,
          10,
          127,
          130,
          373,
          291,
          7,
          10,
          25,
          21,
          5384,
          41,
          15791,
          116,
          127,
          130,
          373,
          291,
          6,
          8,
          14,
          12,
          4,
          1,
          3,
          3,
          13,
          1,
          2,
          2,
          6,
          56,
          14,
          118,
          2,
          30,
          1,
          6,
          93,
          13,
          94,
          3,
          1,
          2,
          5382,
          1,
          26,
          4,
          1,
          3,
          2,
          15,
          5,
          2,
          2,
          2,
          3,
          20,
          87,
          26,
          1056,
          3556,
          8762,
          41299,
          4,
          1,
          2,
          11,
          9,
          5382,
          15787,
          786,
          5641,
          2183,
          12692,
          38,
          5,
          138,
          66,
          203,
          29,
          11,
          89,
          145,
          6,
          16,
          229,
          11,
          961,
          20,
          33,
          10,
          127,
          130,
          373,
          291,
          6,
          8,
          14,
          12,
          2,
          41,
          4,
          116,
          26,
          3,
          81,
          182,
          163,
          3,
          13,
          4,
          49,
          12,
          11,
          89,
          1062,
          229,
          8773,
          4,
          3,
          81,
          789,
          2187,
          49,
          1056,
          8762,
          4,
          786,
          2183,
          11,
          89,
          1062,
          229,
          8773,
          4,
          3,
          81,
          789,
          2187,
          49,
          26,
          1037,
          8762,
          19,
          4,
          89,
          6,
          229,
          11,
          81,
          3,
          4,
          49,
          127,
          130,
          6,
          8,
          89,
          1062,
          81,
          789,
          89,
          1058,
          81,
          787,
          10,
          127,
          130,
          7,
          10,
          5384,
          41,
          10,
          127,
          130,
          7,
          10,
          5384,
          41,
          10,
          127,
          130,
          6,
          8,
          2,
          41,
          10,
          127,
          130,
          7,
          10,
          5384,
          41,
          4,
          108,
          4,
          60,
          130,
          7,
          2067,
          1,
          2,
          4,
          786,
          2183,
          127,
          10,
          1,
          7,
          161,
          3,
          45,
          1915,
          2,
          1,
          1,
          1,
          30,
          44,
          17,
          77,
          9,
          771,
          10,
          288,
          224,
          11,
          6,
          3,
          83,
          124,
          122,
          11,
          9,
          86,
          269,
          26,
          1055,
          3556,
          8762,
          41299,
          4,
          121,
          271,
          1,
          2,
          11,
          9,
          5382,
          15785,
          34,
          177,
          786,
          5624,
          2183,
          12692,
          2,
          15,
          5,
          2,
          2,
          2,
          1,
          3,
          3,
          20,
          109,
          139,
          41,
          3,
          8,
          828,
          13,
          97,
          4743,
          1,
          5,
          208,
          2,
          20,
          1045,
          2,
          8,
          564,
          6,
          81,
          3779,
          193,
          101,
          246,
          71,
          26,
          1,
          71,
          1,
          1,
          127,
          130,
          373,
          291,
          6,
          8,
          14,
          12,
          2,
          41,
          4,
          116,
          2,
          11,
          6,
          8,
          828,
          97,
          4743,
          5,
          208,
          20,
          1045,
          8,
          564,
          81,
          3779,
          29,
          11,
          89,
          145,
          6,
          16,
          229,
          11,
          961,
          20,
          33,
          10,
          127,
          130,
          373,
          291,
          6,
          8,
          14,
          12,
          2,
          41,
          4,
          116,
          26,
          3,
          81,
          182,
          163,
          3,
          13,
          4,
          49,
          12,
          3,
          3,
          12,
          15,
          8,
          4,
          108,
          60,
          2067,
          7,
          161,
          45,
          1915,
          5,
          13,
          4,
          108,
          60,
          2067,
          7,
          161,
          45,
          1915,
          8,
          828,
          97,
          4743,
          5,
          208,
          20,
          1045,
          8,
          564,
          81,
          3779,
          1,
          2,
          11,
          9,
          127,
          130,
          373,
          291,
          6,
          8,
          14,
          12,
          1,
          1,
          2,
          1,
          2,
          1,
          2,
          11,
          9,
          4,
          108,
          60,
          2067,
          7,
          161,
          45,
          1915,
          8,
          828,
          97,
          4743,
          5,
          208,
          20,
          1045,
          8,
          564,
          81,
          3779,
          33,
          10,
          121,
          271,
          127,
          130,
          373,
          291,
          7,
          10,
          25,
          21,
          5384,
          41,
          15791,
          116,
          33,
          10,
          121,
          271,
          127,
          130,
          373,
          291,
          7,
          10,
          25,
          21,
          5384,
          41,
          15791,
          116,
          2,
          15,
          5,
          2,
          1,
          3,
          3,
          25,
          972,
          1,
          17,
          787,
          5,
          50,
          3641,
          13,
          96,
          3650,
          53,
          119,
          13,
          5,
          2,
          193,
          101,
          246,
          2,
          6,
          1,
          8,
          2,
          15,
          5,
          2,
          2,
          2,
          1,
          3,
          3,
          20,
          19,
          104,
          29,
          11,
          71,
          244,
          10,
          68,
          90,
          735,
          2599,
          172,
          6022,
          678,
          29599,
          3,
          33,
          10,
          104,
          223,
          101,
          96,
          344,
          251,
          4,
          8,
          24,
          16,
          4127,
          31,
          12826,
          95,
          26,
          3,
          23,
          134,
          52,
          127,
          93,
          540,
          4311,
          1719,
          30,
          9141,
          2,
          2,
          3,
          20,
          89,
          145,
          6,
          16,
          81,
          182,
          3,
          13,
          1,
          1,
          29,
          11,
          86,
          269,
          26,
          89,
          145,
          1062,
          3572,
          229,
          8773,
          961,
          41319,
          4,
          26,
          3,
          34,
          177,
          81,
          182,
          163,
          789,
          5637,
          2187,
          49,
          12704,
          272,
          96,
          716,
          2579,
          166,
          958,
          1851,
          11350,
          46332,
          1775,
          79224,
          9953,
          472562,
          43,
          408,
          138,
          1620,
          3851,
          2006,
          2046,
          6169,
          4790,
          108,
          156,
          408,
          337,
          73897,
          482,
          229941,
          1434,
          263,
          28,
          272,
          1858,
          1024,
          2752,
          1972,
          10006,
          84713,
          25163,
          471,
          172706
         ]
        }
       ],
       "layout": {
        "legend": {
         "tracegroupgap": 0
        },
        "margin": {
         "t": 60
        },
        "template": {
         "data": {
          "bar": [
           {
            "error_x": {
             "color": "#2a3f5f"
            },
            "error_y": {
             "color": "#2a3f5f"
            },
            "marker": {
             "line": {
              "color": "#E5ECF6",
              "width": 0.5
             },
             "pattern": {
              "fillmode": "overlay",
              "size": 10,
              "solidity": 0.2
             }
            },
            "type": "bar"
           }
          ],
          "barpolar": [
           {
            "marker": {
             "line": {
              "color": "#E5ECF6",
              "width": 0.5
             },
             "pattern": {
              "fillmode": "overlay",
              "size": 10,
              "solidity": 0.2
             }
            },
            "type": "barpolar"
           }
          ],
          "carpet": [
           {
            "aaxis": {
             "endlinecolor": "#2a3f5f",
             "gridcolor": "white",
             "linecolor": "white",
             "minorgridcolor": "white",
             "startlinecolor": "#2a3f5f"
            },
            "baxis": {
             "endlinecolor": "#2a3f5f",
             "gridcolor": "white",
             "linecolor": "white",
             "minorgridcolor": "white",
             "startlinecolor": "#2a3f5f"
            },
            "type": "carpet"
           }
          ],
          "choropleth": [
           {
            "colorbar": {
             "outlinewidth": 0,
             "ticks": ""
            },
            "type": "choropleth"
           }
          ],
          "contour": [
           {
            "colorbar": {
             "outlinewidth": 0,
             "ticks": ""
            },
            "colorscale": [
             [
              0,
              "#0d0887"
             ],
             [
              0.1111111111111111,
              "#46039f"
             ],
             [
              0.2222222222222222,
              "#7201a8"
             ],
             [
              0.3333333333333333,
              "#9c179e"
             ],
             [
              0.4444444444444444,
              "#bd3786"
             ],
             [
              0.5555555555555556,
              "#d8576b"
             ],
             [
              0.6666666666666666,
              "#ed7953"
             ],
             [
              0.7777777777777778,
              "#fb9f3a"
             ],
             [
              0.8888888888888888,
              "#fdca26"
             ],
             [
              1,
              "#f0f921"
             ]
            ],
            "type": "contour"
           }
          ],
          "contourcarpet": [
           {
            "colorbar": {
             "outlinewidth": 0,
             "ticks": ""
            },
            "type": "contourcarpet"
           }
          ],
          "heatmap": [
           {
            "colorbar": {
             "outlinewidth": 0,
             "ticks": ""
            },
            "colorscale": [
             [
              0,
              "#0d0887"
             ],
             [
              0.1111111111111111,
              "#46039f"
             ],
             [
              0.2222222222222222,
              "#7201a8"
             ],
             [
              0.3333333333333333,
              "#9c179e"
             ],
             [
              0.4444444444444444,
              "#bd3786"
             ],
             [
              0.5555555555555556,
              "#d8576b"
             ],
             [
              0.6666666666666666,
              "#ed7953"
             ],
             [
              0.7777777777777778,
              "#fb9f3a"
             ],
             [
              0.8888888888888888,
              "#fdca26"
             ],
             [
              1,
              "#f0f921"
             ]
            ],
            "type": "heatmap"
           }
          ],
          "heatmapgl": [
           {
            "colorbar": {
             "outlinewidth": 0,
             "ticks": ""
            },
            "colorscale": [
             [
              0,
              "#0d0887"
             ],
             [
              0.1111111111111111,
              "#46039f"
             ],
             [
              0.2222222222222222,
              "#7201a8"
             ],
             [
              0.3333333333333333,
              "#9c179e"
             ],
             [
              0.4444444444444444,
              "#bd3786"
             ],
             [
              0.5555555555555556,
              "#d8576b"
             ],
             [
              0.6666666666666666,
              "#ed7953"
             ],
             [
              0.7777777777777778,
              "#fb9f3a"
             ],
             [
              0.8888888888888888,
              "#fdca26"
             ],
             [
              1,
              "#f0f921"
             ]
            ],
            "type": "heatmapgl"
           }
          ],
          "histogram": [
           {
            "marker": {
             "pattern": {
              "fillmode": "overlay",
              "size": 10,
              "solidity": 0.2
             }
            },
            "type": "histogram"
           }
          ],
          "histogram2d": [
           {
            "colorbar": {
             "outlinewidth": 0,
             "ticks": ""
            },
            "colorscale": [
             [
              0,
              "#0d0887"
             ],
             [
              0.1111111111111111,
              "#46039f"
             ],
             [
              0.2222222222222222,
              "#7201a8"
             ],
             [
              0.3333333333333333,
              "#9c179e"
             ],
             [
              0.4444444444444444,
              "#bd3786"
             ],
             [
              0.5555555555555556,
              "#d8576b"
             ],
             [
              0.6666666666666666,
              "#ed7953"
             ],
             [
              0.7777777777777778,
              "#fb9f3a"
             ],
             [
              0.8888888888888888,
              "#fdca26"
             ],
             [
              1,
              "#f0f921"
             ]
            ],
            "type": "histogram2d"
           }
          ],
          "histogram2dcontour": [
           {
            "colorbar": {
             "outlinewidth": 0,
             "ticks": ""
            },
            "colorscale": [
             [
              0,
              "#0d0887"
             ],
             [
              0.1111111111111111,
              "#46039f"
             ],
             [
              0.2222222222222222,
              "#7201a8"
             ],
             [
              0.3333333333333333,
              "#9c179e"
             ],
             [
              0.4444444444444444,
              "#bd3786"
             ],
             [
              0.5555555555555556,
              "#d8576b"
             ],
             [
              0.6666666666666666,
              "#ed7953"
             ],
             [
              0.7777777777777778,
              "#fb9f3a"
             ],
             [
              0.8888888888888888,
              "#fdca26"
             ],
             [
              1,
              "#f0f921"
             ]
            ],
            "type": "histogram2dcontour"
           }
          ],
          "mesh3d": [
           {
            "colorbar": {
             "outlinewidth": 0,
             "ticks": ""
            },
            "type": "mesh3d"
           }
          ],
          "parcoords": [
           {
            "line": {
             "colorbar": {
              "outlinewidth": 0,
              "ticks": ""
             }
            },
            "type": "parcoords"
           }
          ],
          "pie": [
           {
            "automargin": true,
            "type": "pie"
           }
          ],
          "scatter": [
           {
            "marker": {
             "colorbar": {
              "outlinewidth": 0,
              "ticks": ""
             }
            },
            "type": "scatter"
           }
          ],
          "scatter3d": [
           {
            "line": {
             "colorbar": {
              "outlinewidth": 0,
              "ticks": ""
             }
            },
            "marker": {
             "colorbar": {
              "outlinewidth": 0,
              "ticks": ""
             }
            },
            "type": "scatter3d"
           }
          ],
          "scattercarpet": [
           {
            "marker": {
             "colorbar": {
              "outlinewidth": 0,
              "ticks": ""
             }
            },
            "type": "scattercarpet"
           }
          ],
          "scattergeo": [
           {
            "marker": {
             "colorbar": {
              "outlinewidth": 0,
              "ticks": ""
             }
            },
            "type": "scattergeo"
           }
          ],
          "scattergl": [
           {
            "marker": {
             "colorbar": {
              "outlinewidth": 0,
              "ticks": ""
             }
            },
            "type": "scattergl"
           }
          ],
          "scattermapbox": [
           {
            "marker": {
             "colorbar": {
              "outlinewidth": 0,
              "ticks": ""
             }
            },
            "type": "scattermapbox"
           }
          ],
          "scatterpolar": [
           {
            "marker": {
             "colorbar": {
              "outlinewidth": 0,
              "ticks": ""
             }
            },
            "type": "scatterpolar"
           }
          ],
          "scatterpolargl": [
           {
            "marker": {
             "colorbar": {
              "outlinewidth": 0,
              "ticks": ""
             }
            },
            "type": "scatterpolargl"
           }
          ],
          "scatterternary": [
           {
            "marker": {
             "colorbar": {
              "outlinewidth": 0,
              "ticks": ""
             }
            },
            "type": "scatterternary"
           }
          ],
          "surface": [
           {
            "colorbar": {
             "outlinewidth": 0,
             "ticks": ""
            },
            "colorscale": [
             [
              0,
              "#0d0887"
             ],
             [
              0.1111111111111111,
              "#46039f"
             ],
             [
              0.2222222222222222,
              "#7201a8"
             ],
             [
              0.3333333333333333,
              "#9c179e"
             ],
             [
              0.4444444444444444,
              "#bd3786"
             ],
             [
              0.5555555555555556,
              "#d8576b"
             ],
             [
              0.6666666666666666,
              "#ed7953"
             ],
             [
              0.7777777777777778,
              "#fb9f3a"
             ],
             [
              0.8888888888888888,
              "#fdca26"
             ],
             [
              1,
              "#f0f921"
             ]
            ],
            "type": "surface"
           }
          ],
          "table": [
           {
            "cells": {
             "fill": {
              "color": "#EBF0F8"
             },
             "line": {
              "color": "white"
             }
            },
            "header": {
             "fill": {
              "color": "#C8D4E3"
             },
             "line": {
              "color": "white"
             }
            },
            "type": "table"
           }
          ]
         },
         "layout": {
          "annotationdefaults": {
           "arrowcolor": "#2a3f5f",
           "arrowhead": 0,
           "arrowwidth": 1
          },
          "autotypenumbers": "strict",
          "coloraxis": {
           "colorbar": {
            "outlinewidth": 0,
            "ticks": ""
           }
          },
          "colorscale": {
           "diverging": [
            [
             0,
             "#8e0152"
            ],
            [
             0.1,
             "#c51b7d"
            ],
            [
             0.2,
             "#de77ae"
            ],
            [
             0.3,
             "#f1b6da"
            ],
            [
             0.4,
             "#fde0ef"
            ],
            [
             0.5,
             "#f7f7f7"
            ],
            [
             0.6,
             "#e6f5d0"
            ],
            [
             0.7,
             "#b8e186"
            ],
            [
             0.8,
             "#7fbc41"
            ],
            [
             0.9,
             "#4d9221"
            ],
            [
             1,
             "#276419"
            ]
           ],
           "sequential": [
            [
             0,
             "#0d0887"
            ],
            [
             0.1111111111111111,
             "#46039f"
            ],
            [
             0.2222222222222222,
             "#7201a8"
            ],
            [
             0.3333333333333333,
             "#9c179e"
            ],
            [
             0.4444444444444444,
             "#bd3786"
            ],
            [
             0.5555555555555556,
             "#d8576b"
            ],
            [
             0.6666666666666666,
             "#ed7953"
            ],
            [
             0.7777777777777778,
             "#fb9f3a"
            ],
            [
             0.8888888888888888,
             "#fdca26"
            ],
            [
             1,
             "#f0f921"
            ]
           ],
           "sequentialminus": [
            [
             0,
             "#0d0887"
            ],
            [
             0.1111111111111111,
             "#46039f"
            ],
            [
             0.2222222222222222,
             "#7201a8"
            ],
            [
             0.3333333333333333,
             "#9c179e"
            ],
            [
             0.4444444444444444,
             "#bd3786"
            ],
            [
             0.5555555555555556,
             "#d8576b"
            ],
            [
             0.6666666666666666,
             "#ed7953"
            ],
            [
             0.7777777777777778,
             "#fb9f3a"
            ],
            [
             0.8888888888888888,
             "#fdca26"
            ],
            [
             1,
             "#f0f921"
            ]
           ]
          },
          "colorway": [
           "#636efa",
           "#EF553B",
           "#00cc96",
           "#ab63fa",
           "#FFA15A",
           "#19d3f3",
           "#FF6692",
           "#B6E880",
           "#FF97FF",
           "#FECB52"
          ],
          "font": {
           "color": "#2a3f5f"
          },
          "geo": {
           "bgcolor": "white",
           "lakecolor": "white",
           "landcolor": "#E5ECF6",
           "showlakes": true,
           "showland": true,
           "subunitcolor": "white"
          },
          "hoverlabel": {
           "align": "left"
          },
          "hovermode": "closest",
          "mapbox": {
           "style": "light"
          },
          "paper_bgcolor": "white",
          "plot_bgcolor": "#E5ECF6",
          "polar": {
           "angularaxis": {
            "gridcolor": "white",
            "linecolor": "white",
            "ticks": ""
           },
           "bgcolor": "#E5ECF6",
           "radialaxis": {
            "gridcolor": "white",
            "linecolor": "white",
            "ticks": ""
           }
          },
          "scene": {
           "xaxis": {
            "backgroundcolor": "#E5ECF6",
            "gridcolor": "white",
            "gridwidth": 2,
            "linecolor": "white",
            "showbackground": true,
            "ticks": "",
            "zerolinecolor": "white"
           },
           "yaxis": {
            "backgroundcolor": "#E5ECF6",
            "gridcolor": "white",
            "gridwidth": 2,
            "linecolor": "white",
            "showbackground": true,
            "ticks": "",
            "zerolinecolor": "white"
           },
           "zaxis": {
            "backgroundcolor": "#E5ECF6",
            "gridcolor": "white",
            "gridwidth": 2,
            "linecolor": "white",
            "showbackground": true,
            "ticks": "",
            "zerolinecolor": "white"
           }
          },
          "shapedefaults": {
           "line": {
            "color": "#2a3f5f"
           }
          },
          "ternary": {
           "aaxis": {
            "gridcolor": "white",
            "linecolor": "white",
            "ticks": ""
           },
           "baxis": {
            "gridcolor": "white",
            "linecolor": "white",
            "ticks": ""
           },
           "bgcolor": "#E5ECF6",
           "caxis": {
            "gridcolor": "white",
            "linecolor": "white",
            "ticks": ""
           }
          },
          "title": {
           "x": 0.05
          },
          "xaxis": {
           "automargin": true,
           "gridcolor": "white",
           "linecolor": "white",
           "ticks": "",
           "title": {
            "standoff": 15
           },
           "zerolinecolor": "white",
           "zerolinewidth": 2
          },
          "yaxis": {
           "automargin": true,
           "gridcolor": "white",
           "linecolor": "white",
           "ticks": "",
           "title": {
            "standoff": 15
           },
           "zerolinecolor": "white",
           "zerolinewidth": 2
          }
         }
        }
       }
      },
      "text/html": [
       "<div>                            <div id=\"93fb33c5-7ac6-4261-a9e1-9d720cb0f83a\" class=\"plotly-graph-div\" style=\"height:525px; width:100%;\"></div>            <script type=\"text/javascript\">                require([\"plotly\"], function(Plotly) {                    window.PLOTLYENV=window.PLOTLYENV || {};                                    if (document.getElementById(\"93fb33c5-7ac6-4261-a9e1-9d720cb0f83a\")) {                    Plotly.newPlot(                        \"93fb33c5-7ac6-4261-a9e1-9d720cb0f83a\",                        [{\"branchvalues\":\"total\",\"domain\":{\"x\":[0.0,1.0],\"y\":[0.0,1.0]},\"hovertemplate\":\"labels=%{label}<br>Clients=%{value}<br>parent=%{parent}<br>id=%{id}<extra></extra>\",\"ids\":[\"Adult Access for Dogs/Abdominal Cryptorchid add to neuter K9\",\"Junior Access for Dogs/Abdominal Cryptorchid add to neuter K9\",\"Adult Access for Dogs/Accuplex K9\",\"Junior Access for Dogs/Accuplex K9\",\"Senior Access for Dogs/Accuplex K9\",\"Adult Access for Dogs/Additonal Fecal exam\",\"Junior Access for Cats/Additonal Fecal exam\",\"Junior Access for Dogs/Additonal Fecal exam\",\"Adult Access for Cats/Adult Wellness Fel\",\"Adult Access for Dogs/Adult Wellness K9\",\"Adult Access Feline Canada/Advanced Labwork Canada\",\"Senior Access Canine Canada/Advanced Labwork Canada\",\"Senior Access Feline Canada/Advanced Labwork Canada\",\"Adult Access Canine Canada/Anal Sac Expression Canada\",\"Senior Access Canine Canada/Anal Sac Expression Canada\",\"Adult Access Canine Canada/Basic Labwork Canada\",\"Adult Access Feline Canada/Basic Labwork Canada\",\"Junior Access Canine Canada/Basic Labwork Canada\",\"Junior Access Feline Canada/Basic Labwork Canada\",\"Senior Access Canine Canada/Basic Labwork Canada\",\"Adult Access for Cats/Blood Pressure Fel\",\"Senior Access for Cats/Blood Pressure Fel\",\"Senior Access for Cats/Blood Pressure Fel.\",\"Senior Access for Dogs/Blood Pressure K9\",\"Adult Access for Dogs/Blood Pressure K9.\",\"Senior Access for Dogs/Blood Pressure K9.\",\"Adult Access for Dogs/Bordetella (Adult/Senior)\",\"Senior Access for Dogs/Bordetella (Adult/Senior)\",\"Junior Access for Dogs/Bordetella (puppy)\",\"Adult Access Canine Canada/Canine Adult Bordetella Vaccine\",\"Adult Paws Plus Dog Canada/Canine Adult Bordetella Vaccine\",\"Adult Paws Plus for Dogs/Canine Adult Bordetella Vaccine\",\"Adult Paws for Dog Canada/Canine Adult Bordetella Vaccine\",\"Adult Paws for Dogs/Canine Adult Bordetella Vaccine\",\"Senior Access Canine Canada/Canine Adult Bordetella Vaccine\",\"Senior Dog Plus for Canada/Canine Adult Bordetella Vaccine\",\"Senior Paws Dog for Canada/Canine Adult Bordetella Vaccine\",\"Senior Paws Plus for Dogs/Canine Adult Bordetella Vaccine\",\"Senior Paws for Dogs/Canine Adult Bordetella Vaccine\",\"Adult Paws Plus for Dogs/Canine Adult Combo Vaccine\",\"Adult Paws for Dogs/Canine Adult Combo Vaccine\",\"Senior Paws Plus for Dogs/Canine Adult Combo Vaccine\",\"Senior Paws for Dogs/Canine Adult Combo Vaccine\",\"Adult Access Canine Canada/Canine Adult Distemper/Parvo Combo Vaccine\",\"Adult Paws Plus Dog Canada/Canine Adult Distemper/Parvo Combo Vaccine\",\"Adult Paws Plus for Dogs/Canine Adult Distemper/Parvo Combo Vaccine\",\"Adult Paws for Dog Canada/Canine Adult Distemper/Parvo Combo Vaccine\",\"Adult Paws for Dogs/Canine Adult Distemper/Parvo Combo Vaccine\",\"Senior Access Canine Canada/Canine Adult Distemper/Parvo Combo Vaccine\",\"Senior Dog Plus for Canada/Canine Adult Distemper/Parvo Combo Vaccine\",\"Senior Paws Dog for Canada/Canine Adult Distemper/Parvo Combo Vaccine\",\"Senior Paws Plus for Dogs/Canine Adult Distemper/Parvo Combo Vaccine\",\"Senior Paws for Dogs/Canine Adult Distemper/Parvo Combo Vaccine\",\"Adult Access Canine Canada/Canine Adult Rabies Vaccine\",\"Adult Paws Plus Dog Canada/Canine Adult Rabies Vaccine\",\"Adult Paws Plus for Dogs/Canine Adult Rabies Vaccine\",\"Adult Paws for Dog Canada/Canine Adult Rabies Vaccine\",\"Adult Paws for Dogs/Canine Adult Rabies Vaccine\",\"Senior Access Canine Canada/Canine Adult Rabies Vaccine\",\"Senior Dog Plus for Canada/Canine Adult Rabies Vaccine\",\"Senior Paws Dog for Canada/Canine Adult Rabies Vaccine\",\"Senior Paws Plus for Dogs/Canine Adult Rabies Vaccine\",\"Senior Paws for Dogs/Canine Adult Rabies Vaccine\",\"Adult Paws Plus for Dogs/Canine Adult Wellness Labwork\",\"Adult Paws for Dogs/Canine Adult Wellness Labwork\",\"Adult Paws Plus Dog Canada/Canine Adult/Senior Wellness Labwork\",\"Adult Paws Plus for Dogs/Canine Adult/Senior Wellness Labwork\",\"Adult Paws for Dog Canada/Canine Adult/Senior Wellness Labwork\",\"Adult Paws for Dogs/Canine Adult/Senior Wellness Labwork\",\"Senior Dog Plus for Canada/Canine Adult/Senior Wellness Labwork\",\"Senior Paws Dog for Canada/Canine Adult/Senior Wellness Labwork\",\"Senior Paws Plus for Dogs/Canine Adult/Senior Wellness Labwork\",\"Senior Paws for Dogs/Canine Adult/Senior Wellness Labwork\",\"Junior Dog Plus Neuter Canada/Canine Complexity\",\"Junior Dogs Plus Spay Canada/Canine Complexity\",\"Junior Paws Plus Puppy Neuter/Canine Complexity\",\"Junior Paws Plus Puppy Spay/Canine Complexity\",\"Adult Paws Plus Dog Canada/Canine Dental\",\"Adult Paws Plus for Dogs/Canine Dental\",\"Senior Dog Plus for Canada/Canine Dental\",\"Senior Paws Plus for Dogs/Canine Dental\",\"Adult Paws Plus Dog Canada/Canine Dental Xray\",\"Adult Paws Plus for Dogs/Canine Dental Xray\",\"Senior Dog Plus for Canada/Canine Dental Xray\",\"Senior Paws Plus for Dogs/Canine Dental Xray\",\"Adult Paws Plus for Dogs/Canine Influenza Vaccine\",\"Adult Paws for Dogs/Canine Influenza Vaccine\",\"Junior Paws Plus Puppy Neuter/Canine Influenza Vaccine\",\"Junior Paws Plus Puppy Spay/Canine Influenza Vaccine\",\"Junior Paws for Dogs/Canine Influenza Vaccine\",\"Senior Paws Plus for Dogs/Canine Influenza Vaccine\",\"Senior Paws for Dogs/Canine Influenza Vaccine\",\"Adult Paws Plus for Dogs/Canine Influenza or Lyme Vaccine\",\"Adult Paws for Dogs/Canine Influenza or Lyme Vaccine\",\"Junior Paws Plus Puppy Neuter/Canine Influenza or Lyme Vaccine\",\"Junior Paws Plus Puppy Spay/Canine Influenza or Lyme Vaccine\",\"Junior Paws for Dogs/Canine Influenza or Lyme Vaccine\",\"Senior Paws Plus for Dogs/Canine Influenza or Lyme Vaccine\",\"Senior Paws for Dogs/Canine Influenza or Lyme Vaccine\",\"Adult Paws Plus Dog Canada/Canine Lepto Vaccine\",\"Adult Paws Plus for Dogs/Canine Lepto Vaccine\",\"Adult Paws for Dog Canada/Canine Lepto Vaccine\",\"Adult Paws for Dogs/Canine Lepto Vaccine\",\"Junior Dog Plus Neuter Canada/Canine Lepto Vaccine\",\"Junior Dogs Plus Spay Canada/Canine Lepto Vaccine\",\"Junior Paws Plus Puppy Neuter/Canine Lepto Vaccine\",\"Junior Paws Plus Puppy Spay/Canine Lepto Vaccine\",\"Junior Paws for Dogs/Canine Lepto Vaccine\",\"Junior Paws for Dogs Canada/Canine Lepto Vaccine\",\"Senior Dog Plus for Canada/Canine Lepto Vaccine\",\"Senior Paws Dog for Canada/Canine Lepto Vaccine\",\"Senior Paws Plus for Dogs/Canine Lepto Vaccine\",\"Senior Paws for Dogs/Canine Lepto Vaccine\",\"Adult Paws Plus for Dogs/Canine Leptospirosis Vaccine\",\"Adult Paws for Dogs/Canine Leptospirosis Vaccine\",\"Junior Paws Plus Puppy Neuter/Canine Leptospirosis Vaccine\",\"Junior Paws Plus Puppy Spay/Canine Leptospirosis Vaccine\",\"Junior Paws for Dogs/Canine Leptospirosis Vaccine\",\"Senior Paws Plus for Dogs/Canine Leptospirosis Vaccine\",\"Senior Paws for Dogs/Canine Leptospirosis Vaccine\",\"Junior Dog Plus Neuter Canada/Canine Neuter\",\"Junior Paws Plus Puppy Neuter/Canine Neuter\",\"Junior Paws Plus Puppy Neuter/Canine Pain Medication Dispensed\",\"Junior Paws Plus Puppy Spay/Canine Pain Medication Dispensed\",\"Junior Access Canine Canada/Canine Puppy Bordetella Vaccine\",\"Junior Dog Plus Neuter Canada/Canine Puppy Bordetella Vaccine\",\"Junior Dogs Plus Spay Canada/Canine Puppy Bordetella Vaccine\",\"Junior Paws Plus Puppy Neuter/Canine Puppy Bordetella Vaccine\",\"Junior Paws Plus Puppy Spay/Canine Puppy Bordetella Vaccine\",\"Junior Paws for Dogs/Canine Puppy Bordetella Vaccine\",\"Junior Paws for Dogs Canada/Canine Puppy Bordetella Vaccine\",\"Senior Paws Plus for Dogs/Canine Puppy Bordetella Vaccine\",\"Junior Paws Plus Puppy Neuter/Canine Puppy Combo Vaccine\",\"Junior Paws Plus Puppy Spay/Canine Puppy Combo Vaccine\",\"Junior Paws for Dogs/Canine Puppy Combo Vaccine\",\"Junior Access Canine Canada/Canine Puppy Distemper/Parvo Combo Vaccine\",\"Junior Dog Plus Neuter Canada/Canine Puppy Distemper/Parvo Combo Vaccine\",\"Junior Dogs Plus Spay Canada/Canine Puppy Distemper/Parvo Combo Vaccine\",\"Junior Paws Plus Puppy Neuter/Canine Puppy Distemper/Parvo Combo Vaccine\",\"Junior Paws Plus Puppy Spay/Canine Puppy Distemper/Parvo Combo Vaccine\",\"Junior Paws for Dogs/Canine Puppy Distemper/Parvo Combo Vaccine\",\"Junior Paws for Dogs Canada/Canine Puppy Distemper/Parvo Combo Vaccine\",\"Junior Access Canine Canada/Canine Puppy Rabies Vaccine\",\"Junior Dog Plus Neuter Canada/Canine Puppy Rabies Vaccine\",\"Junior Dogs Plus Spay Canada/Canine Puppy Rabies Vaccine\",\"Junior Paws Plus Puppy Neuter/Canine Puppy Rabies Vaccine\",\"Junior Paws Plus Puppy Spay/Canine Puppy Rabies Vaccine\",\"Junior Paws for Dogs/Canine Puppy Rabies Vaccine\",\"Junior Paws for Dogs Canada/Canine Puppy Rabies Vaccine\",\"Senior Paws Plus for Dogs/Canine Senior Wellness Labwork\",\"Senior Paws for Dogs/Canine Senior Wellness Labwork\",\"Junior Dogs Plus Spay Canada/Canine Spay\",\"Junior Paws Plus Puppy Spay/Canine Spay\",\"Senior Cat Plus for Canada/Canine/Feline Senior Blood Pressure\",\"Senior Dog Plus for Canada/Canine/Feline Senior Blood Pressure\",\"Senior Paws Dog for Canada/Canine/Feline Senior Blood Pressure\",\"Senior Paws Plus for Cats/Canine/Feline Senior Blood Pressure\",\"Senior Paws Plus for Dogs/Canine/Feline Senior Blood Pressure\",\"Senior Paws for Cats/Canine/Feline Senior Blood Pressure\",\"Senior Paws for Cats Canada/Canine/Feline Senior Blood Pressure\",\"Senior Paws for Dogs/Canine/Feline Senior Blood Pressure\",\"Senior Cat Plus for Canada/Canine/Feline Senior Radiographs\",\"Senior Dog Plus for Canada/Canine/Feline Senior Radiographs\",\"Senior Paws Dog for Canada/Canine/Feline Senior Radiographs\",\"Senior Paws Plus for Cats/Canine/Feline Senior Radiographs\",\"Senior Paws Plus for Dogs/Canine/Feline Senior Radiographs\",\"Senior Paws for Cats/Canine/Feline Senior Radiographs\",\"Senior Paws for Cats Canada/Canine/Feline Senior Radiographs\",\"Senior Paws for Dogs/Canine/Feline Senior Radiographs\",\"Adult Access Canine Canada/CareClub Checkup Exam\",\"Adult Access Feline Canada/CareClub Checkup Exam\",\"Adult Access for Cats/CareClub Checkup Exam\",\"Adult Access for Dogs/CareClub Checkup Exam\",\"Adult Essentials for Cats/CareClub Checkup Exam\",\"Adult Paws Plus Cat Canada/CareClub Checkup Exam\",\"Adult Paws Plus Dog Canada/CareClub Checkup Exam\",\"Adult Paws Plus for Cats/CareClub Checkup Exam\",\"Adult Paws Plus for Dogs/CareClub Checkup Exam\",\"Adult Paws for Cat Canada/CareClub Checkup Exam\",\"Adult Paws for Cats/CareClub Checkup Exam\",\"Adult Paws for Dog Canada/CareClub Checkup Exam\",\"Adult Paws for Dogs/CareClub Checkup Exam\",\"Adult Premier for Cats/CareClub Checkup Exam\",\"Junior Access Canine Canada/CareClub Checkup Exam\",\"Junior Access Feline Canada/CareClub Checkup Exam\",\"Junior Access for Cats/CareClub Checkup Exam\",\"Junior Access for Dogs/CareClub Checkup Exam\",\"Junior Cat Plus Spay Canada/CareClub Checkup Exam\",\"Junior Cats Plus Neuter Canada/CareClub Checkup Exam\",\"Junior Dog Plus Neuter Canada/CareClub Checkup Exam\",\"Junior Dogs Plus Spay Canada/CareClub Checkup Exam\",\"Junior Paws Plus Kitten Neuter/CareClub Checkup Exam\",\"Junior Paws Plus Kitten Spay/CareClub Checkup Exam\",\"Junior Paws Plus Puppy Neuter/CareClub Checkup Exam\",\"Junior Paws Plus Puppy Spay/CareClub Checkup Exam\",\"Junior Paws for Cats/CareClub Checkup Exam\",\"Junior Paws for Cats Canada/CareClub Checkup Exam\",\"Junior Paws for Dogs/CareClub Checkup Exam\",\"Junior Paws for Dogs Canada/CareClub Checkup Exam\",\"Senior Access Canine Canada/CareClub Checkup Exam\",\"Senior Access Feline Canada/CareClub Checkup Exam\",\"Senior Access for Cats/CareClub Checkup Exam\",\"Senior Access for Dogs/CareClub Checkup Exam\",\"Senior Cat Plus for Canada/CareClub Checkup Exam\",\"Senior Dog Plus for Canada/CareClub Checkup Exam\",\"Senior Paws Dog for Canada/CareClub Checkup Exam\",\"Senior Paws Plus for Cats/CareClub Checkup Exam\",\"Senior Paws Plus for Dogs/CareClub Checkup Exam\",\"Senior Paws for Cats/CareClub Checkup Exam\",\"Senior Paws for Cats Canada/CareClub Checkup Exam\",\"Senior Paws for Dogs/CareClub Checkup Exam\",\"Adult Access for Cats/Comprehensive Labwork Fel\",\"Senior Access for Cats/Comprehensive Labwork Fel\",\"Adult Access for Dogs/Comprehensive Labwork K9\",\"Senior Access for Dogs/Comprehensive Labwork K9\",\"Adult Access for Dogs/DHPP (DHLPP) (Adult/Senior)\",\"Senior Access for Dogs/DHPP (DHLPP) (Adult/Senior)\",\"Junior Access for Dogs/DHPP (DHLPP) Puppy\",\"Junior Access for Dogs/Deciduous teeth ADD add to neuter K9\",\"Junior Access for Dogs/Deciduous teeth ADD add to spay K9\",\"Adult Access Feline Canada/Dental Package Fe G\",\"Adult Access for Cats/Dental Package Fe G\",\"Adult Paws for Cats/Dental Package Fe G\",\"Senior Access Feline Canada/Dental Package Fe G\",\"Senior Access for Cats/Dental Package Fe G\",\"Senior Paws for Cats/Dental Package Fe G\",\"Adult Access Canine Canada/Dental Package K9 G\",\"Adult Access for Dogs/Dental Package K9 G\",\"Adult Paws for Dogs/Dental Package K9 G\",\"Senior Access Canine Canada/Dental Package K9 G\",\"Senior Access for Dogs/Dental Package K9 G\",\"Senior Paws for Dogs/Dental Package K9 G\",\"Adult Access Feline Canada/Dental Pain Management Fel\",\"Senior Access Feline Canada/Dental Pain Management Fel\",\"Junior Access for Cats/Deworm Fel\",\"Junior Access for Dogs/Deworm K9\",\"Junior Access Canine Canada/Deworming\",\"Junior Access Feline Canada/Deworming\",\"Junior Cat Plus Spay Canada/Deworming\",\"Junior Cats Plus Neuter Canada/Deworming\",\"Junior Dog Plus Neuter Canada/Deworming\",\"Junior Dogs Plus Spay Canada/Deworming\",\"Junior Paws Plus Kitten Neuter/Deworming\",\"Junior Paws Plus Kitten Spay/Deworming\",\"Junior Paws Plus Puppy Neuter/Deworming\",\"Junior Paws Plus Puppy Spay/Deworming\",\"Junior Paws for Cats/Deworming\",\"Junior Paws for Cats Canada/Deworming\",\"Junior Paws for Dogs/Deworming\",\"Junior Paws for Dogs Canada/Deworming\",\"Junior Cat Plus Spay Canada/Elective Block\",\"Junior Cats Plus Neuter Canada/Elective Block\",\"Junior Dog Plus Neuter Canada/Elective Block\",\"Junior Dogs Plus Spay Canada/Elective Block\",\"Junior Paws Plus Kitten Neuter/Elective Block\",\"Junior Paws Plus Kitten Spay/Elective Block\",\"Junior Paws Plus Puppy Neuter/Elective Block\",\"Junior Paws Plus Puppy Spay/Elective Block\",\"Junior Access Feline Canada/Elective Block Fel Neuter\",\"Adult Access Feline Canada/Elective Block Fel Spay\",\"Junior Access Feline Canada/Elective Block Fel Spay\",\"Adult Access Canine Canada/Elective Block K9 Neuter\",\"Junior Access Canine Canada/Elective Block K9 Neuter\",\"Adult Access Canine Canada/Elective Block'\",\"Junior Access Canine Canada/Elective Block'\",\"Adult Access Canine Canada/Elective Block.\",\"Junior Access Canine Canada/Elective Block.\",\"Adult Access for Cats/FVRCP (Adult/Senior)\",\"Senior Access for Cats/FVRCP (Adult/Senior)\",\"Junior Access for Cats/FVRCP (Kitten)\",\"Adult Access Feline Canada/FeLV (Adult/Senior)\",\"Adult Access for Cats/FeLV (Adult/Senior)\",\"Senior Access Feline Canada/FeLV (Adult/Senior)\",\"Senior Access for Cats/FeLV (Adult/Senior)\",\"Junior Access for Cats/FeLV (Kitten)\",\"Adult Access for Cats/FeLV / FIV test Fel\",\"Junior Access for Cats/FeLV / FIV test Fel\",\"Senior Access for Cats/FeLV / FIV test Fel\",\"Junior Paws Plus Kitten Neuter/FeLV/FIV Test\",\"Junior Paws Plus Kitten Spay/FeLV/FIV Test\",\"Junior Paws for Cats/FeLV/FIV Test\",\"Senior Access Feline Canada/FeLV/FIV Test Fel\",\"Adult Essentials for Cats/FeLV/FIV/Hwab\",\"Adult Premier for Cats/FeLV/FIV/Hwab\",\"Adult Access for Dogs/Fear Free codes,\",\"Senior Access for Dogs/Fear Free codes,\",\"Adult Access for Dogs/Fear free codes\",\"Senior Access for Dogs/Fear free codes\",\"Adult Access for Cats/Fear free codes Fel\",\"Senior Access for Cats/Fear free codes Fel\",\"Adult Access for Cats/Fear free codes Fel.\",\"Senior Access for Cats/Fear free codes Fel.\",\"Adult Access for Dogs/Fear free codes.\",\"Senior Access for Dogs/Fear free codes.\",\"Junior Access for Cats/Fecal Fel\",\"Adult Essentials for Cats/Fecal Test\",\"Adult Paws Plus for Cats/Fecal Test\",\"Adult Paws Plus for Dogs/Fecal Test\",\"Adult Paws for Cats/Fecal Test\",\"Adult Paws for Dogs/Fecal Test\",\"Adult Premier for Cats/Fecal Test\",\"Junior Paws Plus Kitten Neuter/Fecal Test\",\"Junior Paws Plus Kitten Spay/Fecal Test\",\"Junior Paws Plus Puppy Neuter/Fecal Test\",\"Junior Paws Plus Puppy Spay/Fecal Test\",\"Junior Paws for Cats/Fecal Test\",\"Junior Paws for Dogs/Fecal Test\",\"Senior Paws Plus for Cats/Fecal Test\",\"Senior Paws Plus for Dogs/Fecal Test\",\"Senior Paws for Cats/Fecal Test\",\"Senior Paws for Dogs/Fecal Test\",\"Adult Access for Cats/Fecal exam (O&P Giardia) Fel\",\"Senior Access for Cats/Fecal exam (O&P Giardia) Fel\",\"Adult Access for Dogs/Fecal exam (O&P Giardia) K9\",\"Senior Access for Dogs/Fecal exam (O&P Giardia) K9\",\"Junior Access for Dogs/Fecal k9\",\"Adult Access Canine Canada/Fecal/Parasite Test\",\"Adult Access Feline Canada/Fecal/Parasite Test\",\"Adult Paws Plus Cat Canada/Fecal/Parasite Test\",\"Adult Paws Plus Dog Canada/Fecal/Parasite Test\",\"Adult Paws Plus for Cats/Fecal/Parasite Test\",\"Adult Paws Plus for Dogs/Fecal/Parasite Test\",\"Adult Paws for Cat Canada/Fecal/Parasite Test\",\"Adult Paws for Cats/Fecal/Parasite Test\",\"Adult Paws for Dog Canada/Fecal/Parasite Test\",\"Adult Paws for Dogs/Fecal/Parasite Test\",\"Junior Access Canine Canada/Fecal/Parasite Test\",\"Junior Access Feline Canada/Fecal/Parasite Test\",\"Junior Cat Plus Spay Canada/Fecal/Parasite Test\",\"Junior Cats Plus Neuter Canada/Fecal/Parasite Test\",\"Junior Dog Plus Neuter Canada/Fecal/Parasite Test\",\"Junior Dogs Plus Spay Canada/Fecal/Parasite Test\",\"Junior Paws Plus Kitten Neuter/Fecal/Parasite Test\",\"Junior Paws Plus Kitten Spay/Fecal/Parasite Test\",\"Junior Paws Plus Puppy Neuter/Fecal/Parasite Test\",\"Junior Paws Plus Puppy Spay/Fecal/Parasite Test\",\"Junior Paws for Cats/Fecal/Parasite Test\",\"Junior Paws for Cats Canada/Fecal/Parasite Test\",\"Junior Paws for Dogs/Fecal/Parasite Test\",\"Junior Paws for Dogs Canada/Fecal/Parasite Test\",\"Senior Access Canine Canada/Fecal/Parasite Test\",\"Senior Access Feline Canada/Fecal/Parasite Test\",\"Senior Cat Plus for Canada/Fecal/Parasite Test\",\"Senior Dog Plus for Canada/Fecal/Parasite Test\",\"Senior Paws Dog for Canada/Fecal/Parasite Test\",\"Senior Paws Plus for Cats/Fecal/Parasite Test\",\"Senior Paws Plus for Dogs/Fecal/Parasite Test\",\"Senior Paws for Cats/Fecal/Parasite Test\",\"Senior Paws for Cats Canada/Fecal/Parasite Test\",\"Senior Paws for Dogs/Fecal/Parasite Test\",\"Adult Access Feline Canada/Feline Adult FVRCP Vaccine\",\"Adult Paws Plus Cat Canada/Feline Adult FVRCP Vaccine\",\"Adult Paws Plus for Cats/Feline Adult FVRCP Vaccine\",\"Adult Paws for Cat Canada/Feline Adult FVRCP Vaccine\",\"Adult Paws for Cats/Feline Adult FVRCP Vaccine\",\"Adult Premier for Cats/Feline Adult FVRCP Vaccine\",\"Senior Access Feline Canada/Feline Adult FVRCP Vaccine\",\"Senior Cat Plus for Canada/Feline Adult FVRCP Vaccine\",\"Senior Paws Plus for Cats/Feline Adult FVRCP Vaccine\",\"Senior Paws for Cats/Feline Adult FVRCP Vaccine\",\"Senior Paws for Cats Canada/Feline Adult FVRCP Vaccine\",\"Adult Paws Plus for Cats/Feline Adult FeLV Vaccine\",\"Adult Paws for Cats/Feline Adult FeLV Vaccine\",\"Adult Premier for Cats/Feline Adult FeLV Vaccine\",\"Senior Paws Plus for Cats/Feline Adult FeLV Vaccine\",\"Senior Paws for Cats/Feline Adult FeLV Vaccine\",\"Adult Access Feline Canada/Feline Adult Rabies Vaccine\",\"Adult Paws Plus Cat Canada/Feline Adult Rabies Vaccine\",\"Adult Paws Plus for Cats/Feline Adult Rabies Vaccine\",\"Adult Paws for Cat Canada/Feline Adult Rabies Vaccine\",\"Adult Paws for Cats/Feline Adult Rabies Vaccine\",\"Adult Premier for Cats/Feline Adult Rabies Vaccine\",\"Senior Access Feline Canada/Feline Adult Rabies Vaccine\",\"Senior Cat Plus for Canada/Feline Adult Rabies Vaccine\",\"Senior Paws Plus for Cats/Feline Adult Rabies Vaccine\",\"Senior Paws for Cats/Feline Adult Rabies Vaccine\",\"Senior Paws for Cats Canada/Feline Adult Rabies Vaccine\",\"Adult Essentials for Cats/Feline Adult Wellness Labwork\",\"Adult Paws Plus for Cats/Feline Adult Wellness Labwork\",\"Adult Paws for Cats/Feline Adult Wellness Labwork\",\"Adult Paws Plus for Cats/Feline Adult Wellness Panel\",\"Adult Premier for Cats/Feline Adult Wellness Panel\",\"Adult Paws Plus Cat Canada/Feline Adult/Senior Wellness Labwork\",\"Adult Paws Plus for Cats/Feline Adult/Senior Wellness Labwork\",\"Adult Paws for Cat Canada/Feline Adult/Senior Wellness Labwork\",\"Adult Paws for Cats/Feline Adult/Senior Wellness Labwork\",\"Senior Cat Plus for Canada/Feline Adult/Senior Wellness Labwork\",\"Senior Paws Plus for Cats/Feline Adult/Senior Wellness Labwork\",\"Senior Paws for Cats/Feline Adult/Senior Wellness Labwork\",\"Senior Paws for Cats Canada/Feline Adult/Senior Wellness Labwork\",\"Junior Cat Plus Spay Canada/Feline Complexity\",\"Junior Cats Plus Neuter Canada/Feline Complexity\",\"Junior Paws Plus Kitten Neuter/Feline Complexity\",\"Junior Paws Plus Kitten Spay/Feline Complexity\",\"Adult Paws Plus Cat Canada/Feline Dental\",\"Adult Paws Plus for Cats/Feline Dental\",\"Senior Cat Plus for Canada/Feline Dental\",\"Senior Paws Plus for Cats/Feline Dental\",\"Adult Paws Plus Cat Canada/Feline Dental Xray\",\"Adult Paws Plus for Cats/Feline Dental Xray\",\"Senior Cat Plus for Canada/Feline Dental Xray\",\"Senior Paws Plus for Cats/Feline Dental Xray\",\"Junior Access Feline Canada/Feline Kitten FVRCP Vaccine\",\"Junior Cat Plus Spay Canada/Feline Kitten FVRCP Vaccine\",\"Junior Cats Plus Neuter Canada/Feline Kitten FVRCP Vaccine\",\"Junior Paws Plus Kitten Neuter/Feline Kitten FVRCP Vaccine\",\"Junior Paws Plus Kitten Spay/Feline Kitten FVRCP Vaccine\",\"Junior Paws for Cats/Feline Kitten FVRCP Vaccine\",\"Junior Paws for Cats Canada/Feline Kitten FVRCP Vaccine\",\"Junior Access Feline Canada/Feline Kitten FeLV Vaccine\",\"Junior Cat Plus Spay Canada/Feline Kitten FeLV Vaccine\",\"Junior Cats Plus Neuter Canada/Feline Kitten FeLV Vaccine\",\"Junior Paws Plus Kitten Neuter/Feline Kitten FeLV Vaccine\",\"Junior Paws Plus Kitten Spay/Feline Kitten FeLV Vaccine\",\"Junior Paws for Cats/Feline Kitten FeLV Vaccine\",\"Junior Paws for Cats Canada/Feline Kitten FeLV Vaccine\",\"Junior Access Feline Canada/Feline Kitten Labwork\",\"Junior Cat Plus Spay Canada/Feline Kitten Labwork\",\"Junior Cats Plus Neuter Canada/Feline Kitten Labwork\",\"Junior Paws Plus Kitten Neuter/Feline Kitten Labwork\",\"Junior Paws Plus Kitten Spay/Feline Kitten Labwork\",\"Junior Paws for Cats/Feline Kitten Labwork\",\"Junior Paws for Cats Canada/Feline Kitten Labwork\",\"Junior Access Feline Canada/Feline Kitten Rabies Vaccine\",\"Junior Cat Plus Spay Canada/Feline Kitten Rabies Vaccine\",\"Junior Cats Plus Neuter Canada/Feline Kitten Rabies Vaccine\",\"Junior Paws Plus Kitten Neuter/Feline Kitten Rabies Vaccine\",\"Junior Paws Plus Kitten Spay/Feline Kitten Rabies Vaccine\",\"Junior Paws for Cats/Feline Kitten Rabies Vaccine\",\"Junior Paws for Cats Canada/Feline Kitten Rabies Vaccine\",\"Adult Access for Cats/Feline Neuter\",\"Adult Paws for Cats/Feline Neuter\",\"Junior Access Feline Canada/Feline Neuter\",\"Junior Access for Cats/Feline Neuter\",\"Junior Cats Plus Neuter Canada/Feline Neuter\",\"Junior Paws Plus Kitten Neuter/Feline Neuter\",\"Junior Paws for Cats/Feline Neuter\",\"Junior Paws Plus Kitten Neuter/Feline Pain Medication Dispensed\",\"Junior Paws Plus Kitten Spay/Feline Pain Medication Dispensed\",\"Adult Premier for Cats/Feline Parasiticide\",\"Senior Paws Plus for Cats/Feline Senior Wellness Labwork\",\"Senior Paws for Cats/Feline Senior Wellness Labwork\",\"Junior Cat Plus Spay Canada/Feline Spay\",\"Junior Paws Plus Kitten Spay/Feline Spay\",\"Adult Access Feline Canada/Feline Spay.\",\"Adult Access for Cats/Feline Spay.\",\"Adult Paws for Cats/Feline Spay.\",\"Junior Access Feline Canada/Feline Spay.\",\"Junior Access for Cats/Feline Spay.\",\"Junior Paws for Cats/Feline Spay.\",\"Junior Access Canine Canada/Female Spay Complexity K9 Canada\",\"Junior Access for Dogs/Gastropexy + Anesth Neuter (Elective) ADD K9\",\"Adult Access for Dogs/Gastropexy + Anesth Spay (Elective) ADD K9\",\"Junior Access for Dogs/Gastropexy + Anesth Spay (Elective) ADD K9\",\"Adult Access for Dogs/Heartworm K9\",\"Junior Access for Dogs/Heartworm K9\",\"Senior Access for Dogs/Heartworm K9\",\"Adult Paws Plus Dog Canada/Heartworm/Tick Disease Test\",\"Adult Paws Plus for Dogs/Heartworm/Tick Disease Test\",\"Adult Paws for Dog Canada/Heartworm/Tick Disease Test\",\"Adult Paws for Dogs/Heartworm/Tick Disease Test\",\"Junior Dog Plus Neuter Canada/Heartworm/Tick Disease Test\",\"Junior Dogs Plus Spay Canada/Heartworm/Tick Disease Test\",\"Junior Paws Plus Puppy Neuter/Heartworm/Tick Disease Test\",\"Junior Paws Plus Puppy Spay/Heartworm/Tick Disease Test\",\"Junior Paws for Dogs/Heartworm/Tick Disease Test\",\"Junior Paws for Dogs Canada/Heartworm/Tick Disease Test\",\"Senior Dog Plus for Canada/Heartworm/Tick Disease Test\",\"Senior Paws Dog for Canada/Heartworm/Tick Disease Test\",\"Senior Paws Plus for Dogs/Heartworm/Tick Disease Test\",\"Senior Paws for Dogs/Heartworm/Tick Disease Test\",\"Adult Access for Cats/HomeAgain Service\",\"Adult Access for Dogs/HomeAgain Service\",\"Adult Essentials for Cats/HomeAgain Service\",\"Adult Paws Plus for Cats/HomeAgain Service\",\"Adult Paws Plus for Dogs/HomeAgain Service\",\"Adult Paws for Cats/HomeAgain Service\",\"Adult Paws for Dogs/HomeAgain Service\",\"Adult Premier for Cats/HomeAgain Service\",\"Junior Access for Cats/HomeAgain Service\",\"Junior Access for Dogs/HomeAgain Service\",\"Junior Paws Plus Kitten Neuter/HomeAgain Service\",\"Junior Paws Plus Kitten Spay/HomeAgain Service\",\"Junior Paws Plus Puppy Neuter/HomeAgain Service\",\"Junior Paws Plus Puppy Spay/HomeAgain Service\",\"Junior Paws for Cats/HomeAgain Service\",\"Junior Paws for Dogs/HomeAgain Service\",\"Senior Access for Cats/HomeAgain Service\",\"Senior Access for Dogs/HomeAgain Service\",\"Senior Paws Plus for Cats/HomeAgain Service\",\"Senior Paws Plus for Dogs/HomeAgain Service\",\"Senior Paws for Cats/HomeAgain Service\",\"Senior Paws for Dogs/HomeAgain Service\",\"Adult Access for Dogs/IV Catheter Sedation\",\"Senior Access for Dogs/IV Catheter Sedation\",\"Adult Access for Cats/IV Catheter Sedation Fel\",\"Senior Access for Cats/IV Catheter Sedation Fel\",\"Adult Access for Cats/IV Catheter Sedation Fel.\",\"Senior Access for Cats/IV Catheter Sedation Fel.\",\"Adult Access for Dogs/IV Catheter Sedation,\",\"Senior Access for Dogs/IV Catheter Sedation,\",\"Adult Access for Dogs/IV Catheter Sedation.\",\"Senior Access for Dogs/IV Catheter Sedation.\",\"Adult Access for Dogs/Influenza\",\"Junior Access for Dogs/Influenza\",\"Senior Access for Dogs/Influenza\",\"Adult Access Canine Canada/K9 Neuter\",\"Adult Access for Dogs/K9 Neuter\",\"Adult Paws for Dogs/K9 Neuter\",\"Junior Access Canine Canada/K9 Neuter\",\"Junior Access for Dogs/K9 Neuter\",\"Junior Paws for Dogs/K9 Neuter\",\"Adult Access Canine Canada/K9 Spay\",\"Adult Access for Dogs/K9 Spay\",\"Adult Paws for Dogs/K9 Spay\",\"Junior Access Canine Canada/K9 Spay\",\"Junior Access for Dogs/K9 Spay\",\"Junior Paws for Dogs/K9 Spay\",\"Adult Access Canine Canada/K9 Spay.\",\"Adult Access for Dogs/K9 Spay.\",\"Adult Paws for Dogs/K9 Spay.\",\"Junior Access Canine Canada/K9 Spay.\",\"Junior Access for Dogs/K9 Spay.\",\"Junior Paws for Dogs/K9 Spay.\",\"Adult Access for Dogs/Lepto (Adult/Senior)\",\"Senior Access for Dogs/Lepto (Adult/Senior)\",\"Junior Access for Dogs/Lepto (Puppy)\",\"Adult Access for Dogs/Lyme\",\"Senior Access for Dogs/Lyme\",\"Junior Access Canine Canada/Lyme (Puppy)\",\"Junior Access for Dogs/Lyme (Puppy)\",\"Junior Access Feline Canada/Male Neuter Complexity Fel Canada\",\"Junior Access Canine Canada/Male Neuter Complexity K9 Canada\",\"Junior Cat Plus Spay Canada/Microchip Service\",\"Junior Cats Plus Neuter Canada/Microchip Service\",\"Junior Dog Plus Neuter Canada/Microchip Service\",\"Junior Dogs Plus Spay Canada/Microchip Service\",\"Junior Paws Plus Kitten Neuter/Microchip Service\",\"Junior Paws Plus Kitten Spay/Microchip Service\",\"Junior Paws Plus Puppy Neuter/Microchip Service\",\"Junior Paws Plus Puppy Spay/Microchip Service\",\"Junior Paws for Cats/Microchip Service\",\"Junior Paws for Cats Canada/Microchip Service\",\"Junior Paws for Dogs/Microchip Service\",\"Junior Paws for Dogs Canada/Microchip Service\",\"Adult Access Canine Canada/Microchip Service Canada\",\"Junior Access Canine Canada/Microchip Service Canada\",\"Junior Access Feline Canada/Microchip Service Canada\",\"Adult Access for Dogs/NSAIDS dispensing code K9 Neuter\",\"Adult Paws for Dogs/NSAIDS dispensing code K9 Neuter\",\"Junior Access for Dogs/NSAIDS dispensing code K9 Neuter\",\"Junior Paws for Dogs/NSAIDS dispensing code K9 Neuter\",\"Adult Access for Dogs/NSAIDS dispensing code K9 Spay\",\"Adult Paws for Dogs/NSAIDS dispensing code K9 Spay\",\"Junior Access for Dogs/NSAIDS dispensing code K9 Spay\",\"Junior Paws for Dogs/NSAIDS dispensing code K9 Spay\",\"Adult Access for Dogs/NSAIDS dispensing code K9 Spay.\",\"Adult Paws for Dogs/NSAIDS dispensing code K9 Spay.\",\"Junior Access for Dogs/NSAIDS dispensing code K9 Spay.\",\"Junior Paws for Dogs/NSAIDS dispensing code K9 Spay.\",\"Adult Access Canine Canada/Nail Trim\",\"Adult Access Feline Canada/Nail Trim\",\"Adult Paws Plus Cat Canada/Nail Trim\",\"Adult Paws Plus Dog Canada/Nail Trim\",\"Adult Paws Plus for Cats/Nail Trim\",\"Adult Paws Plus for Dogs/Nail Trim\",\"Adult Paws for Cat Canada/Nail Trim\",\"Adult Paws for Cats/Nail Trim\",\"Adult Paws for Dog Canada/Nail Trim\",\"Adult Paws for Dogs/Nail Trim\",\"Junior Access Canine Canada/Nail Trim\",\"Junior Access Feline Canada/Nail Trim\",\"Junior Cat Plus Spay Canada/Nail Trim\",\"Junior Cats Plus Neuter Canada/Nail Trim\",\"Junior Dog Plus Neuter Canada/Nail Trim\",\"Junior Dogs Plus Spay Canada/Nail Trim\",\"Junior Paws Plus Kitten Neuter/Nail Trim\",\"Junior Paws Plus Kitten Spay/Nail Trim\",\"Junior Paws Plus Puppy Neuter/Nail Trim\",\"Junior Paws Plus Puppy Spay/Nail Trim\",\"Junior Paws for Cats/Nail Trim\",\"Junior Paws for Cats Canada/Nail Trim\",\"Junior Paws for Dogs/Nail Trim\",\"Junior Paws for Dogs Canada/Nail Trim\",\"Senior Access Canine Canada/Nail Trim\",\"Senior Access Feline Canada/Nail Trim\",\"Senior Cat Plus for Canada/Nail Trim\",\"Senior Dog Plus for Canada/Nail Trim\",\"Senior Paws Dog for Canada/Nail Trim\",\"Senior Paws Plus for Cats/Nail Trim\",\"Senior Paws Plus for Dogs/Nail Trim\",\"Senior Paws for Cats/Nail Trim\",\"Senior Paws for Cats Canada/Nail Trim\",\"Senior Paws for Dogs/Nail Trim\",\"Adult Access for Cats/Nail trim Fel\",\"Junior Access for Cats/Nail trim Fel\",\"Adult Access for Dogs/Nail trim K9\",\"Junior Access for Dogs/Nail trim K9\",\"Senior Access for Dogs/Nail trim K9\",\"Adult Access for Cats/Pain Management Disp Fel Neuter\",\"Adult Paws for Cats/Pain Management Disp Fel Neuter\",\"Junior Access for Cats/Pain Management Disp Fel Neuter\",\"Junior Paws for Cats/Pain Management Disp Fel Neuter\",\"Adult Access for Cats/Pain Management Disp Fel Spay\",\"Adult Paws for Cats/Pain Management Disp Fel Spay\",\"Junior Access for Cats/Pain Management Disp Fel Spay\",\"Junior Paws for Cats/Pain Management Disp Fel Spay\",\"Adult Access Canine Canada/Pain Managment K9 Dental\",\"Senior Access Canine Canada/Pain Managment K9 Dental\",\"Adult Access for Cats/Pre-Operative Panels Fel Neuter\",\"Adult Paws for Cats/Pre-Operative Panels Fel Neuter\",\"Junior Access for Cats/Pre-Operative Panels Fel Neuter\",\"Junior Paws for Cats/Pre-Operative Panels Fel Neuter\",\"Adult Access for Cats/Pre-Operative Panels Fel Spay\",\"Adult Paws for Cats/Pre-Operative Panels Fel Spay\",\"Junior Access for Cats/Pre-Operative Panels Fel Spay\",\"Junior Paws for Cats/Pre-Operative Panels Fel Spay\",\"Adult Access for Dogs/Pre-Operative Panels K9 Neuter\",\"Adult Paws for Dogs/Pre-Operative Panels K9 Neuter\",\"Junior Access for Dogs/Pre-Operative Panels K9 Neuter\",\"Junior Paws for Dogs/Pre-Operative Panels K9 Neuter\",\"Adult Access for Dogs/Pre-Operative Panels K9 Spay\",\"Adult Paws for Dogs/Pre-Operative Panels K9 Spay\",\"Junior Access for Dogs/Pre-Operative Panels K9 Spay\",\"Junior Paws for Dogs/Pre-Operative Panels K9 Spay\",\"Adult Access for Dogs/Pre-Operative Panels K9 Spay.\",\"Adult Paws for Dogs/Pre-Operative Panels K9 Spay.\",\"Junior Access for Dogs/Pre-Operative Panels K9 Spay.\",\"Junior Paws for Dogs/Pre-Operative Panels K9 Spay.\",\"Junior Paws Plus Kitten Neuter/PreOp Bloodwork (Spay/Neuter)\",\"Junior Paws Plus Kitten Spay/PreOp Bloodwork (Spay/Neuter)\",\"Junior Paws Plus Puppy Neuter/PreOp Bloodwork (Spay/Neuter)\",\"Junior Paws Plus Puppy Spay/PreOp Bloodwork (Spay/Neuter)\",\"Junior Cat Plus Spay Canada/PreOp Labwork (Spay/Neuter)\",\"Junior Cats Plus Neuter Canada/PreOp Labwork (Spay/Neuter)\",\"Junior Dog Plus Neuter Canada/PreOp Labwork (Spay/Neuter)\",\"Junior Dogs Plus Spay Canada/PreOp Labwork (Spay/Neuter)\",\"Junior Paws Plus Kitten Neuter/PreOp Labwork (Spay/Neuter)\",\"Junior Paws Plus Kitten Spay/PreOp Labwork (Spay/Neuter)\",\"Junior Paws Plus Puppy Neuter/PreOp Labwork (Spay/Neuter)\",\"Junior Paws Plus Puppy Spay/PreOp Labwork (Spay/Neuter)\",\"Adult Access Canine Canada/PreOp Labwork Canada\",\"Adult Access Feline Canada/PreOp Labwork Canada\",\"Junior Access Canine Canada/PreOp Labwork Canada\",\"Junior Access Feline Canada/PreOp Labwork Canada\",\"Senior Access Canine Canada/PreOp Labwork Canada\",\"Junior Paws Plus Kitten Neuter/Protective Collar\",\"Junior Paws Plus Kitten Spay/Protective Collar\",\"Junior Paws Plus Puppy Neuter/Protective Collar\",\"Junior Paws Plus Puppy Spay/Protective Collar\",\"Adult Access for Cats/Protective Collars Fel Neuter\",\"Adult Paws for Cats/Protective Collars Fel Neuter\",\"Junior Access for Cats/Protective Collars Fel Neuter\",\"Junior Paws for Cats/Protective Collars Fel Neuter\",\"Adult Access for Cats/Protective Collars Fel Spay\",\"Adult Paws for Cats/Protective Collars Fel Spay\",\"Junior Access for Cats/Protective Collars Fel Spay\",\"Junior Paws for Cats/Protective Collars Fel Spay\",\"Adult Access for Dogs/Protective Collars K9 Neuter\",\"Adult Paws for Dogs/Protective Collars K9 Neuter\",\"Junior Access for Dogs/Protective Collars K9 Neuter\",\"Junior Paws for Dogs/Protective Collars K9 Neuter\",\"Adult Access for Dogs/Protective Collars K9 Spay\",\"Adult Paws for Dogs/Protective Collars K9 Spay\",\"Junior Access for Dogs/Protective Collars K9 Spay\",\"Junior Paws for Dogs/Protective Collars K9 Spay\",\"Adult Access for Dogs/Protective Collars list K9 Spay.\",\"Adult Paws for Dogs/Protective Collars list K9 Spay.\",\"Junior Access for Dogs/Protective Collars list K9 Spay.\",\"Junior Paws for Dogs/Protective Collars list K9 Spay.\",\"Junior Access Canine Canada/Puppy/Kitten 1st Exam\",\"Junior Access Feline Canada/Puppy/Kitten 1st Exam\",\"Junior Access for Cats/Puppy/Kitten 1st Exam\",\"Junior Access for Dogs/Puppy/Kitten 1st Exam\",\"Junior Cat Plus Spay Canada/Puppy/Kitten 1st Exam\",\"Junior Cats Plus Neuter Canada/Puppy/Kitten 1st Exam\",\"Junior Dog Plus Neuter Canada/Puppy/Kitten 1st Exam\",\"Junior Dogs Plus Spay Canada/Puppy/Kitten 1st Exam\",\"Junior Paws Plus Kitten Neuter/Puppy/Kitten 1st Exam\",\"Junior Paws Plus Kitten Spay/Puppy/Kitten 1st Exam\",\"Junior Paws Plus Puppy Neuter/Puppy/Kitten 1st Exam\",\"Junior Paws Plus Puppy Spay/Puppy/Kitten 1st Exam\",\"Junior Paws for Cats/Puppy/Kitten 1st Exam\",\"Junior Paws for Cats Canada/Puppy/Kitten 1st Exam\",\"Junior Paws for Dogs/Puppy/Kitten 1st Exam\",\"Junior Paws for Dogs Canada/Puppy/Kitten 1st Exam\",\"Junior Access Canine Canada/Puppy/Kitten Recheck Exam\",\"Junior Access Feline Canada/Puppy/Kitten Recheck Exam\",\"Junior Access for Cats/Puppy/Kitten Recheck Exam\",\"Junior Access for Dogs/Puppy/Kitten Recheck Exam\",\"Junior Cat Plus Spay Canada/Puppy/Kitten Recheck Exam\",\"Junior Cats Plus Neuter Canada/Puppy/Kitten Recheck Exam\",\"Junior Dog Plus Neuter Canada/Puppy/Kitten Recheck Exam\",\"Junior Dogs Plus Spay Canada/Puppy/Kitten Recheck Exam\",\"Junior Paws Plus Kitten Neuter/Puppy/Kitten Recheck Exam\",\"Junior Paws Plus Kitten Spay/Puppy/Kitten Recheck Exam\",\"Junior Paws Plus Puppy Neuter/Puppy/Kitten Recheck Exam\",\"Junior Paws Plus Puppy Spay/Puppy/Kitten Recheck Exam\",\"Junior Paws for Cats/Puppy/Kitten Recheck Exam\",\"Junior Paws for Cats Canada/Puppy/Kitten Recheck Exam\",\"Junior Paws for Dogs/Puppy/Kitten Recheck Exam\",\"Junior Paws for Dogs Canada/Puppy/Kitten Recheck Exam\",\"Adult Access for Dogs/RAD CareClub Abdomen/Thorax Study\",\"Senior Access for Dogs/RAD CareClub Abdomen/Thorax Study\",\"Adult Access for Cats/RAD CareClub Abdomen/Thorax Study Fel\",\"Senior Access for Cats/RAD CareClub Abdomen/Thorax Study Fel\",\"Adult Access for Dogs/RAD CareClub Abdomen/Thorax Study,\",\"Senior Access for Dogs/RAD CareClub Abdomen/Thorax Study,\",\"Adult Access Feline Canada/RAD Full Mouth Dental Xray Feline\",\"Adult Access for Cats/RAD Full Mouth Dental Xray Feline\",\"Adult Paws for Cats/RAD Full Mouth Dental Xray Feline\",\"Senior Access Feline Canada/RAD Full Mouth Dental Xray Feline\",\"Senior Access for Cats/RAD Full Mouth Dental Xray Feline\",\"Senior Paws for Cats/RAD Full Mouth Dental Xray Feline\",\"Adult Access Canine Canada/RAD Full Mouth Dental Xray K9.\",\"Adult Access for Dogs/RAD Full Mouth Dental Xray K9.\",\"Adult Paws for Dogs/RAD Full Mouth Dental Xray K9.\",\"Senior Access Canine Canada/RAD Full Mouth Dental Xray K9.\",\"Senior Access for Dogs/RAD Full Mouth Dental Xray K9.\",\"Senior Paws for Dogs/RAD Full Mouth Dental Xray K9.\",\"Adult Access for Cats/Rabies (1 year)\",\"Junior Access for Cats/Rabies (1 year)\",\"Senior Access for Cats/Rabies (1 year)\",\"Adult Access for Cats/Rabies (3 year)\",\"Senior Access for Cats/Rabies (3 year)\",\"Adult Access for Dogs/Rabies (Adult/Senior)\",\"Senior Access for Dogs/Rabies (Adult/Senior)\",\"Junior Access for Dogs/Rabies (Puppy)\",\"Adult Access for Dogs/Rattlesnake booster\",\"Junior Access for Dogs/Rattlesnake booster\",\"Adult Access for Dogs/Rattlesnake starter\",\"Junior Access for Dogs/Rattlesnake starter\",\"Adult Access for Dogs/Sedation Radiology\",\"Senior Access for Dogs/Sedation Radiology\",\"Adult Access for Cats/Sedation Radiology Fel\",\"Senior Access for Cats/Sedation Radiology Fel\",\"Adult Access for Cats/Sedation Radiology Fel.\",\"Senior Access for Cats/Sedation Radiology Fel.\",\"Adult Access for Dogs/Sedation Radiology,\",\"Senior Access for Dogs/Sedation Radiology,\",\"Adult Access for Dogs/Sedation Radiology.\",\"Senior Access for Dogs/Sedation Radiology.\",\"Senior Access for Cats/Senior Lab Panel Fel\",\"Senior Access for Dogs/Senior Lab Panel K9\",\"Adult Access Canine Canada/Service Rounding Adjustment\",\"Adult Access Feline Canada/Service Rounding Adjustment\",\"Adult Access for Cats/Service Rounding Adjustment\",\"Adult Access for Dogs/Service Rounding Adjustment\",\"Adult Essentials for Cats/Service Rounding Adjustment\",\"Adult Paws Plus Cat Canada/Service Rounding Adjustment\",\"Adult Paws Plus Dog Canada/Service Rounding Adjustment\",\"Adult Paws Plus for Cats/Service Rounding Adjustment\",\"Adult Paws Plus for Dogs/Service Rounding Adjustment\",\"Adult Paws for Cat Canada/Service Rounding Adjustment\",\"Adult Paws for Cats/Service Rounding Adjustment\",\"Adult Paws for Dog Canada/Service Rounding Adjustment\",\"Adult Paws for Dogs/Service Rounding Adjustment\",\"Adult Premier for Cats/Service Rounding Adjustment\",\"Junior Access Canine Canada/Service Rounding Adjustment\",\"Junior Access Feline Canada/Service Rounding Adjustment\",\"Junior Access for Cats/Service Rounding Adjustment\",\"Junior Access for Dogs/Service Rounding Adjustment\",\"Junior Cat Plus Spay Canada/Service Rounding Adjustment\",\"Junior Cats Plus Neuter Canada/Service Rounding Adjustment\",\"Junior Dog Plus Neuter Canada/Service Rounding Adjustment\",\"Junior Dogs Plus Spay Canada/Service Rounding Adjustment\",\"Junior Paws Plus Kitten Neuter/Service Rounding Adjustment\",\"Junior Paws Plus Kitten Spay/Service Rounding Adjustment\",\"Junior Paws Plus Puppy Neuter/Service Rounding Adjustment\",\"Junior Paws Plus Puppy Spay/Service Rounding Adjustment\",\"Junior Paws for Cats/Service Rounding Adjustment\",\"Junior Paws for Cats Canada/Service Rounding Adjustment\",\"Junior Paws for Dogs/Service Rounding Adjustment\",\"Junior Paws for Dogs Canada/Service Rounding Adjustment\",\"Senior Access Canine Canada/Service Rounding Adjustment\",\"Senior Access Feline Canada/Service Rounding Adjustment\",\"Senior Access for Cats/Service Rounding Adjustment\",\"Senior Access for Dogs/Service Rounding Adjustment\",\"Senior Cat Plus for Canada/Service Rounding Adjustment\",\"Senior Dog Plus for Canada/Service Rounding Adjustment\",\"Senior Paws Dog for Canada/Service Rounding Adjustment\",\"Senior Paws Plus for Cats/Service Rounding Adjustment\",\"Senior Paws Plus for Dogs/Service Rounding Adjustment\",\"Senior Paws for Cats/Service Rounding Adjustment\",\"Senior Paws for Cats Canada/Service Rounding Adjustment\",\"Senior Paws for Dogs/Service Rounding Adjustment\",\"Adult Access for Cats/Single region Studies Fel.\",\"Senior Access for Cats/Single region Studies Fel.\",\"Adult Access for Dogs/Single region Studies.\",\"Senior Access for Dogs/Single region Studies.\",\"Adult Paws Plus Cat Canada/Surgical Pain Management\",\"Adult Paws Plus Dog Canada/Surgical Pain Management\",\"Adult Paws Plus for Cats/Surgical Pain Management\",\"Adult Paws Plus for Dogs/Surgical Pain Management\",\"Senior Cat Plus for Canada/Surgical Pain Management\",\"Senior Dog Plus for Canada/Surgical Pain Management\",\"Senior Paws Plus for Cats/Surgical Pain Management\",\"Senior Paws Plus for Dogs/Surgical Pain Management\",\"Senior Access for Dogs/UPC K9\",\"Junior Access for Dogs/Umbilical hernia ADD add to spay\",\"Adult Access Canine Canada/Wellness Exam\",\"Adult Access Feline Canada/Wellness Exam\",\"Adult Access for Cats/Wellness Exam\",\"Adult Access for Dogs/Wellness Exam\",\"Adult Essentials for Cats/Wellness Exam\",\"Adult Paws Plus Cat Canada/Wellness Exam\",\"Adult Paws Plus Dog Canada/Wellness Exam\",\"Adult Paws Plus for Cats/Wellness Exam\",\"Adult Paws Plus for Dogs/Wellness Exam\",\"Adult Paws for Cat Canada/Wellness Exam\",\"Adult Paws for Cats/Wellness Exam\",\"Adult Paws for Dog Canada/Wellness Exam\",\"Adult Paws for Dogs/Wellness Exam\",\"Adult Premier for Cats/Wellness Exam\",\"Senior Access Canine Canada/Wellness Exam\",\"Senior Access Feline Canada/Wellness Exam\",\"Senior Access for Cats/Wellness Exam\",\"Senior Access for Dogs/Wellness Exam\",\"Senior Cat Plus for Canada/Wellness Exam\",\"Senior Dog Plus for Canada/Wellness Exam\",\"Senior Paws Dog for Canada/Wellness Exam\",\"Senior Paws Plus for Cats/Wellness Exam\",\"Senior Paws Plus for Dogs/Wellness Exam\",\"Senior Paws for Cats/Wellness Exam\",\"Senior Paws for Cats Canada/Wellness Exam\",\"Senior Paws for Dogs/Wellness Exam\",\"Adult Access Canine Canada\",\"Adult Access Feline Canada\",\"Adult Access for Cats\",\"Adult Access for Dogs\",\"Adult Essentials for Cats\",\"Adult Paws Plus Cat Canada\",\"Adult Paws Plus Dog Canada\",\"Adult Paws Plus for Cats\",\"Adult Paws Plus for Dogs\",\"Adult Paws for Cat Canada\",\"Adult Paws for Cats\",\"Adult Paws for Dog Canada\",\"Adult Paws for Dogs\",\"Adult Premier for Cats\",\"Junior Access Canine Canada\",\"Junior Access Feline Canada\",\"Junior Access for Cats\",\"Junior Access for Dogs\",\"Junior Cat Plus Spay Canada\",\"Junior Cats Plus Neuter Canada\",\"Junior Dog Plus Neuter Canada\",\"Junior Dogs Plus Spay Canada\",\"Junior Paws Plus Kitten Neuter\",\"Junior Paws Plus Kitten Spay\",\"Junior Paws Plus Puppy Neuter\",\"Junior Paws Plus Puppy Spay\",\"Junior Paws for Cats\",\"Junior Paws for Cats Canada\",\"Junior Paws for Dogs\",\"Junior Paws for Dogs Canada\",\"Senior Access Canine Canada\",\"Senior Access Feline Canada\",\"Senior Access for Cats\",\"Senior Access for Dogs\",\"Senior Cat Plus for Canada\",\"Senior Dog Plus for Canada\",\"Senior Paws Dog for Canada\",\"Senior Paws Plus for Cats\",\"Senior Paws Plus for Dogs\",\"Senior Paws for Cats\",\"Senior Paws for Cats Canada\",\"Senior Paws for Dogs\"],\"labels\":[\"Abdominal Cryptorchid add to neuter K9\",\"Abdominal Cryptorchid add to neuter K9\",\"Accuplex K9\",\"Accuplex K9\",\"Accuplex K9\",\"Additonal Fecal exam\",\"Additonal Fecal exam\",\"Additonal Fecal exam\",\"Adult Wellness Fel\",\"Adult Wellness K9\",\"Advanced Labwork Canada\",\"Advanced Labwork Canada\",\"Advanced Labwork Canada\",\"Anal Sac Expression Canada\",\"Anal Sac Expression Canada\",\"Basic Labwork Canada\",\"Basic Labwork Canada\",\"Basic Labwork Canada\",\"Basic Labwork Canada\",\"Basic Labwork Canada\",\"Blood Pressure Fel\",\"Blood Pressure Fel\",\"Blood Pressure Fel.\",\"Blood Pressure K9\",\"Blood Pressure K9.\",\"Blood Pressure K9.\",\"Bordetella (Adult/Senior)\",\"Bordetella (Adult/Senior)\",\"Bordetella (puppy)\",\"Canine Adult Bordetella Vaccine\",\"Canine Adult Bordetella Vaccine\",\"Canine Adult Bordetella Vaccine\",\"Canine Adult Bordetella Vaccine\",\"Canine Adult Bordetella Vaccine\",\"Canine Adult Bordetella Vaccine\",\"Canine Adult Bordetella Vaccine\",\"Canine Adult Bordetella Vaccine\",\"Canine Adult Bordetella Vaccine\",\"Canine Adult Bordetella Vaccine\",\"Canine Adult Combo Vaccine\",\"Canine Adult Combo Vaccine\",\"Canine Adult Combo Vaccine\",\"Canine Adult Combo Vaccine\",\"Canine Adult Distemper/Parvo Combo Vaccine\",\"Canine Adult Distemper/Parvo Combo Vaccine\",\"Canine Adult Distemper/Parvo Combo Vaccine\",\"Canine Adult Distemper/Parvo Combo Vaccine\",\"Canine Adult Distemper/Parvo Combo Vaccine\",\"Canine Adult Distemper/Parvo Combo Vaccine\",\"Canine Adult Distemper/Parvo Combo Vaccine\",\"Canine Adult Distemper/Parvo Combo Vaccine\",\"Canine Adult Distemper/Parvo Combo Vaccine\",\"Canine Adult Distemper/Parvo Combo Vaccine\",\"Canine Adult Rabies Vaccine\",\"Canine Adult Rabies Vaccine\",\"Canine Adult Rabies Vaccine\",\"Canine Adult Rabies Vaccine\",\"Canine Adult Rabies Vaccine\",\"Canine Adult Rabies Vaccine\",\"Canine Adult Rabies Vaccine\",\"Canine Adult Rabies Vaccine\",\"Canine Adult Rabies Vaccine\",\"Canine Adult Rabies Vaccine\",\"Canine Adult Wellness Labwork\",\"Canine Adult Wellness Labwork\",\"Canine Adult/Senior Wellness Labwork\",\"Canine Adult/Senior Wellness Labwork\",\"Canine Adult/Senior Wellness Labwork\",\"Canine Adult/Senior Wellness Labwork\",\"Canine Adult/Senior Wellness Labwork\",\"Canine Adult/Senior Wellness Labwork\",\"Canine Adult/Senior Wellness Labwork\",\"Canine Adult/Senior Wellness Labwork\",\"Canine Complexity\",\"Canine Complexity\",\"Canine Complexity\",\"Canine Complexity\",\"Canine Dental\",\"Canine Dental\",\"Canine Dental\",\"Canine Dental\",\"Canine Dental Xray\",\"Canine Dental Xray\",\"Canine Dental Xray\",\"Canine Dental Xray\",\"Canine Influenza Vaccine\",\"Canine Influenza Vaccine\",\"Canine Influenza Vaccine\",\"Canine Influenza Vaccine\",\"Canine Influenza Vaccine\",\"Canine Influenza Vaccine\",\"Canine Influenza Vaccine\",\"Canine Influenza or Lyme Vaccine\",\"Canine Influenza or Lyme Vaccine\",\"Canine Influenza or Lyme Vaccine\",\"Canine Influenza or Lyme Vaccine\",\"Canine Influenza or Lyme Vaccine\",\"Canine Influenza or Lyme Vaccine\",\"Canine Influenza or Lyme Vaccine\",\"Canine Lepto Vaccine\",\"Canine Lepto Vaccine\",\"Canine Lepto Vaccine\",\"Canine Lepto Vaccine\",\"Canine Lepto Vaccine\",\"Canine Lepto Vaccine\",\"Canine Lepto Vaccine\",\"Canine Lepto Vaccine\",\"Canine Lepto Vaccine\",\"Canine Lepto Vaccine\",\"Canine Lepto Vaccine\",\"Canine Lepto Vaccine\",\"Canine Lepto Vaccine\",\"Canine Lepto Vaccine\",\"Canine Leptospirosis Vaccine\",\"Canine Leptospirosis Vaccine\",\"Canine Leptospirosis Vaccine\",\"Canine Leptospirosis Vaccine\",\"Canine Leptospirosis Vaccine\",\"Canine Leptospirosis Vaccine\",\"Canine Leptospirosis Vaccine\",\"Canine Neuter\",\"Canine Neuter\",\"Canine Pain Medication Dispensed\",\"Canine Pain Medication Dispensed\",\"Canine Puppy Bordetella Vaccine\",\"Canine Puppy Bordetella Vaccine\",\"Canine Puppy Bordetella Vaccine\",\"Canine Puppy Bordetella Vaccine\",\"Canine Puppy Bordetella Vaccine\",\"Canine Puppy Bordetella Vaccine\",\"Canine Puppy Bordetella Vaccine\",\"Canine Puppy Bordetella Vaccine\",\"Canine Puppy Combo Vaccine\",\"Canine Puppy Combo Vaccine\",\"Canine Puppy Combo Vaccine\",\"Canine Puppy Distemper/Parvo Combo Vaccine\",\"Canine Puppy Distemper/Parvo Combo Vaccine\",\"Canine Puppy Distemper/Parvo Combo Vaccine\",\"Canine Puppy Distemper/Parvo Combo Vaccine\",\"Canine Puppy Distemper/Parvo Combo Vaccine\",\"Canine Puppy Distemper/Parvo Combo Vaccine\",\"Canine Puppy Distemper/Parvo Combo Vaccine\",\"Canine Puppy Rabies Vaccine\",\"Canine Puppy Rabies Vaccine\",\"Canine Puppy Rabies Vaccine\",\"Canine Puppy Rabies Vaccine\",\"Canine Puppy Rabies Vaccine\",\"Canine Puppy Rabies Vaccine\",\"Canine Puppy Rabies Vaccine\",\"Canine Senior Wellness Labwork\",\"Canine Senior Wellness Labwork\",\"Canine Spay\",\"Canine Spay\",\"Canine/Feline Senior Blood Pressure\",\"Canine/Feline Senior Blood Pressure\",\"Canine/Feline Senior Blood Pressure\",\"Canine/Feline Senior Blood Pressure\",\"Canine/Feline Senior Blood Pressure\",\"Canine/Feline Senior Blood Pressure\",\"Canine/Feline Senior Blood Pressure\",\"Canine/Feline Senior Blood Pressure\",\"Canine/Feline Senior Radiographs\",\"Canine/Feline Senior Radiographs\",\"Canine/Feline Senior Radiographs\",\"Canine/Feline Senior Radiographs\",\"Canine/Feline Senior Radiographs\",\"Canine/Feline Senior Radiographs\",\"Canine/Feline Senior Radiographs\",\"Canine/Feline Senior Radiographs\",\"CareClub Checkup Exam\",\"CareClub Checkup Exam\",\"CareClub Checkup Exam\",\"CareClub Checkup Exam\",\"CareClub Checkup Exam\",\"CareClub Checkup Exam\",\"CareClub Checkup Exam\",\"CareClub Checkup Exam\",\"CareClub Checkup Exam\",\"CareClub Checkup Exam\",\"CareClub Checkup Exam\",\"CareClub Checkup Exam\",\"CareClub Checkup Exam\",\"CareClub Checkup Exam\",\"CareClub Checkup Exam\",\"CareClub Checkup Exam\",\"CareClub Checkup Exam\",\"CareClub Checkup Exam\",\"CareClub Checkup Exam\",\"CareClub Checkup Exam\",\"CareClub Checkup Exam\",\"CareClub Checkup Exam\",\"CareClub Checkup Exam\",\"CareClub Checkup Exam\",\"CareClub Checkup Exam\",\"CareClub Checkup Exam\",\"CareClub Checkup Exam\",\"CareClub Checkup Exam\",\"CareClub Checkup Exam\",\"CareClub Checkup Exam\",\"CareClub Checkup Exam\",\"CareClub Checkup Exam\",\"CareClub Checkup Exam\",\"CareClub Checkup Exam\",\"CareClub Checkup Exam\",\"CareClub Checkup Exam\",\"CareClub Checkup Exam\",\"CareClub Checkup Exam\",\"CareClub Checkup Exam\",\"CareClub Checkup Exam\",\"CareClub Checkup Exam\",\"CareClub Checkup Exam\",\"Comprehensive Labwork Fel\",\"Comprehensive Labwork Fel\",\"Comprehensive Labwork K9\",\"Comprehensive Labwork K9\",\"DHPP (DHLPP) (Adult/Senior)\",\"DHPP (DHLPP) (Adult/Senior)\",\"DHPP (DHLPP) Puppy\",\"Deciduous teeth ADD add to neuter K9\",\"Deciduous teeth ADD add to spay K9\",\"Dental Package Fe G\",\"Dental Package Fe G\",\"Dental Package Fe G\",\"Dental Package Fe G\",\"Dental Package Fe G\",\"Dental Package Fe G\",\"Dental Package K9 G\",\"Dental Package K9 G\",\"Dental Package K9 G\",\"Dental Package K9 G\",\"Dental Package K9 G\",\"Dental Package K9 G\",\"Dental Pain Management Fel\",\"Dental Pain Management Fel\",\"Deworm Fel\",\"Deworm K9\",\"Deworming\",\"Deworming\",\"Deworming\",\"Deworming\",\"Deworming\",\"Deworming\",\"Deworming\",\"Deworming\",\"Deworming\",\"Deworming\",\"Deworming\",\"Deworming\",\"Deworming\",\"Deworming\",\"Elective Block\",\"Elective Block\",\"Elective Block\",\"Elective Block\",\"Elective Block\",\"Elective Block\",\"Elective Block\",\"Elective Block\",\"Elective Block Fel Neuter\",\"Elective Block Fel Spay\",\"Elective Block Fel Spay\",\"Elective Block K9 Neuter\",\"Elective Block K9 Neuter\",\"Elective Block'\",\"Elective Block'\",\"Elective Block.\",\"Elective Block.\",\"FVRCP (Adult/Senior)\",\"FVRCP (Adult/Senior)\",\"FVRCP (Kitten)\",\"FeLV (Adult/Senior)\",\"FeLV (Adult/Senior)\",\"FeLV (Adult/Senior)\",\"FeLV (Adult/Senior)\",\"FeLV (Kitten)\",\"FeLV / FIV test Fel\",\"FeLV / FIV test Fel\",\"FeLV / FIV test Fel\",\"FeLV/FIV Test\",\"FeLV/FIV Test\",\"FeLV/FIV Test\",\"FeLV/FIV Test Fel\",\"FeLV/FIV/Hwab\",\"FeLV/FIV/Hwab\",\"Fear Free codes,\",\"Fear Free codes,\",\"Fear free codes\",\"Fear free codes\",\"Fear free codes Fel\",\"Fear free codes Fel\",\"Fear free codes Fel.\",\"Fear free codes Fel.\",\"Fear free codes.\",\"Fear free codes.\",\"Fecal Fel\",\"Fecal Test\",\"Fecal Test\",\"Fecal Test\",\"Fecal Test\",\"Fecal Test\",\"Fecal Test\",\"Fecal Test\",\"Fecal Test\",\"Fecal Test\",\"Fecal Test\",\"Fecal Test\",\"Fecal Test\",\"Fecal Test\",\"Fecal Test\",\"Fecal Test\",\"Fecal Test\",\"Fecal exam (O&P Giardia) Fel\",\"Fecal exam (O&P Giardia) Fel\",\"Fecal exam (O&P Giardia) K9\",\"Fecal exam (O&P Giardia) K9\",\"Fecal k9\",\"Fecal/Parasite Test\",\"Fecal/Parasite Test\",\"Fecal/Parasite Test\",\"Fecal/Parasite Test\",\"Fecal/Parasite Test\",\"Fecal/Parasite Test\",\"Fecal/Parasite Test\",\"Fecal/Parasite Test\",\"Fecal/Parasite Test\",\"Fecal/Parasite Test\",\"Fecal/Parasite Test\",\"Fecal/Parasite Test\",\"Fecal/Parasite Test\",\"Fecal/Parasite Test\",\"Fecal/Parasite Test\",\"Fecal/Parasite Test\",\"Fecal/Parasite Test\",\"Fecal/Parasite Test\",\"Fecal/Parasite Test\",\"Fecal/Parasite Test\",\"Fecal/Parasite Test\",\"Fecal/Parasite Test\",\"Fecal/Parasite Test\",\"Fecal/Parasite Test\",\"Fecal/Parasite Test\",\"Fecal/Parasite Test\",\"Fecal/Parasite Test\",\"Fecal/Parasite Test\",\"Fecal/Parasite Test\",\"Fecal/Parasite Test\",\"Fecal/Parasite Test\",\"Fecal/Parasite Test\",\"Fecal/Parasite Test\",\"Fecal/Parasite Test\",\"Feline Adult FVRCP Vaccine\",\"Feline Adult FVRCP Vaccine\",\"Feline Adult FVRCP Vaccine\",\"Feline Adult FVRCP Vaccine\",\"Feline Adult FVRCP Vaccine\",\"Feline Adult FVRCP Vaccine\",\"Feline Adult FVRCP Vaccine\",\"Feline Adult FVRCP Vaccine\",\"Feline Adult FVRCP Vaccine\",\"Feline Adult FVRCP Vaccine\",\"Feline Adult FVRCP Vaccine\",\"Feline Adult FeLV Vaccine\",\"Feline Adult FeLV Vaccine\",\"Feline Adult FeLV Vaccine\",\"Feline Adult FeLV Vaccine\",\"Feline Adult FeLV Vaccine\",\"Feline Adult Rabies Vaccine\",\"Feline Adult Rabies Vaccine\",\"Feline Adult Rabies Vaccine\",\"Feline Adult Rabies Vaccine\",\"Feline Adult Rabies Vaccine\",\"Feline Adult Rabies Vaccine\",\"Feline Adult Rabies Vaccine\",\"Feline Adult Rabies Vaccine\",\"Feline Adult Rabies Vaccine\",\"Feline Adult Rabies Vaccine\",\"Feline Adult Rabies Vaccine\",\"Feline Adult Wellness Labwork\",\"Feline Adult Wellness Labwork\",\"Feline Adult Wellness Labwork\",\"Feline Adult Wellness Panel\",\"Feline Adult Wellness Panel\",\"Feline Adult/Senior Wellness Labwork\",\"Feline Adult/Senior Wellness Labwork\",\"Feline Adult/Senior Wellness Labwork\",\"Feline Adult/Senior Wellness Labwork\",\"Feline Adult/Senior Wellness Labwork\",\"Feline Adult/Senior Wellness Labwork\",\"Feline Adult/Senior Wellness Labwork\",\"Feline Adult/Senior Wellness Labwork\",\"Feline Complexity\",\"Feline Complexity\",\"Feline Complexity\",\"Feline Complexity\",\"Feline Dental\",\"Feline Dental\",\"Feline Dental\",\"Feline Dental\",\"Feline Dental Xray\",\"Feline Dental Xray\",\"Feline Dental Xray\",\"Feline Dental Xray\",\"Feline Kitten FVRCP Vaccine\",\"Feline Kitten FVRCP Vaccine\",\"Feline Kitten FVRCP Vaccine\",\"Feline Kitten FVRCP Vaccine\",\"Feline Kitten FVRCP Vaccine\",\"Feline Kitten FVRCP Vaccine\",\"Feline Kitten FVRCP Vaccine\",\"Feline Kitten FeLV Vaccine\",\"Feline Kitten FeLV Vaccine\",\"Feline Kitten FeLV Vaccine\",\"Feline Kitten FeLV Vaccine\",\"Feline Kitten FeLV Vaccine\",\"Feline Kitten FeLV Vaccine\",\"Feline Kitten FeLV Vaccine\",\"Feline Kitten Labwork\",\"Feline Kitten Labwork\",\"Feline Kitten Labwork\",\"Feline Kitten Labwork\",\"Feline Kitten Labwork\",\"Feline Kitten Labwork\",\"Feline Kitten Labwork\",\"Feline Kitten Rabies Vaccine\",\"Feline Kitten Rabies Vaccine\",\"Feline Kitten Rabies Vaccine\",\"Feline Kitten Rabies Vaccine\",\"Feline Kitten Rabies Vaccine\",\"Feline Kitten Rabies Vaccine\",\"Feline Kitten Rabies Vaccine\",\"Feline Neuter\",\"Feline Neuter\",\"Feline Neuter\",\"Feline Neuter\",\"Feline Neuter\",\"Feline Neuter\",\"Feline Neuter\",\"Feline Pain Medication Dispensed\",\"Feline Pain Medication Dispensed\",\"Feline Parasiticide\",\"Feline Senior Wellness Labwork\",\"Feline Senior Wellness Labwork\",\"Feline Spay\",\"Feline Spay\",\"Feline Spay.\",\"Feline Spay.\",\"Feline Spay.\",\"Feline Spay.\",\"Feline Spay.\",\"Feline Spay.\",\"Female Spay Complexity K9 Canada\",\"Gastropexy + Anesth Neuter (Elective) ADD K9\",\"Gastropexy + Anesth Spay (Elective) ADD K9\",\"Gastropexy + Anesth Spay (Elective) ADD K9\",\"Heartworm K9\",\"Heartworm K9\",\"Heartworm K9\",\"Heartworm/Tick Disease Test\",\"Heartworm/Tick Disease Test\",\"Heartworm/Tick Disease Test\",\"Heartworm/Tick Disease Test\",\"Heartworm/Tick Disease Test\",\"Heartworm/Tick Disease Test\",\"Heartworm/Tick Disease Test\",\"Heartworm/Tick Disease Test\",\"Heartworm/Tick Disease Test\",\"Heartworm/Tick Disease Test\",\"Heartworm/Tick Disease Test\",\"Heartworm/Tick Disease Test\",\"Heartworm/Tick Disease Test\",\"Heartworm/Tick Disease Test\",\"HomeAgain Service\",\"HomeAgain Service\",\"HomeAgain Service\",\"HomeAgain Service\",\"HomeAgain Service\",\"HomeAgain Service\",\"HomeAgain Service\",\"HomeAgain Service\",\"HomeAgain Service\",\"HomeAgain Service\",\"HomeAgain Service\",\"HomeAgain Service\",\"HomeAgain Service\",\"HomeAgain Service\",\"HomeAgain Service\",\"HomeAgain Service\",\"HomeAgain Service\",\"HomeAgain Service\",\"HomeAgain Service\",\"HomeAgain Service\",\"HomeAgain Service\",\"HomeAgain Service\",\"IV Catheter Sedation\",\"IV Catheter Sedation\",\"IV Catheter Sedation Fel\",\"IV Catheter Sedation Fel\",\"IV Catheter Sedation Fel.\",\"IV Catheter Sedation Fel.\",\"IV Catheter Sedation,\",\"IV Catheter Sedation,\",\"IV Catheter Sedation.\",\"IV Catheter Sedation.\",\"Influenza\",\"Influenza\",\"Influenza\",\"K9 Neuter\",\"K9 Neuter\",\"K9 Neuter\",\"K9 Neuter\",\"K9 Neuter\",\"K9 Neuter\",\"K9 Spay\",\"K9 Spay\",\"K9 Spay\",\"K9 Spay\",\"K9 Spay\",\"K9 Spay\",\"K9 Spay.\",\"K9 Spay.\",\"K9 Spay.\",\"K9 Spay.\",\"K9 Spay.\",\"K9 Spay.\",\"Lepto (Adult/Senior)\",\"Lepto (Adult/Senior)\",\"Lepto (Puppy)\",\"Lyme\",\"Lyme\",\"Lyme (Puppy)\",\"Lyme (Puppy)\",\"Male Neuter Complexity Fel Canada\",\"Male Neuter Complexity K9 Canada\",\"Microchip Service\",\"Microchip Service\",\"Microchip Service\",\"Microchip Service\",\"Microchip Service\",\"Microchip Service\",\"Microchip Service\",\"Microchip Service\",\"Microchip Service\",\"Microchip Service\",\"Microchip Service\",\"Microchip Service\",\"Microchip Service Canada\",\"Microchip Service Canada\",\"Microchip Service Canada\",\"NSAIDS dispensing code K9 Neuter\",\"NSAIDS dispensing code K9 Neuter\",\"NSAIDS dispensing code K9 Neuter\",\"NSAIDS dispensing code K9 Neuter\",\"NSAIDS dispensing code K9 Spay\",\"NSAIDS dispensing code K9 Spay\",\"NSAIDS dispensing code K9 Spay\",\"NSAIDS dispensing code K9 Spay\",\"NSAIDS dispensing code K9 Spay.\",\"NSAIDS dispensing code K9 Spay.\",\"NSAIDS dispensing code K9 Spay.\",\"NSAIDS dispensing code K9 Spay.\",\"Nail Trim\",\"Nail Trim\",\"Nail Trim\",\"Nail Trim\",\"Nail Trim\",\"Nail Trim\",\"Nail Trim\",\"Nail Trim\",\"Nail Trim\",\"Nail Trim\",\"Nail Trim\",\"Nail Trim\",\"Nail Trim\",\"Nail Trim\",\"Nail Trim\",\"Nail Trim\",\"Nail Trim\",\"Nail Trim\",\"Nail Trim\",\"Nail Trim\",\"Nail Trim\",\"Nail Trim\",\"Nail Trim\",\"Nail Trim\",\"Nail Trim\",\"Nail Trim\",\"Nail Trim\",\"Nail Trim\",\"Nail Trim\",\"Nail Trim\",\"Nail Trim\",\"Nail Trim\",\"Nail Trim\",\"Nail Trim\",\"Nail trim Fel\",\"Nail trim Fel\",\"Nail trim K9\",\"Nail trim K9\",\"Nail trim K9\",\"Pain Management Disp Fel Neuter\",\"Pain Management Disp Fel Neuter\",\"Pain Management Disp Fel Neuter\",\"Pain Management Disp Fel Neuter\",\"Pain Management Disp Fel Spay\",\"Pain Management Disp Fel Spay\",\"Pain Management Disp Fel Spay\",\"Pain Management Disp Fel Spay\",\"Pain Managment K9 Dental\",\"Pain Managment K9 Dental\",\"Pre-Operative Panels Fel Neuter\",\"Pre-Operative Panels Fel Neuter\",\"Pre-Operative Panels Fel Neuter\",\"Pre-Operative Panels Fel Neuter\",\"Pre-Operative Panels Fel Spay\",\"Pre-Operative Panels Fel Spay\",\"Pre-Operative Panels Fel Spay\",\"Pre-Operative Panels Fel Spay\",\"Pre-Operative Panels K9 Neuter\",\"Pre-Operative Panels K9 Neuter\",\"Pre-Operative Panels K9 Neuter\",\"Pre-Operative Panels K9 Neuter\",\"Pre-Operative Panels K9 Spay\",\"Pre-Operative Panels K9 Spay\",\"Pre-Operative Panels K9 Spay\",\"Pre-Operative Panels K9 Spay\",\"Pre-Operative Panels K9 Spay.\",\"Pre-Operative Panels K9 Spay.\",\"Pre-Operative Panels K9 Spay.\",\"Pre-Operative Panels K9 Spay.\",\"PreOp Bloodwork (Spay/Neuter)\",\"PreOp Bloodwork (Spay/Neuter)\",\"PreOp Bloodwork (Spay/Neuter)\",\"PreOp Bloodwork (Spay/Neuter)\",\"PreOp Labwork (Spay/Neuter)\",\"PreOp Labwork (Spay/Neuter)\",\"PreOp Labwork (Spay/Neuter)\",\"PreOp Labwork (Spay/Neuter)\",\"PreOp Labwork (Spay/Neuter)\",\"PreOp Labwork (Spay/Neuter)\",\"PreOp Labwork (Spay/Neuter)\",\"PreOp Labwork (Spay/Neuter)\",\"PreOp Labwork Canada\",\"PreOp Labwork Canada\",\"PreOp Labwork Canada\",\"PreOp Labwork Canada\",\"PreOp Labwork Canada\",\"Protective Collar\",\"Protective Collar\",\"Protective Collar\",\"Protective Collar\",\"Protective Collars Fel Neuter\",\"Protective Collars Fel Neuter\",\"Protective Collars Fel Neuter\",\"Protective Collars Fel Neuter\",\"Protective Collars Fel Spay\",\"Protective Collars Fel Spay\",\"Protective Collars Fel Spay\",\"Protective Collars Fel Spay\",\"Protective Collars K9 Neuter\",\"Protective Collars K9 Neuter\",\"Protective Collars K9 Neuter\",\"Protective Collars K9 Neuter\",\"Protective Collars K9 Spay\",\"Protective Collars K9 Spay\",\"Protective Collars K9 Spay\",\"Protective Collars K9 Spay\",\"Protective Collars list K9 Spay.\",\"Protective Collars list K9 Spay.\",\"Protective Collars list K9 Spay.\",\"Protective Collars list K9 Spay.\",\"Puppy/Kitten 1st Exam\",\"Puppy/Kitten 1st Exam\",\"Puppy/Kitten 1st Exam\",\"Puppy/Kitten 1st Exam\",\"Puppy/Kitten 1st Exam\",\"Puppy/Kitten 1st Exam\",\"Puppy/Kitten 1st Exam\",\"Puppy/Kitten 1st Exam\",\"Puppy/Kitten 1st Exam\",\"Puppy/Kitten 1st Exam\",\"Puppy/Kitten 1st Exam\",\"Puppy/Kitten 1st Exam\",\"Puppy/Kitten 1st Exam\",\"Puppy/Kitten 1st Exam\",\"Puppy/Kitten 1st Exam\",\"Puppy/Kitten 1st Exam\",\"Puppy/Kitten Recheck Exam\",\"Puppy/Kitten Recheck Exam\",\"Puppy/Kitten Recheck Exam\",\"Puppy/Kitten Recheck Exam\",\"Puppy/Kitten Recheck Exam\",\"Puppy/Kitten Recheck Exam\",\"Puppy/Kitten Recheck Exam\",\"Puppy/Kitten Recheck Exam\",\"Puppy/Kitten Recheck Exam\",\"Puppy/Kitten Recheck Exam\",\"Puppy/Kitten Recheck Exam\",\"Puppy/Kitten Recheck Exam\",\"Puppy/Kitten Recheck Exam\",\"Puppy/Kitten Recheck Exam\",\"Puppy/Kitten Recheck Exam\",\"Puppy/Kitten Recheck Exam\",\"RAD CareClub Abdomen/Thorax Study\",\"RAD CareClub Abdomen/Thorax Study\",\"RAD CareClub Abdomen/Thorax Study Fel\",\"RAD CareClub Abdomen/Thorax Study Fel\",\"RAD CareClub Abdomen/Thorax Study,\",\"RAD CareClub Abdomen/Thorax Study,\",\"RAD Full Mouth Dental Xray Feline\",\"RAD Full Mouth Dental Xray Feline\",\"RAD Full Mouth Dental Xray Feline\",\"RAD Full Mouth Dental Xray Feline\",\"RAD Full Mouth Dental Xray Feline\",\"RAD Full Mouth Dental Xray Feline\",\"RAD Full Mouth Dental Xray K9.\",\"RAD Full Mouth Dental Xray K9.\",\"RAD Full Mouth Dental Xray K9.\",\"RAD Full Mouth Dental Xray K9.\",\"RAD Full Mouth Dental Xray K9.\",\"RAD Full Mouth Dental Xray K9.\",\"Rabies (1 year)\",\"Rabies (1 year)\",\"Rabies (1 year)\",\"Rabies (3 year)\",\"Rabies (3 year)\",\"Rabies (Adult/Senior)\",\"Rabies (Adult/Senior)\",\"Rabies (Puppy)\",\"Rattlesnake booster\",\"Rattlesnake booster\",\"Rattlesnake starter\",\"Rattlesnake starter\",\"Sedation Radiology\",\"Sedation Radiology\",\"Sedation Radiology Fel\",\"Sedation Radiology Fel\",\"Sedation Radiology Fel.\",\"Sedation Radiology Fel.\",\"Sedation Radiology,\",\"Sedation Radiology,\",\"Sedation Radiology.\",\"Sedation Radiology.\",\"Senior Lab Panel Fel\",\"Senior Lab Panel K9\",\"Service Rounding Adjustment\",\"Service Rounding Adjustment\",\"Service Rounding Adjustment\",\"Service Rounding Adjustment\",\"Service Rounding Adjustment\",\"Service Rounding Adjustment\",\"Service Rounding Adjustment\",\"Service Rounding Adjustment\",\"Service Rounding Adjustment\",\"Service Rounding Adjustment\",\"Service Rounding Adjustment\",\"Service Rounding Adjustment\",\"Service Rounding Adjustment\",\"Service Rounding Adjustment\",\"Service Rounding Adjustment\",\"Service Rounding Adjustment\",\"Service Rounding Adjustment\",\"Service Rounding Adjustment\",\"Service Rounding Adjustment\",\"Service Rounding Adjustment\",\"Service Rounding Adjustment\",\"Service Rounding Adjustment\",\"Service Rounding Adjustment\",\"Service Rounding Adjustment\",\"Service Rounding Adjustment\",\"Service Rounding Adjustment\",\"Service Rounding Adjustment\",\"Service Rounding Adjustment\",\"Service Rounding Adjustment\",\"Service Rounding Adjustment\",\"Service Rounding Adjustment\",\"Service Rounding Adjustment\",\"Service Rounding Adjustment\",\"Service Rounding Adjustment\",\"Service Rounding Adjustment\",\"Service Rounding Adjustment\",\"Service Rounding Adjustment\",\"Service Rounding Adjustment\",\"Service Rounding Adjustment\",\"Service Rounding Adjustment\",\"Service Rounding Adjustment\",\"Service Rounding Adjustment\",\"Single region Studies Fel.\",\"Single region Studies Fel.\",\"Single region Studies.\",\"Single region Studies.\",\"Surgical Pain Management\",\"Surgical Pain Management\",\"Surgical Pain Management\",\"Surgical Pain Management\",\"Surgical Pain Management\",\"Surgical Pain Management\",\"Surgical Pain Management\",\"Surgical Pain Management\",\"UPC K9\",\"Umbilical hernia ADD add to spay\",\"Wellness Exam\",\"Wellness Exam\",\"Wellness Exam\",\"Wellness Exam\",\"Wellness Exam\",\"Wellness Exam\",\"Wellness Exam\",\"Wellness Exam\",\"Wellness Exam\",\"Wellness Exam\",\"Wellness Exam\",\"Wellness Exam\",\"Wellness Exam\",\"Wellness Exam\",\"Wellness Exam\",\"Wellness Exam\",\"Wellness Exam\",\"Wellness Exam\",\"Wellness Exam\",\"Wellness Exam\",\"Wellness Exam\",\"Wellness Exam\",\"Wellness Exam\",\"Wellness Exam\",\"Wellness Exam\",\"Wellness Exam\",\"Adult Access Canine Canada\",\"Adult Access Feline Canada\",\"Adult Access for Cats\",\"Adult Access for Dogs\",\"Adult Essentials for Cats\",\"Adult Paws Plus Cat Canada\",\"Adult Paws Plus Dog Canada\",\"Adult Paws Plus for Cats\",\"Adult Paws Plus for Dogs\",\"Adult Paws for Cat Canada\",\"Adult Paws for Cats\",\"Adult Paws for Dog Canada\",\"Adult Paws for Dogs\",\"Adult Premier for Cats\",\"Junior Access Canine Canada\",\"Junior Access Feline Canada\",\"Junior Access for Cats\",\"Junior Access for Dogs\",\"Junior Cat Plus Spay Canada\",\"Junior Cats Plus Neuter Canada\",\"Junior Dog Plus Neuter Canada\",\"Junior Dogs Plus Spay Canada\",\"Junior Paws Plus Kitten Neuter\",\"Junior Paws Plus Kitten Spay\",\"Junior Paws Plus Puppy Neuter\",\"Junior Paws Plus Puppy Spay\",\"Junior Paws for Cats\",\"Junior Paws for Cats Canada\",\"Junior Paws for Dogs\",\"Junior Paws for Dogs Canada\",\"Senior Access Canine Canada\",\"Senior Access Feline Canada\",\"Senior Access for Cats\",\"Senior Access for Dogs\",\"Senior Cat Plus for Canada\",\"Senior Dog Plus for Canada\",\"Senior Paws Dog for Canada\",\"Senior Paws Plus for Cats\",\"Senior Paws Plus for Dogs\",\"Senior Paws for Cats\",\"Senior Paws for Cats Canada\",\"Senior Paws for Dogs\"],\"name\":\"\",\"parents\":[\"Adult Access for Dogs\",\"Junior Access for Dogs\",\"Adult Access for Dogs\",\"Junior Access for Dogs\",\"Senior Access for Dogs\",\"Adult Access for Dogs\",\"Junior Access for Cats\",\"Junior Access for Dogs\",\"Adult Access for Cats\",\"Adult Access for Dogs\",\"Adult Access Feline Canada\",\"Senior Access Canine Canada\",\"Senior Access Feline Canada\",\"Adult Access Canine Canada\",\"Senior Access Canine Canada\",\"Adult Access Canine Canada\",\"Adult Access Feline Canada\",\"Junior Access Canine Canada\",\"Junior Access Feline Canada\",\"Senior Access Canine Canada\",\"Adult Access for Cats\",\"Senior Access for Cats\",\"Senior Access for Cats\",\"Senior Access for Dogs\",\"Adult Access for Dogs\",\"Senior Access for Dogs\",\"Adult Access for Dogs\",\"Senior Access for Dogs\",\"Junior Access for Dogs\",\"Adult Access Canine Canada\",\"Adult Paws Plus Dog Canada\",\"Adult Paws Plus for Dogs\",\"Adult Paws for Dog Canada\",\"Adult Paws for Dogs\",\"Senior Access Canine Canada\",\"Senior Dog Plus for Canada\",\"Senior Paws Dog for Canada\",\"Senior Paws Plus for Dogs\",\"Senior Paws for Dogs\",\"Adult Paws Plus for Dogs\",\"Adult Paws for Dogs\",\"Senior Paws Plus for Dogs\",\"Senior Paws for Dogs\",\"Adult Access Canine Canada\",\"Adult Paws Plus Dog Canada\",\"Adult Paws Plus for Dogs\",\"Adult Paws for Dog Canada\",\"Adult Paws for Dogs\",\"Senior Access Canine Canada\",\"Senior Dog Plus for Canada\",\"Senior Paws Dog for Canada\",\"Senior Paws Plus for Dogs\",\"Senior Paws for Dogs\",\"Adult Access Canine Canada\",\"Adult Paws Plus Dog Canada\",\"Adult Paws Plus for Dogs\",\"Adult Paws for Dog Canada\",\"Adult Paws for Dogs\",\"Senior Access Canine Canada\",\"Senior Dog Plus for Canada\",\"Senior Paws Dog for Canada\",\"Senior Paws Plus for Dogs\",\"Senior Paws for Dogs\",\"Adult Paws Plus for Dogs\",\"Adult Paws for Dogs\",\"Adult Paws Plus Dog Canada\",\"Adult Paws Plus for Dogs\",\"Adult Paws for Dog Canada\",\"Adult Paws for Dogs\",\"Senior Dog Plus for Canada\",\"Senior Paws Dog for Canada\",\"Senior Paws Plus for Dogs\",\"Senior Paws for Dogs\",\"Junior Dog Plus Neuter Canada\",\"Junior Dogs Plus Spay Canada\",\"Junior Paws Plus Puppy Neuter\",\"Junior Paws Plus Puppy Spay\",\"Adult Paws Plus Dog Canada\",\"Adult Paws Plus for Dogs\",\"Senior Dog Plus for Canada\",\"Senior Paws Plus for Dogs\",\"Adult Paws Plus Dog Canada\",\"Adult Paws Plus for Dogs\",\"Senior Dog Plus for Canada\",\"Senior Paws Plus for Dogs\",\"Adult Paws Plus for Dogs\",\"Adult Paws for Dogs\",\"Junior Paws Plus Puppy Neuter\",\"Junior Paws Plus Puppy Spay\",\"Junior Paws for Dogs\",\"Senior Paws Plus for Dogs\",\"Senior Paws for Dogs\",\"Adult Paws Plus for Dogs\",\"Adult Paws for Dogs\",\"Junior Paws Plus Puppy Neuter\",\"Junior Paws Plus Puppy Spay\",\"Junior Paws for Dogs\",\"Senior Paws Plus for Dogs\",\"Senior Paws for Dogs\",\"Adult Paws Plus Dog Canada\",\"Adult Paws Plus for Dogs\",\"Adult Paws for Dog Canada\",\"Adult Paws for Dogs\",\"Junior Dog Plus Neuter Canada\",\"Junior Dogs Plus Spay Canada\",\"Junior Paws Plus Puppy Neuter\",\"Junior Paws Plus Puppy Spay\",\"Junior Paws for Dogs\",\"Junior Paws for Dogs Canada\",\"Senior Dog Plus for Canada\",\"Senior Paws Dog for Canada\",\"Senior Paws Plus for Dogs\",\"Senior Paws for Dogs\",\"Adult Paws Plus for Dogs\",\"Adult Paws for Dogs\",\"Junior Paws Plus Puppy Neuter\",\"Junior Paws Plus Puppy Spay\",\"Junior Paws for Dogs\",\"Senior Paws Plus for Dogs\",\"Senior Paws for Dogs\",\"Junior Dog Plus Neuter Canada\",\"Junior Paws Plus Puppy Neuter\",\"Junior Paws Plus Puppy Neuter\",\"Junior Paws Plus Puppy Spay\",\"Junior Access Canine Canada\",\"Junior Dog Plus Neuter Canada\",\"Junior Dogs Plus Spay Canada\",\"Junior Paws Plus Puppy Neuter\",\"Junior Paws Plus Puppy Spay\",\"Junior Paws for Dogs\",\"Junior Paws for Dogs Canada\",\"Senior Paws Plus for Dogs\",\"Junior Paws Plus Puppy Neuter\",\"Junior Paws Plus Puppy Spay\",\"Junior Paws for Dogs\",\"Junior Access Canine Canada\",\"Junior Dog Plus Neuter Canada\",\"Junior Dogs Plus Spay Canada\",\"Junior Paws Plus Puppy Neuter\",\"Junior Paws Plus Puppy Spay\",\"Junior Paws for Dogs\",\"Junior Paws for Dogs Canada\",\"Junior Access Canine Canada\",\"Junior Dog Plus Neuter Canada\",\"Junior Dogs Plus Spay Canada\",\"Junior Paws Plus Puppy Neuter\",\"Junior Paws Plus Puppy Spay\",\"Junior Paws for Dogs\",\"Junior Paws for Dogs Canada\",\"Senior Paws Plus for Dogs\",\"Senior Paws for Dogs\",\"Junior Dogs Plus Spay Canada\",\"Junior Paws Plus Puppy Spay\",\"Senior Cat Plus for Canada\",\"Senior Dog Plus for Canada\",\"Senior Paws Dog for Canada\",\"Senior Paws Plus for Cats\",\"Senior Paws Plus for Dogs\",\"Senior Paws for Cats\",\"Senior Paws for Cats Canada\",\"Senior Paws for Dogs\",\"Senior Cat Plus for Canada\",\"Senior Dog Plus for Canada\",\"Senior Paws Dog for Canada\",\"Senior Paws Plus for Cats\",\"Senior Paws Plus for Dogs\",\"Senior Paws for Cats\",\"Senior Paws for Cats Canada\",\"Senior Paws for Dogs\",\"Adult Access Canine Canada\",\"Adult Access Feline Canada\",\"Adult Access for Cats\",\"Adult Access for Dogs\",\"Adult Essentials for Cats\",\"Adult Paws Plus Cat Canada\",\"Adult Paws Plus Dog Canada\",\"Adult Paws Plus for Cats\",\"Adult Paws Plus for Dogs\",\"Adult Paws for Cat Canada\",\"Adult Paws for Cats\",\"Adult Paws for Dog Canada\",\"Adult Paws for Dogs\",\"Adult Premier for Cats\",\"Junior Access Canine Canada\",\"Junior Access Feline Canada\",\"Junior Access for Cats\",\"Junior Access for Dogs\",\"Junior Cat Plus Spay Canada\",\"Junior Cats Plus Neuter Canada\",\"Junior Dog Plus Neuter Canada\",\"Junior Dogs Plus Spay Canada\",\"Junior Paws Plus Kitten Neuter\",\"Junior Paws Plus Kitten Spay\",\"Junior Paws Plus Puppy Neuter\",\"Junior Paws Plus Puppy Spay\",\"Junior Paws for Cats\",\"Junior Paws for Cats Canada\",\"Junior Paws for Dogs\",\"Junior Paws for Dogs Canada\",\"Senior Access Canine Canada\",\"Senior Access Feline Canada\",\"Senior Access for Cats\",\"Senior Access for Dogs\",\"Senior Cat Plus for Canada\",\"Senior Dog Plus for Canada\",\"Senior Paws Dog for Canada\",\"Senior Paws Plus for Cats\",\"Senior Paws Plus for Dogs\",\"Senior Paws for Cats\",\"Senior Paws for Cats Canada\",\"Senior Paws for Dogs\",\"Adult Access for Cats\",\"Senior Access for Cats\",\"Adult Access for Dogs\",\"Senior Access for Dogs\",\"Adult Access for Dogs\",\"Senior Access for Dogs\",\"Junior Access for Dogs\",\"Junior Access for Dogs\",\"Junior Access for Dogs\",\"Adult Access Feline Canada\",\"Adult Access for Cats\",\"Adult Paws for Cats\",\"Senior Access Feline Canada\",\"Senior Access for Cats\",\"Senior Paws for Cats\",\"Adult Access Canine Canada\",\"Adult Access for Dogs\",\"Adult Paws for Dogs\",\"Senior Access Canine Canada\",\"Senior Access for Dogs\",\"Senior Paws for Dogs\",\"Adult Access Feline Canada\",\"Senior Access Feline Canada\",\"Junior Access for Cats\",\"Junior Access for Dogs\",\"Junior Access Canine Canada\",\"Junior Access Feline Canada\",\"Junior Cat Plus Spay Canada\",\"Junior Cats Plus Neuter Canada\",\"Junior Dog Plus Neuter Canada\",\"Junior Dogs Plus Spay Canada\",\"Junior Paws Plus Kitten Neuter\",\"Junior Paws Plus Kitten Spay\",\"Junior Paws Plus Puppy Neuter\",\"Junior Paws Plus Puppy Spay\",\"Junior Paws for Cats\",\"Junior Paws for Cats Canada\",\"Junior Paws for Dogs\",\"Junior Paws for Dogs Canada\",\"Junior Cat Plus Spay Canada\",\"Junior Cats Plus Neuter Canada\",\"Junior Dog Plus Neuter Canada\",\"Junior Dogs Plus Spay Canada\",\"Junior Paws Plus Kitten Neuter\",\"Junior Paws Plus Kitten Spay\",\"Junior Paws Plus Puppy Neuter\",\"Junior Paws Plus Puppy Spay\",\"Junior Access Feline Canada\",\"Adult Access Feline Canada\",\"Junior Access Feline Canada\",\"Adult Access Canine Canada\",\"Junior Access Canine Canada\",\"Adult Access Canine Canada\",\"Junior Access Canine Canada\",\"Adult Access Canine Canada\",\"Junior Access Canine Canada\",\"Adult Access for Cats\",\"Senior Access for Cats\",\"Junior Access for Cats\",\"Adult Access Feline Canada\",\"Adult Access for Cats\",\"Senior Access Feline Canada\",\"Senior Access for Cats\",\"Junior Access for Cats\",\"Adult Access for Cats\",\"Junior Access for Cats\",\"Senior Access for Cats\",\"Junior Paws Plus Kitten Neuter\",\"Junior Paws Plus Kitten Spay\",\"Junior Paws for Cats\",\"Senior Access Feline Canada\",\"Adult Essentials for Cats\",\"Adult Premier for Cats\",\"Adult Access for Dogs\",\"Senior Access for Dogs\",\"Adult Access for Dogs\",\"Senior Access for Dogs\",\"Adult Access for Cats\",\"Senior Access for Cats\",\"Adult Access for Cats\",\"Senior Access for Cats\",\"Adult Access for Dogs\",\"Senior Access for Dogs\",\"Junior Access for Cats\",\"Adult Essentials for Cats\",\"Adult Paws Plus for Cats\",\"Adult Paws Plus for Dogs\",\"Adult Paws for Cats\",\"Adult Paws for Dogs\",\"Adult Premier for Cats\",\"Junior Paws Plus Kitten Neuter\",\"Junior Paws Plus Kitten Spay\",\"Junior Paws Plus Puppy Neuter\",\"Junior Paws Plus Puppy Spay\",\"Junior Paws for Cats\",\"Junior Paws for Dogs\",\"Senior Paws Plus for Cats\",\"Senior Paws Plus for Dogs\",\"Senior Paws for Cats\",\"Senior Paws for Dogs\",\"Adult Access for Cats\",\"Senior Access for Cats\",\"Adult Access for Dogs\",\"Senior Access for Dogs\",\"Junior Access for Dogs\",\"Adult Access Canine Canada\",\"Adult Access Feline Canada\",\"Adult Paws Plus Cat Canada\",\"Adult Paws Plus Dog Canada\",\"Adult Paws Plus for Cats\",\"Adult Paws Plus for Dogs\",\"Adult Paws for Cat Canada\",\"Adult Paws for Cats\",\"Adult Paws for Dog Canada\",\"Adult Paws for Dogs\",\"Junior Access Canine Canada\",\"Junior Access Feline Canada\",\"Junior Cat Plus Spay Canada\",\"Junior Cats Plus Neuter Canada\",\"Junior Dog Plus Neuter Canada\",\"Junior Dogs Plus Spay Canada\",\"Junior Paws Plus Kitten Neuter\",\"Junior Paws Plus Kitten Spay\",\"Junior Paws Plus Puppy Neuter\",\"Junior Paws Plus Puppy Spay\",\"Junior Paws for Cats\",\"Junior Paws for Cats Canada\",\"Junior Paws for Dogs\",\"Junior Paws for Dogs Canada\",\"Senior Access Canine Canada\",\"Senior Access Feline Canada\",\"Senior Cat Plus for Canada\",\"Senior Dog Plus for Canada\",\"Senior Paws Dog for Canada\",\"Senior Paws Plus for Cats\",\"Senior Paws Plus for Dogs\",\"Senior Paws for Cats\",\"Senior Paws for Cats Canada\",\"Senior Paws for Dogs\",\"Adult Access Feline Canada\",\"Adult Paws Plus Cat Canada\",\"Adult Paws Plus for Cats\",\"Adult Paws for Cat Canada\",\"Adult Paws for Cats\",\"Adult Premier for Cats\",\"Senior Access Feline Canada\",\"Senior Cat Plus for Canada\",\"Senior Paws Plus for Cats\",\"Senior Paws for Cats\",\"Senior Paws for Cats Canada\",\"Adult Paws Plus for Cats\",\"Adult Paws for Cats\",\"Adult Premier for Cats\",\"Senior Paws Plus for Cats\",\"Senior Paws for Cats\",\"Adult Access Feline Canada\",\"Adult Paws Plus Cat Canada\",\"Adult Paws Plus for Cats\",\"Adult Paws for Cat Canada\",\"Adult Paws for Cats\",\"Adult Premier for Cats\",\"Senior Access Feline Canada\",\"Senior Cat Plus for Canada\",\"Senior Paws Plus for Cats\",\"Senior Paws for Cats\",\"Senior Paws for Cats Canada\",\"Adult Essentials for Cats\",\"Adult Paws Plus for Cats\",\"Adult Paws for Cats\",\"Adult Paws Plus for Cats\",\"Adult Premier for Cats\",\"Adult Paws Plus Cat Canada\",\"Adult Paws Plus for Cats\",\"Adult Paws for Cat Canada\",\"Adult Paws for Cats\",\"Senior Cat Plus for Canada\",\"Senior Paws Plus for Cats\",\"Senior Paws for Cats\",\"Senior Paws for Cats Canada\",\"Junior Cat Plus Spay Canada\",\"Junior Cats Plus Neuter Canada\",\"Junior Paws Plus Kitten Neuter\",\"Junior Paws Plus Kitten Spay\",\"Adult Paws Plus Cat Canada\",\"Adult Paws Plus for Cats\",\"Senior Cat Plus for Canada\",\"Senior Paws Plus for Cats\",\"Adult Paws Plus Cat Canada\",\"Adult Paws Plus for Cats\",\"Senior Cat Plus for Canada\",\"Senior Paws Plus for Cats\",\"Junior Access Feline Canada\",\"Junior Cat Plus Spay Canada\",\"Junior Cats Plus Neuter Canada\",\"Junior Paws Plus Kitten Neuter\",\"Junior Paws Plus Kitten Spay\",\"Junior Paws for Cats\",\"Junior Paws for Cats Canada\",\"Junior Access Feline Canada\",\"Junior Cat Plus Spay Canada\",\"Junior Cats Plus Neuter Canada\",\"Junior Paws Plus Kitten Neuter\",\"Junior Paws Plus Kitten Spay\",\"Junior Paws for Cats\",\"Junior Paws for Cats Canada\",\"Junior Access Feline Canada\",\"Junior Cat Plus Spay Canada\",\"Junior Cats Plus Neuter Canada\",\"Junior Paws Plus Kitten Neuter\",\"Junior Paws Plus Kitten Spay\",\"Junior Paws for Cats\",\"Junior Paws for Cats Canada\",\"Junior Access Feline Canada\",\"Junior Cat Plus Spay Canada\",\"Junior Cats Plus Neuter Canada\",\"Junior Paws Plus Kitten Neuter\",\"Junior Paws Plus Kitten Spay\",\"Junior Paws for Cats\",\"Junior Paws for Cats Canada\",\"Adult Access for Cats\",\"Adult Paws for Cats\",\"Junior Access Feline Canada\",\"Junior Access for Cats\",\"Junior Cats Plus Neuter Canada\",\"Junior Paws Plus Kitten Neuter\",\"Junior Paws for Cats\",\"Junior Paws Plus Kitten Neuter\",\"Junior Paws Plus Kitten Spay\",\"Adult Premier for Cats\",\"Senior Paws Plus for Cats\",\"Senior Paws for Cats\",\"Junior Cat Plus Spay Canada\",\"Junior Paws Plus Kitten Spay\",\"Adult Access Feline Canada\",\"Adult Access for Cats\",\"Adult Paws for Cats\",\"Junior Access Feline Canada\",\"Junior Access for Cats\",\"Junior Paws for Cats\",\"Junior Access Canine Canada\",\"Junior Access for Dogs\",\"Adult Access for Dogs\",\"Junior Access for Dogs\",\"Adult Access for Dogs\",\"Junior Access for Dogs\",\"Senior Access for Dogs\",\"Adult Paws Plus Dog Canada\",\"Adult Paws Plus for Dogs\",\"Adult Paws for Dog Canada\",\"Adult Paws for Dogs\",\"Junior Dog Plus Neuter Canada\",\"Junior Dogs Plus Spay Canada\",\"Junior Paws Plus Puppy Neuter\",\"Junior Paws Plus Puppy Spay\",\"Junior Paws for Dogs\",\"Junior Paws for Dogs Canada\",\"Senior Dog Plus for Canada\",\"Senior Paws Dog for Canada\",\"Senior Paws Plus for Dogs\",\"Senior Paws for Dogs\",\"Adult Access for Cats\",\"Adult Access for Dogs\",\"Adult Essentials for Cats\",\"Adult Paws Plus for Cats\",\"Adult Paws Plus for Dogs\",\"Adult Paws for Cats\",\"Adult Paws for Dogs\",\"Adult Premier for Cats\",\"Junior Access for Cats\",\"Junior Access for Dogs\",\"Junior Paws Plus Kitten Neuter\",\"Junior Paws Plus Kitten Spay\",\"Junior Paws Plus Puppy Neuter\",\"Junior Paws Plus Puppy Spay\",\"Junior Paws for Cats\",\"Junior Paws for Dogs\",\"Senior Access for Cats\",\"Senior Access for Dogs\",\"Senior Paws Plus for Cats\",\"Senior Paws Plus for Dogs\",\"Senior Paws for Cats\",\"Senior Paws for Dogs\",\"Adult Access for Dogs\",\"Senior Access for Dogs\",\"Adult Access for Cats\",\"Senior Access for Cats\",\"Adult Access for Cats\",\"Senior Access for Cats\",\"Adult Access for Dogs\",\"Senior Access for Dogs\",\"Adult Access for Dogs\",\"Senior Access for Dogs\",\"Adult Access for Dogs\",\"Junior Access for Dogs\",\"Senior Access for Dogs\",\"Adult Access Canine Canada\",\"Adult Access for Dogs\",\"Adult Paws for Dogs\",\"Junior Access Canine Canada\",\"Junior Access for Dogs\",\"Junior Paws for Dogs\",\"Adult Access Canine Canada\",\"Adult Access for Dogs\",\"Adult Paws for Dogs\",\"Junior Access Canine Canada\",\"Junior Access for Dogs\",\"Junior Paws for Dogs\",\"Adult Access Canine Canada\",\"Adult Access for Dogs\",\"Adult Paws for Dogs\",\"Junior Access Canine Canada\",\"Junior Access for Dogs\",\"Junior Paws for Dogs\",\"Adult Access for Dogs\",\"Senior Access for Dogs\",\"Junior Access for Dogs\",\"Adult Access for Dogs\",\"Senior Access for Dogs\",\"Junior Access Canine Canada\",\"Junior Access for Dogs\",\"Junior Access Feline Canada\",\"Junior Access Canine Canada\",\"Junior Cat Plus Spay Canada\",\"Junior Cats Plus Neuter Canada\",\"Junior Dog Plus Neuter Canada\",\"Junior Dogs Plus Spay Canada\",\"Junior Paws Plus Kitten Neuter\",\"Junior Paws Plus Kitten Spay\",\"Junior Paws Plus Puppy Neuter\",\"Junior Paws Plus Puppy Spay\",\"Junior Paws for Cats\",\"Junior Paws for Cats Canada\",\"Junior Paws for Dogs\",\"Junior Paws for Dogs Canada\",\"Adult Access Canine Canada\",\"Junior Access Canine Canada\",\"Junior Access Feline Canada\",\"Adult Access for Dogs\",\"Adult Paws for Dogs\",\"Junior Access for Dogs\",\"Junior Paws for Dogs\",\"Adult Access for Dogs\",\"Adult Paws for Dogs\",\"Junior Access for Dogs\",\"Junior Paws for Dogs\",\"Adult Access for Dogs\",\"Adult Paws for Dogs\",\"Junior Access for Dogs\",\"Junior Paws for Dogs\",\"Adult Access Canine Canada\",\"Adult Access Feline Canada\",\"Adult Paws Plus Cat Canada\",\"Adult Paws Plus Dog Canada\",\"Adult Paws Plus for Cats\",\"Adult Paws Plus for Dogs\",\"Adult Paws for Cat Canada\",\"Adult Paws for Cats\",\"Adult Paws for Dog Canada\",\"Adult Paws for Dogs\",\"Junior Access Canine Canada\",\"Junior Access Feline Canada\",\"Junior Cat Plus Spay Canada\",\"Junior Cats Plus Neuter Canada\",\"Junior Dog Plus Neuter Canada\",\"Junior Dogs Plus Spay Canada\",\"Junior Paws Plus Kitten Neuter\",\"Junior Paws Plus Kitten Spay\",\"Junior Paws Plus Puppy Neuter\",\"Junior Paws Plus Puppy Spay\",\"Junior Paws for Cats\",\"Junior Paws for Cats Canada\",\"Junior Paws for Dogs\",\"Junior Paws for Dogs Canada\",\"Senior Access Canine Canada\",\"Senior Access Feline Canada\",\"Senior Cat Plus for Canada\",\"Senior Dog Plus for Canada\",\"Senior Paws Dog for Canada\",\"Senior Paws Plus for Cats\",\"Senior Paws Plus for Dogs\",\"Senior Paws for Cats\",\"Senior Paws for Cats Canada\",\"Senior Paws for Dogs\",\"Adult Access for Cats\",\"Junior Access for Cats\",\"Adult Access for Dogs\",\"Junior Access for Dogs\",\"Senior Access for Dogs\",\"Adult Access for Cats\",\"Adult Paws for Cats\",\"Junior Access for Cats\",\"Junior Paws for Cats\",\"Adult Access for Cats\",\"Adult Paws for Cats\",\"Junior Access for Cats\",\"Junior Paws for Cats\",\"Adult Access Canine Canada\",\"Senior Access Canine Canada\",\"Adult Access for Cats\",\"Adult Paws for Cats\",\"Junior Access for Cats\",\"Junior Paws for Cats\",\"Adult Access for Cats\",\"Adult Paws for Cats\",\"Junior Access for Cats\",\"Junior Paws for Cats\",\"Adult Access for Dogs\",\"Adult Paws for Dogs\",\"Junior Access for Dogs\",\"Junior Paws for Dogs\",\"Adult Access for Dogs\",\"Adult Paws for Dogs\",\"Junior Access for Dogs\",\"Junior Paws for Dogs\",\"Adult Access for Dogs\",\"Adult Paws for Dogs\",\"Junior Access for Dogs\",\"Junior Paws for Dogs\",\"Junior Paws Plus Kitten Neuter\",\"Junior Paws Plus Kitten Spay\",\"Junior Paws Plus Puppy Neuter\",\"Junior Paws Plus Puppy Spay\",\"Junior Cat Plus Spay Canada\",\"Junior Cats Plus Neuter Canada\",\"Junior Dog Plus Neuter Canada\",\"Junior Dogs Plus Spay Canada\",\"Junior Paws Plus Kitten Neuter\",\"Junior Paws Plus Kitten Spay\",\"Junior Paws Plus Puppy Neuter\",\"Junior Paws Plus Puppy Spay\",\"Adult Access Canine Canada\",\"Adult Access Feline Canada\",\"Junior Access Canine Canada\",\"Junior Access Feline Canada\",\"Senior Access Canine Canada\",\"Junior Paws Plus Kitten Neuter\",\"Junior Paws Plus Kitten Spay\",\"Junior Paws Plus Puppy Neuter\",\"Junior Paws Plus Puppy Spay\",\"Adult Access for Cats\",\"Adult Paws for Cats\",\"Junior Access for Cats\",\"Junior Paws for Cats\",\"Adult Access for Cats\",\"Adult Paws for Cats\",\"Junior Access for Cats\",\"Junior Paws for Cats\",\"Adult Access for Dogs\",\"Adult Paws for Dogs\",\"Junior Access for Dogs\",\"Junior Paws for Dogs\",\"Adult Access for Dogs\",\"Adult Paws for Dogs\",\"Junior Access for Dogs\",\"Junior Paws for Dogs\",\"Adult Access for Dogs\",\"Adult Paws for Dogs\",\"Junior Access for Dogs\",\"Junior Paws for Dogs\",\"Junior Access Canine Canada\",\"Junior Access Feline Canada\",\"Junior Access for Cats\",\"Junior Access for Dogs\",\"Junior Cat Plus Spay Canada\",\"Junior Cats Plus Neuter Canada\",\"Junior Dog Plus Neuter Canada\",\"Junior Dogs Plus Spay Canada\",\"Junior Paws Plus Kitten Neuter\",\"Junior Paws Plus Kitten Spay\",\"Junior Paws Plus Puppy Neuter\",\"Junior Paws Plus Puppy Spay\",\"Junior Paws for Cats\",\"Junior Paws for Cats Canada\",\"Junior Paws for Dogs\",\"Junior Paws for Dogs Canada\",\"Junior Access Canine Canada\",\"Junior Access Feline Canada\",\"Junior Access for Cats\",\"Junior Access for Dogs\",\"Junior Cat Plus Spay Canada\",\"Junior Cats Plus Neuter Canada\",\"Junior Dog Plus Neuter Canada\",\"Junior Dogs Plus Spay Canada\",\"Junior Paws Plus Kitten Neuter\",\"Junior Paws Plus Kitten Spay\",\"Junior Paws Plus Puppy Neuter\",\"Junior Paws Plus Puppy Spay\",\"Junior Paws for Cats\",\"Junior Paws for Cats Canada\",\"Junior Paws for Dogs\",\"Junior Paws for Dogs Canada\",\"Adult Access for Dogs\",\"Senior Access for Dogs\",\"Adult Access for Cats\",\"Senior Access for Cats\",\"Adult Access for Dogs\",\"Senior Access for Dogs\",\"Adult Access Feline Canada\",\"Adult Access for Cats\",\"Adult Paws for Cats\",\"Senior Access Feline Canada\",\"Senior Access for Cats\",\"Senior Paws for Cats\",\"Adult Access Canine Canada\",\"Adult Access for Dogs\",\"Adult Paws for Dogs\",\"Senior Access Canine Canada\",\"Senior Access for Dogs\",\"Senior Paws for Dogs\",\"Adult Access for Cats\",\"Junior Access for Cats\",\"Senior Access for Cats\",\"Adult Access for Cats\",\"Senior Access for Cats\",\"Adult Access for Dogs\",\"Senior Access for Dogs\",\"Junior Access for Dogs\",\"Adult Access for Dogs\",\"Junior Access for Dogs\",\"Adult Access for Dogs\",\"Junior Access for Dogs\",\"Adult Access for Dogs\",\"Senior Access for Dogs\",\"Adult Access for Cats\",\"Senior Access for Cats\",\"Adult Access for Cats\",\"Senior Access for Cats\",\"Adult Access for Dogs\",\"Senior Access for Dogs\",\"Adult Access for Dogs\",\"Senior Access for Dogs\",\"Senior Access for Cats\",\"Senior Access for Dogs\",\"Adult Access Canine Canada\",\"Adult Access Feline Canada\",\"Adult Access for Cats\",\"Adult Access for Dogs\",\"Adult Essentials for Cats\",\"Adult Paws Plus Cat Canada\",\"Adult Paws Plus Dog Canada\",\"Adult Paws Plus for Cats\",\"Adult Paws Plus for Dogs\",\"Adult Paws for Cat Canada\",\"Adult Paws for Cats\",\"Adult Paws for Dog Canada\",\"Adult Paws for Dogs\",\"Adult Premier for Cats\",\"Junior Access Canine Canada\",\"Junior Access Feline Canada\",\"Junior Access for Cats\",\"Junior Access for Dogs\",\"Junior Cat Plus Spay Canada\",\"Junior Cats Plus Neuter Canada\",\"Junior Dog Plus Neuter Canada\",\"Junior Dogs Plus Spay Canada\",\"Junior Paws Plus Kitten Neuter\",\"Junior Paws Plus Kitten Spay\",\"Junior Paws Plus Puppy Neuter\",\"Junior Paws Plus Puppy Spay\",\"Junior Paws for Cats\",\"Junior Paws for Cats Canada\",\"Junior Paws for Dogs\",\"Junior Paws for Dogs Canada\",\"Senior Access Canine Canada\",\"Senior Access Feline Canada\",\"Senior Access for Cats\",\"Senior Access for Dogs\",\"Senior Cat Plus for Canada\",\"Senior Dog Plus for Canada\",\"Senior Paws Dog for Canada\",\"Senior Paws Plus for Cats\",\"Senior Paws Plus for Dogs\",\"Senior Paws for Cats\",\"Senior Paws for Cats Canada\",\"Senior Paws for Dogs\",\"Adult Access for Cats\",\"Senior Access for Cats\",\"Adult Access for Dogs\",\"Senior Access for Dogs\",\"Adult Paws Plus Cat Canada\",\"Adult Paws Plus Dog Canada\",\"Adult Paws Plus for Cats\",\"Adult Paws Plus for Dogs\",\"Senior Cat Plus for Canada\",\"Senior Dog Plus for Canada\",\"Senior Paws Plus for Cats\",\"Senior Paws Plus for Dogs\",\"Senior Access for Dogs\",\"Junior Access for Dogs\",\"Adult Access Canine Canada\",\"Adult Access Feline Canada\",\"Adult Access for Cats\",\"Adult Access for Dogs\",\"Adult Essentials for Cats\",\"Adult Paws Plus Cat Canada\",\"Adult Paws Plus Dog Canada\",\"Adult Paws Plus for Cats\",\"Adult Paws Plus for Dogs\",\"Adult Paws for Cat Canada\",\"Adult Paws for Cats\",\"Adult Paws for Dog Canada\",\"Adult Paws for Dogs\",\"Adult Premier for Cats\",\"Senior Access Canine Canada\",\"Senior Access Feline Canada\",\"Senior Access for Cats\",\"Senior Access for Dogs\",\"Senior Cat Plus for Canada\",\"Senior Dog Plus for Canada\",\"Senior Paws Dog for Canada\",\"Senior Paws Plus for Cats\",\"Senior Paws Plus for Dogs\",\"Senior Paws for Cats\",\"Senior Paws for Cats Canada\",\"Senior Paws for Dogs\",\"\",\"\",\"\",\"\",\"\",\"\",\"\",\"\",\"\",\"\",\"\",\"\",\"\",\"\",\"\",\"\",\"\",\"\",\"\",\"\",\"\",\"\",\"\",\"\",\"\",\"\",\"\",\"\",\"\",\"\",\"\",\"\",\"\",\"\",\"\",\"\",\"\",\"\",\"\",\"\",\"\",\"\"],\"type\":\"sunburst\",\"values\":[1,1,24,51,12,1,11,21,33,128,3,6,2,1,3,9,2,19,6,5,17,8,19,104,15,33,193,101,246,29,145,3572,961,41319,26,182,163,5609,12704,3556,41299,5641,12692,29,145,16,961,20,26,182,163,13,12,29,145,3572,961,41319,26,182,163,5654,12704,3556,41299,145,16,961,20,182,163,13,12,373,291,14,12,145,3572,182,5654,145,3530,182,5578,1231,18758,2,4,6438,1880,4945,3231,38593,10,8,14495,5097,11521,89,12,816,17,315,241,11,9,3,96,135,127,11,9,3556,41299,11,9,15787,5641,12692,373,25,11,9,33,373,291,25,21,15791,116,56,11,9,15787,33,373,291,14,12,4,116,33,373,291,25,21,15791,116,5641,12692,291,21,81,182,163,789,5654,2187,49,12704,81,182,163,789,5654,2187,49,12704,29,11,86,269,26,89,145,1062,3572,229,8773,961,41319,4,33,10,121,271,127,130,373,291,7,10,25,21,5384,41,15791,116,26,3,34,177,81,182,163,789,5654,2187,49,12704,17,8,15,33,193,101,246,1,2,3,25,981,1,17,791,5,50,3693,13,96,3699,3,1,87,203,33,10,127,130,373,291,7,10,25,21,5384,41,15791,116,127,130,373,291,6,8,14,12,4,1,3,3,13,1,2,2,6,56,14,118,2,30,1,6,93,13,94,3,1,2,5382,1,26,4,1,3,2,15,5,2,2,2,3,20,87,26,1056,3556,8762,41299,4,1,2,11,9,5382,15787,786,5641,2183,12692,38,5,138,66,203,29,11,89,145,6,16,229,11,961,20,33,10,127,130,373,291,6,8,14,12,2,41,4,116,26,3,81,182,163,3,13,4,49,12,11,89,1062,229,8773,4,3,81,789,2187,49,1056,8762,4,786,2183,11,89,1062,229,8773,4,3,81,789,2187,49,26,1037,8762,19,4,89,6,229,11,81,3,4,49,127,130,6,8,89,1062,81,789,89,1058,81,787,10,127,130,7,10,5384,41,10,127,130,7,10,5384,41,10,127,130,6,8,2,41,10,127,130,7,10,5384,41,4,108,4,60,130,7,2067,1,2,4,786,2183,127,10,1,7,161,3,45,1915,2,1,1,1,30,44,17,77,9,771,10,288,224,11,6,3,83,124,122,11,9,86,269,26,1055,3556,8762,41299,4,121,271,1,2,11,9,5382,15785,34,177,786,5624,2183,12692,2,15,5,2,2,2,1,3,3,20,109,139,41,3,8,828,13,97,4743,1,5,208,2,20,1045,2,8,564,6,81,3779,193,101,246,71,26,1,71,1,1,127,130,373,291,6,8,14,12,2,41,4,116,2,11,6,8,828,97,4743,5,208,20,1045,8,564,81,3779,29,11,89,145,6,16,229,11,961,20,33,10,127,130,373,291,6,8,14,12,2,41,4,116,26,3,81,182,163,3,13,4,49,12,3,3,12,15,8,4,108,60,2067,7,161,45,1915,5,13,4,108,60,2067,7,161,45,1915,8,828,97,4743,5,208,20,1045,8,564,81,3779,1,2,11,9,127,130,373,291,6,8,14,12,1,1,2,1,2,1,2,11,9,4,108,60,2067,7,161,45,1915,8,828,97,4743,5,208,20,1045,8,564,81,3779,33,10,121,271,127,130,373,291,7,10,25,21,5384,41,15791,116,33,10,121,271,127,130,373,291,7,10,25,21,5384,41,15791,116,2,15,5,2,1,3,3,25,972,1,17,787,5,50,3641,13,96,3650,53,119,13,5,2,193,101,246,2,6,1,8,2,15,5,2,2,2,1,3,3,20,19,104,29,11,71,244,10,68,90,735,2599,172,6022,678,29599,3,33,10,104,223,101,96,344,251,4,8,24,16,4127,31,12826,95,26,3,23,134,52,127,93,540,4311,1719,30,9141,2,2,3,20,89,145,6,16,81,182,3,13,1,1,29,11,86,269,26,89,145,1062,3572,229,8773,961,41319,4,26,3,34,177,81,182,163,789,5637,2187,49,12704,272,96,716,2579,166,958,1851,11350,46332,1775,79224,9953,472562,43,408,138,1620,3851,2006,2046,6169,4790,108,156,408,337,73897,482,229941,1434,263,28,272,1858,1024,2752,1972,10006,84713,25163,471,172706]}],                        {\"legend\":{\"tracegroupgap\":0},\"margin\":{\"t\":60},\"template\":{\"data\":{\"bar\":[{\"error_x\":{\"color\":\"#2a3f5f\"},\"error_y\":{\"color\":\"#2a3f5f\"},\"marker\":{\"line\":{\"color\":\"#E5ECF6\",\"width\":0.5},\"pattern\":{\"fillmode\":\"overlay\",\"size\":10,\"solidity\":0.2}},\"type\":\"bar\"}],\"barpolar\":[{\"marker\":{\"line\":{\"color\":\"#E5ECF6\",\"width\":0.5},\"pattern\":{\"fillmode\":\"overlay\",\"size\":10,\"solidity\":0.2}},\"type\":\"barpolar\"}],\"carpet\":[{\"aaxis\":{\"endlinecolor\":\"#2a3f5f\",\"gridcolor\":\"white\",\"linecolor\":\"white\",\"minorgridcolor\":\"white\",\"startlinecolor\":\"#2a3f5f\"},\"baxis\":{\"endlinecolor\":\"#2a3f5f\",\"gridcolor\":\"white\",\"linecolor\":\"white\",\"minorgridcolor\":\"white\",\"startlinecolor\":\"#2a3f5f\"},\"type\":\"carpet\"}],\"choropleth\":[{\"colorbar\":{\"outlinewidth\":0,\"ticks\":\"\"},\"type\":\"choropleth\"}],\"contour\":[{\"colorbar\":{\"outlinewidth\":0,\"ticks\":\"\"},\"colorscale\":[[0.0,\"#0d0887\"],[0.1111111111111111,\"#46039f\"],[0.2222222222222222,\"#7201a8\"],[0.3333333333333333,\"#9c179e\"],[0.4444444444444444,\"#bd3786\"],[0.5555555555555556,\"#d8576b\"],[0.6666666666666666,\"#ed7953\"],[0.7777777777777778,\"#fb9f3a\"],[0.8888888888888888,\"#fdca26\"],[1.0,\"#f0f921\"]],\"type\":\"contour\"}],\"contourcarpet\":[{\"colorbar\":{\"outlinewidth\":0,\"ticks\":\"\"},\"type\":\"contourcarpet\"}],\"heatmap\":[{\"colorbar\":{\"outlinewidth\":0,\"ticks\":\"\"},\"colorscale\":[[0.0,\"#0d0887\"],[0.1111111111111111,\"#46039f\"],[0.2222222222222222,\"#7201a8\"],[0.3333333333333333,\"#9c179e\"],[0.4444444444444444,\"#bd3786\"],[0.5555555555555556,\"#d8576b\"],[0.6666666666666666,\"#ed7953\"],[0.7777777777777778,\"#fb9f3a\"],[0.8888888888888888,\"#fdca26\"],[1.0,\"#f0f921\"]],\"type\":\"heatmap\"}],\"heatmapgl\":[{\"colorbar\":{\"outlinewidth\":0,\"ticks\":\"\"},\"colorscale\":[[0.0,\"#0d0887\"],[0.1111111111111111,\"#46039f\"],[0.2222222222222222,\"#7201a8\"],[0.3333333333333333,\"#9c179e\"],[0.4444444444444444,\"#bd3786\"],[0.5555555555555556,\"#d8576b\"],[0.6666666666666666,\"#ed7953\"],[0.7777777777777778,\"#fb9f3a\"],[0.8888888888888888,\"#fdca26\"],[1.0,\"#f0f921\"]],\"type\":\"heatmapgl\"}],\"histogram\":[{\"marker\":{\"pattern\":{\"fillmode\":\"overlay\",\"size\":10,\"solidity\":0.2}},\"type\":\"histogram\"}],\"histogram2d\":[{\"colorbar\":{\"outlinewidth\":0,\"ticks\":\"\"},\"colorscale\":[[0.0,\"#0d0887\"],[0.1111111111111111,\"#46039f\"],[0.2222222222222222,\"#7201a8\"],[0.3333333333333333,\"#9c179e\"],[0.4444444444444444,\"#bd3786\"],[0.5555555555555556,\"#d8576b\"],[0.6666666666666666,\"#ed7953\"],[0.7777777777777778,\"#fb9f3a\"],[0.8888888888888888,\"#fdca26\"],[1.0,\"#f0f921\"]],\"type\":\"histogram2d\"}],\"histogram2dcontour\":[{\"colorbar\":{\"outlinewidth\":0,\"ticks\":\"\"},\"colorscale\":[[0.0,\"#0d0887\"],[0.1111111111111111,\"#46039f\"],[0.2222222222222222,\"#7201a8\"],[0.3333333333333333,\"#9c179e\"],[0.4444444444444444,\"#bd3786\"],[0.5555555555555556,\"#d8576b\"],[0.6666666666666666,\"#ed7953\"],[0.7777777777777778,\"#fb9f3a\"],[0.8888888888888888,\"#fdca26\"],[1.0,\"#f0f921\"]],\"type\":\"histogram2dcontour\"}],\"mesh3d\":[{\"colorbar\":{\"outlinewidth\":0,\"ticks\":\"\"},\"type\":\"mesh3d\"}],\"parcoords\":[{\"line\":{\"colorbar\":{\"outlinewidth\":0,\"ticks\":\"\"}},\"type\":\"parcoords\"}],\"pie\":[{\"automargin\":true,\"type\":\"pie\"}],\"scatter\":[{\"marker\":{\"colorbar\":{\"outlinewidth\":0,\"ticks\":\"\"}},\"type\":\"scatter\"}],\"scatter3d\":[{\"line\":{\"colorbar\":{\"outlinewidth\":0,\"ticks\":\"\"}},\"marker\":{\"colorbar\":{\"outlinewidth\":0,\"ticks\":\"\"}},\"type\":\"scatter3d\"}],\"scattercarpet\":[{\"marker\":{\"colorbar\":{\"outlinewidth\":0,\"ticks\":\"\"}},\"type\":\"scattercarpet\"}],\"scattergeo\":[{\"marker\":{\"colorbar\":{\"outlinewidth\":0,\"ticks\":\"\"}},\"type\":\"scattergeo\"}],\"scattergl\":[{\"marker\":{\"colorbar\":{\"outlinewidth\":0,\"ticks\":\"\"}},\"type\":\"scattergl\"}],\"scattermapbox\":[{\"marker\":{\"colorbar\":{\"outlinewidth\":0,\"ticks\":\"\"}},\"type\":\"scattermapbox\"}],\"scatterpolar\":[{\"marker\":{\"colorbar\":{\"outlinewidth\":0,\"ticks\":\"\"}},\"type\":\"scatterpolar\"}],\"scatterpolargl\":[{\"marker\":{\"colorbar\":{\"outlinewidth\":0,\"ticks\":\"\"}},\"type\":\"scatterpolargl\"}],\"scatterternary\":[{\"marker\":{\"colorbar\":{\"outlinewidth\":0,\"ticks\":\"\"}},\"type\":\"scatterternary\"}],\"surface\":[{\"colorbar\":{\"outlinewidth\":0,\"ticks\":\"\"},\"colorscale\":[[0.0,\"#0d0887\"],[0.1111111111111111,\"#46039f\"],[0.2222222222222222,\"#7201a8\"],[0.3333333333333333,\"#9c179e\"],[0.4444444444444444,\"#bd3786\"],[0.5555555555555556,\"#d8576b\"],[0.6666666666666666,\"#ed7953\"],[0.7777777777777778,\"#fb9f3a\"],[0.8888888888888888,\"#fdca26\"],[1.0,\"#f0f921\"]],\"type\":\"surface\"}],\"table\":[{\"cells\":{\"fill\":{\"color\":\"#EBF0F8\"},\"line\":{\"color\":\"white\"}},\"header\":{\"fill\":{\"color\":\"#C8D4E3\"},\"line\":{\"color\":\"white\"}},\"type\":\"table\"}]},\"layout\":{\"annotationdefaults\":{\"arrowcolor\":\"#2a3f5f\",\"arrowhead\":0,\"arrowwidth\":1},\"autotypenumbers\":\"strict\",\"coloraxis\":{\"colorbar\":{\"outlinewidth\":0,\"ticks\":\"\"}},\"colorscale\":{\"diverging\":[[0,\"#8e0152\"],[0.1,\"#c51b7d\"],[0.2,\"#de77ae\"],[0.3,\"#f1b6da\"],[0.4,\"#fde0ef\"],[0.5,\"#f7f7f7\"],[0.6,\"#e6f5d0\"],[0.7,\"#b8e186\"],[0.8,\"#7fbc41\"],[0.9,\"#4d9221\"],[1,\"#276419\"]],\"sequential\":[[0.0,\"#0d0887\"],[0.1111111111111111,\"#46039f\"],[0.2222222222222222,\"#7201a8\"],[0.3333333333333333,\"#9c179e\"],[0.4444444444444444,\"#bd3786\"],[0.5555555555555556,\"#d8576b\"],[0.6666666666666666,\"#ed7953\"],[0.7777777777777778,\"#fb9f3a\"],[0.8888888888888888,\"#fdca26\"],[1.0,\"#f0f921\"]],\"sequentialminus\":[[0.0,\"#0d0887\"],[0.1111111111111111,\"#46039f\"],[0.2222222222222222,\"#7201a8\"],[0.3333333333333333,\"#9c179e\"],[0.4444444444444444,\"#bd3786\"],[0.5555555555555556,\"#d8576b\"],[0.6666666666666666,\"#ed7953\"],[0.7777777777777778,\"#fb9f3a\"],[0.8888888888888888,\"#fdca26\"],[1.0,\"#f0f921\"]]},\"colorway\":[\"#636efa\",\"#EF553B\",\"#00cc96\",\"#ab63fa\",\"#FFA15A\",\"#19d3f3\",\"#FF6692\",\"#B6E880\",\"#FF97FF\",\"#FECB52\"],\"font\":{\"color\":\"#2a3f5f\"},\"geo\":{\"bgcolor\":\"white\",\"lakecolor\":\"white\",\"landcolor\":\"#E5ECF6\",\"showlakes\":true,\"showland\":true,\"subunitcolor\":\"white\"},\"hoverlabel\":{\"align\":\"left\"},\"hovermode\":\"closest\",\"mapbox\":{\"style\":\"light\"},\"paper_bgcolor\":\"white\",\"plot_bgcolor\":\"#E5ECF6\",\"polar\":{\"angularaxis\":{\"gridcolor\":\"white\",\"linecolor\":\"white\",\"ticks\":\"\"},\"bgcolor\":\"#E5ECF6\",\"radialaxis\":{\"gridcolor\":\"white\",\"linecolor\":\"white\",\"ticks\":\"\"}},\"scene\":{\"xaxis\":{\"backgroundcolor\":\"#E5ECF6\",\"gridcolor\":\"white\",\"gridwidth\":2,\"linecolor\":\"white\",\"showbackground\":true,\"ticks\":\"\",\"zerolinecolor\":\"white\"},\"yaxis\":{\"backgroundcolor\":\"#E5ECF6\",\"gridcolor\":\"white\",\"gridwidth\":2,\"linecolor\":\"white\",\"showbackground\":true,\"ticks\":\"\",\"zerolinecolor\":\"white\"},\"zaxis\":{\"backgroundcolor\":\"#E5ECF6\",\"gridcolor\":\"white\",\"gridwidth\":2,\"linecolor\":\"white\",\"showbackground\":true,\"ticks\":\"\",\"zerolinecolor\":\"white\"}},\"shapedefaults\":{\"line\":{\"color\":\"#2a3f5f\"}},\"ternary\":{\"aaxis\":{\"gridcolor\":\"white\",\"linecolor\":\"white\",\"ticks\":\"\"},\"baxis\":{\"gridcolor\":\"white\",\"linecolor\":\"white\",\"ticks\":\"\"},\"bgcolor\":\"#E5ECF6\",\"caxis\":{\"gridcolor\":\"white\",\"linecolor\":\"white\",\"ticks\":\"\"}},\"title\":{\"x\":0.05},\"xaxis\":{\"automargin\":true,\"gridcolor\":\"white\",\"linecolor\":\"white\",\"ticks\":\"\",\"title\":{\"standoff\":15},\"zerolinecolor\":\"white\",\"zerolinewidth\":2},\"yaxis\":{\"automargin\":true,\"gridcolor\":\"white\",\"linecolor\":\"white\",\"ticks\":\"\",\"title\":{\"standoff\":15},\"zerolinecolor\":\"white\",\"zerolinewidth\":2}}}},                        {\"responsive\": true}                    ).then(function(){\n",
       "                            \n",
       "var gd = document.getElementById('93fb33c5-7ac6-4261-a9e1-9d720cb0f83a');\n",
       "var x = new MutationObserver(function (mutations, observer) {{\n",
       "        var display = window.getComputedStyle(gd).display;\n",
       "        if (!display || display === 'none') {{\n",
       "            console.log([gd, 'removed!']);\n",
       "            Plotly.purge(gd);\n",
       "            observer.disconnect();\n",
       "        }}\n",
       "}});\n",
       "\n",
       "// Listen for the removal of the full notebook cells\n",
       "var notebookContainer = gd.closest('#notebook-container');\n",
       "if (notebookContainer) {{\n",
       "    x.observe(notebookContainer, {childList: true});\n",
       "}}\n",
       "\n",
       "// Listen for the clearing of the current output cell\n",
       "var outputEl = gd.closest('.output');\n",
       "if (outputEl) {{\n",
       "    x.observe(outputEl, {childList: true});\n",
       "}}\n",
       "\n",
       "                        })                };                });            </script>        </div>"
      ]
     },
     "metadata": {},
     "output_type": "display_data"
    }
   ],
   "source": [
    "fig = px.sunburst(data, path=['WELLNESS_PLAN_NAME', 'SERVICE_NAME'], values='Clients')\n",
    "fig.show()"
   ]
  },
  {
   "cell_type": "code",
   "execution_count": 20,
   "id": "6516d56c",
   "metadata": {},
   "outputs": [
    {
     "data": {
      "application/vnd.plotly.v1+json": {
       "config": {
        "plotlyServerURL": "https://plot.ly"
       },
       "data": [
        {
         "branchvalues": "total",
         "domain": {
          "x": [
           0,
           1
          ],
          "y": [
           0,
           1
          ]
         },
         "hovertemplate": "labels=%{label}<br>Number_Pets=%{value}<br>parent=%{parent}<br>id=%{id}<extra></extra>",
         "ids": [
          "Adult Access for Dogs/Abdominal Cryptorchid add to neuter K9",
          "Junior Access for Dogs/Abdominal Cryptorchid add to neuter K9",
          "Adult Access for Dogs/Accuplex K9",
          "Junior Access for Dogs/Accuplex K9",
          "Senior Access for Dogs/Accuplex K9",
          "Adult Access for Dogs/Additonal Fecal exam",
          "Junior Access for Cats/Additonal Fecal exam",
          "Junior Access for Dogs/Additonal Fecal exam",
          "Adult Access for Cats/Adult Wellness Fel",
          "Adult Access for Dogs/Adult Wellness K9",
          "Adult Access Feline Canada/Advanced Labwork Canada",
          "Senior Access Canine Canada/Advanced Labwork Canada",
          "Senior Access Feline Canada/Advanced Labwork Canada",
          "Adult Access Canine Canada/Anal Sac Expression Canada",
          "Senior Access Canine Canada/Anal Sac Expression Canada",
          "Adult Access Canine Canada/Basic Labwork Canada",
          "Adult Access Feline Canada/Basic Labwork Canada",
          "Junior Access Canine Canada/Basic Labwork Canada",
          "Junior Access Feline Canada/Basic Labwork Canada",
          "Senior Access Canine Canada/Basic Labwork Canada",
          "Adult Access for Cats/Blood Pressure Fel",
          "Senior Access for Cats/Blood Pressure Fel",
          "Senior Access for Cats/Blood Pressure Fel.",
          "Senior Access for Dogs/Blood Pressure K9",
          "Adult Access for Dogs/Blood Pressure K9.",
          "Senior Access for Dogs/Blood Pressure K9.",
          "Adult Access for Dogs/Bordetella (Adult/Senior)",
          "Senior Access for Dogs/Bordetella (Adult/Senior)",
          "Junior Access for Dogs/Bordetella (puppy)",
          "Adult Access Canine Canada/Canine Adult Bordetella Vaccine",
          "Adult Paws Plus Dog Canada/Canine Adult Bordetella Vaccine",
          "Adult Paws Plus for Dogs/Canine Adult Bordetella Vaccine",
          "Adult Paws for Dog Canada/Canine Adult Bordetella Vaccine",
          "Adult Paws for Dogs/Canine Adult Bordetella Vaccine",
          "Senior Access Canine Canada/Canine Adult Bordetella Vaccine",
          "Senior Dog Plus for Canada/Canine Adult Bordetella Vaccine",
          "Senior Paws Dog for Canada/Canine Adult Bordetella Vaccine",
          "Senior Paws Plus for Dogs/Canine Adult Bordetella Vaccine",
          "Senior Paws for Dogs/Canine Adult Bordetella Vaccine",
          "Adult Paws Plus for Dogs/Canine Adult Combo Vaccine",
          "Adult Paws for Dogs/Canine Adult Combo Vaccine",
          "Senior Paws Plus for Dogs/Canine Adult Combo Vaccine",
          "Senior Paws for Dogs/Canine Adult Combo Vaccine",
          "Adult Access Canine Canada/Canine Adult Distemper/Parvo Combo Vaccine",
          "Adult Paws Plus Dog Canada/Canine Adult Distemper/Parvo Combo Vaccine",
          "Adult Paws Plus for Dogs/Canine Adult Distemper/Parvo Combo Vaccine",
          "Adult Paws for Dog Canada/Canine Adult Distemper/Parvo Combo Vaccine",
          "Adult Paws for Dogs/Canine Adult Distemper/Parvo Combo Vaccine",
          "Senior Access Canine Canada/Canine Adult Distemper/Parvo Combo Vaccine",
          "Senior Dog Plus for Canada/Canine Adult Distemper/Parvo Combo Vaccine",
          "Senior Paws Dog for Canada/Canine Adult Distemper/Parvo Combo Vaccine",
          "Senior Paws Plus for Dogs/Canine Adult Distemper/Parvo Combo Vaccine",
          "Senior Paws for Dogs/Canine Adult Distemper/Parvo Combo Vaccine",
          "Adult Access Canine Canada/Canine Adult Rabies Vaccine",
          "Adult Paws Plus Dog Canada/Canine Adult Rabies Vaccine",
          "Adult Paws Plus for Dogs/Canine Adult Rabies Vaccine",
          "Adult Paws for Dog Canada/Canine Adult Rabies Vaccine",
          "Adult Paws for Dogs/Canine Adult Rabies Vaccine",
          "Senior Access Canine Canada/Canine Adult Rabies Vaccine",
          "Senior Dog Plus for Canada/Canine Adult Rabies Vaccine",
          "Senior Paws Dog for Canada/Canine Adult Rabies Vaccine",
          "Senior Paws Plus for Dogs/Canine Adult Rabies Vaccine",
          "Senior Paws for Dogs/Canine Adult Rabies Vaccine",
          "Adult Paws Plus for Dogs/Canine Adult Wellness Labwork",
          "Adult Paws for Dogs/Canine Adult Wellness Labwork",
          "Adult Paws Plus Dog Canada/Canine Adult/Senior Wellness Labwork",
          "Adult Paws Plus for Dogs/Canine Adult/Senior Wellness Labwork",
          "Adult Paws for Dog Canada/Canine Adult/Senior Wellness Labwork",
          "Adult Paws for Dogs/Canine Adult/Senior Wellness Labwork",
          "Senior Dog Plus for Canada/Canine Adult/Senior Wellness Labwork",
          "Senior Paws Dog for Canada/Canine Adult/Senior Wellness Labwork",
          "Senior Paws Plus for Dogs/Canine Adult/Senior Wellness Labwork",
          "Senior Paws for Dogs/Canine Adult/Senior Wellness Labwork",
          "Junior Dog Plus Neuter Canada/Canine Complexity",
          "Junior Dogs Plus Spay Canada/Canine Complexity",
          "Junior Paws Plus Puppy Neuter/Canine Complexity",
          "Junior Paws Plus Puppy Spay/Canine Complexity",
          "Adult Paws Plus Dog Canada/Canine Dental",
          "Adult Paws Plus for Dogs/Canine Dental",
          "Senior Dog Plus for Canada/Canine Dental",
          "Senior Paws Plus for Dogs/Canine Dental",
          "Adult Paws Plus Dog Canada/Canine Dental Xray",
          "Adult Paws Plus for Dogs/Canine Dental Xray",
          "Senior Dog Plus for Canada/Canine Dental Xray",
          "Senior Paws Plus for Dogs/Canine Dental Xray",
          "Adult Paws Plus for Dogs/Canine Influenza Vaccine",
          "Adult Paws for Dogs/Canine Influenza Vaccine",
          "Junior Paws Plus Puppy Neuter/Canine Influenza Vaccine",
          "Junior Paws Plus Puppy Spay/Canine Influenza Vaccine",
          "Junior Paws for Dogs/Canine Influenza Vaccine",
          "Senior Paws Plus for Dogs/Canine Influenza Vaccine",
          "Senior Paws for Dogs/Canine Influenza Vaccine",
          "Adult Paws Plus for Dogs/Canine Influenza or Lyme Vaccine",
          "Adult Paws for Dogs/Canine Influenza or Lyme Vaccine",
          "Junior Paws Plus Puppy Neuter/Canine Influenza or Lyme Vaccine",
          "Junior Paws Plus Puppy Spay/Canine Influenza or Lyme Vaccine",
          "Junior Paws for Dogs/Canine Influenza or Lyme Vaccine",
          "Senior Paws Plus for Dogs/Canine Influenza or Lyme Vaccine",
          "Senior Paws for Dogs/Canine Influenza or Lyme Vaccine",
          "Adult Paws Plus Dog Canada/Canine Lepto Vaccine",
          "Adult Paws Plus for Dogs/Canine Lepto Vaccine",
          "Adult Paws for Dog Canada/Canine Lepto Vaccine",
          "Adult Paws for Dogs/Canine Lepto Vaccine",
          "Junior Dog Plus Neuter Canada/Canine Lepto Vaccine",
          "Junior Dogs Plus Spay Canada/Canine Lepto Vaccine",
          "Junior Paws Plus Puppy Neuter/Canine Lepto Vaccine",
          "Junior Paws Plus Puppy Spay/Canine Lepto Vaccine",
          "Junior Paws for Dogs/Canine Lepto Vaccine",
          "Junior Paws for Dogs Canada/Canine Lepto Vaccine",
          "Senior Dog Plus for Canada/Canine Lepto Vaccine",
          "Senior Paws Dog for Canada/Canine Lepto Vaccine",
          "Senior Paws Plus for Dogs/Canine Lepto Vaccine",
          "Senior Paws for Dogs/Canine Lepto Vaccine",
          "Adult Paws Plus for Dogs/Canine Leptospirosis Vaccine",
          "Adult Paws for Dogs/Canine Leptospirosis Vaccine",
          "Junior Paws Plus Puppy Neuter/Canine Leptospirosis Vaccine",
          "Junior Paws Plus Puppy Spay/Canine Leptospirosis Vaccine",
          "Junior Paws for Dogs/Canine Leptospirosis Vaccine",
          "Senior Paws Plus for Dogs/Canine Leptospirosis Vaccine",
          "Senior Paws for Dogs/Canine Leptospirosis Vaccine",
          "Junior Dog Plus Neuter Canada/Canine Neuter",
          "Junior Paws Plus Puppy Neuter/Canine Neuter",
          "Junior Paws Plus Puppy Neuter/Canine Pain Medication Dispensed",
          "Junior Paws Plus Puppy Spay/Canine Pain Medication Dispensed",
          "Junior Access Canine Canada/Canine Puppy Bordetella Vaccine",
          "Junior Dog Plus Neuter Canada/Canine Puppy Bordetella Vaccine",
          "Junior Dogs Plus Spay Canada/Canine Puppy Bordetella Vaccine",
          "Junior Paws Plus Puppy Neuter/Canine Puppy Bordetella Vaccine",
          "Junior Paws Plus Puppy Spay/Canine Puppy Bordetella Vaccine",
          "Junior Paws for Dogs/Canine Puppy Bordetella Vaccine",
          "Junior Paws for Dogs Canada/Canine Puppy Bordetella Vaccine",
          "Senior Paws Plus for Dogs/Canine Puppy Bordetella Vaccine",
          "Junior Paws Plus Puppy Neuter/Canine Puppy Combo Vaccine",
          "Junior Paws Plus Puppy Spay/Canine Puppy Combo Vaccine",
          "Junior Paws for Dogs/Canine Puppy Combo Vaccine",
          "Junior Access Canine Canada/Canine Puppy Distemper/Parvo Combo Vaccine",
          "Junior Dog Plus Neuter Canada/Canine Puppy Distemper/Parvo Combo Vaccine",
          "Junior Dogs Plus Spay Canada/Canine Puppy Distemper/Parvo Combo Vaccine",
          "Junior Paws Plus Puppy Neuter/Canine Puppy Distemper/Parvo Combo Vaccine",
          "Junior Paws Plus Puppy Spay/Canine Puppy Distemper/Parvo Combo Vaccine",
          "Junior Paws for Dogs/Canine Puppy Distemper/Parvo Combo Vaccine",
          "Junior Paws for Dogs Canada/Canine Puppy Distemper/Parvo Combo Vaccine",
          "Junior Access Canine Canada/Canine Puppy Rabies Vaccine",
          "Junior Dog Plus Neuter Canada/Canine Puppy Rabies Vaccine",
          "Junior Dogs Plus Spay Canada/Canine Puppy Rabies Vaccine",
          "Junior Paws Plus Puppy Neuter/Canine Puppy Rabies Vaccine",
          "Junior Paws Plus Puppy Spay/Canine Puppy Rabies Vaccine",
          "Junior Paws for Dogs/Canine Puppy Rabies Vaccine",
          "Junior Paws for Dogs Canada/Canine Puppy Rabies Vaccine",
          "Senior Paws Plus for Dogs/Canine Senior Wellness Labwork",
          "Senior Paws for Dogs/Canine Senior Wellness Labwork",
          "Junior Dogs Plus Spay Canada/Canine Spay",
          "Junior Paws Plus Puppy Spay/Canine Spay",
          "Senior Cat Plus for Canada/Canine/Feline Senior Blood Pressure",
          "Senior Dog Plus for Canada/Canine/Feline Senior Blood Pressure",
          "Senior Paws Dog for Canada/Canine/Feline Senior Blood Pressure",
          "Senior Paws Plus for Cats/Canine/Feline Senior Blood Pressure",
          "Senior Paws Plus for Dogs/Canine/Feline Senior Blood Pressure",
          "Senior Paws for Cats/Canine/Feline Senior Blood Pressure",
          "Senior Paws for Cats Canada/Canine/Feline Senior Blood Pressure",
          "Senior Paws for Dogs/Canine/Feline Senior Blood Pressure",
          "Senior Cat Plus for Canada/Canine/Feline Senior Radiographs",
          "Senior Dog Plus for Canada/Canine/Feline Senior Radiographs",
          "Senior Paws Dog for Canada/Canine/Feline Senior Radiographs",
          "Senior Paws Plus for Cats/Canine/Feline Senior Radiographs",
          "Senior Paws Plus for Dogs/Canine/Feline Senior Radiographs",
          "Senior Paws for Cats/Canine/Feline Senior Radiographs",
          "Senior Paws for Cats Canada/Canine/Feline Senior Radiographs",
          "Senior Paws for Dogs/Canine/Feline Senior Radiographs",
          "Adult Access Canine Canada/CareClub Checkup Exam",
          "Adult Access Feline Canada/CareClub Checkup Exam",
          "Adult Access for Cats/CareClub Checkup Exam",
          "Adult Access for Dogs/CareClub Checkup Exam",
          "Adult Essentials for Cats/CareClub Checkup Exam",
          "Adult Paws Plus Cat Canada/CareClub Checkup Exam",
          "Adult Paws Plus Dog Canada/CareClub Checkup Exam",
          "Adult Paws Plus for Cats/CareClub Checkup Exam",
          "Adult Paws Plus for Dogs/CareClub Checkup Exam",
          "Adult Paws for Cat Canada/CareClub Checkup Exam",
          "Adult Paws for Cats/CareClub Checkup Exam",
          "Adult Paws for Dog Canada/CareClub Checkup Exam",
          "Adult Paws for Dogs/CareClub Checkup Exam",
          "Adult Premier for Cats/CareClub Checkup Exam",
          "Junior Access Canine Canada/CareClub Checkup Exam",
          "Junior Access Feline Canada/CareClub Checkup Exam",
          "Junior Access for Cats/CareClub Checkup Exam",
          "Junior Access for Dogs/CareClub Checkup Exam",
          "Junior Cat Plus Spay Canada/CareClub Checkup Exam",
          "Junior Cats Plus Neuter Canada/CareClub Checkup Exam",
          "Junior Dog Plus Neuter Canada/CareClub Checkup Exam",
          "Junior Dogs Plus Spay Canada/CareClub Checkup Exam",
          "Junior Paws Plus Kitten Neuter/CareClub Checkup Exam",
          "Junior Paws Plus Kitten Spay/CareClub Checkup Exam",
          "Junior Paws Plus Puppy Neuter/CareClub Checkup Exam",
          "Junior Paws Plus Puppy Spay/CareClub Checkup Exam",
          "Junior Paws for Cats/CareClub Checkup Exam",
          "Junior Paws for Cats Canada/CareClub Checkup Exam",
          "Junior Paws for Dogs/CareClub Checkup Exam",
          "Junior Paws for Dogs Canada/CareClub Checkup Exam",
          "Senior Access Canine Canada/CareClub Checkup Exam",
          "Senior Access Feline Canada/CareClub Checkup Exam",
          "Senior Access for Cats/CareClub Checkup Exam",
          "Senior Access for Dogs/CareClub Checkup Exam",
          "Senior Cat Plus for Canada/CareClub Checkup Exam",
          "Senior Dog Plus for Canada/CareClub Checkup Exam",
          "Senior Paws Dog for Canada/CareClub Checkup Exam",
          "Senior Paws Plus for Cats/CareClub Checkup Exam",
          "Senior Paws Plus for Dogs/CareClub Checkup Exam",
          "Senior Paws for Cats/CareClub Checkup Exam",
          "Senior Paws for Cats Canada/CareClub Checkup Exam",
          "Senior Paws for Dogs/CareClub Checkup Exam",
          "Adult Access for Cats/Comprehensive Labwork Fel",
          "Senior Access for Cats/Comprehensive Labwork Fel",
          "Adult Access for Dogs/Comprehensive Labwork K9",
          "Senior Access for Dogs/Comprehensive Labwork K9",
          "Adult Access for Dogs/DHPP (DHLPP) (Adult/Senior)",
          "Senior Access for Dogs/DHPP (DHLPP) (Adult/Senior)",
          "Junior Access for Dogs/DHPP (DHLPP) Puppy",
          "Junior Access for Dogs/Deciduous teeth ADD add to neuter K9",
          "Junior Access for Dogs/Deciduous teeth ADD add to spay K9",
          "Adult Access Feline Canada/Dental Package Fe G",
          "Adult Access for Cats/Dental Package Fe G",
          "Adult Paws for Cats/Dental Package Fe G",
          "Senior Access Feline Canada/Dental Package Fe G",
          "Senior Access for Cats/Dental Package Fe G",
          "Senior Paws for Cats/Dental Package Fe G",
          "Adult Access Canine Canada/Dental Package K9 G",
          "Adult Access for Dogs/Dental Package K9 G",
          "Adult Paws for Dogs/Dental Package K9 G",
          "Senior Access Canine Canada/Dental Package K9 G",
          "Senior Access for Dogs/Dental Package K9 G",
          "Senior Paws for Dogs/Dental Package K9 G",
          "Adult Access Feline Canada/Dental Pain Management Fel",
          "Senior Access Feline Canada/Dental Pain Management Fel",
          "Junior Access for Cats/Deworm Fel",
          "Junior Access for Dogs/Deworm K9",
          "Junior Access Canine Canada/Deworming",
          "Junior Access Feline Canada/Deworming",
          "Junior Cat Plus Spay Canada/Deworming",
          "Junior Cats Plus Neuter Canada/Deworming",
          "Junior Dog Plus Neuter Canada/Deworming",
          "Junior Dogs Plus Spay Canada/Deworming",
          "Junior Paws Plus Kitten Neuter/Deworming",
          "Junior Paws Plus Kitten Spay/Deworming",
          "Junior Paws Plus Puppy Neuter/Deworming",
          "Junior Paws Plus Puppy Spay/Deworming",
          "Junior Paws for Cats/Deworming",
          "Junior Paws for Cats Canada/Deworming",
          "Junior Paws for Dogs/Deworming",
          "Junior Paws for Dogs Canada/Deworming",
          "Junior Cat Plus Spay Canada/Elective Block",
          "Junior Cats Plus Neuter Canada/Elective Block",
          "Junior Dog Plus Neuter Canada/Elective Block",
          "Junior Dogs Plus Spay Canada/Elective Block",
          "Junior Paws Plus Kitten Neuter/Elective Block",
          "Junior Paws Plus Kitten Spay/Elective Block",
          "Junior Paws Plus Puppy Neuter/Elective Block",
          "Junior Paws Plus Puppy Spay/Elective Block",
          "Junior Access Feline Canada/Elective Block Fel Neuter",
          "Adult Access Feline Canada/Elective Block Fel Spay",
          "Junior Access Feline Canada/Elective Block Fel Spay",
          "Adult Access Canine Canada/Elective Block K9 Neuter",
          "Junior Access Canine Canada/Elective Block K9 Neuter",
          "Adult Access Canine Canada/Elective Block'",
          "Junior Access Canine Canada/Elective Block'",
          "Adult Access Canine Canada/Elective Block.",
          "Junior Access Canine Canada/Elective Block.",
          "Adult Access for Cats/FVRCP (Adult/Senior)",
          "Senior Access for Cats/FVRCP (Adult/Senior)",
          "Junior Access for Cats/FVRCP (Kitten)",
          "Adult Access Feline Canada/FeLV (Adult/Senior)",
          "Adult Access for Cats/FeLV (Adult/Senior)",
          "Senior Access Feline Canada/FeLV (Adult/Senior)",
          "Senior Access for Cats/FeLV (Adult/Senior)",
          "Junior Access for Cats/FeLV (Kitten)",
          "Adult Access for Cats/FeLV / FIV test Fel",
          "Junior Access for Cats/FeLV / FIV test Fel",
          "Senior Access for Cats/FeLV / FIV test Fel",
          "Junior Paws Plus Kitten Neuter/FeLV/FIV Test",
          "Junior Paws Plus Kitten Spay/FeLV/FIV Test",
          "Junior Paws for Cats/FeLV/FIV Test",
          "Senior Access Feline Canada/FeLV/FIV Test Fel",
          "Adult Essentials for Cats/FeLV/FIV/Hwab",
          "Adult Premier for Cats/FeLV/FIV/Hwab",
          "Adult Access for Dogs/Fear Free codes,",
          "Senior Access for Dogs/Fear Free codes,",
          "Adult Access for Dogs/Fear free codes",
          "Senior Access for Dogs/Fear free codes",
          "Adult Access for Cats/Fear free codes Fel",
          "Senior Access for Cats/Fear free codes Fel",
          "Adult Access for Cats/Fear free codes Fel.",
          "Senior Access for Cats/Fear free codes Fel.",
          "Adult Access for Dogs/Fear free codes.",
          "Senior Access for Dogs/Fear free codes.",
          "Junior Access for Cats/Fecal Fel",
          "Adult Essentials for Cats/Fecal Test",
          "Adult Paws Plus for Cats/Fecal Test",
          "Adult Paws Plus for Dogs/Fecal Test",
          "Adult Paws for Cats/Fecal Test",
          "Adult Paws for Dogs/Fecal Test",
          "Adult Premier for Cats/Fecal Test",
          "Junior Paws Plus Kitten Neuter/Fecal Test",
          "Junior Paws Plus Kitten Spay/Fecal Test",
          "Junior Paws Plus Puppy Neuter/Fecal Test",
          "Junior Paws Plus Puppy Spay/Fecal Test",
          "Junior Paws for Cats/Fecal Test",
          "Junior Paws for Dogs/Fecal Test",
          "Senior Paws Plus for Cats/Fecal Test",
          "Senior Paws Plus for Dogs/Fecal Test",
          "Senior Paws for Cats/Fecal Test",
          "Senior Paws for Dogs/Fecal Test",
          "Adult Access for Cats/Fecal exam (O&P Giardia) Fel",
          "Senior Access for Cats/Fecal exam (O&P Giardia) Fel",
          "Adult Access for Dogs/Fecal exam (O&P Giardia) K9",
          "Senior Access for Dogs/Fecal exam (O&P Giardia) K9",
          "Junior Access for Dogs/Fecal k9",
          "Adult Access Canine Canada/Fecal/Parasite Test",
          "Adult Access Feline Canada/Fecal/Parasite Test",
          "Adult Paws Plus Cat Canada/Fecal/Parasite Test",
          "Adult Paws Plus Dog Canada/Fecal/Parasite Test",
          "Adult Paws Plus for Cats/Fecal/Parasite Test",
          "Adult Paws Plus for Dogs/Fecal/Parasite Test",
          "Adult Paws for Cat Canada/Fecal/Parasite Test",
          "Adult Paws for Cats/Fecal/Parasite Test",
          "Adult Paws for Dog Canada/Fecal/Parasite Test",
          "Adult Paws for Dogs/Fecal/Parasite Test",
          "Junior Access Canine Canada/Fecal/Parasite Test",
          "Junior Access Feline Canada/Fecal/Parasite Test",
          "Junior Cat Plus Spay Canada/Fecal/Parasite Test",
          "Junior Cats Plus Neuter Canada/Fecal/Parasite Test",
          "Junior Dog Plus Neuter Canada/Fecal/Parasite Test",
          "Junior Dogs Plus Spay Canada/Fecal/Parasite Test",
          "Junior Paws Plus Kitten Neuter/Fecal/Parasite Test",
          "Junior Paws Plus Kitten Spay/Fecal/Parasite Test",
          "Junior Paws Plus Puppy Neuter/Fecal/Parasite Test",
          "Junior Paws Plus Puppy Spay/Fecal/Parasite Test",
          "Junior Paws for Cats/Fecal/Parasite Test",
          "Junior Paws for Cats Canada/Fecal/Parasite Test",
          "Junior Paws for Dogs/Fecal/Parasite Test",
          "Junior Paws for Dogs Canada/Fecal/Parasite Test",
          "Senior Access Canine Canada/Fecal/Parasite Test",
          "Senior Access Feline Canada/Fecal/Parasite Test",
          "Senior Cat Plus for Canada/Fecal/Parasite Test",
          "Senior Dog Plus for Canada/Fecal/Parasite Test",
          "Senior Paws Dog for Canada/Fecal/Parasite Test",
          "Senior Paws Plus for Cats/Fecal/Parasite Test",
          "Senior Paws Plus for Dogs/Fecal/Parasite Test",
          "Senior Paws for Cats/Fecal/Parasite Test",
          "Senior Paws for Cats Canada/Fecal/Parasite Test",
          "Senior Paws for Dogs/Fecal/Parasite Test",
          "Adult Access Feline Canada/Feline Adult FVRCP Vaccine",
          "Adult Paws Plus Cat Canada/Feline Adult FVRCP Vaccine",
          "Adult Paws Plus for Cats/Feline Adult FVRCP Vaccine",
          "Adult Paws for Cat Canada/Feline Adult FVRCP Vaccine",
          "Adult Paws for Cats/Feline Adult FVRCP Vaccine",
          "Adult Premier for Cats/Feline Adult FVRCP Vaccine",
          "Senior Access Feline Canada/Feline Adult FVRCP Vaccine",
          "Senior Cat Plus for Canada/Feline Adult FVRCP Vaccine",
          "Senior Paws Plus for Cats/Feline Adult FVRCP Vaccine",
          "Senior Paws for Cats/Feline Adult FVRCP Vaccine",
          "Senior Paws for Cats Canada/Feline Adult FVRCP Vaccine",
          "Adult Paws Plus for Cats/Feline Adult FeLV Vaccine",
          "Adult Paws for Cats/Feline Adult FeLV Vaccine",
          "Adult Premier for Cats/Feline Adult FeLV Vaccine",
          "Senior Paws Plus for Cats/Feline Adult FeLV Vaccine",
          "Senior Paws for Cats/Feline Adult FeLV Vaccine",
          "Adult Access Feline Canada/Feline Adult Rabies Vaccine",
          "Adult Paws Plus Cat Canada/Feline Adult Rabies Vaccine",
          "Adult Paws Plus for Cats/Feline Adult Rabies Vaccine",
          "Adult Paws for Cat Canada/Feline Adult Rabies Vaccine",
          "Adult Paws for Cats/Feline Adult Rabies Vaccine",
          "Adult Premier for Cats/Feline Adult Rabies Vaccine",
          "Senior Access Feline Canada/Feline Adult Rabies Vaccine",
          "Senior Cat Plus for Canada/Feline Adult Rabies Vaccine",
          "Senior Paws Plus for Cats/Feline Adult Rabies Vaccine",
          "Senior Paws for Cats/Feline Adult Rabies Vaccine",
          "Senior Paws for Cats Canada/Feline Adult Rabies Vaccine",
          "Adult Essentials for Cats/Feline Adult Wellness Labwork",
          "Adult Paws Plus for Cats/Feline Adult Wellness Labwork",
          "Adult Paws for Cats/Feline Adult Wellness Labwork",
          "Adult Paws Plus for Cats/Feline Adult Wellness Panel",
          "Adult Premier for Cats/Feline Adult Wellness Panel",
          "Adult Paws Plus Cat Canada/Feline Adult/Senior Wellness Labwork",
          "Adult Paws Plus for Cats/Feline Adult/Senior Wellness Labwork",
          "Adult Paws for Cat Canada/Feline Adult/Senior Wellness Labwork",
          "Adult Paws for Cats/Feline Adult/Senior Wellness Labwork",
          "Senior Cat Plus for Canada/Feline Adult/Senior Wellness Labwork",
          "Senior Paws Plus for Cats/Feline Adult/Senior Wellness Labwork",
          "Senior Paws for Cats/Feline Adult/Senior Wellness Labwork",
          "Senior Paws for Cats Canada/Feline Adult/Senior Wellness Labwork",
          "Junior Cat Plus Spay Canada/Feline Complexity",
          "Junior Cats Plus Neuter Canada/Feline Complexity",
          "Junior Paws Plus Kitten Neuter/Feline Complexity",
          "Junior Paws Plus Kitten Spay/Feline Complexity",
          "Adult Paws Plus Cat Canada/Feline Dental",
          "Adult Paws Plus for Cats/Feline Dental",
          "Senior Cat Plus for Canada/Feline Dental",
          "Senior Paws Plus for Cats/Feline Dental",
          "Adult Paws Plus Cat Canada/Feline Dental Xray",
          "Adult Paws Plus for Cats/Feline Dental Xray",
          "Senior Cat Plus for Canada/Feline Dental Xray",
          "Senior Paws Plus for Cats/Feline Dental Xray",
          "Junior Access Feline Canada/Feline Kitten FVRCP Vaccine",
          "Junior Cat Plus Spay Canada/Feline Kitten FVRCP Vaccine",
          "Junior Cats Plus Neuter Canada/Feline Kitten FVRCP Vaccine",
          "Junior Paws Plus Kitten Neuter/Feline Kitten FVRCP Vaccine",
          "Junior Paws Plus Kitten Spay/Feline Kitten FVRCP Vaccine",
          "Junior Paws for Cats/Feline Kitten FVRCP Vaccine",
          "Junior Paws for Cats Canada/Feline Kitten FVRCP Vaccine",
          "Junior Access Feline Canada/Feline Kitten FeLV Vaccine",
          "Junior Cat Plus Spay Canada/Feline Kitten FeLV Vaccine",
          "Junior Cats Plus Neuter Canada/Feline Kitten FeLV Vaccine",
          "Junior Paws Plus Kitten Neuter/Feline Kitten FeLV Vaccine",
          "Junior Paws Plus Kitten Spay/Feline Kitten FeLV Vaccine",
          "Junior Paws for Cats/Feline Kitten FeLV Vaccine",
          "Junior Paws for Cats Canada/Feline Kitten FeLV Vaccine",
          "Junior Access Feline Canada/Feline Kitten Labwork",
          "Junior Cat Plus Spay Canada/Feline Kitten Labwork",
          "Junior Cats Plus Neuter Canada/Feline Kitten Labwork",
          "Junior Paws Plus Kitten Neuter/Feline Kitten Labwork",
          "Junior Paws Plus Kitten Spay/Feline Kitten Labwork",
          "Junior Paws for Cats/Feline Kitten Labwork",
          "Junior Paws for Cats Canada/Feline Kitten Labwork",
          "Junior Access Feline Canada/Feline Kitten Rabies Vaccine",
          "Junior Cat Plus Spay Canada/Feline Kitten Rabies Vaccine",
          "Junior Cats Plus Neuter Canada/Feline Kitten Rabies Vaccine",
          "Junior Paws Plus Kitten Neuter/Feline Kitten Rabies Vaccine",
          "Junior Paws Plus Kitten Spay/Feline Kitten Rabies Vaccine",
          "Junior Paws for Cats/Feline Kitten Rabies Vaccine",
          "Junior Paws for Cats Canada/Feline Kitten Rabies Vaccine",
          "Adult Access for Cats/Feline Neuter",
          "Adult Paws for Cats/Feline Neuter",
          "Junior Access Feline Canada/Feline Neuter",
          "Junior Access for Cats/Feline Neuter",
          "Junior Cats Plus Neuter Canada/Feline Neuter",
          "Junior Paws Plus Kitten Neuter/Feline Neuter",
          "Junior Paws for Cats/Feline Neuter",
          "Junior Paws Plus Kitten Neuter/Feline Pain Medication Dispensed",
          "Junior Paws Plus Kitten Spay/Feline Pain Medication Dispensed",
          "Adult Premier for Cats/Feline Parasiticide",
          "Senior Paws Plus for Cats/Feline Senior Wellness Labwork",
          "Senior Paws for Cats/Feline Senior Wellness Labwork",
          "Junior Cat Plus Spay Canada/Feline Spay",
          "Junior Paws Plus Kitten Spay/Feline Spay",
          "Adult Access Feline Canada/Feline Spay.",
          "Adult Access for Cats/Feline Spay.",
          "Adult Paws for Cats/Feline Spay.",
          "Junior Access Feline Canada/Feline Spay.",
          "Junior Access for Cats/Feline Spay.",
          "Junior Paws for Cats/Feline Spay.",
          "Junior Access Canine Canada/Female Spay Complexity K9 Canada",
          "Junior Access for Dogs/Gastropexy + Anesth Neuter (Elective) ADD K9",
          "Adult Access for Dogs/Gastropexy + Anesth Spay (Elective) ADD K9",
          "Junior Access for Dogs/Gastropexy + Anesth Spay (Elective) ADD K9",
          "Adult Access for Dogs/Heartworm K9",
          "Junior Access for Dogs/Heartworm K9",
          "Senior Access for Dogs/Heartworm K9",
          "Adult Paws Plus Dog Canada/Heartworm/Tick Disease Test",
          "Adult Paws Plus for Dogs/Heartworm/Tick Disease Test",
          "Adult Paws for Dog Canada/Heartworm/Tick Disease Test",
          "Adult Paws for Dogs/Heartworm/Tick Disease Test",
          "Junior Dog Plus Neuter Canada/Heartworm/Tick Disease Test",
          "Junior Dogs Plus Spay Canada/Heartworm/Tick Disease Test",
          "Junior Paws Plus Puppy Neuter/Heartworm/Tick Disease Test",
          "Junior Paws Plus Puppy Spay/Heartworm/Tick Disease Test",
          "Junior Paws for Dogs/Heartworm/Tick Disease Test",
          "Junior Paws for Dogs Canada/Heartworm/Tick Disease Test",
          "Senior Dog Plus for Canada/Heartworm/Tick Disease Test",
          "Senior Paws Dog for Canada/Heartworm/Tick Disease Test",
          "Senior Paws Plus for Dogs/Heartworm/Tick Disease Test",
          "Senior Paws for Dogs/Heartworm/Tick Disease Test",
          "Adult Access for Cats/HomeAgain Service",
          "Adult Access for Dogs/HomeAgain Service",
          "Adult Essentials for Cats/HomeAgain Service",
          "Adult Paws Plus for Cats/HomeAgain Service",
          "Adult Paws Plus for Dogs/HomeAgain Service",
          "Adult Paws for Cats/HomeAgain Service",
          "Adult Paws for Dogs/HomeAgain Service",
          "Adult Premier for Cats/HomeAgain Service",
          "Junior Access for Cats/HomeAgain Service",
          "Junior Access for Dogs/HomeAgain Service",
          "Junior Paws Plus Kitten Neuter/HomeAgain Service",
          "Junior Paws Plus Kitten Spay/HomeAgain Service",
          "Junior Paws Plus Puppy Neuter/HomeAgain Service",
          "Junior Paws Plus Puppy Spay/HomeAgain Service",
          "Junior Paws for Cats/HomeAgain Service",
          "Junior Paws for Dogs/HomeAgain Service",
          "Senior Access for Cats/HomeAgain Service",
          "Senior Access for Dogs/HomeAgain Service",
          "Senior Paws Plus for Cats/HomeAgain Service",
          "Senior Paws Plus for Dogs/HomeAgain Service",
          "Senior Paws for Cats/HomeAgain Service",
          "Senior Paws for Dogs/HomeAgain Service",
          "Adult Access for Dogs/IV Catheter Sedation",
          "Senior Access for Dogs/IV Catheter Sedation",
          "Adult Access for Cats/IV Catheter Sedation Fel",
          "Senior Access for Cats/IV Catheter Sedation Fel",
          "Adult Access for Cats/IV Catheter Sedation Fel.",
          "Senior Access for Cats/IV Catheter Sedation Fel.",
          "Adult Access for Dogs/IV Catheter Sedation,",
          "Senior Access for Dogs/IV Catheter Sedation,",
          "Adult Access for Dogs/IV Catheter Sedation.",
          "Senior Access for Dogs/IV Catheter Sedation.",
          "Adult Access for Dogs/Influenza",
          "Junior Access for Dogs/Influenza",
          "Senior Access for Dogs/Influenza",
          "Adult Access Canine Canada/K9 Neuter",
          "Adult Access for Dogs/K9 Neuter",
          "Adult Paws for Dogs/K9 Neuter",
          "Junior Access Canine Canada/K9 Neuter",
          "Junior Access for Dogs/K9 Neuter",
          "Junior Paws for Dogs/K9 Neuter",
          "Adult Access Canine Canada/K9 Spay",
          "Adult Access for Dogs/K9 Spay",
          "Adult Paws for Dogs/K9 Spay",
          "Junior Access Canine Canada/K9 Spay",
          "Junior Access for Dogs/K9 Spay",
          "Junior Paws for Dogs/K9 Spay",
          "Adult Access Canine Canada/K9 Spay.",
          "Adult Access for Dogs/K9 Spay.",
          "Adult Paws for Dogs/K9 Spay.",
          "Junior Access Canine Canada/K9 Spay.",
          "Junior Access for Dogs/K9 Spay.",
          "Junior Paws for Dogs/K9 Spay.",
          "Adult Access for Dogs/Lepto (Adult/Senior)",
          "Senior Access for Dogs/Lepto (Adult/Senior)",
          "Junior Access for Dogs/Lepto (Puppy)",
          "Adult Access for Dogs/Lyme",
          "Senior Access for Dogs/Lyme",
          "Junior Access Canine Canada/Lyme (Puppy)",
          "Junior Access for Dogs/Lyme (Puppy)",
          "Junior Access Feline Canada/Male Neuter Complexity Fel Canada",
          "Junior Access Canine Canada/Male Neuter Complexity K9 Canada",
          "Junior Cat Plus Spay Canada/Microchip Service",
          "Junior Cats Plus Neuter Canada/Microchip Service",
          "Junior Dog Plus Neuter Canada/Microchip Service",
          "Junior Dogs Plus Spay Canada/Microchip Service",
          "Junior Paws Plus Kitten Neuter/Microchip Service",
          "Junior Paws Plus Kitten Spay/Microchip Service",
          "Junior Paws Plus Puppy Neuter/Microchip Service",
          "Junior Paws Plus Puppy Spay/Microchip Service",
          "Junior Paws for Cats/Microchip Service",
          "Junior Paws for Cats Canada/Microchip Service",
          "Junior Paws for Dogs/Microchip Service",
          "Junior Paws for Dogs Canada/Microchip Service",
          "Adult Access Canine Canada/Microchip Service Canada",
          "Junior Access Canine Canada/Microchip Service Canada",
          "Junior Access Feline Canada/Microchip Service Canada",
          "Adult Access for Dogs/NSAIDS dispensing code K9 Neuter",
          "Adult Paws for Dogs/NSAIDS dispensing code K9 Neuter",
          "Junior Access for Dogs/NSAIDS dispensing code K9 Neuter",
          "Junior Paws for Dogs/NSAIDS dispensing code K9 Neuter",
          "Adult Access for Dogs/NSAIDS dispensing code K9 Spay",
          "Adult Paws for Dogs/NSAIDS dispensing code K9 Spay",
          "Junior Access for Dogs/NSAIDS dispensing code K9 Spay",
          "Junior Paws for Dogs/NSAIDS dispensing code K9 Spay",
          "Adult Access for Dogs/NSAIDS dispensing code K9 Spay.",
          "Adult Paws for Dogs/NSAIDS dispensing code K9 Spay.",
          "Junior Access for Dogs/NSAIDS dispensing code K9 Spay.",
          "Junior Paws for Dogs/NSAIDS dispensing code K9 Spay.",
          "Adult Access Canine Canada/Nail Trim",
          "Adult Access Feline Canada/Nail Trim",
          "Adult Paws Plus Cat Canada/Nail Trim",
          "Adult Paws Plus Dog Canada/Nail Trim",
          "Adult Paws Plus for Cats/Nail Trim",
          "Adult Paws Plus for Dogs/Nail Trim",
          "Adult Paws for Cat Canada/Nail Trim",
          "Adult Paws for Cats/Nail Trim",
          "Adult Paws for Dog Canada/Nail Trim",
          "Adult Paws for Dogs/Nail Trim",
          "Junior Access Canine Canada/Nail Trim",
          "Junior Access Feline Canada/Nail Trim",
          "Junior Cat Plus Spay Canada/Nail Trim",
          "Junior Cats Plus Neuter Canada/Nail Trim",
          "Junior Dog Plus Neuter Canada/Nail Trim",
          "Junior Dogs Plus Spay Canada/Nail Trim",
          "Junior Paws Plus Kitten Neuter/Nail Trim",
          "Junior Paws Plus Kitten Spay/Nail Trim",
          "Junior Paws Plus Puppy Neuter/Nail Trim",
          "Junior Paws Plus Puppy Spay/Nail Trim",
          "Junior Paws for Cats/Nail Trim",
          "Junior Paws for Cats Canada/Nail Trim",
          "Junior Paws for Dogs/Nail Trim",
          "Junior Paws for Dogs Canada/Nail Trim",
          "Senior Access Canine Canada/Nail Trim",
          "Senior Access Feline Canada/Nail Trim",
          "Senior Cat Plus for Canada/Nail Trim",
          "Senior Dog Plus for Canada/Nail Trim",
          "Senior Paws Dog for Canada/Nail Trim",
          "Senior Paws Plus for Cats/Nail Trim",
          "Senior Paws Plus for Dogs/Nail Trim",
          "Senior Paws for Cats/Nail Trim",
          "Senior Paws for Cats Canada/Nail Trim",
          "Senior Paws for Dogs/Nail Trim",
          "Adult Access for Cats/Nail trim Fel",
          "Junior Access for Cats/Nail trim Fel",
          "Adult Access for Dogs/Nail trim K9",
          "Junior Access for Dogs/Nail trim K9",
          "Senior Access for Dogs/Nail trim K9",
          "Adult Access for Cats/Pain Management Disp Fel Neuter",
          "Adult Paws for Cats/Pain Management Disp Fel Neuter",
          "Junior Access for Cats/Pain Management Disp Fel Neuter",
          "Junior Paws for Cats/Pain Management Disp Fel Neuter",
          "Adult Access for Cats/Pain Management Disp Fel Spay",
          "Adult Paws for Cats/Pain Management Disp Fel Spay",
          "Junior Access for Cats/Pain Management Disp Fel Spay",
          "Junior Paws for Cats/Pain Management Disp Fel Spay",
          "Adult Access Canine Canada/Pain Managment K9 Dental",
          "Senior Access Canine Canada/Pain Managment K9 Dental",
          "Adult Access for Cats/Pre-Operative Panels Fel Neuter",
          "Adult Paws for Cats/Pre-Operative Panels Fel Neuter",
          "Junior Access for Cats/Pre-Operative Panels Fel Neuter",
          "Junior Paws for Cats/Pre-Operative Panels Fel Neuter",
          "Adult Access for Cats/Pre-Operative Panels Fel Spay",
          "Adult Paws for Cats/Pre-Operative Panels Fel Spay",
          "Junior Access for Cats/Pre-Operative Panels Fel Spay",
          "Junior Paws for Cats/Pre-Operative Panels Fel Spay",
          "Adult Access for Dogs/Pre-Operative Panels K9 Neuter",
          "Adult Paws for Dogs/Pre-Operative Panels K9 Neuter",
          "Junior Access for Dogs/Pre-Operative Panels K9 Neuter",
          "Junior Paws for Dogs/Pre-Operative Panels K9 Neuter",
          "Adult Access for Dogs/Pre-Operative Panels K9 Spay",
          "Adult Paws for Dogs/Pre-Operative Panels K9 Spay",
          "Junior Access for Dogs/Pre-Operative Panels K9 Spay",
          "Junior Paws for Dogs/Pre-Operative Panels K9 Spay",
          "Adult Access for Dogs/Pre-Operative Panels K9 Spay.",
          "Adult Paws for Dogs/Pre-Operative Panels K9 Spay.",
          "Junior Access for Dogs/Pre-Operative Panels K9 Spay.",
          "Junior Paws for Dogs/Pre-Operative Panels K9 Spay.",
          "Junior Paws Plus Kitten Neuter/PreOp Bloodwork (Spay/Neuter)",
          "Junior Paws Plus Kitten Spay/PreOp Bloodwork (Spay/Neuter)",
          "Junior Paws Plus Puppy Neuter/PreOp Bloodwork (Spay/Neuter)",
          "Junior Paws Plus Puppy Spay/PreOp Bloodwork (Spay/Neuter)",
          "Junior Cat Plus Spay Canada/PreOp Labwork (Spay/Neuter)",
          "Junior Cats Plus Neuter Canada/PreOp Labwork (Spay/Neuter)",
          "Junior Dog Plus Neuter Canada/PreOp Labwork (Spay/Neuter)",
          "Junior Dogs Plus Spay Canada/PreOp Labwork (Spay/Neuter)",
          "Junior Paws Plus Kitten Neuter/PreOp Labwork (Spay/Neuter)",
          "Junior Paws Plus Kitten Spay/PreOp Labwork (Spay/Neuter)",
          "Junior Paws Plus Puppy Neuter/PreOp Labwork (Spay/Neuter)",
          "Junior Paws Plus Puppy Spay/PreOp Labwork (Spay/Neuter)",
          "Adult Access Canine Canada/PreOp Labwork Canada",
          "Adult Access Feline Canada/PreOp Labwork Canada",
          "Junior Access Canine Canada/PreOp Labwork Canada",
          "Junior Access Feline Canada/PreOp Labwork Canada",
          "Senior Access Canine Canada/PreOp Labwork Canada",
          "Junior Paws Plus Kitten Neuter/Protective Collar",
          "Junior Paws Plus Kitten Spay/Protective Collar",
          "Junior Paws Plus Puppy Neuter/Protective Collar",
          "Junior Paws Plus Puppy Spay/Protective Collar",
          "Adult Access for Cats/Protective Collars Fel Neuter",
          "Adult Paws for Cats/Protective Collars Fel Neuter",
          "Junior Access for Cats/Protective Collars Fel Neuter",
          "Junior Paws for Cats/Protective Collars Fel Neuter",
          "Adult Access for Cats/Protective Collars Fel Spay",
          "Adult Paws for Cats/Protective Collars Fel Spay",
          "Junior Access for Cats/Protective Collars Fel Spay",
          "Junior Paws for Cats/Protective Collars Fel Spay",
          "Adult Access for Dogs/Protective Collars K9 Neuter",
          "Adult Paws for Dogs/Protective Collars K9 Neuter",
          "Junior Access for Dogs/Protective Collars K9 Neuter",
          "Junior Paws for Dogs/Protective Collars K9 Neuter",
          "Adult Access for Dogs/Protective Collars K9 Spay",
          "Adult Paws for Dogs/Protective Collars K9 Spay",
          "Junior Access for Dogs/Protective Collars K9 Spay",
          "Junior Paws for Dogs/Protective Collars K9 Spay",
          "Adult Access for Dogs/Protective Collars list K9 Spay.",
          "Adult Paws for Dogs/Protective Collars list K9 Spay.",
          "Junior Access for Dogs/Protective Collars list K9 Spay.",
          "Junior Paws for Dogs/Protective Collars list K9 Spay.",
          "Junior Access Canine Canada/Puppy/Kitten 1st Exam",
          "Junior Access Feline Canada/Puppy/Kitten 1st Exam",
          "Junior Access for Cats/Puppy/Kitten 1st Exam",
          "Junior Access for Dogs/Puppy/Kitten 1st Exam",
          "Junior Cat Plus Spay Canada/Puppy/Kitten 1st Exam",
          "Junior Cats Plus Neuter Canada/Puppy/Kitten 1st Exam",
          "Junior Dog Plus Neuter Canada/Puppy/Kitten 1st Exam",
          "Junior Dogs Plus Spay Canada/Puppy/Kitten 1st Exam",
          "Junior Paws Plus Kitten Neuter/Puppy/Kitten 1st Exam",
          "Junior Paws Plus Kitten Spay/Puppy/Kitten 1st Exam",
          "Junior Paws Plus Puppy Neuter/Puppy/Kitten 1st Exam",
          "Junior Paws Plus Puppy Spay/Puppy/Kitten 1st Exam",
          "Junior Paws for Cats/Puppy/Kitten 1st Exam",
          "Junior Paws for Cats Canada/Puppy/Kitten 1st Exam",
          "Junior Paws for Dogs/Puppy/Kitten 1st Exam",
          "Junior Paws for Dogs Canada/Puppy/Kitten 1st Exam",
          "Junior Access Canine Canada/Puppy/Kitten Recheck Exam",
          "Junior Access Feline Canada/Puppy/Kitten Recheck Exam",
          "Junior Access for Cats/Puppy/Kitten Recheck Exam",
          "Junior Access for Dogs/Puppy/Kitten Recheck Exam",
          "Junior Cat Plus Spay Canada/Puppy/Kitten Recheck Exam",
          "Junior Cats Plus Neuter Canada/Puppy/Kitten Recheck Exam",
          "Junior Dog Plus Neuter Canada/Puppy/Kitten Recheck Exam",
          "Junior Dogs Plus Spay Canada/Puppy/Kitten Recheck Exam",
          "Junior Paws Plus Kitten Neuter/Puppy/Kitten Recheck Exam",
          "Junior Paws Plus Kitten Spay/Puppy/Kitten Recheck Exam",
          "Junior Paws Plus Puppy Neuter/Puppy/Kitten Recheck Exam",
          "Junior Paws Plus Puppy Spay/Puppy/Kitten Recheck Exam",
          "Junior Paws for Cats/Puppy/Kitten Recheck Exam",
          "Junior Paws for Cats Canada/Puppy/Kitten Recheck Exam",
          "Junior Paws for Dogs/Puppy/Kitten Recheck Exam",
          "Junior Paws for Dogs Canada/Puppy/Kitten Recheck Exam",
          "Adult Access for Dogs/RAD CareClub Abdomen/Thorax Study",
          "Senior Access for Dogs/RAD CareClub Abdomen/Thorax Study",
          "Adult Access for Cats/RAD CareClub Abdomen/Thorax Study Fel",
          "Senior Access for Cats/RAD CareClub Abdomen/Thorax Study Fel",
          "Adult Access for Dogs/RAD CareClub Abdomen/Thorax Study,",
          "Senior Access for Dogs/RAD CareClub Abdomen/Thorax Study,",
          "Adult Access Feline Canada/RAD Full Mouth Dental Xray Feline",
          "Adult Access for Cats/RAD Full Mouth Dental Xray Feline",
          "Adult Paws for Cats/RAD Full Mouth Dental Xray Feline",
          "Senior Access Feline Canada/RAD Full Mouth Dental Xray Feline",
          "Senior Access for Cats/RAD Full Mouth Dental Xray Feline",
          "Senior Paws for Cats/RAD Full Mouth Dental Xray Feline",
          "Adult Access Canine Canada/RAD Full Mouth Dental Xray K9.",
          "Adult Access for Dogs/RAD Full Mouth Dental Xray K9.",
          "Adult Paws for Dogs/RAD Full Mouth Dental Xray K9.",
          "Senior Access Canine Canada/RAD Full Mouth Dental Xray K9.",
          "Senior Access for Dogs/RAD Full Mouth Dental Xray K9.",
          "Senior Paws for Dogs/RAD Full Mouth Dental Xray K9.",
          "Adult Access for Cats/Rabies (1 year)",
          "Junior Access for Cats/Rabies (1 year)",
          "Senior Access for Cats/Rabies (1 year)",
          "Adult Access for Cats/Rabies (3 year)",
          "Senior Access for Cats/Rabies (3 year)",
          "Adult Access for Dogs/Rabies (Adult/Senior)",
          "Senior Access for Dogs/Rabies (Adult/Senior)",
          "Junior Access for Dogs/Rabies (Puppy)",
          "Adult Access for Dogs/Rattlesnake booster",
          "Junior Access for Dogs/Rattlesnake booster",
          "Adult Access for Dogs/Rattlesnake starter",
          "Junior Access for Dogs/Rattlesnake starter",
          "Adult Access for Dogs/Sedation Radiology",
          "Senior Access for Dogs/Sedation Radiology",
          "Adult Access for Cats/Sedation Radiology Fel",
          "Senior Access for Cats/Sedation Radiology Fel",
          "Adult Access for Cats/Sedation Radiology Fel.",
          "Senior Access for Cats/Sedation Radiology Fel.",
          "Adult Access for Dogs/Sedation Radiology,",
          "Senior Access for Dogs/Sedation Radiology,",
          "Adult Access for Dogs/Sedation Radiology.",
          "Senior Access for Dogs/Sedation Radiology.",
          "Senior Access for Cats/Senior Lab Panel Fel",
          "Senior Access for Dogs/Senior Lab Panel K9",
          "Adult Access Canine Canada/Service Rounding Adjustment",
          "Adult Access Feline Canada/Service Rounding Adjustment",
          "Adult Access for Cats/Service Rounding Adjustment",
          "Adult Access for Dogs/Service Rounding Adjustment",
          "Adult Essentials for Cats/Service Rounding Adjustment",
          "Adult Paws Plus Cat Canada/Service Rounding Adjustment",
          "Adult Paws Plus Dog Canada/Service Rounding Adjustment",
          "Adult Paws Plus for Cats/Service Rounding Adjustment",
          "Adult Paws Plus for Dogs/Service Rounding Adjustment",
          "Adult Paws for Cat Canada/Service Rounding Adjustment",
          "Adult Paws for Cats/Service Rounding Adjustment",
          "Adult Paws for Dog Canada/Service Rounding Adjustment",
          "Adult Paws for Dogs/Service Rounding Adjustment",
          "Adult Premier for Cats/Service Rounding Adjustment",
          "Junior Access Canine Canada/Service Rounding Adjustment",
          "Junior Access Feline Canada/Service Rounding Adjustment",
          "Junior Access for Cats/Service Rounding Adjustment",
          "Junior Access for Dogs/Service Rounding Adjustment",
          "Junior Cat Plus Spay Canada/Service Rounding Adjustment",
          "Junior Cats Plus Neuter Canada/Service Rounding Adjustment",
          "Junior Dog Plus Neuter Canada/Service Rounding Adjustment",
          "Junior Dogs Plus Spay Canada/Service Rounding Adjustment",
          "Junior Paws Plus Kitten Neuter/Service Rounding Adjustment",
          "Junior Paws Plus Kitten Spay/Service Rounding Adjustment",
          "Junior Paws Plus Puppy Neuter/Service Rounding Adjustment",
          "Junior Paws Plus Puppy Spay/Service Rounding Adjustment",
          "Junior Paws for Cats/Service Rounding Adjustment",
          "Junior Paws for Cats Canada/Service Rounding Adjustment",
          "Junior Paws for Dogs/Service Rounding Adjustment",
          "Junior Paws for Dogs Canada/Service Rounding Adjustment",
          "Senior Access Canine Canada/Service Rounding Adjustment",
          "Senior Access Feline Canada/Service Rounding Adjustment",
          "Senior Access for Cats/Service Rounding Adjustment",
          "Senior Access for Dogs/Service Rounding Adjustment",
          "Senior Cat Plus for Canada/Service Rounding Adjustment",
          "Senior Dog Plus for Canada/Service Rounding Adjustment",
          "Senior Paws Dog for Canada/Service Rounding Adjustment",
          "Senior Paws Plus for Cats/Service Rounding Adjustment",
          "Senior Paws Plus for Dogs/Service Rounding Adjustment",
          "Senior Paws for Cats/Service Rounding Adjustment",
          "Senior Paws for Cats Canada/Service Rounding Adjustment",
          "Senior Paws for Dogs/Service Rounding Adjustment",
          "Adult Access for Cats/Single region Studies Fel.",
          "Senior Access for Cats/Single region Studies Fel.",
          "Adult Access for Dogs/Single region Studies.",
          "Senior Access for Dogs/Single region Studies.",
          "Adult Paws Plus Cat Canada/Surgical Pain Management",
          "Adult Paws Plus Dog Canada/Surgical Pain Management",
          "Adult Paws Plus for Cats/Surgical Pain Management",
          "Adult Paws Plus for Dogs/Surgical Pain Management",
          "Senior Cat Plus for Canada/Surgical Pain Management",
          "Senior Dog Plus for Canada/Surgical Pain Management",
          "Senior Paws Plus for Cats/Surgical Pain Management",
          "Senior Paws Plus for Dogs/Surgical Pain Management",
          "Senior Access for Dogs/UPC K9",
          "Junior Access for Dogs/Umbilical hernia ADD add to spay",
          "Adult Access Canine Canada/Wellness Exam",
          "Adult Access Feline Canada/Wellness Exam",
          "Adult Access for Cats/Wellness Exam",
          "Adult Access for Dogs/Wellness Exam",
          "Adult Essentials for Cats/Wellness Exam",
          "Adult Paws Plus Cat Canada/Wellness Exam",
          "Adult Paws Plus Dog Canada/Wellness Exam",
          "Adult Paws Plus for Cats/Wellness Exam",
          "Adult Paws Plus for Dogs/Wellness Exam",
          "Adult Paws for Cat Canada/Wellness Exam",
          "Adult Paws for Cats/Wellness Exam",
          "Adult Paws for Dog Canada/Wellness Exam",
          "Adult Paws for Dogs/Wellness Exam",
          "Adult Premier for Cats/Wellness Exam",
          "Senior Access Canine Canada/Wellness Exam",
          "Senior Access Feline Canada/Wellness Exam",
          "Senior Access for Cats/Wellness Exam",
          "Senior Access for Dogs/Wellness Exam",
          "Senior Cat Plus for Canada/Wellness Exam",
          "Senior Dog Plus for Canada/Wellness Exam",
          "Senior Paws Dog for Canada/Wellness Exam",
          "Senior Paws Plus for Cats/Wellness Exam",
          "Senior Paws Plus for Dogs/Wellness Exam",
          "Senior Paws for Cats/Wellness Exam",
          "Senior Paws for Cats Canada/Wellness Exam",
          "Senior Paws for Dogs/Wellness Exam",
          "Adult Access Canine Canada",
          "Adult Access Feline Canada",
          "Adult Access for Cats",
          "Adult Access for Dogs",
          "Adult Essentials for Cats",
          "Adult Paws Plus Cat Canada",
          "Adult Paws Plus Dog Canada",
          "Adult Paws Plus for Cats",
          "Adult Paws Plus for Dogs",
          "Adult Paws for Cat Canada",
          "Adult Paws for Cats",
          "Adult Paws for Dog Canada",
          "Adult Paws for Dogs",
          "Adult Premier for Cats",
          "Junior Access Canine Canada",
          "Junior Access Feline Canada",
          "Junior Access for Cats",
          "Junior Access for Dogs",
          "Junior Cat Plus Spay Canada",
          "Junior Cats Plus Neuter Canada",
          "Junior Dog Plus Neuter Canada",
          "Junior Dogs Plus Spay Canada",
          "Junior Paws Plus Kitten Neuter",
          "Junior Paws Plus Kitten Spay",
          "Junior Paws Plus Puppy Neuter",
          "Junior Paws Plus Puppy Spay",
          "Junior Paws for Cats",
          "Junior Paws for Cats Canada",
          "Junior Paws for Dogs",
          "Junior Paws for Dogs Canada",
          "Senior Access Canine Canada",
          "Senior Access Feline Canada",
          "Senior Access for Cats",
          "Senior Access for Dogs",
          "Senior Cat Plus for Canada",
          "Senior Dog Plus for Canada",
          "Senior Paws Dog for Canada",
          "Senior Paws Plus for Cats",
          "Senior Paws Plus for Dogs",
          "Senior Paws for Cats",
          "Senior Paws for Cats Canada",
          "Senior Paws for Dogs"
         ],
         "labels": [
          "Abdominal Cryptorchid add to neuter K9",
          "Abdominal Cryptorchid add to neuter K9",
          "Accuplex K9",
          "Accuplex K9",
          "Accuplex K9",
          "Additonal Fecal exam",
          "Additonal Fecal exam",
          "Additonal Fecal exam",
          "Adult Wellness Fel",
          "Adult Wellness K9",
          "Advanced Labwork Canada",
          "Advanced Labwork Canada",
          "Advanced Labwork Canada",
          "Anal Sac Expression Canada",
          "Anal Sac Expression Canada",
          "Basic Labwork Canada",
          "Basic Labwork Canada",
          "Basic Labwork Canada",
          "Basic Labwork Canada",
          "Basic Labwork Canada",
          "Blood Pressure Fel",
          "Blood Pressure Fel",
          "Blood Pressure Fel.",
          "Blood Pressure K9",
          "Blood Pressure K9.",
          "Blood Pressure K9.",
          "Bordetella (Adult/Senior)",
          "Bordetella (Adult/Senior)",
          "Bordetella (puppy)",
          "Canine Adult Bordetella Vaccine",
          "Canine Adult Bordetella Vaccine",
          "Canine Adult Bordetella Vaccine",
          "Canine Adult Bordetella Vaccine",
          "Canine Adult Bordetella Vaccine",
          "Canine Adult Bordetella Vaccine",
          "Canine Adult Bordetella Vaccine",
          "Canine Adult Bordetella Vaccine",
          "Canine Adult Bordetella Vaccine",
          "Canine Adult Bordetella Vaccine",
          "Canine Adult Combo Vaccine",
          "Canine Adult Combo Vaccine",
          "Canine Adult Combo Vaccine",
          "Canine Adult Combo Vaccine",
          "Canine Adult Distemper/Parvo Combo Vaccine",
          "Canine Adult Distemper/Parvo Combo Vaccine",
          "Canine Adult Distemper/Parvo Combo Vaccine",
          "Canine Adult Distemper/Parvo Combo Vaccine",
          "Canine Adult Distemper/Parvo Combo Vaccine",
          "Canine Adult Distemper/Parvo Combo Vaccine",
          "Canine Adult Distemper/Parvo Combo Vaccine",
          "Canine Adult Distemper/Parvo Combo Vaccine",
          "Canine Adult Distemper/Parvo Combo Vaccine",
          "Canine Adult Distemper/Parvo Combo Vaccine",
          "Canine Adult Rabies Vaccine",
          "Canine Adult Rabies Vaccine",
          "Canine Adult Rabies Vaccine",
          "Canine Adult Rabies Vaccine",
          "Canine Adult Rabies Vaccine",
          "Canine Adult Rabies Vaccine",
          "Canine Adult Rabies Vaccine",
          "Canine Adult Rabies Vaccine",
          "Canine Adult Rabies Vaccine",
          "Canine Adult Rabies Vaccine",
          "Canine Adult Wellness Labwork",
          "Canine Adult Wellness Labwork",
          "Canine Adult/Senior Wellness Labwork",
          "Canine Adult/Senior Wellness Labwork",
          "Canine Adult/Senior Wellness Labwork",
          "Canine Adult/Senior Wellness Labwork",
          "Canine Adult/Senior Wellness Labwork",
          "Canine Adult/Senior Wellness Labwork",
          "Canine Adult/Senior Wellness Labwork",
          "Canine Adult/Senior Wellness Labwork",
          "Canine Complexity",
          "Canine Complexity",
          "Canine Complexity",
          "Canine Complexity",
          "Canine Dental",
          "Canine Dental",
          "Canine Dental",
          "Canine Dental",
          "Canine Dental Xray",
          "Canine Dental Xray",
          "Canine Dental Xray",
          "Canine Dental Xray",
          "Canine Influenza Vaccine",
          "Canine Influenza Vaccine",
          "Canine Influenza Vaccine",
          "Canine Influenza Vaccine",
          "Canine Influenza Vaccine",
          "Canine Influenza Vaccine",
          "Canine Influenza Vaccine",
          "Canine Influenza or Lyme Vaccine",
          "Canine Influenza or Lyme Vaccine",
          "Canine Influenza or Lyme Vaccine",
          "Canine Influenza or Lyme Vaccine",
          "Canine Influenza or Lyme Vaccine",
          "Canine Influenza or Lyme Vaccine",
          "Canine Influenza or Lyme Vaccine",
          "Canine Lepto Vaccine",
          "Canine Lepto Vaccine",
          "Canine Lepto Vaccine",
          "Canine Lepto Vaccine",
          "Canine Lepto Vaccine",
          "Canine Lepto Vaccine",
          "Canine Lepto Vaccine",
          "Canine Lepto Vaccine",
          "Canine Lepto Vaccine",
          "Canine Lepto Vaccine",
          "Canine Lepto Vaccine",
          "Canine Lepto Vaccine",
          "Canine Lepto Vaccine",
          "Canine Lepto Vaccine",
          "Canine Leptospirosis Vaccine",
          "Canine Leptospirosis Vaccine",
          "Canine Leptospirosis Vaccine",
          "Canine Leptospirosis Vaccine",
          "Canine Leptospirosis Vaccine",
          "Canine Leptospirosis Vaccine",
          "Canine Leptospirosis Vaccine",
          "Canine Neuter",
          "Canine Neuter",
          "Canine Pain Medication Dispensed",
          "Canine Pain Medication Dispensed",
          "Canine Puppy Bordetella Vaccine",
          "Canine Puppy Bordetella Vaccine",
          "Canine Puppy Bordetella Vaccine",
          "Canine Puppy Bordetella Vaccine",
          "Canine Puppy Bordetella Vaccine",
          "Canine Puppy Bordetella Vaccine",
          "Canine Puppy Bordetella Vaccine",
          "Canine Puppy Bordetella Vaccine",
          "Canine Puppy Combo Vaccine",
          "Canine Puppy Combo Vaccine",
          "Canine Puppy Combo Vaccine",
          "Canine Puppy Distemper/Parvo Combo Vaccine",
          "Canine Puppy Distemper/Parvo Combo Vaccine",
          "Canine Puppy Distemper/Parvo Combo Vaccine",
          "Canine Puppy Distemper/Parvo Combo Vaccine",
          "Canine Puppy Distemper/Parvo Combo Vaccine",
          "Canine Puppy Distemper/Parvo Combo Vaccine",
          "Canine Puppy Distemper/Parvo Combo Vaccine",
          "Canine Puppy Rabies Vaccine",
          "Canine Puppy Rabies Vaccine",
          "Canine Puppy Rabies Vaccine",
          "Canine Puppy Rabies Vaccine",
          "Canine Puppy Rabies Vaccine",
          "Canine Puppy Rabies Vaccine",
          "Canine Puppy Rabies Vaccine",
          "Canine Senior Wellness Labwork",
          "Canine Senior Wellness Labwork",
          "Canine Spay",
          "Canine Spay",
          "Canine/Feline Senior Blood Pressure",
          "Canine/Feline Senior Blood Pressure",
          "Canine/Feline Senior Blood Pressure",
          "Canine/Feline Senior Blood Pressure",
          "Canine/Feline Senior Blood Pressure",
          "Canine/Feline Senior Blood Pressure",
          "Canine/Feline Senior Blood Pressure",
          "Canine/Feline Senior Blood Pressure",
          "Canine/Feline Senior Radiographs",
          "Canine/Feline Senior Radiographs",
          "Canine/Feline Senior Radiographs",
          "Canine/Feline Senior Radiographs",
          "Canine/Feline Senior Radiographs",
          "Canine/Feline Senior Radiographs",
          "Canine/Feline Senior Radiographs",
          "Canine/Feline Senior Radiographs",
          "CareClub Checkup Exam",
          "CareClub Checkup Exam",
          "CareClub Checkup Exam",
          "CareClub Checkup Exam",
          "CareClub Checkup Exam",
          "CareClub Checkup Exam",
          "CareClub Checkup Exam",
          "CareClub Checkup Exam",
          "CareClub Checkup Exam",
          "CareClub Checkup Exam",
          "CareClub Checkup Exam",
          "CareClub Checkup Exam",
          "CareClub Checkup Exam",
          "CareClub Checkup Exam",
          "CareClub Checkup Exam",
          "CareClub Checkup Exam",
          "CareClub Checkup Exam",
          "CareClub Checkup Exam",
          "CareClub Checkup Exam",
          "CareClub Checkup Exam",
          "CareClub Checkup Exam",
          "CareClub Checkup Exam",
          "CareClub Checkup Exam",
          "CareClub Checkup Exam",
          "CareClub Checkup Exam",
          "CareClub Checkup Exam",
          "CareClub Checkup Exam",
          "CareClub Checkup Exam",
          "CareClub Checkup Exam",
          "CareClub Checkup Exam",
          "CareClub Checkup Exam",
          "CareClub Checkup Exam",
          "CareClub Checkup Exam",
          "CareClub Checkup Exam",
          "CareClub Checkup Exam",
          "CareClub Checkup Exam",
          "CareClub Checkup Exam",
          "CareClub Checkup Exam",
          "CareClub Checkup Exam",
          "CareClub Checkup Exam",
          "CareClub Checkup Exam",
          "CareClub Checkup Exam",
          "Comprehensive Labwork Fel",
          "Comprehensive Labwork Fel",
          "Comprehensive Labwork K9",
          "Comprehensive Labwork K9",
          "DHPP (DHLPP) (Adult/Senior)",
          "DHPP (DHLPP) (Adult/Senior)",
          "DHPP (DHLPP) Puppy",
          "Deciduous teeth ADD add to neuter K9",
          "Deciduous teeth ADD add to spay K9",
          "Dental Package Fe G",
          "Dental Package Fe G",
          "Dental Package Fe G",
          "Dental Package Fe G",
          "Dental Package Fe G",
          "Dental Package Fe G",
          "Dental Package K9 G",
          "Dental Package K9 G",
          "Dental Package K9 G",
          "Dental Package K9 G",
          "Dental Package K9 G",
          "Dental Package K9 G",
          "Dental Pain Management Fel",
          "Dental Pain Management Fel",
          "Deworm Fel",
          "Deworm K9",
          "Deworming",
          "Deworming",
          "Deworming",
          "Deworming",
          "Deworming",
          "Deworming",
          "Deworming",
          "Deworming",
          "Deworming",
          "Deworming",
          "Deworming",
          "Deworming",
          "Deworming",
          "Deworming",
          "Elective Block",
          "Elective Block",
          "Elective Block",
          "Elective Block",
          "Elective Block",
          "Elective Block",
          "Elective Block",
          "Elective Block",
          "Elective Block Fel Neuter",
          "Elective Block Fel Spay",
          "Elective Block Fel Spay",
          "Elective Block K9 Neuter",
          "Elective Block K9 Neuter",
          "Elective Block'",
          "Elective Block'",
          "Elective Block.",
          "Elective Block.",
          "FVRCP (Adult/Senior)",
          "FVRCP (Adult/Senior)",
          "FVRCP (Kitten)",
          "FeLV (Adult/Senior)",
          "FeLV (Adult/Senior)",
          "FeLV (Adult/Senior)",
          "FeLV (Adult/Senior)",
          "FeLV (Kitten)",
          "FeLV / FIV test Fel",
          "FeLV / FIV test Fel",
          "FeLV / FIV test Fel",
          "FeLV/FIV Test",
          "FeLV/FIV Test",
          "FeLV/FIV Test",
          "FeLV/FIV Test Fel",
          "FeLV/FIV/Hwab",
          "FeLV/FIV/Hwab",
          "Fear Free codes,",
          "Fear Free codes,",
          "Fear free codes",
          "Fear free codes",
          "Fear free codes Fel",
          "Fear free codes Fel",
          "Fear free codes Fel.",
          "Fear free codes Fel.",
          "Fear free codes.",
          "Fear free codes.",
          "Fecal Fel",
          "Fecal Test",
          "Fecal Test",
          "Fecal Test",
          "Fecal Test",
          "Fecal Test",
          "Fecal Test",
          "Fecal Test",
          "Fecal Test",
          "Fecal Test",
          "Fecal Test",
          "Fecal Test",
          "Fecal Test",
          "Fecal Test",
          "Fecal Test",
          "Fecal Test",
          "Fecal Test",
          "Fecal exam (O&P Giardia) Fel",
          "Fecal exam (O&P Giardia) Fel",
          "Fecal exam (O&P Giardia) K9",
          "Fecal exam (O&P Giardia) K9",
          "Fecal k9",
          "Fecal/Parasite Test",
          "Fecal/Parasite Test",
          "Fecal/Parasite Test",
          "Fecal/Parasite Test",
          "Fecal/Parasite Test",
          "Fecal/Parasite Test",
          "Fecal/Parasite Test",
          "Fecal/Parasite Test",
          "Fecal/Parasite Test",
          "Fecal/Parasite Test",
          "Fecal/Parasite Test",
          "Fecal/Parasite Test",
          "Fecal/Parasite Test",
          "Fecal/Parasite Test",
          "Fecal/Parasite Test",
          "Fecal/Parasite Test",
          "Fecal/Parasite Test",
          "Fecal/Parasite Test",
          "Fecal/Parasite Test",
          "Fecal/Parasite Test",
          "Fecal/Parasite Test",
          "Fecal/Parasite Test",
          "Fecal/Parasite Test",
          "Fecal/Parasite Test",
          "Fecal/Parasite Test",
          "Fecal/Parasite Test",
          "Fecal/Parasite Test",
          "Fecal/Parasite Test",
          "Fecal/Parasite Test",
          "Fecal/Parasite Test",
          "Fecal/Parasite Test",
          "Fecal/Parasite Test",
          "Fecal/Parasite Test",
          "Fecal/Parasite Test",
          "Feline Adult FVRCP Vaccine",
          "Feline Adult FVRCP Vaccine",
          "Feline Adult FVRCP Vaccine",
          "Feline Adult FVRCP Vaccine",
          "Feline Adult FVRCP Vaccine",
          "Feline Adult FVRCP Vaccine",
          "Feline Adult FVRCP Vaccine",
          "Feline Adult FVRCP Vaccine",
          "Feline Adult FVRCP Vaccine",
          "Feline Adult FVRCP Vaccine",
          "Feline Adult FVRCP Vaccine",
          "Feline Adult FeLV Vaccine",
          "Feline Adult FeLV Vaccine",
          "Feline Adult FeLV Vaccine",
          "Feline Adult FeLV Vaccine",
          "Feline Adult FeLV Vaccine",
          "Feline Adult Rabies Vaccine",
          "Feline Adult Rabies Vaccine",
          "Feline Adult Rabies Vaccine",
          "Feline Adult Rabies Vaccine",
          "Feline Adult Rabies Vaccine",
          "Feline Adult Rabies Vaccine",
          "Feline Adult Rabies Vaccine",
          "Feline Adult Rabies Vaccine",
          "Feline Adult Rabies Vaccine",
          "Feline Adult Rabies Vaccine",
          "Feline Adult Rabies Vaccine",
          "Feline Adult Wellness Labwork",
          "Feline Adult Wellness Labwork",
          "Feline Adult Wellness Labwork",
          "Feline Adult Wellness Panel",
          "Feline Adult Wellness Panel",
          "Feline Adult/Senior Wellness Labwork",
          "Feline Adult/Senior Wellness Labwork",
          "Feline Adult/Senior Wellness Labwork",
          "Feline Adult/Senior Wellness Labwork",
          "Feline Adult/Senior Wellness Labwork",
          "Feline Adult/Senior Wellness Labwork",
          "Feline Adult/Senior Wellness Labwork",
          "Feline Adult/Senior Wellness Labwork",
          "Feline Complexity",
          "Feline Complexity",
          "Feline Complexity",
          "Feline Complexity",
          "Feline Dental",
          "Feline Dental",
          "Feline Dental",
          "Feline Dental",
          "Feline Dental Xray",
          "Feline Dental Xray",
          "Feline Dental Xray",
          "Feline Dental Xray",
          "Feline Kitten FVRCP Vaccine",
          "Feline Kitten FVRCP Vaccine",
          "Feline Kitten FVRCP Vaccine",
          "Feline Kitten FVRCP Vaccine",
          "Feline Kitten FVRCP Vaccine",
          "Feline Kitten FVRCP Vaccine",
          "Feline Kitten FVRCP Vaccine",
          "Feline Kitten FeLV Vaccine",
          "Feline Kitten FeLV Vaccine",
          "Feline Kitten FeLV Vaccine",
          "Feline Kitten FeLV Vaccine",
          "Feline Kitten FeLV Vaccine",
          "Feline Kitten FeLV Vaccine",
          "Feline Kitten FeLV Vaccine",
          "Feline Kitten Labwork",
          "Feline Kitten Labwork",
          "Feline Kitten Labwork",
          "Feline Kitten Labwork",
          "Feline Kitten Labwork",
          "Feline Kitten Labwork",
          "Feline Kitten Labwork",
          "Feline Kitten Rabies Vaccine",
          "Feline Kitten Rabies Vaccine",
          "Feline Kitten Rabies Vaccine",
          "Feline Kitten Rabies Vaccine",
          "Feline Kitten Rabies Vaccine",
          "Feline Kitten Rabies Vaccine",
          "Feline Kitten Rabies Vaccine",
          "Feline Neuter",
          "Feline Neuter",
          "Feline Neuter",
          "Feline Neuter",
          "Feline Neuter",
          "Feline Neuter",
          "Feline Neuter",
          "Feline Pain Medication Dispensed",
          "Feline Pain Medication Dispensed",
          "Feline Parasiticide",
          "Feline Senior Wellness Labwork",
          "Feline Senior Wellness Labwork",
          "Feline Spay",
          "Feline Spay",
          "Feline Spay.",
          "Feline Spay.",
          "Feline Spay.",
          "Feline Spay.",
          "Feline Spay.",
          "Feline Spay.",
          "Female Spay Complexity K9 Canada",
          "Gastropexy + Anesth Neuter (Elective) ADD K9",
          "Gastropexy + Anesth Spay (Elective) ADD K9",
          "Gastropexy + Anesth Spay (Elective) ADD K9",
          "Heartworm K9",
          "Heartworm K9",
          "Heartworm K9",
          "Heartworm/Tick Disease Test",
          "Heartworm/Tick Disease Test",
          "Heartworm/Tick Disease Test",
          "Heartworm/Tick Disease Test",
          "Heartworm/Tick Disease Test",
          "Heartworm/Tick Disease Test",
          "Heartworm/Tick Disease Test",
          "Heartworm/Tick Disease Test",
          "Heartworm/Tick Disease Test",
          "Heartworm/Tick Disease Test",
          "Heartworm/Tick Disease Test",
          "Heartworm/Tick Disease Test",
          "Heartworm/Tick Disease Test",
          "Heartworm/Tick Disease Test",
          "HomeAgain Service",
          "HomeAgain Service",
          "HomeAgain Service",
          "HomeAgain Service",
          "HomeAgain Service",
          "HomeAgain Service",
          "HomeAgain Service",
          "HomeAgain Service",
          "HomeAgain Service",
          "HomeAgain Service",
          "HomeAgain Service",
          "HomeAgain Service",
          "HomeAgain Service",
          "HomeAgain Service",
          "HomeAgain Service",
          "HomeAgain Service",
          "HomeAgain Service",
          "HomeAgain Service",
          "HomeAgain Service",
          "HomeAgain Service",
          "HomeAgain Service",
          "HomeAgain Service",
          "IV Catheter Sedation",
          "IV Catheter Sedation",
          "IV Catheter Sedation Fel",
          "IV Catheter Sedation Fel",
          "IV Catheter Sedation Fel.",
          "IV Catheter Sedation Fel.",
          "IV Catheter Sedation,",
          "IV Catheter Sedation,",
          "IV Catheter Sedation.",
          "IV Catheter Sedation.",
          "Influenza",
          "Influenza",
          "Influenza",
          "K9 Neuter",
          "K9 Neuter",
          "K9 Neuter",
          "K9 Neuter",
          "K9 Neuter",
          "K9 Neuter",
          "K9 Spay",
          "K9 Spay",
          "K9 Spay",
          "K9 Spay",
          "K9 Spay",
          "K9 Spay",
          "K9 Spay.",
          "K9 Spay.",
          "K9 Spay.",
          "K9 Spay.",
          "K9 Spay.",
          "K9 Spay.",
          "Lepto (Adult/Senior)",
          "Lepto (Adult/Senior)",
          "Lepto (Puppy)",
          "Lyme",
          "Lyme",
          "Lyme (Puppy)",
          "Lyme (Puppy)",
          "Male Neuter Complexity Fel Canada",
          "Male Neuter Complexity K9 Canada",
          "Microchip Service",
          "Microchip Service",
          "Microchip Service",
          "Microchip Service",
          "Microchip Service",
          "Microchip Service",
          "Microchip Service",
          "Microchip Service",
          "Microchip Service",
          "Microchip Service",
          "Microchip Service",
          "Microchip Service",
          "Microchip Service Canada",
          "Microchip Service Canada",
          "Microchip Service Canada",
          "NSAIDS dispensing code K9 Neuter",
          "NSAIDS dispensing code K9 Neuter",
          "NSAIDS dispensing code K9 Neuter",
          "NSAIDS dispensing code K9 Neuter",
          "NSAIDS dispensing code K9 Spay",
          "NSAIDS dispensing code K9 Spay",
          "NSAIDS dispensing code K9 Spay",
          "NSAIDS dispensing code K9 Spay",
          "NSAIDS dispensing code K9 Spay.",
          "NSAIDS dispensing code K9 Spay.",
          "NSAIDS dispensing code K9 Spay.",
          "NSAIDS dispensing code K9 Spay.",
          "Nail Trim",
          "Nail Trim",
          "Nail Trim",
          "Nail Trim",
          "Nail Trim",
          "Nail Trim",
          "Nail Trim",
          "Nail Trim",
          "Nail Trim",
          "Nail Trim",
          "Nail Trim",
          "Nail Trim",
          "Nail Trim",
          "Nail Trim",
          "Nail Trim",
          "Nail Trim",
          "Nail Trim",
          "Nail Trim",
          "Nail Trim",
          "Nail Trim",
          "Nail Trim",
          "Nail Trim",
          "Nail Trim",
          "Nail Trim",
          "Nail Trim",
          "Nail Trim",
          "Nail Trim",
          "Nail Trim",
          "Nail Trim",
          "Nail Trim",
          "Nail Trim",
          "Nail Trim",
          "Nail Trim",
          "Nail Trim",
          "Nail trim Fel",
          "Nail trim Fel",
          "Nail trim K9",
          "Nail trim K9",
          "Nail trim K9",
          "Pain Management Disp Fel Neuter",
          "Pain Management Disp Fel Neuter",
          "Pain Management Disp Fel Neuter",
          "Pain Management Disp Fel Neuter",
          "Pain Management Disp Fel Spay",
          "Pain Management Disp Fel Spay",
          "Pain Management Disp Fel Spay",
          "Pain Management Disp Fel Spay",
          "Pain Managment K9 Dental",
          "Pain Managment K9 Dental",
          "Pre-Operative Panels Fel Neuter",
          "Pre-Operative Panels Fel Neuter",
          "Pre-Operative Panels Fel Neuter",
          "Pre-Operative Panels Fel Neuter",
          "Pre-Operative Panels Fel Spay",
          "Pre-Operative Panels Fel Spay",
          "Pre-Operative Panels Fel Spay",
          "Pre-Operative Panels Fel Spay",
          "Pre-Operative Panels K9 Neuter",
          "Pre-Operative Panels K9 Neuter",
          "Pre-Operative Panels K9 Neuter",
          "Pre-Operative Panels K9 Neuter",
          "Pre-Operative Panels K9 Spay",
          "Pre-Operative Panels K9 Spay",
          "Pre-Operative Panels K9 Spay",
          "Pre-Operative Panels K9 Spay",
          "Pre-Operative Panels K9 Spay.",
          "Pre-Operative Panels K9 Spay.",
          "Pre-Operative Panels K9 Spay.",
          "Pre-Operative Panels K9 Spay.",
          "PreOp Bloodwork (Spay/Neuter)",
          "PreOp Bloodwork (Spay/Neuter)",
          "PreOp Bloodwork (Spay/Neuter)",
          "PreOp Bloodwork (Spay/Neuter)",
          "PreOp Labwork (Spay/Neuter)",
          "PreOp Labwork (Spay/Neuter)",
          "PreOp Labwork (Spay/Neuter)",
          "PreOp Labwork (Spay/Neuter)",
          "PreOp Labwork (Spay/Neuter)",
          "PreOp Labwork (Spay/Neuter)",
          "PreOp Labwork (Spay/Neuter)",
          "PreOp Labwork (Spay/Neuter)",
          "PreOp Labwork Canada",
          "PreOp Labwork Canada",
          "PreOp Labwork Canada",
          "PreOp Labwork Canada",
          "PreOp Labwork Canada",
          "Protective Collar",
          "Protective Collar",
          "Protective Collar",
          "Protective Collar",
          "Protective Collars Fel Neuter",
          "Protective Collars Fel Neuter",
          "Protective Collars Fel Neuter",
          "Protective Collars Fel Neuter",
          "Protective Collars Fel Spay",
          "Protective Collars Fel Spay",
          "Protective Collars Fel Spay",
          "Protective Collars Fel Spay",
          "Protective Collars K9 Neuter",
          "Protective Collars K9 Neuter",
          "Protective Collars K9 Neuter",
          "Protective Collars K9 Neuter",
          "Protective Collars K9 Spay",
          "Protective Collars K9 Spay",
          "Protective Collars K9 Spay",
          "Protective Collars K9 Spay",
          "Protective Collars list K9 Spay.",
          "Protective Collars list K9 Spay.",
          "Protective Collars list K9 Spay.",
          "Protective Collars list K9 Spay.",
          "Puppy/Kitten 1st Exam",
          "Puppy/Kitten 1st Exam",
          "Puppy/Kitten 1st Exam",
          "Puppy/Kitten 1st Exam",
          "Puppy/Kitten 1st Exam",
          "Puppy/Kitten 1st Exam",
          "Puppy/Kitten 1st Exam",
          "Puppy/Kitten 1st Exam",
          "Puppy/Kitten 1st Exam",
          "Puppy/Kitten 1st Exam",
          "Puppy/Kitten 1st Exam",
          "Puppy/Kitten 1st Exam",
          "Puppy/Kitten 1st Exam",
          "Puppy/Kitten 1st Exam",
          "Puppy/Kitten 1st Exam",
          "Puppy/Kitten 1st Exam",
          "Puppy/Kitten Recheck Exam",
          "Puppy/Kitten Recheck Exam",
          "Puppy/Kitten Recheck Exam",
          "Puppy/Kitten Recheck Exam",
          "Puppy/Kitten Recheck Exam",
          "Puppy/Kitten Recheck Exam",
          "Puppy/Kitten Recheck Exam",
          "Puppy/Kitten Recheck Exam",
          "Puppy/Kitten Recheck Exam",
          "Puppy/Kitten Recheck Exam",
          "Puppy/Kitten Recheck Exam",
          "Puppy/Kitten Recheck Exam",
          "Puppy/Kitten Recheck Exam",
          "Puppy/Kitten Recheck Exam",
          "Puppy/Kitten Recheck Exam",
          "Puppy/Kitten Recheck Exam",
          "RAD CareClub Abdomen/Thorax Study",
          "RAD CareClub Abdomen/Thorax Study",
          "RAD CareClub Abdomen/Thorax Study Fel",
          "RAD CareClub Abdomen/Thorax Study Fel",
          "RAD CareClub Abdomen/Thorax Study,",
          "RAD CareClub Abdomen/Thorax Study,",
          "RAD Full Mouth Dental Xray Feline",
          "RAD Full Mouth Dental Xray Feline",
          "RAD Full Mouth Dental Xray Feline",
          "RAD Full Mouth Dental Xray Feline",
          "RAD Full Mouth Dental Xray Feline",
          "RAD Full Mouth Dental Xray Feline",
          "RAD Full Mouth Dental Xray K9.",
          "RAD Full Mouth Dental Xray K9.",
          "RAD Full Mouth Dental Xray K9.",
          "RAD Full Mouth Dental Xray K9.",
          "RAD Full Mouth Dental Xray K9.",
          "RAD Full Mouth Dental Xray K9.",
          "Rabies (1 year)",
          "Rabies (1 year)",
          "Rabies (1 year)",
          "Rabies (3 year)",
          "Rabies (3 year)",
          "Rabies (Adult/Senior)",
          "Rabies (Adult/Senior)",
          "Rabies (Puppy)",
          "Rattlesnake booster",
          "Rattlesnake booster",
          "Rattlesnake starter",
          "Rattlesnake starter",
          "Sedation Radiology",
          "Sedation Radiology",
          "Sedation Radiology Fel",
          "Sedation Radiology Fel",
          "Sedation Radiology Fel.",
          "Sedation Radiology Fel.",
          "Sedation Radiology,",
          "Sedation Radiology,",
          "Sedation Radiology.",
          "Sedation Radiology.",
          "Senior Lab Panel Fel",
          "Senior Lab Panel K9",
          "Service Rounding Adjustment",
          "Service Rounding Adjustment",
          "Service Rounding Adjustment",
          "Service Rounding Adjustment",
          "Service Rounding Adjustment",
          "Service Rounding Adjustment",
          "Service Rounding Adjustment",
          "Service Rounding Adjustment",
          "Service Rounding Adjustment",
          "Service Rounding Adjustment",
          "Service Rounding Adjustment",
          "Service Rounding Adjustment",
          "Service Rounding Adjustment",
          "Service Rounding Adjustment",
          "Service Rounding Adjustment",
          "Service Rounding Adjustment",
          "Service Rounding Adjustment",
          "Service Rounding Adjustment",
          "Service Rounding Adjustment",
          "Service Rounding Adjustment",
          "Service Rounding Adjustment",
          "Service Rounding Adjustment",
          "Service Rounding Adjustment",
          "Service Rounding Adjustment",
          "Service Rounding Adjustment",
          "Service Rounding Adjustment",
          "Service Rounding Adjustment",
          "Service Rounding Adjustment",
          "Service Rounding Adjustment",
          "Service Rounding Adjustment",
          "Service Rounding Adjustment",
          "Service Rounding Adjustment",
          "Service Rounding Adjustment",
          "Service Rounding Adjustment",
          "Service Rounding Adjustment",
          "Service Rounding Adjustment",
          "Service Rounding Adjustment",
          "Service Rounding Adjustment",
          "Service Rounding Adjustment",
          "Service Rounding Adjustment",
          "Service Rounding Adjustment",
          "Service Rounding Adjustment",
          "Single region Studies Fel.",
          "Single region Studies Fel.",
          "Single region Studies.",
          "Single region Studies.",
          "Surgical Pain Management",
          "Surgical Pain Management",
          "Surgical Pain Management",
          "Surgical Pain Management",
          "Surgical Pain Management",
          "Surgical Pain Management",
          "Surgical Pain Management",
          "Surgical Pain Management",
          "UPC K9",
          "Umbilical hernia ADD add to spay",
          "Wellness Exam",
          "Wellness Exam",
          "Wellness Exam",
          "Wellness Exam",
          "Wellness Exam",
          "Wellness Exam",
          "Wellness Exam",
          "Wellness Exam",
          "Wellness Exam",
          "Wellness Exam",
          "Wellness Exam",
          "Wellness Exam",
          "Wellness Exam",
          "Wellness Exam",
          "Wellness Exam",
          "Wellness Exam",
          "Wellness Exam",
          "Wellness Exam",
          "Wellness Exam",
          "Wellness Exam",
          "Wellness Exam",
          "Wellness Exam",
          "Wellness Exam",
          "Wellness Exam",
          "Wellness Exam",
          "Wellness Exam",
          "Adult Access Canine Canada",
          "Adult Access Feline Canada",
          "Adult Access for Cats",
          "Adult Access for Dogs",
          "Adult Essentials for Cats",
          "Adult Paws Plus Cat Canada",
          "Adult Paws Plus Dog Canada",
          "Adult Paws Plus for Cats",
          "Adult Paws Plus for Dogs",
          "Adult Paws for Cat Canada",
          "Adult Paws for Cats",
          "Adult Paws for Dog Canada",
          "Adult Paws for Dogs",
          "Adult Premier for Cats",
          "Junior Access Canine Canada",
          "Junior Access Feline Canada",
          "Junior Access for Cats",
          "Junior Access for Dogs",
          "Junior Cat Plus Spay Canada",
          "Junior Cats Plus Neuter Canada",
          "Junior Dog Plus Neuter Canada",
          "Junior Dogs Plus Spay Canada",
          "Junior Paws Plus Kitten Neuter",
          "Junior Paws Plus Kitten Spay",
          "Junior Paws Plus Puppy Neuter",
          "Junior Paws Plus Puppy Spay",
          "Junior Paws for Cats",
          "Junior Paws for Cats Canada",
          "Junior Paws for Dogs",
          "Junior Paws for Dogs Canada",
          "Senior Access Canine Canada",
          "Senior Access Feline Canada",
          "Senior Access for Cats",
          "Senior Access for Dogs",
          "Senior Cat Plus for Canada",
          "Senior Dog Plus for Canada",
          "Senior Paws Dog for Canada",
          "Senior Paws Plus for Cats",
          "Senior Paws Plus for Dogs",
          "Senior Paws for Cats",
          "Senior Paws for Cats Canada",
          "Senior Paws for Dogs"
         ],
         "name": "",
         "parents": [
          "Adult Access for Dogs",
          "Junior Access for Dogs",
          "Adult Access for Dogs",
          "Junior Access for Dogs",
          "Senior Access for Dogs",
          "Adult Access for Dogs",
          "Junior Access for Cats",
          "Junior Access for Dogs",
          "Adult Access for Cats",
          "Adult Access for Dogs",
          "Adult Access Feline Canada",
          "Senior Access Canine Canada",
          "Senior Access Feline Canada",
          "Adult Access Canine Canada",
          "Senior Access Canine Canada",
          "Adult Access Canine Canada",
          "Adult Access Feline Canada",
          "Junior Access Canine Canada",
          "Junior Access Feline Canada",
          "Senior Access Canine Canada",
          "Adult Access for Cats",
          "Senior Access for Cats",
          "Senior Access for Cats",
          "Senior Access for Dogs",
          "Adult Access for Dogs",
          "Senior Access for Dogs",
          "Adult Access for Dogs",
          "Senior Access for Dogs",
          "Junior Access for Dogs",
          "Adult Access Canine Canada",
          "Adult Paws Plus Dog Canada",
          "Adult Paws Plus for Dogs",
          "Adult Paws for Dog Canada",
          "Adult Paws for Dogs",
          "Senior Access Canine Canada",
          "Senior Dog Plus for Canada",
          "Senior Paws Dog for Canada",
          "Senior Paws Plus for Dogs",
          "Senior Paws for Dogs",
          "Adult Paws Plus for Dogs",
          "Adult Paws for Dogs",
          "Senior Paws Plus for Dogs",
          "Senior Paws for Dogs",
          "Adult Access Canine Canada",
          "Adult Paws Plus Dog Canada",
          "Adult Paws Plus for Dogs",
          "Adult Paws for Dog Canada",
          "Adult Paws for Dogs",
          "Senior Access Canine Canada",
          "Senior Dog Plus for Canada",
          "Senior Paws Dog for Canada",
          "Senior Paws Plus for Dogs",
          "Senior Paws for Dogs",
          "Adult Access Canine Canada",
          "Adult Paws Plus Dog Canada",
          "Adult Paws Plus for Dogs",
          "Adult Paws for Dog Canada",
          "Adult Paws for Dogs",
          "Senior Access Canine Canada",
          "Senior Dog Plus for Canada",
          "Senior Paws Dog for Canada",
          "Senior Paws Plus for Dogs",
          "Senior Paws for Dogs",
          "Adult Paws Plus for Dogs",
          "Adult Paws for Dogs",
          "Adult Paws Plus Dog Canada",
          "Adult Paws Plus for Dogs",
          "Adult Paws for Dog Canada",
          "Adult Paws for Dogs",
          "Senior Dog Plus for Canada",
          "Senior Paws Dog for Canada",
          "Senior Paws Plus for Dogs",
          "Senior Paws for Dogs",
          "Junior Dog Plus Neuter Canada",
          "Junior Dogs Plus Spay Canada",
          "Junior Paws Plus Puppy Neuter",
          "Junior Paws Plus Puppy Spay",
          "Adult Paws Plus Dog Canada",
          "Adult Paws Plus for Dogs",
          "Senior Dog Plus for Canada",
          "Senior Paws Plus for Dogs",
          "Adult Paws Plus Dog Canada",
          "Adult Paws Plus for Dogs",
          "Senior Dog Plus for Canada",
          "Senior Paws Plus for Dogs",
          "Adult Paws Plus for Dogs",
          "Adult Paws for Dogs",
          "Junior Paws Plus Puppy Neuter",
          "Junior Paws Plus Puppy Spay",
          "Junior Paws for Dogs",
          "Senior Paws Plus for Dogs",
          "Senior Paws for Dogs",
          "Adult Paws Plus for Dogs",
          "Adult Paws for Dogs",
          "Junior Paws Plus Puppy Neuter",
          "Junior Paws Plus Puppy Spay",
          "Junior Paws for Dogs",
          "Senior Paws Plus for Dogs",
          "Senior Paws for Dogs",
          "Adult Paws Plus Dog Canada",
          "Adult Paws Plus for Dogs",
          "Adult Paws for Dog Canada",
          "Adult Paws for Dogs",
          "Junior Dog Plus Neuter Canada",
          "Junior Dogs Plus Spay Canada",
          "Junior Paws Plus Puppy Neuter",
          "Junior Paws Plus Puppy Spay",
          "Junior Paws for Dogs",
          "Junior Paws for Dogs Canada",
          "Senior Dog Plus for Canada",
          "Senior Paws Dog for Canada",
          "Senior Paws Plus for Dogs",
          "Senior Paws for Dogs",
          "Adult Paws Plus for Dogs",
          "Adult Paws for Dogs",
          "Junior Paws Plus Puppy Neuter",
          "Junior Paws Plus Puppy Spay",
          "Junior Paws for Dogs",
          "Senior Paws Plus for Dogs",
          "Senior Paws for Dogs",
          "Junior Dog Plus Neuter Canada",
          "Junior Paws Plus Puppy Neuter",
          "Junior Paws Plus Puppy Neuter",
          "Junior Paws Plus Puppy Spay",
          "Junior Access Canine Canada",
          "Junior Dog Plus Neuter Canada",
          "Junior Dogs Plus Spay Canada",
          "Junior Paws Plus Puppy Neuter",
          "Junior Paws Plus Puppy Spay",
          "Junior Paws for Dogs",
          "Junior Paws for Dogs Canada",
          "Senior Paws Plus for Dogs",
          "Junior Paws Plus Puppy Neuter",
          "Junior Paws Plus Puppy Spay",
          "Junior Paws for Dogs",
          "Junior Access Canine Canada",
          "Junior Dog Plus Neuter Canada",
          "Junior Dogs Plus Spay Canada",
          "Junior Paws Plus Puppy Neuter",
          "Junior Paws Plus Puppy Spay",
          "Junior Paws for Dogs",
          "Junior Paws for Dogs Canada",
          "Junior Access Canine Canada",
          "Junior Dog Plus Neuter Canada",
          "Junior Dogs Plus Spay Canada",
          "Junior Paws Plus Puppy Neuter",
          "Junior Paws Plus Puppy Spay",
          "Junior Paws for Dogs",
          "Junior Paws for Dogs Canada",
          "Senior Paws Plus for Dogs",
          "Senior Paws for Dogs",
          "Junior Dogs Plus Spay Canada",
          "Junior Paws Plus Puppy Spay",
          "Senior Cat Plus for Canada",
          "Senior Dog Plus for Canada",
          "Senior Paws Dog for Canada",
          "Senior Paws Plus for Cats",
          "Senior Paws Plus for Dogs",
          "Senior Paws for Cats",
          "Senior Paws for Cats Canada",
          "Senior Paws for Dogs",
          "Senior Cat Plus for Canada",
          "Senior Dog Plus for Canada",
          "Senior Paws Dog for Canada",
          "Senior Paws Plus for Cats",
          "Senior Paws Plus for Dogs",
          "Senior Paws for Cats",
          "Senior Paws for Cats Canada",
          "Senior Paws for Dogs",
          "Adult Access Canine Canada",
          "Adult Access Feline Canada",
          "Adult Access for Cats",
          "Adult Access for Dogs",
          "Adult Essentials for Cats",
          "Adult Paws Plus Cat Canada",
          "Adult Paws Plus Dog Canada",
          "Adult Paws Plus for Cats",
          "Adult Paws Plus for Dogs",
          "Adult Paws for Cat Canada",
          "Adult Paws for Cats",
          "Adult Paws for Dog Canada",
          "Adult Paws for Dogs",
          "Adult Premier for Cats",
          "Junior Access Canine Canada",
          "Junior Access Feline Canada",
          "Junior Access for Cats",
          "Junior Access for Dogs",
          "Junior Cat Plus Spay Canada",
          "Junior Cats Plus Neuter Canada",
          "Junior Dog Plus Neuter Canada",
          "Junior Dogs Plus Spay Canada",
          "Junior Paws Plus Kitten Neuter",
          "Junior Paws Plus Kitten Spay",
          "Junior Paws Plus Puppy Neuter",
          "Junior Paws Plus Puppy Spay",
          "Junior Paws for Cats",
          "Junior Paws for Cats Canada",
          "Junior Paws for Dogs",
          "Junior Paws for Dogs Canada",
          "Senior Access Canine Canada",
          "Senior Access Feline Canada",
          "Senior Access for Cats",
          "Senior Access for Dogs",
          "Senior Cat Plus for Canada",
          "Senior Dog Plus for Canada",
          "Senior Paws Dog for Canada",
          "Senior Paws Plus for Cats",
          "Senior Paws Plus for Dogs",
          "Senior Paws for Cats",
          "Senior Paws for Cats Canada",
          "Senior Paws for Dogs",
          "Adult Access for Cats",
          "Senior Access for Cats",
          "Adult Access for Dogs",
          "Senior Access for Dogs",
          "Adult Access for Dogs",
          "Senior Access for Dogs",
          "Junior Access for Dogs",
          "Junior Access for Dogs",
          "Junior Access for Dogs",
          "Adult Access Feline Canada",
          "Adult Access for Cats",
          "Adult Paws for Cats",
          "Senior Access Feline Canada",
          "Senior Access for Cats",
          "Senior Paws for Cats",
          "Adult Access Canine Canada",
          "Adult Access for Dogs",
          "Adult Paws for Dogs",
          "Senior Access Canine Canada",
          "Senior Access for Dogs",
          "Senior Paws for Dogs",
          "Adult Access Feline Canada",
          "Senior Access Feline Canada",
          "Junior Access for Cats",
          "Junior Access for Dogs",
          "Junior Access Canine Canada",
          "Junior Access Feline Canada",
          "Junior Cat Plus Spay Canada",
          "Junior Cats Plus Neuter Canada",
          "Junior Dog Plus Neuter Canada",
          "Junior Dogs Plus Spay Canada",
          "Junior Paws Plus Kitten Neuter",
          "Junior Paws Plus Kitten Spay",
          "Junior Paws Plus Puppy Neuter",
          "Junior Paws Plus Puppy Spay",
          "Junior Paws for Cats",
          "Junior Paws for Cats Canada",
          "Junior Paws for Dogs",
          "Junior Paws for Dogs Canada",
          "Junior Cat Plus Spay Canada",
          "Junior Cats Plus Neuter Canada",
          "Junior Dog Plus Neuter Canada",
          "Junior Dogs Plus Spay Canada",
          "Junior Paws Plus Kitten Neuter",
          "Junior Paws Plus Kitten Spay",
          "Junior Paws Plus Puppy Neuter",
          "Junior Paws Plus Puppy Spay",
          "Junior Access Feline Canada",
          "Adult Access Feline Canada",
          "Junior Access Feline Canada",
          "Adult Access Canine Canada",
          "Junior Access Canine Canada",
          "Adult Access Canine Canada",
          "Junior Access Canine Canada",
          "Adult Access Canine Canada",
          "Junior Access Canine Canada",
          "Adult Access for Cats",
          "Senior Access for Cats",
          "Junior Access for Cats",
          "Adult Access Feline Canada",
          "Adult Access for Cats",
          "Senior Access Feline Canada",
          "Senior Access for Cats",
          "Junior Access for Cats",
          "Adult Access for Cats",
          "Junior Access for Cats",
          "Senior Access for Cats",
          "Junior Paws Plus Kitten Neuter",
          "Junior Paws Plus Kitten Spay",
          "Junior Paws for Cats",
          "Senior Access Feline Canada",
          "Adult Essentials for Cats",
          "Adult Premier for Cats",
          "Adult Access for Dogs",
          "Senior Access for Dogs",
          "Adult Access for Dogs",
          "Senior Access for Dogs",
          "Adult Access for Cats",
          "Senior Access for Cats",
          "Adult Access for Cats",
          "Senior Access for Cats",
          "Adult Access for Dogs",
          "Senior Access for Dogs",
          "Junior Access for Cats",
          "Adult Essentials for Cats",
          "Adult Paws Plus for Cats",
          "Adult Paws Plus for Dogs",
          "Adult Paws for Cats",
          "Adult Paws for Dogs",
          "Adult Premier for Cats",
          "Junior Paws Plus Kitten Neuter",
          "Junior Paws Plus Kitten Spay",
          "Junior Paws Plus Puppy Neuter",
          "Junior Paws Plus Puppy Spay",
          "Junior Paws for Cats",
          "Junior Paws for Dogs",
          "Senior Paws Plus for Cats",
          "Senior Paws Plus for Dogs",
          "Senior Paws for Cats",
          "Senior Paws for Dogs",
          "Adult Access for Cats",
          "Senior Access for Cats",
          "Adult Access for Dogs",
          "Senior Access for Dogs",
          "Junior Access for Dogs",
          "Adult Access Canine Canada",
          "Adult Access Feline Canada",
          "Adult Paws Plus Cat Canada",
          "Adult Paws Plus Dog Canada",
          "Adult Paws Plus for Cats",
          "Adult Paws Plus for Dogs",
          "Adult Paws for Cat Canada",
          "Adult Paws for Cats",
          "Adult Paws for Dog Canada",
          "Adult Paws for Dogs",
          "Junior Access Canine Canada",
          "Junior Access Feline Canada",
          "Junior Cat Plus Spay Canada",
          "Junior Cats Plus Neuter Canada",
          "Junior Dog Plus Neuter Canada",
          "Junior Dogs Plus Spay Canada",
          "Junior Paws Plus Kitten Neuter",
          "Junior Paws Plus Kitten Spay",
          "Junior Paws Plus Puppy Neuter",
          "Junior Paws Plus Puppy Spay",
          "Junior Paws for Cats",
          "Junior Paws for Cats Canada",
          "Junior Paws for Dogs",
          "Junior Paws for Dogs Canada",
          "Senior Access Canine Canada",
          "Senior Access Feline Canada",
          "Senior Cat Plus for Canada",
          "Senior Dog Plus for Canada",
          "Senior Paws Dog for Canada",
          "Senior Paws Plus for Cats",
          "Senior Paws Plus for Dogs",
          "Senior Paws for Cats",
          "Senior Paws for Cats Canada",
          "Senior Paws for Dogs",
          "Adult Access Feline Canada",
          "Adult Paws Plus Cat Canada",
          "Adult Paws Plus for Cats",
          "Adult Paws for Cat Canada",
          "Adult Paws for Cats",
          "Adult Premier for Cats",
          "Senior Access Feline Canada",
          "Senior Cat Plus for Canada",
          "Senior Paws Plus for Cats",
          "Senior Paws for Cats",
          "Senior Paws for Cats Canada",
          "Adult Paws Plus for Cats",
          "Adult Paws for Cats",
          "Adult Premier for Cats",
          "Senior Paws Plus for Cats",
          "Senior Paws for Cats",
          "Adult Access Feline Canada",
          "Adult Paws Plus Cat Canada",
          "Adult Paws Plus for Cats",
          "Adult Paws for Cat Canada",
          "Adult Paws for Cats",
          "Adult Premier for Cats",
          "Senior Access Feline Canada",
          "Senior Cat Plus for Canada",
          "Senior Paws Plus for Cats",
          "Senior Paws for Cats",
          "Senior Paws for Cats Canada",
          "Adult Essentials for Cats",
          "Adult Paws Plus for Cats",
          "Adult Paws for Cats",
          "Adult Paws Plus for Cats",
          "Adult Premier for Cats",
          "Adult Paws Plus Cat Canada",
          "Adult Paws Plus for Cats",
          "Adult Paws for Cat Canada",
          "Adult Paws for Cats",
          "Senior Cat Plus for Canada",
          "Senior Paws Plus for Cats",
          "Senior Paws for Cats",
          "Senior Paws for Cats Canada",
          "Junior Cat Plus Spay Canada",
          "Junior Cats Plus Neuter Canada",
          "Junior Paws Plus Kitten Neuter",
          "Junior Paws Plus Kitten Spay",
          "Adult Paws Plus Cat Canada",
          "Adult Paws Plus for Cats",
          "Senior Cat Plus for Canada",
          "Senior Paws Plus for Cats",
          "Adult Paws Plus Cat Canada",
          "Adult Paws Plus for Cats",
          "Senior Cat Plus for Canada",
          "Senior Paws Plus for Cats",
          "Junior Access Feline Canada",
          "Junior Cat Plus Spay Canada",
          "Junior Cats Plus Neuter Canada",
          "Junior Paws Plus Kitten Neuter",
          "Junior Paws Plus Kitten Spay",
          "Junior Paws for Cats",
          "Junior Paws for Cats Canada",
          "Junior Access Feline Canada",
          "Junior Cat Plus Spay Canada",
          "Junior Cats Plus Neuter Canada",
          "Junior Paws Plus Kitten Neuter",
          "Junior Paws Plus Kitten Spay",
          "Junior Paws for Cats",
          "Junior Paws for Cats Canada",
          "Junior Access Feline Canada",
          "Junior Cat Plus Spay Canada",
          "Junior Cats Plus Neuter Canada",
          "Junior Paws Plus Kitten Neuter",
          "Junior Paws Plus Kitten Spay",
          "Junior Paws for Cats",
          "Junior Paws for Cats Canada",
          "Junior Access Feline Canada",
          "Junior Cat Plus Spay Canada",
          "Junior Cats Plus Neuter Canada",
          "Junior Paws Plus Kitten Neuter",
          "Junior Paws Plus Kitten Spay",
          "Junior Paws for Cats",
          "Junior Paws for Cats Canada",
          "Adult Access for Cats",
          "Adult Paws for Cats",
          "Junior Access Feline Canada",
          "Junior Access for Cats",
          "Junior Cats Plus Neuter Canada",
          "Junior Paws Plus Kitten Neuter",
          "Junior Paws for Cats",
          "Junior Paws Plus Kitten Neuter",
          "Junior Paws Plus Kitten Spay",
          "Adult Premier for Cats",
          "Senior Paws Plus for Cats",
          "Senior Paws for Cats",
          "Junior Cat Plus Spay Canada",
          "Junior Paws Plus Kitten Spay",
          "Adult Access Feline Canada",
          "Adult Access for Cats",
          "Adult Paws for Cats",
          "Junior Access Feline Canada",
          "Junior Access for Cats",
          "Junior Paws for Cats",
          "Junior Access Canine Canada",
          "Junior Access for Dogs",
          "Adult Access for Dogs",
          "Junior Access for Dogs",
          "Adult Access for Dogs",
          "Junior Access for Dogs",
          "Senior Access for Dogs",
          "Adult Paws Plus Dog Canada",
          "Adult Paws Plus for Dogs",
          "Adult Paws for Dog Canada",
          "Adult Paws for Dogs",
          "Junior Dog Plus Neuter Canada",
          "Junior Dogs Plus Spay Canada",
          "Junior Paws Plus Puppy Neuter",
          "Junior Paws Plus Puppy Spay",
          "Junior Paws for Dogs",
          "Junior Paws for Dogs Canada",
          "Senior Dog Plus for Canada",
          "Senior Paws Dog for Canada",
          "Senior Paws Plus for Dogs",
          "Senior Paws for Dogs",
          "Adult Access for Cats",
          "Adult Access for Dogs",
          "Adult Essentials for Cats",
          "Adult Paws Plus for Cats",
          "Adult Paws Plus for Dogs",
          "Adult Paws for Cats",
          "Adult Paws for Dogs",
          "Adult Premier for Cats",
          "Junior Access for Cats",
          "Junior Access for Dogs",
          "Junior Paws Plus Kitten Neuter",
          "Junior Paws Plus Kitten Spay",
          "Junior Paws Plus Puppy Neuter",
          "Junior Paws Plus Puppy Spay",
          "Junior Paws for Cats",
          "Junior Paws for Dogs",
          "Senior Access for Cats",
          "Senior Access for Dogs",
          "Senior Paws Plus for Cats",
          "Senior Paws Plus for Dogs",
          "Senior Paws for Cats",
          "Senior Paws for Dogs",
          "Adult Access for Dogs",
          "Senior Access for Dogs",
          "Adult Access for Cats",
          "Senior Access for Cats",
          "Adult Access for Cats",
          "Senior Access for Cats",
          "Adult Access for Dogs",
          "Senior Access for Dogs",
          "Adult Access for Dogs",
          "Senior Access for Dogs",
          "Adult Access for Dogs",
          "Junior Access for Dogs",
          "Senior Access for Dogs",
          "Adult Access Canine Canada",
          "Adult Access for Dogs",
          "Adult Paws for Dogs",
          "Junior Access Canine Canada",
          "Junior Access for Dogs",
          "Junior Paws for Dogs",
          "Adult Access Canine Canada",
          "Adult Access for Dogs",
          "Adult Paws for Dogs",
          "Junior Access Canine Canada",
          "Junior Access for Dogs",
          "Junior Paws for Dogs",
          "Adult Access Canine Canada",
          "Adult Access for Dogs",
          "Adult Paws for Dogs",
          "Junior Access Canine Canada",
          "Junior Access for Dogs",
          "Junior Paws for Dogs",
          "Adult Access for Dogs",
          "Senior Access for Dogs",
          "Junior Access for Dogs",
          "Adult Access for Dogs",
          "Senior Access for Dogs",
          "Junior Access Canine Canada",
          "Junior Access for Dogs",
          "Junior Access Feline Canada",
          "Junior Access Canine Canada",
          "Junior Cat Plus Spay Canada",
          "Junior Cats Plus Neuter Canada",
          "Junior Dog Plus Neuter Canada",
          "Junior Dogs Plus Spay Canada",
          "Junior Paws Plus Kitten Neuter",
          "Junior Paws Plus Kitten Spay",
          "Junior Paws Plus Puppy Neuter",
          "Junior Paws Plus Puppy Spay",
          "Junior Paws for Cats",
          "Junior Paws for Cats Canada",
          "Junior Paws for Dogs",
          "Junior Paws for Dogs Canada",
          "Adult Access Canine Canada",
          "Junior Access Canine Canada",
          "Junior Access Feline Canada",
          "Adult Access for Dogs",
          "Adult Paws for Dogs",
          "Junior Access for Dogs",
          "Junior Paws for Dogs",
          "Adult Access for Dogs",
          "Adult Paws for Dogs",
          "Junior Access for Dogs",
          "Junior Paws for Dogs",
          "Adult Access for Dogs",
          "Adult Paws for Dogs",
          "Junior Access for Dogs",
          "Junior Paws for Dogs",
          "Adult Access Canine Canada",
          "Adult Access Feline Canada",
          "Adult Paws Plus Cat Canada",
          "Adult Paws Plus Dog Canada",
          "Adult Paws Plus for Cats",
          "Adult Paws Plus for Dogs",
          "Adult Paws for Cat Canada",
          "Adult Paws for Cats",
          "Adult Paws for Dog Canada",
          "Adult Paws for Dogs",
          "Junior Access Canine Canada",
          "Junior Access Feline Canada",
          "Junior Cat Plus Spay Canada",
          "Junior Cats Plus Neuter Canada",
          "Junior Dog Plus Neuter Canada",
          "Junior Dogs Plus Spay Canada",
          "Junior Paws Plus Kitten Neuter",
          "Junior Paws Plus Kitten Spay",
          "Junior Paws Plus Puppy Neuter",
          "Junior Paws Plus Puppy Spay",
          "Junior Paws for Cats",
          "Junior Paws for Cats Canada",
          "Junior Paws for Dogs",
          "Junior Paws for Dogs Canada",
          "Senior Access Canine Canada",
          "Senior Access Feline Canada",
          "Senior Cat Plus for Canada",
          "Senior Dog Plus for Canada",
          "Senior Paws Dog for Canada",
          "Senior Paws Plus for Cats",
          "Senior Paws Plus for Dogs",
          "Senior Paws for Cats",
          "Senior Paws for Cats Canada",
          "Senior Paws for Dogs",
          "Adult Access for Cats",
          "Junior Access for Cats",
          "Adult Access for Dogs",
          "Junior Access for Dogs",
          "Senior Access for Dogs",
          "Adult Access for Cats",
          "Adult Paws for Cats",
          "Junior Access for Cats",
          "Junior Paws for Cats",
          "Adult Access for Cats",
          "Adult Paws for Cats",
          "Junior Access for Cats",
          "Junior Paws for Cats",
          "Adult Access Canine Canada",
          "Senior Access Canine Canada",
          "Adult Access for Cats",
          "Adult Paws for Cats",
          "Junior Access for Cats",
          "Junior Paws for Cats",
          "Adult Access for Cats",
          "Adult Paws for Cats",
          "Junior Access for Cats",
          "Junior Paws for Cats",
          "Adult Access for Dogs",
          "Adult Paws for Dogs",
          "Junior Access for Dogs",
          "Junior Paws for Dogs",
          "Adult Access for Dogs",
          "Adult Paws for Dogs",
          "Junior Access for Dogs",
          "Junior Paws for Dogs",
          "Adult Access for Dogs",
          "Adult Paws for Dogs",
          "Junior Access for Dogs",
          "Junior Paws for Dogs",
          "Junior Paws Plus Kitten Neuter",
          "Junior Paws Plus Kitten Spay",
          "Junior Paws Plus Puppy Neuter",
          "Junior Paws Plus Puppy Spay",
          "Junior Cat Plus Spay Canada",
          "Junior Cats Plus Neuter Canada",
          "Junior Dog Plus Neuter Canada",
          "Junior Dogs Plus Spay Canada",
          "Junior Paws Plus Kitten Neuter",
          "Junior Paws Plus Kitten Spay",
          "Junior Paws Plus Puppy Neuter",
          "Junior Paws Plus Puppy Spay",
          "Adult Access Canine Canada",
          "Adult Access Feline Canada",
          "Junior Access Canine Canada",
          "Junior Access Feline Canada",
          "Senior Access Canine Canada",
          "Junior Paws Plus Kitten Neuter",
          "Junior Paws Plus Kitten Spay",
          "Junior Paws Plus Puppy Neuter",
          "Junior Paws Plus Puppy Spay",
          "Adult Access for Cats",
          "Adult Paws for Cats",
          "Junior Access for Cats",
          "Junior Paws for Cats",
          "Adult Access for Cats",
          "Adult Paws for Cats",
          "Junior Access for Cats",
          "Junior Paws for Cats",
          "Adult Access for Dogs",
          "Adult Paws for Dogs",
          "Junior Access for Dogs",
          "Junior Paws for Dogs",
          "Adult Access for Dogs",
          "Adult Paws for Dogs",
          "Junior Access for Dogs",
          "Junior Paws for Dogs",
          "Adult Access for Dogs",
          "Adult Paws for Dogs",
          "Junior Access for Dogs",
          "Junior Paws for Dogs",
          "Junior Access Canine Canada",
          "Junior Access Feline Canada",
          "Junior Access for Cats",
          "Junior Access for Dogs",
          "Junior Cat Plus Spay Canada",
          "Junior Cats Plus Neuter Canada",
          "Junior Dog Plus Neuter Canada",
          "Junior Dogs Plus Spay Canada",
          "Junior Paws Plus Kitten Neuter",
          "Junior Paws Plus Kitten Spay",
          "Junior Paws Plus Puppy Neuter",
          "Junior Paws Plus Puppy Spay",
          "Junior Paws for Cats",
          "Junior Paws for Cats Canada",
          "Junior Paws for Dogs",
          "Junior Paws for Dogs Canada",
          "Junior Access Canine Canada",
          "Junior Access Feline Canada",
          "Junior Access for Cats",
          "Junior Access for Dogs",
          "Junior Cat Plus Spay Canada",
          "Junior Cats Plus Neuter Canada",
          "Junior Dog Plus Neuter Canada",
          "Junior Dogs Plus Spay Canada",
          "Junior Paws Plus Kitten Neuter",
          "Junior Paws Plus Kitten Spay",
          "Junior Paws Plus Puppy Neuter",
          "Junior Paws Plus Puppy Spay",
          "Junior Paws for Cats",
          "Junior Paws for Cats Canada",
          "Junior Paws for Dogs",
          "Junior Paws for Dogs Canada",
          "Adult Access for Dogs",
          "Senior Access for Dogs",
          "Adult Access for Cats",
          "Senior Access for Cats",
          "Adult Access for Dogs",
          "Senior Access for Dogs",
          "Adult Access Feline Canada",
          "Adult Access for Cats",
          "Adult Paws for Cats",
          "Senior Access Feline Canada",
          "Senior Access for Cats",
          "Senior Paws for Cats",
          "Adult Access Canine Canada",
          "Adult Access for Dogs",
          "Adult Paws for Dogs",
          "Senior Access Canine Canada",
          "Senior Access for Dogs",
          "Senior Paws for Dogs",
          "Adult Access for Cats",
          "Junior Access for Cats",
          "Senior Access for Cats",
          "Adult Access for Cats",
          "Senior Access for Cats",
          "Adult Access for Dogs",
          "Senior Access for Dogs",
          "Junior Access for Dogs",
          "Adult Access for Dogs",
          "Junior Access for Dogs",
          "Adult Access for Dogs",
          "Junior Access for Dogs",
          "Adult Access for Dogs",
          "Senior Access for Dogs",
          "Adult Access for Cats",
          "Senior Access for Cats",
          "Adult Access for Cats",
          "Senior Access for Cats",
          "Adult Access for Dogs",
          "Senior Access for Dogs",
          "Adult Access for Dogs",
          "Senior Access for Dogs",
          "Senior Access for Cats",
          "Senior Access for Dogs",
          "Adult Access Canine Canada",
          "Adult Access Feline Canada",
          "Adult Access for Cats",
          "Adult Access for Dogs",
          "Adult Essentials for Cats",
          "Adult Paws Plus Cat Canada",
          "Adult Paws Plus Dog Canada",
          "Adult Paws Plus for Cats",
          "Adult Paws Plus for Dogs",
          "Adult Paws for Cat Canada",
          "Adult Paws for Cats",
          "Adult Paws for Dog Canada",
          "Adult Paws for Dogs",
          "Adult Premier for Cats",
          "Junior Access Canine Canada",
          "Junior Access Feline Canada",
          "Junior Access for Cats",
          "Junior Access for Dogs",
          "Junior Cat Plus Spay Canada",
          "Junior Cats Plus Neuter Canada",
          "Junior Dog Plus Neuter Canada",
          "Junior Dogs Plus Spay Canada",
          "Junior Paws Plus Kitten Neuter",
          "Junior Paws Plus Kitten Spay",
          "Junior Paws Plus Puppy Neuter",
          "Junior Paws Plus Puppy Spay",
          "Junior Paws for Cats",
          "Junior Paws for Cats Canada",
          "Junior Paws for Dogs",
          "Junior Paws for Dogs Canada",
          "Senior Access Canine Canada",
          "Senior Access Feline Canada",
          "Senior Access for Cats",
          "Senior Access for Dogs",
          "Senior Cat Plus for Canada",
          "Senior Dog Plus for Canada",
          "Senior Paws Dog for Canada",
          "Senior Paws Plus for Cats",
          "Senior Paws Plus for Dogs",
          "Senior Paws for Cats",
          "Senior Paws for Cats Canada",
          "Senior Paws for Dogs",
          "Adult Access for Cats",
          "Senior Access for Cats",
          "Adult Access for Dogs",
          "Senior Access for Dogs",
          "Adult Paws Plus Cat Canada",
          "Adult Paws Plus Dog Canada",
          "Adult Paws Plus for Cats",
          "Adult Paws Plus for Dogs",
          "Senior Cat Plus for Canada",
          "Senior Dog Plus for Canada",
          "Senior Paws Plus for Cats",
          "Senior Paws Plus for Dogs",
          "Senior Access for Dogs",
          "Junior Access for Dogs",
          "Adult Access Canine Canada",
          "Adult Access Feline Canada",
          "Adult Access for Cats",
          "Adult Access for Dogs",
          "Adult Essentials for Cats",
          "Adult Paws Plus Cat Canada",
          "Adult Paws Plus Dog Canada",
          "Adult Paws Plus for Cats",
          "Adult Paws Plus for Dogs",
          "Adult Paws for Cat Canada",
          "Adult Paws for Cats",
          "Adult Paws for Dog Canada",
          "Adult Paws for Dogs",
          "Adult Premier for Cats",
          "Senior Access Canine Canada",
          "Senior Access Feline Canada",
          "Senior Access for Cats",
          "Senior Access for Dogs",
          "Senior Cat Plus for Canada",
          "Senior Dog Plus for Canada",
          "Senior Paws Dog for Canada",
          "Senior Paws Plus for Cats",
          "Senior Paws Plus for Dogs",
          "Senior Paws for Cats",
          "Senior Paws for Cats Canada",
          "Senior Paws for Dogs",
          "",
          "",
          "",
          "",
          "",
          "",
          "",
          "",
          "",
          "",
          "",
          "",
          "",
          "",
          "",
          "",
          "",
          "",
          "",
          "",
          "",
          "",
          "",
          "",
          "",
          "",
          "",
          "",
          "",
          "",
          "",
          "",
          "",
          "",
          "",
          "",
          "",
          "",
          "",
          "",
          "",
          ""
         ],
         "type": "sunburst",
         "values": [
          1,
          1,
          24,
          49,
          12,
          1,
          10,
          21,
          32,
          120,
          3,
          6,
          2,
          1,
          3,
          9,
          2,
          19,
          6,
          4,
          14,
          8,
          19,
          102,
          14,
          33,
          184,
          97,
          241,
          29,
          145,
          3582,
          959,
          41191,
          25,
          182,
          163,
          5621,
          12639,
          3567,
          41171,
          5654,
          12629,
          29,
          145,
          15,
          959,
          20,
          25,
          182,
          163,
          12,
          10,
          29,
          145,
          3582,
          959,
          41191,
          25,
          182,
          163,
          5666,
          12639,
          3567,
          41171,
          145,
          15,
          959,
          20,
          182,
          163,
          12,
          10,
          370,
          288,
          13,
          11,
          145,
          3582,
          182,
          5666,
          145,
          3533,
          182,
          5585,
          1238,
          18726,
          2,
          4,
          6321,
          1885,
          4918,
          3242,
          38476,
          10,
          8,
          14214,
          5110,
          11466,
          89,
          12,
          814,
          17,
          312,
          238,
          10,
          8,
          3,
          94,
          135,
          127,
          10,
          7,
          3567,
          41171,
          11,
          9,
          15489,
          5654,
          12629,
          370,
          24,
          11,
          9,
          33,
          370,
          288,
          24,
          20,
          15493,
          114,
          56,
          11,
          9,
          15489,
          33,
          370,
          288,
          13,
          11,
          4,
          114,
          33,
          370,
          288,
          24,
          20,
          15493,
          114,
          5654,
          12629,
          288,
          20,
          81,
          182,
          163,
          791,
          5666,
          2170,
          49,
          12639,
          81,
          182,
          163,
          791,
          5666,
          2170,
          49,
          12639,
          29,
          11,
          82,
          258,
          26,
          88,
          145,
          1065,
          3582,
          229,
          8759,
          959,
          41191,
          4,
          33,
          10,
          119,
          265,
          126,
          128,
          370,
          288,
          6,
          10,
          24,
          20,
          5302,
          39,
          15493,
          114,
          25,
          3,
          34,
          172,
          81,
          182,
          163,
          791,
          5666,
          2170,
          49,
          12639,
          14,
          8,
          14,
          33,
          184,
          97,
          241,
          1,
          2,
          3,
          25,
          977,
          1,
          17,
          784,
          5,
          47,
          3663,
          12,
          94,
          3674,
          3,
          1,
          87,
          199,
          33,
          10,
          126,
          128,
          370,
          288,
          6,
          10,
          24,
          20,
          5302,
          39,
          15493,
          114,
          126,
          128,
          370,
          288,
          5,
          8,
          13,
          11,
          4,
          1,
          3,
          3,
          13,
          1,
          2,
          2,
          6,
          52,
          14,
          116,
          2,
          29,
          1,
          6,
          91,
          12,
          93,
          3,
          1,
          2,
          5300,
          1,
          26,
          4,
          1,
          3,
          2,
          14,
          5,
          2,
          2,
          2,
          3,
          20,
          87,
          26,
          1059,
          3567,
          8750,
          41171,
          4,
          1,
          2,
          11,
          9,
          5300,
          15489,
          788,
          5654,
          2166,
          12629,
          37,
          5,
          132,
          62,
          199,
          29,
          11,
          88,
          145,
          6,
          15,
          229,
          9,
          959,
          20,
          33,
          10,
          126,
          128,
          370,
          288,
          5,
          8,
          13,
          11,
          2,
          39,
          4,
          114,
          25,
          3,
          81,
          182,
          163,
          3,
          12,
          4,
          49,
          10,
          11,
          88,
          1065,
          229,
          8759,
          4,
          3,
          81,
          791,
          2170,
          49,
          1059,
          8750,
          4,
          788,
          2166,
          11,
          88,
          1065,
          229,
          8759,
          4,
          3,
          81,
          791,
          2170,
          49,
          26,
          1040,
          8750,
          19,
          4,
          88,
          6,
          229,
          9,
          81,
          3,
          4,
          49,
          126,
          128,
          5,
          8,
          88,
          1065,
          81,
          791,
          88,
          1061,
          81,
          789,
          10,
          126,
          128,
          6,
          10,
          5302,
          39,
          10,
          126,
          128,
          6,
          10,
          5302,
          39,
          10,
          126,
          128,
          5,
          8,
          2,
          39,
          10,
          126,
          128,
          6,
          10,
          5302,
          39,
          4,
          108,
          4,
          59,
          128,
          6,
          2056,
          1,
          2,
          4,
          788,
          2166,
          126,
          10,
          1,
          7,
          160,
          3,
          44,
          1902,
          2,
          1,
          1,
          1,
          29,
          43,
          15,
          77,
          9,
          769,
          10,
          285,
          221,
          10,
          6,
          3,
          82,
          124,
          122,
          10,
          7,
          82,
          258,
          26,
          1058,
          3567,
          8750,
          41171,
          4,
          119,
          265,
          1,
          2,
          11,
          9,
          5300,
          15487,
          34,
          172,
          788,
          5637,
          2166,
          12629,
          2,
          14,
          5,
          2,
          2,
          2,
          1,
          3,
          3,
          20,
          106,
          136,
          40,
          3,
          8,
          822,
          13,
          95,
          4705,
          1,
          5,
          204,
          2,
          20,
          1039,
          2,
          7,
          558,
          6,
          79,
          3752,
          184,
          97,
          241,
          65,
          24,
          1,
          69,
          1,
          1,
          126,
          128,
          370,
          288,
          5,
          8,
          13,
          11,
          2,
          39,
          4,
          114,
          2,
          11,
          6,
          8,
          822,
          95,
          4705,
          5,
          204,
          20,
          1039,
          7,
          558,
          79,
          3752,
          29,
          11,
          88,
          145,
          6,
          15,
          229,
          9,
          959,
          20,
          33,
          10,
          126,
          128,
          370,
          288,
          5,
          8,
          13,
          11,
          2,
          39,
          4,
          114,
          25,
          3,
          81,
          182,
          163,
          3,
          12,
          4,
          49,
          10,
          3,
          3,
          12,
          15,
          7,
          4,
          108,
          59,
          2056,
          7,
          160,
          44,
          1902,
          5,
          12,
          4,
          108,
          59,
          2056,
          7,
          160,
          44,
          1902,
          8,
          822,
          95,
          4705,
          5,
          204,
          20,
          1039,
          7,
          558,
          79,
          3752,
          1,
          2,
          11,
          9,
          126,
          128,
          370,
          288,
          5,
          8,
          13,
          11,
          1,
          1,
          2,
          1,
          2,
          1,
          2,
          11,
          9,
          4,
          108,
          59,
          2056,
          7,
          160,
          44,
          1902,
          8,
          822,
          95,
          4705,
          5,
          204,
          20,
          1039,
          7,
          558,
          79,
          3752,
          33,
          10,
          119,
          265,
          126,
          128,
          370,
          288,
          6,
          10,
          24,
          20,
          5302,
          39,
          15493,
          114,
          33,
          10,
          119,
          265,
          126,
          128,
          370,
          288,
          6,
          10,
          24,
          20,
          5302,
          39,
          15493,
          114,
          2,
          14,
          5,
          2,
          1,
          3,
          3,
          25,
          968,
          1,
          17,
          780,
          5,
          47,
          3609,
          12,
          94,
          3626,
          52,
          117,
          13,
          5,
          2,
          184,
          97,
          241,
          2,
          6,
          1,
          8,
          2,
          14,
          5,
          2,
          2,
          2,
          1,
          3,
          3,
          20,
          19,
          102,
          29,
          11,
          69,
          233,
          10,
          68,
          90,
          738,
          2603,
          172,
          6014,
          676,
          29524,
          3,
          33,
          10,
          102,
          220,
          100,
          94,
          341,
          248,
          4,
          8,
          23,
          15,
          4068,
          29,
          12581,
          94,
          25,
          3,
          23,
          130,
          52,
          127,
          93,
          542,
          4315,
          1703,
          30,
          9097,
          2,
          2,
          3,
          20,
          88,
          145,
          6,
          15,
          81,
          182,
          3,
          12,
          1,
          1,
          29,
          11,
          82,
          258,
          26,
          88,
          145,
          1065,
          3582,
          229,
          8759,
          959,
          41191,
          4,
          25,
          3,
          34,
          172,
          81,
          182,
          163,
          791,
          5649,
          2170,
          49,
          12639,
          272,
          96,
          687,
          2463,
          166,
          948,
          1851,
          11383,
          46457,
          1775,
          79094,
          9931,
          471060,
          43,
          408,
          138,
          1594,
          3772,
          1990,
          2014,
          6118,
          4739,
          93,
          156,
          391,
          321,
          72922,
          458,
          226034,
          1410,
          251,
          28,
          272,
          1801,
          1024,
          2752,
          1972,
          10032,
          84884,
          24963,
          471,
          171814
         ]
        }
       ],
       "layout": {
        "legend": {
         "tracegroupgap": 0
        },
        "margin": {
         "t": 60
        },
        "template": {
         "data": {
          "bar": [
           {
            "error_x": {
             "color": "#2a3f5f"
            },
            "error_y": {
             "color": "#2a3f5f"
            },
            "marker": {
             "line": {
              "color": "#E5ECF6",
              "width": 0.5
             },
             "pattern": {
              "fillmode": "overlay",
              "size": 10,
              "solidity": 0.2
             }
            },
            "type": "bar"
           }
          ],
          "barpolar": [
           {
            "marker": {
             "line": {
              "color": "#E5ECF6",
              "width": 0.5
             },
             "pattern": {
              "fillmode": "overlay",
              "size": 10,
              "solidity": 0.2
             }
            },
            "type": "barpolar"
           }
          ],
          "carpet": [
           {
            "aaxis": {
             "endlinecolor": "#2a3f5f",
             "gridcolor": "white",
             "linecolor": "white",
             "minorgridcolor": "white",
             "startlinecolor": "#2a3f5f"
            },
            "baxis": {
             "endlinecolor": "#2a3f5f",
             "gridcolor": "white",
             "linecolor": "white",
             "minorgridcolor": "white",
             "startlinecolor": "#2a3f5f"
            },
            "type": "carpet"
           }
          ],
          "choropleth": [
           {
            "colorbar": {
             "outlinewidth": 0,
             "ticks": ""
            },
            "type": "choropleth"
           }
          ],
          "contour": [
           {
            "colorbar": {
             "outlinewidth": 0,
             "ticks": ""
            },
            "colorscale": [
             [
              0,
              "#0d0887"
             ],
             [
              0.1111111111111111,
              "#46039f"
             ],
             [
              0.2222222222222222,
              "#7201a8"
             ],
             [
              0.3333333333333333,
              "#9c179e"
             ],
             [
              0.4444444444444444,
              "#bd3786"
             ],
             [
              0.5555555555555556,
              "#d8576b"
             ],
             [
              0.6666666666666666,
              "#ed7953"
             ],
             [
              0.7777777777777778,
              "#fb9f3a"
             ],
             [
              0.8888888888888888,
              "#fdca26"
             ],
             [
              1,
              "#f0f921"
             ]
            ],
            "type": "contour"
           }
          ],
          "contourcarpet": [
           {
            "colorbar": {
             "outlinewidth": 0,
             "ticks": ""
            },
            "type": "contourcarpet"
           }
          ],
          "heatmap": [
           {
            "colorbar": {
             "outlinewidth": 0,
             "ticks": ""
            },
            "colorscale": [
             [
              0,
              "#0d0887"
             ],
             [
              0.1111111111111111,
              "#46039f"
             ],
             [
              0.2222222222222222,
              "#7201a8"
             ],
             [
              0.3333333333333333,
              "#9c179e"
             ],
             [
              0.4444444444444444,
              "#bd3786"
             ],
             [
              0.5555555555555556,
              "#d8576b"
             ],
             [
              0.6666666666666666,
              "#ed7953"
             ],
             [
              0.7777777777777778,
              "#fb9f3a"
             ],
             [
              0.8888888888888888,
              "#fdca26"
             ],
             [
              1,
              "#f0f921"
             ]
            ],
            "type": "heatmap"
           }
          ],
          "heatmapgl": [
           {
            "colorbar": {
             "outlinewidth": 0,
             "ticks": ""
            },
            "colorscale": [
             [
              0,
              "#0d0887"
             ],
             [
              0.1111111111111111,
              "#46039f"
             ],
             [
              0.2222222222222222,
              "#7201a8"
             ],
             [
              0.3333333333333333,
              "#9c179e"
             ],
             [
              0.4444444444444444,
              "#bd3786"
             ],
             [
              0.5555555555555556,
              "#d8576b"
             ],
             [
              0.6666666666666666,
              "#ed7953"
             ],
             [
              0.7777777777777778,
              "#fb9f3a"
             ],
             [
              0.8888888888888888,
              "#fdca26"
             ],
             [
              1,
              "#f0f921"
             ]
            ],
            "type": "heatmapgl"
           }
          ],
          "histogram": [
           {
            "marker": {
             "pattern": {
              "fillmode": "overlay",
              "size": 10,
              "solidity": 0.2
             }
            },
            "type": "histogram"
           }
          ],
          "histogram2d": [
           {
            "colorbar": {
             "outlinewidth": 0,
             "ticks": ""
            },
            "colorscale": [
             [
              0,
              "#0d0887"
             ],
             [
              0.1111111111111111,
              "#46039f"
             ],
             [
              0.2222222222222222,
              "#7201a8"
             ],
             [
              0.3333333333333333,
              "#9c179e"
             ],
             [
              0.4444444444444444,
              "#bd3786"
             ],
             [
              0.5555555555555556,
              "#d8576b"
             ],
             [
              0.6666666666666666,
              "#ed7953"
             ],
             [
              0.7777777777777778,
              "#fb9f3a"
             ],
             [
              0.8888888888888888,
              "#fdca26"
             ],
             [
              1,
              "#f0f921"
             ]
            ],
            "type": "histogram2d"
           }
          ],
          "histogram2dcontour": [
           {
            "colorbar": {
             "outlinewidth": 0,
             "ticks": ""
            },
            "colorscale": [
             [
              0,
              "#0d0887"
             ],
             [
              0.1111111111111111,
              "#46039f"
             ],
             [
              0.2222222222222222,
              "#7201a8"
             ],
             [
              0.3333333333333333,
              "#9c179e"
             ],
             [
              0.4444444444444444,
              "#bd3786"
             ],
             [
              0.5555555555555556,
              "#d8576b"
             ],
             [
              0.6666666666666666,
              "#ed7953"
             ],
             [
              0.7777777777777778,
              "#fb9f3a"
             ],
             [
              0.8888888888888888,
              "#fdca26"
             ],
             [
              1,
              "#f0f921"
             ]
            ],
            "type": "histogram2dcontour"
           }
          ],
          "mesh3d": [
           {
            "colorbar": {
             "outlinewidth": 0,
             "ticks": ""
            },
            "type": "mesh3d"
           }
          ],
          "parcoords": [
           {
            "line": {
             "colorbar": {
              "outlinewidth": 0,
              "ticks": ""
             }
            },
            "type": "parcoords"
           }
          ],
          "pie": [
           {
            "automargin": true,
            "type": "pie"
           }
          ],
          "scatter": [
           {
            "marker": {
             "colorbar": {
              "outlinewidth": 0,
              "ticks": ""
             }
            },
            "type": "scatter"
           }
          ],
          "scatter3d": [
           {
            "line": {
             "colorbar": {
              "outlinewidth": 0,
              "ticks": ""
             }
            },
            "marker": {
             "colorbar": {
              "outlinewidth": 0,
              "ticks": ""
             }
            },
            "type": "scatter3d"
           }
          ],
          "scattercarpet": [
           {
            "marker": {
             "colorbar": {
              "outlinewidth": 0,
              "ticks": ""
             }
            },
            "type": "scattercarpet"
           }
          ],
          "scattergeo": [
           {
            "marker": {
             "colorbar": {
              "outlinewidth": 0,
              "ticks": ""
             }
            },
            "type": "scattergeo"
           }
          ],
          "scattergl": [
           {
            "marker": {
             "colorbar": {
              "outlinewidth": 0,
              "ticks": ""
             }
            },
            "type": "scattergl"
           }
          ],
          "scattermapbox": [
           {
            "marker": {
             "colorbar": {
              "outlinewidth": 0,
              "ticks": ""
             }
            },
            "type": "scattermapbox"
           }
          ],
          "scatterpolar": [
           {
            "marker": {
             "colorbar": {
              "outlinewidth": 0,
              "ticks": ""
             }
            },
            "type": "scatterpolar"
           }
          ],
          "scatterpolargl": [
           {
            "marker": {
             "colorbar": {
              "outlinewidth": 0,
              "ticks": ""
             }
            },
            "type": "scatterpolargl"
           }
          ],
          "scatterternary": [
           {
            "marker": {
             "colorbar": {
              "outlinewidth": 0,
              "ticks": ""
             }
            },
            "type": "scatterternary"
           }
          ],
          "surface": [
           {
            "colorbar": {
             "outlinewidth": 0,
             "ticks": ""
            },
            "colorscale": [
             [
              0,
              "#0d0887"
             ],
             [
              0.1111111111111111,
              "#46039f"
             ],
             [
              0.2222222222222222,
              "#7201a8"
             ],
             [
              0.3333333333333333,
              "#9c179e"
             ],
             [
              0.4444444444444444,
              "#bd3786"
             ],
             [
              0.5555555555555556,
              "#d8576b"
             ],
             [
              0.6666666666666666,
              "#ed7953"
             ],
             [
              0.7777777777777778,
              "#fb9f3a"
             ],
             [
              0.8888888888888888,
              "#fdca26"
             ],
             [
              1,
              "#f0f921"
             ]
            ],
            "type": "surface"
           }
          ],
          "table": [
           {
            "cells": {
             "fill": {
              "color": "#EBF0F8"
             },
             "line": {
              "color": "white"
             }
            },
            "header": {
             "fill": {
              "color": "#C8D4E3"
             },
             "line": {
              "color": "white"
             }
            },
            "type": "table"
           }
          ]
         },
         "layout": {
          "annotationdefaults": {
           "arrowcolor": "#2a3f5f",
           "arrowhead": 0,
           "arrowwidth": 1
          },
          "autotypenumbers": "strict",
          "coloraxis": {
           "colorbar": {
            "outlinewidth": 0,
            "ticks": ""
           }
          },
          "colorscale": {
           "diverging": [
            [
             0,
             "#8e0152"
            ],
            [
             0.1,
             "#c51b7d"
            ],
            [
             0.2,
             "#de77ae"
            ],
            [
             0.3,
             "#f1b6da"
            ],
            [
             0.4,
             "#fde0ef"
            ],
            [
             0.5,
             "#f7f7f7"
            ],
            [
             0.6,
             "#e6f5d0"
            ],
            [
             0.7,
             "#b8e186"
            ],
            [
             0.8,
             "#7fbc41"
            ],
            [
             0.9,
             "#4d9221"
            ],
            [
             1,
             "#276419"
            ]
           ],
           "sequential": [
            [
             0,
             "#0d0887"
            ],
            [
             0.1111111111111111,
             "#46039f"
            ],
            [
             0.2222222222222222,
             "#7201a8"
            ],
            [
             0.3333333333333333,
             "#9c179e"
            ],
            [
             0.4444444444444444,
             "#bd3786"
            ],
            [
             0.5555555555555556,
             "#d8576b"
            ],
            [
             0.6666666666666666,
             "#ed7953"
            ],
            [
             0.7777777777777778,
             "#fb9f3a"
            ],
            [
             0.8888888888888888,
             "#fdca26"
            ],
            [
             1,
             "#f0f921"
            ]
           ],
           "sequentialminus": [
            [
             0,
             "#0d0887"
            ],
            [
             0.1111111111111111,
             "#46039f"
            ],
            [
             0.2222222222222222,
             "#7201a8"
            ],
            [
             0.3333333333333333,
             "#9c179e"
            ],
            [
             0.4444444444444444,
             "#bd3786"
            ],
            [
             0.5555555555555556,
             "#d8576b"
            ],
            [
             0.6666666666666666,
             "#ed7953"
            ],
            [
             0.7777777777777778,
             "#fb9f3a"
            ],
            [
             0.8888888888888888,
             "#fdca26"
            ],
            [
             1,
             "#f0f921"
            ]
           ]
          },
          "colorway": [
           "#636efa",
           "#EF553B",
           "#00cc96",
           "#ab63fa",
           "#FFA15A",
           "#19d3f3",
           "#FF6692",
           "#B6E880",
           "#FF97FF",
           "#FECB52"
          ],
          "font": {
           "color": "#2a3f5f"
          },
          "geo": {
           "bgcolor": "white",
           "lakecolor": "white",
           "landcolor": "#E5ECF6",
           "showlakes": true,
           "showland": true,
           "subunitcolor": "white"
          },
          "hoverlabel": {
           "align": "left"
          },
          "hovermode": "closest",
          "mapbox": {
           "style": "light"
          },
          "paper_bgcolor": "white",
          "plot_bgcolor": "#E5ECF6",
          "polar": {
           "angularaxis": {
            "gridcolor": "white",
            "linecolor": "white",
            "ticks": ""
           },
           "bgcolor": "#E5ECF6",
           "radialaxis": {
            "gridcolor": "white",
            "linecolor": "white",
            "ticks": ""
           }
          },
          "scene": {
           "xaxis": {
            "backgroundcolor": "#E5ECF6",
            "gridcolor": "white",
            "gridwidth": 2,
            "linecolor": "white",
            "showbackground": true,
            "ticks": "",
            "zerolinecolor": "white"
           },
           "yaxis": {
            "backgroundcolor": "#E5ECF6",
            "gridcolor": "white",
            "gridwidth": 2,
            "linecolor": "white",
            "showbackground": true,
            "ticks": "",
            "zerolinecolor": "white"
           },
           "zaxis": {
            "backgroundcolor": "#E5ECF6",
            "gridcolor": "white",
            "gridwidth": 2,
            "linecolor": "white",
            "showbackground": true,
            "ticks": "",
            "zerolinecolor": "white"
           }
          },
          "shapedefaults": {
           "line": {
            "color": "#2a3f5f"
           }
          },
          "ternary": {
           "aaxis": {
            "gridcolor": "white",
            "linecolor": "white",
            "ticks": ""
           },
           "baxis": {
            "gridcolor": "white",
            "linecolor": "white",
            "ticks": ""
           },
           "bgcolor": "#E5ECF6",
           "caxis": {
            "gridcolor": "white",
            "linecolor": "white",
            "ticks": ""
           }
          },
          "title": {
           "x": 0.05
          },
          "xaxis": {
           "automargin": true,
           "gridcolor": "white",
           "linecolor": "white",
           "ticks": "",
           "title": {
            "standoff": 15
           },
           "zerolinecolor": "white",
           "zerolinewidth": 2
          },
          "yaxis": {
           "automargin": true,
           "gridcolor": "white",
           "linecolor": "white",
           "ticks": "",
           "title": {
            "standoff": 15
           },
           "zerolinecolor": "white",
           "zerolinewidth": 2
          }
         }
        }
       }
      },
      "text/html": [
       "<div>                            <div id=\"396952cb-6f48-4685-ab3a-e3b5af93d021\" class=\"plotly-graph-div\" style=\"height:525px; width:100%;\"></div>            <script type=\"text/javascript\">                require([\"plotly\"], function(Plotly) {                    window.PLOTLYENV=window.PLOTLYENV || {};                                    if (document.getElementById(\"396952cb-6f48-4685-ab3a-e3b5af93d021\")) {                    Plotly.newPlot(                        \"396952cb-6f48-4685-ab3a-e3b5af93d021\",                        [{\"branchvalues\":\"total\",\"domain\":{\"x\":[0.0,1.0],\"y\":[0.0,1.0]},\"hovertemplate\":\"labels=%{label}<br>Number_Pets=%{value}<br>parent=%{parent}<br>id=%{id}<extra></extra>\",\"ids\":[\"Adult Access for Dogs/Abdominal Cryptorchid add to neuter K9\",\"Junior Access for Dogs/Abdominal Cryptorchid add to neuter K9\",\"Adult Access for Dogs/Accuplex K9\",\"Junior Access for Dogs/Accuplex K9\",\"Senior Access for Dogs/Accuplex K9\",\"Adult Access for Dogs/Additonal Fecal exam\",\"Junior Access for Cats/Additonal Fecal exam\",\"Junior Access for Dogs/Additonal Fecal exam\",\"Adult Access for Cats/Adult Wellness Fel\",\"Adult Access for Dogs/Adult Wellness K9\",\"Adult Access Feline Canada/Advanced Labwork Canada\",\"Senior Access Canine Canada/Advanced Labwork Canada\",\"Senior Access Feline Canada/Advanced Labwork Canada\",\"Adult Access Canine Canada/Anal Sac Expression Canada\",\"Senior Access Canine Canada/Anal Sac Expression Canada\",\"Adult Access Canine Canada/Basic Labwork Canada\",\"Adult Access Feline Canada/Basic Labwork Canada\",\"Junior Access Canine Canada/Basic Labwork Canada\",\"Junior Access Feline Canada/Basic Labwork Canada\",\"Senior Access Canine Canada/Basic Labwork Canada\",\"Adult Access for Cats/Blood Pressure Fel\",\"Senior Access for Cats/Blood Pressure Fel\",\"Senior Access for Cats/Blood Pressure Fel.\",\"Senior Access for Dogs/Blood Pressure K9\",\"Adult Access for Dogs/Blood Pressure K9.\",\"Senior Access for Dogs/Blood Pressure K9.\",\"Adult Access for Dogs/Bordetella (Adult/Senior)\",\"Senior Access for Dogs/Bordetella (Adult/Senior)\",\"Junior Access for Dogs/Bordetella (puppy)\",\"Adult Access Canine Canada/Canine Adult Bordetella Vaccine\",\"Adult Paws Plus Dog Canada/Canine Adult Bordetella Vaccine\",\"Adult Paws Plus for Dogs/Canine Adult Bordetella Vaccine\",\"Adult Paws for Dog Canada/Canine Adult Bordetella Vaccine\",\"Adult Paws for Dogs/Canine Adult Bordetella Vaccine\",\"Senior Access Canine Canada/Canine Adult Bordetella Vaccine\",\"Senior Dog Plus for Canada/Canine Adult Bordetella Vaccine\",\"Senior Paws Dog for Canada/Canine Adult Bordetella Vaccine\",\"Senior Paws Plus for Dogs/Canine Adult Bordetella Vaccine\",\"Senior Paws for Dogs/Canine Adult Bordetella Vaccine\",\"Adult Paws Plus for Dogs/Canine Adult Combo Vaccine\",\"Adult Paws for Dogs/Canine Adult Combo Vaccine\",\"Senior Paws Plus for Dogs/Canine Adult Combo Vaccine\",\"Senior Paws for Dogs/Canine Adult Combo Vaccine\",\"Adult Access Canine Canada/Canine Adult Distemper/Parvo Combo Vaccine\",\"Adult Paws Plus Dog Canada/Canine Adult Distemper/Parvo Combo Vaccine\",\"Adult Paws Plus for Dogs/Canine Adult Distemper/Parvo Combo Vaccine\",\"Adult Paws for Dog Canada/Canine Adult Distemper/Parvo Combo Vaccine\",\"Adult Paws for Dogs/Canine Adult Distemper/Parvo Combo Vaccine\",\"Senior Access Canine Canada/Canine Adult Distemper/Parvo Combo Vaccine\",\"Senior Dog Plus for Canada/Canine Adult Distemper/Parvo Combo Vaccine\",\"Senior Paws Dog for Canada/Canine Adult Distemper/Parvo Combo Vaccine\",\"Senior Paws Plus for Dogs/Canine Adult Distemper/Parvo Combo Vaccine\",\"Senior Paws for Dogs/Canine Adult Distemper/Parvo Combo Vaccine\",\"Adult Access Canine Canada/Canine Adult Rabies Vaccine\",\"Adult Paws Plus Dog Canada/Canine Adult Rabies Vaccine\",\"Adult Paws Plus for Dogs/Canine Adult Rabies Vaccine\",\"Adult Paws for Dog Canada/Canine Adult Rabies Vaccine\",\"Adult Paws for Dogs/Canine Adult Rabies Vaccine\",\"Senior Access Canine Canada/Canine Adult Rabies Vaccine\",\"Senior Dog Plus for Canada/Canine Adult Rabies Vaccine\",\"Senior Paws Dog for Canada/Canine Adult Rabies Vaccine\",\"Senior Paws Plus for Dogs/Canine Adult Rabies Vaccine\",\"Senior Paws for Dogs/Canine Adult Rabies Vaccine\",\"Adult Paws Plus for Dogs/Canine Adult Wellness Labwork\",\"Adult Paws for Dogs/Canine Adult Wellness Labwork\",\"Adult Paws Plus Dog Canada/Canine Adult/Senior Wellness Labwork\",\"Adult Paws Plus for Dogs/Canine Adult/Senior Wellness Labwork\",\"Adult Paws for Dog Canada/Canine Adult/Senior Wellness Labwork\",\"Adult Paws for Dogs/Canine Adult/Senior Wellness Labwork\",\"Senior Dog Plus for Canada/Canine Adult/Senior Wellness Labwork\",\"Senior Paws Dog for Canada/Canine Adult/Senior Wellness Labwork\",\"Senior Paws Plus for Dogs/Canine Adult/Senior Wellness Labwork\",\"Senior Paws for Dogs/Canine Adult/Senior Wellness Labwork\",\"Junior Dog Plus Neuter Canada/Canine Complexity\",\"Junior Dogs Plus Spay Canada/Canine Complexity\",\"Junior Paws Plus Puppy Neuter/Canine Complexity\",\"Junior Paws Plus Puppy Spay/Canine Complexity\",\"Adult Paws Plus Dog Canada/Canine Dental\",\"Adult Paws Plus for Dogs/Canine Dental\",\"Senior Dog Plus for Canada/Canine Dental\",\"Senior Paws Plus for Dogs/Canine Dental\",\"Adult Paws Plus Dog Canada/Canine Dental Xray\",\"Adult Paws Plus for Dogs/Canine Dental Xray\",\"Senior Dog Plus for Canada/Canine Dental Xray\",\"Senior Paws Plus for Dogs/Canine Dental Xray\",\"Adult Paws Plus for Dogs/Canine Influenza Vaccine\",\"Adult Paws for Dogs/Canine Influenza Vaccine\",\"Junior Paws Plus Puppy Neuter/Canine Influenza Vaccine\",\"Junior Paws Plus Puppy Spay/Canine Influenza Vaccine\",\"Junior Paws for Dogs/Canine Influenza Vaccine\",\"Senior Paws Plus for Dogs/Canine Influenza Vaccine\",\"Senior Paws for Dogs/Canine Influenza Vaccine\",\"Adult Paws Plus for Dogs/Canine Influenza or Lyme Vaccine\",\"Adult Paws for Dogs/Canine Influenza or Lyme Vaccine\",\"Junior Paws Plus Puppy Neuter/Canine Influenza or Lyme Vaccine\",\"Junior Paws Plus Puppy Spay/Canine Influenza or Lyme Vaccine\",\"Junior Paws for Dogs/Canine Influenza or Lyme Vaccine\",\"Senior Paws Plus for Dogs/Canine Influenza or Lyme Vaccine\",\"Senior Paws for Dogs/Canine Influenza or Lyme Vaccine\",\"Adult Paws Plus Dog Canada/Canine Lepto Vaccine\",\"Adult Paws Plus for Dogs/Canine Lepto Vaccine\",\"Adult Paws for Dog Canada/Canine Lepto Vaccine\",\"Adult Paws for Dogs/Canine Lepto Vaccine\",\"Junior Dog Plus Neuter Canada/Canine Lepto Vaccine\",\"Junior Dogs Plus Spay Canada/Canine Lepto Vaccine\",\"Junior Paws Plus Puppy Neuter/Canine Lepto Vaccine\",\"Junior Paws Plus Puppy Spay/Canine Lepto Vaccine\",\"Junior Paws for Dogs/Canine Lepto Vaccine\",\"Junior Paws for Dogs Canada/Canine Lepto Vaccine\",\"Senior Dog Plus for Canada/Canine Lepto Vaccine\",\"Senior Paws Dog for Canada/Canine Lepto Vaccine\",\"Senior Paws Plus for Dogs/Canine Lepto Vaccine\",\"Senior Paws for Dogs/Canine Lepto Vaccine\",\"Adult Paws Plus for Dogs/Canine Leptospirosis Vaccine\",\"Adult Paws for Dogs/Canine Leptospirosis Vaccine\",\"Junior Paws Plus Puppy Neuter/Canine Leptospirosis Vaccine\",\"Junior Paws Plus Puppy Spay/Canine Leptospirosis Vaccine\",\"Junior Paws for Dogs/Canine Leptospirosis Vaccine\",\"Senior Paws Plus for Dogs/Canine Leptospirosis Vaccine\",\"Senior Paws for Dogs/Canine Leptospirosis Vaccine\",\"Junior Dog Plus Neuter Canada/Canine Neuter\",\"Junior Paws Plus Puppy Neuter/Canine Neuter\",\"Junior Paws Plus Puppy Neuter/Canine Pain Medication Dispensed\",\"Junior Paws Plus Puppy Spay/Canine Pain Medication Dispensed\",\"Junior Access Canine Canada/Canine Puppy Bordetella Vaccine\",\"Junior Dog Plus Neuter Canada/Canine Puppy Bordetella Vaccine\",\"Junior Dogs Plus Spay Canada/Canine Puppy Bordetella Vaccine\",\"Junior Paws Plus Puppy Neuter/Canine Puppy Bordetella Vaccine\",\"Junior Paws Plus Puppy Spay/Canine Puppy Bordetella Vaccine\",\"Junior Paws for Dogs/Canine Puppy Bordetella Vaccine\",\"Junior Paws for Dogs Canada/Canine Puppy Bordetella Vaccine\",\"Senior Paws Plus for Dogs/Canine Puppy Bordetella Vaccine\",\"Junior Paws Plus Puppy Neuter/Canine Puppy Combo Vaccine\",\"Junior Paws Plus Puppy Spay/Canine Puppy Combo Vaccine\",\"Junior Paws for Dogs/Canine Puppy Combo Vaccine\",\"Junior Access Canine Canada/Canine Puppy Distemper/Parvo Combo Vaccine\",\"Junior Dog Plus Neuter Canada/Canine Puppy Distemper/Parvo Combo Vaccine\",\"Junior Dogs Plus Spay Canada/Canine Puppy Distemper/Parvo Combo Vaccine\",\"Junior Paws Plus Puppy Neuter/Canine Puppy Distemper/Parvo Combo Vaccine\",\"Junior Paws Plus Puppy Spay/Canine Puppy Distemper/Parvo Combo Vaccine\",\"Junior Paws for Dogs/Canine Puppy Distemper/Parvo Combo Vaccine\",\"Junior Paws for Dogs Canada/Canine Puppy Distemper/Parvo Combo Vaccine\",\"Junior Access Canine Canada/Canine Puppy Rabies Vaccine\",\"Junior Dog Plus Neuter Canada/Canine Puppy Rabies Vaccine\",\"Junior Dogs Plus Spay Canada/Canine Puppy Rabies Vaccine\",\"Junior Paws Plus Puppy Neuter/Canine Puppy Rabies Vaccine\",\"Junior Paws Plus Puppy Spay/Canine Puppy Rabies Vaccine\",\"Junior Paws for Dogs/Canine Puppy Rabies Vaccine\",\"Junior Paws for Dogs Canada/Canine Puppy Rabies Vaccine\",\"Senior Paws Plus for Dogs/Canine Senior Wellness Labwork\",\"Senior Paws for Dogs/Canine Senior Wellness Labwork\",\"Junior Dogs Plus Spay Canada/Canine Spay\",\"Junior Paws Plus Puppy Spay/Canine Spay\",\"Senior Cat Plus for Canada/Canine/Feline Senior Blood Pressure\",\"Senior Dog Plus for Canada/Canine/Feline Senior Blood Pressure\",\"Senior Paws Dog for Canada/Canine/Feline Senior Blood Pressure\",\"Senior Paws Plus for Cats/Canine/Feline Senior Blood Pressure\",\"Senior Paws Plus for Dogs/Canine/Feline Senior Blood Pressure\",\"Senior Paws for Cats/Canine/Feline Senior Blood Pressure\",\"Senior Paws for Cats Canada/Canine/Feline Senior Blood Pressure\",\"Senior Paws for Dogs/Canine/Feline Senior Blood Pressure\",\"Senior Cat Plus for Canada/Canine/Feline Senior Radiographs\",\"Senior Dog Plus for Canada/Canine/Feline Senior Radiographs\",\"Senior Paws Dog for Canada/Canine/Feline Senior Radiographs\",\"Senior Paws Plus for Cats/Canine/Feline Senior Radiographs\",\"Senior Paws Plus for Dogs/Canine/Feline Senior Radiographs\",\"Senior Paws for Cats/Canine/Feline Senior Radiographs\",\"Senior Paws for Cats Canada/Canine/Feline Senior Radiographs\",\"Senior Paws for Dogs/Canine/Feline Senior Radiographs\",\"Adult Access Canine Canada/CareClub Checkup Exam\",\"Adult Access Feline Canada/CareClub Checkup Exam\",\"Adult Access for Cats/CareClub Checkup Exam\",\"Adult Access for Dogs/CareClub Checkup Exam\",\"Adult Essentials for Cats/CareClub Checkup Exam\",\"Adult Paws Plus Cat Canada/CareClub Checkup Exam\",\"Adult Paws Plus Dog Canada/CareClub Checkup Exam\",\"Adult Paws Plus for Cats/CareClub Checkup Exam\",\"Adult Paws Plus for Dogs/CareClub Checkup Exam\",\"Adult Paws for Cat Canada/CareClub Checkup Exam\",\"Adult Paws for Cats/CareClub Checkup Exam\",\"Adult Paws for Dog Canada/CareClub Checkup Exam\",\"Adult Paws for Dogs/CareClub Checkup Exam\",\"Adult Premier for Cats/CareClub Checkup Exam\",\"Junior Access Canine Canada/CareClub Checkup Exam\",\"Junior Access Feline Canada/CareClub Checkup Exam\",\"Junior Access for Cats/CareClub Checkup Exam\",\"Junior Access for Dogs/CareClub Checkup Exam\",\"Junior Cat Plus Spay Canada/CareClub Checkup Exam\",\"Junior Cats Plus Neuter Canada/CareClub Checkup Exam\",\"Junior Dog Plus Neuter Canada/CareClub Checkup Exam\",\"Junior Dogs Plus Spay Canada/CareClub Checkup Exam\",\"Junior Paws Plus Kitten Neuter/CareClub Checkup Exam\",\"Junior Paws Plus Kitten Spay/CareClub Checkup Exam\",\"Junior Paws Plus Puppy Neuter/CareClub Checkup Exam\",\"Junior Paws Plus Puppy Spay/CareClub Checkup Exam\",\"Junior Paws for Cats/CareClub Checkup Exam\",\"Junior Paws for Cats Canada/CareClub Checkup Exam\",\"Junior Paws for Dogs/CareClub Checkup Exam\",\"Junior Paws for Dogs Canada/CareClub Checkup Exam\",\"Senior Access Canine Canada/CareClub Checkup Exam\",\"Senior Access Feline Canada/CareClub Checkup Exam\",\"Senior Access for Cats/CareClub Checkup Exam\",\"Senior Access for Dogs/CareClub Checkup Exam\",\"Senior Cat Plus for Canada/CareClub Checkup Exam\",\"Senior Dog Plus for Canada/CareClub Checkup Exam\",\"Senior Paws Dog for Canada/CareClub Checkup Exam\",\"Senior Paws Plus for Cats/CareClub Checkup Exam\",\"Senior Paws Plus for Dogs/CareClub Checkup Exam\",\"Senior Paws for Cats/CareClub Checkup Exam\",\"Senior Paws for Cats Canada/CareClub Checkup Exam\",\"Senior Paws for Dogs/CareClub Checkup Exam\",\"Adult Access for Cats/Comprehensive Labwork Fel\",\"Senior Access for Cats/Comprehensive Labwork Fel\",\"Adult Access for Dogs/Comprehensive Labwork K9\",\"Senior Access for Dogs/Comprehensive Labwork K9\",\"Adult Access for Dogs/DHPP (DHLPP) (Adult/Senior)\",\"Senior Access for Dogs/DHPP (DHLPP) (Adult/Senior)\",\"Junior Access for Dogs/DHPP (DHLPP) Puppy\",\"Junior Access for Dogs/Deciduous teeth ADD add to neuter K9\",\"Junior Access for Dogs/Deciduous teeth ADD add to spay K9\",\"Adult Access Feline Canada/Dental Package Fe G\",\"Adult Access for Cats/Dental Package Fe G\",\"Adult Paws for Cats/Dental Package Fe G\",\"Senior Access Feline Canada/Dental Package Fe G\",\"Senior Access for Cats/Dental Package Fe G\",\"Senior Paws for Cats/Dental Package Fe G\",\"Adult Access Canine Canada/Dental Package K9 G\",\"Adult Access for Dogs/Dental Package K9 G\",\"Adult Paws for Dogs/Dental Package K9 G\",\"Senior Access Canine Canada/Dental Package K9 G\",\"Senior Access for Dogs/Dental Package K9 G\",\"Senior Paws for Dogs/Dental Package K9 G\",\"Adult Access Feline Canada/Dental Pain Management Fel\",\"Senior Access Feline Canada/Dental Pain Management Fel\",\"Junior Access for Cats/Deworm Fel\",\"Junior Access for Dogs/Deworm K9\",\"Junior Access Canine Canada/Deworming\",\"Junior Access Feline Canada/Deworming\",\"Junior Cat Plus Spay Canada/Deworming\",\"Junior Cats Plus Neuter Canada/Deworming\",\"Junior Dog Plus Neuter Canada/Deworming\",\"Junior Dogs Plus Spay Canada/Deworming\",\"Junior Paws Plus Kitten Neuter/Deworming\",\"Junior Paws Plus Kitten Spay/Deworming\",\"Junior Paws Plus Puppy Neuter/Deworming\",\"Junior Paws Plus Puppy Spay/Deworming\",\"Junior Paws for Cats/Deworming\",\"Junior Paws for Cats Canada/Deworming\",\"Junior Paws for Dogs/Deworming\",\"Junior Paws for Dogs Canada/Deworming\",\"Junior Cat Plus Spay Canada/Elective Block\",\"Junior Cats Plus Neuter Canada/Elective Block\",\"Junior Dog Plus Neuter Canada/Elective Block\",\"Junior Dogs Plus Spay Canada/Elective Block\",\"Junior Paws Plus Kitten Neuter/Elective Block\",\"Junior Paws Plus Kitten Spay/Elective Block\",\"Junior Paws Plus Puppy Neuter/Elective Block\",\"Junior Paws Plus Puppy Spay/Elective Block\",\"Junior Access Feline Canada/Elective Block Fel Neuter\",\"Adult Access Feline Canada/Elective Block Fel Spay\",\"Junior Access Feline Canada/Elective Block Fel Spay\",\"Adult Access Canine Canada/Elective Block K9 Neuter\",\"Junior Access Canine Canada/Elective Block K9 Neuter\",\"Adult Access Canine Canada/Elective Block'\",\"Junior Access Canine Canada/Elective Block'\",\"Adult Access Canine Canada/Elective Block.\",\"Junior Access Canine Canada/Elective Block.\",\"Adult Access for Cats/FVRCP (Adult/Senior)\",\"Senior Access for Cats/FVRCP (Adult/Senior)\",\"Junior Access for Cats/FVRCP (Kitten)\",\"Adult Access Feline Canada/FeLV (Adult/Senior)\",\"Adult Access for Cats/FeLV (Adult/Senior)\",\"Senior Access Feline Canada/FeLV (Adult/Senior)\",\"Senior Access for Cats/FeLV (Adult/Senior)\",\"Junior Access for Cats/FeLV (Kitten)\",\"Adult Access for Cats/FeLV / FIV test Fel\",\"Junior Access for Cats/FeLV / FIV test Fel\",\"Senior Access for Cats/FeLV / FIV test Fel\",\"Junior Paws Plus Kitten Neuter/FeLV/FIV Test\",\"Junior Paws Plus Kitten Spay/FeLV/FIV Test\",\"Junior Paws for Cats/FeLV/FIV Test\",\"Senior Access Feline Canada/FeLV/FIV Test Fel\",\"Adult Essentials for Cats/FeLV/FIV/Hwab\",\"Adult Premier for Cats/FeLV/FIV/Hwab\",\"Adult Access for Dogs/Fear Free codes,\",\"Senior Access for Dogs/Fear Free codes,\",\"Adult Access for Dogs/Fear free codes\",\"Senior Access for Dogs/Fear free codes\",\"Adult Access for Cats/Fear free codes Fel\",\"Senior Access for Cats/Fear free codes Fel\",\"Adult Access for Cats/Fear free codes Fel.\",\"Senior Access for Cats/Fear free codes Fel.\",\"Adult Access for Dogs/Fear free codes.\",\"Senior Access for Dogs/Fear free codes.\",\"Junior Access for Cats/Fecal Fel\",\"Adult Essentials for Cats/Fecal Test\",\"Adult Paws Plus for Cats/Fecal Test\",\"Adult Paws Plus for Dogs/Fecal Test\",\"Adult Paws for Cats/Fecal Test\",\"Adult Paws for Dogs/Fecal Test\",\"Adult Premier for Cats/Fecal Test\",\"Junior Paws Plus Kitten Neuter/Fecal Test\",\"Junior Paws Plus Kitten Spay/Fecal Test\",\"Junior Paws Plus Puppy Neuter/Fecal Test\",\"Junior Paws Plus Puppy Spay/Fecal Test\",\"Junior Paws for Cats/Fecal Test\",\"Junior Paws for Dogs/Fecal Test\",\"Senior Paws Plus for Cats/Fecal Test\",\"Senior Paws Plus for Dogs/Fecal Test\",\"Senior Paws for Cats/Fecal Test\",\"Senior Paws for Dogs/Fecal Test\",\"Adult Access for Cats/Fecal exam (O&P Giardia) Fel\",\"Senior Access for Cats/Fecal exam (O&P Giardia) Fel\",\"Adult Access for Dogs/Fecal exam (O&P Giardia) K9\",\"Senior Access for Dogs/Fecal exam (O&P Giardia) K9\",\"Junior Access for Dogs/Fecal k9\",\"Adult Access Canine Canada/Fecal/Parasite Test\",\"Adult Access Feline Canada/Fecal/Parasite Test\",\"Adult Paws Plus Cat Canada/Fecal/Parasite Test\",\"Adult Paws Plus Dog Canada/Fecal/Parasite Test\",\"Adult Paws Plus for Cats/Fecal/Parasite Test\",\"Adult Paws Plus for Dogs/Fecal/Parasite Test\",\"Adult Paws for Cat Canada/Fecal/Parasite Test\",\"Adult Paws for Cats/Fecal/Parasite Test\",\"Adult Paws for Dog Canada/Fecal/Parasite Test\",\"Adult Paws for Dogs/Fecal/Parasite Test\",\"Junior Access Canine Canada/Fecal/Parasite Test\",\"Junior Access Feline Canada/Fecal/Parasite Test\",\"Junior Cat Plus Spay Canada/Fecal/Parasite Test\",\"Junior Cats Plus Neuter Canada/Fecal/Parasite Test\",\"Junior Dog Plus Neuter Canada/Fecal/Parasite Test\",\"Junior Dogs Plus Spay Canada/Fecal/Parasite Test\",\"Junior Paws Plus Kitten Neuter/Fecal/Parasite Test\",\"Junior Paws Plus Kitten Spay/Fecal/Parasite Test\",\"Junior Paws Plus Puppy Neuter/Fecal/Parasite Test\",\"Junior Paws Plus Puppy Spay/Fecal/Parasite Test\",\"Junior Paws for Cats/Fecal/Parasite Test\",\"Junior Paws for Cats Canada/Fecal/Parasite Test\",\"Junior Paws for Dogs/Fecal/Parasite Test\",\"Junior Paws for Dogs Canada/Fecal/Parasite Test\",\"Senior Access Canine Canada/Fecal/Parasite Test\",\"Senior Access Feline Canada/Fecal/Parasite Test\",\"Senior Cat Plus for Canada/Fecal/Parasite Test\",\"Senior Dog Plus for Canada/Fecal/Parasite Test\",\"Senior Paws Dog for Canada/Fecal/Parasite Test\",\"Senior Paws Plus for Cats/Fecal/Parasite Test\",\"Senior Paws Plus for Dogs/Fecal/Parasite Test\",\"Senior Paws for Cats/Fecal/Parasite Test\",\"Senior Paws for Cats Canada/Fecal/Parasite Test\",\"Senior Paws for Dogs/Fecal/Parasite Test\",\"Adult Access Feline Canada/Feline Adult FVRCP Vaccine\",\"Adult Paws Plus Cat Canada/Feline Adult FVRCP Vaccine\",\"Adult Paws Plus for Cats/Feline Adult FVRCP Vaccine\",\"Adult Paws for Cat Canada/Feline Adult FVRCP Vaccine\",\"Adult Paws for Cats/Feline Adult FVRCP Vaccine\",\"Adult Premier for Cats/Feline Adult FVRCP Vaccine\",\"Senior Access Feline Canada/Feline Adult FVRCP Vaccine\",\"Senior Cat Plus for Canada/Feline Adult FVRCP Vaccine\",\"Senior Paws Plus for Cats/Feline Adult FVRCP Vaccine\",\"Senior Paws for Cats/Feline Adult FVRCP Vaccine\",\"Senior Paws for Cats Canada/Feline Adult FVRCP Vaccine\",\"Adult Paws Plus for Cats/Feline Adult FeLV Vaccine\",\"Adult Paws for Cats/Feline Adult FeLV Vaccine\",\"Adult Premier for Cats/Feline Adult FeLV Vaccine\",\"Senior Paws Plus for Cats/Feline Adult FeLV Vaccine\",\"Senior Paws for Cats/Feline Adult FeLV Vaccine\",\"Adult Access Feline Canada/Feline Adult Rabies Vaccine\",\"Adult Paws Plus Cat Canada/Feline Adult Rabies Vaccine\",\"Adult Paws Plus for Cats/Feline Adult Rabies Vaccine\",\"Adult Paws for Cat Canada/Feline Adult Rabies Vaccine\",\"Adult Paws for Cats/Feline Adult Rabies Vaccine\",\"Adult Premier for Cats/Feline Adult Rabies Vaccine\",\"Senior Access Feline Canada/Feline Adult Rabies Vaccine\",\"Senior Cat Plus for Canada/Feline Adult Rabies Vaccine\",\"Senior Paws Plus for Cats/Feline Adult Rabies Vaccine\",\"Senior Paws for Cats/Feline Adult Rabies Vaccine\",\"Senior Paws for Cats Canada/Feline Adult Rabies Vaccine\",\"Adult Essentials for Cats/Feline Adult Wellness Labwork\",\"Adult Paws Plus for Cats/Feline Adult Wellness Labwork\",\"Adult Paws for Cats/Feline Adult Wellness Labwork\",\"Adult Paws Plus for Cats/Feline Adult Wellness Panel\",\"Adult Premier for Cats/Feline Adult Wellness Panel\",\"Adult Paws Plus Cat Canada/Feline Adult/Senior Wellness Labwork\",\"Adult Paws Plus for Cats/Feline Adult/Senior Wellness Labwork\",\"Adult Paws for Cat Canada/Feline Adult/Senior Wellness Labwork\",\"Adult Paws for Cats/Feline Adult/Senior Wellness Labwork\",\"Senior Cat Plus for Canada/Feline Adult/Senior Wellness Labwork\",\"Senior Paws Plus for Cats/Feline Adult/Senior Wellness Labwork\",\"Senior Paws for Cats/Feline Adult/Senior Wellness Labwork\",\"Senior Paws for Cats Canada/Feline Adult/Senior Wellness Labwork\",\"Junior Cat Plus Spay Canada/Feline Complexity\",\"Junior Cats Plus Neuter Canada/Feline Complexity\",\"Junior Paws Plus Kitten Neuter/Feline Complexity\",\"Junior Paws Plus Kitten Spay/Feline Complexity\",\"Adult Paws Plus Cat Canada/Feline Dental\",\"Adult Paws Plus for Cats/Feline Dental\",\"Senior Cat Plus for Canada/Feline Dental\",\"Senior Paws Plus for Cats/Feline Dental\",\"Adult Paws Plus Cat Canada/Feline Dental Xray\",\"Adult Paws Plus for Cats/Feline Dental Xray\",\"Senior Cat Plus for Canada/Feline Dental Xray\",\"Senior Paws Plus for Cats/Feline Dental Xray\",\"Junior Access Feline Canada/Feline Kitten FVRCP Vaccine\",\"Junior Cat Plus Spay Canada/Feline Kitten FVRCP Vaccine\",\"Junior Cats Plus Neuter Canada/Feline Kitten FVRCP Vaccine\",\"Junior Paws Plus Kitten Neuter/Feline Kitten FVRCP Vaccine\",\"Junior Paws Plus Kitten Spay/Feline Kitten FVRCP Vaccine\",\"Junior Paws for Cats/Feline Kitten FVRCP Vaccine\",\"Junior Paws for Cats Canada/Feline Kitten FVRCP Vaccine\",\"Junior Access Feline Canada/Feline Kitten FeLV Vaccine\",\"Junior Cat Plus Spay Canada/Feline Kitten FeLV Vaccine\",\"Junior Cats Plus Neuter Canada/Feline Kitten FeLV Vaccine\",\"Junior Paws Plus Kitten Neuter/Feline Kitten FeLV Vaccine\",\"Junior Paws Plus Kitten Spay/Feline Kitten FeLV Vaccine\",\"Junior Paws for Cats/Feline Kitten FeLV Vaccine\",\"Junior Paws for Cats Canada/Feline Kitten FeLV Vaccine\",\"Junior Access Feline Canada/Feline Kitten Labwork\",\"Junior Cat Plus Spay Canada/Feline Kitten Labwork\",\"Junior Cats Plus Neuter Canada/Feline Kitten Labwork\",\"Junior Paws Plus Kitten Neuter/Feline Kitten Labwork\",\"Junior Paws Plus Kitten Spay/Feline Kitten Labwork\",\"Junior Paws for Cats/Feline Kitten Labwork\",\"Junior Paws for Cats Canada/Feline Kitten Labwork\",\"Junior Access Feline Canada/Feline Kitten Rabies Vaccine\",\"Junior Cat Plus Spay Canada/Feline Kitten Rabies Vaccine\",\"Junior Cats Plus Neuter Canada/Feline Kitten Rabies Vaccine\",\"Junior Paws Plus Kitten Neuter/Feline Kitten Rabies Vaccine\",\"Junior Paws Plus Kitten Spay/Feline Kitten Rabies Vaccine\",\"Junior Paws for Cats/Feline Kitten Rabies Vaccine\",\"Junior Paws for Cats Canada/Feline Kitten Rabies Vaccine\",\"Adult Access for Cats/Feline Neuter\",\"Adult Paws for Cats/Feline Neuter\",\"Junior Access Feline Canada/Feline Neuter\",\"Junior Access for Cats/Feline Neuter\",\"Junior Cats Plus Neuter Canada/Feline Neuter\",\"Junior Paws Plus Kitten Neuter/Feline Neuter\",\"Junior Paws for Cats/Feline Neuter\",\"Junior Paws Plus Kitten Neuter/Feline Pain Medication Dispensed\",\"Junior Paws Plus Kitten Spay/Feline Pain Medication Dispensed\",\"Adult Premier for Cats/Feline Parasiticide\",\"Senior Paws Plus for Cats/Feline Senior Wellness Labwork\",\"Senior Paws for Cats/Feline Senior Wellness Labwork\",\"Junior Cat Plus Spay Canada/Feline Spay\",\"Junior Paws Plus Kitten Spay/Feline Spay\",\"Adult Access Feline Canada/Feline Spay.\",\"Adult Access for Cats/Feline Spay.\",\"Adult Paws for Cats/Feline Spay.\",\"Junior Access Feline Canada/Feline Spay.\",\"Junior Access for Cats/Feline Spay.\",\"Junior Paws for Cats/Feline Spay.\",\"Junior Access Canine Canada/Female Spay Complexity K9 Canada\",\"Junior Access for Dogs/Gastropexy + Anesth Neuter (Elective) ADD K9\",\"Adult Access for Dogs/Gastropexy + Anesth Spay (Elective) ADD K9\",\"Junior Access for Dogs/Gastropexy + Anesth Spay (Elective) ADD K9\",\"Adult Access for Dogs/Heartworm K9\",\"Junior Access for Dogs/Heartworm K9\",\"Senior Access for Dogs/Heartworm K9\",\"Adult Paws Plus Dog Canada/Heartworm/Tick Disease Test\",\"Adult Paws Plus for Dogs/Heartworm/Tick Disease Test\",\"Adult Paws for Dog Canada/Heartworm/Tick Disease Test\",\"Adult Paws for Dogs/Heartworm/Tick Disease Test\",\"Junior Dog Plus Neuter Canada/Heartworm/Tick Disease Test\",\"Junior Dogs Plus Spay Canada/Heartworm/Tick Disease Test\",\"Junior Paws Plus Puppy Neuter/Heartworm/Tick Disease Test\",\"Junior Paws Plus Puppy Spay/Heartworm/Tick Disease Test\",\"Junior Paws for Dogs/Heartworm/Tick Disease Test\",\"Junior Paws for Dogs Canada/Heartworm/Tick Disease Test\",\"Senior Dog Plus for Canada/Heartworm/Tick Disease Test\",\"Senior Paws Dog for Canada/Heartworm/Tick Disease Test\",\"Senior Paws Plus for Dogs/Heartworm/Tick Disease Test\",\"Senior Paws for Dogs/Heartworm/Tick Disease Test\",\"Adult Access for Cats/HomeAgain Service\",\"Adult Access for Dogs/HomeAgain Service\",\"Adult Essentials for Cats/HomeAgain Service\",\"Adult Paws Plus for Cats/HomeAgain Service\",\"Adult Paws Plus for Dogs/HomeAgain Service\",\"Adult Paws for Cats/HomeAgain Service\",\"Adult Paws for Dogs/HomeAgain Service\",\"Adult Premier for Cats/HomeAgain Service\",\"Junior Access for Cats/HomeAgain Service\",\"Junior Access for Dogs/HomeAgain Service\",\"Junior Paws Plus Kitten Neuter/HomeAgain Service\",\"Junior Paws Plus Kitten Spay/HomeAgain Service\",\"Junior Paws Plus Puppy Neuter/HomeAgain Service\",\"Junior Paws Plus Puppy Spay/HomeAgain Service\",\"Junior Paws for Cats/HomeAgain Service\",\"Junior Paws for Dogs/HomeAgain Service\",\"Senior Access for Cats/HomeAgain Service\",\"Senior Access for Dogs/HomeAgain Service\",\"Senior Paws Plus for Cats/HomeAgain Service\",\"Senior Paws Plus for Dogs/HomeAgain Service\",\"Senior Paws for Cats/HomeAgain Service\",\"Senior Paws for Dogs/HomeAgain Service\",\"Adult Access for Dogs/IV Catheter Sedation\",\"Senior Access for Dogs/IV Catheter Sedation\",\"Adult Access for Cats/IV Catheter Sedation Fel\",\"Senior Access for Cats/IV Catheter Sedation Fel\",\"Adult Access for Cats/IV Catheter Sedation Fel.\",\"Senior Access for Cats/IV Catheter Sedation Fel.\",\"Adult Access for Dogs/IV Catheter Sedation,\",\"Senior Access for Dogs/IV Catheter Sedation,\",\"Adult Access for Dogs/IV Catheter Sedation.\",\"Senior Access for Dogs/IV Catheter Sedation.\",\"Adult Access for Dogs/Influenza\",\"Junior Access for Dogs/Influenza\",\"Senior Access for Dogs/Influenza\",\"Adult Access Canine Canada/K9 Neuter\",\"Adult Access for Dogs/K9 Neuter\",\"Adult Paws for Dogs/K9 Neuter\",\"Junior Access Canine Canada/K9 Neuter\",\"Junior Access for Dogs/K9 Neuter\",\"Junior Paws for Dogs/K9 Neuter\",\"Adult Access Canine Canada/K9 Spay\",\"Adult Access for Dogs/K9 Spay\",\"Adult Paws for Dogs/K9 Spay\",\"Junior Access Canine Canada/K9 Spay\",\"Junior Access for Dogs/K9 Spay\",\"Junior Paws for Dogs/K9 Spay\",\"Adult Access Canine Canada/K9 Spay.\",\"Adult Access for Dogs/K9 Spay.\",\"Adult Paws for Dogs/K9 Spay.\",\"Junior Access Canine Canada/K9 Spay.\",\"Junior Access for Dogs/K9 Spay.\",\"Junior Paws for Dogs/K9 Spay.\",\"Adult Access for Dogs/Lepto (Adult/Senior)\",\"Senior Access for Dogs/Lepto (Adult/Senior)\",\"Junior Access for Dogs/Lepto (Puppy)\",\"Adult Access for Dogs/Lyme\",\"Senior Access for Dogs/Lyme\",\"Junior Access Canine Canada/Lyme (Puppy)\",\"Junior Access for Dogs/Lyme (Puppy)\",\"Junior Access Feline Canada/Male Neuter Complexity Fel Canada\",\"Junior Access Canine Canada/Male Neuter Complexity K9 Canada\",\"Junior Cat Plus Spay Canada/Microchip Service\",\"Junior Cats Plus Neuter Canada/Microchip Service\",\"Junior Dog Plus Neuter Canada/Microchip Service\",\"Junior Dogs Plus Spay Canada/Microchip Service\",\"Junior Paws Plus Kitten Neuter/Microchip Service\",\"Junior Paws Plus Kitten Spay/Microchip Service\",\"Junior Paws Plus Puppy Neuter/Microchip Service\",\"Junior Paws Plus Puppy Spay/Microchip Service\",\"Junior Paws for Cats/Microchip Service\",\"Junior Paws for Cats Canada/Microchip Service\",\"Junior Paws for Dogs/Microchip Service\",\"Junior Paws for Dogs Canada/Microchip Service\",\"Adult Access Canine Canada/Microchip Service Canada\",\"Junior Access Canine Canada/Microchip Service Canada\",\"Junior Access Feline Canada/Microchip Service Canada\",\"Adult Access for Dogs/NSAIDS dispensing code K9 Neuter\",\"Adult Paws for Dogs/NSAIDS dispensing code K9 Neuter\",\"Junior Access for Dogs/NSAIDS dispensing code K9 Neuter\",\"Junior Paws for Dogs/NSAIDS dispensing code K9 Neuter\",\"Adult Access for Dogs/NSAIDS dispensing code K9 Spay\",\"Adult Paws for Dogs/NSAIDS dispensing code K9 Spay\",\"Junior Access for Dogs/NSAIDS dispensing code K9 Spay\",\"Junior Paws for Dogs/NSAIDS dispensing code K9 Spay\",\"Adult Access for Dogs/NSAIDS dispensing code K9 Spay.\",\"Adult Paws for Dogs/NSAIDS dispensing code K9 Spay.\",\"Junior Access for Dogs/NSAIDS dispensing code K9 Spay.\",\"Junior Paws for Dogs/NSAIDS dispensing code K9 Spay.\",\"Adult Access Canine Canada/Nail Trim\",\"Adult Access Feline Canada/Nail Trim\",\"Adult Paws Plus Cat Canada/Nail Trim\",\"Adult Paws Plus Dog Canada/Nail Trim\",\"Adult Paws Plus for Cats/Nail Trim\",\"Adult Paws Plus for Dogs/Nail Trim\",\"Adult Paws for Cat Canada/Nail Trim\",\"Adult Paws for Cats/Nail Trim\",\"Adult Paws for Dog Canada/Nail Trim\",\"Adult Paws for Dogs/Nail Trim\",\"Junior Access Canine Canada/Nail Trim\",\"Junior Access Feline Canada/Nail Trim\",\"Junior Cat Plus Spay Canada/Nail Trim\",\"Junior Cats Plus Neuter Canada/Nail Trim\",\"Junior Dog Plus Neuter Canada/Nail Trim\",\"Junior Dogs Plus Spay Canada/Nail Trim\",\"Junior Paws Plus Kitten Neuter/Nail Trim\",\"Junior Paws Plus Kitten Spay/Nail Trim\",\"Junior Paws Plus Puppy Neuter/Nail Trim\",\"Junior Paws Plus Puppy Spay/Nail Trim\",\"Junior Paws for Cats/Nail Trim\",\"Junior Paws for Cats Canada/Nail Trim\",\"Junior Paws for Dogs/Nail Trim\",\"Junior Paws for Dogs Canada/Nail Trim\",\"Senior Access Canine Canada/Nail Trim\",\"Senior Access Feline Canada/Nail Trim\",\"Senior Cat Plus for Canada/Nail Trim\",\"Senior Dog Plus for Canada/Nail Trim\",\"Senior Paws Dog for Canada/Nail Trim\",\"Senior Paws Plus for Cats/Nail Trim\",\"Senior Paws Plus for Dogs/Nail Trim\",\"Senior Paws for Cats/Nail Trim\",\"Senior Paws for Cats Canada/Nail Trim\",\"Senior Paws for Dogs/Nail Trim\",\"Adult Access for Cats/Nail trim Fel\",\"Junior Access for Cats/Nail trim Fel\",\"Adult Access for Dogs/Nail trim K9\",\"Junior Access for Dogs/Nail trim K9\",\"Senior Access for Dogs/Nail trim K9\",\"Adult Access for Cats/Pain Management Disp Fel Neuter\",\"Adult Paws for Cats/Pain Management Disp Fel Neuter\",\"Junior Access for Cats/Pain Management Disp Fel Neuter\",\"Junior Paws for Cats/Pain Management Disp Fel Neuter\",\"Adult Access for Cats/Pain Management Disp Fel Spay\",\"Adult Paws for Cats/Pain Management Disp Fel Spay\",\"Junior Access for Cats/Pain Management Disp Fel Spay\",\"Junior Paws for Cats/Pain Management Disp Fel Spay\",\"Adult Access Canine Canada/Pain Managment K9 Dental\",\"Senior Access Canine Canada/Pain Managment K9 Dental\",\"Adult Access for Cats/Pre-Operative Panels Fel Neuter\",\"Adult Paws for Cats/Pre-Operative Panels Fel Neuter\",\"Junior Access for Cats/Pre-Operative Panels Fel Neuter\",\"Junior Paws for Cats/Pre-Operative Panels Fel Neuter\",\"Adult Access for Cats/Pre-Operative Panels Fel Spay\",\"Adult Paws for Cats/Pre-Operative Panels Fel Spay\",\"Junior Access for Cats/Pre-Operative Panels Fel Spay\",\"Junior Paws for Cats/Pre-Operative Panels Fel Spay\",\"Adult Access for Dogs/Pre-Operative Panels K9 Neuter\",\"Adult Paws for Dogs/Pre-Operative Panels K9 Neuter\",\"Junior Access for Dogs/Pre-Operative Panels K9 Neuter\",\"Junior Paws for Dogs/Pre-Operative Panels K9 Neuter\",\"Adult Access for Dogs/Pre-Operative Panels K9 Spay\",\"Adult Paws for Dogs/Pre-Operative Panels K9 Spay\",\"Junior Access for Dogs/Pre-Operative Panels K9 Spay\",\"Junior Paws for Dogs/Pre-Operative Panels K9 Spay\",\"Adult Access for Dogs/Pre-Operative Panels K9 Spay.\",\"Adult Paws for Dogs/Pre-Operative Panels K9 Spay.\",\"Junior Access for Dogs/Pre-Operative Panels K9 Spay.\",\"Junior Paws for Dogs/Pre-Operative Panels K9 Spay.\",\"Junior Paws Plus Kitten Neuter/PreOp Bloodwork (Spay/Neuter)\",\"Junior Paws Plus Kitten Spay/PreOp Bloodwork (Spay/Neuter)\",\"Junior Paws Plus Puppy Neuter/PreOp Bloodwork (Spay/Neuter)\",\"Junior Paws Plus Puppy Spay/PreOp Bloodwork (Spay/Neuter)\",\"Junior Cat Plus Spay Canada/PreOp Labwork (Spay/Neuter)\",\"Junior Cats Plus Neuter Canada/PreOp Labwork (Spay/Neuter)\",\"Junior Dog Plus Neuter Canada/PreOp Labwork (Spay/Neuter)\",\"Junior Dogs Plus Spay Canada/PreOp Labwork (Spay/Neuter)\",\"Junior Paws Plus Kitten Neuter/PreOp Labwork (Spay/Neuter)\",\"Junior Paws Plus Kitten Spay/PreOp Labwork (Spay/Neuter)\",\"Junior Paws Plus Puppy Neuter/PreOp Labwork (Spay/Neuter)\",\"Junior Paws Plus Puppy Spay/PreOp Labwork (Spay/Neuter)\",\"Adult Access Canine Canada/PreOp Labwork Canada\",\"Adult Access Feline Canada/PreOp Labwork Canada\",\"Junior Access Canine Canada/PreOp Labwork Canada\",\"Junior Access Feline Canada/PreOp Labwork Canada\",\"Senior Access Canine Canada/PreOp Labwork Canada\",\"Junior Paws Plus Kitten Neuter/Protective Collar\",\"Junior Paws Plus Kitten Spay/Protective Collar\",\"Junior Paws Plus Puppy Neuter/Protective Collar\",\"Junior Paws Plus Puppy Spay/Protective Collar\",\"Adult Access for Cats/Protective Collars Fel Neuter\",\"Adult Paws for Cats/Protective Collars Fel Neuter\",\"Junior Access for Cats/Protective Collars Fel Neuter\",\"Junior Paws for Cats/Protective Collars Fel Neuter\",\"Adult Access for Cats/Protective Collars Fel Spay\",\"Adult Paws for Cats/Protective Collars Fel Spay\",\"Junior Access for Cats/Protective Collars Fel Spay\",\"Junior Paws for Cats/Protective Collars Fel Spay\",\"Adult Access for Dogs/Protective Collars K9 Neuter\",\"Adult Paws for Dogs/Protective Collars K9 Neuter\",\"Junior Access for Dogs/Protective Collars K9 Neuter\",\"Junior Paws for Dogs/Protective Collars K9 Neuter\",\"Adult Access for Dogs/Protective Collars K9 Spay\",\"Adult Paws for Dogs/Protective Collars K9 Spay\",\"Junior Access for Dogs/Protective Collars K9 Spay\",\"Junior Paws for Dogs/Protective Collars K9 Spay\",\"Adult Access for Dogs/Protective Collars list K9 Spay.\",\"Adult Paws for Dogs/Protective Collars list K9 Spay.\",\"Junior Access for Dogs/Protective Collars list K9 Spay.\",\"Junior Paws for Dogs/Protective Collars list K9 Spay.\",\"Junior Access Canine Canada/Puppy/Kitten 1st Exam\",\"Junior Access Feline Canada/Puppy/Kitten 1st Exam\",\"Junior Access for Cats/Puppy/Kitten 1st Exam\",\"Junior Access for Dogs/Puppy/Kitten 1st Exam\",\"Junior Cat Plus Spay Canada/Puppy/Kitten 1st Exam\",\"Junior Cats Plus Neuter Canada/Puppy/Kitten 1st Exam\",\"Junior Dog Plus Neuter Canada/Puppy/Kitten 1st Exam\",\"Junior Dogs Plus Spay Canada/Puppy/Kitten 1st Exam\",\"Junior Paws Plus Kitten Neuter/Puppy/Kitten 1st Exam\",\"Junior Paws Plus Kitten Spay/Puppy/Kitten 1st Exam\",\"Junior Paws Plus Puppy Neuter/Puppy/Kitten 1st Exam\",\"Junior Paws Plus Puppy Spay/Puppy/Kitten 1st Exam\",\"Junior Paws for Cats/Puppy/Kitten 1st Exam\",\"Junior Paws for Cats Canada/Puppy/Kitten 1st Exam\",\"Junior Paws for Dogs/Puppy/Kitten 1st Exam\",\"Junior Paws for Dogs Canada/Puppy/Kitten 1st Exam\",\"Junior Access Canine Canada/Puppy/Kitten Recheck Exam\",\"Junior Access Feline Canada/Puppy/Kitten Recheck Exam\",\"Junior Access for Cats/Puppy/Kitten Recheck Exam\",\"Junior Access for Dogs/Puppy/Kitten Recheck Exam\",\"Junior Cat Plus Spay Canada/Puppy/Kitten Recheck Exam\",\"Junior Cats Plus Neuter Canada/Puppy/Kitten Recheck Exam\",\"Junior Dog Plus Neuter Canada/Puppy/Kitten Recheck Exam\",\"Junior Dogs Plus Spay Canada/Puppy/Kitten Recheck Exam\",\"Junior Paws Plus Kitten Neuter/Puppy/Kitten Recheck Exam\",\"Junior Paws Plus Kitten Spay/Puppy/Kitten Recheck Exam\",\"Junior Paws Plus Puppy Neuter/Puppy/Kitten Recheck Exam\",\"Junior Paws Plus Puppy Spay/Puppy/Kitten Recheck Exam\",\"Junior Paws for Cats/Puppy/Kitten Recheck Exam\",\"Junior Paws for Cats Canada/Puppy/Kitten Recheck Exam\",\"Junior Paws for Dogs/Puppy/Kitten Recheck Exam\",\"Junior Paws for Dogs Canada/Puppy/Kitten Recheck Exam\",\"Adult Access for Dogs/RAD CareClub Abdomen/Thorax Study\",\"Senior Access for Dogs/RAD CareClub Abdomen/Thorax Study\",\"Adult Access for Cats/RAD CareClub Abdomen/Thorax Study Fel\",\"Senior Access for Cats/RAD CareClub Abdomen/Thorax Study Fel\",\"Adult Access for Dogs/RAD CareClub Abdomen/Thorax Study,\",\"Senior Access for Dogs/RAD CareClub Abdomen/Thorax Study,\",\"Adult Access Feline Canada/RAD Full Mouth Dental Xray Feline\",\"Adult Access for Cats/RAD Full Mouth Dental Xray Feline\",\"Adult Paws for Cats/RAD Full Mouth Dental Xray Feline\",\"Senior Access Feline Canada/RAD Full Mouth Dental Xray Feline\",\"Senior Access for Cats/RAD Full Mouth Dental Xray Feline\",\"Senior Paws for Cats/RAD Full Mouth Dental Xray Feline\",\"Adult Access Canine Canada/RAD Full Mouth Dental Xray K9.\",\"Adult Access for Dogs/RAD Full Mouth Dental Xray K9.\",\"Adult Paws for Dogs/RAD Full Mouth Dental Xray K9.\",\"Senior Access Canine Canada/RAD Full Mouth Dental Xray K9.\",\"Senior Access for Dogs/RAD Full Mouth Dental Xray K9.\",\"Senior Paws for Dogs/RAD Full Mouth Dental Xray K9.\",\"Adult Access for Cats/Rabies (1 year)\",\"Junior Access for Cats/Rabies (1 year)\",\"Senior Access for Cats/Rabies (1 year)\",\"Adult Access for Cats/Rabies (3 year)\",\"Senior Access for Cats/Rabies (3 year)\",\"Adult Access for Dogs/Rabies (Adult/Senior)\",\"Senior Access for Dogs/Rabies (Adult/Senior)\",\"Junior Access for Dogs/Rabies (Puppy)\",\"Adult Access for Dogs/Rattlesnake booster\",\"Junior Access for Dogs/Rattlesnake booster\",\"Adult Access for Dogs/Rattlesnake starter\",\"Junior Access for Dogs/Rattlesnake starter\",\"Adult Access for Dogs/Sedation Radiology\",\"Senior Access for Dogs/Sedation Radiology\",\"Adult Access for Cats/Sedation Radiology Fel\",\"Senior Access for Cats/Sedation Radiology Fel\",\"Adult Access for Cats/Sedation Radiology Fel.\",\"Senior Access for Cats/Sedation Radiology Fel.\",\"Adult Access for Dogs/Sedation Radiology,\",\"Senior Access for Dogs/Sedation Radiology,\",\"Adult Access for Dogs/Sedation Radiology.\",\"Senior Access for Dogs/Sedation Radiology.\",\"Senior Access for Cats/Senior Lab Panel Fel\",\"Senior Access for Dogs/Senior Lab Panel K9\",\"Adult Access Canine Canada/Service Rounding Adjustment\",\"Adult Access Feline Canada/Service Rounding Adjustment\",\"Adult Access for Cats/Service Rounding Adjustment\",\"Adult Access for Dogs/Service Rounding Adjustment\",\"Adult Essentials for Cats/Service Rounding Adjustment\",\"Adult Paws Plus Cat Canada/Service Rounding Adjustment\",\"Adult Paws Plus Dog Canada/Service Rounding Adjustment\",\"Adult Paws Plus for Cats/Service Rounding Adjustment\",\"Adult Paws Plus for Dogs/Service Rounding Adjustment\",\"Adult Paws for Cat Canada/Service Rounding Adjustment\",\"Adult Paws for Cats/Service Rounding Adjustment\",\"Adult Paws for Dog Canada/Service Rounding Adjustment\",\"Adult Paws for Dogs/Service Rounding Adjustment\",\"Adult Premier for Cats/Service Rounding Adjustment\",\"Junior Access Canine Canada/Service Rounding Adjustment\",\"Junior Access Feline Canada/Service Rounding Adjustment\",\"Junior Access for Cats/Service Rounding Adjustment\",\"Junior Access for Dogs/Service Rounding Adjustment\",\"Junior Cat Plus Spay Canada/Service Rounding Adjustment\",\"Junior Cats Plus Neuter Canada/Service Rounding Adjustment\",\"Junior Dog Plus Neuter Canada/Service Rounding Adjustment\",\"Junior Dogs Plus Spay Canada/Service Rounding Adjustment\",\"Junior Paws Plus Kitten Neuter/Service Rounding Adjustment\",\"Junior Paws Plus Kitten Spay/Service Rounding Adjustment\",\"Junior Paws Plus Puppy Neuter/Service Rounding Adjustment\",\"Junior Paws Plus Puppy Spay/Service Rounding Adjustment\",\"Junior Paws for Cats/Service Rounding Adjustment\",\"Junior Paws for Cats Canada/Service Rounding Adjustment\",\"Junior Paws for Dogs/Service Rounding Adjustment\",\"Junior Paws for Dogs Canada/Service Rounding Adjustment\",\"Senior Access Canine Canada/Service Rounding Adjustment\",\"Senior Access Feline Canada/Service Rounding Adjustment\",\"Senior Access for Cats/Service Rounding Adjustment\",\"Senior Access for Dogs/Service Rounding Adjustment\",\"Senior Cat Plus for Canada/Service Rounding Adjustment\",\"Senior Dog Plus for Canada/Service Rounding Adjustment\",\"Senior Paws Dog for Canada/Service Rounding Adjustment\",\"Senior Paws Plus for Cats/Service Rounding Adjustment\",\"Senior Paws Plus for Dogs/Service Rounding Adjustment\",\"Senior Paws for Cats/Service Rounding Adjustment\",\"Senior Paws for Cats Canada/Service Rounding Adjustment\",\"Senior Paws for Dogs/Service Rounding Adjustment\",\"Adult Access for Cats/Single region Studies Fel.\",\"Senior Access for Cats/Single region Studies Fel.\",\"Adult Access for Dogs/Single region Studies.\",\"Senior Access for Dogs/Single region Studies.\",\"Adult Paws Plus Cat Canada/Surgical Pain Management\",\"Adult Paws Plus Dog Canada/Surgical Pain Management\",\"Adult Paws Plus for Cats/Surgical Pain Management\",\"Adult Paws Plus for Dogs/Surgical Pain Management\",\"Senior Cat Plus for Canada/Surgical Pain Management\",\"Senior Dog Plus for Canada/Surgical Pain Management\",\"Senior Paws Plus for Cats/Surgical Pain Management\",\"Senior Paws Plus for Dogs/Surgical Pain Management\",\"Senior Access for Dogs/UPC K9\",\"Junior Access for Dogs/Umbilical hernia ADD add to spay\",\"Adult Access Canine Canada/Wellness Exam\",\"Adult Access Feline Canada/Wellness Exam\",\"Adult Access for Cats/Wellness Exam\",\"Adult Access for Dogs/Wellness Exam\",\"Adult Essentials for Cats/Wellness Exam\",\"Adult Paws Plus Cat Canada/Wellness Exam\",\"Adult Paws Plus Dog Canada/Wellness Exam\",\"Adult Paws Plus for Cats/Wellness Exam\",\"Adult Paws Plus for Dogs/Wellness Exam\",\"Adult Paws for Cat Canada/Wellness Exam\",\"Adult Paws for Cats/Wellness Exam\",\"Adult Paws for Dog Canada/Wellness Exam\",\"Adult Paws for Dogs/Wellness Exam\",\"Adult Premier for Cats/Wellness Exam\",\"Senior Access Canine Canada/Wellness Exam\",\"Senior Access Feline Canada/Wellness Exam\",\"Senior Access for Cats/Wellness Exam\",\"Senior Access for Dogs/Wellness Exam\",\"Senior Cat Plus for Canada/Wellness Exam\",\"Senior Dog Plus for Canada/Wellness Exam\",\"Senior Paws Dog for Canada/Wellness Exam\",\"Senior Paws Plus for Cats/Wellness Exam\",\"Senior Paws Plus for Dogs/Wellness Exam\",\"Senior Paws for Cats/Wellness Exam\",\"Senior Paws for Cats Canada/Wellness Exam\",\"Senior Paws for Dogs/Wellness Exam\",\"Adult Access Canine Canada\",\"Adult Access Feline Canada\",\"Adult Access for Cats\",\"Adult Access for Dogs\",\"Adult Essentials for Cats\",\"Adult Paws Plus Cat Canada\",\"Adult Paws Plus Dog Canada\",\"Adult Paws Plus for Cats\",\"Adult Paws Plus for Dogs\",\"Adult Paws for Cat Canada\",\"Adult Paws for Cats\",\"Adult Paws for Dog Canada\",\"Adult Paws for Dogs\",\"Adult Premier for Cats\",\"Junior Access Canine Canada\",\"Junior Access Feline Canada\",\"Junior Access for Cats\",\"Junior Access for Dogs\",\"Junior Cat Plus Spay Canada\",\"Junior Cats Plus Neuter Canada\",\"Junior Dog Plus Neuter Canada\",\"Junior Dogs Plus Spay Canada\",\"Junior Paws Plus Kitten Neuter\",\"Junior Paws Plus Kitten Spay\",\"Junior Paws Plus Puppy Neuter\",\"Junior Paws Plus Puppy Spay\",\"Junior Paws for Cats\",\"Junior Paws for Cats Canada\",\"Junior Paws for Dogs\",\"Junior Paws for Dogs Canada\",\"Senior Access Canine Canada\",\"Senior Access Feline Canada\",\"Senior Access for Cats\",\"Senior Access for Dogs\",\"Senior Cat Plus for Canada\",\"Senior Dog Plus for Canada\",\"Senior Paws Dog for Canada\",\"Senior Paws Plus for Cats\",\"Senior Paws Plus for Dogs\",\"Senior Paws for Cats\",\"Senior Paws for Cats Canada\",\"Senior Paws for Dogs\"],\"labels\":[\"Abdominal Cryptorchid add to neuter K9\",\"Abdominal Cryptorchid add to neuter K9\",\"Accuplex K9\",\"Accuplex K9\",\"Accuplex K9\",\"Additonal Fecal exam\",\"Additonal Fecal exam\",\"Additonal Fecal exam\",\"Adult Wellness Fel\",\"Adult Wellness K9\",\"Advanced Labwork Canada\",\"Advanced Labwork Canada\",\"Advanced Labwork Canada\",\"Anal Sac Expression Canada\",\"Anal Sac Expression Canada\",\"Basic Labwork Canada\",\"Basic Labwork Canada\",\"Basic Labwork Canada\",\"Basic Labwork Canada\",\"Basic Labwork Canada\",\"Blood Pressure Fel\",\"Blood Pressure Fel\",\"Blood Pressure Fel.\",\"Blood Pressure K9\",\"Blood Pressure K9.\",\"Blood Pressure K9.\",\"Bordetella (Adult/Senior)\",\"Bordetella (Adult/Senior)\",\"Bordetella (puppy)\",\"Canine Adult Bordetella Vaccine\",\"Canine Adult Bordetella Vaccine\",\"Canine Adult Bordetella Vaccine\",\"Canine Adult Bordetella Vaccine\",\"Canine Adult Bordetella Vaccine\",\"Canine Adult Bordetella Vaccine\",\"Canine Adult Bordetella Vaccine\",\"Canine Adult Bordetella Vaccine\",\"Canine Adult Bordetella Vaccine\",\"Canine Adult Bordetella Vaccine\",\"Canine Adult Combo Vaccine\",\"Canine Adult Combo Vaccine\",\"Canine Adult Combo Vaccine\",\"Canine Adult Combo Vaccine\",\"Canine Adult Distemper/Parvo Combo Vaccine\",\"Canine Adult Distemper/Parvo Combo Vaccine\",\"Canine Adult Distemper/Parvo Combo Vaccine\",\"Canine Adult Distemper/Parvo Combo Vaccine\",\"Canine Adult Distemper/Parvo Combo Vaccine\",\"Canine Adult Distemper/Parvo Combo Vaccine\",\"Canine Adult Distemper/Parvo Combo Vaccine\",\"Canine Adult Distemper/Parvo Combo Vaccine\",\"Canine Adult Distemper/Parvo Combo Vaccine\",\"Canine Adult Distemper/Parvo Combo Vaccine\",\"Canine Adult Rabies Vaccine\",\"Canine Adult Rabies Vaccine\",\"Canine Adult Rabies Vaccine\",\"Canine Adult Rabies Vaccine\",\"Canine Adult Rabies Vaccine\",\"Canine Adult Rabies Vaccine\",\"Canine Adult Rabies Vaccine\",\"Canine Adult Rabies Vaccine\",\"Canine Adult Rabies Vaccine\",\"Canine Adult Rabies Vaccine\",\"Canine Adult Wellness Labwork\",\"Canine Adult Wellness Labwork\",\"Canine Adult/Senior Wellness Labwork\",\"Canine Adult/Senior Wellness Labwork\",\"Canine Adult/Senior Wellness Labwork\",\"Canine Adult/Senior Wellness Labwork\",\"Canine Adult/Senior Wellness Labwork\",\"Canine Adult/Senior Wellness Labwork\",\"Canine Adult/Senior Wellness Labwork\",\"Canine Adult/Senior Wellness Labwork\",\"Canine Complexity\",\"Canine Complexity\",\"Canine Complexity\",\"Canine Complexity\",\"Canine Dental\",\"Canine Dental\",\"Canine Dental\",\"Canine Dental\",\"Canine Dental Xray\",\"Canine Dental Xray\",\"Canine Dental Xray\",\"Canine Dental Xray\",\"Canine Influenza Vaccine\",\"Canine Influenza Vaccine\",\"Canine Influenza Vaccine\",\"Canine Influenza Vaccine\",\"Canine Influenza Vaccine\",\"Canine Influenza Vaccine\",\"Canine Influenza Vaccine\",\"Canine Influenza or Lyme Vaccine\",\"Canine Influenza or Lyme Vaccine\",\"Canine Influenza or Lyme Vaccine\",\"Canine Influenza or Lyme Vaccine\",\"Canine Influenza or Lyme Vaccine\",\"Canine Influenza or Lyme Vaccine\",\"Canine Influenza or Lyme Vaccine\",\"Canine Lepto Vaccine\",\"Canine Lepto Vaccine\",\"Canine Lepto Vaccine\",\"Canine Lepto Vaccine\",\"Canine Lepto Vaccine\",\"Canine Lepto Vaccine\",\"Canine Lepto Vaccine\",\"Canine Lepto Vaccine\",\"Canine Lepto Vaccine\",\"Canine Lepto Vaccine\",\"Canine Lepto Vaccine\",\"Canine Lepto Vaccine\",\"Canine Lepto Vaccine\",\"Canine Lepto Vaccine\",\"Canine Leptospirosis Vaccine\",\"Canine Leptospirosis Vaccine\",\"Canine Leptospirosis Vaccine\",\"Canine Leptospirosis Vaccine\",\"Canine Leptospirosis Vaccine\",\"Canine Leptospirosis Vaccine\",\"Canine Leptospirosis Vaccine\",\"Canine Neuter\",\"Canine Neuter\",\"Canine Pain Medication Dispensed\",\"Canine Pain Medication Dispensed\",\"Canine Puppy Bordetella Vaccine\",\"Canine Puppy Bordetella Vaccine\",\"Canine Puppy Bordetella Vaccine\",\"Canine Puppy Bordetella Vaccine\",\"Canine Puppy Bordetella Vaccine\",\"Canine Puppy Bordetella Vaccine\",\"Canine Puppy Bordetella Vaccine\",\"Canine Puppy Bordetella Vaccine\",\"Canine Puppy Combo Vaccine\",\"Canine Puppy Combo Vaccine\",\"Canine Puppy Combo Vaccine\",\"Canine Puppy Distemper/Parvo Combo Vaccine\",\"Canine Puppy Distemper/Parvo Combo Vaccine\",\"Canine Puppy Distemper/Parvo Combo Vaccine\",\"Canine Puppy Distemper/Parvo Combo Vaccine\",\"Canine Puppy Distemper/Parvo Combo Vaccine\",\"Canine Puppy Distemper/Parvo Combo Vaccine\",\"Canine Puppy Distemper/Parvo Combo Vaccine\",\"Canine Puppy Rabies Vaccine\",\"Canine Puppy Rabies Vaccine\",\"Canine Puppy Rabies Vaccine\",\"Canine Puppy Rabies Vaccine\",\"Canine Puppy Rabies Vaccine\",\"Canine Puppy Rabies Vaccine\",\"Canine Puppy Rabies Vaccine\",\"Canine Senior Wellness Labwork\",\"Canine Senior Wellness Labwork\",\"Canine Spay\",\"Canine Spay\",\"Canine/Feline Senior Blood Pressure\",\"Canine/Feline Senior Blood Pressure\",\"Canine/Feline Senior Blood Pressure\",\"Canine/Feline Senior Blood Pressure\",\"Canine/Feline Senior Blood Pressure\",\"Canine/Feline Senior Blood Pressure\",\"Canine/Feline Senior Blood Pressure\",\"Canine/Feline Senior Blood Pressure\",\"Canine/Feline Senior Radiographs\",\"Canine/Feline Senior Radiographs\",\"Canine/Feline Senior Radiographs\",\"Canine/Feline Senior Radiographs\",\"Canine/Feline Senior Radiographs\",\"Canine/Feline Senior Radiographs\",\"Canine/Feline Senior Radiographs\",\"Canine/Feline Senior Radiographs\",\"CareClub Checkup Exam\",\"CareClub Checkup Exam\",\"CareClub Checkup Exam\",\"CareClub Checkup Exam\",\"CareClub Checkup Exam\",\"CareClub Checkup Exam\",\"CareClub Checkup Exam\",\"CareClub Checkup Exam\",\"CareClub Checkup Exam\",\"CareClub Checkup Exam\",\"CareClub Checkup Exam\",\"CareClub Checkup Exam\",\"CareClub Checkup Exam\",\"CareClub Checkup Exam\",\"CareClub Checkup Exam\",\"CareClub Checkup Exam\",\"CareClub Checkup Exam\",\"CareClub Checkup Exam\",\"CareClub Checkup Exam\",\"CareClub Checkup Exam\",\"CareClub Checkup Exam\",\"CareClub Checkup Exam\",\"CareClub Checkup Exam\",\"CareClub Checkup Exam\",\"CareClub Checkup Exam\",\"CareClub Checkup Exam\",\"CareClub Checkup Exam\",\"CareClub Checkup Exam\",\"CareClub Checkup Exam\",\"CareClub Checkup Exam\",\"CareClub Checkup Exam\",\"CareClub Checkup Exam\",\"CareClub Checkup Exam\",\"CareClub Checkup Exam\",\"CareClub Checkup Exam\",\"CareClub Checkup Exam\",\"CareClub Checkup Exam\",\"CareClub Checkup Exam\",\"CareClub Checkup Exam\",\"CareClub Checkup Exam\",\"CareClub Checkup Exam\",\"CareClub Checkup Exam\",\"Comprehensive Labwork Fel\",\"Comprehensive Labwork Fel\",\"Comprehensive Labwork K9\",\"Comprehensive Labwork K9\",\"DHPP (DHLPP) (Adult/Senior)\",\"DHPP (DHLPP) (Adult/Senior)\",\"DHPP (DHLPP) Puppy\",\"Deciduous teeth ADD add to neuter K9\",\"Deciduous teeth ADD add to spay K9\",\"Dental Package Fe G\",\"Dental Package Fe G\",\"Dental Package Fe G\",\"Dental Package Fe G\",\"Dental Package Fe G\",\"Dental Package Fe G\",\"Dental Package K9 G\",\"Dental Package K9 G\",\"Dental Package K9 G\",\"Dental Package K9 G\",\"Dental Package K9 G\",\"Dental Package K9 G\",\"Dental Pain Management Fel\",\"Dental Pain Management Fel\",\"Deworm Fel\",\"Deworm K9\",\"Deworming\",\"Deworming\",\"Deworming\",\"Deworming\",\"Deworming\",\"Deworming\",\"Deworming\",\"Deworming\",\"Deworming\",\"Deworming\",\"Deworming\",\"Deworming\",\"Deworming\",\"Deworming\",\"Elective Block\",\"Elective Block\",\"Elective Block\",\"Elective Block\",\"Elective Block\",\"Elective Block\",\"Elective Block\",\"Elective Block\",\"Elective Block Fel Neuter\",\"Elective Block Fel Spay\",\"Elective Block Fel Spay\",\"Elective Block K9 Neuter\",\"Elective Block K9 Neuter\",\"Elective Block'\",\"Elective Block'\",\"Elective Block.\",\"Elective Block.\",\"FVRCP (Adult/Senior)\",\"FVRCP (Adult/Senior)\",\"FVRCP (Kitten)\",\"FeLV (Adult/Senior)\",\"FeLV (Adult/Senior)\",\"FeLV (Adult/Senior)\",\"FeLV (Adult/Senior)\",\"FeLV (Kitten)\",\"FeLV / FIV test Fel\",\"FeLV / FIV test Fel\",\"FeLV / FIV test Fel\",\"FeLV/FIV Test\",\"FeLV/FIV Test\",\"FeLV/FIV Test\",\"FeLV/FIV Test Fel\",\"FeLV/FIV/Hwab\",\"FeLV/FIV/Hwab\",\"Fear Free codes,\",\"Fear Free codes,\",\"Fear free codes\",\"Fear free codes\",\"Fear free codes Fel\",\"Fear free codes Fel\",\"Fear free codes Fel.\",\"Fear free codes Fel.\",\"Fear free codes.\",\"Fear free codes.\",\"Fecal Fel\",\"Fecal Test\",\"Fecal Test\",\"Fecal Test\",\"Fecal Test\",\"Fecal Test\",\"Fecal Test\",\"Fecal Test\",\"Fecal Test\",\"Fecal Test\",\"Fecal Test\",\"Fecal Test\",\"Fecal Test\",\"Fecal Test\",\"Fecal Test\",\"Fecal Test\",\"Fecal Test\",\"Fecal exam (O&P Giardia) Fel\",\"Fecal exam (O&P Giardia) Fel\",\"Fecal exam (O&P Giardia) K9\",\"Fecal exam (O&P Giardia) K9\",\"Fecal k9\",\"Fecal/Parasite Test\",\"Fecal/Parasite Test\",\"Fecal/Parasite Test\",\"Fecal/Parasite Test\",\"Fecal/Parasite Test\",\"Fecal/Parasite Test\",\"Fecal/Parasite Test\",\"Fecal/Parasite Test\",\"Fecal/Parasite Test\",\"Fecal/Parasite Test\",\"Fecal/Parasite Test\",\"Fecal/Parasite Test\",\"Fecal/Parasite Test\",\"Fecal/Parasite Test\",\"Fecal/Parasite Test\",\"Fecal/Parasite Test\",\"Fecal/Parasite Test\",\"Fecal/Parasite Test\",\"Fecal/Parasite Test\",\"Fecal/Parasite Test\",\"Fecal/Parasite Test\",\"Fecal/Parasite Test\",\"Fecal/Parasite Test\",\"Fecal/Parasite Test\",\"Fecal/Parasite Test\",\"Fecal/Parasite Test\",\"Fecal/Parasite Test\",\"Fecal/Parasite Test\",\"Fecal/Parasite Test\",\"Fecal/Parasite Test\",\"Fecal/Parasite Test\",\"Fecal/Parasite Test\",\"Fecal/Parasite Test\",\"Fecal/Parasite Test\",\"Feline Adult FVRCP Vaccine\",\"Feline Adult FVRCP Vaccine\",\"Feline Adult FVRCP Vaccine\",\"Feline Adult FVRCP Vaccine\",\"Feline Adult FVRCP Vaccine\",\"Feline Adult FVRCP Vaccine\",\"Feline Adult FVRCP Vaccine\",\"Feline Adult FVRCP Vaccine\",\"Feline Adult FVRCP Vaccine\",\"Feline Adult FVRCP Vaccine\",\"Feline Adult FVRCP Vaccine\",\"Feline Adult FeLV Vaccine\",\"Feline Adult FeLV Vaccine\",\"Feline Adult FeLV Vaccine\",\"Feline Adult FeLV Vaccine\",\"Feline Adult FeLV Vaccine\",\"Feline Adult Rabies Vaccine\",\"Feline Adult Rabies Vaccine\",\"Feline Adult Rabies Vaccine\",\"Feline Adult Rabies Vaccine\",\"Feline Adult Rabies Vaccine\",\"Feline Adult Rabies Vaccine\",\"Feline Adult Rabies Vaccine\",\"Feline Adult Rabies Vaccine\",\"Feline Adult Rabies Vaccine\",\"Feline Adult Rabies Vaccine\",\"Feline Adult Rabies Vaccine\",\"Feline Adult Wellness Labwork\",\"Feline Adult Wellness Labwork\",\"Feline Adult Wellness Labwork\",\"Feline Adult Wellness Panel\",\"Feline Adult Wellness Panel\",\"Feline Adult/Senior Wellness Labwork\",\"Feline Adult/Senior Wellness Labwork\",\"Feline Adult/Senior Wellness Labwork\",\"Feline Adult/Senior Wellness Labwork\",\"Feline Adult/Senior Wellness Labwork\",\"Feline Adult/Senior Wellness Labwork\",\"Feline Adult/Senior Wellness Labwork\",\"Feline Adult/Senior Wellness Labwork\",\"Feline Complexity\",\"Feline Complexity\",\"Feline Complexity\",\"Feline Complexity\",\"Feline Dental\",\"Feline Dental\",\"Feline Dental\",\"Feline Dental\",\"Feline Dental Xray\",\"Feline Dental Xray\",\"Feline Dental Xray\",\"Feline Dental Xray\",\"Feline Kitten FVRCP Vaccine\",\"Feline Kitten FVRCP Vaccine\",\"Feline Kitten FVRCP Vaccine\",\"Feline Kitten FVRCP Vaccine\",\"Feline Kitten FVRCP Vaccine\",\"Feline Kitten FVRCP Vaccine\",\"Feline Kitten FVRCP Vaccine\",\"Feline Kitten FeLV Vaccine\",\"Feline Kitten FeLV Vaccine\",\"Feline Kitten FeLV Vaccine\",\"Feline Kitten FeLV Vaccine\",\"Feline Kitten FeLV Vaccine\",\"Feline Kitten FeLV Vaccine\",\"Feline Kitten FeLV Vaccine\",\"Feline Kitten Labwork\",\"Feline Kitten Labwork\",\"Feline Kitten Labwork\",\"Feline Kitten Labwork\",\"Feline Kitten Labwork\",\"Feline Kitten Labwork\",\"Feline Kitten Labwork\",\"Feline Kitten Rabies Vaccine\",\"Feline Kitten Rabies Vaccine\",\"Feline Kitten Rabies Vaccine\",\"Feline Kitten Rabies Vaccine\",\"Feline Kitten Rabies Vaccine\",\"Feline Kitten Rabies Vaccine\",\"Feline Kitten Rabies Vaccine\",\"Feline Neuter\",\"Feline Neuter\",\"Feline Neuter\",\"Feline Neuter\",\"Feline Neuter\",\"Feline Neuter\",\"Feline Neuter\",\"Feline Pain Medication Dispensed\",\"Feline Pain Medication Dispensed\",\"Feline Parasiticide\",\"Feline Senior Wellness Labwork\",\"Feline Senior Wellness Labwork\",\"Feline Spay\",\"Feline Spay\",\"Feline Spay.\",\"Feline Spay.\",\"Feline Spay.\",\"Feline Spay.\",\"Feline Spay.\",\"Feline Spay.\",\"Female Spay Complexity K9 Canada\",\"Gastropexy + Anesth Neuter (Elective) ADD K9\",\"Gastropexy + Anesth Spay (Elective) ADD K9\",\"Gastropexy + Anesth Spay (Elective) ADD K9\",\"Heartworm K9\",\"Heartworm K9\",\"Heartworm K9\",\"Heartworm/Tick Disease Test\",\"Heartworm/Tick Disease Test\",\"Heartworm/Tick Disease Test\",\"Heartworm/Tick Disease Test\",\"Heartworm/Tick Disease Test\",\"Heartworm/Tick Disease Test\",\"Heartworm/Tick Disease Test\",\"Heartworm/Tick Disease Test\",\"Heartworm/Tick Disease Test\",\"Heartworm/Tick Disease Test\",\"Heartworm/Tick Disease Test\",\"Heartworm/Tick Disease Test\",\"Heartworm/Tick Disease Test\",\"Heartworm/Tick Disease Test\",\"HomeAgain Service\",\"HomeAgain Service\",\"HomeAgain Service\",\"HomeAgain Service\",\"HomeAgain Service\",\"HomeAgain Service\",\"HomeAgain Service\",\"HomeAgain Service\",\"HomeAgain Service\",\"HomeAgain Service\",\"HomeAgain Service\",\"HomeAgain Service\",\"HomeAgain Service\",\"HomeAgain Service\",\"HomeAgain Service\",\"HomeAgain Service\",\"HomeAgain Service\",\"HomeAgain Service\",\"HomeAgain Service\",\"HomeAgain Service\",\"HomeAgain Service\",\"HomeAgain Service\",\"IV Catheter Sedation\",\"IV Catheter Sedation\",\"IV Catheter Sedation Fel\",\"IV Catheter Sedation Fel\",\"IV Catheter Sedation Fel.\",\"IV Catheter Sedation Fel.\",\"IV Catheter Sedation,\",\"IV Catheter Sedation,\",\"IV Catheter Sedation.\",\"IV Catheter Sedation.\",\"Influenza\",\"Influenza\",\"Influenza\",\"K9 Neuter\",\"K9 Neuter\",\"K9 Neuter\",\"K9 Neuter\",\"K9 Neuter\",\"K9 Neuter\",\"K9 Spay\",\"K9 Spay\",\"K9 Spay\",\"K9 Spay\",\"K9 Spay\",\"K9 Spay\",\"K9 Spay.\",\"K9 Spay.\",\"K9 Spay.\",\"K9 Spay.\",\"K9 Spay.\",\"K9 Spay.\",\"Lepto (Adult/Senior)\",\"Lepto (Adult/Senior)\",\"Lepto (Puppy)\",\"Lyme\",\"Lyme\",\"Lyme (Puppy)\",\"Lyme (Puppy)\",\"Male Neuter Complexity Fel Canada\",\"Male Neuter Complexity K9 Canada\",\"Microchip Service\",\"Microchip Service\",\"Microchip Service\",\"Microchip Service\",\"Microchip Service\",\"Microchip Service\",\"Microchip Service\",\"Microchip Service\",\"Microchip Service\",\"Microchip Service\",\"Microchip Service\",\"Microchip Service\",\"Microchip Service Canada\",\"Microchip Service Canada\",\"Microchip Service Canada\",\"NSAIDS dispensing code K9 Neuter\",\"NSAIDS dispensing code K9 Neuter\",\"NSAIDS dispensing code K9 Neuter\",\"NSAIDS dispensing code K9 Neuter\",\"NSAIDS dispensing code K9 Spay\",\"NSAIDS dispensing code K9 Spay\",\"NSAIDS dispensing code K9 Spay\",\"NSAIDS dispensing code K9 Spay\",\"NSAIDS dispensing code K9 Spay.\",\"NSAIDS dispensing code K9 Spay.\",\"NSAIDS dispensing code K9 Spay.\",\"NSAIDS dispensing code K9 Spay.\",\"Nail Trim\",\"Nail Trim\",\"Nail Trim\",\"Nail Trim\",\"Nail Trim\",\"Nail Trim\",\"Nail Trim\",\"Nail Trim\",\"Nail Trim\",\"Nail Trim\",\"Nail Trim\",\"Nail Trim\",\"Nail Trim\",\"Nail Trim\",\"Nail Trim\",\"Nail Trim\",\"Nail Trim\",\"Nail Trim\",\"Nail Trim\",\"Nail Trim\",\"Nail Trim\",\"Nail Trim\",\"Nail Trim\",\"Nail Trim\",\"Nail Trim\",\"Nail Trim\",\"Nail Trim\",\"Nail Trim\",\"Nail Trim\",\"Nail Trim\",\"Nail Trim\",\"Nail Trim\",\"Nail Trim\",\"Nail Trim\",\"Nail trim Fel\",\"Nail trim Fel\",\"Nail trim K9\",\"Nail trim K9\",\"Nail trim K9\",\"Pain Management Disp Fel Neuter\",\"Pain Management Disp Fel Neuter\",\"Pain Management Disp Fel Neuter\",\"Pain Management Disp Fel Neuter\",\"Pain Management Disp Fel Spay\",\"Pain Management Disp Fel Spay\",\"Pain Management Disp Fel Spay\",\"Pain Management Disp Fel Spay\",\"Pain Managment K9 Dental\",\"Pain Managment K9 Dental\",\"Pre-Operative Panels Fel Neuter\",\"Pre-Operative Panels Fel Neuter\",\"Pre-Operative Panels Fel Neuter\",\"Pre-Operative Panels Fel Neuter\",\"Pre-Operative Panels Fel Spay\",\"Pre-Operative Panels Fel Spay\",\"Pre-Operative Panels Fel Spay\",\"Pre-Operative Panels Fel Spay\",\"Pre-Operative Panels K9 Neuter\",\"Pre-Operative Panels K9 Neuter\",\"Pre-Operative Panels K9 Neuter\",\"Pre-Operative Panels K9 Neuter\",\"Pre-Operative Panels K9 Spay\",\"Pre-Operative Panels K9 Spay\",\"Pre-Operative Panels K9 Spay\",\"Pre-Operative Panels K9 Spay\",\"Pre-Operative Panels K9 Spay.\",\"Pre-Operative Panels K9 Spay.\",\"Pre-Operative Panels K9 Spay.\",\"Pre-Operative Panels K9 Spay.\",\"PreOp Bloodwork (Spay/Neuter)\",\"PreOp Bloodwork (Spay/Neuter)\",\"PreOp Bloodwork (Spay/Neuter)\",\"PreOp Bloodwork (Spay/Neuter)\",\"PreOp Labwork (Spay/Neuter)\",\"PreOp Labwork (Spay/Neuter)\",\"PreOp Labwork (Spay/Neuter)\",\"PreOp Labwork (Spay/Neuter)\",\"PreOp Labwork (Spay/Neuter)\",\"PreOp Labwork (Spay/Neuter)\",\"PreOp Labwork (Spay/Neuter)\",\"PreOp Labwork (Spay/Neuter)\",\"PreOp Labwork Canada\",\"PreOp Labwork Canada\",\"PreOp Labwork Canada\",\"PreOp Labwork Canada\",\"PreOp Labwork Canada\",\"Protective Collar\",\"Protective Collar\",\"Protective Collar\",\"Protective Collar\",\"Protective Collars Fel Neuter\",\"Protective Collars Fel Neuter\",\"Protective Collars Fel Neuter\",\"Protective Collars Fel Neuter\",\"Protective Collars Fel Spay\",\"Protective Collars Fel Spay\",\"Protective Collars Fel Spay\",\"Protective Collars Fel Spay\",\"Protective Collars K9 Neuter\",\"Protective Collars K9 Neuter\",\"Protective Collars K9 Neuter\",\"Protective Collars K9 Neuter\",\"Protective Collars K9 Spay\",\"Protective Collars K9 Spay\",\"Protective Collars K9 Spay\",\"Protective Collars K9 Spay\",\"Protective Collars list K9 Spay.\",\"Protective Collars list K9 Spay.\",\"Protective Collars list K9 Spay.\",\"Protective Collars list K9 Spay.\",\"Puppy/Kitten 1st Exam\",\"Puppy/Kitten 1st Exam\",\"Puppy/Kitten 1st Exam\",\"Puppy/Kitten 1st Exam\",\"Puppy/Kitten 1st Exam\",\"Puppy/Kitten 1st Exam\",\"Puppy/Kitten 1st Exam\",\"Puppy/Kitten 1st Exam\",\"Puppy/Kitten 1st Exam\",\"Puppy/Kitten 1st Exam\",\"Puppy/Kitten 1st Exam\",\"Puppy/Kitten 1st Exam\",\"Puppy/Kitten 1st Exam\",\"Puppy/Kitten 1st Exam\",\"Puppy/Kitten 1st Exam\",\"Puppy/Kitten 1st Exam\",\"Puppy/Kitten Recheck Exam\",\"Puppy/Kitten Recheck Exam\",\"Puppy/Kitten Recheck Exam\",\"Puppy/Kitten Recheck Exam\",\"Puppy/Kitten Recheck Exam\",\"Puppy/Kitten Recheck Exam\",\"Puppy/Kitten Recheck Exam\",\"Puppy/Kitten Recheck Exam\",\"Puppy/Kitten Recheck Exam\",\"Puppy/Kitten Recheck Exam\",\"Puppy/Kitten Recheck Exam\",\"Puppy/Kitten Recheck Exam\",\"Puppy/Kitten Recheck Exam\",\"Puppy/Kitten Recheck Exam\",\"Puppy/Kitten Recheck Exam\",\"Puppy/Kitten Recheck Exam\",\"RAD CareClub Abdomen/Thorax Study\",\"RAD CareClub Abdomen/Thorax Study\",\"RAD CareClub Abdomen/Thorax Study Fel\",\"RAD CareClub Abdomen/Thorax Study Fel\",\"RAD CareClub Abdomen/Thorax Study,\",\"RAD CareClub Abdomen/Thorax Study,\",\"RAD Full Mouth Dental Xray Feline\",\"RAD Full Mouth Dental Xray Feline\",\"RAD Full Mouth Dental Xray Feline\",\"RAD Full Mouth Dental Xray Feline\",\"RAD Full Mouth Dental Xray Feline\",\"RAD Full Mouth Dental Xray Feline\",\"RAD Full Mouth Dental Xray K9.\",\"RAD Full Mouth Dental Xray K9.\",\"RAD Full Mouth Dental Xray K9.\",\"RAD Full Mouth Dental Xray K9.\",\"RAD Full Mouth Dental Xray K9.\",\"RAD Full Mouth Dental Xray K9.\",\"Rabies (1 year)\",\"Rabies (1 year)\",\"Rabies (1 year)\",\"Rabies (3 year)\",\"Rabies (3 year)\",\"Rabies (Adult/Senior)\",\"Rabies (Adult/Senior)\",\"Rabies (Puppy)\",\"Rattlesnake booster\",\"Rattlesnake booster\",\"Rattlesnake starter\",\"Rattlesnake starter\",\"Sedation Radiology\",\"Sedation Radiology\",\"Sedation Radiology Fel\",\"Sedation Radiology Fel\",\"Sedation Radiology Fel.\",\"Sedation Radiology Fel.\",\"Sedation Radiology,\",\"Sedation Radiology,\",\"Sedation Radiology.\",\"Sedation Radiology.\",\"Senior Lab Panel Fel\",\"Senior Lab Panel K9\",\"Service Rounding Adjustment\",\"Service Rounding Adjustment\",\"Service Rounding Adjustment\",\"Service Rounding Adjustment\",\"Service Rounding Adjustment\",\"Service Rounding Adjustment\",\"Service Rounding Adjustment\",\"Service Rounding Adjustment\",\"Service Rounding Adjustment\",\"Service Rounding Adjustment\",\"Service Rounding Adjustment\",\"Service Rounding Adjustment\",\"Service Rounding Adjustment\",\"Service Rounding Adjustment\",\"Service Rounding Adjustment\",\"Service Rounding Adjustment\",\"Service Rounding Adjustment\",\"Service Rounding Adjustment\",\"Service Rounding Adjustment\",\"Service Rounding Adjustment\",\"Service Rounding Adjustment\",\"Service Rounding Adjustment\",\"Service Rounding Adjustment\",\"Service Rounding Adjustment\",\"Service Rounding Adjustment\",\"Service Rounding Adjustment\",\"Service Rounding Adjustment\",\"Service Rounding Adjustment\",\"Service Rounding Adjustment\",\"Service Rounding Adjustment\",\"Service Rounding Adjustment\",\"Service Rounding Adjustment\",\"Service Rounding Adjustment\",\"Service Rounding Adjustment\",\"Service Rounding Adjustment\",\"Service Rounding Adjustment\",\"Service Rounding Adjustment\",\"Service Rounding Adjustment\",\"Service Rounding Adjustment\",\"Service Rounding Adjustment\",\"Service Rounding Adjustment\",\"Service Rounding Adjustment\",\"Single region Studies Fel.\",\"Single region Studies Fel.\",\"Single region Studies.\",\"Single region Studies.\",\"Surgical Pain Management\",\"Surgical Pain Management\",\"Surgical Pain Management\",\"Surgical Pain Management\",\"Surgical Pain Management\",\"Surgical Pain Management\",\"Surgical Pain Management\",\"Surgical Pain Management\",\"UPC K9\",\"Umbilical hernia ADD add to spay\",\"Wellness Exam\",\"Wellness Exam\",\"Wellness Exam\",\"Wellness Exam\",\"Wellness Exam\",\"Wellness Exam\",\"Wellness Exam\",\"Wellness Exam\",\"Wellness Exam\",\"Wellness Exam\",\"Wellness Exam\",\"Wellness Exam\",\"Wellness Exam\",\"Wellness Exam\",\"Wellness Exam\",\"Wellness Exam\",\"Wellness Exam\",\"Wellness Exam\",\"Wellness Exam\",\"Wellness Exam\",\"Wellness Exam\",\"Wellness Exam\",\"Wellness Exam\",\"Wellness Exam\",\"Wellness Exam\",\"Wellness Exam\",\"Adult Access Canine Canada\",\"Adult Access Feline Canada\",\"Adult Access for Cats\",\"Adult Access for Dogs\",\"Adult Essentials for Cats\",\"Adult Paws Plus Cat Canada\",\"Adult Paws Plus Dog Canada\",\"Adult Paws Plus for Cats\",\"Adult Paws Plus for Dogs\",\"Adult Paws for Cat Canada\",\"Adult Paws for Cats\",\"Adult Paws for Dog Canada\",\"Adult Paws for Dogs\",\"Adult Premier for Cats\",\"Junior Access Canine Canada\",\"Junior Access Feline Canada\",\"Junior Access for Cats\",\"Junior Access for Dogs\",\"Junior Cat Plus Spay Canada\",\"Junior Cats Plus Neuter Canada\",\"Junior Dog Plus Neuter Canada\",\"Junior Dogs Plus Spay Canada\",\"Junior Paws Plus Kitten Neuter\",\"Junior Paws Plus Kitten Spay\",\"Junior Paws Plus Puppy Neuter\",\"Junior Paws Plus Puppy Spay\",\"Junior Paws for Cats\",\"Junior Paws for Cats Canada\",\"Junior Paws for Dogs\",\"Junior Paws for Dogs Canada\",\"Senior Access Canine Canada\",\"Senior Access Feline Canada\",\"Senior Access for Cats\",\"Senior Access for Dogs\",\"Senior Cat Plus for Canada\",\"Senior Dog Plus for Canada\",\"Senior Paws Dog for Canada\",\"Senior Paws Plus for Cats\",\"Senior Paws Plus for Dogs\",\"Senior Paws for Cats\",\"Senior Paws for Cats Canada\",\"Senior Paws for Dogs\"],\"name\":\"\",\"parents\":[\"Adult Access for Dogs\",\"Junior Access for Dogs\",\"Adult Access for Dogs\",\"Junior Access for Dogs\",\"Senior Access for Dogs\",\"Adult Access for Dogs\",\"Junior Access for Cats\",\"Junior Access for Dogs\",\"Adult Access for Cats\",\"Adult Access for Dogs\",\"Adult Access Feline Canada\",\"Senior Access Canine Canada\",\"Senior Access Feline Canada\",\"Adult Access Canine Canada\",\"Senior Access Canine Canada\",\"Adult Access Canine Canada\",\"Adult Access Feline Canada\",\"Junior Access Canine Canada\",\"Junior Access Feline Canada\",\"Senior Access Canine Canada\",\"Adult Access for Cats\",\"Senior Access for Cats\",\"Senior Access for Cats\",\"Senior Access for Dogs\",\"Adult Access for Dogs\",\"Senior Access for Dogs\",\"Adult Access for Dogs\",\"Senior Access for Dogs\",\"Junior Access for Dogs\",\"Adult Access Canine Canada\",\"Adult Paws Plus Dog Canada\",\"Adult Paws Plus for Dogs\",\"Adult Paws for Dog Canada\",\"Adult Paws for Dogs\",\"Senior Access Canine Canada\",\"Senior Dog Plus for Canada\",\"Senior Paws Dog for Canada\",\"Senior Paws Plus for Dogs\",\"Senior Paws for Dogs\",\"Adult Paws Plus for Dogs\",\"Adult Paws for Dogs\",\"Senior Paws Plus for Dogs\",\"Senior Paws for Dogs\",\"Adult Access Canine Canada\",\"Adult Paws Plus Dog Canada\",\"Adult Paws Plus for Dogs\",\"Adult Paws for Dog Canada\",\"Adult Paws for Dogs\",\"Senior Access Canine Canada\",\"Senior Dog Plus for Canada\",\"Senior Paws Dog for Canada\",\"Senior Paws Plus for Dogs\",\"Senior Paws for Dogs\",\"Adult Access Canine Canada\",\"Adult Paws Plus Dog Canada\",\"Adult Paws Plus for Dogs\",\"Adult Paws for Dog Canada\",\"Adult Paws for Dogs\",\"Senior Access Canine Canada\",\"Senior Dog Plus for Canada\",\"Senior Paws Dog for Canada\",\"Senior Paws Plus for Dogs\",\"Senior Paws for Dogs\",\"Adult Paws Plus for Dogs\",\"Adult Paws for Dogs\",\"Adult Paws Plus Dog Canada\",\"Adult Paws Plus for Dogs\",\"Adult Paws for Dog Canada\",\"Adult Paws for Dogs\",\"Senior Dog Plus for Canada\",\"Senior Paws Dog for Canada\",\"Senior Paws Plus for Dogs\",\"Senior Paws for Dogs\",\"Junior Dog Plus Neuter Canada\",\"Junior Dogs Plus Spay Canada\",\"Junior Paws Plus Puppy Neuter\",\"Junior Paws Plus Puppy Spay\",\"Adult Paws Plus Dog Canada\",\"Adult Paws Plus for Dogs\",\"Senior Dog Plus for Canada\",\"Senior Paws Plus for Dogs\",\"Adult Paws Plus Dog Canada\",\"Adult Paws Plus for Dogs\",\"Senior Dog Plus for Canada\",\"Senior Paws Plus for Dogs\",\"Adult Paws Plus for Dogs\",\"Adult Paws for Dogs\",\"Junior Paws Plus Puppy Neuter\",\"Junior Paws Plus Puppy Spay\",\"Junior Paws for Dogs\",\"Senior Paws Plus for Dogs\",\"Senior Paws for Dogs\",\"Adult Paws Plus for Dogs\",\"Adult Paws for Dogs\",\"Junior Paws Plus Puppy Neuter\",\"Junior Paws Plus Puppy Spay\",\"Junior Paws for Dogs\",\"Senior Paws Plus for Dogs\",\"Senior Paws for Dogs\",\"Adult Paws Plus Dog Canada\",\"Adult Paws Plus for Dogs\",\"Adult Paws for Dog Canada\",\"Adult Paws for Dogs\",\"Junior Dog Plus Neuter Canada\",\"Junior Dogs Plus Spay Canada\",\"Junior Paws Plus Puppy Neuter\",\"Junior Paws Plus Puppy Spay\",\"Junior Paws for Dogs\",\"Junior Paws for Dogs Canada\",\"Senior Dog Plus for Canada\",\"Senior Paws Dog for Canada\",\"Senior Paws Plus for Dogs\",\"Senior Paws for Dogs\",\"Adult Paws Plus for Dogs\",\"Adult Paws for Dogs\",\"Junior Paws Plus Puppy Neuter\",\"Junior Paws Plus Puppy Spay\",\"Junior Paws for Dogs\",\"Senior Paws Plus for Dogs\",\"Senior Paws for Dogs\",\"Junior Dog Plus Neuter Canada\",\"Junior Paws Plus Puppy Neuter\",\"Junior Paws Plus Puppy Neuter\",\"Junior Paws Plus Puppy Spay\",\"Junior Access Canine Canada\",\"Junior Dog Plus Neuter Canada\",\"Junior Dogs Plus Spay Canada\",\"Junior Paws Plus Puppy Neuter\",\"Junior Paws Plus Puppy Spay\",\"Junior Paws for Dogs\",\"Junior Paws for Dogs Canada\",\"Senior Paws Plus for Dogs\",\"Junior Paws Plus Puppy Neuter\",\"Junior Paws Plus Puppy Spay\",\"Junior Paws for Dogs\",\"Junior Access Canine Canada\",\"Junior Dog Plus Neuter Canada\",\"Junior Dogs Plus Spay Canada\",\"Junior Paws Plus Puppy Neuter\",\"Junior Paws Plus Puppy Spay\",\"Junior Paws for Dogs\",\"Junior Paws for Dogs Canada\",\"Junior Access Canine Canada\",\"Junior Dog Plus Neuter Canada\",\"Junior Dogs Plus Spay Canada\",\"Junior Paws Plus Puppy Neuter\",\"Junior Paws Plus Puppy Spay\",\"Junior Paws for Dogs\",\"Junior Paws for Dogs Canada\",\"Senior Paws Plus for Dogs\",\"Senior Paws for Dogs\",\"Junior Dogs Plus Spay Canada\",\"Junior Paws Plus Puppy Spay\",\"Senior Cat Plus for Canada\",\"Senior Dog Plus for Canada\",\"Senior Paws Dog for Canada\",\"Senior Paws Plus for Cats\",\"Senior Paws Plus for Dogs\",\"Senior Paws for Cats\",\"Senior Paws for Cats Canada\",\"Senior Paws for Dogs\",\"Senior Cat Plus for Canada\",\"Senior Dog Plus for Canada\",\"Senior Paws Dog for Canada\",\"Senior Paws Plus for Cats\",\"Senior Paws Plus for Dogs\",\"Senior Paws for Cats\",\"Senior Paws for Cats Canada\",\"Senior Paws for Dogs\",\"Adult Access Canine Canada\",\"Adult Access Feline Canada\",\"Adult Access for Cats\",\"Adult Access for Dogs\",\"Adult Essentials for Cats\",\"Adult Paws Plus Cat Canada\",\"Adult Paws Plus Dog Canada\",\"Adult Paws Plus for Cats\",\"Adult Paws Plus for Dogs\",\"Adult Paws for Cat Canada\",\"Adult Paws for Cats\",\"Adult Paws for Dog Canada\",\"Adult Paws for Dogs\",\"Adult Premier for Cats\",\"Junior Access Canine Canada\",\"Junior Access Feline Canada\",\"Junior Access for Cats\",\"Junior Access for Dogs\",\"Junior Cat Plus Spay Canada\",\"Junior Cats Plus Neuter Canada\",\"Junior Dog Plus Neuter Canada\",\"Junior Dogs Plus Spay Canada\",\"Junior Paws Plus Kitten Neuter\",\"Junior Paws Plus Kitten Spay\",\"Junior Paws Plus Puppy Neuter\",\"Junior Paws Plus Puppy Spay\",\"Junior Paws for Cats\",\"Junior Paws for Cats Canada\",\"Junior Paws for Dogs\",\"Junior Paws for Dogs Canada\",\"Senior Access Canine Canada\",\"Senior Access Feline Canada\",\"Senior Access for Cats\",\"Senior Access for Dogs\",\"Senior Cat Plus for Canada\",\"Senior Dog Plus for Canada\",\"Senior Paws Dog for Canada\",\"Senior Paws Plus for Cats\",\"Senior Paws Plus for Dogs\",\"Senior Paws for Cats\",\"Senior Paws for Cats Canada\",\"Senior Paws for Dogs\",\"Adult Access for Cats\",\"Senior Access for Cats\",\"Adult Access for Dogs\",\"Senior Access for Dogs\",\"Adult Access for Dogs\",\"Senior Access for Dogs\",\"Junior Access for Dogs\",\"Junior Access for Dogs\",\"Junior Access for Dogs\",\"Adult Access Feline Canada\",\"Adult Access for Cats\",\"Adult Paws for Cats\",\"Senior Access Feline Canada\",\"Senior Access for Cats\",\"Senior Paws for Cats\",\"Adult Access Canine Canada\",\"Adult Access for Dogs\",\"Adult Paws for Dogs\",\"Senior Access Canine Canada\",\"Senior Access for Dogs\",\"Senior Paws for Dogs\",\"Adult Access Feline Canada\",\"Senior Access Feline Canada\",\"Junior Access for Cats\",\"Junior Access for Dogs\",\"Junior Access Canine Canada\",\"Junior Access Feline Canada\",\"Junior Cat Plus Spay Canada\",\"Junior Cats Plus Neuter Canada\",\"Junior Dog Plus Neuter Canada\",\"Junior Dogs Plus Spay Canada\",\"Junior Paws Plus Kitten Neuter\",\"Junior Paws Plus Kitten Spay\",\"Junior Paws Plus Puppy Neuter\",\"Junior Paws Plus Puppy Spay\",\"Junior Paws for Cats\",\"Junior Paws for Cats Canada\",\"Junior Paws for Dogs\",\"Junior Paws for Dogs Canada\",\"Junior Cat Plus Spay Canada\",\"Junior Cats Plus Neuter Canada\",\"Junior Dog Plus Neuter Canada\",\"Junior Dogs Plus Spay Canada\",\"Junior Paws Plus Kitten Neuter\",\"Junior Paws Plus Kitten Spay\",\"Junior Paws Plus Puppy Neuter\",\"Junior Paws Plus Puppy Spay\",\"Junior Access Feline Canada\",\"Adult Access Feline Canada\",\"Junior Access Feline Canada\",\"Adult Access Canine Canada\",\"Junior Access Canine Canada\",\"Adult Access Canine Canada\",\"Junior Access Canine Canada\",\"Adult Access Canine Canada\",\"Junior Access Canine Canada\",\"Adult Access for Cats\",\"Senior Access for Cats\",\"Junior Access for Cats\",\"Adult Access Feline Canada\",\"Adult Access for Cats\",\"Senior Access Feline Canada\",\"Senior Access for Cats\",\"Junior Access for Cats\",\"Adult Access for Cats\",\"Junior Access for Cats\",\"Senior Access for Cats\",\"Junior Paws Plus Kitten Neuter\",\"Junior Paws Plus Kitten Spay\",\"Junior Paws for Cats\",\"Senior Access Feline Canada\",\"Adult Essentials for Cats\",\"Adult Premier for Cats\",\"Adult Access for Dogs\",\"Senior Access for Dogs\",\"Adult Access for Dogs\",\"Senior Access for Dogs\",\"Adult Access for Cats\",\"Senior Access for Cats\",\"Adult Access for Cats\",\"Senior Access for Cats\",\"Adult Access for Dogs\",\"Senior Access for Dogs\",\"Junior Access for Cats\",\"Adult Essentials for Cats\",\"Adult Paws Plus for Cats\",\"Adult Paws Plus for Dogs\",\"Adult Paws for Cats\",\"Adult Paws for Dogs\",\"Adult Premier for Cats\",\"Junior Paws Plus Kitten Neuter\",\"Junior Paws Plus Kitten Spay\",\"Junior Paws Plus Puppy Neuter\",\"Junior Paws Plus Puppy Spay\",\"Junior Paws for Cats\",\"Junior Paws for Dogs\",\"Senior Paws Plus for Cats\",\"Senior Paws Plus for Dogs\",\"Senior Paws for Cats\",\"Senior Paws for Dogs\",\"Adult Access for Cats\",\"Senior Access for Cats\",\"Adult Access for Dogs\",\"Senior Access for Dogs\",\"Junior Access for Dogs\",\"Adult Access Canine Canada\",\"Adult Access Feline Canada\",\"Adult Paws Plus Cat Canada\",\"Adult Paws Plus Dog Canada\",\"Adult Paws Plus for Cats\",\"Adult Paws Plus for Dogs\",\"Adult Paws for Cat Canada\",\"Adult Paws for Cats\",\"Adult Paws for Dog Canada\",\"Adult Paws for Dogs\",\"Junior Access Canine Canada\",\"Junior Access Feline Canada\",\"Junior Cat Plus Spay Canada\",\"Junior Cats Plus Neuter Canada\",\"Junior Dog Plus Neuter Canada\",\"Junior Dogs Plus Spay Canada\",\"Junior Paws Plus Kitten Neuter\",\"Junior Paws Plus Kitten Spay\",\"Junior Paws Plus Puppy Neuter\",\"Junior Paws Plus Puppy Spay\",\"Junior Paws for Cats\",\"Junior Paws for Cats Canada\",\"Junior Paws for Dogs\",\"Junior Paws for Dogs Canada\",\"Senior Access Canine Canada\",\"Senior Access Feline Canada\",\"Senior Cat Plus for Canada\",\"Senior Dog Plus for Canada\",\"Senior Paws Dog for Canada\",\"Senior Paws Plus for Cats\",\"Senior Paws Plus for Dogs\",\"Senior Paws for Cats\",\"Senior Paws for Cats Canada\",\"Senior Paws for Dogs\",\"Adult Access Feline Canada\",\"Adult Paws Plus Cat Canada\",\"Adult Paws Plus for Cats\",\"Adult Paws for Cat Canada\",\"Adult Paws for Cats\",\"Adult Premier for Cats\",\"Senior Access Feline Canada\",\"Senior Cat Plus for Canada\",\"Senior Paws Plus for Cats\",\"Senior Paws for Cats\",\"Senior Paws for Cats Canada\",\"Adult Paws Plus for Cats\",\"Adult Paws for Cats\",\"Adult Premier for Cats\",\"Senior Paws Plus for Cats\",\"Senior Paws for Cats\",\"Adult Access Feline Canada\",\"Adult Paws Plus Cat Canada\",\"Adult Paws Plus for Cats\",\"Adult Paws for Cat Canada\",\"Adult Paws for Cats\",\"Adult Premier for Cats\",\"Senior Access Feline Canada\",\"Senior Cat Plus for Canada\",\"Senior Paws Plus for Cats\",\"Senior Paws for Cats\",\"Senior Paws for Cats Canada\",\"Adult Essentials for Cats\",\"Adult Paws Plus for Cats\",\"Adult Paws for Cats\",\"Adult Paws Plus for Cats\",\"Adult Premier for Cats\",\"Adult Paws Plus Cat Canada\",\"Adult Paws Plus for Cats\",\"Adult Paws for Cat Canada\",\"Adult Paws for Cats\",\"Senior Cat Plus for Canada\",\"Senior Paws Plus for Cats\",\"Senior Paws for Cats\",\"Senior Paws for Cats Canada\",\"Junior Cat Plus Spay Canada\",\"Junior Cats Plus Neuter Canada\",\"Junior Paws Plus Kitten Neuter\",\"Junior Paws Plus Kitten Spay\",\"Adult Paws Plus Cat Canada\",\"Adult Paws Plus for Cats\",\"Senior Cat Plus for Canada\",\"Senior Paws Plus for Cats\",\"Adult Paws Plus Cat Canada\",\"Adult Paws Plus for Cats\",\"Senior Cat Plus for Canada\",\"Senior Paws Plus for Cats\",\"Junior Access Feline Canada\",\"Junior Cat Plus Spay Canada\",\"Junior Cats Plus Neuter Canada\",\"Junior Paws Plus Kitten Neuter\",\"Junior Paws Plus Kitten Spay\",\"Junior Paws for Cats\",\"Junior Paws for Cats Canada\",\"Junior Access Feline Canada\",\"Junior Cat Plus Spay Canada\",\"Junior Cats Plus Neuter Canada\",\"Junior Paws Plus Kitten Neuter\",\"Junior Paws Plus Kitten Spay\",\"Junior Paws for Cats\",\"Junior Paws for Cats Canada\",\"Junior Access Feline Canada\",\"Junior Cat Plus Spay Canada\",\"Junior Cats Plus Neuter Canada\",\"Junior Paws Plus Kitten Neuter\",\"Junior Paws Plus Kitten Spay\",\"Junior Paws for Cats\",\"Junior Paws for Cats Canada\",\"Junior Access Feline Canada\",\"Junior Cat Plus Spay Canada\",\"Junior Cats Plus Neuter Canada\",\"Junior Paws Plus Kitten Neuter\",\"Junior Paws Plus Kitten Spay\",\"Junior Paws for Cats\",\"Junior Paws for Cats Canada\",\"Adult Access for Cats\",\"Adult Paws for Cats\",\"Junior Access Feline Canada\",\"Junior Access for Cats\",\"Junior Cats Plus Neuter Canada\",\"Junior Paws Plus Kitten Neuter\",\"Junior Paws for Cats\",\"Junior Paws Plus Kitten Neuter\",\"Junior Paws Plus Kitten Spay\",\"Adult Premier for Cats\",\"Senior Paws Plus for Cats\",\"Senior Paws for Cats\",\"Junior Cat Plus Spay Canada\",\"Junior Paws Plus Kitten Spay\",\"Adult Access Feline Canada\",\"Adult Access for Cats\",\"Adult Paws for Cats\",\"Junior Access Feline Canada\",\"Junior Access for Cats\",\"Junior Paws for Cats\",\"Junior Access Canine Canada\",\"Junior Access for Dogs\",\"Adult Access for Dogs\",\"Junior Access for Dogs\",\"Adult Access for Dogs\",\"Junior Access for Dogs\",\"Senior Access for Dogs\",\"Adult Paws Plus Dog Canada\",\"Adult Paws Plus for Dogs\",\"Adult Paws for Dog Canada\",\"Adult Paws for Dogs\",\"Junior Dog Plus Neuter Canada\",\"Junior Dogs Plus Spay Canada\",\"Junior Paws Plus Puppy Neuter\",\"Junior Paws Plus Puppy Spay\",\"Junior Paws for Dogs\",\"Junior Paws for Dogs Canada\",\"Senior Dog Plus for Canada\",\"Senior Paws Dog for Canada\",\"Senior Paws Plus for Dogs\",\"Senior Paws for Dogs\",\"Adult Access for Cats\",\"Adult Access for Dogs\",\"Adult Essentials for Cats\",\"Adult Paws Plus for Cats\",\"Adult Paws Plus for Dogs\",\"Adult Paws for Cats\",\"Adult Paws for Dogs\",\"Adult Premier for Cats\",\"Junior Access for Cats\",\"Junior Access for Dogs\",\"Junior Paws Plus Kitten Neuter\",\"Junior Paws Plus Kitten Spay\",\"Junior Paws Plus Puppy Neuter\",\"Junior Paws Plus Puppy Spay\",\"Junior Paws for Cats\",\"Junior Paws for Dogs\",\"Senior Access for Cats\",\"Senior Access for Dogs\",\"Senior Paws Plus for Cats\",\"Senior Paws Plus for Dogs\",\"Senior Paws for Cats\",\"Senior Paws for Dogs\",\"Adult Access for Dogs\",\"Senior Access for Dogs\",\"Adult Access for Cats\",\"Senior Access for Cats\",\"Adult Access for Cats\",\"Senior Access for Cats\",\"Adult Access for Dogs\",\"Senior Access for Dogs\",\"Adult Access for Dogs\",\"Senior Access for Dogs\",\"Adult Access for Dogs\",\"Junior Access for Dogs\",\"Senior Access for Dogs\",\"Adult Access Canine Canada\",\"Adult Access for Dogs\",\"Adult Paws for Dogs\",\"Junior Access Canine Canada\",\"Junior Access for Dogs\",\"Junior Paws for Dogs\",\"Adult Access Canine Canada\",\"Adult Access for Dogs\",\"Adult Paws for Dogs\",\"Junior Access Canine Canada\",\"Junior Access for Dogs\",\"Junior Paws for Dogs\",\"Adult Access Canine Canada\",\"Adult Access for Dogs\",\"Adult Paws for Dogs\",\"Junior Access Canine Canada\",\"Junior Access for Dogs\",\"Junior Paws for Dogs\",\"Adult Access for Dogs\",\"Senior Access for Dogs\",\"Junior Access for Dogs\",\"Adult Access for Dogs\",\"Senior Access for Dogs\",\"Junior Access Canine Canada\",\"Junior Access for Dogs\",\"Junior Access Feline Canada\",\"Junior Access Canine Canada\",\"Junior Cat Plus Spay Canada\",\"Junior Cats Plus Neuter Canada\",\"Junior Dog Plus Neuter Canada\",\"Junior Dogs Plus Spay Canada\",\"Junior Paws Plus Kitten Neuter\",\"Junior Paws Plus Kitten Spay\",\"Junior Paws Plus Puppy Neuter\",\"Junior Paws Plus Puppy Spay\",\"Junior Paws for Cats\",\"Junior Paws for Cats Canada\",\"Junior Paws for Dogs\",\"Junior Paws for Dogs Canada\",\"Adult Access Canine Canada\",\"Junior Access Canine Canada\",\"Junior Access Feline Canada\",\"Adult Access for Dogs\",\"Adult Paws for Dogs\",\"Junior Access for Dogs\",\"Junior Paws for Dogs\",\"Adult Access for Dogs\",\"Adult Paws for Dogs\",\"Junior Access for Dogs\",\"Junior Paws for Dogs\",\"Adult Access for Dogs\",\"Adult Paws for Dogs\",\"Junior Access for Dogs\",\"Junior Paws for Dogs\",\"Adult Access Canine Canada\",\"Adult Access Feline Canada\",\"Adult Paws Plus Cat Canada\",\"Adult Paws Plus Dog Canada\",\"Adult Paws Plus for Cats\",\"Adult Paws Plus for Dogs\",\"Adult Paws for Cat Canada\",\"Adult Paws for Cats\",\"Adult Paws for Dog Canada\",\"Adult Paws for Dogs\",\"Junior Access Canine Canada\",\"Junior Access Feline Canada\",\"Junior Cat Plus Spay Canada\",\"Junior Cats Plus Neuter Canada\",\"Junior Dog Plus Neuter Canada\",\"Junior Dogs Plus Spay Canada\",\"Junior Paws Plus Kitten Neuter\",\"Junior Paws Plus Kitten Spay\",\"Junior Paws Plus Puppy Neuter\",\"Junior Paws Plus Puppy Spay\",\"Junior Paws for Cats\",\"Junior Paws for Cats Canada\",\"Junior Paws for Dogs\",\"Junior Paws for Dogs Canada\",\"Senior Access Canine Canada\",\"Senior Access Feline Canada\",\"Senior Cat Plus for Canada\",\"Senior Dog Plus for Canada\",\"Senior Paws Dog for Canada\",\"Senior Paws Plus for Cats\",\"Senior Paws Plus for Dogs\",\"Senior Paws for Cats\",\"Senior Paws for Cats Canada\",\"Senior Paws for Dogs\",\"Adult Access for Cats\",\"Junior Access for Cats\",\"Adult Access for Dogs\",\"Junior Access for Dogs\",\"Senior Access for Dogs\",\"Adult Access for Cats\",\"Adult Paws for Cats\",\"Junior Access for Cats\",\"Junior Paws for Cats\",\"Adult Access for Cats\",\"Adult Paws for Cats\",\"Junior Access for Cats\",\"Junior Paws for Cats\",\"Adult Access Canine Canada\",\"Senior Access Canine Canada\",\"Adult Access for Cats\",\"Adult Paws for Cats\",\"Junior Access for Cats\",\"Junior Paws for Cats\",\"Adult Access for Cats\",\"Adult Paws for Cats\",\"Junior Access for Cats\",\"Junior Paws for Cats\",\"Adult Access for Dogs\",\"Adult Paws for Dogs\",\"Junior Access for Dogs\",\"Junior Paws for Dogs\",\"Adult Access for Dogs\",\"Adult Paws for Dogs\",\"Junior Access for Dogs\",\"Junior Paws for Dogs\",\"Adult Access for Dogs\",\"Adult Paws for Dogs\",\"Junior Access for Dogs\",\"Junior Paws for Dogs\",\"Junior Paws Plus Kitten Neuter\",\"Junior Paws Plus Kitten Spay\",\"Junior Paws Plus Puppy Neuter\",\"Junior Paws Plus Puppy Spay\",\"Junior Cat Plus Spay Canada\",\"Junior Cats Plus Neuter Canada\",\"Junior Dog Plus Neuter Canada\",\"Junior Dogs Plus Spay Canada\",\"Junior Paws Plus Kitten Neuter\",\"Junior Paws Plus Kitten Spay\",\"Junior Paws Plus Puppy Neuter\",\"Junior Paws Plus Puppy Spay\",\"Adult Access Canine Canada\",\"Adult Access Feline Canada\",\"Junior Access Canine Canada\",\"Junior Access Feline Canada\",\"Senior Access Canine Canada\",\"Junior Paws Plus Kitten Neuter\",\"Junior Paws Plus Kitten Spay\",\"Junior Paws Plus Puppy Neuter\",\"Junior Paws Plus Puppy Spay\",\"Adult Access for Cats\",\"Adult Paws for Cats\",\"Junior Access for Cats\",\"Junior Paws for Cats\",\"Adult Access for Cats\",\"Adult Paws for Cats\",\"Junior Access for Cats\",\"Junior Paws for Cats\",\"Adult Access for Dogs\",\"Adult Paws for Dogs\",\"Junior Access for Dogs\",\"Junior Paws for Dogs\",\"Adult Access for Dogs\",\"Adult Paws for Dogs\",\"Junior Access for Dogs\",\"Junior Paws for Dogs\",\"Adult Access for Dogs\",\"Adult Paws for Dogs\",\"Junior Access for Dogs\",\"Junior Paws for Dogs\",\"Junior Access Canine Canada\",\"Junior Access Feline Canada\",\"Junior Access for Cats\",\"Junior Access for Dogs\",\"Junior Cat Plus Spay Canada\",\"Junior Cats Plus Neuter Canada\",\"Junior Dog Plus Neuter Canada\",\"Junior Dogs Plus Spay Canada\",\"Junior Paws Plus Kitten Neuter\",\"Junior Paws Plus Kitten Spay\",\"Junior Paws Plus Puppy Neuter\",\"Junior Paws Plus Puppy Spay\",\"Junior Paws for Cats\",\"Junior Paws for Cats Canada\",\"Junior Paws for Dogs\",\"Junior Paws for Dogs Canada\",\"Junior Access Canine Canada\",\"Junior Access Feline Canada\",\"Junior Access for Cats\",\"Junior Access for Dogs\",\"Junior Cat Plus Spay Canada\",\"Junior Cats Plus Neuter Canada\",\"Junior Dog Plus Neuter Canada\",\"Junior Dogs Plus Spay Canada\",\"Junior Paws Plus Kitten Neuter\",\"Junior Paws Plus Kitten Spay\",\"Junior Paws Plus Puppy Neuter\",\"Junior Paws Plus Puppy Spay\",\"Junior Paws for Cats\",\"Junior Paws for Cats Canada\",\"Junior Paws for Dogs\",\"Junior Paws for Dogs Canada\",\"Adult Access for Dogs\",\"Senior Access for Dogs\",\"Adult Access for Cats\",\"Senior Access for Cats\",\"Adult Access for Dogs\",\"Senior Access for Dogs\",\"Adult Access Feline Canada\",\"Adult Access for Cats\",\"Adult Paws for Cats\",\"Senior Access Feline Canada\",\"Senior Access for Cats\",\"Senior Paws for Cats\",\"Adult Access Canine Canada\",\"Adult Access for Dogs\",\"Adult Paws for Dogs\",\"Senior Access Canine Canada\",\"Senior Access for Dogs\",\"Senior Paws for Dogs\",\"Adult Access for Cats\",\"Junior Access for Cats\",\"Senior Access for Cats\",\"Adult Access for Cats\",\"Senior Access for Cats\",\"Adult Access for Dogs\",\"Senior Access for Dogs\",\"Junior Access for Dogs\",\"Adult Access for Dogs\",\"Junior Access for Dogs\",\"Adult Access for Dogs\",\"Junior Access for Dogs\",\"Adult Access for Dogs\",\"Senior Access for Dogs\",\"Adult Access for Cats\",\"Senior Access for Cats\",\"Adult Access for Cats\",\"Senior Access for Cats\",\"Adult Access for Dogs\",\"Senior Access for Dogs\",\"Adult Access for Dogs\",\"Senior Access for Dogs\",\"Senior Access for Cats\",\"Senior Access for Dogs\",\"Adult Access Canine Canada\",\"Adult Access Feline Canada\",\"Adult Access for Cats\",\"Adult Access for Dogs\",\"Adult Essentials for Cats\",\"Adult Paws Plus Cat Canada\",\"Adult Paws Plus Dog Canada\",\"Adult Paws Plus for Cats\",\"Adult Paws Plus for Dogs\",\"Adult Paws for Cat Canada\",\"Adult Paws for Cats\",\"Adult Paws for Dog Canada\",\"Adult Paws for Dogs\",\"Adult Premier for Cats\",\"Junior Access Canine Canada\",\"Junior Access Feline Canada\",\"Junior Access for Cats\",\"Junior Access for Dogs\",\"Junior Cat Plus Spay Canada\",\"Junior Cats Plus Neuter Canada\",\"Junior Dog Plus Neuter Canada\",\"Junior Dogs Plus Spay Canada\",\"Junior Paws Plus Kitten Neuter\",\"Junior Paws Plus Kitten Spay\",\"Junior Paws Plus Puppy Neuter\",\"Junior Paws Plus Puppy Spay\",\"Junior Paws for Cats\",\"Junior Paws for Cats Canada\",\"Junior Paws for Dogs\",\"Junior Paws for Dogs Canada\",\"Senior Access Canine Canada\",\"Senior Access Feline Canada\",\"Senior Access for Cats\",\"Senior Access for Dogs\",\"Senior Cat Plus for Canada\",\"Senior Dog Plus for Canada\",\"Senior Paws Dog for Canada\",\"Senior Paws Plus for Cats\",\"Senior Paws Plus for Dogs\",\"Senior Paws for Cats\",\"Senior Paws for Cats Canada\",\"Senior Paws for Dogs\",\"Adult Access for Cats\",\"Senior Access for Cats\",\"Adult Access for Dogs\",\"Senior Access for Dogs\",\"Adult Paws Plus Cat Canada\",\"Adult Paws Plus Dog Canada\",\"Adult Paws Plus for Cats\",\"Adult Paws Plus for Dogs\",\"Senior Cat Plus for Canada\",\"Senior Dog Plus for Canada\",\"Senior Paws Plus for Cats\",\"Senior Paws Plus for Dogs\",\"Senior Access for Dogs\",\"Junior Access for Dogs\",\"Adult Access Canine Canada\",\"Adult Access Feline Canada\",\"Adult Access for Cats\",\"Adult Access for Dogs\",\"Adult Essentials for Cats\",\"Adult Paws Plus Cat Canada\",\"Adult Paws Plus Dog Canada\",\"Adult Paws Plus for Cats\",\"Adult Paws Plus for Dogs\",\"Adult Paws for Cat Canada\",\"Adult Paws for Cats\",\"Adult Paws for Dog Canada\",\"Adult Paws for Dogs\",\"Adult Premier for Cats\",\"Senior Access Canine Canada\",\"Senior Access Feline Canada\",\"Senior Access for Cats\",\"Senior Access for Dogs\",\"Senior Cat Plus for Canada\",\"Senior Dog Plus for Canada\",\"Senior Paws Dog for Canada\",\"Senior Paws Plus for Cats\",\"Senior Paws Plus for Dogs\",\"Senior Paws for Cats\",\"Senior Paws for Cats Canada\",\"Senior Paws for Dogs\",\"\",\"\",\"\",\"\",\"\",\"\",\"\",\"\",\"\",\"\",\"\",\"\",\"\",\"\",\"\",\"\",\"\",\"\",\"\",\"\",\"\",\"\",\"\",\"\",\"\",\"\",\"\",\"\",\"\",\"\",\"\",\"\",\"\",\"\",\"\",\"\",\"\",\"\",\"\",\"\",\"\",\"\"],\"type\":\"sunburst\",\"values\":[1,1,24,49,12,1,10,21,32,120,3,6,2,1,3,9,2,19,6,4,14,8,19,102,14,33,184,97,241,29,145,3582,959,41191,25,182,163,5621,12639,3567,41171,5654,12629,29,145,15,959,20,25,182,163,12,10,29,145,3582,959,41191,25,182,163,5666,12639,3567,41171,145,15,959,20,182,163,12,10,370,288,13,11,145,3582,182,5666,145,3533,182,5585,1238,18726,2,4,6321,1885,4918,3242,38476,10,8,14214,5110,11466,89,12,814,17,312,238,10,8,3,94,135,127,10,7,3567,41171,11,9,15489,5654,12629,370,24,11,9,33,370,288,24,20,15493,114,56,11,9,15489,33,370,288,13,11,4,114,33,370,288,24,20,15493,114,5654,12629,288,20,81,182,163,791,5666,2170,49,12639,81,182,163,791,5666,2170,49,12639,29,11,82,258,26,88,145,1065,3582,229,8759,959,41191,4,33,10,119,265,126,128,370,288,6,10,24,20,5302,39,15493,114,25,3,34,172,81,182,163,791,5666,2170,49,12639,14,8,14,33,184,97,241,1,2,3,25,977,1,17,784,5,47,3663,12,94,3674,3,1,87,199,33,10,126,128,370,288,6,10,24,20,5302,39,15493,114,126,128,370,288,5,8,13,11,4,1,3,3,13,1,2,2,6,52,14,116,2,29,1,6,91,12,93,3,1,2,5300,1,26,4,1,3,2,14,5,2,2,2,3,20,87,26,1059,3567,8750,41171,4,1,2,11,9,5300,15489,788,5654,2166,12629,37,5,132,62,199,29,11,88,145,6,15,229,9,959,20,33,10,126,128,370,288,5,8,13,11,2,39,4,114,25,3,81,182,163,3,12,4,49,10,11,88,1065,229,8759,4,3,81,791,2170,49,1059,8750,4,788,2166,11,88,1065,229,8759,4,3,81,791,2170,49,26,1040,8750,19,4,88,6,229,9,81,3,4,49,126,128,5,8,88,1065,81,791,88,1061,81,789,10,126,128,6,10,5302,39,10,126,128,6,10,5302,39,10,126,128,5,8,2,39,10,126,128,6,10,5302,39,4,108,4,59,128,6,2056,1,2,4,788,2166,126,10,1,7,160,3,44,1902,2,1,1,1,29,43,15,77,9,769,10,285,221,10,6,3,82,124,122,10,7,82,258,26,1058,3567,8750,41171,4,119,265,1,2,11,9,5300,15487,34,172,788,5637,2166,12629,2,14,5,2,2,2,1,3,3,20,106,136,40,3,8,822,13,95,4705,1,5,204,2,20,1039,2,7,558,6,79,3752,184,97,241,65,24,1,69,1,1,126,128,370,288,5,8,13,11,2,39,4,114,2,11,6,8,822,95,4705,5,204,20,1039,7,558,79,3752,29,11,88,145,6,15,229,9,959,20,33,10,126,128,370,288,5,8,13,11,2,39,4,114,25,3,81,182,163,3,12,4,49,10,3,3,12,15,7,4,108,59,2056,7,160,44,1902,5,12,4,108,59,2056,7,160,44,1902,8,822,95,4705,5,204,20,1039,7,558,79,3752,1,2,11,9,126,128,370,288,5,8,13,11,1,1,2,1,2,1,2,11,9,4,108,59,2056,7,160,44,1902,8,822,95,4705,5,204,20,1039,7,558,79,3752,33,10,119,265,126,128,370,288,6,10,24,20,5302,39,15493,114,33,10,119,265,126,128,370,288,6,10,24,20,5302,39,15493,114,2,14,5,2,1,3,3,25,968,1,17,780,5,47,3609,12,94,3626,52,117,13,5,2,184,97,241,2,6,1,8,2,14,5,2,2,2,1,3,3,20,19,102,29,11,69,233,10,68,90,738,2603,172,6014,676,29524,3,33,10,102,220,100,94,341,248,4,8,23,15,4068,29,12581,94,25,3,23,130,52,127,93,542,4315,1703,30,9097,2,2,3,20,88,145,6,15,81,182,3,12,1,1,29,11,82,258,26,88,145,1065,3582,229,8759,959,41191,4,25,3,34,172,81,182,163,791,5649,2170,49,12639,272,96,687,2463,166,948,1851,11383,46457,1775,79094,9931,471060,43,408,138,1594,3772,1990,2014,6118,4739,93,156,391,321,72922,458,226034,1410,251,28,272,1801,1024,2752,1972,10032,84884,24963,471,171814]}],                        {\"legend\":{\"tracegroupgap\":0},\"margin\":{\"t\":60},\"template\":{\"data\":{\"bar\":[{\"error_x\":{\"color\":\"#2a3f5f\"},\"error_y\":{\"color\":\"#2a3f5f\"},\"marker\":{\"line\":{\"color\":\"#E5ECF6\",\"width\":0.5},\"pattern\":{\"fillmode\":\"overlay\",\"size\":10,\"solidity\":0.2}},\"type\":\"bar\"}],\"barpolar\":[{\"marker\":{\"line\":{\"color\":\"#E5ECF6\",\"width\":0.5},\"pattern\":{\"fillmode\":\"overlay\",\"size\":10,\"solidity\":0.2}},\"type\":\"barpolar\"}],\"carpet\":[{\"aaxis\":{\"endlinecolor\":\"#2a3f5f\",\"gridcolor\":\"white\",\"linecolor\":\"white\",\"minorgridcolor\":\"white\",\"startlinecolor\":\"#2a3f5f\"},\"baxis\":{\"endlinecolor\":\"#2a3f5f\",\"gridcolor\":\"white\",\"linecolor\":\"white\",\"minorgridcolor\":\"white\",\"startlinecolor\":\"#2a3f5f\"},\"type\":\"carpet\"}],\"choropleth\":[{\"colorbar\":{\"outlinewidth\":0,\"ticks\":\"\"},\"type\":\"choropleth\"}],\"contour\":[{\"colorbar\":{\"outlinewidth\":0,\"ticks\":\"\"},\"colorscale\":[[0.0,\"#0d0887\"],[0.1111111111111111,\"#46039f\"],[0.2222222222222222,\"#7201a8\"],[0.3333333333333333,\"#9c179e\"],[0.4444444444444444,\"#bd3786\"],[0.5555555555555556,\"#d8576b\"],[0.6666666666666666,\"#ed7953\"],[0.7777777777777778,\"#fb9f3a\"],[0.8888888888888888,\"#fdca26\"],[1.0,\"#f0f921\"]],\"type\":\"contour\"}],\"contourcarpet\":[{\"colorbar\":{\"outlinewidth\":0,\"ticks\":\"\"},\"type\":\"contourcarpet\"}],\"heatmap\":[{\"colorbar\":{\"outlinewidth\":0,\"ticks\":\"\"},\"colorscale\":[[0.0,\"#0d0887\"],[0.1111111111111111,\"#46039f\"],[0.2222222222222222,\"#7201a8\"],[0.3333333333333333,\"#9c179e\"],[0.4444444444444444,\"#bd3786\"],[0.5555555555555556,\"#d8576b\"],[0.6666666666666666,\"#ed7953\"],[0.7777777777777778,\"#fb9f3a\"],[0.8888888888888888,\"#fdca26\"],[1.0,\"#f0f921\"]],\"type\":\"heatmap\"}],\"heatmapgl\":[{\"colorbar\":{\"outlinewidth\":0,\"ticks\":\"\"},\"colorscale\":[[0.0,\"#0d0887\"],[0.1111111111111111,\"#46039f\"],[0.2222222222222222,\"#7201a8\"],[0.3333333333333333,\"#9c179e\"],[0.4444444444444444,\"#bd3786\"],[0.5555555555555556,\"#d8576b\"],[0.6666666666666666,\"#ed7953\"],[0.7777777777777778,\"#fb9f3a\"],[0.8888888888888888,\"#fdca26\"],[1.0,\"#f0f921\"]],\"type\":\"heatmapgl\"}],\"histogram\":[{\"marker\":{\"pattern\":{\"fillmode\":\"overlay\",\"size\":10,\"solidity\":0.2}},\"type\":\"histogram\"}],\"histogram2d\":[{\"colorbar\":{\"outlinewidth\":0,\"ticks\":\"\"},\"colorscale\":[[0.0,\"#0d0887\"],[0.1111111111111111,\"#46039f\"],[0.2222222222222222,\"#7201a8\"],[0.3333333333333333,\"#9c179e\"],[0.4444444444444444,\"#bd3786\"],[0.5555555555555556,\"#d8576b\"],[0.6666666666666666,\"#ed7953\"],[0.7777777777777778,\"#fb9f3a\"],[0.8888888888888888,\"#fdca26\"],[1.0,\"#f0f921\"]],\"type\":\"histogram2d\"}],\"histogram2dcontour\":[{\"colorbar\":{\"outlinewidth\":0,\"ticks\":\"\"},\"colorscale\":[[0.0,\"#0d0887\"],[0.1111111111111111,\"#46039f\"],[0.2222222222222222,\"#7201a8\"],[0.3333333333333333,\"#9c179e\"],[0.4444444444444444,\"#bd3786\"],[0.5555555555555556,\"#d8576b\"],[0.6666666666666666,\"#ed7953\"],[0.7777777777777778,\"#fb9f3a\"],[0.8888888888888888,\"#fdca26\"],[1.0,\"#f0f921\"]],\"type\":\"histogram2dcontour\"}],\"mesh3d\":[{\"colorbar\":{\"outlinewidth\":0,\"ticks\":\"\"},\"type\":\"mesh3d\"}],\"parcoords\":[{\"line\":{\"colorbar\":{\"outlinewidth\":0,\"ticks\":\"\"}},\"type\":\"parcoords\"}],\"pie\":[{\"automargin\":true,\"type\":\"pie\"}],\"scatter\":[{\"marker\":{\"colorbar\":{\"outlinewidth\":0,\"ticks\":\"\"}},\"type\":\"scatter\"}],\"scatter3d\":[{\"line\":{\"colorbar\":{\"outlinewidth\":0,\"ticks\":\"\"}},\"marker\":{\"colorbar\":{\"outlinewidth\":0,\"ticks\":\"\"}},\"type\":\"scatter3d\"}],\"scattercarpet\":[{\"marker\":{\"colorbar\":{\"outlinewidth\":0,\"ticks\":\"\"}},\"type\":\"scattercarpet\"}],\"scattergeo\":[{\"marker\":{\"colorbar\":{\"outlinewidth\":0,\"ticks\":\"\"}},\"type\":\"scattergeo\"}],\"scattergl\":[{\"marker\":{\"colorbar\":{\"outlinewidth\":0,\"ticks\":\"\"}},\"type\":\"scattergl\"}],\"scattermapbox\":[{\"marker\":{\"colorbar\":{\"outlinewidth\":0,\"ticks\":\"\"}},\"type\":\"scattermapbox\"}],\"scatterpolar\":[{\"marker\":{\"colorbar\":{\"outlinewidth\":0,\"ticks\":\"\"}},\"type\":\"scatterpolar\"}],\"scatterpolargl\":[{\"marker\":{\"colorbar\":{\"outlinewidth\":0,\"ticks\":\"\"}},\"type\":\"scatterpolargl\"}],\"scatterternary\":[{\"marker\":{\"colorbar\":{\"outlinewidth\":0,\"ticks\":\"\"}},\"type\":\"scatterternary\"}],\"surface\":[{\"colorbar\":{\"outlinewidth\":0,\"ticks\":\"\"},\"colorscale\":[[0.0,\"#0d0887\"],[0.1111111111111111,\"#46039f\"],[0.2222222222222222,\"#7201a8\"],[0.3333333333333333,\"#9c179e\"],[0.4444444444444444,\"#bd3786\"],[0.5555555555555556,\"#d8576b\"],[0.6666666666666666,\"#ed7953\"],[0.7777777777777778,\"#fb9f3a\"],[0.8888888888888888,\"#fdca26\"],[1.0,\"#f0f921\"]],\"type\":\"surface\"}],\"table\":[{\"cells\":{\"fill\":{\"color\":\"#EBF0F8\"},\"line\":{\"color\":\"white\"}},\"header\":{\"fill\":{\"color\":\"#C8D4E3\"},\"line\":{\"color\":\"white\"}},\"type\":\"table\"}]},\"layout\":{\"annotationdefaults\":{\"arrowcolor\":\"#2a3f5f\",\"arrowhead\":0,\"arrowwidth\":1},\"autotypenumbers\":\"strict\",\"coloraxis\":{\"colorbar\":{\"outlinewidth\":0,\"ticks\":\"\"}},\"colorscale\":{\"diverging\":[[0,\"#8e0152\"],[0.1,\"#c51b7d\"],[0.2,\"#de77ae\"],[0.3,\"#f1b6da\"],[0.4,\"#fde0ef\"],[0.5,\"#f7f7f7\"],[0.6,\"#e6f5d0\"],[0.7,\"#b8e186\"],[0.8,\"#7fbc41\"],[0.9,\"#4d9221\"],[1,\"#276419\"]],\"sequential\":[[0.0,\"#0d0887\"],[0.1111111111111111,\"#46039f\"],[0.2222222222222222,\"#7201a8\"],[0.3333333333333333,\"#9c179e\"],[0.4444444444444444,\"#bd3786\"],[0.5555555555555556,\"#d8576b\"],[0.6666666666666666,\"#ed7953\"],[0.7777777777777778,\"#fb9f3a\"],[0.8888888888888888,\"#fdca26\"],[1.0,\"#f0f921\"]],\"sequentialminus\":[[0.0,\"#0d0887\"],[0.1111111111111111,\"#46039f\"],[0.2222222222222222,\"#7201a8\"],[0.3333333333333333,\"#9c179e\"],[0.4444444444444444,\"#bd3786\"],[0.5555555555555556,\"#d8576b\"],[0.6666666666666666,\"#ed7953\"],[0.7777777777777778,\"#fb9f3a\"],[0.8888888888888888,\"#fdca26\"],[1.0,\"#f0f921\"]]},\"colorway\":[\"#636efa\",\"#EF553B\",\"#00cc96\",\"#ab63fa\",\"#FFA15A\",\"#19d3f3\",\"#FF6692\",\"#B6E880\",\"#FF97FF\",\"#FECB52\"],\"font\":{\"color\":\"#2a3f5f\"},\"geo\":{\"bgcolor\":\"white\",\"lakecolor\":\"white\",\"landcolor\":\"#E5ECF6\",\"showlakes\":true,\"showland\":true,\"subunitcolor\":\"white\"},\"hoverlabel\":{\"align\":\"left\"},\"hovermode\":\"closest\",\"mapbox\":{\"style\":\"light\"},\"paper_bgcolor\":\"white\",\"plot_bgcolor\":\"#E5ECF6\",\"polar\":{\"angularaxis\":{\"gridcolor\":\"white\",\"linecolor\":\"white\",\"ticks\":\"\"},\"bgcolor\":\"#E5ECF6\",\"radialaxis\":{\"gridcolor\":\"white\",\"linecolor\":\"white\",\"ticks\":\"\"}},\"scene\":{\"xaxis\":{\"backgroundcolor\":\"#E5ECF6\",\"gridcolor\":\"white\",\"gridwidth\":2,\"linecolor\":\"white\",\"showbackground\":true,\"ticks\":\"\",\"zerolinecolor\":\"white\"},\"yaxis\":{\"backgroundcolor\":\"#E5ECF6\",\"gridcolor\":\"white\",\"gridwidth\":2,\"linecolor\":\"white\",\"showbackground\":true,\"ticks\":\"\",\"zerolinecolor\":\"white\"},\"zaxis\":{\"backgroundcolor\":\"#E5ECF6\",\"gridcolor\":\"white\",\"gridwidth\":2,\"linecolor\":\"white\",\"showbackground\":true,\"ticks\":\"\",\"zerolinecolor\":\"white\"}},\"shapedefaults\":{\"line\":{\"color\":\"#2a3f5f\"}},\"ternary\":{\"aaxis\":{\"gridcolor\":\"white\",\"linecolor\":\"white\",\"ticks\":\"\"},\"baxis\":{\"gridcolor\":\"white\",\"linecolor\":\"white\",\"ticks\":\"\"},\"bgcolor\":\"#E5ECF6\",\"caxis\":{\"gridcolor\":\"white\",\"linecolor\":\"white\",\"ticks\":\"\"}},\"title\":{\"x\":0.05},\"xaxis\":{\"automargin\":true,\"gridcolor\":\"white\",\"linecolor\":\"white\",\"ticks\":\"\",\"title\":{\"standoff\":15},\"zerolinecolor\":\"white\",\"zerolinewidth\":2},\"yaxis\":{\"automargin\":true,\"gridcolor\":\"white\",\"linecolor\":\"white\",\"ticks\":\"\",\"title\":{\"standoff\":15},\"zerolinecolor\":\"white\",\"zerolinewidth\":2}}}},                        {\"responsive\": true}                    ).then(function(){\n",
       "                            \n",
       "var gd = document.getElementById('396952cb-6f48-4685-ab3a-e3b5af93d021');\n",
       "var x = new MutationObserver(function (mutations, observer) {{\n",
       "        var display = window.getComputedStyle(gd).display;\n",
       "        if (!display || display === 'none') {{\n",
       "            console.log([gd, 'removed!']);\n",
       "            Plotly.purge(gd);\n",
       "            observer.disconnect();\n",
       "        }}\n",
       "}});\n",
       "\n",
       "// Listen for the removal of the full notebook cells\n",
       "var notebookContainer = gd.closest('#notebook-container');\n",
       "if (notebookContainer) {{\n",
       "    x.observe(notebookContainer, {childList: true});\n",
       "}}\n",
       "\n",
       "// Listen for the clearing of the current output cell\n",
       "var outputEl = gd.closest('.output');\n",
       "if (outputEl) {{\n",
       "    x.observe(outputEl, {childList: true});\n",
       "}}\n",
       "\n",
       "                        })                };                });            </script>        </div>"
      ]
     },
     "metadata": {},
     "output_type": "display_data"
    }
   ],
   "source": [
    "fig = px.sunburst(data, path=['WELLNESS_PLAN_NAME', 'SERVICE_NAME'], values='Number_Pets')\n",
    "fig.show()"
   ]
  },
  {
   "cell_type": "code",
   "execution_count": null,
   "id": "3bfc6312",
   "metadata": {},
   "outputs": [],
   "source": []
  }
 ],
 "metadata": {
  "kernelspec": {
   "display_name": "Python 3",
   "language": "python",
   "name": "python3"
  },
  "language_info": {
   "codemirror_mode": {
    "name": "ipython",
    "version": 3
   },
   "file_extension": ".py",
   "mimetype": "text/x-python",
   "name": "python",
   "nbconvert_exporter": "python",
   "pygments_lexer": "ipython3",
   "version": "3.8.8"
  }
 },
 "nbformat": 4,
 "nbformat_minor": 5
}
